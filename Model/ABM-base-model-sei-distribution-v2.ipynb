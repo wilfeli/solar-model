{
 "cells": [
  {
   "cell_type": "markdown",
   "metadata": {},
   "source": [
    "## SEI generation\n",
    "\n",
    "Look at dataset, list by size and pick top 100 "
   ]
  },
  {
   "cell_type": "code",
   "execution_count": 1,
   "metadata": {
    "collapsed": true
   },
   "outputs": [],
   "source": [
    "import json\n",
    "from pprint import pprint\n",
    "import pandas as pd\n",
    "import numpy as np\n",
    "%matplotlib inline\n",
    "import matplotlib.pyplot as plt\n",
    "from matplotlib import cm\n",
    "import matplotlib.patches as mpatches\n",
    "import matplotlib\n",
    "matplotlib.style.use('ggplot')\n",
    "#ols models\n",
    "import statsmodels.formula.api as sm\n",
    "from patsy import dmatrices\n",
    "import re\n",
    "import scipy as sp\n",
    "from tools import print_columns\n",
    "import csv\n",
    "import math"
   ]
  },
  {
   "cell_type": "markdown",
   "metadata": {},
   "source": [
    "Possible screening rules \n",
    "- proximity to homeowner, need population per zip code in San Jose. Simple assume that just density per tile. One tile = one zip code. \n",
    "- offered savings, need to convert price per watt into savings \n",
    "- customer rating \n",
    "- "
   ]
  },
  {
   "cell_type": "markdown",
   "metadata": {},
   "source": [
    "For each in top 100 create customer rating  - scrape yelp  "
   ]
  },
  {
   "cell_type": "markdown",
   "metadata": {},
   "source": [
    "pick 1 installer from narrowed down via screening rules, this installer is offering 1 project - compare to none option and pick it. Depends on the "
   ]
  },
  {
   "cell_type": "markdown",
   "metadata": {},
   "source": [
    "interaction - depends on the number of installed projects - goes by size\n",
    "distribution of locations - from NEM\n"
   ]
  },
  {
   "cell_type": "markdown",
   "metadata": {},
   "source": [
    "warranty - could not get distribution, assume basically it from bla and maybe from survey"
   ]
  },
  {
   "cell_type": "markdown",
   "metadata": {},
   "source": [
    "total project time - ? need to think\n",
    "will have from dataset some version of a time \n"
   ]
  },
  {
   "cell_type": "markdown",
   "metadata": {},
   "source": [
    "equipment technology - will have from dataset, but need to actually transform data - will need a lot of help. \n",
    "Alternative is assign by size with some distribution."
   ]
  },
  {
   "cell_type": "markdown",
   "metadata": {},
   "source": [
    "from panels on the market that are used by installers - get type of installer - panel efficiency, panel visibility"
   ]
  },
  {
   "cell_type": "markdown",
   "metadata": {},
   "source": [
    "1 installer is offering 2? types of systems - look into actual data to see what types they are offering "
   ]
  },
  {
   "cell_type": "markdown",
   "metadata": {},
   "source": [
    "failures in first years - tie into inverter type. \n",
    "Assume basic failure rate. Check with actual data that might get from the survey. \n",
    "Question about amount of maintenance that need"
   ]
  },
  {
   "cell_type": "markdown",
   "metadata": {},
   "source": [
    "Top 100 for each have Rating, InteractionType, EquipmentType, TotalProjectTime, Warranty\n",
    "\n",
    "Generate 100 agents in Python with customization and import list of parameters into c++"
   ]
  },
  {
   "cell_type": "markdown",
   "metadata": {},
   "source": []
  },
  {
   "cell_type": "markdown",
   "metadata": {
    "collapsed": true
   },
   "source": [
    "Getting information from yelp \n",
    "https://github.com/codelucas/yelpcrawl/blob/master/crawler.py\n",
    "https://www.yelp.com/search?start=0&cflt=solarinstallation&find_loc=94536&ns=1\n"
   ]
  },
  {
   "cell_type": "markdown",
   "metadata": {},
   "source": [
    "Estimating costs for SEI\n",
    "http://citeseerx.ist.psu.edu/viewdoc/download?doi=10.1.1.718.3427&rep=rep1&type=pdf\n",
    "    "
   ]
  },
  {
   "cell_type": "code",
   "execution_count": null,
   "metadata": {
    "collapsed": true
   },
   "outputs": [],
   "source": [
    "sei = {'EParamTypes::SEIRating':3.0, \n",
    "       'EParamTypes::SEIInteractionType':0.0,\n",
    "       'EParamTypes::SEIEquipmentType':1.0, \n",
    "       'EParamTypes::SEILeadInProjectTime':10.0, \n",
    "       'EParamTypes::SEIWarranty':5*52}"
   ]
  },
  {
   "cell_type": "code",
   "execution_count": null,
   "metadata": {
    "collapsed": true
   },
   "outputs": [],
   "source": [
    "seis = []\n",
    "#create test sei \n",
    "for i in range(3):\n",
    "    sei['EParamTypes::SEIRating'] = 3.0 + i\n",
    "    seis.append(sei.copy())\n",
    "    "
   ]
  },
  {
   "cell_type": "code",
   "execution_count": null,
   "metadata": {
    "collapsed": true
   },
   "outputs": [],
   "source": [
    "with open('sei-params.json', 'w') as outfile:\n",
    "    json.dump(seis, outfile)"
   ]
  },
  {
   "cell_type": "markdown",
   "metadata": {},
   "source": [
    "Power optimizer producers\n",
    "http://www.solaredge.com/us/products/power-optimizer#/\n",
    "http://www.solaredge.com/sites/default/files/solaredge-reliability-methodology.pdf\n",
    "https://www.energysage.com/solar/101/microinverter-power-optimizer-options\n",
    "\n",
    "   \n",
    "   "
   ]
  },
  {
   "cell_type": "code",
   "execution_count": null,
   "metadata": {
    "collapsed": true
   },
   "outputs": [],
   "source": [
    "#calculator for CO2\n",
    "#https://www.epa.gov/energy/greenhouse-gas-equivalencies-calculator\n",
    "    \n",
    "    \n",
    "1000 - 0.665"
   ]
  },
  {
   "cell_type": "markdown",
   "metadata": {},
   "source": [
    "Estimates for failures\n",
    "http://www1.eere.energy.gov/solar/pdfs/pvmrw2011_01_plen_degraaff.pdf  - number pessimistic of 4% failures at 15 years for one panel\n",
    "file:///Users/wilfeli/ABM/SolarPanels/Readings/IEA-PVPS_T13-01_2014_Review_of_Failures_of_Photovoltaic_Modules_Final.pdf - 2% failure at 10 years\n",
    "\n",
    "http://www.renewableenergyworld.com/articles/2009/09/mtbf-and-reliability-a-misunderstood-relationship-in-solar-pv.html - explanation of MTBF\n",
    "\n",
    "http://pveducation.com/marketing-hype/micro-inverter-mtbf-marketing-hype/ - lower estimate of failures\n",
    "http://www.appropedia.org/Lifespan_and_Reliability_of_Solar_Photovoltaics_-_Literature_Review#MTBF_-_PVm.2C_Mean_Time_Before_Failure_of_Photovoltaic_modules_.282003.29 - general lit review\n",
    "    \n",
    "  \n",
    " http://intigaia.free.fr/BDPV/Documents/rapporto%20finale%20-%20progetto%20eu%205fp%20-%20mean%20time%20before%20failure%20(mtbf)%202003.pdf\n",
    "@article{realini2003mean,\n",
    "title={Mean time before failure of photovoltaic modules},\n",
    "author={Realini, Antonella}\n",
    "} - general info\n",
    "\n",
    "\n",
    "\n",
    "\n",
    "\n",
    "https://matter2energy.wordpress.com/2012/04/09/the-great-microinverter-debate/ - microinverters \n",
    "\n",
    "\n",
    "https://enphase.com/sites/default/files/Enphase-Warranty-US-CA.pdf - warranty for microinverters\n",
    "\n",
    "\n",
    "https://us.sunpower.com/sites/sunpower/files/media-library/white-papers/wp-sunpower-module-degradation-rate.pdf - research into different failure rates\n"
   ]
  },
  {
   "cell_type": "markdown",
   "metadata": {},
   "source": [
    "15 years - 0.04 failed"
   ]
  },
  {
   "cell_type": "markdown",
   "metadata": {},
   "source": [
    "x = 15\n",
    "f = 0.04\n",
    "1-e(-lambda*x) = f\n",
    "-e(-lambda*x) = f - 1\n",
    "e(-lambda*x) = 1 - f\n",
    "-lambda*x = log(1-f)\n",
    "lambda = - log(1-f)/x\n"
   ]
  },
  {
   "cell_type": "code",
   "execution_count": null,
   "metadata": {
    "collapsed": false
   },
   "outputs": [],
   "source": [
    "#from SunPower marketing\n",
    "fail = 0.04\n",
    "x = 15\n",
    "theta_0 = -math.log(1-fail)/x\n",
    "theta_0"
   ]
  },
  {
   "cell_type": "code",
   "execution_count": null,
   "metadata": {
    "collapsed": false
   },
   "outputs": [],
   "source": [
    "#from longitudal Germany study \n",
    "fail = 0.02\n",
    "x = 10\n",
    "theta_0 = -math.log(1-fail)/x\n",
    "theta_0"
   ]
  },
  {
   "cell_type": "code",
   "execution_count": null,
   "metadata": {
    "collapsed": false
   },
   "outputs": [],
   "source": [
    "1/theta_0"
   ]
  },
  {
   "cell_type": "code",
   "execution_count": null,
   "metadata": {
    "collapsed": true
   },
   "outputs": [],
   "source": [
    "Total system falure rate\n",
    "#responsible for pv panels\n",
    "\n",
    "#add inverters \n"
   ]
  },
  {
   "cell_type": "code",
   "execution_count": null,
   "metadata": {
    "collapsed": true
   },
   "outputs": [],
   "source": [
    "MTBF_micro = 300"
   ]
  },
  {
   "cell_type": "code",
   "execution_count": null,
   "metadata": {
    "collapsed": true
   },
   "outputs": [],
   "source": [
    "theta_micro = 1/MTBF_micro"
   ]
  },
  {
   "cell_type": "code",
   "execution_count": null,
   "metadata": {
    "collapsed": false
   },
   "outputs": [],
   "source": [
    "theta_micro"
   ]
  },
  {
   "cell_type": "code",
   "execution_count": null,
   "metadata": {
    "collapsed": false
   },
   "outputs": [],
   "source": [
    "theta_system = theta_0*20 + theta_micro*20\n",
    "1/theta_system"
   ]
  },
  {
   "cell_type": "code",
   "execution_count": null,
   "metadata": {
    "collapsed": true
   },
   "outputs": [],
   "source": [
    "MTBF_string = 10"
   ]
  },
  {
   "cell_type": "code",
   "execution_count": null,
   "metadata": {
    "collapsed": true
   },
   "outputs": [],
   "source": [
    "theta_string = 1/MTBF_string"
   ]
  },
  {
   "cell_type": "code",
   "execution_count": null,
   "metadata": {
    "collapsed": false
   },
   "outputs": [],
   "source": [
    "theta_system = theta_0*20 +  theta_string\n",
    "1/theta_system"
   ]
  },
  {
   "cell_type": "code",
   "execution_count": null,
   "metadata": {
    "collapsed": true
   },
   "outputs": [],
   "source": []
  },
  {
   "cell_type": "code",
   "execution_count": 2,
   "metadata": {
    "collapsed": true
   },
   "outputs": [],
   "source": [
    "#read data\n",
    "df_full = pd.read_csv(\"../../Data/NEM_CurrentlyInterconnectedDataset_2016-12-31.csv\", low_memory=False)\n",
    "df_full.columns = df_full.columns.str.replace(' ','_')"
   ]
  },
  {
   "cell_type": "code",
   "execution_count": 3,
   "metadata": {
    "collapsed": false
   },
   "outputs": [
    {
     "name": "stdout",
     "output_type": "stream",
     "text": [
      "(0, 'Application_Id')\n",
      "(1, 'Matched_CSI_Application_Number')\n",
      "(2, 'Utility')\n",
      "(3, 'Service_City')\n",
      "(4, 'Service_Zip')\n",
      "(5, 'Service_County')\n",
      "(6, 'Technology_Type')\n",
      "(7, 'System_Size_DC')\n",
      "(8, 'System_Size_AC')\n",
      "(9, 'Tilt')\n",
      "(10, 'Azimuth')\n",
      "(11, 'Mounting_Method')\n",
      "(12, 'Tracking')\n",
      "(13, 'Customer_Sector')\n",
      "(14, 'App_Received_Date')\n",
      "(15, 'App_Complete_Date')\n",
      "(16, 'App_Approved_Date')\n",
      "(17, 'Self_Installer')\n",
      "(18, 'Installer_Name')\n",
      "(19, 'Installer_Phone')\n",
      "(20, 'Installer_City')\n",
      "(21, 'Installer_State')\n",
      "(22, 'Installer_Zip')\n",
      "(23, 'CSLB_Number')\n",
      "(24, 'Third_Party_Owned')\n",
      "(25, 'Third_Party_Owned_Type')\n",
      "(26, 'Third_Party_Name')\n",
      "(27, 'Pace_Financed')\n",
      "(28, 'Pace_Financier')\n",
      "(29, 'Electric_Vehicle')\n",
      "(30, 'Electric_Vehicle_Count')\n",
      "(31, 'System_Output_Monitoring')\n",
      "(32, 'System_Output_Reports_To_Vendor?')\n",
      "(33, 'System_Output_Monitoring_Provider')\n",
      "(34, 'Total_System_Cost')\n",
      "(35, 'Itc_Cost_Basis')\n",
      "(36, 'VNEM,_NEM-V,_NEM-Agg')\n",
      "(37, 'Previous_Application')\n",
      "(38, 'NEM_Tariff')\n",
      "(39, 'Previous_Application_Ids')\n",
      "(40, 'Application_Status')\n",
      "(41, 'Project_is_VNEM,_NEM-V,_NEM-Agg?')\n",
      "(42, 'Module_Model_1')\n",
      "(43, 'Module_Manufacturer_1')\n",
      "(44, 'Module_Quantity_1')\n",
      "(45, 'Module_Model_2')\n",
      "(46, 'Module_Manufacturer_2')\n",
      "(47, 'Module_Quantity_2')\n",
      "(48, 'Module_Model_3')\n",
      "(49, 'Module_Manufacturer_3')\n",
      "(50, 'Module_Quantity_3')\n",
      "(51, 'Module_Model_4')\n",
      "(52, 'Module_Manufacturer_4')\n",
      "(53, 'Module_Quantity_4')\n",
      "(54, 'Module_Model_5')\n",
      "(55, 'Module_Manufacturer_5')\n",
      "(56, 'Module_Quantity_5')\n",
      "(57, 'Module_Model_6')\n",
      "(58, 'Module_Manufacturer_6')\n",
      "(59, 'Module_Quantity_6')\n",
      "(60, 'Module_Model_7')\n",
      "(61, 'Module_Manufacturer_7')\n",
      "(62, 'Module_Quantity_7')\n",
      "(63, 'Module_Model_8')\n",
      "(64, 'Module_Manufacturer_8')\n",
      "(65, 'Module_Quantity_8')\n",
      "(66, 'Module_Model_9')\n",
      "(67, 'Module_Manufacturer_9')\n",
      "(68, 'Module_Quantity_9')\n",
      "(69, 'Module_Model_10')\n",
      "(70, 'Module_Manufacturer_10')\n",
      "(71, 'Module_Quantity_10')\n",
      "(72, 'Inverter_Model_1')\n",
      "(73, 'Inverter_Manufacturer_1')\n",
      "(74, 'Inverter_Quantity_1')\n",
      "(75, 'Inverter_Model_2')\n",
      "(76, 'Inverter_Manufacturer_2')\n",
      "(77, 'Inverter_Quantity_2')\n",
      "(78, 'Inverter_Model_3')\n",
      "(79, 'Inverter_Manufacturer_3')\n",
      "(80, 'Inverter_Quantity_3')\n",
      "(81, 'Inverter_Model_4')\n",
      "(82, 'Inverter_Manufacturer_4')\n",
      "(83, 'Inverter_Quantity_4')\n",
      "(84, 'Inverter_Model_5')\n",
      "(85, 'Inverter_Manufacturer_5')\n",
      "(86, 'Inverter_Quantity_5')\n",
      "(87, 'Inverter_Model_6')\n",
      "(88, 'Inverter_Manufacturer_6')\n",
      "(89, 'Inverter_Quantity_6')\n",
      "(90, 'Inverter_Model_7')\n",
      "(91, 'Inverter_Manufacturer_7')\n",
      "(92, 'Inverter_Quantity_7')\n",
      "(93, 'Inverter_Model_8')\n",
      "(94, 'Inverter_Manufacturer_8')\n",
      "(95, 'Inverter_Quantity_8')\n",
      "(96, 'Inverter_Model_9')\n",
      "(97, 'Inverter_Manufacturer_9')\n",
      "(98, 'Inverter_Quantity_9')\n",
      "(99, 'Inverter_Model_10')\n",
      "(100, 'Inverter_Manufacturer_10')\n",
      "(101, 'Inverter_Quantity_10')\n",
      "(102, 'Inverter_Model_11')\n",
      "(103, 'Inverter_Manufacturer_11')\n",
      "(104, 'Inverter_Quantity_11')\n",
      "(105, 'Inverter_Model_12')\n",
      "(106, 'Inverter_Manufacturer_12')\n",
      "(107, 'Inverter_Quantity_12')\n",
      "(108, 'Inverter_Model_13')\n",
      "(109, 'Inverter_Manufacturer_13')\n",
      "(110, 'Inverter_Quantity_13')\n"
     ]
    }
   ],
   "source": [
    "#cheat sheet for column names\n",
    "print_columns(df_full)"
   ]
  },
  {
   "cell_type": "code",
   "execution_count": 4,
   "metadata": {
    "collapsed": false
   },
   "outputs": [],
   "source": [
    "#get year from date\n",
    "df_full.ix[:,'App_Complete_Date'] =  pd.to_datetime(df_full.ix[:,'App_Complete_Date'], infer_datetime_format=True)\n",
    "df_full.ix[:,'App_Received_Date'] =  pd.to_datetime(df_full.ix[:,'App_Received_Date'], infer_datetime_format=True)\n",
    "df_full.ix[:,'App_Approved_Date'] =  pd.to_datetime(df_full.ix[:,'App_Approved_Date'], infer_datetime_format=True)\n",
    "df_full['App_Complete_Date_Year'] = df_full.ix[:,'App_Complete_Date'].dt.year\n",
    "#clean a little bit\n",
    "df_full = df_full[(df_full.T != 0).all()]"
   ]
  },
  {
   "cell_type": "code",
   "execution_count": 5,
   "metadata": {
    "collapsed": false
   },
   "outputs": [
    {
     "name": "stderr",
     "output_type": "stream",
     "text": [
      "C:\\Users\\wilfeli\\Anaconda3\\envs\\aimacro\\lib\\site-packages\\ipykernel\\__main__.py:3: SettingWithCopyWarning: \n",
      "A value is trying to be set on a copy of a slice from a DataFrame.\n",
      "Try using .loc[row_indexer,col_indexer] = value instead\n",
      "\n",
      "See the caveats in the documentation: http://pandas.pydata.org/pandas-docs/stable/indexing.html#indexing-view-versus-copy\n",
      "  app.launch_new_instance()\n"
     ]
    }
   ],
   "source": [
    "#keep cleaning\n",
    "df = df_full[(df_full['App_Complete_Date_Year'] > 2014) & \\\n",
    "             ((df_full['Total_System_Cost'] > 0.0) | \\\n",
    "              (df_full['Itc_Cost_Basis'] > 0.0)) & \\\n",
    "            (df_full['Customer_Sector'] == 'Residential')]\n",
    "df['Installer_Name_clear'] = df['Installer_Name']"
   ]
  },
  {
   "cell_type": "code",
   "execution_count": null,
   "metadata": {
    "collapsed": false
   },
   "outputs": [],
   "source": [
    "df['Customer_Sector'].value_counts()"
   ]
  },
  {
   "cell_type": "code",
   "execution_count": null,
   "metadata": {
    "collapsed": false
   },
   "outputs": [],
   "source": [
    "df['App_Approved_Date'].describe()"
   ]
  },
  {
   "cell_type": "code",
   "execution_count": null,
   "metadata": {
    "collapsed": false
   },
   "outputs": [],
   "source": [
    "df['Installer_Name_clear'].value_counts()"
   ]
  },
  {
   "cell_type": "code",
   "execution_count": 5,
   "metadata": {
    "collapsed": false
   },
   "outputs": [
    {
     "name": "stderr",
     "output_type": "stream",
     "text": [
      "/Users/wilfeli/anaconda/envs/aimacro/lib/python3.5/site-packages/ipykernel/__main__.py:2: SettingWithCopyWarning: \n",
      "A value is trying to be set on a copy of a slice from a DataFrame.\n",
      "Try using .loc[row_indexer,col_indexer] = value instead\n",
      "\n",
      "See the caveats in the documentation: http://pandas.pydata.org/pandas-docs/stable/indexing.html#indexing-view-versus-copy\n",
      "  from ipykernel import kernelapp as app\n"
     ]
    }
   ],
   "source": [
    "#calculate length between receive and approve\n",
    "df['Permit_Length'] = df['App_Received_Date'] - df['App_Approved_Date']"
   ]
  },
  {
   "cell_type": "code",
   "execution_count": null,
   "metadata": {
    "collapsed": false
   },
   "outputs": [],
   "source": [
    "df['Permit_Length'].astype('timedelta64[D]').astype(int).hist()"
   ]
  },
  {
   "cell_type": "code",
   "execution_count": null,
   "metadata": {
    "collapsed": false
   },
   "outputs": [],
   "source": [
    "df['Permit_Length'].astype('timedelta64[D]').astype(int).hist(bins = 100)"
   ]
  },
  {
   "cell_type": "code",
   "execution_count": null,
   "metadata": {
    "collapsed": false
   },
   "outputs": [],
   "source": [
    "df['Permit_Length'].astype('timedelta64[D]').astype(int).describe()"
   ]
  },
  {
   "cell_type": "code",
   "execution_count": null,
   "metadata": {
    "collapsed": true
   },
   "outputs": [],
   "source": []
  },
  {
   "cell_type": "markdown",
   "metadata": {},
   "source": [
    "Create fake sei distribution "
   ]
  },
  {
   "cell_type": "markdown",
   "metadata": {},
   "source": [
    "from yelp - rating + name \n",
    "from name - size = number of installations = collaboration type \n",
    "size = number of installations = number of employed people \n",
    "equipment technology - from data go thorugh each list and assign properties to the techonologies in use\n",
    "total project time - assign uniformly over the resulting distribution \n",
    "\n",
    "\n",
    "data from "
   ]
  },
  {
   "cell_type": "code",
   "execution_count": 6,
   "metadata": {
    "collapsed": true
   },
   "outputs": [],
   "source": [
    "#create dummies for companies\n",
    "def company_dummy(row, templ, name):\n",
    "    if not pd.isnull(row['Installer_Name_clear']):\n",
    "        if templ.search(row['Installer_Name_clear']):\n",
    "            val = name\n",
    "        else:\n",
    "            val = row['Installer_Name_clear']\n",
    "    else:\n",
    "        val = row['Installer_Name_clear']\n",
    "    return val"
   ]
  },
  {
   "cell_type": "code",
   "execution_count": 7,
   "metadata": {
    "collapsed": false
   },
   "outputs": [
    {
     "name": "stderr",
     "output_type": "stream",
     "text": [
      "C:\\Users\\wilfeli\\Anaconda3\\envs\\aimacro\\lib\\site-packages\\ipykernel\\__main__.py:7: SettingWithCopyWarning: \n",
      "A value is trying to be set on a copy of a slice from a DataFrame.\n",
      "Try using .loc[row_indexer,col_indexer] = value instead\n",
      "\n",
      "See the caveats in the documentation: http://pandas.pydata.org/pandas-docs/stable/indexing.html#indexing-view-versus-copy\n"
     ]
    }
   ],
   "source": [
    "regexes = [[r'SolarCity', 'SolarCity Corporation'], \\\n",
    "           [r'SunPower', 'SunPower Corporation'], \\\n",
    "          [r'Sunrun', 'Sunrun Installation Services, Inc'], \\\n",
    "           [r'Petersen\\s+Dean', 'Petersen Dean Roofing & Solar Systems'], \\\n",
    "          [r'Semper Solaris', 'Semper Solaris Construction Inc'], \\\n",
    "          [r'Vivint', 'Vivint Solar Developer, LLC']]\n",
    "\n",
    "for names in regexes:\n",
    "    company_regex = names[0]\n",
    "    replace_name = names[1]\n",
    "    p = re.compile(company_regex, re.IGNORECASE)\n",
    "    df['Installer_Name_clear'] = df.apply (lambda row: company_dummy (row, p, replace_name),axis=1)"
   ]
  },
  {
   "cell_type": "code",
   "execution_count": null,
   "metadata": {
    "collapsed": true
   },
   "outputs": [],
   "source": [
    "# create index with rows that contain SolarCity\n",
    "# just an example of indexing\n",
    "index = (pd.notnull(df['Installer_Name'].str.contains('SolarCity')) & df['Installer_Name'].str.contains('SolarCity'))\n",
    "df[index == True]['Installer_Name'].value_counts()"
   ]
  },
  {
   "cell_type": "code",
   "execution_count": null,
   "metadata": {
    "collapsed": false
   },
   "outputs": [],
   "source": [
    "#see top 100 by number of installations\n",
    "#for each check what equipment they are using - check top 2 in terms of number of installations "
   ]
  },
  {
   "cell_type": "code",
   "execution_count": 8,
   "metadata": {
    "collapsed": false
   },
   "outputs": [],
   "source": [
    "top_names = df['Installer_Name_clear'].value_counts()[0:100]"
   ]
  },
  {
   "cell_type": "code",
   "execution_count": null,
   "metadata": {
    "collapsed": true
   },
   "outputs": [],
   "source": []
  },
  {
   "cell_type": "code",
   "execution_count": null,
   "metadata": {
    "collapsed": true
   },
   "outputs": [],
   "source": []
  },
  {
   "cell_type": "code",
   "execution_count": null,
   "metadata": {
    "collapsed": false
   },
   "outputs": [],
   "source": []
  },
  {
   "cell_type": "code",
   "execution_count": null,
   "metadata": {
    "collapsed": false
   },
   "outputs": [],
   "source": [
    "df[df['Installer_Name_clear'] == top_names.index.values[0]]['Module_Model_1'].value_counts()[0:1]"
   ]
  },
  {
   "cell_type": "code",
   "execution_count": null,
   "metadata": {
    "collapsed": false
   },
   "outputs": [],
   "source": [
    "df[df['Installer_Name_clear'] == top_names.index.values[0]]['Inverter_Model_1'].value_counts()[0:2]"
   ]
  },
  {
   "cell_type": "code",
   "execution_count": null,
   "metadata": {
    "collapsed": false
   },
   "outputs": [],
   "source": [
    "inverter_qn = df[df['Installer_Name_clear'] == top_names.index.values[0]]['Inverter_Quantity_1'].value_counts()"
   ]
  },
  {
   "cell_type": "code",
   "execution_count": null,
   "metadata": {
    "collapsed": false
   },
   "outputs": [],
   "source": [
    "inverter_qn.index.values[0]"
   ]
  },
  {
   "cell_type": "markdown",
   "metadata": {},
   "source": [
    "for each installer look at top 1 solar panel and top 2 inverters add them to general pool of all models that are used and general pool of inverters "
   ]
  },
  {
   "cell_type": "code",
   "execution_count": 9,
   "metadata": {
    "collapsed": false
   },
   "outputs": [],
   "source": [
    "pv_modules = set()\n",
    "pv_modules_by_installer = {}\n",
    "pv_manufacturers = set()\n",
    "for installer in top_names.index.values:\n",
    "    pv_modules.add(df[df['Installer_Name_clear'] == installer]['Module_Model_1'].value_counts()[0:1].index.values[0])\n",
    "    pv_modules_by_installer[installer] = \\\n",
    "                    {'Module_Model_1':df[df['Installer_Name_clear'] == installer]['Module_Model_1'].value_counts()[0:1].index.values[0],\n",
    "                    'Count':df[df['Installer_Name_clear'] == installer]['Module_Model_1'].value_counts()[0:1].values[0]}\n",
    "    pv_manufacturers.add(df[df['Installer_Name_clear'] == installer]['Module_Manufacturer_1'].value_counts()[0:1].index.values[0])\n",
    "\n",
    "    "
   ]
  },
  {
   "cell_type": "code",
   "execution_count": null,
   "metadata": {
    "collapsed": false
   },
   "outputs": [],
   "source": [
    "N_pv_modules = 0.0\n",
    "for iter in pv_modules_by_installer:\n",
    "    N_pv_modules = N_pv_modules + pv_modules_by_installer[iter]['Count']\n",
    "print(N_pv_modules)\n",
    "print(sum(top_names))\n",
    "print(N_pv_modules/sum(top_names))"
   ]
  },
  {
   "cell_type": "code",
   "execution_count": null,
   "metadata": {
    "collapsed": false
   },
   "outputs": [],
   "source": [
    "print(pv_modules)"
   ]
  },
  {
   "cell_type": "code",
   "execution_count": null,
   "metadata": {
    "collapsed": false
   },
   "outputs": [],
   "source": [
    "print(pv_manufacturers)"
   ]
  },
  {
   "cell_type": "code",
   "execution_count": null,
   "metadata": {
    "collapsed": false
   },
   "outputs": [],
   "source": [
    "len(pv_modules)"
   ]
  },
  {
   "cell_type": "code",
   "execution_count": 10,
   "metadata": {
    "collapsed": true
   },
   "outputs": [],
   "source": [
    "#read file with solar equipment\n",
    "with open('../../Data/solar_equipment.json') as data_file:    \n",
    "    pv_modules_data = json.load(data_file)"
   ]
  },
  {
   "cell_type": "code",
   "execution_count": 11,
   "metadata": {
    "collapsed": false
   },
   "outputs": [],
   "source": [
    "i = 0 \n",
    "pv_modules_dataframe_raw = []\n",
    "index_pv_modules_dataframe_raw = []\n",
    "for pv_module in pv_modules_data['solar_modules']:\n",
    "    pv_module['Efficiency'] = \\\n",
    "            float(pv_module[\"STC Power Rating\"]) / float(pv_module[\"Length\"]) / float(pv_module[\"Width\"]) * 1000\n",
    "    pv_module['Count'] = 0.0\n",
    "    pv_modules_dataframe_raw.append([pv_module['Name'], \\\n",
    "                                     pv_module['Efficiency'], \\\n",
    "                                     pv_module['Count']\n",
    "                                   ])\n",
    "    index_pv_modules_dataframe_raw.append(i)\n",
    "    i = i + 1"
   ]
  },
  {
   "cell_type": "code",
   "execution_count": 12,
   "metadata": {
    "collapsed": true
   },
   "outputs": [],
   "source": [
    "df_pv_modules = pd.DataFrame(data=pv_modules_dataframe_raw, \\\n",
    "                             index=index_pv_modules_dataframe_raw, columns = ['Name', 'Efficiency', 'Count'])"
   ]
  },
  {
   "cell_type": "markdown",
   "metadata": {},
   "source": [
    "select records with installer name and top module for that installer, save records into separate database?"
   ]
  },
  {
   "cell_type": "markdown",
   "metadata": {},
   "source": [
    "for each module find final number of uses, it will be its weight"
   ]
  },
  {
   "cell_type": "code",
   "execution_count": 13,
   "metadata": {
    "collapsed": false
   },
   "outputs": [],
   "source": [
    "for installer in top_names.index.values:\n",
    "    name = pv_modules_by_installer[installer]['Module_Model_1']\n",
    "    df_pv_modules.loc[df_pv_modules['Name'] == name, 'Count'] += pv_modules_by_installer[installer]['Count']  "
   ]
  },
  {
   "cell_type": "code",
   "execution_count": null,
   "metadata": {
    "collapsed": false
   },
   "outputs": [],
   "source": [
    "#numpy - calculates only weighted average\n",
    "np.average(a = df_pv_modules['Efficiency'], weights = df_pv_modules['Count'])"
   ]
  },
  {
   "cell_type": "code",
   "execution_count": 22,
   "metadata": {
    "collapsed": true
   },
   "outputs": [],
   "source": [
    "#calculates weighted average and standard deviation\n",
    "def weighted_avg_and_std(values, weights):\n",
    "    \"\"\"\n",
    "    Return the weighted average and standard deviation.\n",
    "\n",
    "    values, weights -- Numpy ndarrays with the same shape.\n",
    "    \"\"\"\n",
    "    average = np.average(values, weights=weights)\n",
    "    V1 = np.sum(weights)\n",
    "    variance = np.average((values-average)**2, weights=weights) * V1 / (V1-1) # Fast and numerically precise\n",
    "    return (average, math.sqrt(variance))"
   ]
  },
  {
   "cell_type": "code",
   "execution_count": 23,
   "metadata": {
    "collapsed": false
   },
   "outputs": [],
   "source": [
    "efficiency_stats = weighted_avg_and_std(df_pv_modules['Efficiency'], df_pv_modules['Count'])"
   ]
  },
  {
   "cell_type": "code",
   "execution_count": 24,
   "metadata": {
    "collapsed": false
   },
   "outputs": [
    {
     "name": "stdout",
     "output_type": "stream",
     "text": [
      "(0.16745981238947105, 0.01647003416731375)\n"
     ]
    }
   ],
   "source": [
    "print(efficiency_stats)"
   ]
  },
  {
   "cell_type": "code",
   "execution_count": null,
   "metadata": {
    "collapsed": false
   },
   "outputs": [],
   "source": [
    "fig, host = plt.subplots()\n",
    "\n",
    "host.hist(df_pv_modules['Efficiency'].values, weights=df_pv_modules['Count'].values)\n",
    "\n",
    "host.set_xlabel(\"Efficiency\")\n",
    "host.set_ylabel(\"Count\")\n",
    "\n",
    "\n",
    "\n",
    "#plt.hist(df_pv_modules['Efficiency'].values, weights=df_pv_modules['Count'].values)\n",
    "plt.savefig('Efficiency_distribution.png', dpi=300)\n",
    "\n",
    "plt.show()"
   ]
  },
  {
   "cell_type": "markdown",
   "metadata": {},
   "source": [
    "if it is +- one standard deviation - code as Standard\n",
    "if higher - Cutting_Edge\n",
    "if lower - Traditional"
   ]
  },
  {
   "cell_type": "markdown",
   "metadata": {},
   "source": [
    "Name, Module_Name_1, Efficiency, Inverter_Name_1, Inverter_Type_1, Inverter_Name_2, Inverter_Type_2, Size, Rating, Interaction, Technology, LeadInProjectTime, Warranty"
   ]
  },
  {
   "cell_type": "code",
   "execution_count": 46,
   "metadata": {
    "collapsed": false
   },
   "outputs": [],
   "source": [
    "inverters_by_installer = {}\n",
    "for installer in top_names.index.values:\n",
    "    inverters_by_installer[installer] = \\\n",
    "        {\n",
    "            'Inverter_Model_1':df[df['Installer_Name_clear'] == installer]['Inverter_Model_1'].value_counts()[0:2].index.values[0],\n",
    "            'Inverter_Model_2':'None'\n",
    "        }\n",
    "    if len(df[df['Installer_Name_clear'] == installer]['Inverter_Model_1'].value_counts()[0:2].index.values) > 1:\n",
    "        inverters_by_installer[installer]['Inverter_Model_2'] = \\\n",
    "        df[df['Installer_Name_clear'] == installer]['Inverter_Model_1'].value_counts()[0:2].index.values[1]"
   ]
  },
  {
   "cell_type": "code",
   "execution_count": 47,
   "metadata": {
    "collapsed": false
   },
   "outputs": [],
   "source": [
    "inverters = set()\n",
    "for installer in top_names.index.values:\n",
    "    inverters.add(inverters_by_installer[installer]['Inverter_Model_1'])\n",
    "    if (inverters_by_installer[installer]['Inverter_Model_2'] != 'None'):\n",
    "        inverters.add(inverters_by_installer[installer]['Inverter_Model_2'])\n"
   ]
  },
  {
   "cell_type": "code",
   "execution_count": 16,
   "metadata": {
    "collapsed": false
   },
   "outputs": [
    {
     "name": "stdout",
     "output_type": "stream",
     "text": [
      "M215-60-2LL-S2X-IG\n",
      "SE 10000A-US (240V)\n",
      "YC500A (240V)\n"
     ]
    }
   ],
   "source": [
    "#look at inverter in big database, check that module count is > 1 and see what is count of inverters, if 1 - central\n",
    "# if >= number of modules - micro \n",
    "#in between - report type\n",
    "inverter_types = {}\n",
    "for inverter in inverters:\n",
    "    row = df[df['Inverter_Model_1'] == inverter].iloc[0,:]\n",
    "    if (row['Module_Quantity_1'] > 1.0):\n",
    "        #check if it is micro\n",
    "        if (row['Inverter_Quantity_1'] >= row['Module_Quantity_1']):\n",
    "            #it is micro \n",
    "            inverter_types[inverter] = 'TechnologyInverterMicro'\n",
    "        elif (row['Inverter_Quantity_1'] == 1):\n",
    "            #it is central\n",
    "            inverter_types[inverter] = 'TechnologyInverterCentral'\n",
    "        else:\n",
    "            print(inverter)"
   ]
  },
  {
   "cell_type": "code",
   "execution_count": 48,
   "metadata": {
    "collapsed": true
   },
   "outputs": [],
   "source": [
    "#add missing types\n",
    "inverter_types['SE 10000A-US (240V)'] = 'TechnologyInverterCentral'\n",
    "inverter_types['M215-60-2LL-S2X-IG'] = 'TechnologyInverterMicro'\n",
    "inverter_types['YC500A (240V)'] = 'TechnologyInverterMicro'\n",
    "inverter_types['M215-60-2LL-S2X'] = 'TechnologyInverterMicro'\n",
    "inverter_types['None'] = None"
   ]
  },
  {
   "cell_type": "code",
   "execution_count": null,
   "metadata": {
    "collapsed": false
   },
   "outputs": [],
   "source": [
    "print(inverter_types['M215-60-2LL-S2X'])"
   ]
  },
  {
   "cell_type": "code",
   "execution_count": null,
   "metadata": {
    "collapsed": false
   },
   "outputs": [],
   "source": [
    "for iter in inverter_types:\n",
    "    if (inverter_types[iter] == 'TechnologyInverterMicro'):\n",
    "        print(iter, inverter_types[iter])\n",
    "        \n",
    "    print(iter, inverter_types[iter])"
   ]
  },
  {
   "cell_type": "code",
   "execution_count": null,
   "metadata": {
    "collapsed": false
   },
   "outputs": [],
   "source": [
    "top_names[top_names.index == 'SolarCity Corporation'].values[0]"
   ]
  },
  {
   "cell_type": "code",
   "execution_count": 18,
   "metadata": {
    "collapsed": false
   },
   "outputs": [],
   "source": [
    "np.random.seed(2016)\n",
    "#draw random nubmer for rating from [3.0 - 0.1, 4.0 - 0.8, 5.0 - 1.0]\n",
    "ratings_raw = np.random.multinomial(1, [0.1, 0.8, 0.1], 100)\n",
    "ratings = np.sum(ratings_raw*np.array([3.0, 4.0, 5.0]), axis = 1)"
   ]
  },
  {
   "cell_type": "code",
   "execution_count": 19,
   "metadata": {
    "collapsed": false
   },
   "outputs": [],
   "source": [
    "#LeadInProjectTime\n",
    "#assume in weeks \n",
    "#assume that it is 2 month +-\n",
    "#ask Kelley about distribution \n",
    "#check that there are questions in the survey about parts and total project time\n",
    "np.array([2.0, 4.0, 8.0, 16.0]) - np.array([2.0]*4)\n",
    "\n",
    "#assume normal with mean = 6 weeks, and std.dev = 2 weeks\n",
    "#is treated as LU required to see project to completion - if collaborative than need more\n",
    "np.random.seed(2016)\n",
    "leadintime = np.random.normal(6, 2, 100)"
   ]
  },
  {
   "cell_type": "code",
   "execution_count": 20,
   "metadata": {
    "collapsed": false
   },
   "outputs": [
    {
     "data": {
      "text/plain": [
       "[5.0, 15.0, 25.0]"
      ]
     },
     "execution_count": 20,
     "metadata": {},
     "output_type": "execute_result"
    }
   ],
   "source": [
    "#Warranty - assume majority are 15 years (labor warranty), tie with customer reports rating\n",
    "warranty = [5.0, 15.0, 25.0]\n",
    "warranty"
   ]
  },
  {
   "cell_type": "code",
   "execution_count": 49,
   "metadata": {
    "collapsed": false
   },
   "outputs": [],
   "source": [
    "df_installers_raw = []\n",
    "index_dataframe_raw = []\n",
    "row = []\n",
    "i = 0\n",
    "\n",
    "for installer in top_names.index.values:\n",
    "    row = [installer, \\\n",
    "           pv_modules_by_installer[installer]['Module_Model_1'], \\\n",
    "          df_pv_modules[df_pv_modules['Name'] == pv_modules_by_installer[installer]['Module_Model_1']]['Efficiency'].values[0],\\\n",
    "          inverters_by_installer[installer]['Inverter_Model_1'], \\\n",
    "          inverter_types[inverters_by_installer[installer]['Inverter_Model_1']], \\\n",
    "          inverters_by_installer[installer]['Inverter_Model_2'], \\\n",
    "          inverter_types[inverters_by_installer[installer]['Inverter_Model_2']], \\\n",
    "          top_names[top_names.index == installer].values[0]]\n",
    "    \n",
    "    \n",
    "    #rztings of the installer, fake\n",
    "    row.append(ratings[i])\n",
    "\n",
    "    \n",
    "    \n",
    "    #calculate interaction \n",
    "    if row[7] < 100:\n",
    "        #assign as Collaborative\n",
    "        row.append('Collaborative')\n",
    "    elif row[7] < 1000:\n",
    "        row.append('Moderate')\n",
    "    else:\n",
    "        row.append('Independent')\n",
    "        \n",
    "        \n",
    "\n",
    "    #calculate equipment type\n",
    "    if row[2] < (efficiency_stats[0] - efficiency_stats[1]):\n",
    "        row.append('Traditional')\n",
    "    elif ((row[2] >= (efficiency_stats[0] - efficiency_stats[1])) and (row[2] < (efficiency_stats[0] + efficiency_stats[1]))):\n",
    "        row.append('Standard') \n",
    "    else:\n",
    "        row.append('CuttingEdge')\n",
    "    \n",
    "    #LeadInProjectTime\n",
    "    if row[9] == 'Collaborative':\n",
    "        row.append(leadintime[i] * 2)\n",
    "    elif row[9] == 'Moderate':\n",
    "        row.append(leadintime[i])\n",
    "    else:\n",
    "        row.append(leadintime[i] * 0.5)    \n",
    "    \n",
    "    \n",
    "    #Warranty \n",
    "    #converts list of warranties into actual warranty uses ratings as indexing into warranties, so 1-1 rating-warranty relationship\n",
    "    row.append(warranty[int(row[8]) - 3])\n",
    "    \n",
    "    index_dataframe_raw.append(i)\n",
    "    \n",
    "    i = i + 1\n",
    "    \n",
    "    df_installers_raw.append(row)"
   ]
  },
  {
   "cell_type": "code",
   "execution_count": null,
   "metadata": {
    "collapsed": false
   },
   "outputs": [],
   "source": [
    "print(df_installers_raw)"
   ]
  },
  {
   "cell_type": "code",
   "execution_count": 50,
   "metadata": {
    "collapsed": false
   },
   "outputs": [],
   "source": [
    "df_installers = pd.DataFrame(data=df_installers_raw, \\\n",
    "                             index=index_dataframe_raw, \\\n",
    "                             columns = ['Name', 'Module_Name_1', \\\n",
    "                                        'Efficiency', 'Inverter_Name_1', \\\n",
    "                                        'Inverter_Type_1', 'Inverter_Name_2', \\\n",
    "                                        'Inverter_Type_2', 'Size', 'Rating', \\\n",
    "                                        'Interaction', 'Technology', 'LeadInProjectTime', \\\n",
    "                                        'Warranty'])"
   ]
  },
  {
   "cell_type": "code",
   "execution_count": 52,
   "metadata": {
    "collapsed": true
   },
   "outputs": [],
   "source": [
    "df_installers['Name'] = df_installers['Name'].str.replace(' ', '_')"
   ]
  },
  {
   "cell_type": "code",
   "execution_count": 57,
   "metadata": {
    "collapsed": true
   },
   "outputs": [],
   "source": [
    "df_installers['Name'] = df_installers['Name'].str.replace(',', '_')"
   ]
  },
  {
   "cell_type": "code",
   "execution_count": 53,
   "metadata": {
    "collapsed": true
   },
   "outputs": [],
   "source": [
    "df_installers['Module_Name_1'] = df_installers['Module_Name_1'].str.replace(' ', '_')"
   ]
  },
  {
   "cell_type": "code",
   "execution_count": 54,
   "metadata": {
    "collapsed": true
   },
   "outputs": [],
   "source": [
    "df_installers['Inverter_Name_1'] = df_installers['Inverter_Name_1'].str.replace(' ', '_')"
   ]
  },
  {
   "cell_type": "code",
   "execution_count": 55,
   "metadata": {
    "collapsed": true
   },
   "outputs": [],
   "source": [
    "df_installers['Inverter_Name_2'] = df_installers['Inverter_Name_2'].str.replace(' ', '_')"
   ]
  },
  {
   "cell_type": "code",
   "execution_count": 58,
   "metadata": {
    "collapsed": true
   },
   "outputs": [],
   "source": [
    "df_installers.to_csv('df_installers.csv', na_rep='none')"
   ]
  },
  {
   "cell_type": "code",
   "execution_count": null,
   "metadata": {
    "collapsed": false
   },
   "outputs": [],
   "source": [
    "df_installers.describe()"
   ]
  },
  {
   "cell_type": "code",
   "execution_count": null,
   "metadata": {
    "collapsed": true
   },
   "outputs": [],
   "source": []
  },
  {
   "cell_type": "code",
   "execution_count": null,
   "metadata": {
    "collapsed": true
   },
   "outputs": [],
   "source": []
  },
  {
   "cell_type": "code",
   "execution_count": null,
   "metadata": {
    "collapsed": true
   },
   "outputs": [],
   "source": []
  },
  {
   "cell_type": "code",
   "execution_count": null,
   "metadata": {
    "collapsed": true
   },
   "outputs": [],
   "source": []
  },
  {
   "cell_type": "code",
   "execution_count": null,
   "metadata": {
    "collapsed": false
   },
   "outputs": [],
   "source": [
    "df_pv_modules[df_pv_modules['Name'] == 'LG300N1C-B3']['Efficiency'].values[0]"
   ]
  },
  {
   "cell_type": "code",
   "execution_count": null,
   "metadata": {
    "collapsed": false
   },
   "outputs": [],
   "source": [
    "top_names[top_names < 1000].hist(bins=100)"
   ]
  },
  {
   "cell_type": "code",
   "execution_count": null,
   "metadata": {
    "collapsed": true
   },
   "outputs": [],
   "source": [
    "#edges 100 - 1000 "
   ]
  },
  {
   "cell_type": "code",
   "execution_count": null,
   "metadata": {
    "collapsed": false
   },
   "outputs": [],
   "source": [
    "#efficiency bins\n",
    "efficiency_bins = [efficiency_stats[0] - efficiency_stats[1], efficiency_stats[0] + efficiency_stats[1]]\n",
    "efficiency_bins"
   ]
  },
  {
   "cell_type": "code",
   "execution_count": null,
   "metadata": {
    "collapsed": true
   },
   "outputs": [],
   "source": []
  },
  {
   "cell_type": "code",
   "execution_count": 31,
   "metadata": {
    "collapsed": false
   },
   "outputs": [],
   "source": [
    "#count number of different pv modules for top installers \n",
    "x = []\n",
    "y = []\n",
    "for installer in top_names.index.values:\n",
    "    x.append(len(df[df['Installer_Name_clear'] == installer]['Module_Model_1'].value_counts()))\n",
    "    y.append(top_names[top_names.index == installer].values[0])"
   ]
  },
  {
   "cell_type": "code",
   "execution_count": 51,
   "metadata": {
    "collapsed": false
   },
   "outputs": [
    {
     "data": {
      "image/png": "[encoded data removed]",
      "text/plain": [
       "<matplotlib.figure.Figure at 0x1fd83329e10>"
      ]
     },
     "metadata": {},
     "output_type": "display_data"
    }
   ],
   "source": [
    "plt.hist(x)\n",
    "plt.xlabel('Number of Panels')\n",
    "plt.ylabel('Number of Installers')\n",
    "plt.savefig('Number_Panels.png', dpi = 300)"
   ]
  },
  {
   "cell_type": "code",
   "execution_count": 46,
   "metadata": {
    "collapsed": false
   },
   "outputs": [
    {
     "data": {
      "text/plain": [
       "<matplotlib.figure.Figure at 0x1fd832ba208>"
      ]
     },
     "metadata": {},
     "output_type": "display_data"
    }
   ],
   "source": []
  },
  {
   "cell_type": "code",
   "execution_count": 33,
   "metadata": {
    "collapsed": false
   },
   "outputs": [
    {
     "data": {
      "text/plain": [
       "[<matplotlib.lines.Line2D at 0x1fd80c0b668>]"
      ]
     },
     "execution_count": 33,
     "metadata": {},
     "output_type": "execute_result"
    },
    {
     "data": {
      "image/png": "[encoded data removed]",
      "text/plain": [
       "<matplotlib.figure.Figure at 0x1fd80bc3160>"
      ]
     },
     "metadata": {},
     "output_type": "display_data"
    }
   ],
   "source": [
    "plt.plot(y,x)"
   ]
  },
  {
   "cell_type": "code",
   "execution_count": null,
   "metadata": {
    "collapsed": true
   },
   "outputs": [],
   "source": [
    "#count number of different pv modules for top installers \n",
    "x = []\n",
    "y = []\n",
    "for installer in top_names.index.values:\n",
    "    x.append(len(df[df['Installer_Name_clear'] == installer]['Inverter_Model_2'].value_counts()))\n",
    "    y.append(top_names[top_names.index == installer].values[0])"
   ]
  },
  {
   "cell_type": "code",
   "execution_count": null,
   "metadata": {
    "collapsed": false
   },
   "outputs": [],
   "source": [
    "plt.plot(y,x)"
   ]
  },
  {
   "cell_type": "code",
   "execution_count": null,
   "metadata": {
    "collapsed": false
   },
   "outputs": [],
   "source": [
    "for installer in top_names.index.values:\n",
    "    x.append(len(df[df['Installer_Name_clear'] == installer]['Inverter_Model_2'].value_counts()))\n",
    "    if x[-1] > 0:\n",
    "        print(df[df['Installer_Name_clear'] == installer]['Inverter_Model_2'].value_counts())\n",
    "        print(installer)\n",
    "        index_ = df[(df['Installer_Name_clear'] == installer) & (df['Inverter_Model_2'] != '')].index\n",
    "        print(df[(df['Installer_Name_clear'] == installer) & (not df['Inverter_Model_2'].isnull)])\n",
    "\n",
    "    "
   ]
  },
  {
   "cell_type": "code",
   "execution_count": null,
   "metadata": {
    "collapsed": true
   },
   "outputs": [],
   "source": [
    "for installer in top_names.index.values:\n",
    "    #DC sizes\n",
    "    "
   ]
  },
  {
   "cell_type": "code",
   "execution_count": null,
   "metadata": {
    "collapsed": true
   },
   "outputs": [],
   "source": [
    "index_installers"
   ]
  },
  {
   "cell_type": "code",
   "execution_count": 11,
   "metadata": {
    "collapsed": false
   },
   "outputs": [
    {
     "data": {
      "text/plain": [
       "<matplotlib.axes._subplots.AxesSubplot at 0x12b13ff60>"
      ]
     },
     "execution_count": 11,
     "metadata": {},
     "output_type": "execute_result"
    },
    {
     "data": {
      "image/png": "[encoded data removed]",
      "text/plain": [
       "<matplotlib.figure.Figure at 0x12b5990b8>"
      ]
     },
     "metadata": {},
     "output_type": "display_data"
    }
   ],
   "source": [
    "df[df['Installer_Name_clear'].isin(top_names.index.values)]['System_Size_DC'].hist()"
   ]
  },
  {
   "cell_type": "code",
   "execution_count": 14,
   "metadata": {
    "collapsed": false
   },
   "outputs": [
    {
     "name": "stderr",
     "output_type": "stream",
     "text": [
      "/Users/wilfeli/anaconda/envs/aimacro/lib/python3.5/site-packages/pandas/core/frame.py:1942: UserWarning: Boolean Series key will be reindexed to match DataFrame index.\n",
      "  \"DataFrame index.\", UserWarning)\n"
     ]
    },
    {
     "data": {
      "image/png": "[encoded data removed]",
      "text/plain": [
       "<matplotlib.figure.Figure at 0x10d878320>"
      ]
     },
     "metadata": {},
     "output_type": "display_data"
    }
   ],
   "source": [
    "plot = pd.DataFrame.hist(df[df['Installer_Name_clear'].isin(top_names.index.values)][df['System_Size_DC'] <= 10], \\\n",
    "                         column='System_Size_DC', bins = 100)"
   ]
  },
  {
   "cell_type": "code",
   "execution_count": null,
   "metadata": {
    "collapsed": true
   },
   "outputs": [],
   "source": [
    "#ask DC or AC in Q.6 is asked"
   ]
  },
  {
   "cell_type": "code",
   "execution_count": null,
   "metadata": {
    "collapsed": true
   },
   "outputs": [],
   "source": [
    "df_short['Count'] = 1"
   ]
  },
  {
   "cell_type": "code",
   "execution_count": null,
   "metadata": {
    "collapsed": true
   },
   "outputs": [],
   "source": []
  },
  {
   "cell_type": "code",
   "execution_count": 2,
   "metadata": {
    "collapsed": true
   },
   "outputs": [],
   "source": [
    "theta_ncdec = [0.83, -0.0000166]"
   ]
  },
  {
   "cell_type": "code",
   "execution_count": 3,
   "metadata": {
    "collapsed": true
   },
   "outputs": [],
   "source": [
    "x = np.arange(10000, 30000)"
   ]
  },
  {
   "cell_type": "code",
   "execution_count": 8,
   "metadata": {
    "collapsed": true
   },
   "outputs": [],
   "source": [
    "def share_nc(x):\n",
    "    return theta_ncdec[0]+theta_ncdec[1]*x"
   ]
  },
  {
   "cell_type": "code",
   "execution_count": 9,
   "metadata": {
    "collapsed": true
   },
   "outputs": [],
   "source": [
    "y = np.array([share_nc(xi) for xi in x])"
   ]
  },
  {
   "cell_type": "code",
   "execution_count": 10,
   "metadata": {
    "collapsed": false
   },
   "outputs": [
    {
     "data": {
      "text/plain": [
       "[<matplotlib.lines.Line2D at 0x287f39f67f0>]"
      ]
     },
     "execution_count": 10,
     "metadata": {},
     "output_type": "execute_result"
    },
    {
     "data": {
      "image/png": "[encoded data removed]",
      "text/plain": [
       "<matplotlib.figure.Figure at 0x287f347bba8>"
      ]
     },
     "metadata": {},
     "output_type": "display_data"
    }
   ],
   "source": [
    "plt.plot(x, y)"
   ]
  },
  {
   "cell_type": "code",
   "execution_count": null,
   "metadata": {
    "collapsed": true
   },
   "outputs": [],
   "source": [
    "#look at the price per watt per size \n",
    "#x - dc size \n",
    "#y - price per watt\n"
   ]
  },
  {
   "cell_type": "code",
   "execution_count": null,
   "metadata": {
    "collapsed": true
   },
   "outputs": [],
   "source": [
    "df_full['Total_System_Cost'] > 0.0) | \\\n",
    "              (df_full['Itc_Cost_Basis']]"
   ]
  },
  {
   "cell_type": "code",
   "execution_count": 26,
   "metadata": {
    "collapsed": false
   },
   "outputs": [
    {
     "name": "stderr",
     "output_type": "stream",
     "text": [
      "C:\\Users\\wilfeli\\Anaconda3\\envs\\aimacro\\lib\\site-packages\\ipykernel\\__main__.py:1: SettingWithCopyWarning: \n",
      "A value is trying to be set on a copy of a slice from a DataFrame.\n",
      "Try using .loc[row_indexer,col_indexer] = value instead\n",
      "\n",
      "See the caveats in the documentation: http://pandas.pydata.org/pandas-docs/stable/indexing.html#indexing-view-versus-copy\n",
      "  if __name__ == '__main__':\n"
     ]
    }
   ],
   "source": [
    "df['Price_Per_Watt'] = df['Total_System_Cost']/df['System_Size_DC']/1000"
   ]
  },
  {
   "cell_type": "code",
   "execution_count": null,
   "metadata": {
    "collapsed": false
   },
   "outputs": [],
   "source": [
    "index = ((df['Price_Per_Watt'] < 10.0) & (df['System_Size_DC'] < 3.0) & (df['System_Size_DC'] > 0.0) & (df['Price_Per_Watt'] > 0.0))"
   ]
  },
  {
   "cell_type": "code",
   "execution_count": null,
   "metadata": {
    "collapsed": false
   },
   "outputs": [],
   "source": [
    "df[index==True].describe()"
   ]
  },
  {
   "cell_type": "code",
   "execution_count": 25,
   "metadata": {
    "collapsed": false
   },
   "outputs": [
    {
     "data": {
      "text/plain": [
       "count    87751.000000\n",
       "mean         5.580482\n",
       "std          4.788836\n",
       "min         -6.981600\n",
       "25%          3.665600\n",
       "50%          5.033673\n",
       "75%          6.869388\n",
       "max        652.687755\n",
       "Name: System_Size_DC, dtype: float64"
      ]
     },
     "execution_count": 25,
     "metadata": {},
     "output_type": "execute_result"
    }
   ],
   "source": [
    "df['System_Size_DC'].describe()"
   ]
  },
  {
   "cell_type": "code",
   "execution_count": 39,
   "metadata": {
    "collapsed": false
   },
   "outputs": [
    {
     "data": {
      "text/plain": [
       "[<matplotlib.lines.Line2D at 0x1b58ce92eb8>]"
      ]
     },
     "execution_count": 39,
     "metadata": {},
     "output_type": "execute_result"
    },
    {
     "data": {
      "image/png": "[encoded data removed]",
      "text/plain": [
       "<matplotlib.figure.Figure at 0x1b58ce247b8>"
      ]
     },
     "metadata": {},
     "output_type": "display_data"
    }
   ],
   "source": [
    "plt.plot(df[index==True]['System_Size_DC'], df[index==True]['Price_Per_Watt'])"
   ]
  },
  {
   "cell_type": "code",
   "execution_count": 36,
   "metadata": {
    "collapsed": false
   },
   "outputs": [
    {
     "data": {
      "text/plain": [
       "0.026757629890480639"
      ]
     },
     "execution_count": 36,
     "metadata": {},
     "output_type": "execute_result"
    }
   ],
   "source": [
    "df[index==True]['System_Size_DC'].corr(df[index==True]['Price_Per_Watt'])"
   ]
  },
  {
   "cell_type": "code",
   "execution_count": 40,
   "metadata": {
    "collapsed": false
   },
   "outputs": [
    {
     "data": {
      "text/plain": [
       "(array([  307.,   176.,   557.,  2052.,  5874.,  6065.,  1806.,  1065.,\n",
       "          470.,   210.]),\n",
       " array([  2.01025641e-04,   9.99348797e-01,   1.99849657e+00,\n",
       "          2.99764434e+00,   3.99679211e+00,   4.99593988e+00,\n",
       "          5.99508765e+00,   6.99423543e+00,   7.99338320e+00,\n",
       "          8.99253097e+00,   9.99167874e+00]),\n",
       " <a list of 10 Patch objects>)"
      ]
     },
     "execution_count": 40,
     "metadata": {},
     "output_type": "execute_result"
    },
    {
     "data": {
      "image/png": "[encoded data removed]",
      "text/plain": [
       "<matplotlib.figure.Figure at 0x1b58ce9d080>"
      ]
     },
     "metadata": {},
     "output_type": "display_data"
    }
   ],
   "source": [
    "plt.hist(df[index==True]['Price_Per_Watt'])"
   ]
  },
  {
   "cell_type": "code",
   "execution_count": null,
   "metadata": {
    "collapsed": true
   },
   "outputs": [],
   "source": [
    "plt.plot(df[index == True]['System_Size_DC'], \\\n",
    "        df[index == True]['Price_Per_Watt'])"
   ]
  }
 ],
 "metadata": {
  "anaconda-cloud": {},
  "kernelspec": {
   "display_name": "Python [default]",
   "language": "python",
   "name": "python3"
  },
  "language_info": {
   "codemirror_mode": {
    "name": "ipython",
    "version": 3
   },
   "file_extension": ".py",
   "mimetype": "text/x-python",
   "name": "python",
   "nbconvert_exporter": "python",
   "pygments_lexer": "ipython3",
   "version": "3.5.2"
  }
 },
 "nbformat": 4,
 "nbformat_minor": 0
}
