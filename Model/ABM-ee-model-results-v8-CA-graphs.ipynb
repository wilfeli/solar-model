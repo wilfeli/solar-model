{
 "cells": [
  {
   "cell_type": "code",
   "execution_count": 105,
   "metadata": {
    "collapsed": true
   },
   "outputs": [],
   "source": [
    "# sample.py\n",
    "import ctypes\n",
    "import os\n",
    "import threading\n",
    "import pandas as pd\n",
    "import numpy as np\n",
    "%matplotlib inline\n",
    "import matplotlib.pyplot as plt\n",
    "import matplotlib\n",
    "from matplotlib import cm\n",
    "matplotlib.style.use('ggplot')\n",
    "import math\n",
    "import concurrent.futures\n",
    "import glob\n",
    "import json\n",
    "import scipy as sp\n",
    "import scipy.special\n",
    "from matplotlib.ticker import FormatStrFormatter\n",
    "from itertools import chain"
   ]
  },
  {
   "cell_type": "markdown",
   "metadata": {
    "collapsed": true
   },
   "source": [
    "# Graphs for simulation results"
   ]
  },
  {
   "cell_type": "markdown",
   "metadata": {},
   "source": [
    "## Read results of multiple simulations."
   ]
  },
  {
   "cell_type": "code",
   "execution_count": 165,
   "metadata": {
    "collapsed": true
   },
   "outputs": [],
   "source": [
    "data_mode = 'CA'"
   ]
  },
  {
   "cell_type": "code",
   "execution_count": 166,
   "metadata": {
    "collapsed": true
   },
   "outputs": [],
   "source": [
    "test_mode = 'Apr-25-2017/EEModel/RelBaseLearn08/'\n",
    "test_name = 'RelBaseLearn08'"
   ]
  },
  {
   "cell_type": "code",
   "execution_count": 167,
   "metadata": {
    "collapsed": false
   },
   "outputs": [
    {
     "data": {
      "text/html": [
       "<div>\n",
       "<table border=\"1\" class=\"dataframe\">\n",
       "  <thead>\n",
       "    <tr style=\"text-align: right;\">\n",
       "      <th></th>\n",
       "      <th>N_installed</th>\n",
       "      <th>N_installed_sum</th>\n",
       "      <th>P_av_total</th>\n",
       "      <th>P_av</th>\n",
       "      <th>sei_0</th>\n",
       "      <th>sei_1</th>\n",
       "      <th>sei_2</th>\n",
       "      <th>sei_rel_0</th>\n",
       "      <th>sei_rel_1</th>\n",
       "      <th>sei_rel_2</th>\n",
       "      <th>...</th>\n",
       "      <th>sem_rel_4</th>\n",
       "      <th>sem_rel_5</th>\n",
       "      <th>sem_rel_6</th>\n",
       "      <th>sei_N_0</th>\n",
       "      <th>sei_N_1</th>\n",
       "      <th>sei_N_2</th>\n",
       "      <th>sem_max</th>\n",
       "      <th>sem_rel_min</th>\n",
       "      <th>sei_max</th>\n",
       "      <th>sei_rel_min</th>\n",
       "    </tr>\n",
       "  </thead>\n",
       "  <tbody>\n",
       "    <tr>\n",
       "      <th>0</th>\n",
       "      <td>12.80</td>\n",
       "      <td>12.80</td>\n",
       "      <td>3.569330</td>\n",
       "      <td>3.653400</td>\n",
       "      <td>0.179230</td>\n",
       "      <td>0.175901</td>\n",
       "      <td>0.176791</td>\n",
       "      <td>0.238260</td>\n",
       "      <td>0.224096</td>\n",
       "      <td>0.218320</td>\n",
       "      <td>...</td>\n",
       "      <td>0.260137</td>\n",
       "      <td>0.220585</td>\n",
       "      <td>0.257514</td>\n",
       "      <td>3.89</td>\n",
       "      <td>4.55</td>\n",
       "      <td>4.36</td>\n",
       "      <td>0.221515</td>\n",
       "      <td>0.074906</td>\n",
       "      <td>0.160435</td>\n",
       "      <td>0.172439</td>\n",
       "    </tr>\n",
       "    <tr>\n",
       "      <th>1</th>\n",
       "      <td>12.14</td>\n",
       "      <td>24.94</td>\n",
       "      <td>3.675686</td>\n",
       "      <td>3.744680</td>\n",
       "      <td>0.184963</td>\n",
       "      <td>0.176469</td>\n",
       "      <td>0.182560</td>\n",
       "      <td>0.361897</td>\n",
       "      <td>0.322882</td>\n",
       "      <td>0.253941</td>\n",
       "      <td>...</td>\n",
       "      <td>0.363290</td>\n",
       "      <td>0.303303</td>\n",
       "      <td>0.357325</td>\n",
       "      <td>7.65</td>\n",
       "      <td>8.72</td>\n",
       "      <td>8.57</td>\n",
       "      <td>0.233370</td>\n",
       "      <td>0.049735</td>\n",
       "      <td>0.163513</td>\n",
       "      <td>0.130871</td>\n",
       "    </tr>\n",
       "    <tr>\n",
       "      <th>2</th>\n",
       "      <td>11.23</td>\n",
       "      <td>36.17</td>\n",
       "      <td>3.758899</td>\n",
       "      <td>3.846227</td>\n",
       "      <td>0.189167</td>\n",
       "      <td>0.182239</td>\n",
       "      <td>0.195315</td>\n",
       "      <td>0.374968</td>\n",
       "      <td>0.446770</td>\n",
       "      <td>0.320749</td>\n",
       "      <td>...</td>\n",
       "      <td>0.488852</td>\n",
       "      <td>0.452102</td>\n",
       "      <td>0.390336</td>\n",
       "      <td>11.30</td>\n",
       "      <td>12.55</td>\n",
       "      <td>12.32</td>\n",
       "      <td>0.243529</td>\n",
       "      <td>0.036357</td>\n",
       "      <td>0.168291</td>\n",
       "      <td>0.118141</td>\n",
       "    </tr>\n",
       "    <tr>\n",
       "      <th>3</th>\n",
       "      <td>10.27</td>\n",
       "      <td>46.44</td>\n",
       "      <td>3.797874</td>\n",
       "      <td>3.880160</td>\n",
       "      <td>0.204931</td>\n",
       "      <td>0.195560</td>\n",
       "      <td>0.199897</td>\n",
       "      <td>0.846371</td>\n",
       "      <td>0.425773</td>\n",
       "      <td>0.443714</td>\n",
       "      <td>...</td>\n",
       "      <td>0.895787</td>\n",
       "      <td>0.583267</td>\n",
       "      <td>0.605624</td>\n",
       "      <td>14.56</td>\n",
       "      <td>15.89</td>\n",
       "      <td>15.99</td>\n",
       "      <td>0.256065</td>\n",
       "      <td>0.033527</td>\n",
       "      <td>0.177581</td>\n",
       "      <td>0.150462</td>\n",
       "    </tr>\n",
       "    <tr>\n",
       "      <th>4</th>\n",
       "      <td>9.46</td>\n",
       "      <td>55.90</td>\n",
       "      <td>3.781338</td>\n",
       "      <td>3.862571</td>\n",
       "      <td>0.208727</td>\n",
       "      <td>0.200572</td>\n",
       "      <td>0.203236</td>\n",
       "      <td>1.392772</td>\n",
       "      <td>0.729225</td>\n",
       "      <td>0.462132</td>\n",
       "      <td>...</td>\n",
       "      <td>1.020705</td>\n",
       "      <td>0.843151</td>\n",
       "      <td>0.748197</td>\n",
       "      <td>17.89</td>\n",
       "      <td>19.10</td>\n",
       "      <td>18.91</td>\n",
       "      <td>0.267333</td>\n",
       "      <td>0.028110</td>\n",
       "      <td>0.181392</td>\n",
       "      <td>0.136159</td>\n",
       "    </tr>\n",
       "  </tbody>\n",
       "</table>\n",
       "<p>5 rows × 31 columns</p>\n",
       "</div>"
      ],
      "text/plain": [
       "   N_installed  N_installed_sum  P_av_total      P_av     sei_0     sei_1  \\\n",
       "0        12.80            12.80    3.569330  3.653400  0.179230  0.175901   \n",
       "1        12.14            24.94    3.675686  3.744680  0.184963  0.176469   \n",
       "2        11.23            36.17    3.758899  3.846227  0.189167  0.182239   \n",
       "3        10.27            46.44    3.797874  3.880160  0.204931  0.195560   \n",
       "4         9.46            55.90    3.781338  3.862571  0.208727  0.200572   \n",
       "\n",
       "      sei_2  sei_rel_0  sei_rel_1  sei_rel_2     ...       sem_rel_4  \\\n",
       "0  0.176791   0.238260   0.224096   0.218320     ...        0.260137   \n",
       "1  0.182560   0.361897   0.322882   0.253941     ...        0.363290   \n",
       "2  0.195315   0.374968   0.446770   0.320749     ...        0.488852   \n",
       "3  0.199897   0.846371   0.425773   0.443714     ...        0.895787   \n",
       "4  0.203236   1.392772   0.729225   0.462132     ...        1.020705   \n",
       "\n",
       "   sem_rel_5  sem_rel_6  sei_N_0  sei_N_1  sei_N_2   sem_max  sem_rel_min  \\\n",
       "0   0.220585   0.257514     3.89     4.55     4.36  0.221515     0.074906   \n",
       "1   0.303303   0.357325     7.65     8.72     8.57  0.233370     0.049735   \n",
       "2   0.452102   0.390336    11.30    12.55    12.32  0.243529     0.036357   \n",
       "3   0.583267   0.605624    14.56    15.89    15.99  0.256065     0.033527   \n",
       "4   0.843151   0.748197    17.89    19.10    18.91  0.267333     0.028110   \n",
       "\n",
       "    sei_max  sei_rel_min  \n",
       "0  0.160435     0.172439  \n",
       "1  0.163513     0.130871  \n",
       "2  0.168291     0.118141  \n",
       "3  0.177581     0.150462  \n",
       "4  0.181392     0.136159  \n",
       "\n",
       "[5 rows x 31 columns]"
      ]
     },
     "execution_count": 167,
     "metadata": {},
     "output_type": "execute_result"
    }
   ],
   "source": [
    "#names of columns in a file\n",
    "names = ['N_installed', 'N_installed_sum', 'P_av_total', 'P_av']\n",
    "for i in range(3):\n",
    "    names.append('sei_' + str(i))\n",
    "for i in range(3):\n",
    "    names.append('sei_rel_' + str(i))\n",
    "for i in range(7):\n",
    "    names.append('sem_' + str(i))\n",
    "for i in range(7):\n",
    "    names.append('sem_rel_' + str(i))\n",
    "for i in range(3):\n",
    "    names.append('sei_N_' + str(i))\n",
    "\n",
    "\n",
    "#read few files\n",
    "#save into database\n",
    "dfs_ = []\n",
    "#read last simulation result\n",
    "files = glob.glob('/Users/wilfeli/Dropbox/ABM/SolarPanels/ABMIRISLab/Saves/' + test_mode + data_mode + '/*[_w].csv')\n",
    "files.sort(key=os.path.getmtime, reverse=True)\n",
    "\n",
    "#indexing_range = chain(range(0,26), \\)\n",
    "\n",
    "\n",
    "indexing_range = range(0,100)\n",
    "\n",
    "\n",
    "#take top x files \n",
    "for file in [files[i] for i in indexing_range]:\n",
    "    df_ = pd.read_csv(file, names=names, \\\n",
    "                      low_memory=False, \\\n",
    "                     na_values = ['-nan(ind)'])\n",
    "    \n",
    "     #create new column with max and min\n",
    "    df_['sem_max'] = df_[['sem_' + str(i) for i in range(7)]].max(axis=1)\n",
    "    df_['sem_rel_min'] = df_[['sem_rel_' + str(i) for i in range(7)]].min(axis=1)\n",
    "    df_['sei_max'] = df_[['sei_' + str(i) for i in range(3)]].min(axis=1)\n",
    "    df_['sei_rel_min'] = df_[['sei_rel_' + str(i) for i in range(3)]].min(axis=1)\n",
    "    \n",
    "    dfs_.append(df_)\n",
    "    \n",
    "\n",
    "    \n",
    "#create df from them    \n",
    "df_concat = pd.concat(dfs_)\n",
    "df = df_concat.groupby(level=0).mean()\n",
    "df_std = df_concat.groupby(level=0).std()\n",
    "\n",
    "#alternative way to calculate means\n",
    "by_row_index = df_concat.groupby(df_concat.index)\n",
    "df_means = by_row_index.mean()\n",
    "df_means.head()"
   ]
  },
  {
   "cell_type": "code",
   "execution_count": 168,
   "metadata": {
    "collapsed": false
   },
   "outputs": [
    {
     "data": {
      "text/html": [
       "<div>\n",
       "<table border=\"1\" class=\"dataframe\">\n",
       "  <thead>\n",
       "    <tr style=\"text-align: right;\">\n",
       "      <th></th>\n",
       "      <th>Income</th>\n",
       "      <th>ElectricityBill</th>\n",
       "      <th>House_size</th>\n",
       "      <th>TimeInstalled</th>\n",
       "      <th>bInstalled</th>\n",
       "    </tr>\n",
       "  </thead>\n",
       "  <tbody>\n",
       "    <tr>\n",
       "      <th>count</th>\n",
       "      <td>1.000000e+05</td>\n",
       "      <td>100000.000000</td>\n",
       "      <td>100000.000000</td>\n",
       "      <td>100000.000000</td>\n",
       "      <td>100000.000000</td>\n",
       "    </tr>\n",
       "    <tr>\n",
       "      <th>mean</th>\n",
       "      <td>1.526279e+05</td>\n",
       "      <td>159.099068</td>\n",
       "      <td>2729.545369</td>\n",
       "      <td>1.262740</td>\n",
       "      <td>0.212550</td>\n",
       "    </tr>\n",
       "    <tr>\n",
       "      <th>std</th>\n",
       "      <td>1.518702e+05</td>\n",
       "      <td>101.349957</td>\n",
       "      <td>2121.504948</td>\n",
       "      <td>3.798712</td>\n",
       "      <td>0.409114</td>\n",
       "    </tr>\n",
       "    <tr>\n",
       "      <th>min</th>\n",
       "      <td>4.075680e-01</td>\n",
       "      <td>0.009958</td>\n",
       "      <td>5.279040</td>\n",
       "      <td>-1.000000</td>\n",
       "      <td>0.000000</td>\n",
       "    </tr>\n",
       "    <tr>\n",
       "      <th>25%</th>\n",
       "      <td>6.315427e+04</td>\n",
       "      <td>88.207025</td>\n",
       "      <td>1632.255000</td>\n",
       "      <td>0.000000</td>\n",
       "      <td>0.000000</td>\n",
       "    </tr>\n",
       "    <tr>\n",
       "      <th>50%</th>\n",
       "      <td>1.103815e+05</td>\n",
       "      <td>137.925000</td>\n",
       "      <td>2335.635000</td>\n",
       "      <td>0.000000</td>\n",
       "      <td>0.000000</td>\n",
       "    </tr>\n",
       "    <tr>\n",
       "      <th>75%</th>\n",
       "      <td>1.843458e+05</td>\n",
       "      <td>206.755250</td>\n",
       "      <td>3292.195000</td>\n",
       "      <td>0.000000</td>\n",
       "      <td>0.000000</td>\n",
       "    </tr>\n",
       "    <tr>\n",
       "      <th>max</th>\n",
       "      <td>3.696740e+06</td>\n",
       "      <td>3243.710000</td>\n",
       "      <td>68925.400000</td>\n",
       "      <td>19.000000</td>\n",
       "      <td>1.000000</td>\n",
       "    </tr>\n",
       "  </tbody>\n",
       "</table>\n",
       "</div>"
      ],
      "text/plain": [
       "             Income  ElectricityBill     House_size  TimeInstalled  \\\n",
       "count  1.000000e+05    100000.000000  100000.000000  100000.000000   \n",
       "mean   1.526279e+05       159.099068    2729.545369       1.262740   \n",
       "std    1.518702e+05       101.349957    2121.504948       3.798712   \n",
       "min    4.075680e-01         0.009958       5.279040      -1.000000   \n",
       "25%    6.315427e+04        88.207025    1632.255000       0.000000   \n",
       "50%    1.103815e+05       137.925000    2335.635000       0.000000   \n",
       "75%    1.843458e+05       206.755250    3292.195000       0.000000   \n",
       "max    3.696740e+06      3243.710000   68925.400000      19.000000   \n",
       "\n",
       "          bInstalled  \n",
       "count  100000.000000  \n",
       "mean        0.212550  \n",
       "std         0.409114  \n",
       "min         0.000000  \n",
       "25%         0.000000  \n",
       "50%         0.000000  \n",
       "75%         0.000000  \n",
       "max         1.000000  "
      ]
     },
     "execution_count": 168,
     "metadata": {},
     "output_type": "execute_result"
    }
   ],
   "source": [
    "#names of columns in a file\n",
    "names = ['Income', 'ElectricityBill', 'House_size', 'TimeInstalled', 'bInstalled']\n",
    "\n",
    "\n",
    "#read few files\n",
    "#save into database\n",
    "dfs_hos_ = []\n",
    "#read last simulation result\n",
    "#files = glob.glob('../../ABMIRISLab/Saves/EEModel/*.csv')\n",
    "files = glob.glob('/Users/wilfeli/Dropbox/ABM/SolarPanels/ABMIRISLab/Saves/' + test_mode + data_mode + '/*[_hos].csv')\n",
    "files.sort(key=os.path.getmtime, reverse=True)\n",
    "\n",
    "\n",
    "indexing_range = range(0,100)\n",
    "\n",
    "#take top x files \n",
    "for file in [files[i] for i in indexing_range]:\n",
    "    df_ = pd.read_csv(file, names=names, low_memory=False)\n",
    "    dfs_hos_.append(df_.reset_index(drop=True))\n",
    "\n",
    "#create df from them    \n",
    "df_hos_concat = pd.concat(dfs_hos_, axis=0, ignore_index=True)\n",
    "\n",
    "df_hos_concat.describe()"
   ]
  },
  {
   "cell_type": "code",
   "execution_count": 169,
   "metadata": {
    "collapsed": true
   },
   "outputs": [],
   "source": [
    "bins_income = [0, 2499, 4999, 7499, 9999, \\\n",
    "    14999, 19999, 24999, 29999, 34999, 39999, \\\n",
    "    44999, 49999, 54999, 59999, 64999, \\\n",
    "        69999, 74999, 79999, 84999, 89999, \\\n",
    "        94999, 99999, 119999, np.inf]"
   ]
  },
  {
   "cell_type": "code",
   "execution_count": 170,
   "metadata": {
    "collapsed": false
   },
   "outputs": [],
   "source": [
    "#recreates bins for income for raw data\n",
    "df_hos_concat['Income_C'] = pd.cut(df_hos_concat['Income'], \\\n",
    "                                   bins = bins_income, labels = False, retbins=True)[0]\n",
    "\n",
    "\n",
    "y_1 = df_hos_concat.groupby('Income_C')['bInstalled'].mean()\n",
    "y_1_std = df_hos_concat.groupby('Income_C')['bInstalled'].std()\n"
   ]
  },
  {
   "cell_type": "code",
   "execution_count": 171,
   "metadata": {
    "collapsed": false
   },
   "outputs": [],
   "source": [
    "bins_elect = np.array([0.0, 2500.0, 5000.0, 7500.0, 10000.0, 12500.0, \\\n",
    "                       15000.0, 17500.0, 20000.0, 22500.0, 25000.0, \\\n",
    "                       30000.0, 35000.0, 40000.0, 50000.0, 75000.0, np.inf], dtype = np.float32)\n",
    "ELECTRICITY_PRICE_US_DEMAND = 0.15\n",
    "bins_elect_adj = bins_elect*ELECTRICITY_PRICE_US_DEMAND/365.25*30"
   ]
  },
  {
   "cell_type": "code",
   "execution_count": 172,
   "metadata": {
    "collapsed": false
   },
   "outputs": [],
   "source": [
    "df_hos_concat['ElectricityBill_C'] = pd.cut(df_hos_concat['ElectricityBill'], \\\n",
    "                                   bins = bins_elect_adj, labels = False, retbins=True)[0]\n",
    "y_2 = df_hos_concat.groupby('ElectricityBill_C')['bInstalled'].mean()\n",
    "y_2_std = df_hos_concat.groupby('ElectricityBill_C')['bInstalled'].std()\n",
    "\n",
    "for i in range(len(bins_elect_adj)):\n",
    "    if not (i in y_2.index.values):\n",
    "        y_2.loc[i] = 0.0\n",
    "        \n",
    "y_2 = y_2.sort_index()"
   ]
  },
  {
   "cell_type": "code",
   "execution_count": null,
   "metadata": {
    "collapsed": true
   },
   "outputs": [],
   "source": []
  },
  {
   "cell_type": "markdown",
   "metadata": {},
   "source": [
    "## Draw penetration in time"
   ]
  },
  {
   "cell_type": "markdown",
   "metadata": {},
   "source": [
    "### New Version."
   ]
  },
  {
   "cell_type": "markdown",
   "metadata": {},
   "source": [
    "### Preparing raw data"
   ]
  },
  {
   "cell_type": "code",
   "execution_count": 173,
   "metadata": {
    "collapsed": true
   },
   "outputs": [],
   "source": [
    "N_SIMULATION_TICKS = 20"
   ]
  },
  {
   "cell_type": "code",
   "execution_count": 174,
   "metadata": {
    "collapsed": true
   },
   "outputs": [],
   "source": [
    "N_TICKS_DISPLAY = 15"
   ]
  },
  {
   "cell_type": "code",
   "execution_count": 175,
   "metadata": {
    "collapsed": true
   },
   "outputs": [],
   "source": [
    "N_AGENTS_TOTAL = 1000"
   ]
  },
  {
   "cell_type": "code",
   "execution_count": 176,
   "metadata": {
    "collapsed": true
   },
   "outputs": [],
   "source": [
    "N_BINS_INCOME = len(bins_income) - 1"
   ]
  },
  {
   "cell_type": "code",
   "execution_count": 177,
   "metadata": {
    "collapsed": false
   },
   "outputs": [],
   "source": [
    "#number of agents in bins per simulation run \n",
    "n_agents_bins = []\n",
    "for df_ in dfs_hos_:\n",
    "    df_['Income_C'] = pd.cut(df_['Income'], \\\n",
    "                                   bins = bins_income, labels = False, retbins=True)[0]\n",
    "    n_agents_bins.append(pd.value_counts(df_['Income_C'])\\\n",
    "                               .reindex(range(N_BINS_INCOME), fill_value=0).sort_index().values)"
   ]
  },
  {
   "cell_type": "code",
   "execution_count": 178,
   "metadata": {
    "collapsed": true
   },
   "outputs": [],
   "source": [
    "N_BINS_ELECT = len(bins_elect_adj) - 1"
   ]
  },
  {
   "cell_type": "code",
   "execution_count": 179,
   "metadata": {
    "collapsed": false
   },
   "outputs": [],
   "source": [
    "n_agents_bins_elect = []\n",
    "for df_ in dfs_hos_:\n",
    "    df_['ElectricityBill_C'] = pd.cut(df_['ElectricityBill'], \\\n",
    "                                   bins = bins_elect_adj, labels = False, retbins=True)[0]\n",
    "    n_agents_bins_elect.append(pd.value_counts(df_['ElectricityBill_C'])\\\n",
    "                               .reindex(range(N_BINS_ELECT), fill_value=0).sort_index().values)"
   ]
  },
  {
   "cell_type": "code",
   "execution_count": 180,
   "metadata": {
    "collapsed": false
   },
   "outputs": [],
   "source": [
    "penetration_t_0 = np.zeros((len(dfs_hos_), N_BINS_INCOME))\n",
    "#get distribution of preinstalled \n",
    "i = 0\n",
    "for df_ in dfs_hos_:\n",
    "    for bin_ in range(N_BINS_INCOME):\n",
    "        index = df_[(df_['bInstalled'] == 1) & \\\n",
    "                    (df_['Income_C'] == bin_) & \\\n",
    "                    ((df_['TimeInstalled'] < 0) | (df_['TimeInstalled'] > (N_SIMULATION_TICKS - 1)))].index \n",
    "        penetration_t_0[i, bin_] = df_.iloc[index].shape[0]\n",
    "    i = i + 1"
   ]
  },
  {
   "cell_type": "code",
   "execution_count": 181,
   "metadata": {
    "collapsed": false
   },
   "outputs": [],
   "source": [
    "penetration_elect_t_0 = np.zeros((len(dfs_hos_), N_BINS_ELECT))\n",
    "#get distribution of preinstalled \n",
    "i = 0\n",
    "for df_ in dfs_hos_:\n",
    "    for bin_ in range(N_BINS_ELECT):\n",
    "        index = df_[(df_['bInstalled'] == 1) & \\\n",
    "                    (df_['ElectricityBill_C'] == bin_) & \\\n",
    "                    ((df_['TimeInstalled'] < 0) | (df_['TimeInstalled'] > (N_SIMULATION_TICKS - 1)))].index \n",
    "        penetration_elect_t_0[i, bin_] = df_.iloc[index].shape[0]\n",
    "    i = i + 1"
   ]
  },
  {
   "cell_type": "markdown",
   "metadata": {},
   "source": [
    "### Data for the number of installations given income level"
   ]
  },
  {
   "cell_type": "code",
   "execution_count": 182,
   "metadata": {
    "collapsed": false
   },
   "outputs": [],
   "source": [
    "N_TICKS = N_SIMULATION_TICKS\n",
    "#number of installations as a percentage of a population for a given tick, average over simulation runs\n",
    "ticks_income_penetration = np.zeros((N_TICKS, N_BINS_INCOME))\n",
    "#total number of installations as a percentage of a population for a given tick, average over simulation runs\n",
    "ticks_income_penetration_acc = np.zeros((N_TICKS, N_BINS_INCOME))\n",
    "#number of installations as a percentage of a total population for a given tick, average over simulation runs\n",
    "ticks_income_penetration_acc_total = np.zeros((N_TICKS, N_BINS_INCOME))\n",
    "#number of installations for each simulation run for the current tick\n",
    "raw_data_dfs = np.zeros((len(dfs_hos_), N_BINS_INCOME))\n",
    "#accumulated number of installations for each tick each data frame and income bin\n",
    "raw_data_raw_acc = np.zeros((N_TICKS + 1, len(dfs_hos_), N_BINS_INCOME))\n",
    "#number of installations as a percentage of the defined population\n",
    "raw_data_acc = np.zeros((N_TICKS, len(dfs_hos_), N_BINS_INCOME))\n",
    "#number of installations as a percentage of a total population for the simulation run\n",
    "raw_data_acc_total = np.zeros((N_TICKS, len(dfs_hos_), N_BINS_INCOME))\n",
    "\n",
    "#initial level of penetration\n",
    "raw_data_raw_acc[0, :, :] = penetration_t_0.copy()\n",
    "\n",
    "\n",
    "for tick in range(N_TICKS):\n",
    "    #reset dataframe index\n",
    "    i = 0\n",
    "    for df_ in dfs_hos_:\n",
    "        for bin_ in range(N_BINS_INCOME):\n",
    "            index = df_[(df_['bInstalled'] == 1) & \\\n",
    "                        (df_['Income_C'] == bin_) & \\\n",
    "                        (df_['TimeInstalled'] == tick)].index \n",
    "            #get simulation run share of installations in a tick\n",
    "            raw_data_dfs[i, bin_] = df_.iloc[index].shape[0] / n_agents_bins[i][bin_]\n",
    "            #total number of installs in a group \n",
    "            raw_data_raw_acc[tick + 1, i, bin_] = raw_data_raw_acc[tick, i, bin_] + df_.iloc[index].shape[0]\n",
    "            raw_data_acc[tick, i, bin_] = raw_data_raw_acc[tick + 1, i, bin_] / n_agents_bins[i][bin_]\n",
    "            raw_data_acc_total[tick, i, bin_] = raw_data_raw_acc[tick + 1, i, bin_] / N_AGENTS_TOTAL\n",
    "        #index dataframes\n",
    "        i = i + 1\n",
    "    #average over bins and simulation runs\n",
    "    ticks_income_penetration[tick] = raw_data_dfs.mean(axis=0).copy()\n",
    "    ticks_income_penetration_acc[tick] = raw_data_acc[tick, :, :].mean(axis=0).copy()\n",
    "    ticks_income_penetration_acc_total[tick] = raw_data_acc_total[tick, :, :].mean(axis=0).copy()\n",
    "\n",
    "            "
   ]
  },
  {
   "cell_type": "markdown",
   "metadata": {
    "collapsed": true
   },
   "source": [
    "### Data for the number of installations given electricity consumption level"
   ]
  },
  {
   "cell_type": "code",
   "execution_count": 183,
   "metadata": {
    "collapsed": false
   },
   "outputs": [],
   "source": [
    "N_TICKS = 20\n",
    "#number of installations as a percentage of a population for a given tick, average over simulation runs\n",
    "ticks_elect_penetration = np.zeros((N_TICKS, N_BINS_ELECT))\n",
    "#total number of installations as a percentage of a population for a given tick, average over simulation runs\n",
    "ticks_elect_penetration_acc = np.zeros((N_TICKS, N_BINS_ELECT))\n",
    "#number of installations as a percentage of a total population for a given tick, average over simulation runs\n",
    "ticks_elect_penetration_acc_total = np.zeros((N_TICKS, N_BINS_ELECT))\n",
    "#number of installations for each simulation run for the current tick\n",
    "raw_data_dfs = np.zeros((len(dfs_hos_), N_BINS_ELECT))\n",
    "#accumulated number of installations for each tick each data frame and income bin\n",
    "raw_data_raw_acc = np.zeros((N_TICKS + 1, len(dfs_hos_), N_BINS_ELECT))\n",
    "#number of installations as a percentage of the defined population\n",
    "raw_data_acc = np.zeros((N_TICKS, len(dfs_hos_), N_BINS_ELECT))\n",
    "#number of installations as a percentage of a total population for the simulation run\n",
    "raw_data_acc_total = np.zeros((N_TICKS, len(dfs_hos_), N_BINS_ELECT))\n",
    "\n",
    "#initial level of penetration\n",
    "raw_data_raw_acc[0, :, :] = penetration_elect_t_0.copy()\n",
    "\n",
    "\n",
    "for tick in range(N_TICKS):\n",
    "    #reset dataframe index\n",
    "    i = 0\n",
    "    for df_ in dfs_hos_:\n",
    "        for bin_ in range(N_BINS_ELECT):\n",
    "            index = df_[(df_['bInstalled'] == 1) & \\\n",
    "                        (df_['ElectricityBill_C'] == bin_) & \\\n",
    "                        (df_['TimeInstalled'] == tick)].index \n",
    "            #get simulation run share of installations in a tick\n",
    "            raw_data_dfs[i, bin_] = df_.iloc[index].shape[0] / n_agents_bins[i][bin_]\n",
    "            #total number of installs in a group \n",
    "            raw_data_raw_acc[tick + 1, i, bin_] = raw_data_raw_acc[tick, i, bin_] + df_.iloc[index].shape[0]\n",
    "            raw_data_acc[tick, i, bin_] = raw_data_raw_acc[tick + 1, i, bin_] / n_agents_bins_elect[i][bin_]\n",
    "            raw_data_acc_total[tick, i, bin_] = raw_data_raw_acc[tick + 1, i, bin_] / N_AGENTS_TOTAL\n",
    "        #index dataframes\n",
    "        i = i + 1\n",
    "    #average over bins and simulation runs\n",
    "    ticks_elect_penetration[tick] = raw_data_dfs.mean(axis=0).copy()\n",
    "    ticks_elect_penetration_acc[tick] = raw_data_acc[tick, :, :].mean(axis=0).copy()\n",
    "    ticks_elect_penetration_acc_total[tick] = raw_data_acc_total[tick, :, :].mean(axis=0).copy()"
   ]
  },
  {
   "cell_type": "markdown",
   "metadata": {},
   "source": [
    "## Graph for distribution of installations in time "
   ]
  },
  {
   "cell_type": "code",
   "execution_count": 184,
   "metadata": {
    "collapsed": false
   },
   "outputs": [
    {
     "data": {
      "image/png": "[encoded data removed]",
      "text/plain": [
       "<matplotlib.figure.Figure at 0x2985e16d5c0>"
      ]
     },
     "metadata": {},
     "output_type": "display_data"
    }
   ],
   "source": [
    "fig, axes = plt.subplots(nrows=1, ncols=2)\n",
    "fig.subplots_adjust(bottom=0.25)\n",
    "\n",
    "\n",
    "\n",
    "\n",
    "ind = np.arange(N_TICKS)    # the x locations for the groups\n",
    "ind = ind + 1\n",
    "width = 0.35       # the width of the bars: can also be len(x) sequence\n",
    "\n",
    "norm = matplotlib.colors.Normalize(vmin=0, vmax=N_BINS_INCOME - 1)\n",
    "cmap_custom = cm.get_cmap('YlGn')\n",
    "incomes = norm(range(N_BINS_INCOME))\n",
    "colors_income = []\n",
    "\n",
    "for income_ in incomes:\n",
    "    colors_income.append(cmap_custom(income_))\n",
    "\n",
    "\n",
    "p1 = axes[0].bar(ind[0:N_TICKS_DISPLAY], ticks_income_penetration_acc[:, 0][0:N_TICKS_DISPLAY] * 100,\\\n",
    "                 width, color=colors_income[0])\n",
    "\n",
    "for bin_ in range(1, N_BINS_INCOME, 1):\n",
    "    p2 = axes[0].bar(ind[0:N_TICKS_DISPLAY], \\\n",
    "                     ticks_income_penetration_acc[:, bin_][0:N_TICKS_DISPLAY] * 100, \\\n",
    "                     width, color=colors_income[bin_], \\\n",
    "                  bottom=ticks_income_penetration_acc[:, bin_ - 1][0:N_TICKS_DISPLAY] * 100)\n",
    "\n",
    "\n",
    "axes[0].set_xlabel(\"Time\")\n",
    "axes[0].set_ylabel(\"Accumulated % installations\")\n",
    "#axes[0].set_title('Accumulated % installations \\n by the level \\n of income', fontsize=10)\n",
    "\n",
    "\n",
    "axes[0].set_xticks(ind[0:N_TICKS_DISPLAY] + width / 2)\n",
    "axes[0].set_xticklabels(ind[0:N_TICKS_DISPLAY])\n",
    "x_labels = ['1', '', '3', '', '5', '', '7', '', '9', '', '11', '', '13', '', '15']\n",
    "axes[0].set_xticklabels(x_labels)\n",
    "\n",
    "elects = norm(range(N_BINS_ELECT))\n",
    "colors_elect = []\n",
    "\n",
    "\n",
    "\n",
    "for elect_ in elects:\n",
    "    colors_elect.append(cmap_custom(elect_))\n",
    "\n",
    "\n",
    "p1 = axes[1].bar(ind[0:N_TICKS_DISPLAY], ticks_elect_penetration_acc[:, 0][0:N_TICKS_DISPLAY] * 100, \\\n",
    "                 width, color=colors_elect[0])\n",
    "\n",
    "for bin_ in range(1, N_BINS_ELECT, 1):\n",
    "    p2 = axes[1].bar(ind[0:N_TICKS_DISPLAY], ticks_elect_penetration_acc[:, bin_][0:N_TICKS_DISPLAY] * 100, \\\n",
    "                     width, color=colors_income[bin_], \\\n",
    "                  bottom=ticks_elect_penetration_acc[:, bin_ - 1][0:N_TICKS_DISPLAY] * 100)\n",
    "\n",
    "axes[1].set_xticks(ind[0:N_TICKS_DISPLAY] + width / 2)\n",
    "axes[1].set_xticklabels(x_labels)\n",
    "    \n",
    "axes[1].set_xlabel(\"Time\")\n",
    "axes[1].set_ylabel(\"Accumulated % installations\")\n",
    "#axes[1].set_title('Accumulated % installations \\n by the level \\n of electricity consumption', fontsize=10)\n",
    "    \n",
    "\n",
    "plt.tight_layout()\n",
    "plt.savefig('Simulation_results_dist_' + data_mode + '_' + test_name + '.png', dpi=300)\n",
    "plt.show()\n"
   ]
  },
  {
   "cell_type": "code",
   "execution_count": null,
   "metadata": {
    "collapsed": true
   },
   "outputs": [],
   "source": []
  },
  {
   "cell_type": "markdown",
   "metadata": {},
   "source": [
    "## How to draw graphs below\n",
    "[1](http://matplotlib.org/1.4.1/examples/ticks_and_spines/spines_demo_bounds.html)\n",
    "[2](http://matplotlib.org/1.4.1/examples/pylab_examples/multiple_yaxis_with_spines.html)\n",
    "[3](http://matplotlib.org/api/markers_api.html#module-matplotlib.markers)\n",
    "[4](http://matplotlib.org/api/axes_api.html#matplotlib.axes.Axes.plot)"
   ]
  },
  {
   "cell_type": "markdown",
   "metadata": {},
   "source": [
    "## Dynamics of installations"
   ]
  },
  {
   "cell_type": "code",
   "execution_count": 153,
   "metadata": {
    "collapsed": false
   },
   "outputs": [
    {
     "data": {
      "image/png": "[encoded data removed]",
      "text/plain": [
       "<matplotlib.figure.Figure at 0x2985f9fd5c0>"
      ]
     },
     "metadata": {},
     "output_type": "display_data"
    }
   ],
   "source": [
    "\n",
    "\n",
    "fig, host = plt.subplots()\n",
    "fig.subplots_adjust(right=0.85)\n",
    "\n",
    "par1 = host.twinx()\n",
    "\n",
    "ind = df.index.values[0:N_TICKS_DISPLAY] + 1\n",
    "\n",
    "p1, = host.plot(ind, df['N_installed'][0:N_TICKS_DISPLAY]/1000*100, \"g-\", label=\"% installations\")\n",
    "p2, = par1.plot(ind, df['sei_0'][0:N_TICKS_DISPLAY], \"ro\", label=r'$er\\pm 2\\sigma$')\n",
    "p3, = par1.plot(ind, df['sei_1'][0:N_TICKS_DISPLAY], \"r^\", label=r'$el\\pm 2\\sigma$')\n",
    "p4, = par1.plot(ind, df['sei_2'][0:N_TICKS_DISPLAY], \"r*\", label=r'$el\\pm 2\\sigma$')\n",
    "\n",
    "par1.fill_between(ind, \n",
    "                  df['sei_0'][0:N_TICKS_DISPLAY]-2*df_std['sei_0'][0:N_TICKS_DISPLAY], \n",
    "                  df['sei_0'][0:N_TICKS_DISPLAY]+2*df_std['sei_0'][0:N_TICKS_DISPLAY], \n",
    "                  color='r', \n",
    "                  alpha=0.2)\n",
    "\n",
    "par1.fill_between(ind, \n",
    "                  df['sei_1'][0:N_TICKS_DISPLAY]-2*df_std['sei_1'][0:N_TICKS_DISPLAY], \n",
    "                  df['sei_1'][0:N_TICKS_DISPLAY]+2*df_std['sei_1'][0:N_TICKS_DISPLAY], \n",
    "                  color='r', \n",
    "                  alpha=0.2)\n",
    "\n",
    "par1.fill_between(ind, \n",
    "                  df['sei_2'][0:N_TICKS_DISPLAY]-2*df_std['sei_2'][0:N_TICKS_DISPLAY], \n",
    "                  df['sei_2'][0:N_TICKS_DISPLAY]+2*df_std['sei_2'][0:N_TICKS_DISPLAY], \n",
    "                  color='r', \n",
    "                  alpha=0.2)\n",
    "\n",
    "\n",
    "host.set_xlabel(\"Time\")\n",
    "host.set_ylabel(\"hit % installations\")\n",
    "\n",
    "\n",
    "host.set_autoscaley_on(False)\n",
    "host.set_xlim([1,15])\n",
    "start = 1\n",
    "end = 16\n",
    "host.xaxis.set_ticks(np.arange(start, end, 1))\n",
    "\n",
    "par1.set_ylabel(\"Efficiency\")\n",
    "\n",
    "\n",
    "host.yaxis.label.set_color(p1.get_color())\n",
    "par1.yaxis.label.set_color(p2.get_color())\n",
    "\n",
    "\n",
    "tkw = dict(size=4, width=1.5)\n",
    "host.tick_params(axis='y', colors=p1.get_color(), **tkw)\n",
    "par1.tick_params(axis='y', colors=p2.get_color(), **tkw)\n",
    "host.tick_params(axis='x', **tkw)\n",
    "\n",
    "lines = [p1, p2, p3, p4]\n",
    "\n",
    "if test_name == 'RelSelf':\n",
    "    host.legend(lines, [l.get_label() for l in lines], fontsize='11', loc=0, borderaxespad=0., bbox_to_anchor=(1.0, 1.0))\n",
    "\n",
    "if test_name == 'RelAv':\n",
    "    host.legend(lines, [l.get_label() for l in lines], fontsize='11', loc=0, borderaxespad=0., bbox_to_anchor=(0.5, 0.65))\n",
    "\n",
    "plt.savefig('Simulation_results1_' + data_mode + '_' + test_name + '.png', dpi=300)\n",
    "plt.show()\n",
    "\n"
   ]
  },
  {
   "cell_type": "code",
   "execution_count": 154,
   "metadata": {
    "collapsed": false
   },
   "outputs": [
    {
     "data": {
      "image/png": "[encoded data removed]",
      "text/plain": [
       "<matplotlib.figure.Figure at 0x2985d573128>"
      ]
     },
     "metadata": {},
     "output_type": "display_data"
    }
   ],
   "source": [
    "fig, host = plt.subplots()\n",
    "fig.subplots_adjust(right=0.85)\n",
    "\n",
    "par1 = host.twinx()\n",
    "\n",
    "ind = df.index.values[0:N_TICKS_DISPLAY] + 1\n",
    "\n",
    "p1, = host.plot(ind, df['N_installed'][0:N_TICKS_DISPLAY]/1000*100, \"g-\", \\\n",
    "#                label=r'$\\%\\ installations\\pm 2\\sigma$')\n",
    "                label=r'$\\%\\ installations$')\n",
    "p2, = par1.plot(ind, df['P_av'][0:N_TICKS_DISPLAY], \"--bo\", label=r'$Price\\pm 2\\sigma$')\n",
    "\n",
    "#add +- 2 std\n",
    "#host.fill_between(ind, \n",
    "#                  df['N_installed'][0:N_TICKS_DISPLAY]/1000*100-2*df_std['N_installed'][0:N_TICKS_DISPLAY]/1000*100, \n",
    "#                  df['N_installed'][0:N_TICKS_DISPLAY]/1000*100+2*df_std['N_installed'][0:N_TICKS_DISPLAY]/1000*100, \n",
    "#                  color='g', \n",
    "#                  alpha=0.2)\n",
    "\n",
    "par1.fill_between(ind, \n",
    "                 df['P_av'][0:N_TICKS_DISPLAY]-2*df_std['P_av'][0:N_TICKS_DISPLAY],\n",
    "                 df['P_av'][0:N_TICKS_DISPLAY]+2*df_std['P_av'][0:N_TICKS_DISPLAY],\n",
    "                  color='b', \n",
    "                  alpha=0.2)\n",
    "\n",
    "host.set_xlabel(\"Time\")\n",
    "host.set_ylabel(\"Hit % installations\")\n",
    "par1.set_ylabel(\"Price per watt\")\n",
    "\n",
    "host.set_autoscaley_on(False)\n",
    "host.set_xlim([1,15])\n",
    "start = 1\n",
    "end = 16\n",
    "host.xaxis.set_ticks(np.arange(start, end, 1))\n",
    "\n",
    "host.yaxis.label.set_color(p1.get_color())\n",
    "par1.yaxis.label.set_color(p2.get_color())\n",
    "\n",
    "\n",
    "tkw = dict(size=4, width=1.5)\n",
    "host.tick_params(axis='y', colors=p1.get_color(), **tkw)\n",
    "par1.tick_params(axis='y', colors=p2.get_color(), **tkw)\n",
    "host.tick_params(axis='x', **tkw)\n",
    "\n",
    "lines = [p1, p2]\n",
    "\n",
    "host.legend(lines, [l.get_label() for l in lines], fontsize='11')\n",
    "plt.savefig('Simulation_results2_' + data_mode + '_' + test_name +'.png', dpi=300)\n",
    "plt.show()"
   ]
  },
  {
   "cell_type": "markdown",
   "metadata": {},
   "source": [
    "## SEI relative to an aggregate"
   ]
  },
  {
   "cell_type": "code",
   "execution_count": 164,
   "metadata": {
    "collapsed": false
   },
   "outputs": [
    {
     "data": {
      "image/png": "[encoded data removed]",
      "text/plain": [
       "<matplotlib.figure.Figure at 0x2985d0c71d0>"
      ]
     },
     "metadata": {},
     "output_type": "display_data"
    }
   ],
   "source": [
    "-"
   ]
  },
  {
   "cell_type": "code",
   "execution_count": 131,
   "metadata": {
    "collapsed": true
   },
   "outputs": [],
   "source": [
    "#some files have nans in them - check\n",
    "#concurrency bug - in accessing pv projects - check"
   ]
  },
  {
   "cell_type": "code",
   "execution_count": null,
   "metadata": {
    "collapsed": true
   },
   "outputs": [],
   "source": []
  },
  {
   "cell_type": "code",
   "execution_count": null,
   "metadata": {
    "collapsed": true
   },
   "outputs": [],
   "source": []
  },
  {
   "cell_type": "code",
   "execution_count": null,
   "metadata": {
    "collapsed": true
   },
   "outputs": [],
   "source": []
  },
  {
   "cell_type": "code",
   "execution_count": null,
   "metadata": {
    "collapsed": true
   },
   "outputs": [],
   "source": []
  },
  {
   "cell_type": "code",
   "execution_count": null,
   "metadata": {
    "collapsed": true
   },
   "outputs": [],
   "source": []
  },
  {
   "cell_type": "code",
   "execution_count": null,
   "metadata": {
    "collapsed": true
   },
   "outputs": [],
   "source": []
  },
  {
   "cell_type": "code",
   "execution_count": null,
   "metadata": {
    "collapsed": true
   },
   "outputs": [],
   "source": []
  }
 ],
 "metadata": {
  "anaconda-cloud": {},
  "kernelspec": {
   "display_name": "Python [default]",
   "language": "python",
   "name": "python3"
  },
  "language_info": {
   "codemirror_mode": {
    "name": "ipython",
    "version": 3
   },
   "file_extension": ".py",
   "mimetype": "text/x-python",
   "name": "python",
   "nbconvert_exporter": "python",
   "pygments_lexer": "ipython3",
   "version": "3.5.2"
  }
 },
 "nbformat": 4,
 "nbformat_minor": 0
}
