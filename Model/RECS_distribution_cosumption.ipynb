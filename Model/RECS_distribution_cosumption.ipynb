{
 "cells": [
  {
   "cell_type": "code",
   "execution_count": 1,
   "metadata": {
    "collapsed": true
   },
   "outputs": [],
   "source": [
    "import json\n",
    "from pprint import pprint\n",
    "import pandas as pd\n",
    "import numpy as np\n",
    "%matplotlib inline\n",
    "import matplotlib.pyplot as plt\n",
    "from matplotlib import cm\n",
    "import matplotlib.patches as mpatches\n",
    "import matplotlib\n",
    "matplotlib.style.use('ggplot')\n",
    "#ols models\n",
    "import statsmodels.formula.api as sm\n",
    "from patsy import dmatrices\n",
    "import re\n",
    "import scipy as sp\n",
    "from tools import print_columns\n",
    "import csv\n",
    "import json"
   ]
  },
  {
   "cell_type": "code",
   "execution_count": 2,
   "metadata": {
    "collapsed": true
   },
   "outputs": [],
   "source": [
    "#Initialization of distributions\n"
   ]
  },
  {
   "cell_type": "code",
   "execution_count": 3,
   "metadata": {
    "collapsed": false
   },
   "outputs": [],
   "source": [
    "#read data\n",
    "df_full = pd.read_csv(\"../../Data/recs2009_public.csv\", low_memory=False)"
   ]
  },
  {
   "cell_type": "code",
   "execution_count": 4,
   "metadata": {
    "collapsed": false
   },
   "outputs": [
    {
     "data": {
      "text/plain": [
       "(12083, 931)"
      ]
     },
     "execution_count": 4,
     "metadata": {},
     "output_type": "execute_result"
    }
   ],
   "source": [
    "df_full.shape"
   ]
  },
  {
   "cell_type": "code",
   "execution_count": 5,
   "metadata": {
    "collapsed": false
   },
   "outputs": [
    {
     "data": {
      "text/plain": [
       "1    8140\n",
       "2    3801\n",
       "3     142\n",
       "Name: KOWNRENT, dtype: int64"
      ]
     },
     "execution_count": 5,
     "metadata": {},
     "output_type": "execute_result"
    }
   ],
   "source": [
    "df_full['KOWNRENT'].value_counts()"
   ]
  },
  {
   "cell_type": "code",
   "execution_count": 6,
   "metadata": {
    "collapsed": false
   },
   "outputs": [],
   "source": [
    "index = df_full[(df_full['KOWNRENT'] ==1)].index"
   ]
  },
  {
   "cell_type": "code",
   "execution_count": 7,
   "metadata": {
    "collapsed": false
   },
   "outputs": [
    {
     "data": {
      "text/plain": [
       "Int64Index([    0,     3,     4,     5,     6,     7,     8,     9,    11,\n",
       "               15,\n",
       "            ...\n",
       "            12071, 12072, 12073, 12074, 12075, 12077, 12078, 12080, 12081,\n",
       "            12082],\n",
       "           dtype='int64', length=8140)"
      ]
     },
     "execution_count": 7,
     "metadata": {},
     "output_type": "execute_result"
    }
   ],
   "source": [
    "index"
   ]
  },
  {
   "cell_type": "code",
   "execution_count": 8,
   "metadata": {
    "collapsed": true
   },
   "outputs": [],
   "source": [
    "df = df_full.iloc[index][['MONEYPY', 'TOTSQFT', 'KWH', 'DOLLAREL', 'ONSITE', \\\n",
    "                          'ONSITEGRID', 'USESOLAR', 'TREESHAD', \\\n",
    "                         'YEARMADERANGE', 'ROOFTYPE']]"
   ]
  },
  {
   "cell_type": "code",
   "execution_count": 9,
   "metadata": {
    "collapsed": false
   },
   "outputs": [
    {
     "data": {
      "text/plain": [
       "array([[<matplotlib.axes._subplots.AxesSubplot object at 0x10a9711d0>]], dtype=object)"
      ]
     },
     "execution_count": 9,
     "metadata": {},
     "output_type": "execute_result"
    },
    {
     "data": {
      "image/png": "[encoded data removed]",
      "text/plain": [
       "<matplotlib.figure.Figure at 0x10a2abd30>"
      ]
     },
     "metadata": {},
     "output_type": "display_data"
    }
   ],
   "source": [
    "pd.DataFrame.hist(df_full.iloc[index], column='TOTSQFT', bins = 100)"
   ]
  },
  {
   "cell_type": "code",
   "execution_count": 10,
   "metadata": {
    "collapsed": false
   },
   "outputs": [
    {
     "data": {
      "text/plain": [
       "array([[<matplotlib.axes._subplots.AxesSubplot object at 0x10a2abe10>]], dtype=object)"
      ]
     },
     "execution_count": 10,
     "metadata": {},
     "output_type": "execute_result"
    },
    {
     "data": {
      "image/png": "[encoded data removed]",
      "text/plain": [
       "<matplotlib.figure.Figure at 0x10aeb6828>"
      ]
     },
     "metadata": {},
     "output_type": "display_data"
    }
   ],
   "source": [
    "pd.DataFrame.hist(df_full.iloc[index], column='TOTSQFT_EN', bins = 100)"
   ]
  },
  {
   "cell_type": "code",
   "execution_count": 11,
   "metadata": {
    "collapsed": false
   },
   "outputs": [],
   "source": [
    "bins_TOTSQFT = pd.cut(df_full.iloc[index]['TOTSQFT'], bins = 24, labels = False, retbins=True)"
   ]
  },
  {
   "cell_type": "code",
   "execution_count": 12,
   "metadata": {
    "collapsed": false
   },
   "outputs": [
    {
     "data": {
      "text/plain": [
       "2     1882\n",
       "3     1758\n",
       "1     1367\n",
       "4     1110\n",
       "5      717\n",
       "6      448\n",
       "7      269\n",
       "0      209\n",
       "8      140\n",
       "9       96\n",
       "10      47\n",
       "11      38\n",
       "12      17\n",
       "13      11\n",
       "14      10\n",
       "15       9\n",
       "16       4\n",
       "20       3\n",
       "17       2\n",
       "18       2\n",
       "23       1\n",
       "Name: TOTSQFT, dtype: int64"
      ]
     },
     "execution_count": 12,
     "metadata": {},
     "output_type": "execute_result"
    }
   ],
   "source": [
    "bins_TOTSQFT[0].value_counts()"
   ]
  },
  {
   "cell_type": "code",
   "execution_count": 13,
   "metadata": {
    "collapsed": false
   },
   "outputs": [
    {
     "data": {
      "text/plain": [
       "array([   103.998,    786.75 ,   1453.5  ,   2120.25 ,   2787.   ,\n",
       "         3453.75 ,   4120.5  ,   4787.25 ,   5454.   ,   6120.75 ,\n",
       "         6787.5  ,   7454.25 ,   8121.   ,   8787.75 ,   9454.5  ,\n",
       "        10121.25 ,  10788.   ,  11454.75 ,  12121.5  ,  12788.25 ,\n",
       "        13455.   ,  14121.75 ,  14788.5  ,  15455.25 ,  16122.   ])"
      ]
     },
     "execution_count": 13,
     "metadata": {},
     "output_type": "execute_result"
    }
   ],
   "source": [
    "bins_TOTSQFT[1]"
   ]
  },
  {
   "cell_type": "code",
   "execution_count": 14,
   "metadata": {
    "collapsed": false
   },
   "outputs": [],
   "source": [
    "df['TOTSQFT_C'] = pd.cut(df_full.iloc[index]['TOTSQFT'], bins = 24, labels = False, retbins=True)[0]"
   ]
  },
  {
   "cell_type": "code",
   "execution_count": 15,
   "metadata": {
    "collapsed": false
   },
   "outputs": [
    {
     "data": {
      "text/plain": [
       "2     1882\n",
       "3     1758\n",
       "1     1367\n",
       "4     1110\n",
       "5      717\n",
       "6      448\n",
       "7      269\n",
       "0      209\n",
       "8      140\n",
       "9       96\n",
       "10      47\n",
       "11      38\n",
       "12      17\n",
       "13      11\n",
       "14      10\n",
       "15       9\n",
       "16       4\n",
       "20       3\n",
       "17       2\n",
       "18       2\n",
       "23       1\n",
       "Name: TOTSQFT_C, dtype: int64"
      ]
     },
     "execution_count": 15,
     "metadata": {},
     "output_type": "execute_result"
    }
   ],
   "source": [
    "df['TOTSQFT_C'].value_counts() "
   ]
  },
  {
   "cell_type": "code",
   "execution_count": 10,
   "metadata": {
    "collapsed": false
   },
   "outputs": [
    {
     "data": {
      "text/plain": [
       "array([[<matplotlib.axes._subplots.AxesSubplot object at 0x109ec6e80>]], dtype=object)"
      ]
     },
     "execution_count": 10,
     "metadata": {},
     "output_type": "execute_result"
    },
    {
     "data": {
      "image/png": "[encoded data removed]",
      "text/plain": [
       "<matplotlib.figure.Figure at 0x109a9f978>"
      ]
     },
     "metadata": {},
     "output_type": "display_data"
    }
   ],
   "source": [
    "pd.DataFrame.hist(df_full.iloc[index], column='KWH', bins = 100)"
   ]
  },
  {
   "cell_type": "code",
   "execution_count": 17,
   "metadata": {
    "collapsed": true
   },
   "outputs": [],
   "source": [
    "count_KWH ,division_KWH = np.histogram(df_full.iloc[index]['KWH'],bins = 24)"
   ]
  },
  {
   "cell_type": "code",
   "execution_count": 18,
   "metadata": {
    "collapsed": false
   },
   "outputs": [],
   "source": [
    "bins_index_KWH = [x for x in range(13)]\n",
    "bins_index_KWH.append(24)"
   ]
  },
  {
   "cell_type": "code",
   "execution_count": 19,
   "metadata": {
    "collapsed": false
   },
   "outputs": [
    {
     "data": {
      "text/plain": [
       "[0, 1, 2, 3, 4, 5, 6, 7, 8, 9, 10, 11, 12, 24]"
      ]
     },
     "execution_count": 19,
     "metadata": {},
     "output_type": "execute_result"
    }
   ],
   "source": [
    "bins_index_KWH"
   ]
  },
  {
   "cell_type": "code",
   "execution_count": 20,
   "metadata": {
    "collapsed": false
   },
   "outputs": [
    {
     "data": {
      "text/plain": [
       "array([  1.70000000e+01,   6.27687500e+03,   1.25367500e+04,\n",
       "         1.87966250e+04,   2.50565000e+04,   3.13163750e+04,\n",
       "         3.75762500e+04,   4.38361250e+04,   5.00960000e+04,\n",
       "         5.63558750e+04,   6.26157500e+04,   6.88756250e+04,\n",
       "         7.51355000e+04,   1.50254000e+05])"
      ]
     },
     "execution_count": 20,
     "metadata": {},
     "output_type": "execute_result"
    }
   ],
   "source": [
    "division_KWH[bins_index_KWH]"
   ]
  },
  {
   "cell_type": "code",
   "execution_count": 21,
   "metadata": {
    "collapsed": true
   },
   "outputs": [],
   "source": [
    "df['KWH_C'] = pd.cut(df_full.iloc[index]['KWH'], bins = division_KWH[bins_index_KWH], labels = False, retbins=True)[0]"
   ]
  },
  {
   "cell_type": "code",
   "execution_count": 22,
   "metadata": {
    "collapsed": false
   },
   "outputs": [
    {
     "data": {
      "text/plain": [
       "1     3171\n",
       "2     1860\n",
       "0     1605\n",
       "3      930\n",
       "4      342\n",
       "5      135\n",
       "6       53\n",
       "8       16\n",
       "7       16\n",
       "11       3\n",
       "10       3\n",
       "9        3\n",
       "12       2\n",
       "Name: KWH_C, dtype: int64"
      ]
     },
     "execution_count": 22,
     "metadata": {},
     "output_type": "execute_result"
    }
   ],
   "source": [
    "df['KWH_C'].value_counts()"
   ]
  },
  {
   "cell_type": "code",
   "execution_count": 23,
   "metadata": {
    "collapsed": false
   },
   "outputs": [
    {
     "data": {
      "text/plain": [
       "[<matplotlib.lines.Line2D at 0x10fa36160>]"
      ]
     },
     "execution_count": 23,
     "metadata": {},
     "output_type": "execute_result"
    },
    {
     "data": {
      "image/png": "[encoded data removed]",
      "text/plain": [
       "<matplotlib.figure.Figure at 0x10b6f87b8>"
      ]
     },
     "metadata": {},
     "output_type": "display_data"
    }
   ],
   "source": [
    "plt.plot(df['DOLLAREL']/df['KWH'])"
   ]
  },
  {
   "cell_type": "code",
   "execution_count": 24,
   "metadata": {
    "collapsed": false
   },
   "outputs": [
    {
     "data": {
      "text/plain": [
       "0.039906296777122909"
      ]
     },
     "execution_count": 24,
     "metadata": {},
     "output_type": "execute_result"
    }
   ],
   "source": [
    "np.mean(df['DOLLAREL']/df['KWH'])\n",
    "np.std(df['DOLLAREL']/df['KWH'])"
   ]
  },
  {
   "cell_type": "code",
   "execution_count": 26,
   "metadata": {
    "collapsed": false
   },
   "outputs": [],
   "source": [
    "#create json with parameters of a distribution \n",
    "#create list with bins ends and add inf right end\n",
    "bins_TOTSQFT_params = bins_TOTSQFT[1][:-1].tolist()\n",
    "bins_TOTSQFT_params.append(np.inf)\n",
    "\n",
    "bins_KWH_params = division_KWH[bins_index_KWH][:-2].tolist()\n",
    "bins_KWH_params.append(np.inf)\n",
    "\n",
    "params = []\n",
    "\n",
    "#house size\n",
    "params.append({'name':'house_size','type':'continuous','N_BINS':bins_TOTSQFT[1].shape[0] - 1,\\\n",
    "                      'BIN_ENDS':bins_TOTSQFT_params, 'representation':'binned'})\n",
    "params[-1]['values'] = list(range(0,params[-1]['N_BINS']))\n",
    "\n",
    "\n",
    "#house age\n",
    "params.append({'name':'house_age', 'type':'continuous', \\\n",
    "               'BIN_ENDS':[0, 5, 10, 20, 30, 40, 50, 60, np.inf],\\\n",
    "                      'representation':'binned',\\\n",
    "                      'values':[8, 7, 6, 5, 4, 3, 2, 1]})\n",
    "params[-1]['N_BINS'] = len(params[-1]['values'])\n",
    "\n",
    "\n",
    "#rooftype\n",
    "params.append({'name':'roof_type', 'type':'discrete',\\\n",
    "                     'representation':'discrete'})\n",
    "params[-1]['values'] = list(range(1, 9))\n",
    "params[-1]['values'].append(-2)\n",
    "params[-1]['N_BINS'] = len(params[-1]['values'])\n",
    "\n",
    "\n",
    "#tree shade\n",
    "params.append({'name':'tree_shade', 'type':'discrete', \\\n",
    "              'values':[0, 1], 'representation':'discrete'})\n",
    "params[-1]['N_BINS'] = len(params[-1]['values'])\n",
    "\n",
    "\n",
    "#gross household income\n",
    "params.append({'name':'income', 'type':'continuous', 'representation':'binned', \\\n",
    "               'BIN_ENDS':[0, 2499, 4999, 7499, 9999, 14999, 19999, 24999, 29999, 34999, 39999, \\\n",
    "                          44999, 49999, 54999, 59999, 64999, 69999, 74999, 79999, 84999, 89999, \\\n",
    "                          94999, 99999, 119999, np.inf]})\n",
    "\n",
    "params[-1]['N_BINS'] = len(params[-1]['BIN_ENDS']) - 1\n",
    "params[-1]['values'] = list(range(1,params[-1]['N_BINS'] + 1))\n",
    "\n",
    "\n",
    "#total electricity usage\n",
    "params.append({'name':'electricity', 'type':'continuous', 'representation':'binned', \\\n",
    "              'BIN_ENDS':bins_KWH_params, 'N_BINS':len(bins_KWH_params) - 1})\n",
    "params[-1]['values'] = list(range(0,params[-1]['N_BINS']))"
   ]
  },
  {
   "cell_type": "code",
   "execution_count": 27,
   "metadata": {
    "collapsed": false
   },
   "outputs": [],
   "source": [
    "with open('distribution.json', 'w') as outfile:\n",
    "    json.dump(params, outfile)"
   ]
  },
  {
   "cell_type": "code",
   "execution_count": null,
   "metadata": {
    "collapsed": false
   },
   "outputs": [],
   "source": [
    "df_save = df[['TOTSQFT_C', 'YEARMADERANGE', 'ROOFTYPE', 'TREESHAD', 'MONEYPY', 'KWH_C']]"
   ]
  },
  {
   "cell_type": "code",
   "execution_count": null,
   "metadata": {
    "collapsed": true
   },
   "outputs": [],
   "source": [
    "#sort dataframe\n",
    "df_save = df_save.sort_values(by=['TOTSQFT_C', 'YEARMADERANGE', 'ROOFTYPE', \\\n",
    "                                  'TREESHAD', 'MONEYPY', 'KWH_C'])"
   ]
  },
  {
   "cell_type": "code",
   "execution_count": null,
   "metadata": {
    "collapsed": true
   },
   "outputs": [],
   "source": [
    "df_save.to_csv('joint_distribution.csv')"
   ]
  },
  {
   "cell_type": "code",
   "execution_count": null,
   "metadata": {
    "collapsed": true
   },
   "outputs": [],
   "source": [
    "#smaller region"
   ]
  },
  {
   "cell_type": "code",
   "execution_count": null,
   "metadata": {
    "collapsed": false
   },
   "outputs": [],
   "source": [
    "index_region = df_full[(df_full['KOWNRENT'] ==1) & (df_full['DIVISION'] == 10)].index"
   ]
  },
  {
   "cell_type": "code",
   "execution_count": null,
   "metadata": {
    "collapsed": false
   },
   "outputs": [],
   "source": [
    "index_region.shape"
   ]
  },
  {
   "cell_type": "code",
   "execution_count": null,
   "metadata": {
    "collapsed": false
   },
   "outputs": [],
   "source": [
    "pd.DataFrame.hist(df_full.iloc[index_region], column='TOTSQFT', bins = 100)"
   ]
  },
  {
   "cell_type": "code",
   "execution_count": null,
   "metadata": {
    "collapsed": false
   },
   "outputs": [],
   "source": [
    "41472*24"
   ]
  },
  {
   "cell_type": "code",
   "execution_count": null,
   "metadata": {
    "collapsed": false
   },
   "outputs": [],
   "source": [
    "df_save['MONEYPY'].hist()"
   ]
  },
  {
   "cell_type": "code",
   "execution_count": null,
   "metadata": {
    "collapsed": false
   },
   "outputs": [],
   "source": [
    "df_save['MONEYPY'].value_counts()"
   ]
  },
  {
   "cell_type": "code",
   "execution_count": 24,
   "metadata": {
    "collapsed": false
   },
   "outputs": [
    {
     "data": {
      "text/plain": [
       "<matplotlib.axes._subplots.AxesSubplot at 0x10f1ec908>"
      ]
     },
     "execution_count": 24,
     "metadata": {},
     "output_type": "execute_result"
    },
    {
     "data": {
      "image/png": "[encoded data removed]",
      "text/plain": [
       "<matplotlib.figure.Figure at 0x10f5f2278>"
      ]
     },
     "metadata": {},
     "output_type": "display_data"
    }
   ],
   "source": [
    "df['MONEYPY'].hist()"
   ]
  },
  {
   "cell_type": "code",
   "execution_count": null,
   "metadata": {
    "collapsed": true
   },
   "outputs": [],
   "source": []
  },
  {
   "cell_type": "code",
   "execution_count": null,
   "metadata": {
    "collapsed": true
   },
   "outputs": [],
   "source": []
  },
  {
   "cell_type": "code",
   "execution_count": null,
   "metadata": {
    "collapsed": true
   },
   "outputs": [],
   "source": []
  },
  {
   "cell_type": "code",
   "execution_count": 36,
   "metadata": {
    "collapsed": true
   },
   "outputs": [],
   "source": [
    "el_price_2009 = 11.51\n",
    "el_price_2016 = 12.60\n",
    "el_cons_2009 = 1.0\n",
    "el_cons_2015 = 1.03"
   ]
  },
  {
   "cell_type": "code",
   "execution_count": 40,
   "metadata": {
    "collapsed": true
   },
   "outputs": [],
   "source": [
    "bins_custom_original = [0, 30, 60, 90, 120, 150, 180, 240, 300, 500]\n"
   ]
  },
  {
   "cell_type": "code",
   "execution_count": 37,
   "metadata": {
    "collapsed": false
   },
   "outputs": [],
   "source": [
    "df_full['DOLLAREL_M'] = df_full['DOLLAREL']/12*el_price_2016/el_price_2009*el_cons_2015/el_cons_2009"
   ]
  },
  {
   "cell_type": "code",
   "execution_count": 73,
   "metadata": {
    "collapsed": false
   },
   "outputs": [
    {
     "data": {
      "image/png": "[encoded data removed]",
      "text/plain": [
       "<matplotlib.figure.Figure at 0x117297c18>"
      ]
     },
     "metadata": {},
     "output_type": "display_data"
    }
   ],
   "source": [
    "plot = pd.DataFrame.hist(df_full[(df_full['DOLLAREL'] <= 6000) & (df_full['KOWNRENT'] ==1) ], \\\n",
    "                  column='DOLLAREL_M', bins = bins_custom_original)"
   ]
  },
  {
   "cell_type": "code",
   "execution_count": 74,
   "metadata": {
    "collapsed": false
   },
   "outputs": [],
   "source": [
    "plot[0][0].figure.savefig('ElConsumption_1.png', dpi = 300)"
   ]
  },
  {
   "cell_type": "code",
   "execution_count": 75,
   "metadata": {
    "collapsed": true
   },
   "outputs": [],
   "source": [
    "bins_custom = [0, 60, 120, 180, 240, 300, 500]"
   ]
  },
  {
   "cell_type": "code",
   "execution_count": 76,
   "metadata": {
    "collapsed": false
   },
   "outputs": [
    {
     "data": {
      "image/png": "[encoded data removed]",
      "text/plain": [
       "<matplotlib.figure.Figure at 0x10d18bfd0>"
      ]
     },
     "metadata": {},
     "output_type": "display_data"
    }
   ],
   "source": [
    "plot = pd.DataFrame.hist(df_full[(df_full['DOLLAREL'] <= 6000) & (df_full['KOWNRENT'] ==1) ], \\\n",
    "                         column='DOLLAREL_M', bins = bins_custom)"
   ]
  },
  {
   "cell_type": "code",
   "execution_count": 77,
   "metadata": {
    "collapsed": true
   },
   "outputs": [],
   "source": [
    "plot[0][0].figure.savefig('ElConsumption_2.png', dpi = 300)"
   ]
  },
  {
   "cell_type": "code",
   "execution_count": 78,
   "metadata": {
    "collapsed": true
   },
   "outputs": [],
   "source": [
    "index_region = df_full[(df_full['KOWNRENT'] ==1) & (df_full['DIVISION'] == 10)].index"
   ]
  },
  {
   "cell_type": "code",
   "execution_count": 79,
   "metadata": {
    "collapsed": false
   },
   "outputs": [
    {
     "name": "stderr",
     "output_type": "stream",
     "text": [
      "/Users/wilfeli/anaconda/lib/python3.5/site-packages/pandas/core/frame.py:1942: UserWarning: Boolean Series key will be reindexed to match DataFrame index.\n",
      "  \"DataFrame index.\", UserWarning)\n"
     ]
    },
    {
     "data": {
      "image/png": "[encoded data removed]",
      "text/plain": [
       "<matplotlib.figure.Figure at 0x10d1c7780>"
      ]
     },
     "metadata": {},
     "output_type": "display_data"
    }
   ],
   "source": [
    "plot = pd.DataFrame.hist(df_full.iloc[index_region][df_full['DOLLAREL'] <= 6000], \\\n",
    "                  column='DOLLAREL_M', bins = bins_custom_original)"
   ]
  },
  {
   "cell_type": "code",
   "execution_count": 80,
   "metadata": {
    "collapsed": true
   },
   "outputs": [],
   "source": [
    "plot[0][0].figure.savefig('ElConsumption_3.png', dpi = 300)"
   ]
  },
  {
   "cell_type": "code",
   "execution_count": 81,
   "metadata": {
    "collapsed": false
   },
   "outputs": [
    {
     "name": "stderr",
     "output_type": "stream",
     "text": [
      "/Users/wilfeli/anaconda/lib/python3.5/site-packages/pandas/core/frame.py:1942: UserWarning: Boolean Series key will be reindexed to match DataFrame index.\n",
      "  \"DataFrame index.\", UserWarning)\n"
     ]
    },
    {
     "data": {
      "image/png": "[encoded data removed]",
      "text/plain": [
       "<matplotlib.figure.Figure at 0x10d1c7978>"
      ]
     },
     "metadata": {},
     "output_type": "display_data"
    }
   ],
   "source": [
    "plot = pd.DataFrame.hist(df_full.iloc[index_region][df_full['DOLLAREL'] <= 6000], \\\n",
    "                  column='DOLLAREL_M', bins = bins_custom)"
   ]
  },
  {
   "cell_type": "code",
   "execution_count": 82,
   "metadata": {
    "collapsed": true
   },
   "outputs": [],
   "source": [
    "plot[0][0].figure.savefig('ElConsumption_4.png', dpi = 300)"
   ]
  },
  {
   "cell_type": "code",
   "execution_count": 83,
   "metadata": {
    "collapsed": true
   },
   "outputs": [],
   "source": [
    "index_region = df_full[(df_full['KOWNRENT'] ==1) & (df_full['DIVISION'] == 1)].index"
   ]
  },
  {
   "cell_type": "code",
   "execution_count": 84,
   "metadata": {
    "collapsed": false
   },
   "outputs": [
    {
     "name": "stderr",
     "output_type": "stream",
     "text": [
      "/Users/wilfeli/anaconda/lib/python3.5/site-packages/pandas/core/frame.py:1942: UserWarning: Boolean Series key will be reindexed to match DataFrame index.\n",
      "  \"DataFrame index.\", UserWarning)\n"
     ]
    },
    {
     "data": {
      "image/png": "[encoded data removed]",
      "text/plain": [
       "<matplotlib.figure.Figure at 0x117359588>"
      ]
     },
     "metadata": {},
     "output_type": "display_data"
    }
   ],
   "source": [
    "plot = pd.DataFrame.hist(df_full.iloc[index_region][df_full['DOLLAREL'] <= 6000], \\\n",
    "                  column='DOLLAREL_M', bins = bins_custom_original)"
   ]
  },
  {
   "cell_type": "code",
   "execution_count": 85,
   "metadata": {
    "collapsed": true
   },
   "outputs": [],
   "source": [
    "plot[0][0].figure.savefig('ElConsumption_5.png', dpi = 300)"
   ]
  },
  {
   "cell_type": "code",
   "execution_count": 86,
   "metadata": {
    "collapsed": false
   },
   "outputs": [
    {
     "name": "stderr",
     "output_type": "stream",
     "text": [
      "/Users/wilfeli/anaconda/lib/python3.5/site-packages/pandas/core/frame.py:1942: UserWarning: Boolean Series key will be reindexed to match DataFrame index.\n",
      "  \"DataFrame index.\", UserWarning)\n"
     ]
    },
    {
     "data": {
      "image/png": "[encoded data removed]",
      "text/plain": [
       "<matplotlib.figure.Figure at 0x10583ff60>"
      ]
     },
     "metadata": {},
     "output_type": "display_data"
    }
   ],
   "source": [
    "plot = pd.DataFrame.hist(df_full.iloc[index_region][df_full['DOLLAREL'] <= 6000], \\\n",
    "                  column='DOLLAREL_M', bins = bins_custom)"
   ]
  },
  {
   "cell_type": "code",
   "execution_count": 87,
   "metadata": {
    "collapsed": true
   },
   "outputs": [],
   "source": [
    "plot[0][0].figure.savefig('ElConsumption_6.png', dpi = 300)"
   ]
  },
  {
   "cell_type": "code",
   "execution_count": null,
   "metadata": {
    "collapsed": true
   },
   "outputs": [],
   "source": []
  },
  {
   "cell_type": "code",
   "execution_count": null,
   "metadata": {
    "collapsed": true
   },
   "outputs": [],
   "source": []
  },
  {
   "cell_type": "code",
   "execution_count": null,
   "metadata": {
    "collapsed": true
   },
   "outputs": [],
   "source": []
  },
  {
   "cell_type": "code",
   "execution_count": 10,
   "metadata": {
    "collapsed": false
   },
   "outputs": [
    {
     "data": {
      "text/html": [
       "<div>\n",
       "<table border=\"1\" class=\"dataframe\">\n",
       "  <thead>\n",
       "    <tr style=\"text-align: right;\">\n",
       "      <th></th>\n",
       "      <th>DOEID</th>\n",
       "      <th>REGIONC</th>\n",
       "      <th>DIVISION</th>\n",
       "      <th>REPORTABLE_DOMAIN</th>\n",
       "      <th>TYPEHUQ</th>\n",
       "      <th>NWEIGHT</th>\n",
       "      <th>HDD65</th>\n",
       "      <th>CDD65</th>\n",
       "      <th>HDD30YR</th>\n",
       "      <th>CDD30YR</th>\n",
       "      <th>...</th>\n",
       "      <th>SCALEEL</th>\n",
       "      <th>KAVALNG</th>\n",
       "      <th>PERIODNG</th>\n",
       "      <th>SCALENG</th>\n",
       "      <th>PERIODLP</th>\n",
       "      <th>SCALELP</th>\n",
       "      <th>PERIODFO</th>\n",
       "      <th>SCALEFO</th>\n",
       "      <th>PERIODKR</th>\n",
       "      <th>SCALEKER</th>\n",
       "    </tr>\n",
       "  </thead>\n",
       "  <tbody>\n",
       "    <tr>\n",
       "      <th>count</th>\n",
       "      <td>31.000000</td>\n",
       "      <td>31.000000</td>\n",
       "      <td>31.000000</td>\n",
       "      <td>31.000000</td>\n",
       "      <td>31.000000</td>\n",
       "      <td>31.000000</td>\n",
       "      <td>31.000000</td>\n",
       "      <td>31.000000</td>\n",
       "      <td>31.000000</td>\n",
       "      <td>31.000000</td>\n",
       "      <td>...</td>\n",
       "      <td>31</td>\n",
       "      <td>31.000000</td>\n",
       "      <td>31.000000</td>\n",
       "      <td>31.000000</td>\n",
       "      <td>31.000000</td>\n",
       "      <td>31.000000</td>\n",
       "      <td>31.000000</td>\n",
       "      <td>31.000000</td>\n",
       "      <td>31.000000</td>\n",
       "      <td>31.000000</td>\n",
       "    </tr>\n",
       "    <tr>\n",
       "      <th>mean</th>\n",
       "      <td>5547.870968</td>\n",
       "      <td>3.225806</td>\n",
       "      <td>7.032258</td>\n",
       "      <td>19.451613</td>\n",
       "      <td>1.967742</td>\n",
       "      <td>8116.680960</td>\n",
       "      <td>2239.677419</td>\n",
       "      <td>2306.645161</td>\n",
       "      <td>2207.548387</td>\n",
       "      <td>2351.548387</td>\n",
       "      <td>...</td>\n",
       "      <td>0</td>\n",
       "      <td>0.580645</td>\n",
       "      <td>1.225806</td>\n",
       "      <td>0.258065</td>\n",
       "      <td>-1.580645</td>\n",
       "      <td>-1.741935</td>\n",
       "      <td>-1.806452</td>\n",
       "      <td>-1.838710</td>\n",
       "      <td>-1.774194</td>\n",
       "      <td>-1.838710</td>\n",
       "    </tr>\n",
       "    <tr>\n",
       "      <th>std</th>\n",
       "      <td>3301.709625</td>\n",
       "      <td>0.956022</td>\n",
       "      <td>3.219564</td>\n",
       "      <td>8.322014</td>\n",
       "      <td>0.179605</td>\n",
       "      <td>3296.018497</td>\n",
       "      <td>2251.363844</td>\n",
       "      <td>1398.433494</td>\n",
       "      <td>2341.590184</td>\n",
       "      <td>1561.931066</td>\n",
       "      <td>...</td>\n",
       "      <td>0</td>\n",
       "      <td>2.109885</td>\n",
       "      <td>2.929274</td>\n",
       "      <td>2.097105</td>\n",
       "      <td>1.118755</td>\n",
       "      <td>0.681554</td>\n",
       "      <td>0.749193</td>\n",
       "      <td>0.637536</td>\n",
       "      <td>1.257237</td>\n",
       "      <td>0.898027</td>\n",
       "    </tr>\n",
       "    <tr>\n",
       "      <th>min</th>\n",
       "      <td>60.000000</td>\n",
       "      <td>1.000000</td>\n",
       "      <td>1.000000</td>\n",
       "      <td>1.000000</td>\n",
       "      <td>1.000000</td>\n",
       "      <td>3912.874323</td>\n",
       "      <td>0.000000</td>\n",
       "      <td>253.000000</td>\n",
       "      <td>0.000000</td>\n",
       "      <td>137.000000</td>\n",
       "      <td>...</td>\n",
       "      <td>0</td>\n",
       "      <td>-2.000000</td>\n",
       "      <td>-2.000000</td>\n",
       "      <td>-2.000000</td>\n",
       "      <td>-2.000000</td>\n",
       "      <td>-2.000000</td>\n",
       "      <td>-2.000000</td>\n",
       "      <td>-2.000000</td>\n",
       "      <td>-2.000000</td>\n",
       "      <td>-2.000000</td>\n",
       "    </tr>\n",
       "    <tr>\n",
       "      <th>25%</th>\n",
       "      <td>3534.500000</td>\n",
       "      <td>3.000000</td>\n",
       "      <td>5.000000</td>\n",
       "      <td>17.000000</td>\n",
       "      <td>2.000000</td>\n",
       "      <td>6540.320934</td>\n",
       "      <td>620.500000</td>\n",
       "      <td>856.500000</td>\n",
       "      <td>585.500000</td>\n",
       "      <td>772.000000</td>\n",
       "      <td>...</td>\n",
       "      <td>0</td>\n",
       "      <td>-2.000000</td>\n",
       "      <td>-2.000000</td>\n",
       "      <td>-2.000000</td>\n",
       "      <td>-2.000000</td>\n",
       "      <td>-2.000000</td>\n",
       "      <td>-2.000000</td>\n",
       "      <td>-2.000000</td>\n",
       "      <td>-2.000000</td>\n",
       "      <td>-2.000000</td>\n",
       "    </tr>\n",
       "    <tr>\n",
       "      <th>50%</th>\n",
       "      <td>5425.000000</td>\n",
       "      <td>3.000000</td>\n",
       "      <td>7.000000</td>\n",
       "      <td>21.000000</td>\n",
       "      <td>2.000000</td>\n",
       "      <td>7169.306845</td>\n",
       "      <td>1207.000000</td>\n",
       "      <td>2214.000000</td>\n",
       "      <td>1366.000000</td>\n",
       "      <td>1881.000000</td>\n",
       "      <td>...</td>\n",
       "      <td>0</td>\n",
       "      <td>1.000000</td>\n",
       "      <td>1.000000</td>\n",
       "      <td>0.000000</td>\n",
       "      <td>-2.000000</td>\n",
       "      <td>-2.000000</td>\n",
       "      <td>-2.000000</td>\n",
       "      <td>-2.000000</td>\n",
       "      <td>-2.000000</td>\n",
       "      <td>-2.000000</td>\n",
       "    </tr>\n",
       "    <tr>\n",
       "      <th>75%</th>\n",
       "      <td>8221.000000</td>\n",
       "      <td>4.000000</td>\n",
       "      <td>10.000000</td>\n",
       "      <td>26.000000</td>\n",
       "      <td>2.000000</td>\n",
       "      <td>8148.532724</td>\n",
       "      <td>2563.500000</td>\n",
       "      <td>3513.000000</td>\n",
       "      <td>2532.000000</td>\n",
       "      <td>3746.500000</td>\n",
       "      <td>...</td>\n",
       "      <td>0</td>\n",
       "      <td>3.000000</td>\n",
       "      <td>5.000000</td>\n",
       "      <td>3.000000</td>\n",
       "      <td>-2.000000</td>\n",
       "      <td>-2.000000</td>\n",
       "      <td>-2.000000</td>\n",
       "      <td>-2.000000</td>\n",
       "      <td>-2.000000</td>\n",
       "      <td>-2.000000</td>\n",
       "    </tr>\n",
       "    <tr>\n",
       "      <th>max</th>\n",
       "      <td>11467.000000</td>\n",
       "      <td>4.000000</td>\n",
       "      <td>10.000000</td>\n",
       "      <td>27.000000</td>\n",
       "      <td>2.000000</td>\n",
       "      <td>19177.030020</td>\n",
       "      <td>7136.000000</td>\n",
       "      <td>4328.000000</td>\n",
       "      <td>7126.000000</td>\n",
       "      <td>4892.000000</td>\n",
       "      <td>...</td>\n",
       "      <td>0</td>\n",
       "      <td>3.000000</td>\n",
       "      <td>5.000000</td>\n",
       "      <td>3.000000</td>\n",
       "      <td>2.000000</td>\n",
       "      <td>0.000000</td>\n",
       "      <td>1.000000</td>\n",
       "      <td>1.000000</td>\n",
       "      <td>5.000000</td>\n",
       "      <td>3.000000</td>\n",
       "    </tr>\n",
       "  </tbody>\n",
       "</table>\n",
       "<p>8 rows × 929 columns</p>\n",
       "</div>"
      ],
      "text/plain": [
       "              DOEID    REGIONC   DIVISION  REPORTABLE_DOMAIN    TYPEHUQ  \\\n",
       "count     31.000000  31.000000  31.000000          31.000000  31.000000   \n",
       "mean    5547.870968   3.225806   7.032258          19.451613   1.967742   \n",
       "std     3301.709625   0.956022   3.219564           8.322014   0.179605   \n",
       "min       60.000000   1.000000   1.000000           1.000000   1.000000   \n",
       "25%     3534.500000   3.000000   5.000000          17.000000   2.000000   \n",
       "50%     5425.000000   3.000000   7.000000          21.000000   2.000000   \n",
       "75%     8221.000000   4.000000  10.000000          26.000000   2.000000   \n",
       "max    11467.000000   4.000000  10.000000          27.000000   2.000000   \n",
       "\n",
       "            NWEIGHT        HDD65        CDD65      HDD30YR      CDD30YR  \\\n",
       "count     31.000000    31.000000    31.000000    31.000000    31.000000   \n",
       "mean    8116.680960  2239.677419  2306.645161  2207.548387  2351.548387   \n",
       "std     3296.018497  2251.363844  1398.433494  2341.590184  1561.931066   \n",
       "min     3912.874323     0.000000   253.000000     0.000000   137.000000   \n",
       "25%     6540.320934   620.500000   856.500000   585.500000   772.000000   \n",
       "50%     7169.306845  1207.000000  2214.000000  1366.000000  1881.000000   \n",
       "75%     8148.532724  2563.500000  3513.000000  2532.000000  3746.500000   \n",
       "max    19177.030020  7136.000000  4328.000000  7126.000000  4892.000000   \n",
       "\n",
       "         ...      SCALEEL    KAVALNG   PERIODNG    SCALENG   PERIODLP  \\\n",
       "count    ...           31  31.000000  31.000000  31.000000  31.000000   \n",
       "mean     ...            0   0.580645   1.225806   0.258065  -1.580645   \n",
       "std      ...            0   2.109885   2.929274   2.097105   1.118755   \n",
       "min      ...            0  -2.000000  -2.000000  -2.000000  -2.000000   \n",
       "25%      ...            0  -2.000000  -2.000000  -2.000000  -2.000000   \n",
       "50%      ...            0   1.000000   1.000000   0.000000  -2.000000   \n",
       "75%      ...            0   3.000000   5.000000   3.000000  -2.000000   \n",
       "max      ...            0   3.000000   5.000000   3.000000   2.000000   \n",
       "\n",
       "         SCALELP   PERIODFO    SCALEFO   PERIODKR   SCALEKER  \n",
       "count  31.000000  31.000000  31.000000  31.000000  31.000000  \n",
       "mean   -1.741935  -1.806452  -1.838710  -1.774194  -1.838710  \n",
       "std     0.681554   0.749193   0.637536   1.257237   0.898027  \n",
       "min    -2.000000  -2.000000  -2.000000  -2.000000  -2.000000  \n",
       "25%    -2.000000  -2.000000  -2.000000  -2.000000  -2.000000  \n",
       "50%    -2.000000  -2.000000  -2.000000  -2.000000  -2.000000  \n",
       "75%    -2.000000  -2.000000  -2.000000  -2.000000  -2.000000  \n",
       "max     0.000000   1.000000   1.000000   5.000000   3.000000  \n",
       "\n",
       "[8 rows x 929 columns]"
      ]
     },
     "execution_count": 10,
     "metadata": {},
     "output_type": "execute_result"
    }
   ],
   "source": [
    "df_full[df_full['DOLLAREL'] > 6000].describe()"
   ]
  },
  {
   "cell_type": "code",
   "execution_count": null,
   "metadata": {
    "collapsed": true
   },
   "outputs": [],
   "source": []
  },
  {
   "cell_type": "code",
   "execution_count": null,
   "metadata": {
    "collapsed": true
   },
   "outputs": [],
   "source": []
  },
  {
   "cell_type": "code",
   "execution_count": null,
   "metadata": {
    "collapsed": true
   },
   "outputs": [],
   "source": []
  },
  {
   "cell_type": "code",
   "execution_count": null,
   "metadata": {
    "collapsed": true
   },
   "outputs": [],
   "source": []
  },
  {
   "cell_type": "code",
   "execution_count": null,
   "metadata": {
    "collapsed": true
   },
   "outputs": [],
   "source": []
  },
  {
   "cell_type": "code",
   "execution_count": null,
   "metadata": {
    "collapsed": true
   },
   "outputs": [],
   "source": []
  },
  {
   "cell_type": "code",
   "execution_count": null,
   "metadata": {
    "collapsed": true
   },
   "outputs": [],
   "source": []
  }
 ],
 "metadata": {
  "kernelspec": {
   "display_name": "Python 3",
   "language": "python",
   "name": "python3"
  },
  "language_info": {
   "codemirror_mode": {
    "name": "ipython",
    "version": 3
   },
   "file_extension": ".py",
   "mimetype": "text/x-python",
   "name": "python",
   "nbconvert_exporter": "python",
   "pygments_lexer": "ipython3",
   "version": "3.5.0"
  }
 },
 "nbformat": 4,
 "nbformat_minor": 0
}
