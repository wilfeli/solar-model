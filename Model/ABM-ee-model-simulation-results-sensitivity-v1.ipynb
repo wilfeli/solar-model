{
 "cells": [
  {
   "cell_type": "code",
   "execution_count": 1,
   "metadata": {
    "collapsed": true
   },
   "outputs": [],
   "source": [
    "import ctypes\n",
    "import os\n",
    "import threading\n",
    "import pandas as pd\n",
    "import numpy as np\n",
    "%matplotlib inline\n",
    "import matplotlib.pyplot as plt\n",
    "import matplotlib\n",
    "from matplotlib import cm\n",
    "matplotlib.style.use('ggplot')\n",
    "import math\n",
    "import concurrent.futures\n",
    "import glob\n",
    "import json\n",
    "import scipy as sp\n",
    "import scipy.special\n",
    "from matplotlib.ticker import FormatStrFormatter\n",
    "import subprocess\n",
    "import random"
   ]
  },
  {
   "cell_type": "code",
   "execution_count": 2,
   "metadata": {
    "collapsed": true
   },
   "outputs": [],
   "source": [
    "data_mode = 'CA'"
   ]
  },
  {
   "cell_type": "code",
   "execution_count": 3,
   "metadata": {
    "collapsed": true
   },
   "outputs": [],
   "source": [
    "test_mode = 'Jul-12-2018/EEModel/RelBaseLearn08/'\n",
    "test_name = 'RelBaseLearn08'"
   ]
  },
  {
   "cell_type": "code",
   "execution_count": 27,
   "metadata": {
    "collapsed": true
   },
   "outputs": [],
   "source": [
    "#names of columns in a file\n",
    "names = ['N_installed', 'N_installed_sum', 'P_av_total', 'P_av']\n",
    "for i in range(3):\n",
    "    names.append('sei_' + str(i))\n",
    "for i in range(3):\n",
    "    names.append('sei_rel_' + str(i))\n",
    "for i in range(7):\n",
    "    names.append('sem_' + str(i))\n",
    "for i in range(7):\n",
    "    names.append('sem_rel_' + str(i))\n",
    "for i in range(3):\n",
    "    names.append('sei_N_' + str(i))\n",
    "\n",
    "\n",
    "#read few files\n",
    "#save into database\n",
    "dfs_ = []\n",
    "#read last simulation result\n",
    "files = glob.glob('/Users/wilfeli/Dropbox/ABM/SolarPanels/ABMIRISLab/Saves/' + test_mode + data_mode + '/*[_w].csv')\n",
    "files.sort(key=os.path.getmtime, reverse=True)\n",
    "\n",
    "\n",
    "\n",
    "indexing_range = range(0,10)\n",
    "\n",
    "\n",
    "#take top x files \n",
    "for file in [files[i] for i in indexing_range]:\n",
    "    df_ = pd.read_csv(file, names=names, low_memory=False)\n",
    "    \n",
    "     #create new column with max and min\n",
    "    df_['sem_max'] = df_[['sem_' + str(i) for i in range(7)]].max(axis=1)\n",
    "    df_['sem_rel_min'] = df_[['sem_rel_' + str(i) for i in range(7)]].min(axis=1)\n",
    "    df_['sei_max'] = df_[['sei_' + str(i) for i in range(3)]].min(axis=1)\n",
    "    df_['sei_rel_min'] = df_[['sei_rel_' + str(i) for i in range(3)]].min(axis=1)\n",
    "    \n",
    "    dfs_.append(df_)\n",
    "\n",
    "#create df from them    \n",
    "df_concat = pd.concat(dfs_)\n",
    "df = df_concat.groupby(level=0).mean()\n",
    "df_std = df_concat.groupby(level=0).std()"
   ]
  },
  {
   "cell_type": "code",
   "execution_count": 6,
   "metadata": {
    "collapsed": true
   },
   "outputs": [],
   "source": [
    "N_SIMULATION_TICKS = 20"
   ]
  },
  {
   "cell_type": "code",
   "execution_count": 7,
   "metadata": {
    "collapsed": true
   },
   "outputs": [],
   "source": [
    "N_TICKS_DISPLAY = 15"
   ]
  },
  {
   "cell_type": "code",
   "execution_count": 8,
   "metadata": {
    "collapsed": true
   },
   "outputs": [],
   "source": [
    "N_AGENTS_TOTAL = 1000"
   ]
  },
  {
   "cell_type": "code",
   "execution_count": 12,
   "metadata": {
    "collapsed": false
   },
   "outputs": [
    {
     "ename": "NameError",
     "evalue": "name 'df_ma' is not defined",
     "output_type": "error",
     "traceback": [
      "\u001b[0;31m---------------------------------------------------------------------------\u001b[0m",
      "\u001b[0;31mNameError\u001b[0m                                 Traceback (most recent call last)",
      "\u001b[0;32m<ipython-input-12-5cf2402a2dee>\u001b[0m in \u001b[0;36m<module>\u001b[0;34m()\u001b[0m\n\u001b[1;32m     11\u001b[0m \u001b[1;33m\u001b[0m\u001b[0m\n\u001b[1;32m     12\u001b[0m \u001b[1;33m\u001b[0m\u001b[0m\n\u001b[0;32m---> 13\u001b[0;31m p3, = axes.plot(ind, df_ma['N_installed'][0:N_TICKS_DISPLAY]/1000*100, \"c-\", #                label=r'$\\%\\ installations\\: MA\\pm 2\\sigma$')\n\u001b[0m\u001b[1;32m     14\u001b[0m                 label=r'$\\%\\ installations\\: MA\\:(each\\:year)$')\n\u001b[1;32m     15\u001b[0m \u001b[0mp4\u001b[0m\u001b[1;33m,\u001b[0m \u001b[1;33m=\u001b[0m \u001b[0mpar1\u001b[0m\u001b[1;33m.\u001b[0m\u001b[0mplot\u001b[0m\u001b[1;33m(\u001b[0m\u001b[0mind\u001b[0m\u001b[1;33m,\u001b[0m \u001b[0mdf_ma\u001b[0m\u001b[1;33m[\u001b[0m\u001b[1;34m'N_installed_sum'\u001b[0m\u001b[1;33m]\u001b[0m\u001b[1;33m[\u001b[0m\u001b[1;36m0\u001b[0m\u001b[1;33m:\u001b[0m\u001b[0mN_TICKS_DISPLAY\u001b[0m\u001b[1;33m]\u001b[0m\u001b[1;33m,\u001b[0m \u001b[1;34m\"--mo\"\u001b[0m\u001b[1;33m,\u001b[0m                 \u001b[0mlabel\u001b[0m\u001b[1;33m=\u001b[0m\u001b[1;34mr'$total\\:installations\\: MA\\pm 2\\sigma$'\u001b[0m\u001b[1;33m)\u001b[0m\u001b[1;33m\u001b[0m\u001b[0m\n",
      "\u001b[0;31mNameError\u001b[0m: name 'df_ma' is not defined"
     ]
    },
    {
     "data": {
      "image/png": "[encoded data removed]",
      "text/plain": [
       "<matplotlib.figure.Figure at 0x1c6a8432c50>"
      ]
     },
     "metadata": {},
     "output_type": "display_data"
    }
   ],
   "source": [
    "fig, axes = plt.subplots(nrows=1, ncols=1)\n",
    "fig.subplots_adjust(right=0.85)\n",
    "\n",
    "par1 = axes.twinx()\n",
    "\n",
    "ind = df.index.values[0:N_TICKS_DISPLAY] + 1\n",
    "\n",
    "p1, = axes.plot(ind, df['N_installed'][0:N_TICKS_DISPLAY]/1000*100, \"g-\", \\\n",
    "#                label=r'$\\%\\ installations\\: CA\\pm 2\\sigma$')\n",
    "                label=r'$\\%\\ installations\\: CA\\:(each\\:year)$')\n",
    "p2, = par1.plot(ind, df['N_installed_sum'][0:N_TICKS_DISPLAY], \"--ro\", \\\n",
    "                label=r'$total\\:installations\\: CA \\pm 2\\sigma$')\n",
    "\n",
    "\n",
    "p3, = axes.plot(ind, df_ma['N_installed'][0:N_TICKS_DISPLAY]/1000*100, \"c-\", \\\n",
    "#                label=r'$\\%\\ installations\\: MA\\pm 2\\sigma$')\n",
    "                label=r'$\\%\\ installations\\: MA\\:(each\\:year)$')\n",
    "p4, = par1.plot(ind, df_ma['N_installed_sum'][0:N_TICKS_DISPLAY], \"--mo\", \\\n",
    "                label=r'$total\\:installations\\: MA\\pm 2\\sigma$')\n",
    "\n",
    "\n",
    "#add +- 2 std\n",
    "#axes.fill_between(ind, \n",
    "#                  df['N_installed'][0:N_TICKS_DISPLAY]/1000*100-2*df_std['N_installed'][0:N_TICKS_DISPLAY]/1000*100, \n",
    "#                  df['N_installed'][0:N_TICKS_DISPLAY]/1000*100+2*df_std['N_installed'][0:N_TICKS_DISPLAY]/1000*100, \n",
    "#                  color='g', \n",
    "#                  alpha=0.2)\n",
    "#axes.fill_between(ind, \n",
    "#                  df_ma['N_installed'][0:N_TICKS_DISPLAY]/1000*100-2*df_ma_std['N_installed'][0:N_TICKS_DISPLAY]/1000*100, \n",
    "#                  df_ma['N_installed'][0:N_TICKS_DISPLAY]/1000*100+2*df_ma_std['N_installed'][0:N_TICKS_DISPLAY]/1000*100, \n",
    "#                  color='c', \n",
    "#                  alpha=0.2)\n",
    "\n",
    "par1.fill_between(ind, \n",
    "                 df['N_installed_sum'][0:N_TICKS_DISPLAY]-2*df_std['N_installed_sum'][0:N_TICKS_DISPLAY],\n",
    "                 df['N_installed_sum'][0:N_TICKS_DISPLAY]+2*df_std['N_installed_sum'][0:N_TICKS_DISPLAY],\n",
    "                  color='r', \n",
    "                  alpha=0.2)\n",
    "\n",
    "par1.fill_between(ind, \n",
    "                 df_ma['N_installed_sum'][0:N_TICKS_DISPLAY]-2*df_ma_std['N_installed_sum'][0:N_TICKS_DISPLAY],\n",
    "                 df_ma['N_installed_sum'][0:N_TICKS_DISPLAY]+2*df_ma_std['N_installed_sum'][0:N_TICKS_DISPLAY],\n",
    "                  color='m', \n",
    "                  alpha=0.2)\n",
    "\n",
    "axes.set_xlabel(\"Time\")\n",
    "axes.set_ylabel(\"Hit % installations (each year)\")\n",
    "par1.set_ylabel(\"Total number of installations\")\n",
    "\n",
    "axes.set_autoscaley_on(False)\n",
    "axes.set_xlim([1,15])\n",
    "start = 1\n",
    "end = 16\n",
    "axes.xaxis.set_ticks(np.arange(start, end, 1))\n",
    "\n",
    "axes.yaxis.label.set_color(p1.get_color())\n",
    "par1.yaxis.label.set_color(p2.get_color())\n",
    "\n",
    "\n",
    "tkw = dict(size=4, width=1.5)\n",
    "axes.tick_params(axis='y', colors=p1.get_color(), **tkw)\n",
    "par1.tick_params(axis='y', colors=p2.get_color(), **tkw)\n",
    "axes.tick_params(axis='x', **tkw)\n",
    "\n",
    "lines = [p1, p3, p2, p4]\n",
    "\n",
    "axes.legend(lines, [l.get_label() for l in lines], fontsize='10')\n",
    "plt.savefig('Simulation_results_install_CA_MA_' + '_' + test_name + '_Jul23' + '.png', dpi=300)\n",
    "plt.show()"
   ]
  },
  {
   "cell_type": "code",
   "execution_count": 13,
   "metadata": {
    "collapsed": false
   },
   "outputs": [
    {
     "data": {
      "text/plain": [
       "0      1.15\n",
       "1      2.23\n",
       "2      3.31\n",
       "3      4.25\n",
       "4      5.15\n",
       "5      6.20\n",
       "6      7.15\n",
       "7      7.82\n",
       "8      8.57\n",
       "9      9.31\n",
       "10    10.14\n",
       "11    10.89\n",
       "12    11.56\n",
       "13    12.24\n",
       "14    12.90\n",
       "Name: N_installed_sum, dtype: float64"
      ]
     },
     "execution_count": 13,
     "metadata": {},
     "output_type": "execute_result"
    }
   ],
   "source": [
    "df['N_installed_sum'][0:N_TICKS_DISPLAY]/1000*100 #cost =="
   ]
  },
  {
   "cell_type": "code",
   "execution_count": 15,
   "metadata": {
    "collapsed": false
   },
   "outputs": [
    {
     "data": {
      "text/plain": [
       "0     0.87\n",
       "1     1.59\n",
       "2     2.09\n",
       "3     2.65\n",
       "4     3.26\n",
       "5     3.66\n",
       "6     4.17\n",
       "7     4.56\n",
       "8     4.82\n",
       "9     5.04\n",
       "10    5.28\n",
       "11    5.54\n",
       "12    5.75\n",
       "13    5.95\n",
       "14    6.14\n",
       "Name: N_installed_sum, dtype: float64"
      ]
     },
     "execution_count": 15,
     "metadata": {},
     "output_type": "execute_result"
    }
   ],
   "source": [
    "df['N_installed_sum'][0:N_TICKS_DISPLAY]/1000*100 #cost 30"
   ]
  },
  {
   "cell_type": "code",
   "execution_count": 17,
   "metadata": {
    "collapsed": false
   },
   "outputs": [
    {
     "data": {
      "text/plain": [
       "0      1.57\n",
       "1      3.12\n",
       "2      5.22\n",
       "3      7.65\n",
       "4     10.74\n",
       "5     14.05\n",
       "6     17.57\n",
       "7     21.24\n",
       "8     24.78\n",
       "9     28.10\n",
       "10    31.28\n",
       "11    34.52\n",
       "12    37.60\n",
       "13    40.28\n",
       "14    42.75\n",
       "Name: N_installed_sum, dtype: float64"
      ]
     },
     "execution_count": 17,
     "metadata": {},
     "output_type": "execute_result"
    }
   ],
   "source": [
    "df['N_installed_sum'][0:N_TICKS_DISPLAY]/1000*100 #cost 10"
   ]
  },
  {
   "cell_type": "code",
   "execution_count": 19,
   "metadata": {
    "collapsed": false
   },
   "outputs": [
    {
     "data": {
      "text/plain": [
       "0      3.22\n",
       "1      5.95\n",
       "2      8.13\n",
       "3     10.29\n",
       "4     12.28\n",
       "5     14.11\n",
       "6     15.94\n",
       "7     17.77\n",
       "8     19.74\n",
       "9     21.32\n",
       "10    22.94\n",
       "11    24.67\n",
       "12    26.32\n",
       "13    27.88\n",
       "14    29.19\n",
       "Name: N_installed_sum, dtype: float64"
      ]
     },
     "execution_count": 19,
     "metadata": {},
     "output_type": "execute_result"
    }
   ],
   "source": [
    "df['N_installed_sum'][0:N_TICKS_DISPLAY]/1000*100 #utility 0.75"
   ]
  },
  {
   "cell_type": "code",
   "execution_count": 21,
   "metadata": {
    "collapsed": false
   },
   "outputs": [
    {
     "data": {
      "text/plain": [
       "0     0.31\n",
       "1     0.68\n",
       "2     0.99\n",
       "3     1.35\n",
       "4     1.60\n",
       "5     1.92\n",
       "6     2.17\n",
       "7     2.53\n",
       "8     2.82\n",
       "9     3.02\n",
       "10    3.22\n",
       "11    3.37\n",
       "12    3.58\n",
       "13    3.78\n",
       "14    3.95\n",
       "Name: N_installed_sum, dtype: float64"
      ]
     },
     "execution_count": 21,
     "metadata": {},
     "output_type": "execute_result"
    }
   ],
   "source": [
    "df['N_installed_sum'][0:N_TICKS_DISPLAY]/1000*100 #utility 0.25"
   ]
  },
  {
   "cell_type": "code",
   "execution_count": 23,
   "metadata": {
    "collapsed": false
   },
   "outputs": [
    {
     "data": {
      "text/plain": [
       "0      1.16\n",
       "1      2.18\n",
       "2      3.06\n",
       "3      4.02\n",
       "4      4.81\n",
       "5      5.47\n",
       "6      6.02\n",
       "7      6.68\n",
       "8      7.49\n",
       "9      8.05\n",
       "10     8.53\n",
       "11     9.05\n",
       "12     9.72\n",
       "13    10.18\n",
       "14    10.67\n",
       "Name: N_installed_sum, dtype: float64"
      ]
     },
     "execution_count": 23,
     "metadata": {},
     "output_type": "execute_result"
    }
   ],
   "source": [
    "df['N_installed_sum'][0:N_TICKS_DISPLAY]/1000*100 #hardware 0.975"
   ]
  },
  {
   "cell_type": "code",
   "execution_count": 26,
   "metadata": {
    "collapsed": false
   },
   "outputs": [
    {
     "data": {
      "text/plain": [
       "0      1.40\n",
       "1      2.56\n",
       "2      3.74\n",
       "3      5.00\n",
       "4      6.04\n",
       "5      7.32\n",
       "6      8.61\n",
       "7      9.64\n",
       "8     10.89\n",
       "9     11.96\n",
       "10    12.91\n",
       "11    13.95\n",
       "12    14.91\n",
       "13    15.87\n",
       "14    16.69\n",
       "Name: N_installed_sum, dtype: float64"
      ]
     },
     "execution_count": 26,
     "metadata": {},
     "output_type": "execute_result"
    }
   ],
   "source": [
    "df['N_installed_sum'][0:N_TICKS_DISPLAY]/1000*100 #hardware 0.325"
   ]
  },
  {
   "cell_type": "code",
   "execution_count": 12,
   "metadata": {
    "collapsed": false
   },
   "outputs": [
    {
     "data": {
      "text/plain": [
       "0      1.11\n",
       "1      2.33\n",
       "2      3.40\n",
       "3      4.32\n",
       "4      5.43\n",
       "5      6.15\n",
       "6      7.10\n",
       "7      8.01\n",
       "8      8.86\n",
       "9      9.61\n",
       "10    10.34\n",
       "11    10.93\n",
       "12    11.70\n",
       "13    12.35\n",
       "14    12.99\n",
       "Name: N_installed_sum, dtype: float64"
      ]
     },
     "execution_count": 12,
     "metadata": {},
     "output_type": "execute_result"
    }
   ],
   "source": [
    "df['N_installed_sum'][0:N_TICKS_DISPLAY]/1000*100 #eff 0.24"
   ]
  },
  {
   "cell_type": "code",
   "execution_count": 10,
   "metadata": {
    "collapsed": false
   },
   "outputs": [
    {
     "data": {
      "text/plain": [
       "0      1.44\n",
       "1      2.56\n",
       "2      3.47\n",
       "3      4.36\n",
       "4      5.34\n",
       "5      6.25\n",
       "6      6.99\n",
       "7      7.69\n",
       "8      8.46\n",
       "9      9.16\n",
       "10     9.88\n",
       "11    10.67\n",
       "12    11.35\n",
       "13    12.12\n",
       "14    12.81\n",
       "Name: N_installed_sum, dtype: float64"
      ]
     },
     "execution_count": 10,
     "metadata": {},
     "output_type": "execute_result"
    }
   ],
   "source": [
    "df['N_installed_sum'][0:N_TICKS_DISPLAY]/1000*100 #eff 0.08 cost = base"
   ]
  },
  {
   "cell_type": "code",
   "execution_count": 8,
   "metadata": {
    "collapsed": false
   },
   "outputs": [
    {
     "data": {
      "text/plain": [
       "0      1.42\n",
       "1      2.72\n",
       "2      4.09\n",
       "3      5.38\n",
       "4      6.64\n",
       "5      7.71\n",
       "6      8.78\n",
       "7      9.82\n",
       "8     10.95\n",
       "9     11.91\n",
       "10    12.89\n",
       "11    13.81\n",
       "12    14.77\n",
       "13    15.57\n",
       "14    16.23\n",
       "Name: N_installed_sum, dtype: float64"
      ]
     },
     "execution_count": 8,
     "metadata": {},
     "output_type": "execute_result"
    }
   ],
   "source": [
    "df['N_installed_sum'][0:N_TICKS_DISPLAY]/1000*100 #jul 29, eff 0.24, cost 0.325"
   ]
  },
  {
   "cell_type": "code",
   "execution_count": 14,
   "metadata": {
    "collapsed": false
   },
   "outputs": [
    {
     "data": {
      "text/plain": [
       "0      1.32\n",
       "1      2.22\n",
       "2      3.15\n",
       "3      3.98\n",
       "4      4.76\n",
       "5      5.46\n",
       "6      6.04\n",
       "7      6.61\n",
       "8      7.24\n",
       "9      7.88\n",
       "10     8.48\n",
       "11     9.12\n",
       "12     9.66\n",
       "13    10.14\n",
       "14    10.73\n",
       "Name: N_installed_sum, dtype: float64"
      ]
     },
     "execution_count": 14,
     "metadata": {},
     "output_type": "execute_result"
    }
   ],
   "source": [
    "df['N_installed_sum'][0:N_TICKS_DISPLAY]/1000*100 #jul 29, eff 0.08, cost 0.975"
   ]
  },
  {
   "cell_type": "code",
   "execution_count": 16,
   "metadata": {
    "collapsed": false
   },
   "outputs": [
    {
     "data": {
      "text/plain": [
       "0      1.50\n",
       "1      2.61\n",
       "2      3.67\n",
       "3      4.62\n",
       "4      5.57\n",
       "5      6.44\n",
       "6      7.15\n",
       "7      7.97\n",
       "8      8.75\n",
       "9      9.51\n",
       "10    10.18\n",
       "11    10.77\n",
       "12    11.43\n",
       "13    12.08\n",
       "14    12.66\n",
       "Name: N_installed_sum, dtype: float64"
      ]
     },
     "execution_count": 16,
     "metadata": {},
     "output_type": "execute_result"
    }
   ],
   "source": [
    "df['N_installed_sum'][0:N_TICKS_DISPLAY]/1000*100 #jul 29, rel 0.3"
   ]
  },
  {
   "cell_type": "code",
   "execution_count": 18,
   "metadata": {
    "collapsed": false
   },
   "outputs": [
    {
     "data": {
      "text/plain": [
       "0      1.37\n",
       "1      2.62\n",
       "2      3.64\n",
       "3      4.69\n",
       "4      5.78\n",
       "5      6.81\n",
       "6      7.79\n",
       "7      8.61\n",
       "8      9.47\n",
       "9     10.44\n",
       "10    11.19\n",
       "11    12.00\n",
       "12    12.84\n",
       "13    13.50\n",
       "14    14.26\n",
       "Name: N_installed_sum, dtype: float64"
      ]
     },
     "execution_count": 18,
     "metadata": {},
     "output_type": "execute_result"
    }
   ],
   "source": [
    "df['N_installed_sum'][0:N_TICKS_DISPLAY]/1000*100 #jul 29, rel 0.1"
   ]
  },
  {
   "cell_type": "code",
   "execution_count": 9,
   "metadata": {
    "collapsed": false
   },
   "outputs": [
    {
     "data": {
      "text/plain": [
       "0      1.28\n",
       "1      2.44\n",
       "2      3.77\n",
       "3      4.92\n",
       "4      5.82\n",
       "5      6.71\n",
       "6      7.62\n",
       "7      8.58\n",
       "8      9.49\n",
       "9     10.50\n",
       "10    11.39\n",
       "11    12.21\n",
       "12    13.11\n",
       "13    13.92\n",
       "14    14.50\n",
       "Name: N_installed_sum, dtype: float64"
      ]
     },
     "execution_count": 9,
     "metadata": {},
     "output_type": "execute_result"
    }
   ],
   "source": [
    "df['N_installed_sum'][0:N_TICKS_DISPLAY]/1000*100 #sep 17, prof f. up "
   ]
  },
  {
   "cell_type": "code",
   "execution_count": 11,
   "metadata": {
    "collapsed": false
   },
   "outputs": [
    {
     "data": {
      "text/plain": [
       "0      1.19\n",
       "1      2.14\n",
       "2      3.04\n",
       "3      3.92\n",
       "4      4.94\n",
       "5      5.76\n",
       "6      6.70\n",
       "7      7.50\n",
       "8      8.25\n",
       "9      9.04\n",
       "10     9.65\n",
       "11    10.53\n",
       "12    11.46\n",
       "13    12.23\n",
       "14    12.98\n",
       "Name: N_installed_sum, dtype: float64"
      ]
     },
     "execution_count": 11,
     "metadata": {},
     "output_type": "execute_result"
    }
   ],
   "source": [
    "df['N_installed_sum'][0:N_TICKS_DISPLAY]/1000*100 #sep 17, prof f.down"
   ]
  },
  {
   "cell_type": "code",
   "execution_count": 13,
   "metadata": {
    "collapsed": false
   },
   "outputs": [
    {
     "data": {
      "text/plain": [
       "0      1.27\n",
       "1      2.33\n",
       "2      3.49\n",
       "3      4.36\n",
       "4      5.30\n",
       "5      6.16\n",
       "6      7.08\n",
       "7      7.81\n",
       "8      8.48\n",
       "9      9.23\n",
       "10     9.91\n",
       "11    10.76\n",
       "12    11.53\n",
       "13    12.32\n",
       "14    12.92\n",
       "Name: N_installed_sum, dtype: float64"
      ]
     },
     "execution_count": 13,
     "metadata": {},
     "output_type": "execute_result"
    }
   ],
   "source": [
    "df['N_installed_sum'][0:N_TICKS_DISPLAY]/1000*100 #sep 17, main up"
   ]
  },
  {
   "cell_type": "code",
   "execution_count": 14,
   "metadata": {
    "collapsed": false
   },
   "outputs": [
    {
     "data": {
      "text/plain": [
       "0      1.27\n",
       "1      2.33\n",
       "2      3.49\n",
       "3      4.36\n",
       "4      5.30\n",
       "5      6.16\n",
       "6      7.08\n",
       "7      7.81\n",
       "8      8.48\n",
       "9      9.23\n",
       "10     9.91\n",
       "11    10.76\n",
       "12    11.53\n",
       "13    12.32\n",
       "14    12.92\n",
       "Name: N_installed_sum, dtype: float64"
      ]
     },
     "execution_count": 14,
     "metadata": {},
     "output_type": "execute_result"
    }
   ],
   "source": [
    "df['N_installed_sum'][0:N_TICKS_DISPLAY]/1000*100 #sep 17, main down"
   ]
  },
  {
   "cell_type": "code",
   "execution_count": 16,
   "metadata": {
    "collapsed": false
   },
   "outputs": [
    {
     "data": {
      "text/plain": [
       "0      1.34\n",
       "1      2.36\n",
       "2      3.45\n",
       "3      4.39\n",
       "4      5.37\n",
       "5      6.14\n",
       "6      6.96\n",
       "7      7.87\n",
       "8      8.59\n",
       "9      9.33\n",
       "10    10.12\n",
       "11    10.84\n",
       "12    11.60\n",
       "13    12.21\n",
       "14    12.86\n",
       "Name: N_installed_sum, dtype: float64"
      ]
     },
     "execution_count": 16,
     "metadata": {},
     "output_type": "execute_result"
    }
   ],
   "source": [
    "df['N_installed_sum'][0:N_TICKS_DISPLAY]/1000*100 #sep 17, main down (repeat)"
   ]
  },
  {
   "cell_type": "code",
   "execution_count": 18,
   "metadata": {
    "collapsed": false
   },
   "outputs": [
    {
     "data": {
      "text/plain": [
       "0      1.19\n",
       "1      2.33\n",
       "2      3.59\n",
       "3      4.72\n",
       "4      5.68\n",
       "5      6.65\n",
       "6      7.51\n",
       "7      8.33\n",
       "8      9.05\n",
       "9      9.72\n",
       "10    10.53\n",
       "11    11.23\n",
       "12    11.77\n",
       "13    12.43\n",
       "14    13.21\n",
       "Name: N_installed_sum, dtype: float64"
      ]
     },
     "execution_count": 18,
     "metadata": {},
     "output_type": "execute_result"
    }
   ],
   "source": [
    "df['N_installed_sum'][0:N_TICKS_DISPLAY]/1000*100 #sep 17, N up"
   ]
  },
  {
   "cell_type": "code",
   "execution_count": 20,
   "metadata": {
    "collapsed": false
   },
   "outputs": [
    {
     "data": {
      "text/plain": [
       "0      1.01\n",
       "1      2.06\n",
       "2      3.04\n",
       "3      3.95\n",
       "4      4.90\n",
       "5      5.84\n",
       "6      6.83\n",
       "7      7.58\n",
       "8      8.25\n",
       "9      9.02\n",
       "10     9.73\n",
       "11    10.36\n",
       "12    11.22\n",
       "13    11.81\n",
       "14    12.52\n",
       "Name: N_installed_sum, dtype: float64"
      ]
     },
     "execution_count": 20,
     "metadata": {},
     "output_type": "execute_result"
    }
   ],
   "source": [
    "df['N_installed_sum'][0:N_TICKS_DISPLAY]/1000*100 #sep 17, N down"
   ]
  },
  {
   "cell_type": "code",
   "execution_count": 22,
   "metadata": {
    "collapsed": false
   },
   "outputs": [
    {
     "data": {
      "text/plain": [
       "0      2.94\n",
       "1      4.99\n",
       "2      6.70\n",
       "3      8.20\n",
       "4      9.55\n",
       "5     10.99\n",
       "6     12.39\n",
       "7     13.41\n",
       "8     14.38\n",
       "9     15.46\n",
       "10    16.43\n",
       "11    17.32\n",
       "12    18.11\n",
       "13    18.98\n",
       "14    19.91\n",
       "Name: N_installed_sum, dtype: float64"
      ]
     },
     "execution_count": 22,
     "metadata": {},
     "output_type": "execute_result"
    }
   ],
   "source": [
    "df['N_installed_sum'][0:N_TICKS_DISPLAY]/1000*100 #sep 17, solar irrad up"
   ]
  },
  {
   "cell_type": "code",
   "execution_count": 24,
   "metadata": {
    "collapsed": false
   },
   "outputs": [
    {
     "data": {
      "text/plain": [
       "0     0.28\n",
       "1     0.73\n",
       "2     1.22\n",
       "3     1.62\n",
       "4     2.09\n",
       "5     2.47\n",
       "6     2.76\n",
       "7     3.08\n",
       "8     3.31\n",
       "9     3.58\n",
       "10    3.80\n",
       "11    4.02\n",
       "12    4.27\n",
       "13    4.44\n",
       "14    4.58\n",
       "Name: N_installed_sum, dtype: float64"
      ]
     },
     "execution_count": 24,
     "metadata": {},
     "output_type": "execute_result"
    }
   ],
   "source": [
    "df['N_installed_sum'][0:N_TICKS_DISPLAY]/1000*100 #sep 17, solar irrad down"
   ]
  },
  {
   "cell_type": "code",
   "execution_count": 26,
   "metadata": {
    "collapsed": false
   },
   "outputs": [
    {
     "data": {
      "text/plain": [
       "0      1.47\n",
       "1      2.69\n",
       "2      3.65\n",
       "3      4.60\n",
       "4      5.63\n",
       "5      6.57\n",
       "6      7.60\n",
       "7      8.47\n",
       "8      9.33\n",
       "9     10.28\n",
       "10    11.09\n",
       "11    11.79\n",
       "12    12.76\n",
       "13    13.47\n",
       "14    14.08\n",
       "Name: N_installed_sum, dtype: float64"
      ]
     },
     "execution_count": 26,
     "metadata": {},
     "output_type": "execute_result"
    }
   ],
   "source": [
    "df['N_installed_sum'][0:N_TICKS_DISPLAY]/1000*100 #sep 17, roof up"
   ]
  },
  {
   "cell_type": "code",
   "execution_count": 28,
   "metadata": {
    "collapsed": false
   },
   "outputs": [
    {
     "data": {
      "text/plain": [
       "0      1.36\n",
       "1      2.27\n",
       "2      3.12\n",
       "3      3.89\n",
       "4      4.82\n",
       "5      5.58\n",
       "6      6.34\n",
       "7      7.16\n",
       "8      7.80\n",
       "9      8.48\n",
       "10     9.23\n",
       "11    10.10\n",
       "12    10.79\n",
       "13    11.39\n",
       "14    12.05\n",
       "Name: N_installed_sum, dtype: float64"
      ]
     },
     "execution_count": 28,
     "metadata": {},
     "output_type": "execute_result"
    }
   ],
   "source": [
    "df['N_installed_sum'][0:N_TICKS_DISPLAY]/1000*100 #sep 17, roof down"
   ]
  },
  {
   "cell_type": "code",
   "execution_count": null,
   "metadata": {
    "collapsed": true
   },
   "outputs": [],
   "source": []
  }
 ],
 "metadata": {
  "anaconda-cloud": {},
  "kernelspec": {
   "display_name": "Python [default]",
   "language": "python",
   "name": "python3"
  },
  "language_info": {
   "codemirror_mode": {
    "name": "ipython",
    "version": 3
   },
   "file_extension": ".py",
   "mimetype": "text/x-python",
   "name": "python",
   "nbconvert_exporter": "python",
   "pygments_lexer": "ipython3",
   "version": "3.5.2"
  }
 },
 "nbformat": 4,
 "nbformat_minor": 1
}
