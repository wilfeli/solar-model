{
 "cells": [
  {
   "cell_type": "code",
   "execution_count": 85,
   "metadata": {
    "collapsed": true
   },
   "outputs": [],
   "source": [
    "# sample.py\n",
    "import ctypes\n",
    "import os\n",
    "import threading\n",
    "import pandas as pd\n",
    "import numpy as np\n",
    "%matplotlib inline\n",
    "import matplotlib.pyplot as plt\n",
    "import matplotlib\n",
    "from matplotlib import cm\n",
    "matplotlib.style.use('ggplot')\n",
    "import math\n",
    "import concurrent.futures\n",
    "import glob\n",
    "import json\n",
    "import scipy as sp\n",
    "import scipy.special\n",
    "from matplotlib.ticker import FormatStrFormatter\n",
    "from itertools import chain"
   ]
  },
  {
   "cell_type": "markdown",
   "metadata": {
    "collapsed": true
   },
   "source": [
    "# Graphs for simulation results"
   ]
  },
  {
   "cell_type": "markdown",
   "metadata": {},
   "source": [
    "## Read results of multiple simulations."
   ]
  },
  {
   "cell_type": "code",
   "execution_count": 190,
   "metadata": {
    "collapsed": true
   },
   "outputs": [],
   "source": [
    "data_mode = 'MA'"
   ]
  },
  {
   "cell_type": "code",
   "execution_count": 191,
   "metadata": {
    "collapsed": true
   },
   "outputs": [],
   "source": [
    "test_mode = 'Apr-25-2017/EEModel/RelBaseLearn08/'\n",
    "test_name = 'RelBaseLearn08'"
   ]
  },
  {
   "cell_type": "code",
   "execution_count": 192,
   "metadata": {
    "collapsed": false
   },
   "outputs": [
    {
     "data": {
      "text/html": [
       "<div>\n",
       "<table border=\"1\" class=\"dataframe\">\n",
       "  <thead>\n",
       "    <tr style=\"text-align: right;\">\n",
       "      <th></th>\n",
       "      <th>N_installed</th>\n",
       "      <th>N_installed_sum</th>\n",
       "      <th>P_av_total</th>\n",
       "      <th>P_av</th>\n",
       "      <th>sei_0</th>\n",
       "      <th>sei_1</th>\n",
       "      <th>sei_2</th>\n",
       "      <th>sei_rel_0</th>\n",
       "      <th>sei_rel_1</th>\n",
       "      <th>sei_rel_2</th>\n",
       "      <th>...</th>\n",
       "      <th>sem_rel_4</th>\n",
       "      <th>sem_rel_5</th>\n",
       "      <th>sem_rel_6</th>\n",
       "      <th>sei_N_0</th>\n",
       "      <th>sei_N_1</th>\n",
       "      <th>sei_N_2</th>\n",
       "      <th>sem_max</th>\n",
       "      <th>sem_rel_min</th>\n",
       "      <th>sei_max</th>\n",
       "      <th>sei_rel_min</th>\n",
       "    </tr>\n",
       "  </thead>\n",
       "  <tbody>\n",
       "    <tr>\n",
       "      <th>0</th>\n",
       "      <td>6.32</td>\n",
       "      <td>6.32</td>\n",
       "      <td>3.529771</td>\n",
       "      <td>3.560882</td>\n",
       "      <td>0.176443</td>\n",
       "      <td>0.176466</td>\n",
       "      <td>0.176129</td>\n",
       "      <td>0.214563</td>\n",
       "      <td>0.198660</td>\n",
       "      <td>0.218917</td>\n",
       "      <td>...</td>\n",
       "      <td>0.260137</td>\n",
       "      <td>0.220585</td>\n",
       "      <td>0.257514</td>\n",
       "      <td>2.15</td>\n",
       "      <td>2.21</td>\n",
       "      <td>1.96</td>\n",
       "      <td>0.221515</td>\n",
       "      <td>0.074906</td>\n",
       "      <td>0.160516</td>\n",
       "      <td>0.164794</td>\n",
       "    </tr>\n",
       "    <tr>\n",
       "      <th>1</th>\n",
       "      <td>7.47</td>\n",
       "      <td>13.79</td>\n",
       "      <td>3.291028</td>\n",
       "      <td>3.327979</td>\n",
       "      <td>0.183783</td>\n",
       "      <td>0.183042</td>\n",
       "      <td>0.183976</td>\n",
       "      <td>0.331123</td>\n",
       "      <td>0.261329</td>\n",
       "      <td>0.287232</td>\n",
       "      <td>...</td>\n",
       "      <td>0.363290</td>\n",
       "      <td>0.303303</td>\n",
       "      <td>0.357325</td>\n",
       "      <td>4.63</td>\n",
       "      <td>4.94</td>\n",
       "      <td>4.22</td>\n",
       "      <td>0.233370</td>\n",
       "      <td>0.049735</td>\n",
       "      <td>0.165977</td>\n",
       "      <td>0.120941</td>\n",
       "    </tr>\n",
       "    <tr>\n",
       "      <th>2</th>\n",
       "      <td>8.50</td>\n",
       "      <td>22.29</td>\n",
       "      <td>2.976772</td>\n",
       "      <td>3.035050</td>\n",
       "      <td>0.194193</td>\n",
       "      <td>0.192587</td>\n",
       "      <td>0.187640</td>\n",
       "      <td>0.361251</td>\n",
       "      <td>0.826455</td>\n",
       "      <td>0.348163</td>\n",
       "      <td>...</td>\n",
       "      <td>0.488852</td>\n",
       "      <td>0.452102</td>\n",
       "      <td>0.390336</td>\n",
       "      <td>7.57</td>\n",
       "      <td>7.63</td>\n",
       "      <td>7.09</td>\n",
       "      <td>0.243529</td>\n",
       "      <td>0.036357</td>\n",
       "      <td>0.171560</td>\n",
       "      <td>0.150635</td>\n",
       "    </tr>\n",
       "    <tr>\n",
       "      <th>3</th>\n",
       "      <td>8.42</td>\n",
       "      <td>30.71</td>\n",
       "      <td>2.909159</td>\n",
       "      <td>2.950816</td>\n",
       "      <td>0.205327</td>\n",
       "      <td>0.198462</td>\n",
       "      <td>0.193893</td>\n",
       "      <td>0.459802</td>\n",
       "      <td>0.972150</td>\n",
       "      <td>0.671199</td>\n",
       "      <td>...</td>\n",
       "      <td>0.895787</td>\n",
       "      <td>0.583267</td>\n",
       "      <td>0.605624</td>\n",
       "      <td>10.36</td>\n",
       "      <td>10.36</td>\n",
       "      <td>9.99</td>\n",
       "      <td>0.256065</td>\n",
       "      <td>0.033527</td>\n",
       "      <td>0.176167</td>\n",
       "      <td>0.135429</td>\n",
       "    </tr>\n",
       "    <tr>\n",
       "      <th>4</th>\n",
       "      <td>8.05</td>\n",
       "      <td>38.76</td>\n",
       "      <td>2.910351</td>\n",
       "      <td>2.956162</td>\n",
       "      <td>0.214969</td>\n",
       "      <td>0.202085</td>\n",
       "      <td>0.199696</td>\n",
       "      <td>0.815457</td>\n",
       "      <td>0.996402</td>\n",
       "      <td>0.860331</td>\n",
       "      <td>...</td>\n",
       "      <td>1.020705</td>\n",
       "      <td>0.843151</td>\n",
       "      <td>0.748197</td>\n",
       "      <td>13.16</td>\n",
       "      <td>12.92</td>\n",
       "      <td>12.68</td>\n",
       "      <td>0.267333</td>\n",
       "      <td>0.028110</td>\n",
       "      <td>0.180406</td>\n",
       "      <td>0.132501</td>\n",
       "    </tr>\n",
       "  </tbody>\n",
       "</table>\n",
       "<p>5 rows × 31 columns</p>\n",
       "</div>"
      ],
      "text/plain": [
       "   N_installed  N_installed_sum  P_av_total      P_av     sei_0     sei_1  \\\n",
       "0         6.32             6.32    3.529771  3.560882  0.176443  0.176466   \n",
       "1         7.47            13.79    3.291028  3.327979  0.183783  0.183042   \n",
       "2         8.50            22.29    2.976772  3.035050  0.194193  0.192587   \n",
       "3         8.42            30.71    2.909159  2.950816  0.205327  0.198462   \n",
       "4         8.05            38.76    2.910351  2.956162  0.214969  0.202085   \n",
       "\n",
       "      sei_2  sei_rel_0  sei_rel_1  sei_rel_2     ...       sem_rel_4  \\\n",
       "0  0.176129   0.214563   0.198660   0.218917     ...        0.260137   \n",
       "1  0.183976   0.331123   0.261329   0.287232     ...        0.363290   \n",
       "2  0.187640   0.361251   0.826455   0.348163     ...        0.488852   \n",
       "3  0.193893   0.459802   0.972150   0.671199     ...        0.895787   \n",
       "4  0.199696   0.815457   0.996402   0.860331     ...        1.020705   \n",
       "\n",
       "   sem_rel_5  sem_rel_6  sei_N_0  sei_N_1  sei_N_2   sem_max  sem_rel_min  \\\n",
       "0   0.220585   0.257514     2.15     2.21     1.96  0.221515     0.074906   \n",
       "1   0.303303   0.357325     4.63     4.94     4.22  0.233370     0.049735   \n",
       "2   0.452102   0.390336     7.57     7.63     7.09  0.243529     0.036357   \n",
       "3   0.583267   0.605624    10.36    10.36     9.99  0.256065     0.033527   \n",
       "4   0.843151   0.748197    13.16    12.92    12.68  0.267333     0.028110   \n",
       "\n",
       "    sei_max  sei_rel_min  \n",
       "0  0.160516     0.164794  \n",
       "1  0.165977     0.120941  \n",
       "2  0.171560     0.150635  \n",
       "3  0.176167     0.135429  \n",
       "4  0.180406     0.132501  \n",
       "\n",
       "[5 rows x 31 columns]"
      ]
     },
     "execution_count": 192,
     "metadata": {},
     "output_type": "execute_result"
    }
   ],
   "source": [
    "#names of columns in a file\n",
    "names = ['N_installed', 'N_installed_sum', 'P_av_total', 'P_av']\n",
    "for i in range(3):\n",
    "    names.append('sei_' + str(i))\n",
    "for i in range(3):\n",
    "    names.append('sei_rel_' + str(i))\n",
    "for i in range(7):\n",
    "    names.append('sem_' + str(i))\n",
    "for i in range(7):\n",
    "    names.append('sem_rel_' + str(i))\n",
    "for i in range(3):\n",
    "    names.append('sei_N_' + str(i))\n",
    "\n",
    "\n",
    "#read few files\n",
    "#save into database\n",
    "dfs_ = []\n",
    "#read last simulation result\n",
    "files = glob.glob('/Users/wilfeli/Dropbox/ABM/SolarPanels/ABMIRISLab/Saves/' + test_mode + data_mode + '/*[_w].csv')\n",
    "files.sort(key=os.path.getmtime, reverse=True)\n",
    "\n",
    "\n",
    "\n",
    "\n",
    "indexing_range = range(0,100)\n",
    "\n",
    "#take top x files \n",
    "for file in [files[i] for i in indexing_range]:\n",
    "    df_ = pd.read_csv(file, names=names, low_memory=False, \\\n",
    "                     na_values = ['-nan(ind)'])\n",
    "    \n",
    "     #create new column with max and min\n",
    "    df_['sem_max'] = df_[['sem_' + str(i) for i in range(7)]].max(axis=1)\n",
    "    df_['sem_rel_min'] = df_[['sem_rel_' + str(i) for i in range(7)]].min(axis=1)\n",
    "    df_['sei_max'] = df_[['sei_' + str(i) for i in range(3)]].min(axis=1)\n",
    "    df_['sei_rel_min'] = df_[['sei_rel_' + str(i) for i in range(3)]].min(axis=1)\n",
    "    \n",
    "    dfs_.append(df_)\n",
    "    \n",
    "\n",
    "    \n",
    "#create df from them    \n",
    "df_concat = pd.concat(dfs_)\n",
    "df = df_concat.groupby(level=0).mean()\n",
    "df_std = df_concat.groupby(level=0).std()\n",
    "\n",
    "#alternative way to calculate means\n",
    "by_row_index = df_concat.groupby(df_concat.index)\n",
    "df_means = by_row_index.mean()\n",
    "df_means.head()"
   ]
  },
  {
   "cell_type": "code",
   "execution_count": 193,
   "metadata": {
    "collapsed": false
   },
   "outputs": [
    {
     "data": {
      "text/html": [
       "<div>\n",
       "<table border=\"1\" class=\"dataframe\">\n",
       "  <thead>\n",
       "    <tr style=\"text-align: right;\">\n",
       "      <th></th>\n",
       "      <th>Income</th>\n",
       "      <th>ElectricityBill</th>\n",
       "      <th>House_size</th>\n",
       "      <th>TimeInstalled</th>\n",
       "      <th>bInstalled</th>\n",
       "    </tr>\n",
       "  </thead>\n",
       "  <tbody>\n",
       "    <tr>\n",
       "      <th>count</th>\n",
       "      <td>1.000000e+05</td>\n",
       "      <td>100000.000000</td>\n",
       "      <td>100000.000000</td>\n",
       "      <td>100000.00000</td>\n",
       "      <td>100000.000000</td>\n",
       "    </tr>\n",
       "    <tr>\n",
       "      <th>mean</th>\n",
       "      <td>1.704036e+05</td>\n",
       "      <td>159.099068</td>\n",
       "      <td>2729.545369</td>\n",
       "      <td>1.18420</td>\n",
       "      <td>0.140710</td>\n",
       "    </tr>\n",
       "    <tr>\n",
       "      <th>std</th>\n",
       "      <td>1.751168e+05</td>\n",
       "      <td>101.349957</td>\n",
       "      <td>2121.504948</td>\n",
       "      <td>3.64287</td>\n",
       "      <td>0.347724</td>\n",
       "    </tr>\n",
       "    <tr>\n",
       "      <th>min</th>\n",
       "      <td>5.334300e-01</td>\n",
       "      <td>0.009958</td>\n",
       "      <td>5.279040</td>\n",
       "      <td>-1.00000</td>\n",
       "      <td>0.000000</td>\n",
       "    </tr>\n",
       "    <tr>\n",
       "      <th>25%</th>\n",
       "      <td>6.789988e+04</td>\n",
       "      <td>88.207025</td>\n",
       "      <td>1632.255000</td>\n",
       "      <td>0.00000</td>\n",
       "      <td>0.000000</td>\n",
       "    </tr>\n",
       "    <tr>\n",
       "      <th>50%</th>\n",
       "      <td>1.202800e+05</td>\n",
       "      <td>137.925000</td>\n",
       "      <td>2335.635000</td>\n",
       "      <td>0.00000</td>\n",
       "      <td>0.000000</td>\n",
       "    </tr>\n",
       "    <tr>\n",
       "      <th>75%</th>\n",
       "      <td>2.044392e+05</td>\n",
       "      <td>206.755250</td>\n",
       "      <td>3292.195000</td>\n",
       "      <td>0.00000</td>\n",
       "      <td>0.000000</td>\n",
       "    </tr>\n",
       "    <tr>\n",
       "      <th>max</th>\n",
       "      <td>4.226260e+06</td>\n",
       "      <td>3243.710000</td>\n",
       "      <td>68925.400000</td>\n",
       "      <td>19.00000</td>\n",
       "      <td>1.000000</td>\n",
       "    </tr>\n",
       "  </tbody>\n",
       "</table>\n",
       "</div>"
      ],
      "text/plain": [
       "             Income  ElectricityBill     House_size  TimeInstalled  \\\n",
       "count  1.000000e+05    100000.000000  100000.000000   100000.00000   \n",
       "mean   1.704036e+05       159.099068    2729.545369        1.18420   \n",
       "std    1.751168e+05       101.349957    2121.504948        3.64287   \n",
       "min    5.334300e-01         0.009958       5.279040       -1.00000   \n",
       "25%    6.789988e+04        88.207025    1632.255000        0.00000   \n",
       "50%    1.202800e+05       137.925000    2335.635000        0.00000   \n",
       "75%    2.044392e+05       206.755250    3292.195000        0.00000   \n",
       "max    4.226260e+06      3243.710000   68925.400000       19.00000   \n",
       "\n",
       "          bInstalled  \n",
       "count  100000.000000  \n",
       "mean        0.140710  \n",
       "std         0.347724  \n",
       "min         0.000000  \n",
       "25%         0.000000  \n",
       "50%         0.000000  \n",
       "75%         0.000000  \n",
       "max         1.000000  "
      ]
     },
     "execution_count": 193,
     "metadata": {},
     "output_type": "execute_result"
    }
   ],
   "source": [
    "#names of columns in a file\n",
    "names = ['Income', 'ElectricityBill', 'House_size', 'TimeInstalled', 'bInstalled']\n",
    "\n",
    "\n",
    "#read few files\n",
    "#save into database\n",
    "dfs_hos_ = []\n",
    "#read last simulation result\n",
    "#files = glob.glob('../../ABMIRISLab/Saves/EEModel/*.csv')\n",
    "files = glob.glob('/Users/wilfeli/Dropbox/ABM/SolarPanels/ABMIRISLab/Saves/' + test_mode + data_mode + '/*[_hos].csv')\n",
    "files.sort(key=os.path.getmtime, reverse=True)\n",
    "\n",
    "indexing_range = range(0,100)\n",
    "\n",
    "#take top x files \n",
    "for file in [files[i] for i in indexing_range]:\n",
    "    df_ = pd.read_csv(file, names=names, low_memory=False)\n",
    "    dfs_hos_.append(df_.reset_index(drop=True))\n",
    "\n",
    "#create df from them    \n",
    "df_hos_concat = pd.concat(dfs_hos_, axis=0, ignore_index=True)\n",
    "\n",
    "df_hos_concat.describe()"
   ]
  },
  {
   "cell_type": "code",
   "execution_count": 194,
   "metadata": {
    "collapsed": true
   },
   "outputs": [],
   "source": [
    "bins_income = [0, 2499, 4999, 7499, 9999, \\\n",
    "    14999, 19999, 24999, 29999, 34999, 39999, \\\n",
    "    44999, 49999, 54999, 59999, 64999, \\\n",
    "        69999, 74999, 79999, 84999, 89999, \\\n",
    "        94999, 99999, 119999, np.inf]"
   ]
  },
  {
   "cell_type": "code",
   "execution_count": 195,
   "metadata": {
    "collapsed": false
   },
   "outputs": [],
   "source": [
    "#recreates bins for income for raw data\n",
    "df_hos_concat['Income_C'] = pd.cut(df_hos_concat['Income'], \\\n",
    "                                   bins = bins_income, labels = False, retbins=True)[0]\n",
    "\n",
    "\n",
    "y_1 = df_hos_concat.groupby('Income_C')['bInstalled'].mean()\n",
    "y_1_std = df_hos_concat.groupby('Income_C')['bInstalled'].std()\n"
   ]
  },
  {
   "cell_type": "code",
   "execution_count": 196,
   "metadata": {
    "collapsed": false
   },
   "outputs": [],
   "source": [
    "bins_elect = np.array([0.0, 2500.0, 5000.0, 7500.0, 10000.0, 12500.0, \\\n",
    "                       15000.0, 17500.0, 20000.0, 22500.0, 25000.0, \\\n",
    "                       30000.0, 35000.0, 40000.0, 50000.0, 75000.0, np.inf], dtype = np.float32)\n",
    "ELECTRICITY_PRICE_US_DEMAND = 0.15\n",
    "bins_elect_adj = bins_elect*ELECTRICITY_PRICE_US_DEMAND/365.25*30"
   ]
  },
  {
   "cell_type": "code",
   "execution_count": 197,
   "metadata": {
    "collapsed": false
   },
   "outputs": [],
   "source": [
    "df_hos_concat['ElectricityBill_C'] = pd.cut(df_hos_concat['ElectricityBill'], \\\n",
    "                                   bins = bins_elect_adj, labels = False, retbins=True)[0]\n",
    "y_2 = df_hos_concat.groupby('ElectricityBill_C')['bInstalled'].mean()\n",
    "y_2_std = df_hos_concat.groupby('ElectricityBill_C')['bInstalled'].std()\n",
    "\n",
    "for i in range(len(bins_elect_adj)):\n",
    "    if not (i in y_2.index.values):\n",
    "        y_2.loc[i] = 0.0\n",
    "        \n",
    "y_2 = y_2.sort_index()"
   ]
  },
  {
   "cell_type": "code",
   "execution_count": null,
   "metadata": {
    "collapsed": true
   },
   "outputs": [],
   "source": []
  },
  {
   "cell_type": "markdown",
   "metadata": {},
   "source": [
    "## Draw penetration in time"
   ]
  },
  {
   "cell_type": "markdown",
   "metadata": {},
   "source": [
    "### New Version."
   ]
  },
  {
   "cell_type": "markdown",
   "metadata": {},
   "source": [
    "### Preparing raw data"
   ]
  },
  {
   "cell_type": "code",
   "execution_count": 198,
   "metadata": {
    "collapsed": true
   },
   "outputs": [],
   "source": [
    "N_SIMULATION_TICKS = 20"
   ]
  },
  {
   "cell_type": "code",
   "execution_count": 199,
   "metadata": {
    "collapsed": true
   },
   "outputs": [],
   "source": [
    "N_TICKS_DISPLAY = 15"
   ]
  },
  {
   "cell_type": "code",
   "execution_count": 200,
   "metadata": {
    "collapsed": true
   },
   "outputs": [],
   "source": [
    "N_AGENTS_TOTAL = 1000"
   ]
  },
  {
   "cell_type": "code",
   "execution_count": 201,
   "metadata": {
    "collapsed": true
   },
   "outputs": [],
   "source": [
    "N_BINS_INCOME = len(bins_income) - 1"
   ]
  },
  {
   "cell_type": "code",
   "execution_count": 202,
   "metadata": {
    "collapsed": false
   },
   "outputs": [],
   "source": [
    "#number of agents in bins per simulation run \n",
    "n_agents_bins = []\n",
    "for df_ in dfs_hos_:\n",
    "    df_['Income_C'] = pd.cut(df_['Income'], \\\n",
    "                                   bins = bins_income, labels = False, retbins=True)[0]\n",
    "    n_agents_bins.append(pd.value_counts(df_['Income_C'])\\\n",
    "                               .reindex(range(N_BINS_INCOME), fill_value=0).sort_index().values)"
   ]
  },
  {
   "cell_type": "code",
   "execution_count": 203,
   "metadata": {
    "collapsed": true
   },
   "outputs": [],
   "source": [
    "N_BINS_ELECT = len(bins_elect_adj) - 1"
   ]
  },
  {
   "cell_type": "code",
   "execution_count": 204,
   "metadata": {
    "collapsed": false
   },
   "outputs": [],
   "source": [
    "n_agents_bins_elect = []\n",
    "for df_ in dfs_hos_:\n",
    "    df_['ElectricityBill_C'] = pd.cut(df_['ElectricityBill'], \\\n",
    "                                   bins = bins_elect_adj, labels = False, retbins=True)[0]\n",
    "    n_agents_bins_elect.append(pd.value_counts(df_['ElectricityBill_C'])\\\n",
    "                               .reindex(range(N_BINS_ELECT), fill_value=0).sort_index().values)"
   ]
  },
  {
   "cell_type": "code",
   "execution_count": 205,
   "metadata": {
    "collapsed": false
   },
   "outputs": [],
   "source": [
    "penetration_t_0 = np.zeros((len(dfs_hos_), N_BINS_INCOME))\n",
    "#get distribution of preinstalled \n",
    "i = 0\n",
    "for df_ in dfs_hos_:\n",
    "    for bin_ in range(N_BINS_INCOME):\n",
    "        index = df_[(df_['bInstalled'] == 1) & \\\n",
    "                    (df_['Income_C'] == bin_) & \\\n",
    "                    ((df_['TimeInstalled'] < 0) | (df_['TimeInstalled'] > (N_SIMULATION_TICKS - 1)))].index \n",
    "        penetration_t_0[i, bin_] = df_.iloc[index].shape[0]\n",
    "    i = i + 1"
   ]
  },
  {
   "cell_type": "code",
   "execution_count": 206,
   "metadata": {
    "collapsed": false
   },
   "outputs": [],
   "source": [
    "penetration_elect_t_0 = np.zeros((len(dfs_hos_), N_BINS_ELECT))\n",
    "#get distribution of preinstalled \n",
    "i = 0\n",
    "for df_ in dfs_hos_:\n",
    "    for bin_ in range(N_BINS_ELECT):\n",
    "        index = df_[(df_['bInstalled'] == 1) & \\\n",
    "                    (df_['ElectricityBill_C'] == bin_) & \\\n",
    "                    ((df_['TimeInstalled'] < 0) | (df_['TimeInstalled'] > (N_SIMULATION_TICKS - 1)))].index \n",
    "        penetration_elect_t_0[i, bin_] = df_.iloc[index].shape[0]\n",
    "    i = i + 1"
   ]
  },
  {
   "cell_type": "markdown",
   "metadata": {},
   "source": [
    "### Data for the number of installations given income level"
   ]
  },
  {
   "cell_type": "code",
   "execution_count": 207,
   "metadata": {
    "collapsed": false
   },
   "outputs": [],
   "source": [
    "N_TICKS = N_SIMULATION_TICKS\n",
    "#number of installations as a percentage of a population for a given tick, average over simulation runs\n",
    "ticks_income_penetration = np.zeros((N_TICKS, N_BINS_INCOME))\n",
    "#total number of installations as a percentage of a population for a given tick, average over simulation runs\n",
    "ticks_income_penetration_acc = np.zeros((N_TICKS, N_BINS_INCOME))\n",
    "#number of installations as a percentage of a total population for a given tick, average over simulation runs\n",
    "ticks_income_penetration_acc_total = np.zeros((N_TICKS, N_BINS_INCOME))\n",
    "#number of installations for each simulation run for the current tick\n",
    "raw_data_dfs = np.zeros((len(dfs_hos_), N_BINS_INCOME))\n",
    "#accumulated number of installations for each tick each data frame and income bin\n",
    "raw_data_raw_acc = np.zeros((N_TICKS + 1, len(dfs_hos_), N_BINS_INCOME))\n",
    "#number of installations as a percentage of the defined population\n",
    "raw_data_acc = np.zeros((N_TICKS, len(dfs_hos_), N_BINS_INCOME))\n",
    "#number of installations as a percentage of a total population for the simulation run\n",
    "raw_data_acc_total = np.zeros((N_TICKS, len(dfs_hos_), N_BINS_INCOME))\n",
    "\n",
    "#initial level of penetration\n",
    "raw_data_raw_acc[0, :, :] = penetration_t_0.copy()\n",
    "\n",
    "\n",
    "for tick in range(N_TICKS):\n",
    "    #reset dataframe index\n",
    "    i = 0\n",
    "    for df_ in dfs_hos_:\n",
    "        for bin_ in range(N_BINS_INCOME):\n",
    "            index = df_[(df_['bInstalled'] == 1) & \\\n",
    "                        (df_['Income_C'] == bin_) & \\\n",
    "                        (df_['TimeInstalled'] == tick)].index \n",
    "            #get simulation run share of installations in a tick\n",
    "            raw_data_dfs[i, bin_] = df_.iloc[index].shape[0] / n_agents_bins[i][bin_]\n",
    "            #total number of installs in a group \n",
    "            raw_data_raw_acc[tick + 1, i, bin_] = raw_data_raw_acc[tick, i, bin_] + df_.iloc[index].shape[0]\n",
    "            raw_data_acc[tick, i, bin_] = raw_data_raw_acc[tick + 1, i, bin_] / n_agents_bins[i][bin_]\n",
    "            raw_data_acc_total[tick, i, bin_] = raw_data_raw_acc[tick + 1, i, bin_] / N_AGENTS_TOTAL\n",
    "        #index dataframes\n",
    "        i = i + 1\n",
    "    #average over bins and simulation runs\n",
    "    ticks_income_penetration[tick] = raw_data_dfs.mean(axis=0).copy()\n",
    "    ticks_income_penetration_acc[tick] = raw_data_acc[tick, :, :].mean(axis=0).copy()\n",
    "    ticks_income_penetration_acc_total[tick] = raw_data_acc_total[tick, :, :].mean(axis=0).copy()\n",
    "\n",
    "            "
   ]
  },
  {
   "cell_type": "markdown",
   "metadata": {
    "collapsed": true
   },
   "source": [
    "### Data for the number of installations given electricity consumption level"
   ]
  },
  {
   "cell_type": "code",
   "execution_count": 208,
   "metadata": {
    "collapsed": false
   },
   "outputs": [],
   "source": [
    "N_TICKS = 20\n",
    "#number of installations as a percentage of a population for a given tick, average over simulation runs\n",
    "ticks_elect_penetration = np.zeros((N_TICKS, N_BINS_ELECT))\n",
    "#total number of installations as a percentage of a population for a given tick, average over simulation runs\n",
    "ticks_elect_penetration_acc = np.zeros((N_TICKS, N_BINS_ELECT))\n",
    "#number of installations as a percentage of a total population for a given tick, average over simulation runs\n",
    "ticks_elect_penetration_acc_total = np.zeros((N_TICKS, N_BINS_ELECT))\n",
    "#number of installations for each simulation run for the current tick\n",
    "raw_data_dfs = np.zeros((len(dfs_hos_), N_BINS_ELECT))\n",
    "#accumulated number of installations for each tick each data frame and income bin\n",
    "raw_data_raw_acc = np.zeros((N_TICKS + 1, len(dfs_hos_), N_BINS_ELECT))\n",
    "#number of installations as a percentage of the defined population\n",
    "raw_data_acc = np.zeros((N_TICKS, len(dfs_hos_), N_BINS_ELECT))\n",
    "#number of installations as a percentage of a total population for the simulation run\n",
    "raw_data_acc_total = np.zeros((N_TICKS, len(dfs_hos_), N_BINS_ELECT))\n",
    "\n",
    "#initial level of penetration\n",
    "raw_data_raw_acc[0, :, :] = penetration_elect_t_0.copy()\n",
    "\n",
    "\n",
    "for tick in range(N_TICKS):\n",
    "    #reset dataframe index\n",
    "    i = 0\n",
    "    for df_ in dfs_hos_:\n",
    "        for bin_ in range(N_BINS_ELECT):\n",
    "            index = df_[(df_['bInstalled'] == 1) & \\\n",
    "                        (df_['ElectricityBill_C'] == bin_) & \\\n",
    "                        (df_['TimeInstalled'] == tick)].index \n",
    "            #get simulation run share of installations in a tick\n",
    "            raw_data_dfs[i, bin_] = df_.iloc[index].shape[0] / n_agents_bins[i][bin_]\n",
    "            #total number of installs in a group \n",
    "            raw_data_raw_acc[tick + 1, i, bin_] = raw_data_raw_acc[tick, i, bin_] + df_.iloc[index].shape[0]\n",
    "            raw_data_acc[tick, i, bin_] = raw_data_raw_acc[tick + 1, i, bin_] / n_agents_bins_elect[i][bin_]\n",
    "            raw_data_acc_total[tick, i, bin_] = raw_data_raw_acc[tick + 1, i, bin_] / N_AGENTS_TOTAL\n",
    "        #index dataframes\n",
    "        i = i + 1\n",
    "    #average over bins and simulation runs\n",
    "    ticks_elect_penetration[tick] = raw_data_dfs.mean(axis=0).copy()\n",
    "    ticks_elect_penetration_acc[tick] = raw_data_acc[tick, :, :].mean(axis=0).copy()\n",
    "    ticks_elect_penetration_acc_total[tick] = raw_data_acc_total[tick, :, :].mean(axis=0).copy()"
   ]
  },
  {
   "cell_type": "markdown",
   "metadata": {},
   "source": [
    "## Graph for distribution of installations in time "
   ]
  },
  {
   "cell_type": "code",
   "execution_count": 209,
   "metadata": {
    "collapsed": false
   },
   "outputs": [
    {
     "data": {
      "image/png": "[encoded data removed]",
      "text/plain": [
       "<matplotlib.figure.Figure at 0x1732df5d828>"
      ]
     },
     "metadata": {},
     "output_type": "display_data"
    }
   ],
   "source": [
    "fig, axes = plt.subplots(nrows=1, ncols=2)\n",
    "fig.subplots_adjust(bottom=0.25)\n",
    "\n",
    "\n",
    "\n",
    "\n",
    "ind = np.arange(N_TICKS)    # the x locations for the groups\n",
    "ind = ind + 1\n",
    "width = 0.35       # the width of the bars: can also be len(x) sequence\n",
    "\n",
    "norm = matplotlib.colors.Normalize(vmin=0, vmax=N_BINS_INCOME - 1)\n",
    "cmap_custom = cm.get_cmap('YlGn')\n",
    "incomes = norm(range(N_BINS_INCOME))\n",
    "colors_income = []\n",
    "\n",
    "for income_ in incomes:\n",
    "    colors_income.append(cmap_custom(income_))\n",
    "\n",
    "\n",
    "p1 = axes[0].bar(ind[0:N_TICKS_DISPLAY], ticks_income_penetration_acc[:, 0][0:N_TICKS_DISPLAY] * 100,\\\n",
    "                 width, color=colors_income[0])\n",
    "\n",
    "for bin_ in range(1, N_BINS_INCOME, 1):\n",
    "    p2 = axes[0].bar(ind[0:N_TICKS_DISPLAY], \\\n",
    "                     ticks_income_penetration_acc[:, bin_][0:N_TICKS_DISPLAY] * 100, \\\n",
    "                     width, color=colors_income[bin_], \\\n",
    "                  bottom=ticks_income_penetration_acc[:, bin_ - 1][0:N_TICKS_DISPLAY] * 100)\n",
    "\n",
    "\n",
    "axes[0].set_xlabel(\"Time\")\n",
    "axes[0].set_ylabel(\"Accumulated % installations\")\n",
    "#axes[0].set_title('Accumulated % installations \\n by the level \\n of income', fontsize=10)\n",
    "\n",
    "\n",
    "axes[0].set_xticks(ind[0:N_TICKS_DISPLAY] + width / 2)\n",
    "axes[0].set_xticklabels(ind[0:N_TICKS_DISPLAY])\n",
    "x_labels = ['1', '', '3', '', '5', '', '7', '', '9', '', '11', '', '13', '', '15']\n",
    "axes[0].set_xticklabels(x_labels)\n",
    "\n",
    "elects = norm(range(N_BINS_ELECT))\n",
    "colors_elect = []\n",
    "\n",
    "\n",
    "\n",
    "for elect_ in elects:\n",
    "    colors_elect.append(cmap_custom(elect_))\n",
    "\n",
    "\n",
    "p1 = axes[1].bar(ind[0:N_TICKS_DISPLAY], ticks_elect_penetration_acc[:, 0][0:N_TICKS_DISPLAY] * 100, \\\n",
    "                 width, color=colors_elect[0])\n",
    "\n",
    "for bin_ in range(1, N_BINS_ELECT, 1):\n",
    "    p2 = axes[1].bar(ind[0:N_TICKS_DISPLAY], ticks_elect_penetration_acc[:, bin_][0:N_TICKS_DISPLAY] * 100, \\\n",
    "                     width, color=colors_income[bin_], \\\n",
    "                  bottom=ticks_elect_penetration_acc[:, bin_ - 1][0:N_TICKS_DISPLAY] * 100)\n",
    "\n",
    "axes[1].set_xticks(ind[0:N_TICKS_DISPLAY] + width / 2)\n",
    "axes[1].set_xticklabels(x_labels)\n",
    "    \n",
    "axes[1].set_xlabel(\"Time\")\n",
    "axes[1].set_ylabel(\"Accumulated % installations\")\n",
    "#axes[1].set_title('Accumulated % installations \\n by the level \\n of electricity consumption', fontsize=10)\n",
    "    \n",
    "\n",
    "plt.tight_layout()\n",
    "plt.savefig('Simulation_results_dist_' + data_mode + '_' + test_name + '.png', dpi=300)\n",
    "plt.show()\n"
   ]
  },
  {
   "cell_type": "code",
   "execution_count": null,
   "metadata": {
    "collapsed": true
   },
   "outputs": [],
   "source": []
  },
  {
   "cell_type": "markdown",
   "metadata": {},
   "source": [
    "## How to draw graphs below\n",
    "[1](http://matplotlib.org/1.4.1/examples/ticks_and_spines/spines_demo_bounds.html)\n",
    "[2](http://matplotlib.org/1.4.1/examples/pylab_examples/multiple_yaxis_with_spines.html)\n",
    "[3](http://matplotlib.org/api/markers_api.html#module-matplotlib.markers)\n",
    "[4](http://matplotlib.org/api/axes_api.html#matplotlib.axes.Axes.plot)"
   ]
  },
  {
   "cell_type": "markdown",
   "metadata": {},
   "source": [
    "## Dynamics of installations"
   ]
  },
  {
   "cell_type": "code",
   "execution_count": 175,
   "metadata": {
    "collapsed": false
   },
   "outputs": [
    {
     "data": {
      "image/png": "[encoded data removed]",
      "text/plain": [
       "<matplotlib.figure.Figure at 0x1732df1dfd0>"
      ]
     },
     "metadata": {},
     "output_type": "display_data"
    }
   ],
   "source": [
    "\n",
    "\n",
    "fig, host = plt.subplots()\n",
    "fig.subplots_adjust(right=0.85)\n",
    "\n",
    "par1 = host.twinx()\n",
    "\n",
    "ind = df.index.values[0:N_TICKS_DISPLAY] + 1\n",
    "\n",
    "p1, = host.plot(ind, df['N_installed'][0:N_TICKS_DISPLAY]/1000*100, \"g-\", label=\"% installations\")\n",
    "p2, = par1.plot(ind, df['sei_0'][0:N_TICKS_DISPLAY], \"ro\", label=r'$er\\pm 2\\sigma$')\n",
    "p3, = par1.plot(ind, df['sei_1'][0:N_TICKS_DISPLAY], \"r^\", label=r'$el\\pm 2\\sigma$')\n",
    "p4, = par1.plot(ind, df['sei_2'][0:N_TICKS_DISPLAY], \"r*\", label=r'$el\\pm 2\\sigma$')\n",
    "\n",
    "par1.fill_between(ind, \n",
    "                  df['sei_0'][0:N_TICKS_DISPLAY]-2*df_std['sei_0'][0:N_TICKS_DISPLAY], \n",
    "                  df['sei_0'][0:N_TICKS_DISPLAY]+2*df_std['sei_0'][0:N_TICKS_DISPLAY], \n",
    "                  color='r', \n",
    "                  alpha=0.2)\n",
    "\n",
    "par1.fill_between(ind, \n",
    "                  df['sei_1'][0:N_TICKS_DISPLAY]-2*df_std['sei_1'][0:N_TICKS_DISPLAY], \n",
    "                  df['sei_1'][0:N_TICKS_DISPLAY]+2*df_std['sei_1'][0:N_TICKS_DISPLAY], \n",
    "                  color='r', \n",
    "                  alpha=0.2)\n",
    "\n",
    "par1.fill_between(ind, \n",
    "                  df['sei_2'][0:N_TICKS_DISPLAY]-2*df_std['sei_2'][0:N_TICKS_DISPLAY], \n",
    "                  df['sei_2'][0:N_TICKS_DISPLAY]+2*df_std['sei_2'][0:N_TICKS_DISPLAY], \n",
    "                  color='r', \n",
    "                  alpha=0.2)\n",
    "\n",
    "\n",
    "host.set_xlabel(\"Time\")\n",
    "host.set_ylabel(\"hit % installations\")\n",
    "\n",
    "\n",
    "host.set_autoscaley_on(False)\n",
    "host.set_xlim([1,15])\n",
    "start = 1\n",
    "end = 16\n",
    "host.xaxis.set_ticks(np.arange(start, end, 1))\n",
    "\n",
    "par1.set_ylabel(\"Efficiency\")\n",
    "\n",
    "\n",
    "host.yaxis.label.set_color(p1.get_color())\n",
    "par1.yaxis.label.set_color(p2.get_color())\n",
    "\n",
    "\n",
    "tkw = dict(size=4, width=1.5)\n",
    "host.tick_params(axis='y', colors=p1.get_color(), **tkw)\n",
    "par1.tick_params(axis='y', colors=p2.get_color(), **tkw)\n",
    "host.tick_params(axis='x', **tkw)\n",
    "\n",
    "lines = [p1, p2, p3, p4]\n",
    "\n",
    "if test_name == 'RelSelf':\n",
    "    host.legend(lines, [l.get_label() for l in lines], fontsize='11', loc=0, borderaxespad=0., bbox_to_anchor=(1.0, 1.0))\n",
    "\n",
    "if test_name == 'RelAv':\n",
    "    host.legend(lines, [l.get_label() for l in lines], fontsize='11', loc=0, borderaxespad=0., bbox_to_anchor=(0.5, 0.65))\n",
    "\n",
    "plt.savefig('Simulation_results1_' + data_mode + '_' + test_name + '.png', dpi=300)\n",
    "plt.show()\n",
    "\n"
   ]
  },
  {
   "cell_type": "code",
   "execution_count": 179,
   "metadata": {
    "collapsed": false
   },
   "outputs": [
    {
     "data": {
      "image/png": "[encoded data removed]",
      "text/plain": [
       "<matplotlib.figure.Figure at 0x1732db6b860>"
      ]
     },
     "metadata": {},
     "output_type": "display_data"
    }
   ],
   "source": [
    "fig, host = plt.subplots()\n",
    "fig.subplots_adjust(right=0.85)\n",
    "\n",
    "par1 = host.twinx()\n",
    "\n",
    "ind = df.index.values[0:N_TICKS_DISPLAY] + 1\n",
    "\n",
    "p1, = host.plot(ind, df['N_installed'][0:N_TICKS_DISPLAY]/1000*100, \"g-\", \\\n",
    "#                label=r'$\\%\\ installations\\pm 2\\sigma$')\n",
    "                label=r'$\\%\\ installations$')\n",
    "p2, = par1.plot(ind, df['P_av'][0:N_TICKS_DISPLAY], \"--bo\", label=r'$Price\\pm 2\\sigma$')\n",
    "\n",
    "#add +- 2 std\n",
    "#host.fill_between(ind, \n",
    "#                  df['N_installed'][0:N_TICKS_DISPLAY]/1000*100-2*df_std['N_installed'][0:N_TICKS_DISPLAY]/1000*100, \n",
    "#                  df['N_installed'][0:N_TICKS_DISPLAY]/1000*100+2*df_std['N_installed'][0:N_TICKS_DISPLAY]/1000*100, \n",
    "#                  color='g', \n",
    "#                  alpha=0.2)\n",
    "\n",
    "par1.fill_between(ind, \n",
    "                 df['P_av'][0:N_TICKS_DISPLAY]-2*df_std['P_av'][0:N_TICKS_DISPLAY],\n",
    "                 df['P_av'][0:N_TICKS_DISPLAY]+2*df_std['P_av'][0:N_TICKS_DISPLAY],\n",
    "                  color='b', \n",
    "                  alpha=0.2)\n",
    "\n",
    "host.set_xlabel(\"Time\")\n",
    "host.set_ylabel(\"Hit % installations\")\n",
    "par1.set_ylabel(\"Price per watt\")\n",
    "\n",
    "host.set_autoscaley_on(False)\n",
    "host.set_xlim([1,15])\n",
    "start = 1\n",
    "end = 16\n",
    "host.xaxis.set_ticks(np.arange(start, end, 1))\n",
    "\n",
    "host.yaxis.label.set_color(p1.get_color())\n",
    "par1.yaxis.label.set_color(p2.get_color())\n",
    "\n",
    "\n",
    "tkw = dict(size=4, width=1.5)\n",
    "host.tick_params(axis='y', colors=p1.get_color(), **tkw)\n",
    "par1.tick_params(axis='y', colors=p2.get_color(), **tkw)\n",
    "host.tick_params(axis='x', **tkw)\n",
    "\n",
    "lines = [p1, p2]\n",
    "\n",
    "host.legend(lines, [l.get_label() for l in lines], fontsize='11')\n",
    "plt.savefig('Simulation_results2_' + data_mode + '_' + test_name +'.png', dpi=300)\n",
    "plt.show()"
   ]
  },
  {
   "cell_type": "markdown",
   "metadata": {},
   "source": [
    "## SEI relative to an aggregate"
   ]
  },
  {
   "cell_type": "code",
   "execution_count": 189,
   "metadata": {
    "collapsed": false
   },
   "outputs": [
    {
     "data": {
      "image/png": "[encoded data removed]",
      "text/plain": [
       "<matplotlib.figure.Figure at 0x1732dcf7860>"
      ]
     },
     "metadata": {},
     "output_type": "display_data"
    }
   ],
   "source": [
    "fig, axes = plt.subplots(nrows=1, ncols=2)\n",
    "fig.subplots_adjust(bottom=0.25)\n",
    "\n",
    "\n",
    "\n",
    "\n",
    "ind = np.arange(N_TICKS)    # the x locations for the groups\n",
    "width = 0.35       # the width of the bars: can also be len(x) sequence\n",
    "\n",
    "ind = df.index.values[0:N_TICKS_DISPLAY] + 1\n",
    "\n",
    "#p1, = axes[0].plot(ind, df['sem_max'][0:N_TICKS_DISPLAY], \"g-\", label=\"max\")    \n",
    "p2, = axes[0].plot(ind, df['sei_0'][0:N_TICKS_DISPLAY], \"ro\", label=\"er\")\n",
    "p3, = axes[0].plot(ind, df['sei_1'][0:N_TICKS_DISPLAY], \"r^\", label=\"el\")\n",
    "p4, = axes[0].plot(ind, df['sei_2'][0:N_TICKS_DISPLAY], \"r*\", label=\"el\")\n",
    "\n",
    "\n",
    "#axes[0].fill_between(ind, \n",
    "#                  df['sem_max'][0:N_TICKS_DISPLAY]-2*df_std['sem_max'][0:N_TICKS_DISPLAY], \n",
    "#                  df['sem_max'][0:N_TICKS_DISPLAY]+2*df_std['sem_max'][0:N_TICKS_DISPLAY], \n",
    "#                  color='g', \n",
    "#                  alpha=0.2)\n",
    "\n",
    "#axes[0].fill_between(ind, \n",
    "#                  df['sei_0'][0:N_TICKS_DISPLAY]-2*df_std['sei_0'][0:N_TICKS_DISPLAY], \n",
    "#                  df['sei_0'][0:N_TICKS_DISPLAY]+2*df_std['sei_0'][0:N_TICKS_DISPLAY], \n",
    "#                  color='r', \n",
    "#                  alpha=0.2)\n",
    "\n",
    "#axes[0].fill_between(ind, \n",
    "#                  df['sei_1'][0:N_TICKS_DISPLAY]-2*df_std['sei_1'][0:N_TICKS_DISPLAY], \n",
    "#                  df['sei_1'][0:N_TICKS_DISPLAY]+2*df_std['sei_1'][0:N_TICKS_DISPLAY], \n",
    "#                  color='r', \n",
    "#                  alpha=0.2)\n",
    "\n",
    "#axes[0].fill_between(ind, \n",
    "#                  df['sei_2'][0:N_TICKS_DISPLAY]-2*df_std['sei_2'][0:N_TICKS_DISPLAY], \n",
    "#                  df['sei_2'][0:N_TICKS_DISPLAY]+2*df_std['sei_2'][0:N_TICKS_DISPLAY], \n",
    "#                  color='r', \n",
    "#                  alpha=0.2)\n",
    "\n",
    "\n",
    "#lines = [p1, p2, p3, p4]\n",
    "lines = [p2, p3, p4]\n",
    "axes[0].legend(lines, [l.get_label() for l in lines], fontsize='10', loc=2)\n",
    "\n",
    "axes[0].set_xlabel(\"Time\")\n",
    "axes[0].set_ylabel(\"Efficiency\")\n",
    "#axes[0].set_title('Efficiency relative to the \\n maximum available', fontsize=10)\n",
    "axes[0].set_title('Efficiency', fontsize=10)\n",
    "\n",
    "axes[0].set_autoscaley_on(False)\n",
    "axes[0].set_xlim([1,15])\n",
    "start = 1\n",
    "end = 16\n",
    "axes[0].xaxis.set_ticks(np.arange(start, end, 2))\n",
    "\n",
    "\n",
    "#agents_to_show = ['sem_rel_min'] + ['sei_rel_' + str(i) for i in range(3)]\n",
    "#markers = [\"g-\", \"ro\", \"r^\", \"r*\"]\n",
    "#colors = ['g', 'r', 'r', 'r']\n",
    "#labels = [\"min\", \"er\", \"el\", \"el\"]\n",
    "\n",
    "\n",
    "agents_to_show = ['sei_rel_' + str(i) for i in range(3)]\n",
    "markers = [\"ro\", \"r^\", \"r*\"]\n",
    "colors = ['r', 'r', 'r']\n",
    "labels = [\"er\", \"el\", \"el\"]\n",
    "\n",
    "i = 0\n",
    "lines = []\n",
    "\n",
    "for agent in agents_to_show:\n",
    "    pi, = axes[1].plot(ind, df[agent][0:N_TICKS_DISPLAY], markers[i], label=labels[i])\n",
    "    lines.append(pi)\n",
    "    i = i + 1\n",
    "\n",
    "#i = 0\n",
    "#for agent in agents_to_show:\n",
    "#    axes[1].fill_between(ind, \n",
    "#                  df[agent][0:N_TICKS_DISPLAY]-2*df_std[agent][0:N_TICKS_DISPLAY], \n",
    "#                  df[agent][0:N_TICKS_DISPLAY]+2*df_std[agent][0:N_TICKS_DISPLAY], \n",
    "#                  color=colors[i], \n",
    "#                  alpha=0.2)\n",
    "#    i = i + 1\n",
    "    \n",
    "\n",
    "#axes[1].legend(lines, [l.get_label() for l in lines], fontsize='10', loc=2)\n",
    "axes[1].set_xlabel(\"Time\")\n",
    "axes[1].set_ylabel(\"Reliability\")\n",
    "#axes[1].set_title('Reliability relative to the \\n minimum available', fontsize=10)\n",
    "axes[1].set_title('Reliability', fontsize=10)\n",
    "    \n",
    "axes[1].set_autoscaley_on(False)\n",
    "axes[1].set_xlim([1,15])\n",
    "axes[1].set_ylim([0, 45])\n",
    "axes[1].xaxis.set_ticks(np.arange(start, end, 2))\n",
    "    \n",
    "plt.tight_layout()\n",
    "plt.savefig('Simulation_results_relatives_' + data_mode + '_' + test_name +'.png', dpi=300)\n",
    "plt.show()"
   ]
  },
  {
   "cell_type": "code",
   "execution_count": 154,
   "metadata": {
    "collapsed": true
   },
   "outputs": [],
   "source": [
    "#some files have nans in them - check\n",
    "#concurrency bug - in accessing pv projects - check"
   ]
  },
  {
   "cell_type": "code",
   "execution_count": null,
   "metadata": {
    "collapsed": true
   },
   "outputs": [],
   "source": []
  },
  {
   "cell_type": "code",
   "execution_count": null,
   "metadata": {
    "collapsed": true
   },
   "outputs": [],
   "source": []
  },
  {
   "cell_type": "code",
   "execution_count": null,
   "metadata": {
    "collapsed": true
   },
   "outputs": [],
   "source": []
  },
  {
   "cell_type": "code",
   "execution_count": null,
   "metadata": {
    "collapsed": true
   },
   "outputs": [],
   "source": []
  },
  {
   "cell_type": "code",
   "execution_count": null,
   "metadata": {
    "collapsed": true
   },
   "outputs": [],
   "source": []
  },
  {
   "cell_type": "code",
   "execution_count": null,
   "metadata": {
    "collapsed": true
   },
   "outputs": [],
   "source": []
  },
  {
   "cell_type": "code",
   "execution_count": null,
   "metadata": {
    "collapsed": true
   },
   "outputs": [],
   "source": []
  }
 ],
 "metadata": {
  "anaconda-cloud": {},
  "kernelspec": {
   "display_name": "Python [default]",
   "language": "python",
   "name": "python3"
  },
  "language_info": {
   "codemirror_mode": {
    "name": "ipython",
    "version": 3
   },
   "file_extension": ".py",
   "mimetype": "text/x-python",
   "name": "python",
   "nbconvert_exporter": "python",
   "pygments_lexer": "ipython3",
   "version": "3.5.2"
  }
 },
 "nbformat": 4,
 "nbformat_minor": 0
}
