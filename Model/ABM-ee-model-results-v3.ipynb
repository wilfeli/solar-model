{
 "cells": [
  {
   "cell_type": "code",
   "execution_count": 1,
   "metadata": {
    "collapsed": true
   },
   "outputs": [],
   "source": [
    "# sample.py\n",
    "import ctypes\n",
    "import os\n",
    "import threading\n",
    "import pandas as pd\n",
    "import numpy as np\n",
    "%matplotlib inline\n",
    "import matplotlib.pyplot as plt\n",
    "import matplotlib\n",
    "from matplotlib import cm\n",
    "matplotlib.style.use('ggplot')\n",
    "import math\n",
    "import concurrent.futures\n",
    "import glob\n",
    "import json\n",
    "import scipy as sp\n",
    "import scipy.special\n",
    "from matplotlib.ticker import FormatStrFormatter"
   ]
  },
  {
   "cell_type": "markdown",
   "metadata": {},
   "source": [
    "# Running model as a subprocess"
   ]
  },
  {
   "cell_type": "code",
   "execution_count": null,
   "metadata": {
    "collapsed": false
   },
   "outputs": [],
   "source": [
    "# Try to locate the .so file in the same directory as this file\n",
    "#_file = 'libeemodel.dylib'\n",
    "_file = '/Users/wilfeli/Library/Developer/Xcode/DerivedData/ABMSolar-gkzppcalpbhpwocspomkmqhbbhyr/Build/Products/Debug/libeemodel.dylib'\n",
    "\n",
    "_path = os.path.join(*(os.path.split(_file)[:-1] + (_file,)))\n",
    "_mod = ctypes.cdll.LoadLibrary(_path)"
   ]
  },
  {
   "cell_type": "code",
   "execution_count": null,
   "metadata": {
    "collapsed": false
   },
   "outputs": [],
   "source": [
    "#check that library is loaded\n",
    "print(_mod)"
   ]
  },
  {
   "cell_type": "code",
   "execution_count": null,
   "metadata": {
    "collapsed": false
   },
   "outputs": [],
   "source": [
    "# parameters for the model\n",
    "args = [b'0', b'NEW', b'/Users/wilfeli/Dropbox/ABM/SolarPanels/ABMIRISLab/Source/Examples/EEModel/eemodel.model']\n",
    "args_C = (ctypes.c_char_p * len(args))()\n",
    "args_C[:] = args\n",
    "#alternative for setting args_C (not tested)\n",
    "#args_C = (ctypes.c_char_p * len(args))(*args)\n",
    "#and could use create_string_buffer(\"string\") to create array of strings"
   ]
  },
  {
   "cell_type": "code",
   "execution_count": null,
   "metadata": {
    "collapsed": false
   },
   "outputs": [],
   "source": [
    "#ctypes definitions of functions that could be called\n",
    "_mod.init_model.restype = ctypes.c_void_p\n",
    "_mod.init_model.argtypes = [ctypes.c_int , ctypes.POINTER(ctypes.c_char_p)]\n",
    "_mod.run_model.restype = ctypes.c_int\n",
    "_mod.run_model.argtypes = [ctypes.c_void_p]\n",
    "_mod.C_API_run_model_steps.restype = ctypes.c_int\n",
    "_mod.C_API_run_model_steps.argtypes = [ctypes.c_void_p, ctypes.c_int]\n",
    "\n",
    "class HUIBL(ctypes.Structure):\n",
    "    _fields_ = []\n",
    "    \n",
    "_mod.C_API_estimate_profit.restype = ctypes.c_double\n",
    "_mod.C_API_estimate_profit.argtypes = [ctypes.POINTER(HUIBL), ctypes.c_int , ctypes.c_double]\n",
    "_mod.C_API_estimate_irr.restype = ctypes.c_double\n",
    "_mod.C_API_estimate_irr.argtypes = [ctypes.POINTER(HUIBL), ctypes.c_int , ctypes.c_double]\n",
    "_mod.C_API_estimate_demand_sei_params.restype = ctypes.c_double\n",
    "_mod.C_API_estimate_demand_sei_params.argtypes = [ctypes.POINTER(HUIBL), ctypes.c_int, \\\n",
    "                                       ctypes.c_double, ctypes.c_int, ctypes.POINTER(ctypes.c_double)]\n",
    "_mod.C_API_estimate_demand_w_params.restype = ctypes.c_double\n",
    "_mod.C_API_estimate_demand_w_params.argtypes = [ctypes.POINTER(HUIBL), ctypes.c_double]\n",
    "_mod.C_API_estimate_irr_params.restype = ctypes.c_double\n",
    "_mod.C_API_estimate_irr_params.argtypes = [ctypes.POINTER(HUIBL), ctypes.c_int , ctypes.c_double]\n"
   ]
  },
  {
   "cell_type": "code",
   "execution_count": null,
   "metadata": {
    "collapsed": true
   },
   "outputs": [],
   "source": [
    "#initializing model and getting ui pointer from initialization\n",
    "huibl_void = _mod.init_model(len(args_C), args_C)"
   ]
  },
  {
   "cell_type": "code",
   "execution_count": null,
   "metadata": {
    "collapsed": false
   },
   "outputs": [],
   "source": [
    "#check that it is inilialized\n",
    "print(huibl_void)"
   ]
  },
  {
   "cell_type": "code",
   "execution_count": null,
   "metadata": {
    "collapsed": false
   },
   "outputs": [],
   "source": [
    "#get pointer to handle of UIBL type\n",
    "huibl = ctypes.cast(huibl_void, ctypes.POINTER(HUIBL))"
   ]
  },
  {
   "cell_type": "code",
   "execution_count": null,
   "metadata": {
    "collapsed": true
   },
   "outputs": [],
   "source": [
    "#wrapper function to run model to be used in concurrent, runs for all predetermined steps\n",
    "def run_model(huibl_void):\n",
    "    _mod.run_model(huibl_void)"
   ]
  },
  {
   "cell_type": "code",
   "execution_count": null,
   "metadata": {
    "collapsed": true
   },
   "outputs": [],
   "source": [
    "#wrapper function to run model for fixed number of steps to be used for testing\n",
    "def run_model_step(huibl_void):\n",
    "    _mod.C_API_run_model_steps(huibl_void, 1)"
   ]
  },
  {
   "cell_type": "code",
   "execution_count": null,
   "metadata": {
    "collapsed": false
   },
   "outputs": [],
   "source": [
    "#estimate profit from price\n",
    "def estimate_profit(huibl, p):\n",
    "    return _mod.C_API_estimate_profit(huibl, 0, p)"
   ]
  },
  {
   "cell_type": "code",
   "execution_count": null,
   "metadata": {
    "collapsed": false
   },
   "outputs": [],
   "source": [
    "#estimate irr from price\n",
    "def estimate_irr(huibl, p):\n",
    "    return _mod.C_API_estimate_irr(huibl, 0, p)"
   ]
  },
  {
   "cell_type": "code",
   "execution_count": null,
   "metadata": {
    "collapsed": true
   },
   "outputs": [],
   "source": [
    "#estimate irr for given efficiency, other parameters are default\n",
    "def estimate_irr(huibl, eff):\n",
    "    return _mod.C_API_estimate_irr_params(huibl, 0, eff)"
   ]
  },
  {
   "cell_type": "code",
   "execution_count": null,
   "metadata": {
    "collapsed": true
   },
   "outputs": [],
   "source": [
    "#estimate demand for irr\n",
    "def estimate_demand(huibl, irr):\n",
    "    return _mod.C_API_estimate_demand_w_params(huibl, irr)"
   ]
  },
  {
   "cell_type": "code",
   "execution_count": null,
   "metadata": {
    "collapsed": false
   },
   "outputs": [],
   "source": [
    "#parameters for demand estimation, synchronized with sei.json\n",
    "scale_factor = 4.75\n",
    "theta = np.array([-0.005, 1.25, 0.005, -0.5, -0.005]) * scale_factor"
   ]
  },
  {
   "cell_type": "code",
   "execution_count": null,
   "metadata": {
    "collapsed": true
   },
   "outputs": [],
   "source": [
    "#create vector for ctypes to pass it to C_API\n",
    "theta_C = (ctypes.c_double * len(theta))()\n",
    "theta_C[:] = theta"
   ]
  },
  {
   "cell_type": "code",
   "execution_count": null,
   "metadata": {
    "collapsed": true
   },
   "outputs": [],
   "source": [
    "#estimate demand for price and set demand function form\n",
    "def estimate_demand(huibl, p):\n",
    "    return _mod.C_API_estimate_demand_sei_params(huibl, 0, p, len(theta_C), theta_C)"
   ]
  },
  {
   "cell_type": "code",
   "execution_count": null,
   "metadata": {
    "collapsed": true
   },
   "outputs": [],
   "source": [
    "#estimate demand given price and use internal parameters\n",
    "def estimate_demand(huibl, p):\n",
    "    return _mod.C_API_estimate_demand(huibl, 0, p)"
   ]
  },
  {
   "cell_type": "code",
   "execution_count": null,
   "metadata": {
    "collapsed": false
   },
   "outputs": [],
   "source": [
    "#run model for 1 step at a time\n",
    "run_model_step(huibl_void)"
   ]
  },
  {
   "cell_type": "markdown",
   "metadata": {},
   "source": [
    "# Code snippets, not in use now but might decide to use"
   ]
  },
  {
   "cell_type": "code",
   "execution_count": null,
   "metadata": {
    "collapsed": true
   },
   "outputs": [],
   "source": [
    "#running model after it is initialized\n",
    "res2 = _mod.run_model(huibl_void)\n",
    "\n",
    "#test run model to check that could get parameters through\n",
    "res = _mod.run_model_test( len(args_C_), args_C_)"
   ]
  },
  {
   "cell_type": "code",
   "execution_count": null,
   "metadata": {
    "collapsed": true
   },
   "outputs": [],
   "source": [
    "with concurrent.futures.ThreadPoolExecutor(max_workers=1) as executor:\n",
    "    future = executor.submit(run_model, huibl_void)\n",
    "#alternative that does not work is with threads\n",
    "#t1 = threading.Thread(target=_mod.run_model, args = [res])\n",
    "#t1.start()    \n",
    "#t1.join()"
   ]
  },
  {
   "cell_type": "code",
   "execution_count": null,
   "metadata": {
    "collapsed": true
   },
   "outputs": [],
   "source": [
    "#it is code to check that could do concurrent execution\n",
    "#curent implementation does not use it, because it runs without any concurrency \n",
    "with concurrent.futures.ThreadPoolExecutor(max_workers=1) as executor:\n",
    "    future = executor.submit(run_model_step, huibl_void)"
   ]
  },
  {
   "cell_type": "markdown",
   "metadata": {
    "collapsed": true
   },
   "source": [
    "# Visuals for simulation results, initial parameters sensitivity"
   ]
  },
  {
   "cell_type": "markdown",
   "metadata": {},
   "source": [
    "## Graph for expected time before next maintenance. NOT UPDATED"
   ]
  },
  {
   "cell_type": "code",
   "execution_count": null,
   "metadata": {
    "collapsed": false
   },
   "outputs": [],
   "source": [
    "lambda_ = 2500\n",
    "alpha = 100\n",
    "y = np.zeros(100)\n",
    "x = np.zeros(100)\n",
    "i = 0\n",
    "\n",
    "\n",
    "for step in np.linspace(0.01, 25, num=100):\n",
    "    x[i] = step\n",
    "#    y[i] = lambda_ * math.pow((1 - x[i]), -(1/alpha)) - 1\n",
    "    #cdf\n",
    "    y[i] = 1 - math.pow(1 + x[i]/lambda_, - alpha)\n",
    "    i = i + 1\n",
    "#draw graph\n",
    "plt.plot(x, y)"
   ]
  },
  {
   "cell_type": "markdown",
   "metadata": {},
   "source": [
    "## Estimate scale factor. Given generic demand function, estimate scaling factor to bring demand estimation into [0,1] range approximately."
   ]
  },
  {
   "cell_type": "code",
   "execution_count": null,
   "metadata": {
    "collapsed": false
   },
   "outputs": [],
   "source": [
    "theta = np.array([-0.005, 1.25, 0.005, -0.5, -0.005])\n",
    "\n",
    "#assume equal reputation, equal high irr as priors \n",
    "irr_i = 0.1\n",
    "rep = 1\n",
    "rep_i = 1\n",
    "irr = irr_i\n",
    "X = np.array([1, irr, rep, irr_i, rep_i])\n",
    "\n",
    "\n",
    "#split market equally given number of agents\n",
    "N = 3\n",
    "\n",
    "sum = np.dot(X, theta)\n",
    "print(sum)\n",
    "\n",
    "scale_factor = 1/sum/N\n",
    "print (scale_factor)\n",
    "\n",
    "theta = theta * scale_factor"
   ]
  },
  {
   "cell_type": "markdown",
   "metadata": {},
   "source": [
    "## Draw demand share for the range of irrs. Uses theta from the above estimation, so it needs to be run before to get accurate estimation. "
   ]
  },
  {
   "cell_type": "code",
   "execution_count": null,
   "metadata": {
    "collapsed": false
   },
   "outputs": [],
   "source": [
    "y = np.zeros(100)\n",
    "x = np.zeros(100)\n",
    "i = 0\n",
    "for step in np.linspace(0.01, 0.4, num=100):\n",
    "    x[i] = step\n",
    "    X[1] = x[i]\n",
    "    y[i] = np.dot(X, theta)\n",
    "    i = i + 1\n",
    "#draw graph\n",
    "plt.plot(x, y)"
   ]
  },
  {
   "cell_type": "markdown",
   "metadata": {},
   "source": [
    "## Draw irr for the range of efficiencies. Just to see how it reacts."
   ]
  },
  {
   "cell_type": "code",
   "execution_count": null,
   "metadata": {
    "collapsed": false
   },
   "outputs": [],
   "source": [
    "y = np.zeros(100)\n",
    "x = np.zeros(100)\n",
    "i = 0\n",
    "for step in np.linspace(0.15, 0.35, num=100):\n",
    "    x[i] = step\n",
    "    y[i] = estimate_irr(huibl, x[i])\n",
    "    i = i + 1\n",
    "#draw graph\n",
    "plt.plot(x, y)"
   ]
  },
  {
   "cell_type": "markdown",
   "metadata": {},
   "source": [
    "## Draw demand share as a function of reasonable price range. Python estimation for the demand part and irr rom the simulation."
   ]
  },
  {
   "cell_type": "code",
   "execution_count": null,
   "metadata": {
    "collapsed": false
   },
   "outputs": [],
   "source": [
    "y = np.zeros(100)\n",
    "x = np.zeros(100)\n",
    "i = 0\n",
    "for step in np.linspace(2, 10.0, num=100):\n",
    "    x[i] = step\n",
    "    X[1] = estimate_irr(huibl, x[i])\n",
    "    y[i] = np.dot(X, theta)\n",
    "    i = i + 1\n",
    "#draw graph\n",
    "plt.plot(x, y)"
   ]
  },
  {
   "cell_type": "markdown",
   "metadata": {},
   "source": [
    "# Graph for expected profit given price"
   ]
  },
  {
   "cell_type": "code",
   "execution_count": null,
   "metadata": {
    "collapsed": false
   },
   "outputs": [],
   "source": [
    "y = np.zeros(100)\n",
    "x = np.zeros(100)\n",
    "i = 0\n",
    "for step in np.linspace(0.01, 10.0, num=100):\n",
    "    x[i] = step\n",
    "    y[i] = estimate_profit(huibl, x[i])\n",
    "    i = i + 1\n",
    "#draw graph\n",
    "plt.plot(x, y)\n"
   ]
  },
  {
   "cell_type": "markdown",
   "metadata": {},
   "source": [
    "# Graph for expected irr given price"
   ]
  },
  {
   "cell_type": "code",
   "execution_count": null,
   "metadata": {
    "collapsed": false
   },
   "outputs": [],
   "source": [
    "y = np.zeros(100)\n",
    "x = np.zeros(100)\n",
    "i = 0\n",
    "for step in np.linspace(2, 10.0, num=100):\n",
    "    x[i] = step\n",
    "    y[i] = estimate_irr(huibl, x[i])\n",
    "    i = i + 1\n",
    "#draw graph\n",
    "plt.plot(x, y)\n"
   ]
  },
  {
   "cell_type": "markdown",
   "metadata": {},
   "source": [
    "# Graph for expected demand given price. C++ code for demand estimation all the way through. "
   ]
  },
  {
   "cell_type": "code",
   "execution_count": null,
   "metadata": {
    "collapsed": false
   },
   "outputs": [],
   "source": [
    "y = np.zeros(100)\n",
    "x = np.zeros(100)\n",
    "i = 0\n",
    "for step in np.linspace(2, 10.0, num=100):\n",
    "    x[i] = step\n",
    "    y[i] = estimate_demand(huibl, x[i])\n",
    "    i = i + 1\n",
    "#draw graph\n",
    "plt.plot(x, y)"
   ]
  },
  {
   "cell_type": "markdown",
   "metadata": {},
   "source": [
    "## Graph for realized demand given irr, C++ code. To run need for Python to have correct estimate_demand version for irr estimation. Check what definition was runs from the definition section above."
   ]
  },
  {
   "cell_type": "code",
   "execution_count": null,
   "metadata": {
    "collapsed": false
   },
   "outputs": [],
   "source": [
    "y = np.zeros(100)\n",
    "x = np.zeros(100)\n",
    "i = 0\n",
    "for step in np.linspace(0.01, 0.99, num=100):\n",
    "    x[i] = step\n",
    "    y[i] = estimate_demand(huibl, x[i])\n",
    "    i = i + 1\n",
    "#draw graph\n",
    "plt.plot(x, y)"
   ]
  },
  {
   "cell_type": "markdown",
   "metadata": {},
   "source": [
    "## Inverse-Gamma"
   ]
  },
  {
   "cell_type": "code",
   "execution_count": null,
   "metadata": {
    "collapsed": false
   },
   "outputs": [],
   "source": [
    "y = np.zeros(100)\n",
    "x = np.zeros(100)\n",
    "i = 0\n",
    "beta = 1\n",
    "alpha = 3\n",
    "for step in np.linspace(0.01, 10.0, num=100):\n",
    "    x[i] = step\n",
    "    y[i] = math.pow(beta, alpha) * math.pow(x[i], -alpha-1)*math.exp(-beta/x[i])/sp.special.gamma(alpha)\n",
    "    i = i + 1\n",
    "#draw graph\n",
    "plt.plot(x, y)"
   ]
  },
  {
   "cell_type": "markdown",
   "metadata": {
    "collapsed": true
   },
   "source": [
    "## H decision parameters, sensitivity of a threshold to income level"
   ]
  },
  {
   "cell_type": "code",
   "execution_count": null,
   "metadata": {
    "collapsed": false
   },
   "outputs": [],
   "source": [
    "#parameters\n",
    "THETA_params = [1, 3, 0.02]\n",
    "THETA_decision = [0, 0]\n",
    "THETA_decision[0] = 1/THETA_params[1] * math.pow((1 + THETA_params[0]/THETA_params[1] * 50000 / 1000),-1/(THETA_params[0] + 1))\n",
    "print(THETA_decision[0])\n",
    "THETA_decision[1] = THETA_params[2]"
   ]
  },
  {
   "cell_type": "code",
   "execution_count": null,
   "metadata": {
    "collapsed": false
   },
   "outputs": [],
   "source": [
    "#threshold\n",
    "y = np.zeros(100)\n",
    "x = np.zeros(100)\n",
    "i = 0\n",
    "a = 0.5\n",
    "for step in np.linspace(30000, 100000, num=100):\n",
    "    x[i] = step\n",
    "    y[i] = 1/THETA_params[1] * math.pow((1 + THETA_params[0]/THETA_params[1] * x[i] / 1000),-1/(THETA_params[0] + 1))\n",
    "    i = i + 1\n",
    "#draw graph\n",
    "plt.plot(x, y)"
   ]
  },
  {
   "cell_type": "code",
   "execution_count": null,
   "metadata": {
    "collapsed": false
   },
   "outputs": [],
   "source": [
    "#probability\n",
    "y = np.zeros(100)\n",
    "x = np.zeros(100)\n",
    "i = 0\n",
    "a = 0.5\n",
    "for step in np.linspace(0.01, 0.1, num=100):\n",
    "    x[i] = step\n",
    "    y[i] = (1/(1+math.exp(-((x[i] + 0.15)*a - THETA_decision[0])/THETA_decision[1])))\n",
    "    i = i + 1\n",
    "#draw graph\n",
    "plt.plot(x, y)"
   ]
  },
  {
   "cell_type": "markdown",
   "metadata": {
    "collapsed": true
   },
   "source": [
    "# Model for the market"
   ]
  },
  {
   "cell_type": "code",
   "execution_count": null,
   "metadata": {
    "collapsed": true
   },
   "outputs": [],
   "source": [
    "#assume that California is half of the market \n",
    "#And SolarCity is half of the regional market \n",
    "#cost per watt marketing is 0.48\n",
    "#total amount installed"
   ]
  },
  {
   "cell_type": "code",
   "execution_count": null,
   "metadata": {
    "collapsed": false
   },
   "outputs": [],
   "source": [
    "marketing_costs = 227*1000*0.48*1000\n",
    "marketing_costs"
   ]
  },
  {
   "cell_type": "code",
   "execution_count": null,
   "metadata": {
    "collapsed": true
   },
   "outputs": [],
   "source": [
    "#wage for calculations\n",
    "w = 20"
   ]
  },
  {
   "cell_type": "code",
   "execution_count": null,
   "metadata": {
    "collapsed": false
   },
   "outputs": [],
   "source": [
    "marketing_hours = marketing_costs/w\n",
    "marketing_hours"
   ]
  },
  {
   "cell_type": "code",
   "execution_count": null,
   "metadata": {
    "collapsed": false
   },
   "outputs": [],
   "source": [
    "#get number of people, assume 1 person works 2400 per year. it checks that size of marketing department is reasonable\n",
    "marketing_hours/2400"
   ]
  },
  {
   "cell_type": "code",
   "execution_count": null,
   "metadata": {
    "collapsed": false
   },
   "outputs": [],
   "source": [
    "#total number of installations\n",
    "#divide total installed amount in MWatts by an average size of installation \n",
    "227*1000/6.7"
   ]
  },
  {
   "cell_type": "code",
   "execution_count": null,
   "metadata": {
    "collapsed": true
   },
   "outputs": [],
   "source": [
    "#Model for california\n",
    "#number of installations\n",
    "N_installations_ca = 30000"
   ]
  },
  {
   "cell_type": "code",
   "execution_count": null,
   "metadata": {
    "collapsed": false
   },
   "outputs": [],
   "source": [
    "#GA costs from SolarCity financial report\n",
    "g_a_costs = 86097000\n",
    "g_a_hours = g_a_costs/w\n",
    "g_a_hours"
   ]
  },
  {
   "cell_type": "code",
   "execution_count": null,
   "metadata": {
    "collapsed": false
   },
   "outputs": [],
   "source": [
    "#solar panel output\n",
    "STC_panel = 0.26\n",
    "system_size = 6\n",
    "N_panels = system_size/STC_panel\n",
    "N_panels"
   ]
  },
  {
   "cell_type": "code",
   "execution_count": null,
   "metadata": {
    "collapsed": false
   },
   "outputs": [],
   "source": [
    "#additional costs\n",
    "#they state installation costs being $2 and substract production costs of 0.5 per watt\n",
    "labor_hours = system_size * 1000 * (2 - 0.5)/w\n",
    "#total labor hours in my model need to sum up to the estimate of labor hours for solarcity\n",
    "labor_hours"
   ]
  },
  {
   "cell_type": "code",
   "execution_count": null,
   "metadata": {
    "collapsed": false
   },
   "outputs": [],
   "source": [
    "#Assume for california yearly market size as 30000 (very optimistic) \n",
    "#scale fixed costs accordingly - basically Solarcity is US - which is 50/50 California \n",
    "#and the rest and 50 percent of the market \n",
    "#they have roughly 30000 installations for US\n",
    "#15000 - assume in CA and adjust for the market size - total will be 30000 - rought estimate\n",
    "#Sep 14 2016 - adjusted to be 50000 - slightly higher and share of solar city is assumed to be lower"
   ]
  },
  {
   "cell_type": "code",
   "execution_count": null,
   "metadata": {
    "collapsed": false
   },
   "outputs": [],
   "source": [
    "# DO NOT REMEMBER, LOOK UP\n",
    "1559*1000/1000000*0.25"
   ]
  },
  {
   "cell_type": "code",
   "execution_count": null,
   "metadata": {
    "collapsed": false
   },
   "outputs": [],
   "source": [
    "#already installed 149,141 CA resudential https://www.californiasolarstatistics.ca.gov/reports/agency_detail/\n",
    "#total number of households - http://www.infoplease.com/us/census/data/california/housing.html\n",
    "#1 unit detached 6,883,493\n",
    "\n",
    "149141/6883493\n"
   ]
  },
  {
   "cell_type": "markdown",
   "metadata": {
    "collapsed": true
   },
   "source": [
    "# Graphs for simulation results"
   ]
  },
  {
   "cell_type": "markdown",
   "metadata": {},
   "source": [
    "## Read data for one simulation run."
   ]
  },
  {
   "cell_type": "code",
   "execution_count": null,
   "metadata": {
    "collapsed": false
   },
   "outputs": [],
   "source": [
    "#read last simulation result\n",
    "file = max(glob.iglob('../../ABMIRISLab/Saves/EEModel/*.csv'), key=os.path.getmtime)\n",
    "print(file)"
   ]
  },
  {
   "cell_type": "code",
   "execution_count": null,
   "metadata": {
    "collapsed": true
   },
   "outputs": [],
   "source": [
    "#how to read files using relative path\n",
    "files = glob.glob('../../ABMIRISLab/Saves/EEModel/*.csv')"
   ]
  },
  {
   "cell_type": "code",
   "execution_count": null,
   "metadata": {
    "collapsed": false
   },
   "outputs": [],
   "source": [
    "#names of columns in a file\n",
    "names = ['N_installed', 'N_installed_sum', 'P_av_total', 'P_av']\n",
    "for i in range(3):\n",
    "    names.append('sei_' + str(i))"
   ]
  },
  {
   "cell_type": "code",
   "execution_count": null,
   "metadata": {
    "collapsed": false
   },
   "outputs": [],
   "source": [
    "df = pd.read_csv(file, names=names, low_memory=False)"
   ]
  },
  {
   "cell_type": "code",
   "execution_count": null,
   "metadata": {
    "collapsed": false
   },
   "outputs": [],
   "source": [
    "df.head()"
   ]
  },
  {
   "cell_type": "markdown",
   "metadata": {},
   "source": [
    "## Plot number of installation versus price. Test plot."
   ]
  },
  {
   "cell_type": "code",
   "execution_count": null,
   "metadata": {
    "collapsed": false
   },
   "outputs": [],
   "source": [
    "#plot number of installation versus price\n",
    "l1, l2 = plt.plot(df.index.values, df['N_installed'], '--go', df.index.values, df['sei_0'], '.')\n",
    "plt.legend( (l1, l2), ('Number installations', 'P_av'), loc='upper right', shadow=True)\n",
    "plt.xlabel('time')\n",
    "plt.ylabel('simulation results')\n",
    "plt.title('Different simulation parameters')\n",
    "plt.show()"
   ]
  },
  {
   "cell_type": "markdown",
   "metadata": {},
   "source": [
    "## Read results of multiple simulations."
   ]
  },
  {
   "cell_type": "code",
   "execution_count": 25,
   "metadata": {
    "collapsed": true
   },
   "outputs": [],
   "source": [
    "data_mode = 'CA'"
   ]
  },
  {
   "cell_type": "code",
   "execution_count": 2,
   "metadata": {
    "collapsed": true
   },
   "outputs": [],
   "source": [
    "data_mode = 'MT'"
   ]
  },
  {
   "cell_type": "code",
   "execution_count": 26,
   "metadata": {
    "collapsed": false
   },
   "outputs": [
    {
     "data": {
      "text/html": [
       "<div>\n",
       "<table border=\"1\" class=\"dataframe\">\n",
       "  <thead>\n",
       "    <tr style=\"text-align: right;\">\n",
       "      <th></th>\n",
       "      <th>N_installed</th>\n",
       "      <th>N_installed_sum</th>\n",
       "      <th>P_av_total</th>\n",
       "      <th>P_av</th>\n",
       "      <th>sei_0</th>\n",
       "      <th>sei_1</th>\n",
       "      <th>sei_2</th>\n",
       "    </tr>\n",
       "  </thead>\n",
       "  <tbody>\n",
       "    <tr>\n",
       "      <th>0</th>\n",
       "      <td>12.75</td>\n",
       "      <td>12.75</td>\n",
       "      <td>3.601545</td>\n",
       "      <td>3.735980</td>\n",
       "      <td>0.164217</td>\n",
       "      <td>0.163400</td>\n",
       "      <td>0.157415</td>\n",
       "    </tr>\n",
       "    <tr>\n",
       "      <th>1</th>\n",
       "      <td>10.00</td>\n",
       "      <td>22.75</td>\n",
       "      <td>3.641312</td>\n",
       "      <td>3.689365</td>\n",
       "      <td>0.186267</td>\n",
       "      <td>0.164343</td>\n",
       "      <td>0.171784</td>\n",
       "    </tr>\n",
       "    <tr>\n",
       "      <th>2</th>\n",
       "      <td>11.75</td>\n",
       "      <td>34.50</td>\n",
       "      <td>3.622545</td>\n",
       "      <td>3.657265</td>\n",
       "      <td>0.191294</td>\n",
       "      <td>0.178446</td>\n",
       "      <td>0.205330</td>\n",
       "    </tr>\n",
       "    <tr>\n",
       "      <th>3</th>\n",
       "      <td>11.00</td>\n",
       "      <td>45.50</td>\n",
       "      <td>3.531040</td>\n",
       "      <td>3.601522</td>\n",
       "      <td>0.194121</td>\n",
       "      <td>0.201253</td>\n",
       "      <td>0.191614</td>\n",
       "    </tr>\n",
       "    <tr>\n",
       "      <th>4</th>\n",
       "      <td>11.00</td>\n",
       "      <td>56.50</td>\n",
       "      <td>3.543330</td>\n",
       "      <td>3.567265</td>\n",
       "      <td>0.178589</td>\n",
       "      <td>0.192172</td>\n",
       "      <td>0.199588</td>\n",
       "    </tr>\n",
       "  </tbody>\n",
       "</table>\n",
       "</div>"
      ],
      "text/plain": [
       "   N_installed  N_installed_sum  P_av_total      P_av     sei_0     sei_1  \\\n",
       "0        12.75            12.75    3.601545  3.735980  0.164217  0.163400   \n",
       "1        10.00            22.75    3.641312  3.689365  0.186267  0.164343   \n",
       "2        11.75            34.50    3.622545  3.657265  0.191294  0.178446   \n",
       "3        11.00            45.50    3.531040  3.601522  0.194121  0.201253   \n",
       "4        11.00            56.50    3.543330  3.567265  0.178589  0.192172   \n",
       "\n",
       "      sei_2  \n",
       "0  0.157415  \n",
       "1  0.171784  \n",
       "2  0.205330  \n",
       "3  0.191614  \n",
       "4  0.199588  "
      ]
     },
     "execution_count": 26,
     "metadata": {},
     "output_type": "execute_result"
    }
   ],
   "source": [
    "#names of columns in a file\n",
    "names = ['N_installed', 'N_installed_sum', 'P_av_total', 'P_av']\n",
    "for i in range(3):\n",
    "    names.append('sei_' + str(i))\n",
    "\n",
    "\n",
    "#read few files\n",
    "#save into database\n",
    "dfs_ = []\n",
    "#read last simulation result\n",
    "files = glob.glob('/Users/wilfeli/Dropbox/ABM/SolarPanels/ABMIRISLab/Saves/EEModel/' + data_mode + '/*[_w].csv')\n",
    "files.sort(key=os.path.getmtime, reverse=True)\n",
    "\n",
    "#take top 4 files \n",
    "for file in files[0:4]:\n",
    "    df_ = pd.read_csv(file, names=names, low_memory=False)\n",
    "    dfs_.append(df_)\n",
    "\n",
    "#create df from them    \n",
    "df_concat = pd.concat(dfs_)\n",
    "df = df_concat.groupby(level=0).mean()\n",
    "df_std = df_concat.groupby(level=0).std()\n",
    "\n",
    "#alternative way to calculate means\n",
    "by_row_index = df_concat.groupby(df_concat.index)\n",
    "df_means = by_row_index.mean()\n",
    "df_means.head()"
   ]
  },
  {
   "cell_type": "code",
   "execution_count": 27,
   "metadata": {
    "collapsed": false
   },
   "outputs": [
    {
     "data": {
      "text/html": [
       "<div>\n",
       "<table border=\"1\" class=\"dataframe\">\n",
       "  <thead>\n",
       "    <tr style=\"text-align: right;\">\n",
       "      <th></th>\n",
       "      <th>Income</th>\n",
       "      <th>ElectricityBill</th>\n",
       "      <th>House_size</th>\n",
       "      <th>TimeInstalled</th>\n",
       "      <th>bInstalled</th>\n",
       "    </tr>\n",
       "  </thead>\n",
       "  <tbody>\n",
       "    <tr>\n",
       "      <th>count</th>\n",
       "      <td>4.000000e+03</td>\n",
       "      <td>4000.000000</td>\n",
       "      <td>4000.000000</td>\n",
       "      <td>4.000000e+03</td>\n",
       "      <td>4000.000000</td>\n",
       "    </tr>\n",
       "    <tr>\n",
       "      <th>mean</th>\n",
       "      <td>1.524890e+05</td>\n",
       "      <td>161.020814</td>\n",
       "      <td>2686.441815</td>\n",
       "      <td>9.104213e+16</td>\n",
       "      <td>0.237000</td>\n",
       "    </tr>\n",
       "    <tr>\n",
       "      <th>std</th>\n",
       "      <td>1.545676e+05</td>\n",
       "      <td>100.070414</td>\n",
       "      <td>1896.939530</td>\n",
       "      <td>6.966223e+17</td>\n",
       "      <td>0.425295</td>\n",
       "    </tr>\n",
       "    <tr>\n",
       "      <th>min</th>\n",
       "      <td>1.019370e+02</td>\n",
       "      <td>0.563949</td>\n",
       "      <td>114.778000</td>\n",
       "      <td>-3.458765e+18</td>\n",
       "      <td>0.000000</td>\n",
       "    </tr>\n",
       "    <tr>\n",
       "      <th>25%</th>\n",
       "      <td>6.434120e+04</td>\n",
       "      <td>89.859900</td>\n",
       "      <td>1626.235000</td>\n",
       "      <td>0.000000e+00</td>\n",
       "      <td>0.000000</td>\n",
       "    </tr>\n",
       "    <tr>\n",
       "      <th>50%</th>\n",
       "      <td>1.122480e+05</td>\n",
       "      <td>138.459500</td>\n",
       "      <td>2317.390000</td>\n",
       "      <td>0.000000e+00</td>\n",
       "      <td>0.000000</td>\n",
       "    </tr>\n",
       "    <tr>\n",
       "      <th>75%</th>\n",
       "      <td>1.821322e+05</td>\n",
       "      <td>210.845000</td>\n",
       "      <td>3258.782500</td>\n",
       "      <td>0.000000e+00</td>\n",
       "      <td>0.000000</td>\n",
       "    </tr>\n",
       "    <tr>\n",
       "      <th>max</th>\n",
       "      <td>2.001150e+06</td>\n",
       "      <td>929.188000</td>\n",
       "      <td>26202.700000</td>\n",
       "      <td>8.070451e+18</td>\n",
       "      <td>1.000000</td>\n",
       "    </tr>\n",
       "  </tbody>\n",
       "</table>\n",
       "</div>"
      ],
      "text/plain": [
       "             Income  ElectricityBill    House_size  TimeInstalled   bInstalled\n",
       "count  4.000000e+03      4000.000000   4000.000000   4.000000e+03  4000.000000\n",
       "mean   1.524890e+05       161.020814   2686.441815   9.104213e+16     0.237000\n",
       "std    1.545676e+05       100.070414   1896.939530   6.966223e+17     0.425295\n",
       "min    1.019370e+02         0.563949    114.778000  -3.458765e+18     0.000000\n",
       "25%    6.434120e+04        89.859900   1626.235000   0.000000e+00     0.000000\n",
       "50%    1.122480e+05       138.459500   2317.390000   0.000000e+00     0.000000\n",
       "75%    1.821322e+05       210.845000   3258.782500   0.000000e+00     0.000000\n",
       "max    2.001150e+06       929.188000  26202.700000   8.070451e+18     1.000000"
      ]
     },
     "execution_count": 27,
     "metadata": {},
     "output_type": "execute_result"
    }
   ],
   "source": [
    "#names of columns in a file\n",
    "names = ['Income', 'ElectricityBill', 'House_size', 'TimeInstalled', 'bInstalled']\n",
    "\n",
    "\n",
    "#read few files\n",
    "#save into database\n",
    "dfs_hos_ = []\n",
    "#read last simulation result\n",
    "#files = glob.glob('../../ABMIRISLab/Saves/EEModel/*.csv')\n",
    "files = glob.glob('/Users/wilfeli/Dropbox/ABM/SolarPanels/ABMIRISLab/Saves/EEModel/' + data_mode + '/*[_hos].csv')\n",
    "files.sort(key=os.path.getmtime, reverse=True)\n",
    "\n",
    "#take top 4 files \n",
    "for file in files[0:4]:\n",
    "    df_ = pd.read_csv(file, names=names, low_memory=False)\n",
    "    dfs_hos_.append(df_.reset_index(drop=True))\n",
    "\n",
    "#create df from them    \n",
    "df_hos_concat = pd.concat(dfs_hos_, axis=0, ignore_index=True)\n",
    "\n",
    "df_hos_concat.describe()"
   ]
  },
  {
   "cell_type": "code",
   "execution_count": 28,
   "metadata": {
    "collapsed": true
   },
   "outputs": [],
   "source": [
    "bins_income = [0, 2499, 4999, 7499, 9999, \\\n",
    "    14999, 19999, 24999, 29999, 34999, 39999, \\\n",
    "    44999, 49999, 54999, 59999, 64999, \\\n",
    "        69999, 74999, 79999, 84999, 89999, \\\n",
    "        94999, 99999, 119999, np.inf]"
   ]
  },
  {
   "cell_type": "code",
   "execution_count": 29,
   "metadata": {
    "collapsed": false
   },
   "outputs": [],
   "source": [
    "#recreates bins for income for raw data\n",
    "df_hos_concat['Income_C'] = pd.cut(df_hos_concat['Income'], \\\n",
    "                                   bins = bins_income, labels = False, retbins=True)[0]\n",
    "\n",
    "\n",
    "y_1 = df_hos_concat.groupby('Income_C')['bInstalled'].mean()\n",
    "y_1_std = df_hos_concat.groupby('Income_C')['bInstalled'].std()\n"
   ]
  },
  {
   "cell_type": "code",
   "execution_count": 30,
   "metadata": {
    "collapsed": false
   },
   "outputs": [],
   "source": [
    "bins_elect = np.array([0.0, 2500.0, 5000.0, 7500.0, 10000.0, 12500.0, \\\n",
    "                       15000.0, 17500.0, 20000.0, 22500.0, 25000.0, \\\n",
    "                       30000.0, 35000.0, 40000.0, 50000.0, 75000.0, np.inf], dtype = np.float32)\n",
    "ELECTRICITY_PRICE_US_DEMAND = 0.15\n",
    "bins_elect_adj = bins_elect*ELECTRICITY_PRICE_US_DEMAND/365.25*30"
   ]
  },
  {
   "cell_type": "code",
   "execution_count": 31,
   "metadata": {
    "collapsed": false
   },
   "outputs": [],
   "source": [
    "df_hos_concat['ElectricityBill_C'] = pd.cut(df_hos_concat['ElectricityBill'], \\\n",
    "                                   bins = bins_elect_adj, labels = False, retbins=True)[0]\n",
    "y_2 = df_hos_concat.groupby('ElectricityBill_C')['bInstalled'].mean()\n",
    "y_2_std = df_hos_concat.groupby('ElectricityBill_C')['bInstalled'].std()\n",
    "\n",
    "for i in range(len(bins_elect_adj)):\n",
    "    if not (i in y_2.index.values):\n",
    "        y_2.loc[i] = 0.0\n",
    "        \n",
    "y_2 = y_2.sort_index()"
   ]
  },
  {
   "cell_type": "code",
   "execution_count": null,
   "metadata": {
    "collapsed": true
   },
   "outputs": [],
   "source": []
  },
  {
   "cell_type": "markdown",
   "metadata": {},
   "source": [
    "## Draw penetration in time"
   ]
  },
  {
   "cell_type": "markdown",
   "metadata": {},
   "source": [
    "### Old version"
   ]
  },
  {
   "cell_type": "code",
   "execution_count": null,
   "metadata": {
    "collapsed": false
   },
   "outputs": [],
   "source": [
    "N = 24 #number of income bins\n",
    "ind_1 = np.arange(N)  # the x locations for the groups\n",
    "width = 0.35       # the width of the bars\n",
    "\n",
    "\n",
    "fig, axes = plt.subplots(nrows=1, ncols=2)\n",
    "fig.subplots_adjust(bottom=0.25)\n",
    "\n",
    "plt1 = axes[0].bar(ind_1, y_1, width, color='g')#, yerr=y_std)\n",
    "\n",
    "axes[0].set_ylabel('% installed')\n",
    "axes[0].set_title('% installed by level \\n of income', fontsize=10)\n",
    "axes[0].set_xticks(ind + width/2)\n",
    "axes[0].set_xticklabels(tuple([\"{}{}\".format(a_, b_) for a_, b_ in zip(['<'] * N, bins_income[1:])]), rotation=90, fontsize=7)\n",
    "\n",
    "\n",
    "ind_2 = np.arange(13)\n",
    "axes[1].bar(ind_2, y_2, width, color='b')\n",
    "axes[1].set_xticklabels(tuple([\"{}{:.2f}\".format(a_, b_) for a_, b_ in zip(['<'] * N, bins_elect[1:])]), rotation=90, fontsize=7)\n",
    "axes[1].set_ylabel('% installed')\n",
    "axes[1].set_title('% installed by level \\n of electricity consumption', fontsize=10)\n",
    "axes[1].set_xticks(ind_2 + width/2)\n",
    "#axes[1].xaxis.set_major_formatter(FormatStrFormatter('%.2f'))\n",
    "\n",
    "plt.tight_layout()\n",
    "\n",
    "plt.savefig('Simulation_results3.png', dpi=300)\n",
    "plt.show()"
   ]
  },
  {
   "cell_type": "markdown",
   "metadata": {
    "collapsed": true
   },
   "source": [
    "draw penetration level per time unit \n",
    "\n",
    "need for each income bin - number of people in the bin, number of people that installed in the tick \n",
    "\n",
    "assume tick 0 for each simulation run, collect number of installs per bin in tick 0, total number of agents in bins, \n",
    "calculate average over runs for tick+bin combination\n",
    "\n",
    "tick - array of shares for bins\n",
    "\n",
    "each bin - count number per tick \n",
    "repeat for each run and average "
   ]
  },
  {
   "cell_type": "markdown",
   "metadata": {},
   "source": [
    "### New Version."
   ]
  },
  {
   "cell_type": "markdown",
   "metadata": {},
   "source": [
    "### Preparing raw data"
   ]
  },
  {
   "cell_type": "code",
   "execution_count": 32,
   "metadata": {
    "collapsed": true
   },
   "outputs": [],
   "source": [
    "N_SIMULATION_TICKS = 20"
   ]
  },
  {
   "cell_type": "code",
   "execution_count": 33,
   "metadata": {
    "collapsed": true
   },
   "outputs": [],
   "source": [
    "N_AGENTS_TOTAL = 1000"
   ]
  },
  {
   "cell_type": "code",
   "execution_count": null,
   "metadata": {
    "collapsed": true
   },
   "outputs": [],
   "source": [
    "N_BINS_INCOME = len(bins_income) - 1"
   ]
  },
  {
   "cell_type": "code",
   "execution_count": 52,
   "metadata": {
    "collapsed": false
   },
   "outputs": [],
   "source": [
    "#number of agents in bins per simulation run \n",
    "n_agents_bins = []\n",
    "for df_ in dfs_hos_:\n",
    "    df_['Income_C'] = pd.cut(df_['Income'], \\\n",
    "                                   bins = bins_income, labels = False, retbins=True)[0]\n",
    "    n_agents_bins.append(pd.value_counts(df_['Income_C'])\\\n",
    "                               .reindex(range(N_BINS_INCOME), fill_value=0).sort_index().values)"
   ]
  },
  {
   "cell_type": "code",
   "execution_count": 35,
   "metadata": {
    "collapsed": true
   },
   "outputs": [],
   "source": []
  },
  {
   "cell_type": "code",
   "execution_count": 43,
   "metadata": {
    "collapsed": true
   },
   "outputs": [],
   "source": [
    "N_BINS_ELECT = len(bins_elect_adj) - 1"
   ]
  },
  {
   "cell_type": "code",
   "execution_count": 46,
   "metadata": {
    "collapsed": false
   },
   "outputs": [],
   "source": [
    "n_agents_bins_elect = []\n",
    "for df_ in dfs_hos_:\n",
    "    df_['ElectricityBill_C'] = pd.cut(df_['ElectricityBill'], \\\n",
    "                                   bins = bins_elect_adj, labels = False, retbins=True)[0]\n",
    "    n_agents_bins_elect.append(pd.value_counts(df_['ElectricityBill_C'])\\\n",
    "                               .reindex(range(N_BINS_ELECT), fill_value=0).sort_index().values)"
   ]
  },
  {
   "cell_type": "code",
   "execution_count": 53,
   "metadata": {
    "collapsed": false
   },
   "outputs": [],
   "source": [
    "penetration_t_0 = np.zeros((len(dfs_hos_), N_BINS_INCOME))\n",
    "#get distribution of preinstalled \n",
    "i = 0\n",
    "for df_ in dfs_hos_:\n",
    "    for bin_ in range(N_BINS_INCOME):\n",
    "        index = df_[(df_['bInstalled'] == 1) & \\\n",
    "                    (df_['Income_C'] == bin_) & \\\n",
    "                    ((df_['TimeInstalled'] < 0) | (df_['TimeInstalled'] > (N_SIMULATION_TICKS - 1)))].index \n",
    "        penetration_t_0[i, bin_] = df_.iloc[index].shape[0]\n",
    "    i = i + 1"
   ]
  },
  {
   "cell_type": "code",
   "execution_count": 39,
   "metadata": {
    "collapsed": false
   },
   "outputs": [],
   "source": [
    "penetration_elect_t_0 = np.zeros((len(dfs_hos_), N_BINS_ELECT))\n",
    "#get distribution of preinstalled \n",
    "i = 0\n",
    "for df_ in dfs_hos_:\n",
    "    for bin_ in range(N_BINS_ELECT):\n",
    "        index = df_[(df_['bInstalled'] == 1) & \\\n",
    "                    (df_['ElectricityBill_C'] == bin_) & \\\n",
    "                    ((df_['TimeInstalled'] < 0) | (df_['TimeInstalled'] > (N_SIMULATION_TICKS - 1)))].index \n",
    "        penetration_elect_t_0[i, bin_] = df_.iloc[index].shape[0]\n",
    "    i = i + 1"
   ]
  },
  {
   "cell_type": "markdown",
   "metadata": {},
   "source": [
    "### Data for the number of installations given income level"
   ]
  },
  {
   "cell_type": "code",
   "execution_count": 54,
   "metadata": {
    "collapsed": false
   },
   "outputs": [],
   "source": [
    "N_TICKS = N_SIMULATION_TICKS\n",
    "#number of installations as a percentage of a population for a given tick, average over simulation runs\n",
    "ticks_income_penetration = np.zeros((N_TICKS, N_BINS_INCOME))\n",
    "#total number of installations as a percentage of a population for a given tick, average over simulation runs\n",
    "ticks_income_penetration_acc = np.zeros((N_TICKS, N_BINS_INCOME))\n",
    "#number of installations as a percentage of a total population for a given tick, average over simulation runs\n",
    "ticks_income_penetration_acc_total = np.zeros((N_TICKS, N_BINS_INCOME))\n",
    "#number of installations for each simulation run for the current tick\n",
    "raw_data_dfs = np.zeros((len(dfs_hos_), N_BINS_INCOME))\n",
    "#accumulated number of installations for each tick each data frame and income bin\n",
    "raw_data_raw_acc = np.zeros((N_TICKS + 1, len(dfs_hos_), N_BINS_INCOME))\n",
    "#number of installations as a percentage of the defined population\n",
    "raw_data_acc = np.zeros((N_TICKS, len(dfs_hos_), N_BINS_INCOME))\n",
    "#number of installations as a percentage of a total population for the simulation run\n",
    "raw_data_acc_total = np.zeros((N_TICKS, len(dfs_hos_), N_BINS_INCOME))\n",
    "\n",
    "#initial level of penetration\n",
    "raw_data_raw_acc[0, :, :] = penetration_t_0.copy()\n",
    "\n",
    "\n",
    "for tick in range(N_TICKS):\n",
    "    #reset dataframe index\n",
    "    i = 0\n",
    "    for df_ in dfs_hos_:\n",
    "        for bin_ in range(N_BINS_INCOME):\n",
    "            index = df_[(df_['bInstalled'] == 1) & \\\n",
    "                        (df_['Income_C'] == bin_) & \\\n",
    "                        (df_['TimeInstalled'] == tick)].index \n",
    "            #get simulation run share of installations in a tick\n",
    "            raw_data_dfs[i, bin_] = df_.iloc[index].shape[0] / n_agents_bins[i][bin_]\n",
    "            #total number of installs in a group \n",
    "            raw_data_raw_acc[tick + 1, i, bin_] = raw_data_raw_acc[tick, i, bin_] + df_.iloc[index].shape[0]\n",
    "            raw_data_acc[tick, i, bin_] = raw_data_raw_acc[tick + 1, i, bin_] / n_agents_bins[i][bin_]\n",
    "            raw_data_acc_total[tick, i, bin_] = raw_data_raw_acc[tick + 1, i, bin_] / N_AGENTS_TOTAL\n",
    "        #index dataframes\n",
    "        i = i + 1\n",
    "    #average over bins and simulation runs\n",
    "    ticks_income_penetration[tick] = raw_data_dfs.mean(axis=0).copy()\n",
    "    ticks_income_penetration_acc[tick] = raw_data_acc[tick, :, :].mean(axis=0).copy()\n",
    "    ticks_income_penetration_acc_total[tick] = raw_data_acc_total[tick, :, :].mean(axis=0).copy()\n",
    "\n",
    "            "
   ]
  },
  {
   "cell_type": "code",
   "execution_count": 51,
   "metadata": {
    "collapsed": false
   },
   "outputs": [
    {
     "name": "stdout",
     "output_type": "stream",
     "text": [
      "[array([11,  4,  0,  4, 11, 15, 14, 19, 21, 18, 23, 26, 27, 32, 38, 34], dtype=int64), array([ 5, 10,  3,  1,  9, 14, 14, 12, 25, 16, 22, 29, 31, 35, 27, 32], dtype=int64), array([ 9,  6,  4,  1, 12, 10, 20, 18, 28, 19, 34, 19, 20, 31, 28, 37], dtype=int64), array([12,  7,  3,  2, 14, 13, 14, 14, 22, 17, 28, 25, 20, 20, 30, 32], dtype=int64)]\n"
     ]
    }
   ],
   "source": [
    "print(n_agents_bins)"
   ]
  },
  {
   "cell_type": "markdown",
   "metadata": {
    "collapsed": true
   },
   "source": [
    "### Data for the number of installations given electricity consumption level"
   ]
  },
  {
   "cell_type": "code",
   "execution_count": 41,
   "metadata": {
    "collapsed": false
   },
   "outputs": [],
   "source": [
    "N_TICKS = 20\n",
    "#number of installations as a percentage of a population for a given tick, average over simulation runs\n",
    "ticks_elect_penetration = np.zeros((N_TICKS, N_BINS_ELECT))\n",
    "#total number of installations as a percentage of a population for a given tick, average over simulation runs\n",
    "ticks_elect_penetration_acc = np.zeros((N_TICKS, N_BINS_ELECT))\n",
    "#number of installations as a percentage of a total population for a given tick, average over simulation runs\n",
    "ticks_elect_penetration_acc_total = np.zeros((N_TICKS, N_BINS_ELECT))\n",
    "#number of installations for each simulation run for the current tick\n",
    "raw_data_dfs = np.zeros((len(dfs_hos_), N_BINS_ELECT))\n",
    "#accumulated number of installations for each tick each data frame and income bin\n",
    "raw_data_raw_acc = np.zeros((N_TICKS + 1, len(dfs_hos_), N_BINS_ELECT))\n",
    "#number of installations as a percentage of the defined population\n",
    "raw_data_acc = np.zeros((N_TICKS, len(dfs_hos_), N_BINS_ELECT))\n",
    "#number of installations as a percentage of a total population for the simulation run\n",
    "raw_data_acc_total = np.zeros((N_TICKS, len(dfs_hos_), N_BINS_ELECT))\n",
    "\n",
    "#initial level of penetration\n",
    "raw_data_raw_acc[0, :, :] = penetration_elect_t_0.copy()\n",
    "\n",
    "\n",
    "for tick in range(N_TICKS):\n",
    "    #reset dataframe index\n",
    "    i = 0\n",
    "    for df_ in dfs_hos_:\n",
    "        for bin_ in range(N_BINS_ELECT):\n",
    "            index = df_[(df_['bInstalled'] == 1) & \\\n",
    "                        (df_['ElectricityBill_C'] == bin_) & \\\n",
    "                        (df_['TimeInstalled'] == tick)].index \n",
    "            #get simulation run share of installations in a tick\n",
    "            raw_data_dfs[i, bin_] = df_.iloc[index].shape[0] / n_agents_bins[i][bin_]\n",
    "            #total number of installs in a group \n",
    "            raw_data_raw_acc[tick + 1, i, bin_] = raw_data_raw_acc[tick, i, bin_] + df_.iloc[index].shape[0]\n",
    "            raw_data_acc[tick, i, bin_] = raw_data_raw_acc[tick + 1, i, bin_] / n_agents_bins_elect[i][bin_]\n",
    "            raw_data_acc_total[tick, i, bin_] = raw_data_raw_acc[tick + 1, i, bin_] / N_AGENTS_TOTAL\n",
    "        #index dataframes\n",
    "        i = i + 1\n",
    "    #average over bins and simulation runs\n",
    "    ticks_elect_penetration[tick] = raw_data_dfs.mean(axis=0).copy()\n",
    "    ticks_elect_penetration_acc[tick] = raw_data_acc[tick, :, :].mean(axis=0).copy()\n",
    "    ticks_elect_penetration_acc_total[tick] = raw_data_acc_total[tick, :, :].mean(axis=0).copy()"
   ]
  },
  {
   "cell_type": "code",
   "execution_count": null,
   "metadata": {
    "collapsed": true
   },
   "outputs": [],
   "source": []
  },
  {
   "cell_type": "code",
   "execution_count": null,
   "metadata": {
    "collapsed": true
   },
   "outputs": [],
   "source": []
  },
  {
   "cell_type": "code",
   "execution_count": null,
   "metadata": {
    "collapsed": true
   },
   "outputs": [],
   "source": []
  },
  {
   "cell_type": "code",
   "execution_count": 4,
   "metadata": {
    "collapsed": true
   },
   "outputs": [],
   "source": []
  },
  {
   "cell_type": "markdown",
   "metadata": {
    "collapsed": true
   },
   "source": [
    "### Test versions of graphs"
   ]
  },
  {
   "cell_type": "code",
   "execution_count": null,
   "metadata": {
    "collapsed": false
   },
   "outputs": [],
   "source": [
    "fig, host = plt.subplots()\n",
    "\n",
    "ind = np.arange(N_TICKS)    # the x locations for the groups\n",
    "width = 0.35       # the width of the bars: can also be len(x) sequence\n",
    "\n",
    "norm = matplotlib.colors.Normalize(vmin=0, vmax=N_INCOME_BINS - 1)\n",
    "cmap_custom = cm.get_cmap('YlGn')\n",
    "incomes = norm(range(N_INCOME_BINS))\n",
    "colors = []\n",
    "\n",
    "for income_ in incomes:\n",
    "    colors.append(cmap_custom(income_))\n",
    "\n",
    "\n",
    "p1 = host.bar(ind, ticks_income_penetration_acc[:, 0], width, color=colors[0])\n",
    "\n",
    "for income_bin in range(1, N_INCOME_BINS, 1):\n",
    "    p2 = host.bar(ind, ticks_income_penetration_acc[:, income_bin], width, color=colors[income_bin], \\\n",
    "                  bottom=ticks_income_penetration_acc[:, income_bin - 1])\n",
    "\n",
    "\n",
    "host.set_xlabel(\"Time\")\n",
    "host.set_ylabel(\"Accumulated % installations\")\n",
    "host.set_title('Accumulated % installations by the level \\n of income', fontsize=10)\n",
    "\n",
    "plt.savefig('Simulation_results4_' + data_mode + '.png', dpi=300)\n",
    "plt.show()"
   ]
  },
  {
   "cell_type": "code",
   "execution_count": null,
   "metadata": {
    "collapsed": false
   },
   "outputs": [],
   "source": [
    "fig, host = plt.subplots()\n",
    "\n",
    "ind = np.arange(N_TICKS)    # the x locations for the groups\n",
    "width = 0.35       # the width of the bars: can also be len(x) sequence\n",
    "\n",
    "\n",
    "norm = matplotlib.colors.Normalize(vmin=0, vmax=N_INCOME_BINS - 1)\n",
    "cmap_custom = cm.get_cmap('YlGn')\n",
    "incomes = norm(range(N_INCOME_BINS))\n",
    "colors = []\n",
    "\n",
    "for income_ in incomes:\n",
    "    colors.append(cmap_custom(income_))\n",
    "\n",
    "\n",
    "p1 = host.bar(ind, ticks_income_penetration_acc[:, 0], width, color=colors[0])\n",
    "\n",
    "for income_bin in range(1, N_INCOME_BINS, 1):\n",
    "    p2 = host.bar(ind, ticks_income_penetration_acc_total[:, income_bin], width, color=colors[income_bin], \\\n",
    "                  bottom=ticks_income_penetration_acc_total[:, income_bin - 1])\n",
    "\n",
    "\n",
    "host.set_xlabel(\"Time\")\n",
    "host.set_ylabel(\"Accumulated % installations\")\n",
    "host.set_title('Accumulated % installations by the level \\n of income', fontsize=10)\n",
    "\n",
    "plt.savefig('Simulation_results5_' + data_mode + '.png', dpi=300)\n",
    "plt.show()"
   ]
  },
  {
   "cell_type": "markdown",
   "metadata": {},
   "source": [
    "## Graph for distribution of installations in time "
   ]
  },
  {
   "cell_type": "code",
   "execution_count": 55,
   "metadata": {
    "collapsed": false
   },
   "outputs": [
    {
     "data": {
      "image/png": "[encoded data removed]",
      "text/plain": [
       "<matplotlib.figure.Figure at 0x25e03e02c50>"
      ]
     },
     "metadata": {},
     "output_type": "display_data"
    }
   ],
   "source": [
    "fig, axes = plt.subplots(nrows=1, ncols=2)\n",
    "fig.subplots_adjust(bottom=0.25)\n",
    "\n",
    "\n",
    "\n",
    "\n",
    "ind = np.arange(N_TICKS)    # the x locations for the groups\n",
    "width = 0.35       # the width of the bars: can also be len(x) sequence\n",
    "\n",
    "norm = matplotlib.colors.Normalize(vmin=0, vmax=N_BINS_INCOME - 1)\n",
    "cmap_custom = cm.get_cmap('YlGn')\n",
    "incomes = norm(range(N_BINS_INCOME))\n",
    "colors_income = []\n",
    "\n",
    "for income_ in incomes:\n",
    "    colors_income.append(cmap_custom(income_))\n",
    "\n",
    "\n",
    "p1 = axes[0].bar(ind[0:N_TICKS_DISPLAY - 1], ticks_income_penetration_acc[:, 0][0:N_TICKS_DISPLAY - 1], width, color=colors_income[0])\n",
    "\n",
    "for bin_ in range(1, N_BINS_INCOME, 1):\n",
    "    p2 = axes[0].bar(ind[0:N_TICKS_DISPLAY - 1], \\\n",
    "                     ticks_income_penetration_acc[:, bin_][0:N_TICKS_DISPLAY - 1], \\\n",
    "                     width, color=colors_income[bin_], \\\n",
    "                  bottom=ticks_income_penetration_acc[:, bin_ - 1][0:N_TICKS_DISPLAY - 1])\n",
    "\n",
    "\n",
    "axes[0].set_xlabel(\"Time\")\n",
    "axes[0].set_ylabel(\"Accumulated % installations\")\n",
    "axes[0].set_title('Accumulated % installations \\n by the level \\n of income', fontsize=10)\n",
    "\n",
    "\n",
    "elects = norm(range(N_BINS_ELECT))\n",
    "colors_elect = []\n",
    "\n",
    "\n",
    "\n",
    "for elect_ in elects:\n",
    "    colors_elect.append(cmap_custom(elect_))\n",
    "\n",
    "\n",
    "p1 = axes[1].bar(ind[0:N_TICKS_DISPLAY - 1], ticks_elect_penetration_acc[:, 0][0:N_TICKS_DISPLAY - 1], width, color=colors_elect[0])\n",
    "\n",
    "for bin_ in range(1, N_BINS_ELECT, 1):\n",
    "    p2 = axes[1].bar(ind[0:N_TICKS_DISPLAY - 1], ticks_elect_penetration_acc[:, bin_][0:N_TICKS_DISPLAY - 1], \\\n",
    "                     width, color=colors_income[bin_], \\\n",
    "                  bottom=ticks_elect_penetration_acc[:, bin_ - 1][0:N_TICKS_DISPLAY - 1])\n",
    "\n",
    "\n",
    "    \n",
    "axes[1].set_xlabel(\"Time\")\n",
    "axes[1].set_ylabel(\"Accumulated % installations\")\n",
    "axes[1].set_title('Accumulated % installations \\n by the level \\n of electricity consumption', fontsize=10)\n",
    "    \n",
    "\n",
    "plt.tight_layout()\n",
    "plt.savefig('Simulation_results_dist_' + data_mode + '.png', dpi=300)\n",
    "plt.show()\n"
   ]
  },
  {
   "cell_type": "code",
   "execution_count": null,
   "metadata": {
    "collapsed": true
   },
   "outputs": [],
   "source": []
  },
  {
   "cell_type": "code",
   "execution_count": null,
   "metadata": {
    "collapsed": true
   },
   "outputs": [],
   "source": []
  },
  {
   "cell_type": "code",
   "execution_count": null,
   "metadata": {
    "collapsed": true
   },
   "outputs": [],
   "source": []
  },
  {
   "cell_type": "code",
   "execution_count": null,
   "metadata": {
    "collapsed": true
   },
   "outputs": [],
   "source": []
  },
  {
   "cell_type": "code",
   "execution_count": null,
   "metadata": {
    "collapsed": true
   },
   "outputs": [],
   "source": []
  },
  {
   "cell_type": "code",
   "execution_count": null,
   "metadata": {
    "collapsed": true
   },
   "outputs": [],
   "source": []
  },
  {
   "cell_type": "code",
   "execution_count": null,
   "metadata": {
    "collapsed": true
   },
   "outputs": [],
   "source": []
  },
  {
   "cell_type": "code",
   "execution_count": null,
   "metadata": {
    "collapsed": true
   },
   "outputs": [],
   "source": []
  },
  {
   "cell_type": "code",
   "execution_count": null,
   "metadata": {
    "collapsed": true
   },
   "outputs": [],
   "source": []
  },
  {
   "cell_type": "code",
   "execution_count": null,
   "metadata": {
    "collapsed": true
   },
   "outputs": [],
   "source": []
  },
  {
   "cell_type": "markdown",
   "metadata": {
    "collapsed": true
   },
   "source": [
    "## Decision rules"
   ]
  },
  {
   "cell_type": "code",
   "execution_count": 2,
   "metadata": {
    "collapsed": true
   },
   "outputs": [],
   "source": [
    "theta = np.array([1.5, 2.0, 0.02, 0.5])"
   ]
  },
  {
   "cell_type": "code",
   "execution_count": 3,
   "metadata": {
    "collapsed": true
   },
   "outputs": [],
   "source": [
    "def p_switch(I, irr):\n",
    "    p = 1 / (1 + math.exp(- (irr * theta[3] - 1 / (theta[1]) * math.pow(1 + theta[0]/theta[1] * I / 1000, - 1 / (1 + theta[0])))/ (theta[2])))\n",
    "    if (p > 1.0):\n",
    "        p = 1.0\n",
    "    return p"
   ]
  },
  {
   "cell_type": "code",
   "execution_count": 9,
   "metadata": {
    "collapsed": false
   },
   "outputs": [
    {
     "data": {
      "image/png": "[encoded data removed]",
      "text/plain": [
       "<matplotlib.figure.Figure at 0x2a39fe90080>"
      ]
     },
     "metadata": {},
     "output_type": "display_data"
    }
   ],
   "source": [
    "fig, host = plt.subplots()\n",
    "\n",
    "\n",
    "N_BINS = 10\n",
    "\n",
    "Is = np.linspace(10000, 100000, num=N_BINS)\n",
    "irrs = np.linspace(0.0, 0.9, num=100)\n",
    "y = np.zeros((10,100))\n",
    "\n",
    "i = 0\n",
    "for I in Is:\n",
    "    j = 0\n",
    "    for irr in irrs:\n",
    "        y[i, j] = p_switch(I, irr)\n",
    "        j = j + 1\n",
    "    i = i + 1\n",
    "\n",
    "lines = []\n",
    "\n",
    "\n",
    "norm = matplotlib.colors.Normalize(vmin=0, vmax=N_BINS - 1)\n",
    "cmap_custom = cm.get_cmap('YlGn')\n",
    "incomes = norm(range(N_BINS))\n",
    "colors = []\n",
    "\n",
    "for income_ in incomes:\n",
    "    colors.append(cmap_custom(income_))\n",
    "\n",
    "for i in range(10):\n",
    "    lines.append(host.plot(irrs, y[i], color=colors[i])[0])\n",
    "\n",
    "income_to_show = Is/1000\n",
    "income_to_show_int = []\n",
    "for i in range(len(income_to_show)):\n",
    "    income_to_show_int.append(int(income_to_show[i]))\n",
    "    \n",
    "    \n",
    "lines_to_show = [lines[0], lines[-1]]\n",
    "labels = [\"{}{}{}\".format(*items) for items in zip(['Income $'] * len(Is), income_to_show_int, ['K'] * len(Is))]\n",
    "labels_to_show = [labels[0], labels[-1]]\n",
    "\n",
    "\n",
    "host.legend(lines_to_show, labels_to_show)\n",
    "\n",
    "\n",
    "host.set_xlabel(\"Internal rate of return in %\")\n",
    "host.set_ylabel(\"Probability of accepting design\")\n",
    "host.set_title('Probability distributions given \\n the rate of return \\n by the level of income', fontsize=10)\n",
    "\n",
    "plt.tight_layout()\n",
    "plt.savefig('Simulation_results_' + 'Jan26_' + 'general' + '.png', dpi=300)\n",
    "\n",
    "plt.show()\n",
    "\n"
   ]
  },
  {
   "cell_type": "code",
   "execution_count": null,
   "metadata": {
    "collapsed": true
   },
   "outputs": [],
   "source": []
  },
  {
   "cell_type": "code",
   "execution_count": 9,
   "metadata": {
    "collapsed": false
   },
   "outputs": [],
   "source": [
    "theta = np.array([1.5, 2.0, 0.02, 0.25])"
   ]
  },
  {
   "cell_type": "code",
   "execution_count": 10,
   "metadata": {
    "collapsed": true
   },
   "outputs": [],
   "source": [
    "def p_switch(I, irr):\n",
    "    p = 1 / (1 + math.exp(- (irr * theta[3] - 1 / (theta[1]) * math.pow(1 + theta[0]/theta[1] * I / 1000, - 1 / (1 + theta[0])))/ (theta[2])))\n",
    "    if (p > 1.0):\n",
    "        p = 1.0\n",
    "    return p"
   ]
  },
  {
   "cell_type": "code",
   "execution_count": 11,
   "metadata": {
    "collapsed": false
   },
   "outputs": [
    {
     "data": {
      "image/png": "[encoded data removed]",
      "text/plain": [
       "<matplotlib.figure.Figure at 0x264c6788710>"
      ]
     },
     "metadata": {},
     "output_type": "display_data"
    }
   ],
   "source": [
    "fig, host = plt.subplots()\n",
    "\n",
    "\n",
    "N_BINS = 10\n",
    "\n",
    "Is = np.linspace(10000, 100000, num=N_BINS)\n",
    "irrs = np.linspace(0.0, 0.9, num=100)\n",
    "y = np.zeros((10,100))\n",
    "\n",
    "i = 0\n",
    "for I in Is:\n",
    "    j = 0\n",
    "    for irr in irrs:\n",
    "        y[i, j] = p_switch(I, irr)\n",
    "        j = j + 1\n",
    "    i = i + 1\n",
    "\n",
    "lines = []\n",
    "\n",
    "\n",
    "norm = matplotlib.colors.Normalize(vmin=0, vmax=N_BINS - 1)\n",
    "cmap_custom = cm.get_cmap('YlGn')\n",
    "incomes = norm(range(N_BINS))\n",
    "colors = []\n",
    "\n",
    "for income_ in incomes:\n",
    "    colors.append(cmap_custom(income_))\n",
    "\n",
    "for i in range(10):\n",
    "    lines.append(host.plot(irrs, y[i], color=colors[i])[0])\n",
    "\n",
    "lines_to_show = [lines[0], lines[-1]]\n",
    "labels = [\"{}{}{}\".format(*items) for items in zip(['Income '] * len(Is), Is/1000, ['K'] * len(Is))]\n",
    "labels_to_show = [labels[0], labels[-1]]\n",
    "\n",
    "\n",
    "host.legend(lines_to_show, labels_to_show)\n",
    "\n",
    "\n",
    "host.set_xlabel(\"Internal rate of return in %\")\n",
    "host.set_ylabel(\"Probability of accepting design\")\n",
    "host.set_title('Probability distributions given \\n the rate of return \\n by the level of income', fontsize=10)\n",
    "\n",
    "plt.tight_layout()\n",
    "plt.savefig('Simulation_results_' + 'Jan26_' + 'general_tests_' + '.png', dpi=300)\n",
    "\n",
    "plt.show()\n",
    "\n"
   ]
  },
  {
   "cell_type": "code",
   "execution_count": null,
   "metadata": {
    "collapsed": true
   },
   "outputs": [],
   "source": []
  },
  {
   "cell_type": "code",
   "execution_count": null,
   "metadata": {
    "collapsed": true
   },
   "outputs": [],
   "source": []
  },
  {
   "cell_type": "code",
   "execution_count": null,
   "metadata": {
    "collapsed": true
   },
   "outputs": [],
   "source": []
  },
  {
   "cell_type": "markdown",
   "metadata": {},
   "source": [
    "## How to draw graphs below\n",
    "[1](http://matplotlib.org/1.4.1/examples/ticks_and_spines/spines_demo_bounds.html)\n",
    "[2](http://matplotlib.org/1.4.1/examples/pylab_examples/multiple_yaxis_with_spines.html)\n",
    "[3](http://matplotlib.org/api/markers_api.html#module-matplotlib.markers)\n",
    "[4](http://matplotlib.org/api/axes_api.html#matplotlib.axes.Axes.plot)"
   ]
  },
  {
   "cell_type": "markdown",
   "metadata": {},
   "source": [
    "## Dynamics of installations"
   ]
  },
  {
   "cell_type": "code",
   "execution_count": 48,
   "metadata": {
    "collapsed": true
   },
   "outputs": [],
   "source": [
    "N_TICKS_DISPLAY = 15"
   ]
  },
  {
   "cell_type": "code",
   "execution_count": 49,
   "metadata": {
    "collapsed": false
   },
   "outputs": [
    {
     "data": {
      "image/png": "[encoded data removed]",
      "text/plain": [
       "<matplotlib.figure.Figure at 0x25e0268bf28>"
      ]
     },
     "metadata": {},
     "output_type": "display_data"
    }
   ],
   "source": [
    "\n",
    "\n",
    "fig, host = plt.subplots()\n",
    "fig.subplots_adjust(right=0.85)\n",
    "\n",
    "par1 = host.twinx()\n",
    "\n",
    "\n",
    "p1, = host.plot(df.index.values[0:N_TICKS_DISPLAY], df['N_installed'][0:N_TICKS_DISPLAY]/1000*100, \"g-\", label=\"% installations\")\n",
    "p2, = par1.plot(df.index.values[0:N_TICKS_DISPLAY], df['sei_0'][0:N_TICKS_DISPLAY], \"ro\", label=\"Efficiency\")\n",
    "par1.plot(df.index.values[0:N_TICKS_DISPLAY], df['sei_1'][0:N_TICKS_DISPLAY], \"r.\")\n",
    "par1.plot(df.index.values[0:N_TICKS_DISPLAY], df['sei_2'][0:N_TICKS_DISPLAY], \"r*\")\n",
    "\n",
    "par1.fill_between(df.index.values[0:N_TICKS_DISPLAY], \n",
    "                  df['sei_0'][0:N_TICKS_DISPLAY]-2*df_std['sei_0'][0:N_TICKS_DISPLAY], \n",
    "                  df['sei_0'][0:N_TICKS_DISPLAY]+2*df_std['sei_0'][0:N_TICKS_DISPLAY], \n",
    "                  color='r', \n",
    "                  alpha=0.2)\n",
    "\n",
    "par1.fill_between(df.index.values[0:N_TICKS_DISPLAY], \n",
    "                  df['sei_1'][0:N_TICKS_DISPLAY]-2*df_std['sei_1'][0:N_TICKS_DISPLAY], \n",
    "                  df['sei_1'][0:N_TICKS_DISPLAY]+2*df_std['sei_1'][0:N_TICKS_DISPLAY], \n",
    "                  color='r', \n",
    "                  alpha=0.2)\n",
    "\n",
    "par1.fill_between(df.index.values[0:N_TICKS_DISPLAY], \n",
    "                  df['sei_2'][0:N_TICKS_DISPLAY]-2*df_std['sei_2'][0:N_TICKS_DISPLAY], \n",
    "                  df['sei_2'][0:N_TICKS_DISPLAY]+2*df_std['sei_2'][0:N_TICKS_DISPLAY], \n",
    "                  color='r', \n",
    "                  alpha=0.2)\n",
    "\n",
    "\n",
    "host.set_xlabel(\"Time\")\n",
    "host.set_ylabel(\"hit % installations\")\n",
    "par1.set_ylabel(\"Efficiency\")\n",
    "\n",
    "\n",
    "host.yaxis.label.set_color(p1.get_color())\n",
    "par1.yaxis.label.set_color(p2.get_color())\n",
    "\n",
    "\n",
    "tkw = dict(size=4, width=1.5)\n",
    "host.tick_params(axis='y', colors=p1.get_color(), **tkw)\n",
    "par1.tick_params(axis='y', colors=p2.get_color(), **tkw)\n",
    "host.tick_params(axis='x', **tkw)\n",
    "\n",
    "lines = [p1, p2]\n",
    "\n",
    "#host.legend(lines, [l.get_label() for l in lines])\n",
    "plt.savefig('Simulation_results1_' + data_mode + '.png', dpi=300)\n",
    "plt.show()\n",
    "\n"
   ]
  },
  {
   "cell_type": "code",
   "execution_count": 50,
   "metadata": {
    "collapsed": false
   },
   "outputs": [
    {
     "data": {
      "image/png": "[encoded data removed]",
      "text/plain": [
       "<matplotlib.figure.Figure at 0x25e02618780>"
      ]
     },
     "metadata": {},
     "output_type": "display_data"
    }
   ],
   "source": [
    "fig, host = plt.subplots()\n",
    "fig.subplots_adjust(right=0.85)\n",
    "\n",
    "par1 = host.twinx()\n",
    "\n",
    "\n",
    "p1, = host.plot(df.index.values[0:N_TICKS_DISPLAY], df['N_installed'][0:N_TICKS_DISPLAY]/1000*100, \"g-\", label=\"% installations\")\n",
    "p2, = par1.plot(df.index.values[0:N_TICKS_DISPLAY], df['P_av'][0:N_TICKS_DISPLAY], \"--bo\", label=\"Price\")\n",
    "\n",
    "#add +- 2 std\n",
    "host.fill_between(df.index.values[0:N_TICKS_DISPLAY], \n",
    "                  df['N_installed'][0:N_TICKS_DISPLAY]/1000*100-2*df_std['N_installed'][0:N_TICKS_DISPLAY]/1000*100, \n",
    "                  df['N_installed'][0:N_TICKS_DISPLAY]/1000*100+2*df_std['N_installed'][0:N_TICKS_DISPLAY]/1000*100, \n",
    "                  color='g', \n",
    "                  alpha=0.2)\n",
    "\n",
    "par1.fill_between(df.index.values[0:N_TICKS_DISPLAY], \n",
    "                 df['P_av'][0:N_TICKS_DISPLAY]-2*df_std['P_av'][0:N_TICKS_DISPLAY],\n",
    "                 df['P_av'][0:N_TICKS_DISPLAY]+2*df_std['P_av'][0:N_TICKS_DISPLAY],\n",
    "                  color='b', \n",
    "                  alpha=0.2)\n",
    "\n",
    "host.set_xlabel(\"Time\")\n",
    "host.set_ylabel(\"Hit % installations\")\n",
    "par1.set_ylabel(\"Price per watt\")\n",
    "\n",
    "\n",
    "host.yaxis.label.set_color(p1.get_color())\n",
    "par1.yaxis.label.set_color(p2.get_color())\n",
    "\n",
    "\n",
    "tkw = dict(size=4, width=1.5)\n",
    "host.tick_params(axis='y', colors=p1.get_color(), **tkw)\n",
    "par1.tick_params(axis='y', colors=p2.get_color(), **tkw)\n",
    "host.tick_params(axis='x', **tkw)\n",
    "\n",
    "lines = [p1, p2]\n",
    "\n",
    "#host.legend(lines, [l.get_label() for l in lines])\n",
    "plt.savefig('Simulation_results2_' + data_mode + '.png', dpi=300)\n",
    "plt.show()"
   ]
  },
  {
   "cell_type": "markdown",
   "metadata": {},
   "source": [
    "## Number of installations per income level"
   ]
  },
  {
   "cell_type": "code",
   "execution_count": null,
   "metadata": {
    "collapsed": true
   },
   "outputs": [],
   "source": []
  },
  {
   "cell_type": "markdown",
   "metadata": {},
   "source": [
    "# Run number of simulations with different seeds"
   ]
  },
  {
   "cell_type": "code",
   "execution_count": null,
   "metadata": {
    "collapsed": true
   },
   "outputs": [],
   "source": [
    "#change back to starting directory so that all relative code works"
   ]
  },
  {
   "cell_type": "code",
   "execution_count": null,
   "metadata": {
    "collapsed": false
   },
   "outputs": [],
   "source": [
    "%cd /Users/wilfeli/Dropbox/ABM/SolarPanels/solar-model/Model"
   ]
  },
  {
   "cell_type": "code",
   "execution_count": 16,
   "metadata": {
    "collapsed": false
   },
   "outputs": [
    {
     "name": "stdout",
     "output_type": "stream",
     "text": [
      "/Users/wilfeli/Library/Developer/Xcode/DerivedData/ABMSolar-gkzppcalpbhpwocspomkmqhbbhyr/Build/Products/Debug\n",
      "time: Thu 2017-01-12 07:57:38  INFO: started running\n",
      "time: Thu 2017-01-12 07:57:45  INFO: stopped running\n",
      "/Users/wilfeli/Dropbox/ABM/SolarPanels/solar-model/Model\n",
      "/Users/wilfeli/Library/Developer/Xcode/DerivedData/ABMSolar-gkzppcalpbhpwocspomkmqhbbhyr/Build/Products/Debug\n",
      "time: Thu 2017-01-12 07:58:09  INFO: started running\n",
      "time: Thu 2017-01-12 07:58:16  INFO: stopped running\n",
      "/Users/wilfeli/Dropbox/ABM/SolarPanels/solar-model/Model\n",
      "/Users/wilfeli/Library/Developer/Xcode/DerivedData/ABMSolar-gkzppcalpbhpwocspomkmqhbbhyr/Build/Products/Debug\n",
      "time: Thu 2017-01-12 07:58:38  INFO: started running\n",
      "time: Thu 2017-01-12 07:58:43  INFO: stopped running\n",
      "/Users/wilfeli/Dropbox/ABM/SolarPanels/solar-model/Model\n",
      "/Users/wilfeli/Library/Developer/Xcode/DerivedData/ABMSolar-gkzppcalpbhpwocspomkmqhbbhyr/Build/Products/Debug\n",
      "time: Thu 2017-01-12 07:59:04  INFO: started running\n",
      "time: Thu 2017-01-12 07:59:12  INFO: stopped running\n",
      "/Users/wilfeli/Dropbox/ABM/SolarPanels/solar-model/Model\n"
     ]
    }
   ],
   "source": [
    "#read setup file and change seed\n",
    "data_mode = 'CA'\n",
    "file = '../../ABMIRISLab/Source/Examples/EEModel/w.json'\n",
    "file = '/Users/wilfeli/Dropbox/ABM/SolarPanels/ABMIRISLab/Examples/EEModel/' + data_mode + '/w.json'\n",
    "\n",
    "\n",
    "mode=\"NEW\"\n",
    "model_file=\"/Users/wilfeli/Dropbox/ABM/SolarPanels/ABMIRISLab/Examples/EEModel/\" + data_mode + \"/eemodel.model\"\n",
    "    \n",
    "with open(file) as infile:\n",
    "    w_setup = json.load(infile)\n",
    "    \n",
    "for seed in (2016, 2015, 2014, 2012):\n",
    "    w_setup['SEED'] = seed\n",
    "    with open(file, 'w') as outfile:\n",
    "        json.dump(w_setup, outfile)\n",
    "        \n",
    "    #run simulation \n",
    "    %cd /Users/wilfeli/Library/Developer/Xcode/DerivedData/ABMSolar-gkzppcalpbhpwocspomkmqhbbhyr/Build/Products/Debug\n",
    "    !./SolarEE $mode $model_file\n",
    "    %cd /Users/wilfeli/Dropbox/ABM/SolarPanels/solar-model/Model"
   ]
  },
  {
   "cell_type": "code",
   "execution_count": null,
   "metadata": {
    "collapsed": false
   },
   "outputs": [],
   "source": [
    "%lsmagic"
   ]
  },
  {
   "cell_type": "code",
   "execution_count": 3,
   "metadata": {
    "collapsed": false
   },
   "outputs": [
    {
     "ename": "FileNotFoundError",
     "evalue": "[Errno 2] No such file or directory: 'wilfeli/Dropbox/ABM/SolarPanels/ABMIRISLab/Examples/EEModel/MT/w.json'",
     "output_type": "error",
     "traceback": [
      "\u001b[0;31m---------------------------------------------------------------------------\u001b[0m",
      "\u001b[0;31mFileNotFoundError\u001b[0m                         Traceback (most recent call last)",
      "\u001b[0;32m<ipython-input-3-bac95efde72a>\u001b[0m in \u001b[0;36m<module>\u001b[0;34m()\u001b[0m\n\u001b[1;32m      8\u001b[0m \u001b[0mmodel_file\u001b[0m\u001b[1;33m=\u001b[0m\u001b[1;34m\"/wilfeli/Dropbox/ABM/SolarPanels/ABMIRISLab/Examples/EEModel/\"\u001b[0m \u001b[1;33m+\u001b[0m \u001b[0mdata_mode\u001b[0m \u001b[1;33m+\u001b[0m \u001b[1;34m\"/eemodel.model\"\u001b[0m\u001b[1;33m\u001b[0m\u001b[0m\n\u001b[1;32m      9\u001b[0m \u001b[1;33m\u001b[0m\u001b[0m\n\u001b[0;32m---> 10\u001b[0;31m \u001b[1;32mwith\u001b[0m \u001b[0mopen\u001b[0m\u001b[1;33m(\u001b[0m\u001b[0mfile\u001b[0m\u001b[1;33m)\u001b[0m \u001b[1;32mas\u001b[0m \u001b[0minfile\u001b[0m\u001b[1;33m:\u001b[0m\u001b[1;33m\u001b[0m\u001b[0m\n\u001b[0m\u001b[1;32m     11\u001b[0m     \u001b[0mw_setup\u001b[0m \u001b[1;33m=\u001b[0m \u001b[0mjson\u001b[0m\u001b[1;33m.\u001b[0m\u001b[0mload\u001b[0m\u001b[1;33m(\u001b[0m\u001b[0minfile\u001b[0m\u001b[1;33m)\u001b[0m\u001b[1;33m\u001b[0m\u001b[0m\n\u001b[1;32m     12\u001b[0m \u001b[1;33m\u001b[0m\u001b[0m\n",
      "\u001b[0;31mFileNotFoundError\u001b[0m: [Errno 2] No such file or directory: 'wilfeli/Dropbox/ABM/SolarPanels/ABMIRISLab/Examples/EEModel/MT/w.json'"
     ]
    }
   ],
   "source": [
    "#read setup file and change seed\n",
    "data_mode = 'MT'\n",
    "file = '../../ABMIRISLab/Source/Examples/EEModel/w.json'\n",
    "file = '/Users/wilfeli/Dropbox/ABM/SolarPanels/ABMIRISLab/Examples/EEModel/' + data_mode + '/w.json'\n",
    "\n",
    "\n",
    "mode=\"NEW\"\n",
    "model_file=\"/Users/wilfeli/Dropbox/ABM/SolarPanels/ABMIRISLab/Examples/EEModel/\" + data_mode + \"/eemodel.model\"\n",
    "    \n",
    "with open(file) as infile:\n",
    "    w_setup = json.load(infile)\n",
    "    \n",
    "for seed in (2016, 2015, 2014, 2012):\n",
    "    w_setup['SEED'] = seed\n",
    "    with open(file, 'w') as outfile:\n",
    "        json.dump(w_setup, outfile)\n",
    "        \n",
    "    #run simulation \n",
    "    %cd /Users/wilfeli/Library/Developer/Xcode/DerivedData/ABMSolar-gkzppcalpbhpwocspomkmqhbbhyr/Build/Products/Debug\n",
    "    !./SolarEE $mode $model_file\n",
    "    %cd /Users/wilfeli/Dropbox/ABM/SolarPanels/solar-model/Model"
   ]
  },
  {
   "cell_type": "code",
   "execution_count": 48,
   "metadata": {
    "collapsed": false
   },
   "outputs": [
    {
     "name": "stdout",
     "output_type": "stream",
     "text": [
      "C:\\Users\\wilfeli\\Dropbox\\ABM\\SolarPanels\\ABMIRISLab\\x64\\Debug\n",
      "C:\\Users\\wilfeli\\Dropbox\\ABM\\SolarPanels\\solar-model\\Model\n",
      "C:\\Users\\wilfeli\\Dropbox\\ABM\\SolarPanels\\ABMIRISLab\\x64\\Debug\n"
     ]
    },
    {
     "name": "stderr",
     "output_type": "stream",
     "text": [
      "'.' is not recognized as an internal or external command,\n",
      "operable program or batch file.\n"
     ]
    },
    {
     "name": "stdout",
     "output_type": "stream",
     "text": [
      "C:\\Users\\wilfeli\\Dropbox\\ABM\\SolarPanels\\solar-model\\Model\n",
      "C:\\Users\\wilfeli\\Dropbox\\ABM\\SolarPanels\\ABMIRISLab\\x64\\Debug\n"
     ]
    },
    {
     "name": "stderr",
     "output_type": "stream",
     "text": [
      "'.' is not recognized as an internal or external command,\n",
      "operable program or batch file.\n"
     ]
    },
    {
     "name": "stdout",
     "output_type": "stream",
     "text": [
      "C:\\Users\\wilfeli\\Dropbox\\ABM\\SolarPanels\\solar-model\\Model\n",
      "C:\\Users\\wilfeli\\Dropbox\\ABM\\SolarPanels\\ABMIRISLab\\x64\\Debug\n"
     ]
    },
    {
     "name": "stderr",
     "output_type": "stream",
     "text": [
      "'.' is not recognized as an internal or external command,\n",
      "operable program or batch file.\n"
     ]
    },
    {
     "name": "stdout",
     "output_type": "stream",
     "text": [
      "C:\\Users\\wilfeli\\Dropbox\\ABM\\SolarPanels\\solar-model\\Model\n"
     ]
    },
    {
     "name": "stderr",
     "output_type": "stream",
     "text": [
      "'.' is not recognized as an internal or external command,\n",
      "operable program or batch file.\n"
     ]
    }
   ],
   "source": [
    "#read setup file and change seed\n",
    "data_mode = 'MT'\n",
    "#file = '../../ABMIRISLab/Source/Examples/EEModel/w.json'\n",
    "file = 'C:/Users/wilfeli/Dropbox/ABM/SolarPanels/ABMIRISLab/Examples/EEModel/' + data_mode + '/w.json'\n",
    "\n",
    "\n",
    "mode=\"NEW\"\n",
    "model_file=\"C:/Users/wilfeli/Dropbox/ABM/SolarPanels/ABMIRISLab/Examples/EEModel/\" + data_mode + \"/eemodel.model\"\n",
    "    \n",
    "with open(file) as infile:\n",
    "    w_setup = json.load(infile)\n",
    "    \n",
    "for seed in (2016, 2015, 2014, 2012):\n",
    "    w_setup['SEED'] = seed\n",
    "    with open(file, 'w') as outfile:\n",
    "        json.dump(w_setup, outfile)\n",
    "        \n",
    "        \n",
    "        \n",
    "    #run simulation \n",
    "    %cd C:/Users/wilfeli/Dropbox/ABM/SolarPanels/ABMIRISLab/x64/Debug\n",
    "    !./EEModel.exe $mode $model_file\n",
    "    %cd C:/Users/wilfeli/Dropbox/ABM/SolarPanels/solar-model/Model"
   ]
  },
  {
   "cell_type": "code",
   "execution_count": null,
   "metadata": {
    "collapsed": true
   },
   "outputs": [],
   "source": []
  },
  {
   "cell_type": "code",
   "execution_count": null,
   "metadata": {
    "collapsed": true
   },
   "outputs": [],
   "source": [
    "C:/Users/wilfeli/Dropbox/ABM/SolarPanels/ABMIRISLab/x64/Debug/EEModel.exe"
   ]
  },
  {
   "cell_type": "code",
   "execution_count": 49,
   "metadata": {
    "collapsed": true
   },
   "outputs": [],
   "source": [
    "import subprocess\n",
    "\n"
   ]
  },
  {
   "cell_type": "code",
   "execution_count": null,
   "metadata": {
    "collapsed": true
   },
   "outputs": [],
   "source": [
    "subprocess.call(['C:\\\\Users\\\\wilfeli\\\\Dropbox\\\\ABM\\\\SolarPanels\\\\ABMIRISLab\\\\x64\\\\Debug\\\\EEModel.exe', mode, model_file])"
   ]
  },
  {
   "cell_type": "code",
   "execution_count": null,
   "metadata": {
    "collapsed": true
   },
   "outputs": [],
   "source": []
  },
  {
   "cell_type": "code",
   "execution_count": null,
   "metadata": {
    "collapsed": true
   },
   "outputs": [],
   "source": []
  }
 ],
 "metadata": {
  "anaconda-cloud": {},
  "kernelspec": {
   "display_name": "Python [default]",
   "language": "python",
   "name": "python3"
  },
  "language_info": {
   "codemirror_mode": {
    "name": "ipython",
    "version": 3
   },
   "file_extension": ".py",
   "mimetype": "text/x-python",
   "name": "python",
   "nbconvert_exporter": "python",
   "pygments_lexer": "ipython3",
   "version": "3.5.2"
  }
 },
 "nbformat": 4,
 "nbformat_minor": 0
}
