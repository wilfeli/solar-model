{
 "cells": [
  {
   "cell_type": "code",
   "execution_count": 1,
   "metadata": {
    "collapsed": true
   },
   "outputs": [],
   "source": [
    "import re\n",
    "import pandas as pd\n",
    "import numpy as np\n",
    "import json\n",
    "import subprocess\n",
    "import glob\n",
    "import os\n",
    "\n",
    "%matplotlib inline\n",
    "import matplotlib.pyplot as plt\n",
    "import matplotlib\n",
    "import matplotlib.colors as colors\n",
    "from matplotlib import cm\n",
    "matplotlib.style.use('ggplot')\n",
    "import matplotlib.patches as mpatches\n",
    "from matplotlib.legend_handler import HandlerPatch"
   ]
  },
  {
   "cell_type": "code",
   "execution_count": 2,
   "metadata": {
    "collapsed": true
   },
   "outputs": [],
   "source": [
    "Mode = 'OneTest'"
   ]
  },
  {
   "cell_type": "code",
   "execution_count": null,
   "metadata": {
    "collapsed": true
   },
   "outputs": [],
   "source": [
    "Mode = 'Runs'"
   ]
  },
  {
   "cell_type": "code",
   "execution_count": 4,
   "metadata": {
    "collapsed": false
   },
   "outputs": [],
   "source": [
    "if Mode=='OneTest':\n",
    "    eff_beg = 1.0\n",
    "    eff_end = 1.0\n",
    "    cost_beg = 1.0\n",
    "    cost_end = 1.0\n",
    "elif Mode == 'Runs':\n",
    "    eff_beg = 1.0\n",
    "    eff_end = 1.2\n",
    "    cost_beg = 0.8\n",
    "    cost_end = 1.2\n",
    "    "
   ]
  },
  {
   "cell_type": "code",
   "execution_count": 5,
   "metadata": {
    "collapsed": true
   },
   "outputs": [],
   "source": [
    "N_SEEDS = 10\n",
    "N_SEI = 20\n",
    "N_TESTS = 1\n",
    "N_TICKS = 260\n",
    "N_TICKS_DISPLAY = 260 - 52\n",
    "N_TICKS_BURN = N_TICKS - N_TICKS_DISPLAY"
   ]
  },
  {
   "cell_type": "code",
   "execution_count": 6,
   "metadata": {
    "collapsed": true
   },
   "outputs": [],
   "source": [
    "#read data into dataframe \n",
    "#append columns with eff and costs\n",
    "\n",
    "def collect_data_for_simulation_runs_from_inst_eff(N_TESTS, dfs_inst, dfs_inst_std):\n",
    "\n",
    "    test_mode = 'BaseVer02'\n",
    "    data_mode = 'CA'\n",
    "    #here think how to change it\n",
    "    params_versions = [['eff' + str(x) + 'cost' + str(y) for y in np.linspace(cost_beg,cost_end,N_TESTS,endpoint=True)]\\\n",
    "                        for x in np.linspace(eff_beg,eff_end,N_TESTS,endpoint=True)]\n",
    "    effs = [x for x in np.linspace(eff_beg,eff_end,N_TESTS,endpoint=True)]\n",
    "    costs = [x for x in np.linspace(cost_beg,cost_end,N_TESTS,endpoint=True)]\n",
    "\n",
    "    #names of columns in a file\n",
    "    names = ['Tick', 'Location_x', 'Location_y', 'Uid', 'Price_per_watt', 'DC_size', 'Origin', 'Mart_type']\n",
    "\n",
    "\n",
    "    for i_run in range(N_TESTS): \n",
    "        for j_run in range(N_TESTS):\n",
    "            #read few files\n",
    "            #save into database\n",
    "            dfs_ = []\n",
    "            #read last simulation result\n",
    "            files = glob.glob('..\\\\..\\\\ABMIRISLab\\\\Saves\\\\May-14-2018\\\\BaseModel\\\\'+ test_mode + '\\\\' + data_mode + \\\n",
    "                     '\\\\' + params_versions[i_run][j_run] + '\\\\*[_pr].csv')\n",
    "            \n",
    "            files.sort(key=os.path.getmtime, reverse=True)\n",
    "\n",
    "            #take top x files \n",
    "            for file in files[0 * N_SEEDS : 1 * N_SEEDS]:\n",
    "                print(file)\n",
    "                df_ = pd.read_csv(file, names=names, low_memory=False, na_values = ['-nan(ind)'])\n",
    "                df_['eff'] = effs[i_run]\n",
    "                df_['cost'] = costs[j_run]\n",
    "                dfs_.append(df_)\n",
    "\n",
    "\n",
    "            #create df from them    \n",
    "            df_concat = pd.concat(dfs_)\n",
    "\n",
    "\n",
    "            df_inst_mean = df_concat.groupby(level=0).mean()\n",
    "            df_inst_std = df_concat.groupby(level=0).std()\n",
    "\n",
    "            dfs_inst.append(dfs_)\n"
   ]
  },
  {
   "cell_type": "code",
   "execution_count": 15,
   "metadata": {
    "collapsed": false
   },
   "outputs": [
    {
     "name": "stdout",
     "output_type": "stream",
     "text": [
      "..\\..\\ABMIRISLab\\Saves\\May-14-2018\\BaseModel\\BaseVer02\\CA\\eff1.0cost1.0\\b1d4a07b-a0e7-4505-b1c5-4753d1aff09b_pr.csv\n",
      "..\\..\\ABMIRISLab\\Saves\\May-14-2018\\BaseModel\\BaseVer02\\CA\\eff1.0cost1.0\\0b35689d-6d37-4f75-83ea-009fc0584c8a_pr.csv\n",
      "..\\..\\ABMIRISLab\\Saves\\May-14-2018\\BaseModel\\BaseVer02\\CA\\eff1.0cost1.0\\06b27367-d1bb-4a40-b03f-d77071ba5bdc_pr.csv\n",
      "..\\..\\ABMIRISLab\\Saves\\May-14-2018\\BaseModel\\BaseVer02\\CA\\eff1.0cost1.0\\9772ed80-2a48-4926-a80c-e21bf8ad81af_pr.csv\n",
      "..\\..\\ABMIRISLab\\Saves\\May-14-2018\\BaseModel\\BaseVer02\\CA\\eff1.0cost1.0\\e4624440-2854-45c5-b775-30ff5a4a003b_pr.csv\n",
      "..\\..\\ABMIRISLab\\Saves\\May-14-2018\\BaseModel\\BaseVer02\\CA\\eff1.0cost1.0\\ddf52011-129b-449d-a29f-ccd929a56cb2_pr.csv\n",
      "..\\..\\ABMIRISLab\\Saves\\May-14-2018\\BaseModel\\BaseVer02\\CA\\eff1.0cost1.0\\6486ce8f-8439-449f-8246-af09ff779cbd_pr.csv\n",
      "..\\..\\ABMIRISLab\\Saves\\May-14-2018\\BaseModel\\BaseVer02\\CA\\eff1.0cost1.0\\ecf08955-1971-4708-9eae-001037bd182f_pr.csv\n",
      "..\\..\\ABMIRISLab\\Saves\\May-14-2018\\BaseModel\\BaseVer02\\CA\\eff1.0cost1.0\\40e13600-0e20-40cb-ab06-4f990d4b4d35_pr.csv\n",
      "..\\..\\ABMIRISLab\\Saves\\May-14-2018\\BaseModel\\BaseVer02\\CA\\eff1.0cost1.0\\117efaf6-4aa9-4446-a899-0dc0c7958723_pr.csv\n"
     ]
    }
   ],
   "source": [
    "dfs_inst_eff = []\n",
    "dfs_inst_eff_std = []\n",
    "collect_data_for_simulation_runs_from_inst_eff(1, dfs_inst_eff, dfs_inst_eff_std)"
   ]
  },
  {
   "cell_type": "code",
   "execution_count": 16,
   "metadata": {
    "collapsed": true
   },
   "outputs": [],
   "source": [
    "test = [[np.min(y[0]['eff']), np.min(y[0]['cost']), np.mean([len(y[i]) for i in range(len(y))])] for y in dfs_inst_eff]"
   ]
  },
  {
   "cell_type": "code",
   "execution_count": 17,
   "metadata": {
    "collapsed": true
   },
   "outputs": [],
   "source": [
    "data_heatmap = pd.DataFrame(test)"
   ]
  },
  {
   "cell_type": "code",
   "execution_count": 18,
   "metadata": {
    "collapsed": true
   },
   "outputs": [],
   "source": [
    "data_heatmap.columns= ['eff', 'cost', 'inst']"
   ]
  },
  {
   "cell_type": "code",
   "execution_count": 19,
   "metadata": {
    "collapsed": true
   },
   "outputs": [],
   "source": [
    "data_heatmap['inst_share'] = data_heatmap['inst']/10000"
   ]
  },
  {
   "cell_type": "code",
   "execution_count": 20,
   "metadata": {
    "collapsed": false
   },
   "outputs": [
    {
     "name": "stdout",
     "output_type": "stream",
     "text": [
      "   eff  cost    inst  inst_share\n",
      "0  1.0   1.0  2127.2     0.21272\n"
     ]
    }
   ],
   "source": [
    "print(data_heatmap)"
   ]
  },
  {
   "cell_type": "code",
   "execution_count": null,
   "metadata": {
    "collapsed": true
   },
   "outputs": [],
   "source": [
    "   eff  cost    inst  inst_share\n",
    "0  1.0   1.0  1851.7     0.18517"
   ]
  },
  {
   "cell_type": "code",
   "execution_count": null,
   "metadata": {
    "collapsed": true
   },
   "outputs": [],
   "source": []
  },
  {
   "cell_type": "code",
   "execution_count": null,
   "metadata": {
    "collapsed": true
   },
   "outputs": [],
   "source": []
  }
 ],
 "metadata": {
  "kernelspec": {
   "display_name": "Python [conda env:aimacro]",
   "language": "python",
   "name": "conda-env-aimacro-py"
  },
  "language_info": {
   "codemirror_mode": {
    "name": "ipython",
    "version": 3
   },
   "file_extension": ".py",
   "mimetype": "text/x-python",
   "name": "python",
   "nbconvert_exporter": "python",
   "pygments_lexer": "ipython3",
   "version": "3.5.2"
  }
 },
 "nbformat": 4,
 "nbformat_minor": 1
}
