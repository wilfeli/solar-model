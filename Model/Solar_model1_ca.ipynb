{
 "cells": [
  {
   "cell_type": "markdown",
   "metadata": {},
   "source": [
    "# Regression model for manufacturer prices"
   ]
  },
  {
   "cell_type": "code",
   "execution_count": 1,
   "metadata": {
    "collapsed": true
   },
   "outputs": [],
   "source": [
    "import json\n",
    "from pprint import pprint\n",
    "import pandas as pd\n",
    "import numpy as np\n",
    "%matplotlib inline\n",
    "import matplotlib.pyplot as plt\n",
    "from matplotlib import cm\n",
    "import matplotlib.patches as mpatches\n",
    "import matplotlib\n",
    "matplotlib.style.use('ggplot')\n",
    "#ols models\n",
    "import statsmodels.formula.api as sm\n",
    "from patsy import dmatrices\n",
    "import re\n",
    "import scipy as sp\n",
    "from tools import print_columns"
   ]
  },
  {
   "cell_type": "code",
   "execution_count": 69,
   "metadata": {
    "collapsed": false
   },
   "outputs": [],
   "source": [
    "with open('../Source/Examples/UnitTestModel/solar_equipment.json') as data_file:    \n",
    "    solar_equipment = json.load(data_file)\n",
    "\n",
    "#pprint(solar_equipment)"
   ]
  },
  {
   "cell_type": "code",
   "execution_count": 70,
   "metadata": {
    "collapsed": true
   },
   "outputs": [],
   "source": [
    "N = len(solar_equipment['solar_modules'])\n",
    "\n",
    "#create numpy array with prices and efficiencies\n",
    "data = np.ndarray(shape=(N,3), dtype=float)\n",
    "\n",
    "#create numpy array with names \n",
    "index = []"
   ]
  },
  {
   "cell_type": "code",
   "execution_count": 71,
   "metadata": {
    "collapsed": false
   },
   "outputs": [],
   "source": [
    "#read file with efficiencies and prices, form vector of [efficiency, price]\n",
    "i = 0\n",
    "for module in solar_equipment['solar_modules']:\n",
    "    for module_name in module:\n",
    "        area = float(module[module_name]['Length']) * \\\n",
    "                float(module[module_name]['Width'])/1000000\n",
    "        efficiency = float(module[module_name]['STC Power Rating'])/area/1000\n",
    "        data[i,0] = efficiency\n",
    "        data[i,1] = float(module[module_name]['Price (from reseller)']) / 1.65\n",
    "        data[i,2] = float(module[module_name]['STC Power Rating'])\n",
    "        index.append(module_name)\n",
    "        i = i + 1"
   ]
  },
  {
   "cell_type": "code",
   "execution_count": 72,
   "metadata": {
    "collapsed": true
   },
   "outputs": [],
   "source": [
    "df = pd.DataFrame(data=data, index=index, columns = ['Efficiency', 'Price', 'DC'])"
   ]
  },
  {
   "cell_type": "code",
   "execution_count": 80,
   "metadata": {
    "collapsed": false
   },
   "outputs": [
    {
     "data": {
      "text/html": [
       "<div>\n",
       "<table border=\"1\" class=\"dataframe\">\n",
       "  <thead>\n",
       "    <tr style=\"text-align: right;\">\n",
       "      <th></th>\n",
       "      <th>Efficiency</th>\n",
       "      <th>Price</th>\n",
       "      <th>DC</th>\n",
       "      <th>Efficiency_ratio</th>\n",
       "      <th>Price_per_watt</th>\n",
       "    </tr>\n",
       "  </thead>\n",
       "  <tbody>\n",
       "    <tr>\n",
       "      <th>(REC260PE,)</th>\n",
       "      <td>0.157574</td>\n",
       "      <td>175.757576</td>\n",
       "      <td>260</td>\n",
       "      <td>1.050496</td>\n",
       "      <td>0.675991</td>\n",
       "    </tr>\n",
       "    <tr>\n",
       "      <th>(KU260-6XPA,)</th>\n",
       "      <td>0.163908</td>\n",
       "      <td>181.818182</td>\n",
       "      <td>260</td>\n",
       "      <td>1.092722</td>\n",
       "      <td>0.699301</td>\n",
       "    </tr>\n",
       "    <tr>\n",
       "      <th>(KU265-6ZPA,)</th>\n",
       "      <td>0.167060</td>\n",
       "      <td>160.606061</td>\n",
       "      <td>265</td>\n",
       "      <td>1.113736</td>\n",
       "      <td>0.606061</td>\n",
       "    </tr>\n",
       "    <tr>\n",
       "      <th>(SPR-230NE-BLK-D,)</th>\n",
       "      <td>0.208376</td>\n",
       "      <td>272.727273</td>\n",
       "      <td>230</td>\n",
       "      <td>1.389176</td>\n",
       "      <td>1.185771</td>\n",
       "    </tr>\n",
       "    <tr>\n",
       "      <th>(SW 280 Mono Black,)</th>\n",
       "      <td>0.166997</td>\n",
       "      <td>212.121212</td>\n",
       "      <td>280</td>\n",
       "      <td>1.113315</td>\n",
       "      <td>0.757576</td>\n",
       "    </tr>\n",
       "    <tr>\n",
       "      <th>(SPR-X20-250-BLK,)</th>\n",
       "      <td>0.200951</td>\n",
       "      <td>303.030303</td>\n",
       "      <td>250</td>\n",
       "      <td>1.339676</td>\n",
       "      <td>1.212121</td>\n",
       "    </tr>\n",
       "    <tr>\n",
       "      <th>(Q.PRO BFR - G3 260,)</th>\n",
       "      <td>0.155689</td>\n",
       "      <td>145.454545</td>\n",
       "      <td>260</td>\n",
       "      <td>1.037924</td>\n",
       "      <td>0.559441</td>\n",
       "    </tr>\n",
       "    <tr>\n",
       "      <th>(SPR-X21-345,)</th>\n",
       "      <td>0.211564</td>\n",
       "      <td>418.181818</td>\n",
       "      <td>345</td>\n",
       "      <td>1.410425</td>\n",
       "      <td>1.212121</td>\n",
       "    </tr>\n",
       "    <tr>\n",
       "      <th>(REC275TP,)</th>\n",
       "      <td>0.166665</td>\n",
       "      <td>151.515152</td>\n",
       "      <td>275</td>\n",
       "      <td>1.111101</td>\n",
       "      <td>0.550964</td>\n",
       "    </tr>\n",
       "    <tr>\n",
       "      <th>(SW 275 Mono Black,)</th>\n",
       "      <td>0.164015</td>\n",
       "      <td>200.000000</td>\n",
       "      <td>275</td>\n",
       "      <td>1.093434</td>\n",
       "      <td>0.727273</td>\n",
       "    </tr>\n",
       "  </tbody>\n",
       "</table>\n",
       "</div>"
      ],
      "text/plain": [
       "                       Efficiency       Price   DC  Efficiency_ratio  \\\n",
       "(REC260PE,)              0.157574  175.757576  260          1.050496   \n",
       "(KU260-6XPA,)            0.163908  181.818182  260          1.092722   \n",
       "(KU265-6ZPA,)            0.167060  160.606061  265          1.113736   \n",
       "(SPR-230NE-BLK-D,)       0.208376  272.727273  230          1.389176   \n",
       "(SW 280 Mono Black,)     0.166997  212.121212  280          1.113315   \n",
       "(SPR-X20-250-BLK,)       0.200951  303.030303  250          1.339676   \n",
       "(Q.PRO BFR - G3 260,)    0.155689  145.454545  260          1.037924   \n",
       "(SPR-X21-345,)           0.211564  418.181818  345          1.410425   \n",
       "(REC275TP,)              0.166665  151.515152  275          1.111101   \n",
       "(SW 275 Mono Black,)     0.164015  200.000000  275          1.093434   \n",
       "\n",
       "                       Price_per_watt  \n",
       "(REC260PE,)                  0.675991  \n",
       "(KU260-6XPA,)                0.699301  \n",
       "(KU265-6ZPA,)                0.606061  \n",
       "(SPR-230NE-BLK-D,)           1.185771  \n",
       "(SW 280 Mono Black,)         0.757576  \n",
       "(SPR-X20-250-BLK,)           1.212121  \n",
       "(Q.PRO BFR - G3 260,)        0.559441  \n",
       "(SPR-X21-345,)               1.212121  \n",
       "(REC275TP,)                  0.550964  \n",
       "(SW 275 Mono Black,)         0.727273  "
      ]
     },
     "execution_count": 80,
     "metadata": {},
     "output_type": "execute_result"
    }
   ],
   "source": [
    "df"
   ]
  },
  {
   "cell_type": "code",
   "execution_count": 73,
   "metadata": {
    "collapsed": true
   },
   "outputs": [],
   "source": [
    "base_efficiency = 0.15\n",
    "df['Efficiency_ratio'] = df['Efficiency']/base_efficiency\n",
    "df['Price_per_watt'] = df['Price']/df['DC']"
   ]
  },
  {
   "cell_type": "code",
   "execution_count": 74,
   "metadata": {
    "collapsed": false
   },
   "outputs": [
    {
     "data": {
      "text/plain": [
       "<matplotlib.collections.PathCollection at 0x10b0f53c8>"
      ]
     },
     "execution_count": 74,
     "metadata": {},
     "output_type": "execute_result"
    },
    {
     "name": "stderr",
     "output_type": "stream",
     "text": [
      "/Users/wilfeli/anaconda/lib/python3.5/site-packages/matplotlib/collections.py:590: FutureWarning: elementwise comparison failed; returning scalar instead, but in the future will perform elementwise comparison\n",
      "  if self._edgecolors == str('face'):\n"
     ]
    },
    {
     "data": {
      "image/png": "[encoded data removed]",
      "text/plain": [
       "<matplotlib.figure.Figure at 0x10b049860>"
      ]
     },
     "metadata": {},
     "output_type": "display_data"
    }
   ],
   "source": [
    "plt.scatter(df['Efficiency'], df['Price'])"
   ]
  },
  {
   "cell_type": "code",
   "execution_count": 75,
   "metadata": {
    "collapsed": false
   },
   "outputs": [
    {
     "data": {
      "text/plain": [
       "<matplotlib.collections.PathCollection at 0x10b1c0b38>"
      ]
     },
     "execution_count": 75,
     "metadata": {},
     "output_type": "execute_result"
    },
    {
     "name": "stderr",
     "output_type": "stream",
     "text": [
      "/Users/wilfeli/anaconda/lib/python3.5/site-packages/matplotlib/collections.py:590: FutureWarning: elementwise comparison failed; returning scalar instead, but in the future will perform elementwise comparison\n",
      "  if self._edgecolors == str('face'):\n"
     ]
    },
    {
     "data": {
      "image/png": "[encoded data removed]",
      "text/plain": [
       "<matplotlib.figure.Figure at 0x10b0ffc18>"
      ]
     },
     "metadata": {},
     "output_type": "display_data"
    }
   ],
   "source": [
    "plt.scatter(df['Efficiency_ratio'], df['Price_per_watt'])"
   ]
  },
  {
   "cell_type": "code",
   "execution_count": 76,
   "metadata": {
    "collapsed": false
   },
   "outputs": [
    {
     "name": "stdout",
     "output_type": "stream",
     "text": [
      "                            OLS Regression Results                            \n",
      "==============================================================================\n",
      "Dep. Variable:                  Price   R-squared:                       0.810\n",
      "Model:                            OLS   Adj. R-squared:                  0.786\n",
      "Method:                 Least Squares   F-statistic:                     34.13\n",
      "Date:                Tue, 31 May 2016   Prob (F-statistic):           0.000386\n",
      "Time:                        21:29:06   Log-Likelihood:                -49.899\n",
      "No. Observations:                  10   AIC:                             103.8\n",
      "Df Residuals:                       8   BIC:                             104.4\n",
      "Df Model:                           1                                         \n",
      "Covariance Type:            nonrobust                                         \n",
      "==============================================================================\n",
      "                 coef    std err          t      P>|t|      [95.0% Conf. Int.]\n",
      "------------------------------------------------------------------------------\n",
      "Intercept   -407.6285    108.528     -3.756      0.006      -657.895  -157.361\n",
      "Efficiency  3572.4387    611.516      5.842      0.000      2162.280  4982.598\n",
      "==============================================================================\n",
      "Omnibus:                        0.369   Durbin-Watson:                   2.463\n",
      "Prob(Omnibus):                  0.831   Jarque-Bera (JB):                0.039\n",
      "Skew:                           0.089   Prob(JB):                        0.981\n",
      "Kurtosis:                       2.751   Cond. No.                         50.2\n",
      "==============================================================================\n",
      "\n",
      "Warnings:\n",
      "[1] Standard Errors assume that the covariance matrix of the errors is correctly specified.\n"
     ]
    },
    {
     "name": "stderr",
     "output_type": "stream",
     "text": [
      "/Users/wilfeli/anaconda/lib/python3.5/site-packages/scipy/stats/stats.py:1277: UserWarning: kurtosistest only valid for n>=20 ... continuing anyway, n=10\n",
      "  \"anyway, n=%i\" % int(n))\n"
     ]
    }
   ],
   "source": [
    "res = sm.ols(formula=\"Price~Efficiency\", \\\n",
    "             data=df).fit()\n",
    "print(res.summary())"
   ]
  },
  {
   "cell_type": "code",
   "execution_count": 77,
   "metadata": {
    "collapsed": false
   },
   "outputs": [
    {
     "name": "stdout",
     "output_type": "stream",
     "text": [
      "                            OLS Regression Results                            \n",
      "==============================================================================\n",
      "Dep. Variable:         Price_per_watt   R-squared:                       0.915\n",
      "Model:                            OLS   Adj. R-squared:                  0.904\n",
      "Method:                 Least Squares   F-statistic:                     85.77\n",
      "Date:                Tue, 31 May 2016   Prob (F-statistic):           1.50e-05\n",
      "Time:                        21:29:10   Log-Likelihood:                 11.595\n",
      "No. Observations:                  10   AIC:                            -19.19\n",
      "Df Residuals:                       8   BIC:                            -18.58\n",
      "Df Model:                           1                                         \n",
      "Covariance Type:            nonrobust                                         \n",
      "====================================================================================\n",
      "                       coef    std err          t      P>|t|      [95.0% Conf. Int.]\n",
      "------------------------------------------------------------------------------------\n",
      "Intercept           -1.3126      0.232     -5.665      0.000        -1.847    -0.778\n",
      "Efficiency_ratio     1.8135      0.196      9.261      0.000         1.362     2.265\n",
      "==============================================================================\n",
      "Omnibus:                        1.247   Durbin-Watson:                   1.783\n",
      "Prob(Omnibus):                  0.536   Jarque-Bera (JB):                0.841\n",
      "Skew:                          -0.633   Prob(JB):                        0.657\n",
      "Kurtosis:                       2.354   Cond. No.                         17.5\n",
      "==============================================================================\n",
      "\n",
      "Warnings:\n",
      "[1] Standard Errors assume that the covariance matrix of the errors is correctly specified.\n"
     ]
    },
    {
     "name": "stderr",
     "output_type": "stream",
     "text": [
      "/Users/wilfeli/anaconda/lib/python3.5/site-packages/scipy/stats/stats.py:1277: UserWarning: kurtosistest only valid for n>=20 ... continuing anyway, n=10\n",
      "  \"anyway, n=%i\" % int(n))\n"
     ]
    }
   ],
   "source": [
    "res = sm.ols(formula=\"Price_per_watt~Efficiency_ratio\", \\\n",
    "             data=df).fit()\n",
    "print(res.summary())\n",
    "\n",
    "\n"
   ]
  },
  {
   "cell_type": "code",
   "execution_count": 78,
   "metadata": {
    "collapsed": false
   },
   "outputs": [
    {
     "data": {
      "text/plain": [
       "0.50093653357137247"
      ]
     },
     "execution_count": 78,
     "metadata": {},
     "output_type": "execute_result"
    }
   ],
   "source": [
    "#Conclusion\n",
    "#for model use base price \n",
    "x = res.params[0] + res.params[1]\n",
    "x"
   ]
  },
  {
   "cell_type": "code",
   "execution_count": 79,
   "metadata": {
    "collapsed": false
   },
   "outputs": [
    {
     "data": {
      "text/plain": [
       "0.8636359185395035"
      ]
     },
     "execution_count": 79,
     "metadata": {},
     "output_type": "execute_result"
    }
   ],
   "source": [
    "##for model use mid efficiency panel price (for manufacturer)\n",
    "x = res.params[0] + res.params[1] * 0.18/0.15\n",
    "x"
   ]
  },
  {
   "cell_type": "code",
   "execution_count": null,
   "metadata": {
    "collapsed": false
   },
   "outputs": [],
   "source": [
    "for module in solar_equipment['solar_modules']:\n",
    "    for module_name in module:\n",
    "        for key, elem in module[module_name].items():\n",
    "            print (key, elem)"
   ]
  },
  {
   "cell_type": "code",
   "execution_count": null,
   "metadata": {
    "collapsed": true
   },
   "outputs": [],
   "source": [
    "#electricity consumption\n",
    "x = 1654/12/0.15\n",
    "print(x)\n",
    "918/(365.24/12)"
   ]
  }
 ],
 "metadata": {
  "kernelspec": {
   "display_name": "Python 3",
   "language": "python",
   "name": "python3"
  },
  "language_info": {
   "codemirror_mode": {
    "name": "ipython",
    "version": 3
   },
   "file_extension": ".py",
   "mimetype": "text/x-python",
   "name": "python",
   "nbconvert_exporter": "python",
   "pygments_lexer": "ipython3",
   "version": "3.5.0"
  }
 },
 "nbformat": 4,
 "nbformat_minor": 0
}
