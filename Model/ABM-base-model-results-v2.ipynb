{
 "cells": [
  {
   "cell_type": "code",
   "execution_count": 1,
   "metadata": {
    "collapsed": true
   },
   "outputs": [],
   "source": [
    "import re\n",
    "import pandas as pd\n",
    "import numpy as np\n",
    "import json\n",
    "import subprocess\n",
    "import glob\n",
    "import os\n",
    "\n",
    "%matplotlib inline\n",
    "import matplotlib.pyplot as plt\n",
    "import matplotlib\n",
    "from matplotlib import cm\n",
    "matplotlib.style.use('ggplot')\n",
    "import matplotlib.patches as mpatches\n",
    "from matplotlib.legend_handler import HandlerPatch"
   ]
  },
  {
   "cell_type": "markdown",
   "metadata": {
    "collapsed": true
   },
   "source": [
    "Number of installed projects\n",
    "Number of dropouts at each stage\n"
   ]
  },
  {
   "cell_type": "code",
   "execution_count": 4,
   "metadata": {
    "collapsed": true
   },
   "outputs": [],
   "source": [
    "test_mode = 'BaseVer01'\n",
    "data_mode = 'CA'\n",
    "mode = 'NEW'\n",
    "model_file = '..\\\\..\\\\ABMIRISLab\\\\Examples\\\\BaseModel\\\\' + test_mode + '\\\\' + data_mode + '\\\\basemodel.model'\n",
    "save_path = '..\\\\..\\\\ABMIRISLab\\\\Saves\\\\Oct-18-2017\\\\BaseModel\\\\' + test_mode + '\\\\' + data_mode + '\\\\basemodel.model'\n",
    "\n",
    "w_file = '..\\\\..\\\\ABMIRISLab\\\\Examples\\\\BaseModel\\\\' + test_mode + '\\\\' + data_mode + '\\\\w.json'\n",
    "sem_file = '..\\\\..\\\\ABMIRISLab\\\\Examples\\\\BaseModel\\\\' + test_mode + '\\\\' + data_mode + '\\\\sem.json'\n",
    "ho_file = '..\\\\..\\\\ABMIRISLab\\\\Examples\\\\BaseModel\\\\' + test_mode + '\\\\' + data_mode + '\\\\ho.json'"
   ]
  },
  {
   "cell_type": "code",
   "execution_count": 3,
   "metadata": {
    "collapsed": true
   },
   "outputs": [],
   "source": [
    "adjustment = 1.0\n",
    "el_price = 0.15"
   ]
  },
  {
   "cell_type": "code",
   "execution_count": 125,
   "metadata": {
    "collapsed": false
   },
   "outputs": [],
   "source": [
    "#update path to save file \n",
    "#open file at path \n",
    "#rewrite it \n",
    "#'path_so_save=' + save_path\n",
    "#'mode=NEW'\n",
    "\n",
    "with open(model_file, 'w') as model_file_:\n",
    "    model_file_.write('path_to_save={}\\n'.format(save_path))\n",
    "    model_file_.write('mode={}\\n'.format('NEW'))\n",
    "\n",
    "with open(w_file) as infile:\n",
    "    w_setup = json.load(infile)\n",
    "    for setting in w_setup['WorldSettings']['params_exog']:\n",
    "        if 'EParamTypes::ScenarioEfficiencyAdjustment' in setting:\n",
    "            setting['EParamTypes::ScenarioEfficiencyAdjustment'] = adjustment\n",
    "        if 'EParamTypes::ElectricityPriceUCDemand' in setting:\n",
    "            setting['EParamTypes::ElectricityPriceUCDemand'] = el_price\n",
    "        if 'EParamTypes::ElectricityPriceUCSupply' in setting:\n",
    "            setting['EParamTypes::ElectricityPriceUCSupply'] = el_price\n",
    "            \n",
    "    with open(w_file, 'w') as outfile:\n",
    "        json.dump(w_setup, outfile)\n",
    "            \n",
    "with open(sem_file) as infile:\n",
    "    sem_setup = json.load(infile)\n",
    "    if (adjustment > 1.0):\n",
    "        sem_setup['costs_base'] = 0.39 * (1 + (adjustment - 1) / 2)\n",
    "        sem_setup['costs_base'] = 0.39\n",
    "    else:\n",
    "        sem_setup['costs_base'] = 0.39\n",
    "            \n",
    "    for setting in sem_setup['params']:\n",
    "        if 'EParamTypes::SEMEfficiencyUpgradeResearch' in setting:\n",
    "            setting['EParamTypes::SEMEfficiencyUpgradeResearch'] = 0.0\n",
    "    \n",
    "    with open(sem_file, 'w') as outfile:\n",
    "        json.dump(sem_setup, outfile)\n",
    "        \n",
    "        \n",
    "with open(ho_file) as infile:\n",
    "    ho_setup = json.load(infile)\n",
    "    ho_setup['House']['roof_effective_size'] = 'FORMULA::0.25'\n",
    "    \n",
    "    with open(ho_file, 'w') as outfile:\n",
    "        json.dump(ho_setup, outfile)\n",
    "    "
   ]
  },
  {
   "cell_type": "code",
   "execution_count": 129,
   "metadata": {
    "collapsed": false
   },
   "outputs": [
    {
     "data": {
      "text/plain": [
       "0"
      ]
     },
     "execution_count": 129,
     "metadata": {},
     "output_type": "execute_result"
    }
   ],
   "source": [
    "path = 'BaseModel.exe'\n",
    "args = [path, mode, model_file]\n",
    "subprocess.call([path, mode, model_file])"
   ]
  },
  {
   "cell_type": "code",
   "execution_count": 6,
   "metadata": {
    "collapsed": false
   },
   "outputs": [],
   "source": [
    "for test_mode in ['BaseVer01']:\n",
    "    for data_mode in ['CA']:\n",
    "#        adjustment = 1.0\n",
    "#        el_price = 0.15\n",
    "\n",
    "        file = '..\\\\..\\\\ABMIRISLab\\\\Examples\\\\BaseModel\\\\' + test_mode + '\\\\' + data_mode + '\\\\w.json'\n",
    "\n",
    "\n",
    "        mode=\"NEW\"\n",
    "        model_file='..\\\\..\\\\ABMIRISLab\\\\Examples\\\\BaseModel\\\\' + test_mode + '\\\\' + data_mode + '\\\\basemodel.model'\n",
    "\n",
    "\n",
    "        #update path to save file \n",
    "        save_path = '..\\\\..\\\\ABMIRISLab\\\\Saves\\\\Oct-18-2017\\\\BaseModel\\\\' + test_mode + '\\\\' + data_mode + '\\\\basemodel.model'\n",
    "\n",
    "\n",
    "        #open file at path \n",
    "        #rewrite it \n",
    "        #'path_so_save=' + save_path\n",
    "        #'mode=NEW'\n",
    "\n",
    "        with open(model_file, 'w') as model_file_:\n",
    "            model_file_.write('path_to_save={}\\n'.format(save_path))\n",
    "            model_file_.write('mode={}\\n'.format('NEW'))\n",
    "\n",
    "\n",
    "        with open(file) as infile:\n",
    "            w_setup = json.load(infile)\n",
    "\n",
    "        for seed in range(100, 102):\n",
    "            w_setup['SEED'] = seed\n",
    "            w_setup['ParametersCode'] = test_mode + '_' + data_mode\n",
    "            \n",
    "#        for setting in w_setup['WorldSettings']['params_exog']:\n",
    "#            if 'EParamTypes::ScenarioEfficiencyAdjustment' in setting:\n",
    "#                setting['EParamTypes::ScenarioEfficiencyAdjustment'] = adjustment\n",
    "#            if 'EParamTypes::ElectricityPriceUCDemand' in setting:\n",
    "#                setting['EParamTypes::ElectricityPriceUCDemand'] = el_price\n",
    "#            if 'EParamTypes::ElectricityPriceUCSupply' in setting:\n",
    "#                setting['EParamTypes::ElectricityPriceUCSupply'] = el_price\n",
    "\n",
    "\n",
    "#            with open(file, 'w') as outfile:\n",
    "#                json.dump(w_setup, outfile)\n",
    "                \n",
    "                \n",
    "                \n",
    "#        with open(sem_file) as infile:\n",
    "#            sem_setup = json.load(infile)\n",
    "#            if (adjustment > 1.0):\n",
    "#                sem_setup['costs_base'] = 0.39 * (1 + (adjustment - 1) / 2)\n",
    "#                sem_setup['costs_base'] = 0.39\n",
    "#            else:\n",
    "#                sem_setup['costs_base'] = 0.39\n",
    "            \n",
    "#            for setting in sem_setup['params']:\n",
    "#                if 'EParamTypes::SEMEfficiencyUpgradeResearch' in setting:\n",
    "#                    setting['EParamTypes::SEMEfficiencyUpgradeResearch'] = 0.0\n",
    "    \n",
    "#            with open(sem_file, 'w') as outfile:\n",
    "#            json.dump(sem_setup, outfile)\n",
    "        \n",
    "        \n",
    "#        with open(ho_file) as infile:\n",
    "#            ho_setup = json.load(infile)\n",
    "#            ho_setup['House']['roof_effective_size'] = 'FORMULA::0.25'\n",
    "    \n",
    "#            with open(ho_file, 'w') as outfile:\n",
    "#                json.dump(ho_setup, outfile)\n",
    "\n",
    "            #run simulation \n",
    "            path = 'BaseModel.exe'\n",
    "            args = [path, mode, model_file]\n",
    "            res = -1\n",
    "\n",
    "            i = 0 \n",
    "            while ((res != 0) and (i < 2)):\n",
    "                try:\n",
    "                    subprocess.call([path, mode, model_file])\n",
    "                    i = 0\n",
    "                    res = 0\n",
    "                except subprocess.CalledProcessError as e:\n",
    "                    i = i + 1\n",
    "                    res = -1"
   ]
  },
  {
   "cell_type": "code",
   "execution_count": null,
   "metadata": {
    "collapsed": true
   },
   "outputs": [],
   "source": []
  },
  {
   "cell_type": "code",
   "execution_count": null,
   "metadata": {
    "collapsed": true
   },
   "outputs": [],
   "source": []
  },
  {
   "cell_type": "code",
   "execution_count": null,
   "metadata": {
    "collapsed": true
   },
   "outputs": [],
   "source": []
  },
  {
   "cell_type": "code",
   "execution_count": null,
   "metadata": {
    "collapsed": true
   },
   "outputs": [],
   "source": []
  },
  {
   "cell_type": "code",
   "execution_count": null,
   "metadata": {
    "collapsed": true
   },
   "outputs": [],
   "source": []
  },
  {
   "cell_type": "code",
   "execution_count": null,
   "metadata": {
    "collapsed": true
   },
   "outputs": [],
   "source": []
  },
  {
   "cell_type": "code",
   "execution_count": null,
   "metadata": {
    "collapsed": false
   },
   "outputs": [],
   "source": [
    "test_mode = 'BaseModel'\n",
    "data_mode = 'Logs'\n",
    "file = '/Users/wilfeli/Dropbox/ABM/SolarPanels/ABMIRISLab/Examples/' + test_mode + '/' + data_mode + '/world_log.log'\n",
    "\n",
    "    \n",
    "with open(file) as infile:\n",
    "    for line in infile:\n",
    "        print(line, end='')"
   ]
  },
  {
   "cell_type": "code",
   "execution_count": null,
   "metadata": {
    "collapsed": true
   },
   "outputs": [],
   "source": [
    "#find begin of an info string \n"
   ]
  },
  {
   "cell_type": "code",
   "execution_count": 46,
   "metadata": {
    "collapsed": false
   },
   "outputs": [],
   "source": [
    "def read_error_data_from_log(file, data_):\n",
    "    regex_error_savings = re.compile('(INFO:\\sNEGATIVE\\sSAVINGS\\s*)')\n",
    "    regex_error_small_system = re.compile('(INFO:\\sSMALL\\sSYSTEM\\s*)')\n",
    "    N_SMALL_SAVINGS = 0\n",
    "    N_SMALL_SYSTEMS = 0\n",
    "    \n",
    "    with open(file) as infile:\n",
    "        for line in infile:\n",
    "            if regex_error_savings.search(line):\n",
    "                res = re.split(regex_error_savings, line)\n",
    "                N_SMALL_SAVINGS = N_SMALL_SAVINGS + 1\n",
    "            elif regex_error_small_system.search(line):\n",
    "                res = re.split(regex_error_small_system, line)\n",
    "                N_SMALL_SYSTEMS = N_SMALL_SYSTEMS + 1\n",
    "            else:\n",
    "                pass\n",
    "            \n",
    "    \n",
    "    return (N_SMALL_SAVINGS, N_SMALL_SYSTEMS)\n",
    "                \n",
    "                \n",
    "                "
   ]
  },
  {
   "cell_type": "code",
   "execution_count": 44,
   "metadata": {
    "collapsed": false
   },
   "outputs": [],
   "source": [
    "#Reads data from the given file into the given list\n",
    "def read_data_from_log(file, data_):\n",
    "    regex_begin_tick = re.compile('(N\\s*active\\s*agents\\s*at\\s*tick\\s*)')\n",
    "    regex_end_tick = re.compile('(Number\\s*of\\s*installed\\s*projects\\s*:\\s*)')\n",
    "    regex_data =  re.compile('(INFO:\\s)')\n",
    "    regex_data_check = re.compile('EParamTypes')\n",
    "    regex_enum = re.compile('(::[\\w]*\\s*:\\s*)')\n",
    "    regex_enum_name = re.compile('([^:\\s]+)')\n",
    "    regex_1 = re.compile('(\\s*:\\s*)')\n",
    "    \n",
    "    \n",
    "    with open(file) as infile:\n",
    "        for line in infile:\n",
    "            if regex_begin_tick.search(line):\n",
    "                #parse tick number \n",
    "                #start new dictionary in the list\n",
    "                data_.append({})\n",
    "\n",
    "                #get tick \n",
    "                res = re.split(regex_1, re.split(regex_begin_tick, line)[-1])\n",
    "                data_[-1]['N_AGENTS'] = float(res[-1])\n",
    "                data_[-1]['tick'] = float(res[0])\n",
    "            elif regex_end_tick.search(line):\n",
    "                res = re.split(regex_end_tick, line)\n",
    "                data_[-1]['N_PROJECTS'] = float(res[-1])\n",
    "            else:\n",
    "                if (regex_data.search(line)) and (regex_data_check.search(line)):\n",
    "                    res = re.split(regex_data, line)\n",
    "                    #get last part and enum name \n",
    "                    #last part is number\n",
    "                    res2 = re.split(regex_enum, res[-1])\n",
    "                    #get enum name \n",
    "                    data_[-1]['EParamTypes::' + re.split(regex_enum_name, res2[-2])[-2]] = float(res2[-1])\n",
    "#    print(data_)\n",
    "            "
   ]
  },
  {
   "cell_type": "code",
   "execution_count": 45,
   "metadata": {
    "collapsed": false
   },
   "outputs": [],
   "source": [
    "def get_subset_data(data_):\n",
    "    #data_column_names\n",
    "    data_columns = {'EParamTypes::HOStateDroppedOutNCDecStage':[],\\\n",
    "                   'EParamTypes::HOStateDroppedOutSEIStage':[],\\\n",
    "                   'EParamTypes::HOStateDroppedOutDesignStage':[]}\n",
    "    tick = []\n",
    "    i = 0\n",
    "    #collect data for each tick \n",
    "    for row in data_:\n",
    "        for key, value in data_columns.items():\n",
    "            value.append(0.0)\n",
    "            if key in row:\n",
    "                value[-1] = row[key]\n",
    "        tick.append(i)\n",
    "        i = i + 1\n",
    "    \n",
    "    return data_columns\n",
    "\n",
    "#print(data_columns)"
   ]
  },
  {
   "cell_type": "code",
   "execution_count": 75,
   "metadata": {
    "collapsed": false
   },
   "outputs": [],
   "source": [
    "test_mode = 'BaseModel'\n",
    "data_mode = 'Logs'\n",
    "version = '_vlow'\n",
    "#file = '/Users/wilfeli/Dropbox/ABM/SolarPanels/ABMIRISLab/Examples/' + test_mode + '/' + data_mode + '/world_log' + \\\n",
    "#        version + '.log'\n",
    "    \n",
    "    \n",
    "#get latest file \n",
    "files = glob.glob('..\\\\..\\\\ABMIRISLab\\\\Examples\\\\' + test_mode + '\\\\' + data_mode +\\\n",
    "                 '\\\\*[_log].log')\n",
    "files.sort(key=os.path.getmtime, reverse=True)\n",
    "file = files[1]    \n",
    "\n",
    "#if find N active agents at tick\n",
    "# start data for the tick \n",
    "#parse data - name of the enum, value\n",
    "data_v1 = []\n",
    "read_data_from_log(file, data_v1)\n",
    "data_subset_v1 = get_subset_data(data_v1)"
   ]
  },
  {
   "cell_type": "code",
   "execution_count": 77,
   "metadata": {
    "collapsed": false
   },
   "outputs": [],
   "source": [
    "test_mode = 'BaseModel'\n",
    "data_mode = 'Logs'\n",
    "version = '_vhigh'\n",
    "#file = '/Users/wilfeli/Dropbox/ABM/SolarPanels/ABMIRISLab/Examples/' + test_mode + '/' + data_mode + '/world_log' + \\\n",
    "#        version + '.log'\n",
    "    \n",
    "    \n",
    "#get latest file \n",
    "files = glob.glob('..\\\\..\\\\ABMIRISLab\\\\Examples\\\\' + test_mode + '\\\\' + data_mode +\\\n",
    "                 '\\\\*[_log].log')\n",
    "files.sort(key=os.path.getmtime, reverse=True)\n",
    "file = files[0]    \n",
    "\n",
    "#if find N active agents at tick\n",
    "# start data for the tick \n",
    "#parse data - name of the enum, value\n",
    "data_v2 = []\n",
    "read_data_from_log(file, data_v2)\n",
    "data_subset_v2 = get_subset_data(data_v2)"
   ]
  },
  {
   "cell_type": "code",
   "execution_count": 78,
   "metadata": {
    "collapsed": false
   },
   "outputs": [],
   "source": [
    "df_v1 = pd.DataFrame(\n",
    "data_subset_v1\n",
    ")\n",
    "df_v1.index.name = 'tick'"
   ]
  },
  {
   "cell_type": "code",
   "execution_count": 136,
   "metadata": {
    "collapsed": false
   },
   "outputs": [],
   "source": [
    "test_mode = 'BaseModel'\n",
    "test_version = 'BaseVer01'\n",
    "test_loc = 'CA'\n",
    "data_mode = 'Logs'\n",
    "version = '_vhigh'\n",
    "#file = '/Users/wilfeli/Dropbox/ABM/SolarPanels/ABMIRISLab/Examples/' + test_mode + '/' + data_mode + '/world_log' + \\\n",
    "#        version + '.log'\n",
    "    \n",
    "    \n",
    "#get latest file \n",
    "files = glob.glob('..\\\\..\\\\ABMIRISLab\\\\Examples\\\\' + test_mode + '\\\\' + test_version + '\\\\'  + test_loc + '\\\\'+ data_mode +\\\n",
    "                 '\\\\*[_log].log')\n",
    "files.sort(key=os.path.getmtime, reverse=True)\n",
    "files_ = files[0:3]    \n",
    "\n",
    "dfs_ = []\n",
    "\n",
    "for file in files_:\n",
    "\n",
    "    #if find N active agents at tick\n",
    "    # start data for the tick \n",
    "    #parse data - name of the enum, value\n",
    "    data_ = []\n",
    "    read_data_from_log(file, data_)\n",
    "    data_subset_ = get_subset_data(data_)\n",
    "    df_ = pd.DataFrame(\n",
    "        data_subset_\n",
    "        )\n",
    "    df_.index.name = 'tick'\n",
    "    \n",
    "    dfs_.append(df_)\n",
    "    \n",
    "    \n",
    "#get averages \n",
    "#create df from them    \n",
    "df_concat = pd.concat(dfs_)\n",
    "df_logs = df_concat.groupby(level=0).mean()"
   ]
  },
  {
   "cell_type": "code",
   "execution_count": 137,
   "metadata": {
    "collapsed": false
   },
   "outputs": [
    {
     "data": {
      "text/html": [
       "<div>\n",
       "<table border=\"1\" class=\"dataframe\">\n",
       "  <thead>\n",
       "    <tr style=\"text-align: right;\">\n",
       "      <th></th>\n",
       "      <th>EParamTypes::HOStateDroppedOutDesignStage</th>\n",
       "      <th>EParamTypes::HOStateDroppedOutNCDecStage</th>\n",
       "      <th>EParamTypes::HOStateDroppedOutSEIStage</th>\n",
       "    </tr>\n",
       "    <tr>\n",
       "      <th>tick</th>\n",
       "      <th></th>\n",
       "      <th></th>\n",
       "      <th></th>\n",
       "    </tr>\n",
       "  </thead>\n",
       "  <tbody>\n",
       "    <tr>\n",
       "      <th>0</th>\n",
       "      <td>0.000000</td>\n",
       "      <td>0.000000</td>\n",
       "      <td>0.000000</td>\n",
       "    </tr>\n",
       "    <tr>\n",
       "      <th>1</th>\n",
       "      <td>0.000000</td>\n",
       "      <td>0.000000</td>\n",
       "      <td>0.000000</td>\n",
       "    </tr>\n",
       "    <tr>\n",
       "      <th>2</th>\n",
       "      <td>0.000000</td>\n",
       "      <td>0.000000</td>\n",
       "      <td>0.000000</td>\n",
       "    </tr>\n",
       "    <tr>\n",
       "      <th>3</th>\n",
       "      <td>0.000000</td>\n",
       "      <td>0.000000</td>\n",
       "      <td>0.000000</td>\n",
       "    </tr>\n",
       "    <tr>\n",
       "      <th>4</th>\n",
       "      <td>0.000000</td>\n",
       "      <td>0.000000</td>\n",
       "      <td>0.000000</td>\n",
       "    </tr>\n",
       "    <tr>\n",
       "      <th>5</th>\n",
       "      <td>0.000000</td>\n",
       "      <td>0.000000</td>\n",
       "      <td>0.000000</td>\n",
       "    </tr>\n",
       "    <tr>\n",
       "      <th>6</th>\n",
       "      <td>0.000000</td>\n",
       "      <td>0.000000</td>\n",
       "      <td>0.000000</td>\n",
       "    </tr>\n",
       "    <tr>\n",
       "      <th>7</th>\n",
       "      <td>0.000000</td>\n",
       "      <td>0.000000</td>\n",
       "      <td>0.000000</td>\n",
       "    </tr>\n",
       "    <tr>\n",
       "      <th>8</th>\n",
       "      <td>0.000000</td>\n",
       "      <td>0.000000</td>\n",
       "      <td>0.000000</td>\n",
       "    </tr>\n",
       "    <tr>\n",
       "      <th>9</th>\n",
       "      <td>0.000000</td>\n",
       "      <td>0.000000</td>\n",
       "      <td>0.000000</td>\n",
       "    </tr>\n",
       "    <tr>\n",
       "      <th>10</th>\n",
       "      <td>0.000000</td>\n",
       "      <td>0.000000</td>\n",
       "      <td>0.000000</td>\n",
       "    </tr>\n",
       "    <tr>\n",
       "      <th>11</th>\n",
       "      <td>0.000000</td>\n",
       "      <td>0.000000</td>\n",
       "      <td>0.000000</td>\n",
       "    </tr>\n",
       "    <tr>\n",
       "      <th>12</th>\n",
       "      <td>0.000000</td>\n",
       "      <td>151.666667</td>\n",
       "      <td>22.000000</td>\n",
       "    </tr>\n",
       "    <tr>\n",
       "      <th>13</th>\n",
       "      <td>0.000000</td>\n",
       "      <td>149.666667</td>\n",
       "      <td>21.666667</td>\n",
       "    </tr>\n",
       "    <tr>\n",
       "      <th>14</th>\n",
       "      <td>0.000000</td>\n",
       "      <td>266.666667</td>\n",
       "      <td>38.333333</td>\n",
       "    </tr>\n",
       "    <tr>\n",
       "      <th>15</th>\n",
       "      <td>12.333333</td>\n",
       "      <td>263.666667</td>\n",
       "      <td>37.333333</td>\n",
       "    </tr>\n",
       "    <tr>\n",
       "      <th>16</th>\n",
       "      <td>16.000000</td>\n",
       "      <td>401.000000</td>\n",
       "      <td>54.666667</td>\n",
       "    </tr>\n",
       "    <tr>\n",
       "      <th>17</th>\n",
       "      <td>20.666667</td>\n",
       "      <td>395.333333</td>\n",
       "      <td>54.666667</td>\n",
       "    </tr>\n",
       "    <tr>\n",
       "      <th>18</th>\n",
       "      <td>26.000000</td>\n",
       "      <td>525.000000</td>\n",
       "      <td>69.666667</td>\n",
       "    </tr>\n",
       "    <tr>\n",
       "      <th>19</th>\n",
       "      <td>29.333333</td>\n",
       "      <td>513.000000</td>\n",
       "      <td>67.666667</td>\n",
       "    </tr>\n",
       "    <tr>\n",
       "      <th>20</th>\n",
       "      <td>38.666667</td>\n",
       "      <td>637.666667</td>\n",
       "      <td>83.333333</td>\n",
       "    </tr>\n",
       "    <tr>\n",
       "      <th>21</th>\n",
       "      <td>45.666667</td>\n",
       "      <td>622.333333</td>\n",
       "      <td>82.000000</td>\n",
       "    </tr>\n",
       "    <tr>\n",
       "      <th>22</th>\n",
       "      <td>49.333333</td>\n",
       "      <td>739.333333</td>\n",
       "      <td>92.666667</td>\n",
       "    </tr>\n",
       "    <tr>\n",
       "      <th>23</th>\n",
       "      <td>52.333333</td>\n",
       "      <td>723.666667</td>\n",
       "      <td>91.000000</td>\n",
       "    </tr>\n",
       "    <tr>\n",
       "      <th>24</th>\n",
       "      <td>61.333333</td>\n",
       "      <td>829.333333</td>\n",
       "      <td>103.666667</td>\n",
       "    </tr>\n",
       "    <tr>\n",
       "      <th>25</th>\n",
       "      <td>61.666667</td>\n",
       "      <td>814.000000</td>\n",
       "      <td>101.666667</td>\n",
       "    </tr>\n",
       "    <tr>\n",
       "      <th>26</th>\n",
       "      <td>67.333333</td>\n",
       "      <td>913.333333</td>\n",
       "      <td>111.333333</td>\n",
       "    </tr>\n",
       "    <tr>\n",
       "      <th>27</th>\n",
       "      <td>73.666667</td>\n",
       "      <td>894.000000</td>\n",
       "      <td>107.666667</td>\n",
       "    </tr>\n",
       "    <tr>\n",
       "      <th>28</th>\n",
       "      <td>72.000000</td>\n",
       "      <td>969.333333</td>\n",
       "      <td>113.000000</td>\n",
       "    </tr>\n",
       "    <tr>\n",
       "      <th>29</th>\n",
       "      <td>74.000000</td>\n",
       "      <td>948.000000</td>\n",
       "      <td>110.000000</td>\n",
       "    </tr>\n",
       "    <tr>\n",
       "      <th>...</th>\n",
       "      <td>...</td>\n",
       "      <td>...</td>\n",
       "      <td>...</td>\n",
       "    </tr>\n",
       "    <tr>\n",
       "      <th>231</th>\n",
       "      <td>59.666667</td>\n",
       "      <td>3087.666667</td>\n",
       "      <td>314.000000</td>\n",
       "    </tr>\n",
       "    <tr>\n",
       "      <th>232</th>\n",
       "      <td>59.333333</td>\n",
       "      <td>3022.000000</td>\n",
       "      <td>309.000000</td>\n",
       "    </tr>\n",
       "    <tr>\n",
       "      <th>233</th>\n",
       "      <td>58.333333</td>\n",
       "      <td>3076.333333</td>\n",
       "      <td>313.666667</td>\n",
       "    </tr>\n",
       "    <tr>\n",
       "      <th>234</th>\n",
       "      <td>57.666667</td>\n",
       "      <td>3012.666667</td>\n",
       "      <td>308.000000</td>\n",
       "    </tr>\n",
       "    <tr>\n",
       "      <th>235</th>\n",
       "      <td>57.666667</td>\n",
       "      <td>3077.000000</td>\n",
       "      <td>311.333333</td>\n",
       "    </tr>\n",
       "    <tr>\n",
       "      <th>236</th>\n",
       "      <td>56.000000</td>\n",
       "      <td>3018.666667</td>\n",
       "      <td>303.666667</td>\n",
       "    </tr>\n",
       "    <tr>\n",
       "      <th>237</th>\n",
       "      <td>53.666667</td>\n",
       "      <td>3101.000000</td>\n",
       "      <td>312.666667</td>\n",
       "    </tr>\n",
       "    <tr>\n",
       "      <th>238</th>\n",
       "      <td>53.000000</td>\n",
       "      <td>3027.666667</td>\n",
       "      <td>306.000000</td>\n",
       "    </tr>\n",
       "    <tr>\n",
       "      <th>239</th>\n",
       "      <td>53.666667</td>\n",
       "      <td>3071.333333</td>\n",
       "      <td>307.666667</td>\n",
       "    </tr>\n",
       "    <tr>\n",
       "      <th>240</th>\n",
       "      <td>53.333333</td>\n",
       "      <td>3013.333333</td>\n",
       "      <td>299.666667</td>\n",
       "    </tr>\n",
       "    <tr>\n",
       "      <th>241</th>\n",
       "      <td>58.000000</td>\n",
       "      <td>3074.666667</td>\n",
       "      <td>301.000000</td>\n",
       "    </tr>\n",
       "    <tr>\n",
       "      <th>242</th>\n",
       "      <td>57.666667</td>\n",
       "      <td>2989.333333</td>\n",
       "      <td>292.000000</td>\n",
       "    </tr>\n",
       "    <tr>\n",
       "      <th>243</th>\n",
       "      <td>59.666667</td>\n",
       "      <td>3048.333333</td>\n",
       "      <td>301.666667</td>\n",
       "    </tr>\n",
       "    <tr>\n",
       "      <th>244</th>\n",
       "      <td>58.000000</td>\n",
       "      <td>2987.000000</td>\n",
       "      <td>295.000000</td>\n",
       "    </tr>\n",
       "    <tr>\n",
       "      <th>245</th>\n",
       "      <td>59.666667</td>\n",
       "      <td>3073.666667</td>\n",
       "      <td>300.333333</td>\n",
       "    </tr>\n",
       "    <tr>\n",
       "      <th>246</th>\n",
       "      <td>59.333333</td>\n",
       "      <td>3009.000000</td>\n",
       "      <td>295.333333</td>\n",
       "    </tr>\n",
       "    <tr>\n",
       "      <th>247</th>\n",
       "      <td>57.666667</td>\n",
       "      <td>3028.333333</td>\n",
       "      <td>302.333333</td>\n",
       "    </tr>\n",
       "    <tr>\n",
       "      <th>248</th>\n",
       "      <td>57.000000</td>\n",
       "      <td>2945.333333</td>\n",
       "      <td>295.333333</td>\n",
       "    </tr>\n",
       "    <tr>\n",
       "      <th>249</th>\n",
       "      <td>57.666667</td>\n",
       "      <td>3056.000000</td>\n",
       "      <td>303.666667</td>\n",
       "    </tr>\n",
       "    <tr>\n",
       "      <th>250</th>\n",
       "      <td>56.666667</td>\n",
       "      <td>2988.333333</td>\n",
       "      <td>295.666667</td>\n",
       "    </tr>\n",
       "    <tr>\n",
       "      <th>251</th>\n",
       "      <td>57.000000</td>\n",
       "      <td>3005.333333</td>\n",
       "      <td>302.666667</td>\n",
       "    </tr>\n",
       "    <tr>\n",
       "      <th>252</th>\n",
       "      <td>58.000000</td>\n",
       "      <td>2944.000000</td>\n",
       "      <td>295.666667</td>\n",
       "    </tr>\n",
       "    <tr>\n",
       "      <th>253</th>\n",
       "      <td>57.333333</td>\n",
       "      <td>3009.333333</td>\n",
       "      <td>304.666667</td>\n",
       "    </tr>\n",
       "    <tr>\n",
       "      <th>254</th>\n",
       "      <td>56.333333</td>\n",
       "      <td>2946.333333</td>\n",
       "      <td>298.333333</td>\n",
       "    </tr>\n",
       "    <tr>\n",
       "      <th>255</th>\n",
       "      <td>57.000000</td>\n",
       "      <td>3021.000000</td>\n",
       "      <td>303.666667</td>\n",
       "    </tr>\n",
       "    <tr>\n",
       "      <th>256</th>\n",
       "      <td>54.333333</td>\n",
       "      <td>2962.000000</td>\n",
       "      <td>299.000000</td>\n",
       "    </tr>\n",
       "    <tr>\n",
       "      <th>257</th>\n",
       "      <td>55.666667</td>\n",
       "      <td>3041.000000</td>\n",
       "      <td>306.333333</td>\n",
       "    </tr>\n",
       "    <tr>\n",
       "      <th>258</th>\n",
       "      <td>55.000000</td>\n",
       "      <td>2980.666667</td>\n",
       "      <td>299.666667</td>\n",
       "    </tr>\n",
       "    <tr>\n",
       "      <th>259</th>\n",
       "      <td>56.666667</td>\n",
       "      <td>3110.666667</td>\n",
       "      <td>308.666667</td>\n",
       "    </tr>\n",
       "    <tr>\n",
       "      <th>260</th>\n",
       "      <td>55.333333</td>\n",
       "      <td>3046.333333</td>\n",
       "      <td>302.000000</td>\n",
       "    </tr>\n",
       "  </tbody>\n",
       "</table>\n",
       "<p>261 rows × 3 columns</p>\n",
       "</div>"
      ],
      "text/plain": [
       "      EParamTypes::HOStateDroppedOutDesignStage  \\\n",
       "tick                                              \n",
       "0                                      0.000000   \n",
       "1                                      0.000000   \n",
       "2                                      0.000000   \n",
       "3                                      0.000000   \n",
       "4                                      0.000000   \n",
       "5                                      0.000000   \n",
       "6                                      0.000000   \n",
       "7                                      0.000000   \n",
       "8                                      0.000000   \n",
       "9                                      0.000000   \n",
       "10                                     0.000000   \n",
       "11                                     0.000000   \n",
       "12                                     0.000000   \n",
       "13                                     0.000000   \n",
       "14                                     0.000000   \n",
       "15                                    12.333333   \n",
       "16                                    16.000000   \n",
       "17                                    20.666667   \n",
       "18                                    26.000000   \n",
       "19                                    29.333333   \n",
       "20                                    38.666667   \n",
       "21                                    45.666667   \n",
       "22                                    49.333333   \n",
       "23                                    52.333333   \n",
       "24                                    61.333333   \n",
       "25                                    61.666667   \n",
       "26                                    67.333333   \n",
       "27                                    73.666667   \n",
       "28                                    72.000000   \n",
       "29                                    74.000000   \n",
       "...                                         ...   \n",
       "231                                   59.666667   \n",
       "232                                   59.333333   \n",
       "233                                   58.333333   \n",
       "234                                   57.666667   \n",
       "235                                   57.666667   \n",
       "236                                   56.000000   \n",
       "237                                   53.666667   \n",
       "238                                   53.000000   \n",
       "239                                   53.666667   \n",
       "240                                   53.333333   \n",
       "241                                   58.000000   \n",
       "242                                   57.666667   \n",
       "243                                   59.666667   \n",
       "244                                   58.000000   \n",
       "245                                   59.666667   \n",
       "246                                   59.333333   \n",
       "247                                   57.666667   \n",
       "248                                   57.000000   \n",
       "249                                   57.666667   \n",
       "250                                   56.666667   \n",
       "251                                   57.000000   \n",
       "252                                   58.000000   \n",
       "253                                   57.333333   \n",
       "254                                   56.333333   \n",
       "255                                   57.000000   \n",
       "256                                   54.333333   \n",
       "257                                   55.666667   \n",
       "258                                   55.000000   \n",
       "259                                   56.666667   \n",
       "260                                   55.333333   \n",
       "\n",
       "      EParamTypes::HOStateDroppedOutNCDecStage  \\\n",
       "tick                                             \n",
       "0                                     0.000000   \n",
       "1                                     0.000000   \n",
       "2                                     0.000000   \n",
       "3                                     0.000000   \n",
       "4                                     0.000000   \n",
       "5                                     0.000000   \n",
       "6                                     0.000000   \n",
       "7                                     0.000000   \n",
       "8                                     0.000000   \n",
       "9                                     0.000000   \n",
       "10                                    0.000000   \n",
       "11                                    0.000000   \n",
       "12                                  151.666667   \n",
       "13                                  149.666667   \n",
       "14                                  266.666667   \n",
       "15                                  263.666667   \n",
       "16                                  401.000000   \n",
       "17                                  395.333333   \n",
       "18                                  525.000000   \n",
       "19                                  513.000000   \n",
       "20                                  637.666667   \n",
       "21                                  622.333333   \n",
       "22                                  739.333333   \n",
       "23                                  723.666667   \n",
       "24                                  829.333333   \n",
       "25                                  814.000000   \n",
       "26                                  913.333333   \n",
       "27                                  894.000000   \n",
       "28                                  969.333333   \n",
       "29                                  948.000000   \n",
       "...                                        ...   \n",
       "231                                3087.666667   \n",
       "232                                3022.000000   \n",
       "233                                3076.333333   \n",
       "234                                3012.666667   \n",
       "235                                3077.000000   \n",
       "236                                3018.666667   \n",
       "237                                3101.000000   \n",
       "238                                3027.666667   \n",
       "239                                3071.333333   \n",
       "240                                3013.333333   \n",
       "241                                3074.666667   \n",
       "242                                2989.333333   \n",
       "243                                3048.333333   \n",
       "244                                2987.000000   \n",
       "245                                3073.666667   \n",
       "246                                3009.000000   \n",
       "247                                3028.333333   \n",
       "248                                2945.333333   \n",
       "249                                3056.000000   \n",
       "250                                2988.333333   \n",
       "251                                3005.333333   \n",
       "252                                2944.000000   \n",
       "253                                3009.333333   \n",
       "254                                2946.333333   \n",
       "255                                3021.000000   \n",
       "256                                2962.000000   \n",
       "257                                3041.000000   \n",
       "258                                2980.666667   \n",
       "259                                3110.666667   \n",
       "260                                3046.333333   \n",
       "\n",
       "      EParamTypes::HOStateDroppedOutSEIStage  \n",
       "tick                                          \n",
       "0                                   0.000000  \n",
       "1                                   0.000000  \n",
       "2                                   0.000000  \n",
       "3                                   0.000000  \n",
       "4                                   0.000000  \n",
       "5                                   0.000000  \n",
       "6                                   0.000000  \n",
       "7                                   0.000000  \n",
       "8                                   0.000000  \n",
       "9                                   0.000000  \n",
       "10                                  0.000000  \n",
       "11                                  0.000000  \n",
       "12                                 22.000000  \n",
       "13                                 21.666667  \n",
       "14                                 38.333333  \n",
       "15                                 37.333333  \n",
       "16                                 54.666667  \n",
       "17                                 54.666667  \n",
       "18                                 69.666667  \n",
       "19                                 67.666667  \n",
       "20                                 83.333333  \n",
       "21                                 82.000000  \n",
       "22                                 92.666667  \n",
       "23                                 91.000000  \n",
       "24                                103.666667  \n",
       "25                                101.666667  \n",
       "26                                111.333333  \n",
       "27                                107.666667  \n",
       "28                                113.000000  \n",
       "29                                110.000000  \n",
       "...                                      ...  \n",
       "231                               314.000000  \n",
       "232                               309.000000  \n",
       "233                               313.666667  \n",
       "234                               308.000000  \n",
       "235                               311.333333  \n",
       "236                               303.666667  \n",
       "237                               312.666667  \n",
       "238                               306.000000  \n",
       "239                               307.666667  \n",
       "240                               299.666667  \n",
       "241                               301.000000  \n",
       "242                               292.000000  \n",
       "243                               301.666667  \n",
       "244                               295.000000  \n",
       "245                               300.333333  \n",
       "246                               295.333333  \n",
       "247                               302.333333  \n",
       "248                               295.333333  \n",
       "249                               303.666667  \n",
       "250                               295.666667  \n",
       "251                               302.666667  \n",
       "252                               295.666667  \n",
       "253                               304.666667  \n",
       "254                               298.333333  \n",
       "255                               303.666667  \n",
       "256                               299.000000  \n",
       "257                               306.333333  \n",
       "258                               299.666667  \n",
       "259                               308.666667  \n",
       "260                               302.000000  \n",
       "\n",
       "[261 rows x 3 columns]"
      ]
     },
     "execution_count": 137,
     "metadata": {},
     "output_type": "execute_result"
    }
   ],
   "source": [
    "df_logs"
   ]
  },
  {
   "cell_type": "code",
   "execution_count": null,
   "metadata": {
    "collapsed": true
   },
   "outputs": [],
   "source": []
  },
  {
   "cell_type": "code",
   "execution_count": null,
   "metadata": {
    "collapsed": true
   },
   "outputs": [],
   "source": []
  },
  {
   "cell_type": "code",
   "execution_count": 79,
   "metadata": {
    "collapsed": false
   },
   "outputs": [],
   "source": [
    "df_v2 = pd.DataFrame(\n",
    "data_subset_v2\n",
    ")\n",
    "df_v2.index.name = 'tick'"
   ]
  },
  {
   "cell_type": "code",
   "execution_count": null,
   "metadata": {
    "collapsed": false
   },
   "outputs": [],
   "source": [
    "df_v1[columns].index.values"
   ]
  },
  {
   "cell_type": "code",
   "execution_count": 54,
   "metadata": {
    "collapsed": false
   },
   "outputs": [
    {
     "data": {
      "text/plain": [
       "(261, 1)"
      ]
     },
     "execution_count": 54,
     "metadata": {},
     "output_type": "execute_result"
    }
   ],
   "source": [
    "df_v1[columns].values.shape"
   ]
  },
  {
   "cell_type": "code",
   "execution_count": null,
   "metadata": {
    "collapsed": false
   },
   "outputs": [],
   "source": [
    "df_v1.head(10)"
   ]
  },
  {
   "cell_type": "code",
   "execution_count": 24,
   "metadata": {
    "collapsed": false
   },
   "outputs": [],
   "source": [
    "test_mode = 'BaseVer01'\n",
    "data_mode = 'CA'\n",
    "\n",
    "#names of columns in a file\n",
    "names = ['N_installed', 'N_installed_sum', 'P_av_total', 'P_av']\n",
    "for i in range(3):\n",
    "    names.append('sei_markup_' + str(i))\n",
    "\n",
    "\n",
    "\n",
    "#read few files\n",
    "#save into database\n",
    "dfs_ = []\n",
    "#read last simulation result\n",
    "files = glob.glob('..\\\\..\\\\ABMIRISLab\\\\Saves\\\\Jul-20-2017\\\\BaseModel\\\\'+ test_mode + '\\\\' + data_mode + \\\n",
    "                 '\\\\*[_w].csv')\n",
    "files.sort(key=os.path.getmtime, reverse=True)\n",
    "\n",
    "#take top x files \n",
    "for file in files[0:10]:\n",
    "    df_ = pd.read_csv(file, names=names, low_memory=False, na_values = ['-nan(ind)'])\n",
    "    dfs_.append(df_)\n",
    "    \n",
    "    \n",
    "#create df from them    \n",
    "df_concat = pd.concat(dfs_)\n",
    "df_dm1 = df_concat.groupby(level=0).mean()\n",
    "df_dm1_std = df_concat.groupby(level=0).std()"
   ]
  },
  {
   "cell_type": "code",
   "execution_count": null,
   "metadata": {
    "collapsed": false
   },
   "outputs": [],
   "source": [
    "df_dm1.head(40)"
   ]
  },
  {
   "cell_type": "code",
   "execution_count": 28,
   "metadata": {
    "collapsed": true
   },
   "outputs": [],
   "source": [
    "test_mode = 'BaseVer01'\n",
    "data_mode = 'MA'\n",
    "\n",
    "#names of columns in a file\n",
    "names = ['N_installed', 'N_installed_sum', 'P_av_total', 'P_av']\n",
    "for i in range(3):\n",
    "    names.append('sei_markup_' + str(i))\n",
    "\n",
    "\n",
    "\n",
    "#read few files\n",
    "#save into database\n",
    "dfs_ = []\n",
    "#read last simulation result\n",
    "files = glob.glob('..\\\\..\\\\ABMIRISLab\\\\Saves\\\\Jul-20-2017\\\\BaseModel\\\\'+ test_mode + '\\\\' + data_mode + \\\n",
    "                 '\\\\*[_w].csv')\n",
    "files.sort(key=os.path.getmtime, reverse=True)\n",
    "\n",
    "#take top x files \n",
    "for file in files[0:10]:\n",
    "    df_ = pd.read_csv(file, names=names, low_memory=False, na_values = ['-nan(ind)'])\n",
    "    dfs_.append(df_)\n",
    "    \n",
    "    \n",
    "#create df from them    \n",
    "df_concat = pd.concat(dfs_)\n",
    "df_dm2 = df_concat.groupby(level=0).mean()\n",
    "df_dm2_std = df_concat.groupby(level=0).std()"
   ]
  },
  {
   "cell_type": "code",
   "execution_count": 43,
   "metadata": {
    "collapsed": false
   },
   "outputs": [
    {
     "data": {
      "text/plain": [
       "[<matplotlib.lines.Line2D at 0x1e27dcaacc0>,\n",
       " <matplotlib.lines.Line2D at 0x1e27dcaae48>]"
      ]
     },
     "execution_count": 43,
     "metadata": {},
     "output_type": "execute_result"
    },
    {
     "data": {
      "image/png": "[encoded data removed]",
      "text/plain": [
       "<matplotlib.figure.Figure at 0x1e27dc18ac8>"
      ]
     },
     "metadata": {},
     "output_type": "display_data"
    }
   ],
   "source": [
    "plt.plot(ind, df_dm1['N_installed_sum'][0:N_TICKS_DISPLAY], ind, df_dm2['N_installed_sum'][0:N_TICKS_DISPLAY])"
   ]
  },
  {
   "cell_type": "code",
   "execution_count": 29,
   "metadata": {
    "collapsed": true
   },
   "outputs": [],
   "source": [
    "dfs_dm = [df_dm1, df_dm2]"
   ]
  },
  {
   "cell_type": "code",
   "execution_count": 36,
   "metadata": {
    "collapsed": false
   },
   "outputs": [
    {
     "data": {
      "image/png": "[encoded data removed]",
      "text/plain": [
       "<matplotlib.figure.Figure at 0x1e27d25ac50>"
      ]
     },
     "metadata": {},
     "output_type": "display_data"
    }
   ],
   "source": [
    "data_mode = 'bm_'\n",
    "test_mode = 'inst'\n",
    "column = ['N_installed_sum']\n",
    "colors_ = ['orange', 'olive', 'khaki'] \n",
    "fig, axes_ = plt.subplots(nrows=1, ncols=1)\n",
    "fig.subplots_adjust(bottom=0.25)\n",
    "\n",
    "#if ncols = 1  - transform into list\n",
    "axes = [axes_]\n",
    "\n",
    "ind = np.arange(N_TICKS)    # the x locations for the groups\n",
    "width = 0.35       # the width of the bars: can also be len(x) sequence\n",
    "\n",
    "ind = dfs_[0].index.values[0:N_TICKS_DISPLAY] + 1\n",
    "\n",
    "lines = []\n",
    "\n",
    "markers = [\"o-\", \"^-\", \"*-\"]\n",
    "markerfacecolors = colors_\n",
    "colors = ['r', 'r', 'r']\n",
    "labels = ['CA', 'MA']\n",
    "\n",
    "for i in range(2) :\n",
    "    pi, = axes[0].plot(ind, dfs_dm[i][column][0:N_TICKS_DISPLAY], markers[i], label=labels[i])\n",
    "    pi.set_markerfacecolor(markerfacecolors[i])\n",
    "    lines.append(pi)\n",
    "    \n",
    "\n",
    "axes[0].set_xlabel(\"Time\")\n",
    "axes[0].set_ylabel(\"Installs\")\n",
    "    \n",
    "# Shrink current axis's height by 10% on the bottom\n",
    "box = axes[0].get_position()\n",
    "axes[0].set_position([box.x0, box.y0 + box.height * 0.2,\n",
    "                 box.width, box.height * 0.8])\n",
    "\n",
    "# Put a legend below current axis\n",
    "lgd = axes[0].legend(lines, [l.get_label() for l in lines], loc='lower center', bbox_to_anchor=(0.5, -0.25),\\\n",
    "          fancybox=True, shadow=True, fontsize='10', ncol = 2)\n",
    "\n",
    "\n",
    "\n",
    "\n",
    "plt.tight_layout()\n",
    "plt.savefig('Simulation_results_' + data_mode + test_mode +  '.png', dpi=300, bbox_extra_artists=(lgd,), bbox_inches='tight')\n",
    "plt.show()"
   ]
  },
  {
   "cell_type": "code",
   "execution_count": null,
   "metadata": {
    "collapsed": true
   },
   "outputs": [],
   "source": []
  },
  {
   "cell_type": "code",
   "execution_count": null,
   "metadata": {
    "collapsed": true
   },
   "outputs": [],
   "source": []
  },
  {
   "cell_type": "code",
   "execution_count": 91,
   "metadata": {
    "collapsed": false
   },
   "outputs": [
    {
     "data": {
      "image/png": "[encoded data removed]",
      "text/plain": [
       "<matplotlib.figure.Figure at 0x15f530a1908>"
      ]
     },
     "metadata": {},
     "output_type": "display_data"
    }
   ],
   "source": [
    "data_mode = 'bm_'\n",
    "test_mode = 'markups'\n",
    "\n",
    "fig, axes_ = plt.subplots(nrows=1, ncols=1)\n",
    "fig.subplots_adjust(bottom=0.25)\n",
    "#if ncols = 1  - transform into list\n",
    "axes = [axes_]\n",
    "\n",
    "axes[0].plot(dfs_[0][['sei_markup_' + str(i) for i in range(3)]])\n",
    "axes[0].plot(dfs_[1][['sei_markup_' + str(i) for i in range(3)]])\n",
    "\n",
    "\n",
    "axes[0].set_xlabel(\"Time\")\n",
    "axes[0].set_ylabel(\"Markups\")\n",
    "\n",
    "axes[0].set_ylim([0.0,2.0])\n",
    "\n",
    "plt.tight_layout()\n",
    "plt.savefig('Simulation_results_' + data_mode + test_mode +  '.png', dpi=300)\n",
    "plt.show()    "
   ]
  },
  {
   "cell_type": "code",
   "execution_count": null,
   "metadata": {
    "collapsed": false
   },
   "outputs": [],
   "source": [
    "dfs_[0].head(10)"
   ]
  },
  {
   "cell_type": "code",
   "execution_count": null,
   "metadata": {
    "collapsed": true
   },
   "outputs": [],
   "source": []
  },
  {
   "cell_type": "code",
   "execution_count": null,
   "metadata": {
    "collapsed": true
   },
   "outputs": [],
   "source": []
  },
  {
   "cell_type": "code",
   "execution_count": 79,
   "metadata": {
    "collapsed": true
   },
   "outputs": [],
   "source": [
    "#x - tick \n",
    "#y - drop outs per tick "
   ]
  },
  {
   "cell_type": "code",
   "execution_count": 54,
   "metadata": {
    "collapsed": true
   },
   "outputs": [],
   "source": [
    "N_TICKS_DISPLAY = 260"
   ]
  },
  {
   "cell_type": "code",
   "execution_count": 55,
   "metadata": {
    "collapsed": true
   },
   "outputs": [],
   "source": [
    "N_TICKS = 260"
   ]
  },
  {
   "cell_type": "code",
   "execution_count": 56,
   "metadata": {
    "collapsed": true
   },
   "outputs": [],
   "source": [
    "columns = ['EParamTypes::HOStateDroppedOutNCDecStage', \\\n",
    "            'EParamTypes::HOStateDroppedOutSEIStage',\\\n",
    "            'EParamTypes::HOStateDroppedOutDesignStage']"
   ]
  },
  {
   "cell_type": "code",
   "execution_count": 85,
   "metadata": {
    "collapsed": true
   },
   "outputs": [],
   "source": [
    "data_mode = 'bm_'\n",
    "test_mode = 'drops'\n"
   ]
  },
  {
   "cell_type": "code",
   "execution_count": 84,
   "metadata": {
    "collapsed": false
   },
   "outputs": [
    {
     "data": {
      "text/plain": [
       "[<matplotlib.lines.Line2D at 0x1c6489c0780>]"
      ]
     },
     "execution_count": 84,
     "metadata": {},
     "output_type": "execute_result"
    },
    {
     "data": {
      "image/png": "[encoded data removed]",
      "text/plain": [
       "<matplotlib.figure.Figure at 0x1c64890df98>"
      ]
     },
     "metadata": {},
     "output_type": "display_data"
    }
   ],
   "source": [
    "plt.plot(df_v1[columns[-2]][0:N_TICKS_DISPLAY])"
   ]
  },
  {
   "cell_type": "code",
   "execution_count": 59,
   "metadata": {
    "collapsed": false
   },
   "outputs": [
    {
     "name": "stdout",
     "output_type": "stream",
     "text": [
      "[(1.0, 1.0, 0.89803922176361084, 1.0), (0.9990157632266774, 0.99963091121000403, 0.89262591951033643, 1.0), (0.9980315264533548, 0.99926182242000805, 0.88721261725706213, 1.0)]\n"
     ]
    }
   ],
   "source": [
    "norm = matplotlib.colors.Normalize(vmin=0, vmax=1)\n",
    "cmap_custom = cm.get_cmap('YlGn')\n",
    "incomes = norm(range(len(columns)))\n",
    "colors_ = []\n",
    "\n",
    "i = 0\n",
    "for column in columns:\n",
    "    colors_.append(cmap_custom(i))\n",
    "    i = i + 1\n",
    "    \n",
    "print(colors_)"
   ]
  },
  {
   "cell_type": "code",
   "execution_count": 87,
   "metadata": {
    "collapsed": false
   },
   "outputs": [
    {
     "data": {
      "image/png": "[encoded data removed]",
      "text/plain": [
       "<matplotlib.figure.Figure at 0x15f52a32a58>"
      ]
     },
     "metadata": {},
     "output_type": "display_data"
    }
   ],
   "source": [
    "data_mode = 'bm_'\n",
    "test_mode = 'drops'\n",
    "fig, axes_ = plt.subplots(nrows=1, ncols=1)\n",
    "fig.subplots_adjust(bottom=0.25)\n",
    "\n",
    "#if ncols = 1  - transform into list\n",
    "axes = [axes_]\n",
    "\n",
    "axes_0_tw = axes[0].twinx()\n",
    "\n",
    "ind = np.arange(N_TICKS)    # the x locations for the groups\n",
    "width = 0.35       # the width of the bars: can also be len(x) sequence\n",
    "\n",
    "ind = df_v1.index.values[0:N_TICKS_DISPLAY] + 1\n",
    "\n",
    "lines = []\n",
    "i = 0\n",
    "\n",
    "\n",
    "markers = [\"ro\", \"r^\", \"r*\"]\n",
    "markerfacecolors = colors_\n",
    "colors = ['r', 'r', 'r']\n",
    "labels_raw = [\"nc\", \"inst\", \"sys\"]\n",
    "labels = ['low ef ' + x for x in labels_raw]\n",
    "\n",
    "for column in columns[0:2]:\n",
    "    pi, = axes[0].plot(ind, df_v1[column][0:N_TICKS_DISPLAY], markers[i], label=labels[i])\n",
    "    pi.set_markerfacecolor(markerfacecolors[i])\n",
    "    lines.append(pi)\n",
    "    i = i + 1\n",
    "    \n",
    "#plot on a separate axis\n",
    "pi, = axes_0_tw.plot(ind, df_v1[columns[-1]][0:N_TICKS_DISPLAY], markers[i], label=labels[i])\n",
    "pi.set_markerfacecolor(markerfacecolors[i])\n",
    "lines.append(pi)\n",
    "i = i + 1\n",
    "\n",
    "    \n",
    "markers = [\"go\", \"g^\", \"g*\"]\n",
    "colors = ['g', 'g', 'g']\n",
    "labels = ['high ef ' + x for x in labels_raw]\n",
    "\n",
    "i = 0\n",
    "for column in columns[0:2]:\n",
    "    pi, = axes[0].plot(ind, df_v2[column][0:N_TICKS_DISPLAY], markers[i], label=labels[i])\n",
    "    lines.append(pi)\n",
    "    i = i + 1\n",
    "    \n",
    "#plot on a separate axis\n",
    "pi, = axes_0_tw.plot(ind, df_v2[columns[-1]][0:N_TICKS_DISPLAY], markers[i], label=labels[i])\n",
    "lines.append(pi)\n",
    "i = i + 1\n",
    "    \n",
    "\n",
    "axes[0].set_xlabel(\"Time\")\n",
    "axes[0].set_ylabel(\"Dropouts\")\n",
    "\n",
    "\n",
    "#axes[0].set_autoscaley_on(False)\n",
    "axes[0].set_xlim([1,N_TICKS_DISPLAY])\n",
    "#axes_0_tw.set_ylim([0.0, 5.0])\n",
    "start = 1\n",
    "end = N_TICKS_DISPLAY\n",
    "axes[0].xaxis.set_ticks(np.arange(start, end, 25))\n",
    "\n",
    "\n",
    "\n",
    "\n",
    "# Shrink current axis's height by 10% on the bottom\n",
    "box = axes[0].get_position()\n",
    "axes[0].set_position([box.x0, box.y0 + box.height * 0.2,\n",
    "                 box.width, box.height * 0.8])\n",
    "\n",
    "# Put a legend below current axis\n",
    "lgd = axes[0].legend(lines, [l.get_label() for l in lines], loc='upper center', bbox_to_anchor=(0.5, -0.15),\\\n",
    "          fancybox=True, shadow=True, fontsize='10', ncol = 2)\n",
    "\n",
    "\n",
    "\n",
    "\n",
    "plt.tight_layout()\n",
    "plt.savefig('Simulation_results_' + data_mode + test_mode +  '.png', dpi=300, bbox_extra_artists=(lgd,), bbox_inches='tight')\n",
    "plt.show()\n"
   ]
  },
  {
   "cell_type": "code",
   "execution_count": 139,
   "metadata": {
    "collapsed": false
   },
   "outputs": [
    {
     "data": {
      "image/png": "[encoded data removed]",
      "text/plain": [
       "<matplotlib.figure.Figure at 0x1d604f9aeb8>"
      ]
     },
     "metadata": {},
     "output_type": "display_data"
    }
   ],
   "source": [
    "#number of dropouts as stacked bars\n",
    "data_mode = 'bm_'\n",
    "test_mode = 'drops'\n",
    "fig, axes_ = plt.subplots(nrows=1, ncols=1)\n",
    "fig.subplots_adjust(bottom=0.25)\n",
    "\n",
    "#if ncols = 1  - transform into list\n",
    "axes = [axes_]\n",
    "\n",
    "#axes_0_tw = axes[0].twinx()\n",
    "\n",
    "ind = np.arange(N_TICKS)    # the x locations for the groups\n",
    "width = 0.35       # the width of the bars: can also be len(x) sequence\n",
    "\n",
    "ind = df_logs.index.values[0:N_TICKS_DISPLAY] + 1\n",
    "\n",
    "lines = []\n",
    "i = 0\n",
    "\n",
    "markers = [\"ro\", \"r^\", \"r*\"]\n",
    "markerfacecolors = colors_\n",
    "colors = ['r', 'r', 'r']\n",
    "labels_raw = [\"nc\", \"inst\", \"sys\"]\n",
    "labels = ['baseline ' + x for x in labels_raw]\n",
    "data_ = []\n",
    "markers_ = []\n",
    "labels_ = []\n",
    "colors_graph_ = []\n",
    "\n",
    "for column in columns[0:3]:\n",
    "    data_.append(df_logs[column][0:N_TICKS_DISPLAY]/5000)\n",
    "    markers_.append(markers[i])\n",
    "    labels_.append(labels[i])\n",
    "    colors_graph_.append(colors_[i])\n",
    "       \n",
    "#    pi.set_markerfacecolor(markerfacecolors[i])\n",
    "#    lines.append(pi)\n",
    "    i = i + 1\n",
    "    \n",
    "pi = axes[0].stackplot(ind, data_, colors=tuple(['honeydew', 'yellowgreen', 'coral']), labels=tuple(labels_))\n",
    "    \n",
    "#plot on a separate axis\n",
    "#pi, = axes_0_tw.plot(ind, df_v1[columns[-1]][0:N_TICKS_DISPLAY], markers[i], label=labels[i])\n",
    "#pi.set_markerfacecolor(markerfacecolors[i])\n",
    "#lines.append(pi)\n",
    "#i = i + 1\n",
    "\n",
    "for pi_ in pi:\n",
    "    lines.append(pi_)\n",
    "\n",
    "    \n",
    "markers = [\"go\", \"g^\", \"g*\"]\n",
    "colors = ['g', 'g', 'g']\n",
    "labels = ['high ef ' + x for x in labels_raw]\n",
    "\n",
    "#i = 0\n",
    "#for column in columns[0:2]:\n",
    "#    pi, = axes[0].stackplot(ind, df_v2[column][0:N_TICKS_DISPLAY], markers[i], label=labels[i])\n",
    "#    lines.append(pi)\n",
    "#    i = i + 1\n",
    "    \n",
    "#plot on a separate axis\n",
    "#pi, = axes_0_tw.plot(ind, df_v2[columns[-1]][0:N_TICKS_DISPLAY], markers[i], label=labels[i])\n",
    "#lines.append(pi)\n",
    "#i = i + 1\n",
    "    \n",
    "\n",
    "axes[0].set_xlabel(\"Time\")\n",
    "axes[0].set_ylabel(\"Dropouts as a share of population\")\n",
    "\n",
    "\n",
    "#axes[0].set_autoscaley_on(False)\n",
    "axes[0].set_xlim([1,N_TICKS_DISPLAY])\n",
    "#axes_0_tw.set_ylim([0.0, 5.0])\n",
    "start = 1\n",
    "end = N_TICKS_DISPLAY\n",
    "axes[0].xaxis.set_ticks(np.arange(start, end, 25))\n",
    "\n",
    "\n",
    "\n",
    "\n",
    "# Shrink current axis's height by 10% on the bottom\n",
    "box = axes[0].get_position()\n",
    "axes[0].set_position([box.x0, box.y0 + box.height * 0.2,\n",
    "                 box.width, box.height * 0.8])\n",
    "\n",
    "# Put a legend below current axis\n",
    "lgd = axes[0].legend(lines, [l.get_label() for l in lines], loc='upper center', bbox_to_anchor=(0.5, -0.15),\\\n",
    "          fancybox=True, shadow=True, fontsize='10', ncol = 2)\n",
    "\n",
    "\n",
    "\n",
    "\n",
    "plt.tight_layout()\n",
    "plt.savefig('Simulation_results_' + data_mode + test_mode +  '.png', dpi=300, bbox_extra_artists=(lgd,), bbox_inches='tight')\n",
    "plt.show()"
   ]
  },
  {
   "cell_type": "code",
   "execution_count": 71,
   "metadata": {
    "collapsed": false
   },
   "outputs": [
    {
     "name": "stdout",
     "output_type": "stream",
     "text": [
      "[(1.0, 1.0, 0.89803922176361084, 1.0), (0.9990157632266774, 0.99963091121000403, 0.89262591951033643, 1.0), (0.9980315264533548, 0.99926182242000805, 0.88721261725706213, 1.0)]\n"
     ]
    }
   ],
   "source": [
    "print(colors_graph_)"
   ]
  },
  {
   "cell_type": "code",
   "execution_count": 115,
   "metadata": {
    "collapsed": true
   },
   "outputs": [],
   "source": [
    "#number of installations per tick"
   ]
  },
  {
   "cell_type": "code",
   "execution_count": 92,
   "metadata": {
    "collapsed": false
   },
   "outputs": [
    {
     "data": {
      "image/png": "[encoded data removed]",
      "text/plain": [
       "<matplotlib.figure.Figure at 0x15f530ed2b0>"
      ]
     },
     "metadata": {},
     "output_type": "display_data"
    }
   ],
   "source": [
    "data_mode = 'bm_'\n",
    "test_mode = 'inst'\n",
    "column = ['N_installed_sum']\n",
    "colors_ = ['orange', 'olive', 'khaki'] \n",
    "fig, axes_ = plt.subplots(nrows=1, ncols=1)\n",
    "fig.subplots_adjust(bottom=0.25)\n",
    "\n",
    "#if ncols = 1  - transform into list\n",
    "axes = [axes_]\n",
    "\n",
    "ind = np.arange(N_TICKS)    # the x locations for the groups\n",
    "width = 0.35       # the width of the bars: can also be len(x) sequence\n",
    "\n",
    "ind = dfs_[0].index.values[0:N_TICKS_DISPLAY] + 1\n",
    "\n",
    "lines = []\n",
    "\n",
    "markers = [\"o-\", \"^-\", \"*-\"]\n",
    "markerfacecolors = colors_\n",
    "colors = ['r', 'r', 'r']\n",
    "labels = ['high ef', 'low ef']\n",
    "\n",
    "for i in range(2) :\n",
    "    pi, = axes[0].plot(ind, dfs_[i][column][0:N_TICKS_DISPLAY], markers[i], label=labels[i])\n",
    "    pi.set_markerfacecolor(markerfacecolors[i])\n",
    "    lines.append(pi)\n",
    "    \n",
    "\n",
    "axes[0].set_xlabel(\"Time\")\n",
    "axes[0].set_ylabel(\"Installs\")\n",
    "    \n",
    "# Shrink current axis's height by 10% on the bottom\n",
    "box = axes[0].get_position()\n",
    "axes[0].set_position([box.x0, box.y0 + box.height * 0.2,\n",
    "                 box.width, box.height * 0.8])\n",
    "\n",
    "# Put a legend below current axis\n",
    "lgd = axes[0].legend(lines, [l.get_label() for l in lines], loc='lower center', bbox_to_anchor=(0.5, -0.25),\\\n",
    "          fancybox=True, shadow=True, fontsize='10', ncol = 2)\n",
    "\n",
    "\n",
    "\n",
    "\n",
    "plt.tight_layout()\n",
    "plt.savefig('Simulation_results_' + data_mode + test_mode +  '.png', dpi=300, bbox_extra_artists=(lgd,), bbox_inches='tight')\n",
    "plt.show()\n"
   ]
  },
  {
   "cell_type": "code",
   "execution_count": null,
   "metadata": {
    "collapsed": true
   },
   "outputs": [],
   "source": []
  },
  {
   "cell_type": "code",
   "execution_count": null,
   "metadata": {
    "collapsed": true
   },
   "outputs": [],
   "source": []
  },
  {
   "cell_type": "code",
   "execution_count": null,
   "metadata": {
    "collapsed": true
   },
   "outputs": [],
   "source": []
  },
  {
   "cell_type": "code",
   "execution_count": null,
   "metadata": {
    "collapsed": true
   },
   "outputs": [],
   "source": []
  },
  {
   "cell_type": "code",
   "execution_count": null,
   "metadata": {
    "collapsed": true
   },
   "outputs": [],
   "source": []
  },
  {
   "cell_type": "code",
   "execution_count": null,
   "metadata": {
    "collapsed": true
   },
   "outputs": [],
   "source": []
  },
  {
   "cell_type": "code",
   "execution_count": null,
   "metadata": {
    "collapsed": true
   },
   "outputs": [],
   "source": []
  },
  {
   "cell_type": "code",
   "execution_count": null,
   "metadata": {
    "collapsed": true
   },
   "outputs": [],
   "source": []
  },
  {
   "cell_type": "code",
   "execution_count": null,
   "metadata": {
    "collapsed": true
   },
   "outputs": [],
   "source": []
  },
  {
   "cell_type": "code",
   "execution_count": null,
   "metadata": {
    "collapsed": true
   },
   "outputs": [],
   "source": []
  },
  {
   "cell_type": "code",
   "execution_count": null,
   "metadata": {
    "collapsed": true
   },
   "outputs": [],
   "source": [
    "#TODO plot drop out rates per type, plot number of installations per efficiency assumption"
   ]
  },
  {
   "cell_type": "code",
   "execution_count": null,
   "metadata": {
    "collapsed": true
   },
   "outputs": [],
   "source": [
    "#shares amoung installers per type? - number of installations per installer"
   ]
  },
  {
   "cell_type": "code",
   "execution_count": null,
   "metadata": {
    "collapsed": true
   },
   "outputs": [],
   "source": [
    "#different efficiencies - number of installations - efficiency at the same price"
   ]
  },
  {
   "cell_type": "code",
   "execution_count": null,
   "metadata": {
    "collapsed": true
   },
   "outputs": [],
   "source": []
  },
  {
   "cell_type": "code",
   "execution_count": null,
   "metadata": {
    "collapsed": true
   },
   "outputs": [],
   "source": []
  },
  {
   "cell_type": "code",
   "execution_count": null,
   "metadata": {
    "collapsed": true
   },
   "outputs": [],
   "source": []
  },
  {
   "cell_type": "code",
   "execution_count": null,
   "metadata": {
    "collapsed": true
   },
   "outputs": [],
   "source": []
  },
  {
   "cell_type": "code",
   "execution_count": null,
   "metadata": {
    "collapsed": true
   },
   "outputs": [],
   "source": []
  },
  {
   "cell_type": "code",
   "execution_count": null,
   "metadata": {
    "collapsed": true
   },
   "outputs": [],
   "source": []
  },
  {
   "cell_type": "code",
   "execution_count": null,
   "metadata": {
    "collapsed": true
   },
   "outputs": [],
   "source": [
    "#read old file\n"
   ]
  },
  {
   "cell_type": "code",
   "execution_count": null,
   "metadata": {
    "collapsed": true
   },
   "outputs": [],
   "source": []
  },
  {
   "cell_type": "code",
   "execution_count": null,
   "metadata": {
    "collapsed": true
   },
   "outputs": [],
   "source": []
  },
  {
   "cell_type": "code",
   "execution_count": null,
   "metadata": {
    "collapsed": false
   },
   "outputs": [],
   "source": [
    "dir(df.index)"
   ]
  },
  {
   "cell_type": "code",
   "execution_count": null,
   "metadata": {
    "collapsed": true
   },
   "outputs": [],
   "source": []
  },
  {
   "cell_type": "code",
   "execution_count": null,
   "metadata": {
    "collapsed": true
   },
   "outputs": [],
   "source": []
  },
  {
   "cell_type": "code",
   "execution_count": 130,
   "metadata": {
    "collapsed": false
   },
   "outputs": [],
   "source": [
    "#location x, location y \n",
    "\n",
    "\n",
    "# for each line - place into location\n",
    "# average over locations\n",
    "#\n",
    "#\n",
    "\n",
    "\n",
    "\n",
    "test_mode = 'BaseVer01'\n",
    "data_mode = 'CA'\n",
    "\n",
    "#names of columns in a file\n",
    "names = ['Tick', 'Location_x', 'Location_y', 'Uid', 'Price_per_watt', 'DC_size']\n",
    "\n",
    "\n",
    "\n",
    "\n",
    "#read few files\n",
    "#save into database\n",
    "dfs_ = []\n",
    "#read last simulation result\n",
    "files = glob.glob('..\\\\..\\\\ABMIRISLab\\\\Saves\\\\Jul-20-2017\\\\BaseModel\\\\'+ test_mode + '\\\\' + data_mode + \\\n",
    "                 '\\\\*[_pr].csv')\n",
    "files.sort(key=os.path.getmtime, reverse=True)\n",
    "\n",
    "#take top x files \n",
    "for file in files[0:3]:\n",
    "    df_ = pd.read_csv(file, names=names, low_memory=False, na_values = ['-nan(ind)'])\n",
    "    dfs_.append(df_)\n",
    "\n",
    "    \n",
    "raw_data_dfs = np.zeros((len(dfs_), 10, 10))\n",
    "    \n",
    "k = 0\n",
    "for df_ in dfs_:\n",
    "    for i in range(10):\n",
    "        for j in range(10):\n",
    "            index = df_[(df_['Location_x'] == i) & \\\n",
    "                        (df_['Location_y'] == j)].index \n",
    "            raw_data_dfs[k, i, j] = df_.iloc[index].shape[0]\n",
    "            \n",
    "    k = k + 1\n",
    "    \n",
    "    raw_data = np.mean(raw_data_dfs, axis = 0)\n",
    "    \n",
    "    \n",
    "#create df from them    \n",
    "df_concat = pd.concat(dfs_)\n",
    "df_loc_dm1 = df_concat.groupby(level=0).mean()\n",
    "df_loc_dm1_std = df_concat.groupby(level=0).std()\n",
    "\n"
   ]
  },
  {
   "cell_type": "code",
   "execution_count": 131,
   "metadata": {
    "collapsed": true
   },
   "outputs": [],
   "source": [
    "dfs_agg_ = []\n",
    "for df_ in dfs_:\n",
    "\n",
    "    df_['Count'] = 1\n",
    "    grouped = df_.groupby('Uid', sort=False)\n",
    "    df_agg = grouped.agg({'Price_per_watt' : np.median,\\\n",
    "             'DC_size' : np.median, \\\n",
    "            'Count' : np.sum})\n",
    "    dfs_agg_.append(df_agg)\n",
    "    \n",
    "df_agg = pd.concat(dfs_agg_)\n",
    "df_agg_dm1 = df_agg.groupby(level=0).mean()"
   ]
  },
  {
   "cell_type": "code",
   "execution_count": 132,
   "metadata": {
    "collapsed": false
   },
   "outputs": [
    {
     "name": "stdout",
     "output_type": "stream",
     "text": [
      "     Price_per_watt      Count      DC_size\n",
      "Uid                                        \n",
      "40         4.093783  30.666667  5654.055000\n",
      "41         4.135610  45.666667  5712.533333\n",
      "42         4.014957  36.000000  6172.475000\n",
      "43         3.875968  40.000000  6095.798333\n",
      "44         3.920808  20.666667  6492.330000\n",
      "45         4.317165  41.333333  5060.870000\n",
      "46         3.835755  35.333333  6517.463333\n",
      "47         4.093145  36.666667  5520.893333\n",
      "48         4.285240  42.666667  5635.963333\n",
      "49         3.904738  37.000000  6038.530000\n"
     ]
    }
   ],
   "source": [
    "print(df_agg_dm1)"
   ]
  },
  {
   "cell_type": "code",
   "execution_count": 133,
   "metadata": {
    "collapsed": true
   },
   "outputs": [],
   "source": [
    "df_agg_dm1 = df_agg_dm1.sort_values(['Count'], ascending=[False])"
   ]
  },
  {
   "cell_type": "code",
   "execution_count": null,
   "metadata": {
    "collapsed": true
   },
   "outputs": [],
   "source": []
  },
  {
   "cell_type": "code",
   "execution_count": 134,
   "metadata": {
    "collapsed": false
   },
   "outputs": [
    {
     "data": {
      "image/png": "[encoded data removed]",
      "text/plain": [
       "<matplotlib.figure.Figure at 0x1d605457278>"
      ]
     },
     "metadata": {},
     "output_type": "display_data"
    }
   ],
   "source": [
    "fig, ax = plt.subplots()\n",
    "\n",
    "lines = []\n",
    "\n",
    "#cmap_custom = cm.get_cmap('YlGn')\n",
    "cmap_custom = cm.get_cmap('hot')\n",
    "\n",
    "#image = np.random.uniform(size=(10, 10))\n",
    "ax.imshow(raw_data, cmap=cmap_custom, interpolation='nearest')\n",
    "\n",
    "#ax.set_title('Number of installations \\n in a neighborhood')\n",
    "\n",
    "# Move left and bottom spines outward by 10 points\n",
    "ax.spines['left'].set_position(('outward', 10))\n",
    "ax.spines['bottom'].set_position(('outward', 10))\n",
    "# Hide the right and top spines\n",
    "ax.spines['right'].set_visible(False)\n",
    "ax.spines['top'].set_visible(False)\n",
    "# Only show ticks on the left and bottom spines\n",
    "ax.yaxis.set_ticks_position('left')\n",
    "ax.xaxis.set_ticks_position('bottom')\n",
    "\n",
    "labels_ = ['mi']\n",
    "xs = range(10)\n",
    "\n",
    "from matplotlib.ticker import FuncFormatter, MaxNLocator\n",
    "def format_fn(tick_val, tick_pos):\n",
    "    if int(tick_val) in xs:\n",
    "        return str(tick_val * 1.5) + ' ' + labels_[0]\n",
    "    else:\n",
    "        return ''\n",
    "\n",
    "\n",
    "ax.xaxis.set_major_formatter(FuncFormatter(format_fn))\n",
    "ax.yaxis.set_major_formatter(FuncFormatter(format_fn))\n",
    "\n",
    "ax.grid(False)\n",
    "\n",
    "\n",
    "\n",
    "\n",
    "handles, labels = ax.get_legend_handles_labels()\n",
    "\n",
    "# Put a legend below current axis\n",
    "#lgd = ax.legend(handles, ['test'], loc='lower center', bbox_to_anchor=(0.5, -0.25),\\\n",
    "#          fancybox=True, shadow=True, fontsize='10', ncol = 2)\n",
    "\n",
    "\n",
    "plt.tight_layout()\n",
    "data_mode = 'test'\n",
    "plt.savefig('Simulation_results_spatial_' + data_mode + '.png', dpi=300)\n",
    "\n",
    "plt.show()\n",
    "\n"
   ]
  },
  {
   "cell_type": "code",
   "execution_count": null,
   "metadata": {
    "collapsed": true
   },
   "outputs": [],
   "source": [
    "# each uid has price per watt and size\n",
    "# group by? average size and price per watt \n",
    "#\n",
    "\n",
    "\n",
    "\n"
   ]
  },
  {
   "cell_type": "code",
   "execution_count": 135,
   "metadata": {
    "collapsed": false
   },
   "outputs": [
    {
     "data": {
      "image/png": "[encoded data removed]",
      "text/plain": [
       "<matplotlib.figure.Figure at 0x1d604d40dd8>"
      ]
     },
     "metadata": {},
     "output_type": "display_data"
    }
   ],
   "source": [
    "N = 10\n",
    "\n",
    "\n",
    "\n",
    "\n",
    "\n",
    "x = df_agg_dm1['DC_size']/1000\n",
    "y = df_agg_dm1['Price_per_watt']\n",
    "norm = matplotlib.colors.Normalize(vmin=df_agg_dm1['Count'].values[N-1], vmax=df_agg_dm1['Count'].values[0])\n",
    "cmap_custom = cm.get_cmap('Spectral')\n",
    "area = norm(df_agg_dm1['Count'])\n",
    "color = []\n",
    "\n",
    "for area_x in area:\n",
    "    color.append(cmap_custom(area_x/2))\n",
    "    \n",
    "#color[1] = (0.0, 0.65, 0.75, 1.0)\n",
    "    \n",
    "fig = plt.figure()\n",
    "ax = fig.add_subplot(1,1,1)\n",
    "ax.set_xlabel('DC size')\n",
    "ax.set_ylabel('Price Per Watt')\n",
    "\n",
    "#ax.set_autoscaley_on(False)\n",
    "#ax.set_xlim([0,0.2])\n",
    "#ax.set_ylim([0,5])\n",
    "    \n",
    "#plt.xlabel('Price Per Watt')\n",
    "#plt.ylabel('System Size AC')\n",
    "#plt.title('Number of Installations Per Company')\n",
    "\n",
    "ax.scatter(x, y, s=df_agg_dm1['Count'],  c = color )\n",
    "handles, labels = ax.get_legend_handles_labels()\n",
    "\n",
    "\n",
    "#names are here\n",
    "#df_agg.index.values[0:3]\n",
    "\n",
    "#colors are here\n",
    "#color[0:3]\n",
    "\n",
    "artists = []\n",
    "labels = []\n",
    "\n",
    "#create custom artists\n",
    "#for i in range(3):\n",
    "#    artists.append(mpatches.Circle((0, 0), 1.0, facecolor=color[i]))\n",
    "#    labels.append(df_agg_dm1.index.values[i])\n",
    "\n",
    "artists.append(mpatches.Circle((0, 0), 1.0, facecolor=color[-1]))\n",
    "labels.append('min N installs')\n",
    "artists.append(mpatches.Circle((0, 0), 1.0, facecolor=color[0]))\n",
    "labels.append('max N installs')\n",
    "    \n",
    "\n",
    "class HandlerEllipse(HandlerPatch):\n",
    "    def create_artists(self, legend, orig_handle,\n",
    "                       xdescent, ydescent, width, height, fontsize, trans):\n",
    "        center = 0.5 * width - 0.5 * xdescent, 0.5 * height - 0.5 * ydescent\n",
    "        p = mpatches.Circle(xy=center, radius=width/10)\n",
    "        self.update_prop(p, orig_handle, legend)\n",
    "        p.set_transform(trans)\n",
    "        return [p]\n",
    "    \n",
    "\n",
    "#Create legend from custom artist/label lists\n",
    "ax.legend(artists,\n",
    "          labels,\n",
    "         handler_map={mpatches.Circle: HandlerEllipse()}, bbox_to_anchor=(0.9, 0.9),\n",
    "           bbox_transform=plt.gcf().transFigure, fontsize=5\n",
    "         )\n",
    "\n",
    "\n",
    "\n",
    "#plt.scatter(x, y, s=df_agg_top['Count'],  c = color )\n",
    "data_mode = 'test'\n",
    "plt.savefig('Simulation_results_installers_' + data_mode + '.png', dpi=300)\n",
    "plt.show()"
   ]
  },
  {
   "cell_type": "code",
   "execution_count": 9,
   "metadata": {
    "collapsed": true
   },
   "outputs": [],
   "source": [
    "def create_fake_data():\n",
    "    #data_column_names\n",
    "    data_columns = {'Efficiency_of_panel':[],\\\n",
    "                   'Count':[],\\\n",
    "                   'Price_per_watt':[]}\n",
    "    \n",
    "    data_columns['Efficiency_of_panel'] = np.random.uniform(size=(100)) * 0.18\n",
    "    data_columns['Count'] = np.random.uniform(size=(100)) * 100\n",
    "    data_columns['Price_per_watt'] = np.random.uniform(size=(100)) * 4\n",
    "    \n",
    "    \n",
    "    \n",
    "    return data_columns\n"
   ]
  },
  {
   "cell_type": "code",
   "execution_count": 11,
   "metadata": {
    "collapsed": false
   },
   "outputs": [],
   "source": [
    "#fake data\n",
    "data_columns = create_fake_data()\n",
    "df_agg_top = pd.DataFrame(\n",
    "data_columns\n",
    ")\n",
    "df_agg_top.index.name = 'installer'\n"
   ]
  },
  {
   "cell_type": "code",
   "execution_count": 18,
   "metadata": {
    "collapsed": false
   },
   "outputs": [
    {
     "data": {
      "image/png": "[encoded data removed]",
      "text/plain": [
       "<matplotlib.figure.Figure at 0x1c5b6176c18>"
      ]
     },
     "metadata": {},
     "output_type": "display_data"
    }
   ],
   "source": [
    "N = 100\n",
    "\n",
    "\n",
    "\n",
    "\n",
    "\n",
    "x = df_agg_top['Efficiency_of_panel']\n",
    "y = df_agg_top['Price_per_watt']\n",
    "norm = matplotlib.colors.Normalize(vmin=df_agg_top['Count'][N-1], vmax=df_agg_top['Count'][0])\n",
    "cmap_custom = cm.get_cmap('YlGn')\n",
    "area = norm(df_agg_top['Count'])\n",
    "color = []\n",
    "\n",
    "for area_x in area:\n",
    "    color.append(cmap_custom(area_x/2))\n",
    "    \n",
    "#color[1] = (0.0, 0.65, 0.75, 1.0)\n",
    "    \n",
    "fig = plt.figure()\n",
    "ax = fig.add_subplot(1,1,1)\n",
    "ax.set_xlabel('Efficiency of PV panel')\n",
    "ax.set_ylabel('Price Per Watt')\n",
    "\n",
    "ax.set_autoscaley_on(False)\n",
    "ax.set_xlim([0,0.2])\n",
    "ax.set_ylim([0,5])\n",
    "    \n",
    "#plt.xlabel('Price Per Watt')\n",
    "#plt.ylabel('System Size AC')\n",
    "#plt.title('Number of Installations Per Company')\n",
    "\n",
    "ax.scatter(x, y, s=df_agg_top['Count'],  c = color )\n",
    "handles, labels = ax.get_legend_handles_labels()\n",
    "\n",
    "\n",
    "#names are here\n",
    "#df_agg.index.values[0:3]\n",
    "\n",
    "#colors are here\n",
    "#color[0:3]\n",
    "\n",
    "artists = []\n",
    "labels = []\n",
    "\n",
    "#create custom artists\n",
    "for i in range(3):\n",
    "    artists.append(mpatches.Circle((0, 0), 1.0, facecolor=color[i]))\n",
    "    labels.append(df_agg_top.index.values[i])\n",
    "\n",
    "\n",
    "class HandlerEllipse(HandlerPatch):\n",
    "    def create_artists(self, legend, orig_handle,\n",
    "                       xdescent, ydescent, width, height, fontsize, trans):\n",
    "        center = 0.5 * width - 0.5 * xdescent, 0.5 * height - 0.5 * ydescent\n",
    "        p = mpatches.Circle(xy=center, radius=width/10)\n",
    "        self.update_prop(p, orig_handle, legend)\n",
    "        p.set_transform(trans)\n",
    "        return [p]\n",
    "    \n",
    "\n",
    "#Create legend from custom artist/label lists\n",
    "ax.legend(artists,\n",
    "          labels,\n",
    "         handler_map={mpatches.Circle: HandlerEllipse()}, bbox_to_anchor=(0.9, 0.9),\n",
    "           bbox_transform=plt.gcf().transFigure, fontsize=5\n",
    "         )\n",
    "\n",
    "\n",
    "\n",
    "#plt.scatter(x, y, s=df_agg_top['Count'],  c = color )\n",
    "data_mode = 'test'\n",
    "plt.savefig('Simulation_results_installers_' + data_mode + '.png', dpi=300)\n",
    "plt.show()"
   ]
  },
  {
   "cell_type": "code",
   "execution_count": null,
   "metadata": {
    "collapsed": true
   },
   "outputs": [],
   "source": []
  },
  {
   "cell_type": "code",
   "execution_count": null,
   "metadata": {
    "collapsed": true
   },
   "outputs": [],
   "source": []
  },
  {
   "cell_type": "code",
   "execution_count": null,
   "metadata": {
    "collapsed": true
   },
   "outputs": [],
   "source": []
  },
  {
   "cell_type": "code",
   "execution_count": null,
   "metadata": {
    "collapsed": true
   },
   "outputs": [],
   "source": []
  },
  {
   "cell_type": "code",
   "execution_count": null,
   "metadata": {
    "collapsed": true
   },
   "outputs": [],
   "source": []
  },
  {
   "cell_type": "code",
   "execution_count": null,
   "metadata": {
    "collapsed": true
   },
   "outputs": [],
   "source": []
  },
  {
   "cell_type": "code",
   "execution_count": null,
   "metadata": {
    "collapsed": true
   },
   "outputs": [],
   "source": []
  },
  {
   "cell_type": "code",
   "execution_count": null,
   "metadata": {
    "collapsed": true
   },
   "outputs": [],
   "source": []
  },
  {
   "cell_type": "code",
   "execution_count": null,
   "metadata": {
    "collapsed": true
   },
   "outputs": [],
   "source": []
  },
  {
   "cell_type": "code",
   "execution_count": null,
   "metadata": {
    "collapsed": true
   },
   "outputs": [],
   "source": []
  }
 ],
 "metadata": {
  "anaconda-cloud": {},
  "kernelspec": {
   "display_name": "Python [conda env:aimacro]",
   "language": "python",
   "name": "conda-env-aimacro-py"
  },
  "language_info": {
   "codemirror_mode": {
    "name": "ipython",
    "version": 3
   },
   "file_extension": ".py",
   "mimetype": "text/x-python",
   "name": "python",
   "nbconvert_exporter": "python",
   "pygments_lexer": "ipython3",
   "version": "3.5.2"
  }
 },
 "nbformat": 4,
 "nbformat_minor": 1
}
