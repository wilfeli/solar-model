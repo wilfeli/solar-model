{
 "cells": [
  {
   "cell_type": "code",
   "execution_count": 1,
   "metadata": {
    "collapsed": true
   },
   "outputs": [],
   "source": [
    "import json\n",
    "from pprint import pprint\n",
    "import pandas as pd\n",
    "import numpy as np\n",
    "%matplotlib inline\n",
    "import matplotlib.pyplot as plt\n",
    "from matplotlib import cm\n",
    "import matplotlib.patches as mpatches\n",
    "import matplotlib\n",
    "matplotlib.style.use('ggplot')\n",
    "#ols models\n",
    "import statsmodels.formula.api as sm\n",
    "from patsy import dmatrices\n",
    "import re\n",
    "import scipy as sp\n",
    "from tools import print_columns\n",
    "import csv\n",
    "import json"
   ]
  },
  {
   "cell_type": "code",
   "execution_count": 2,
   "metadata": {
    "collapsed": true
   },
   "outputs": [],
   "source": [
    "#Initialization of distributions\n"
   ]
  },
  {
   "cell_type": "code",
   "execution_count": 3,
   "metadata": {
    "collapsed": false
   },
   "outputs": [],
   "source": [
    "#read data\n",
    "df_full = pd.read_csv(\"../../Data/recs2009_public.csv\", low_memory=False)"
   ]
  },
  {
   "cell_type": "code",
   "execution_count": 4,
   "metadata": {
    "collapsed": false
   },
   "outputs": [
    {
     "data": {
      "text/plain": [
       "(12083, 931)"
      ]
     },
     "execution_count": 4,
     "metadata": {},
     "output_type": "execute_result"
    }
   ],
   "source": [
    "df_full.shape"
   ]
  },
  {
   "cell_type": "code",
   "execution_count": 5,
   "metadata": {
    "collapsed": false
   },
   "outputs": [
    {
     "data": {
      "text/plain": [
       "1    8140\n",
       "2    3801\n",
       "3     142\n",
       "Name: KOWNRENT, dtype: int64"
      ]
     },
     "execution_count": 5,
     "metadata": {},
     "output_type": "execute_result"
    }
   ],
   "source": [
    "df_full['KOWNRENT'].value_counts()"
   ]
  },
  {
   "cell_type": "code",
   "execution_count": 6,
   "metadata": {
    "collapsed": false
   },
   "outputs": [],
   "source": [
    "index = df_full[(df_full['KOWNRENT'] ==1)].index"
   ]
  },
  {
   "cell_type": "code",
   "execution_count": 7,
   "metadata": {
    "collapsed": false
   },
   "outputs": [
    {
     "data": {
      "text/plain": [
       "Int64Index([    0,     3,     4,     5,     6,     7,     8,     9,    11,\n",
       "               15,\n",
       "            ...\n",
       "            12071, 12072, 12073, 12074, 12075, 12077, 12078, 12080, 12081,\n",
       "            12082],\n",
       "           dtype='int64', length=8140)"
      ]
     },
     "execution_count": 7,
     "metadata": {},
     "output_type": "execute_result"
    }
   ],
   "source": [
    "index"
   ]
  },
  {
   "cell_type": "code",
   "execution_count": 8,
   "metadata": {
    "collapsed": true
   },
   "outputs": [],
   "source": [
    "df = df_full.iloc[index][['MONEYPY', 'TOTSQFT', 'KWH', 'DOLLAREL', 'ONSITE', \\\n",
    "                          'ONSITEGRID', 'USESOLAR', 'TREESHAD', \\\n",
    "                         'YEARMADERANGE', 'ROOFTYPE']]"
   ]
  },
  {
   "cell_type": "code",
   "execution_count": 7,
   "metadata": {
    "collapsed": false
   },
   "outputs": [
    {
     "data": {
      "text/plain": [
       "array([[<matplotlib.axes._subplots.AxesSubplot object at 0x10a98e0b8>]], dtype=object)"
      ]
     },
     "execution_count": 7,
     "metadata": {},
     "output_type": "execute_result"
    },
    {
     "data": {
      "image/png": "[encoded data removed]",
      "text/plain": [
       "<matplotlib.figure.Figure at 0x10a2bd978>"
      ]
     },
     "metadata": {},
     "output_type": "display_data"
    }
   ],
   "source": [
    "pd.DataFrame.hist(df_full.iloc[index], column='TOTSQFT', bins = 100)"
   ]
  },
  {
   "cell_type": "code",
   "execution_count": 24,
   "metadata": {
    "collapsed": false
   },
   "outputs": [],
   "source": [
    "bins_TOTSQFT = [0.0, 250.0, 500.0, 750.0, 1000.0, 1250.0, 1500.0, 1750.0, 2000.0, 2250.0, 2500.0, 2750.0, 3000.0, \\\n",
    "                3250.0, 3500.0, 3750.0, 4000.0, 4250.0, \\\n",
    "                4500.0, 4750.0, 5000.0, 5500.0, 6000.0, 6500.0, 7000.0, 16122.0]"
   ]
  },
  {
   "cell_type": "code",
   "execution_count": 25,
   "metadata": {
    "collapsed": false
   },
   "outputs": [
    {
     "data": {
      "text/plain": [
       "array([[<matplotlib.axes._subplots.AxesSubplot object at 0x116c1f400>]], dtype=object)"
      ]
     },
     "execution_count": 25,
     "metadata": {},
     "output_type": "execute_result"
    },
    {
     "data": {
      "image/png": "[encoded data removed]",
      "text/plain": [
       "<matplotlib.figure.Figure at 0x116c71be0>"
      ]
     },
     "metadata": {},
     "output_type": "display_data"
    }
   ],
   "source": [
    "pd.DataFrame.hist(df_full.iloc[index], column='TOTSQFT', bins = bins_TOTSQFT)"
   ]
  },
  {
   "cell_type": "code",
   "execution_count": null,
   "metadata": {
    "collapsed": true
   },
   "outputs": [],
   "source": []
  },
  {
   "cell_type": "code",
   "execution_count": null,
   "metadata": {
    "collapsed": true
   },
   "outputs": [],
   "source": []
  },
  {
   "cell_type": "code",
   "execution_count": null,
   "metadata": {
    "collapsed": true
   },
   "outputs": [],
   "source": []
  },
  {
   "cell_type": "code",
   "execution_count": null,
   "metadata": {
    "collapsed": true
   },
   "outputs": [],
   "source": []
  },
  {
   "cell_type": "code",
   "execution_count": 26,
   "metadata": {
    "collapsed": false
   },
   "outputs": [],
   "source": [
    "df['TOTSQFT_C'] = pd.cut(df_full.iloc[index]['TOTSQFT'], bins = bins_TOTSQFT, labels = False, retbins=True)[0]"
   ]
  },
  {
   "cell_type": "code",
   "execution_count": 27,
   "metadata": {
    "collapsed": false
   },
   "outputs": [
    {
     "data": {
      "text/plain": [
       "8     751\n",
       "7     745\n",
       "9     677\n",
       "6     643\n",
       "5     629\n",
       "10    606\n",
       "4     520\n",
       "11    505\n",
       "12    418\n",
       "3     393\n",
       "13    343\n",
       "14    276\n",
       "15    257\n",
       "16    228\n",
       "17    182\n",
       "20    162\n",
       "2     139\n",
       "18    136\n",
       "19    129\n",
       "24    125\n",
       "21    111\n",
       "22     90\n",
       "23     46\n",
       "1      23\n",
       "0       6\n",
       "Name: TOTSQFT_C, dtype: int64"
      ]
     },
     "execution_count": 27,
     "metadata": {},
     "output_type": "execute_result"
    }
   ],
   "source": [
    "df['TOTSQFT_C'].value_counts() "
   ]
  },
  {
   "cell_type": "code",
   "execution_count": 10,
   "metadata": {
    "collapsed": false
   },
   "outputs": [
    {
     "data": {
      "text/plain": [
       "array([[<matplotlib.axes._subplots.AxesSubplot object at 0x109ec6e80>]], dtype=object)"
      ]
     },
     "execution_count": 10,
     "metadata": {},
     "output_type": "execute_result"
    },
    {
     "data": {
      "image/png": "[encoded data removed]",
      "text/plain": [
       "<matplotlib.figure.Figure at 0x109a9f978>"
      ]
     },
     "metadata": {},
     "output_type": "display_data"
    }
   ],
   "source": [
    "pd.DataFrame.hist(df_full.iloc[index], column='KWH', bins = 100)"
   ]
  },
  {
   "cell_type": "code",
   "execution_count": 73,
   "metadata": {
    "collapsed": false
   },
   "outputs": [],
   "source": [
    "division_KWH = [0.0, 0.25e+04, 0.5e+04, 0.75e+04, 1.0e+04, 1.25e+04, 1.5e+04, 1.75e+04, 2.0e+04, 2.25e+04,\\\n",
    "                2.5e+04, 3.0e+04, 3.5e+04, 4.0e+04,  \\\n",
    "                5.0e+04, 7.5e+04, 1.0e+05]"
   ]
  },
  {
   "cell_type": "code",
   "execution_count": 74,
   "metadata": {
    "collapsed": false
   },
   "outputs": [
    {
     "data": {
      "text/plain": [
       "array([[<matplotlib.axes._subplots.AxesSubplot object at 0x11898fac8>]], dtype=object)"
      ]
     },
     "execution_count": 74,
     "metadata": {},
     "output_type": "execute_result"
    },
    {
     "data": {
      "image/png": "[encoded data removed]",
      "text/plain": [
       "<matplotlib.figure.Figure at 0x117923ba8>"
      ]
     },
     "metadata": {},
     "output_type": "display_data"
    }
   ],
   "source": [
    "pd.DataFrame.hist(df_full.iloc[index], column='KWH', bins = division_KWH)"
   ]
  },
  {
   "cell_type": "code",
   "execution_count": null,
   "metadata": {
    "collapsed": true
   },
   "outputs": [],
   "source": []
  },
  {
   "cell_type": "code",
   "execution_count": null,
   "metadata": {
    "collapsed": true
   },
   "outputs": [],
   "source": []
  },
  {
   "cell_type": "code",
   "execution_count": 75,
   "metadata": {
    "collapsed": true
   },
   "outputs": [],
   "source": [
    "df['KWH_C'] = pd.cut(df_full.iloc[index]['KWH'], bins = division_KWH, labels = False, retbins=True)[0]"
   ]
  },
  {
   "cell_type": "code",
   "execution_count": 76,
   "metadata": {
    "collapsed": false
   },
   "outputs": [
    {
     "data": {
      "text/plain": [
       "2     1342\n",
       "3     1301\n",
       "4     1193\n",
       "5      922\n",
       "1      779\n",
       "6      667\n",
       "7      525\n",
       "8      423\n",
       "10     305\n",
       "9      263\n",
       "0      146\n",
       "11     143\n",
       "12      60\n",
       "13      44\n",
       "14      25\n",
       "15       1\n",
       "Name: KWH_C, dtype: int64"
      ]
     },
     "execution_count": 76,
     "metadata": {},
     "output_type": "execute_result"
    }
   ],
   "source": [
    "df['KWH_C'].value_counts()"
   ]
  },
  {
   "cell_type": "code",
   "execution_count": 80,
   "metadata": {
    "collapsed": false
   },
   "outputs": [],
   "source": [
    "#create json with parameters of a distribution \n",
    "#create list with bins ends and add inf right end\n",
    "bins_TOTSQFT_params = bins_TOTSQFT[:-1]\n",
    "bins_TOTSQFT_params.append(np.inf)\n",
    "\n",
    "bins_KWH_params = division_KWH[:-1]\n",
    "bins_KWH_params.append(np.inf)\n",
    "\n",
    "params = []\n",
    "\n",
    "#house size\n",
    "params.append({'name':'house_size','type':'continuous','N_BINS':len(bins_TOTSQFT_params) - 1,\\\n",
    "                      'BIN_ENDS':bins_TOTSQFT_params, 'representation':'binned'})\n",
    "params[-1]['values'] = list(range(0,params[-1]['N_BINS']))\n",
    "\n",
    "\n",
    "#house age\n",
    "params.append({'name':'house_age', 'type':'continuous', \\\n",
    "               'BIN_ENDS':[0, 5, 10, 20, 30, 40, 50, 60, np.inf],\\\n",
    "                      'representation':'binned',\\\n",
    "                      'values':[8, 7, 6, 5, 4, 3, 2, 1]})\n",
    "params[-1]['N_BINS'] = len(params[-1]['values'])\n",
    "\n",
    "\n",
    "#rooftype\n",
    "params.append({'name':'roof_type', 'type':'discrete',\\\n",
    "                     'representation':'discrete'})\n",
    "params[-1]['values'] = list(range(1, 9))\n",
    "params[-1]['values'].append(-2)\n",
    "params[-1]['N_BINS'] = len(params[-1]['values'])\n",
    "\n",
    "\n",
    "#tree shade\n",
    "params.append({'name':'tree_shade', 'type':'discrete', \\\n",
    "              'values':[0, 1], 'representation':'discrete'})\n",
    "params[-1]['N_BINS'] = len(params[-1]['values'])\n",
    "\n",
    "\n",
    "#gross household income\n",
    "params.append({'name':'income', 'type':'continuous', 'representation':'binned', \\\n",
    "               'BIN_ENDS':[0, 2499, 4999, 7499, 9999, 14999, 19999, 24999, 29999, 34999, 39999, \\\n",
    "                          44999, 49999, 54999, 59999, 64999, 69999, 74999, 79999, 84999, 89999, \\\n",
    "                          94999, 99999, 119999, np.inf]})\n",
    "\n",
    "params[-1]['N_BINS'] = len(params[-1]['BIN_ENDS']) - 1\n",
    "params[-1]['values'] = list(range(1,params[-1]['N_BINS'] + 1))\n",
    "\n",
    "\n",
    "#total electricity usage\n",
    "params.append({'name':'electricity', 'type':'continuous', 'representation':'binned', \\\n",
    "              'BIN_ENDS':bins_KWH_params, 'N_BINS':len(bins_KWH_params) - 1})\n",
    "params[-1]['values'] = list(range(0,params[-1]['N_BINS']))"
   ]
  },
  {
   "cell_type": "code",
   "execution_count": 81,
   "metadata": {
    "collapsed": false
   },
   "outputs": [],
   "source": [
    "with open('distribution_hh_v2.json', 'w') as outfile:\n",
    "    json.dump(params, outfile)"
   ]
  },
  {
   "cell_type": "code",
   "execution_count": 82,
   "metadata": {
    "collapsed": false
   },
   "outputs": [],
   "source": [
    "df_save = df[['TOTSQFT_C', 'YEARMADERANGE', 'ROOFTYPE', 'TREESHAD', 'MONEYPY', 'KWH_C']]"
   ]
  },
  {
   "cell_type": "code",
   "execution_count": 83,
   "metadata": {
    "collapsed": true
   },
   "outputs": [],
   "source": [
    "#sort dataframe\n",
    "df_save = df_save.sort_values(by=['TOTSQFT_C', 'YEARMADERANGE', 'ROOFTYPE', \\\n",
    "                                  'TREESHAD', 'MONEYPY', 'KWH_C'])"
   ]
  },
  {
   "cell_type": "code",
   "execution_count": 84,
   "metadata": {
    "collapsed": true
   },
   "outputs": [],
   "source": [
    "df_save.to_csv('joint_distribution_hh_v2.csv')"
   ]
  },
  {
   "cell_type": "code",
   "execution_count": null,
   "metadata": {
    "collapsed": true
   },
   "outputs": [],
   "source": []
  },
  {
   "cell_type": "code",
   "execution_count": null,
   "metadata": {
    "collapsed": false
   },
   "outputs": [],
   "source": []
  },
  {
   "cell_type": "code",
   "execution_count": null,
   "metadata": {
    "collapsed": true
   },
   "outputs": [],
   "source": []
  },
  {
   "cell_type": "code",
   "execution_count": null,
   "metadata": {
    "collapsed": true
   },
   "outputs": [],
   "source": []
  },
  {
   "cell_type": "code",
   "execution_count": null,
   "metadata": {
    "collapsed": true
   },
   "outputs": [],
   "source": []
  },
  {
   "cell_type": "code",
   "execution_count": null,
   "metadata": {
    "collapsed": true
   },
   "outputs": [],
   "source": []
  },
  {
   "cell_type": "code",
   "execution_count": null,
   "metadata": {
    "collapsed": true
   },
   "outputs": [],
   "source": []
  },
  {
   "cell_type": "code",
   "execution_count": null,
   "metadata": {
    "collapsed": true
   },
   "outputs": [],
   "source": []
  }
 ],
 "metadata": {
  "kernelspec": {
   "display_name": "Python [default]",
   "language": "python",
   "name": "python3"
  },
  "language_info": {
   "codemirror_mode": {
    "name": "ipython",
    "version": 3
   },
   "file_extension": ".py",
   "mimetype": "text/x-python",
   "name": "python",
   "nbconvert_exporter": "python",
   "pygments_lexer": "ipython3",
   "version": "3.5.2"
  }
 },
 "nbformat": 4,
 "nbformat_minor": 0
}
