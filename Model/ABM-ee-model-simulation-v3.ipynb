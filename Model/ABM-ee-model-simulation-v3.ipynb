{
 "cells": [
  {
   "cell_type": "code",
   "execution_count": 1,
   "metadata": {
    "collapsed": true
   },
   "outputs": [],
   "source": [
    "import ctypes\n",
    "import os\n",
    "import threading\n",
    "import pandas as pd\n",
    "import numpy as np\n",
    "%matplotlib inline\n",
    "import matplotlib.pyplot as plt\n",
    "import matplotlib\n",
    "from matplotlib import cm\n",
    "matplotlib.style.use('ggplot')\n",
    "import math\n",
    "import concurrent.futures\n",
    "import glob\n",
    "import json\n",
    "import scipy as sp\n",
    "import scipy.special\n",
    "from matplotlib.ticker import FormatStrFormatter\n",
    "import subprocess\n",
    "import random"
   ]
  },
  {
   "cell_type": "markdown",
   "metadata": {},
   "source": [
    "#changes to the file \n",
    "soft costs +- 50%\n",
    "WorldSettings::instance().params_exog[EParamTypes::LaborPrice] w.json\n",
    "\n",
    "\n",
    "hard costs +- 50%\n",
    "\"p_per_watt\" sem.json  0.325 0.65 0.975\n",
    "\n",
    "\n",
    "roof size - formula\n",
    "0.25 0.5 0.75\n",
    "\n",
    "\n",
    "utility theta_3 0.25 0.5 0.75\n",
    "\n",
    "\n",
    "eff \n",
    "0.8 0.16 0.24\n",
    "costs =  0.975  0.65 0.325\n",
    "\n",
    "reliab\n",
    "0.1 0.2 0.3\n",
    "\n",
    "N\n",
    "25000 50000 75000 \n",
    "\n",
    "\n",
    "solar irradiation \n",
    "3 6 9\n",
    "\n",
    "\n",
    "maintenance cost\n",
    "80 160 240\n",
    "\n",
    "\n",
    "propensity to switch firm\n",
    "0.5\n",
    "0.125\n",
    "0.75\n",
    "0.25\n",
    "\n",
    "\n",
    "\n",
    "1\n",
    "0.25\n",
    "1.5\n",
    "0.5\n",
    "\n",
    "\n",
    "1.5\n",
    "0.375\n",
    "2.25\n",
    "0.75\n",
    "\n",
    "\n"
   ]
  },
  {
   "cell_type": "code",
   "execution_count": 17,
   "metadata": {
    "collapsed": false
   },
   "outputs": [
    {
     "data": {
      "text/plain": [
       "0.24"
      ]
     },
     "execution_count": 17,
     "metadata": {},
     "output_type": "execute_result"
    }
   ],
   "source": [
    "0.16*1.5"
   ]
  },
  {
   "cell_type": "code",
   "execution_count": 23,
   "metadata": {
    "collapsed": false
   },
   "outputs": [
    {
     "ename": "FileNotFoundError",
     "evalue": "[Errno 2] No such file or directory: '..\\\\..\\\\ABMIRISLab\\\\Examples\\\\EEModel_Jul-12-2018\\\\RelBaseLearn08\\\\CA\\\\eemodel.model'",
     "output_type": "error",
     "traceback": [
      "\u001b[0;31m---------------------------------------------------------------------------\u001b[0m",
      "\u001b[0;31mFileNotFoundError\u001b[0m                         Traceback (most recent call last)",
      "\u001b[0;32m<ipython-input-23-653e8d74c1f9>\u001b[0m in \u001b[0;36m<module>\u001b[0;34m()\u001b[0m\n\u001b[1;32m     19\u001b[0m         \u001b[1;31m#'mode=NEW'\u001b[0m\u001b[1;33m\u001b[0m\u001b[1;33m\u001b[0m\u001b[0m\n\u001b[1;32m     20\u001b[0m \u001b[1;33m\u001b[0m\u001b[0m\n\u001b[0;32m---> 21\u001b[0;31m         \u001b[1;32mwith\u001b[0m \u001b[0mopen\u001b[0m\u001b[1;33m(\u001b[0m\u001b[0mmodel_file\u001b[0m\u001b[1;33m,\u001b[0m \u001b[1;34m'w'\u001b[0m\u001b[1;33m)\u001b[0m \u001b[1;32mas\u001b[0m \u001b[0mmodel_file_\u001b[0m\u001b[1;33m:\u001b[0m\u001b[1;33m\u001b[0m\u001b[0m\n\u001b[0m\u001b[1;32m     22\u001b[0m             \u001b[0mmodel_file_\u001b[0m\u001b[1;33m.\u001b[0m\u001b[0mwrite\u001b[0m\u001b[1;33m(\u001b[0m\u001b[1;34m'path_to_save={}\\n'\u001b[0m\u001b[1;33m.\u001b[0m\u001b[0mformat\u001b[0m\u001b[1;33m(\u001b[0m\u001b[0msave_path\u001b[0m\u001b[1;33m)\u001b[0m\u001b[1;33m)\u001b[0m\u001b[1;33m\u001b[0m\u001b[0m\n\u001b[1;32m     23\u001b[0m             \u001b[0mmodel_file_\u001b[0m\u001b[1;33m.\u001b[0m\u001b[0mwrite\u001b[0m\u001b[1;33m(\u001b[0m\u001b[1;34m'mode={}\\n'\u001b[0m\u001b[1;33m.\u001b[0m\u001b[0mformat\u001b[0m\u001b[1;33m(\u001b[0m\u001b[1;34m'NEW'\u001b[0m\u001b[1;33m)\u001b[0m\u001b[1;33m)\u001b[0m\u001b[1;33m\u001b[0m\u001b[0m\n",
      "\u001b[0;31mFileNotFoundError\u001b[0m: [Errno 2] No such file or directory: '..\\\\..\\\\ABMIRISLab\\\\Examples\\\\EEModel_Jul-12-2018\\\\RelBaseLearn08\\\\CA\\\\eemodel.model'"
     ]
    }
   ],
   "source": [
    "#for test_mode in ['RelBaseLearn08', 'RelMeanLearn08', 'RelPastLearn08']:\n",
    "for test_mode in ['RelBaseLearn08']:\n",
    "    for data_mode in ['CA']:\n",
    "\n",
    "        file = '..\\\\..\\\\ABMIRISLab\\\\Examples\\\\EEModel_Jul-12-2018\\\\' + test_mode + '\\\\' + data_mode + '\\\\w.json'\n",
    "\n",
    "\n",
    "        mode=\"NEW\"\n",
    "        model_file='..\\\\..\\\\ABMIRISLab\\\\Examples\\\\EEModel_Jul-12-2018\\\\' + test_mode + '\\\\' + data_mode + '\\\\eemodel.model'\n",
    "\n",
    "\n",
    "        #update path to save file \n",
    "        save_path = '..\\\\..\\\\ABMIRISLab\\\\Saves\\\\EEModel_Jul-12-2018\\\\' + test_mode + '\\\\' + data_mode + '\\\\eemodel.model'\n",
    "\n",
    "\n",
    "        #open file at path \n",
    "        #rewrite it \n",
    "        #'path_so_save=' + save_path\n",
    "        #'mode=NEW'\n",
    "\n",
    "        with open(model_file, 'w') as model_file_:\n",
    "            model_file_.write('path_to_save={}\\n'.format(save_path))\n",
    "            model_file_.write('mode={}\\n'.format('NEW'))\n",
    "\n",
    "\n",
    "        with open(file) as infile:\n",
    "            w_setup = json.load(infile)\n",
    "\n",
    "        for seed in [random.randint(2000, 3000) for x in range(1)]:\n",
    "            w_setup['SEED'] = seed\n",
    "            w_setup['ParametersCode'] = test_mode + '_' + data_mode\n",
    "\n",
    "\n",
    "            with open(file, 'w') as outfile:\n",
    "                json.dump(w_setup, outfile)\n",
    "\n",
    "            #run simulation \n",
    "            path = 'EEModel.exe'\n",
    "            args = [path, mode, model_file]\n",
    "            res = -1\n",
    "                    \n",
    "            i = 0 \n",
    "            while ((res != 0) and (i < 2)):\n",
    "                try:\n",
    "                    subprocess.call([path, mode, model_file])\n",
    "                    i = 0\n",
    "                    res = 0\n",
    "                except subprocess.CalledProcessError as e:\n",
    "                    i = i + 1\n",
    "                    res = -1"
   ]
  },
  {
   "cell_type": "code",
   "execution_count": 12,
   "metadata": {
    "collapsed": true
   },
   "outputs": [],
   "source": [
    "for test_mode in ['RelBaseLearn08']:\n",
    "    for data_mode in ['CA']:\n",
    "\n",
    "        file = '..\\\\..\\\\ABMIRISLab\\\\Examples\\\\EEModel_Jul-12-2018\\\\' + test_mode + '\\\\' + data_mode + '\\\\w.json'\n",
    "        mode = \"NEW\"\n",
    "        model_file = '..\\\\..\\\\ABMIRISLab\\\\Examples\\\\EEModel_Jul-12-2018\\\\' + test_mode + '\\\\' + data_mode + '\\\\eemodel.model'\n",
    "        \n",
    "        save_path = '..\\\\..\\\\ABMIRISLab\\\\Saves\\\\Jul-12-2018\\\\EEModel\\\\' + test_mode + '\\\\' + data_mode + '\\\\eemodel.model'\n",
    "        \n",
    "        with open(model_file, 'w') as model_file_:\n",
    "            model_file_.write('path_to_save={}\\n'.format(save_path))\n",
    "            model_file_.write('mode={}\\n'.format('NEW'))\n",
    "        \n",
    "        with open(file) as infile:\n",
    "            w_setup = json.load(infile)\n",
    "            \n",
    "            #print(w_setup)\n",
    "            \n",
    "            \n",
    "            \n",
    "        for seed in [random.randint(2000, 3000) for x in range(10)]:\n",
    "            w_setup['SEED'] = seed\n",
    "            w_setup['ParametersCode'] = test_mode + '_' + data_mode\n",
    "\n",
    "\n",
    "            with open(file, 'w') as outfile:\n",
    "                json.dump(w_setup, outfile)\n",
    "            \n",
    "            \n",
    "            #run simulation \n",
    "            path = 'EEModel.exe'\n",
    "            args = [path, mode, model_file]\n",
    "            res = -1\n",
    "                    \n",
    "            i = 0 \n",
    "            while ((res != 0) and (i < 2)):\n",
    "                try:\n",
    "                    subprocess.call([path, mode, model_file])\n",
    "                    i = 0\n",
    "                    res = 0\n",
    "                except subprocess.CalledProcessError as e:\n",
    "                    i = i + 1\n",
    "                    res = -1\n",
    "            \n",
    "            \n",
    "        #for setting in w_setup['WorldSettings']['params_exog']:\n",
    "        #    if 'EParamTypes::LaborPrice' in setting:\n",
    "        #        setting['EParamTypes::LaborPrice'] = 20 * 1.5\n",
    "                \n",
    "                \n",
    "        #with open(w_setup, 'w') as outfile:\n",
    "        #    json.dump(w_setup, outfile)            \n",
    "                    "
   ]
  },
  {
   "cell_type": "code",
   "execution_count": 2,
   "metadata": {
    "collapsed": false
   },
   "outputs": [
    {
     "name": "stdout",
     "output_type": "stream",
     "text": [
      "['distribution.json', 'distribution_hh.json', 'eemodel.model', 'g.json', 'geography.json', 'ho.json', 'joint_distribution_hh.csv', 'Logs', 'sei.json', 'sem.json', 'solar_equipment.json', 'utility.json', 'w.json']\n"
     ]
    }
   ],
   "source": [
    "print(os.listdir('../../ABMIRISLab/Examples/EEModel_Jul-12-2018/RelBaseLearn08/CA/'))"
   ]
  },
  {
   "cell_type": "code",
   "execution_count": null,
   "metadata": {
    "collapsed": true
   },
   "outputs": [],
   "source": []
  },
  {
   "cell_type": "code",
   "execution_count": null,
   "metadata": {
    "collapsed": true
   },
   "outputs": [],
   "source": []
  }
 ],
 "metadata": {
  "anaconda-cloud": {},
  "kernelspec": {
   "display_name": "Python [default]",
   "language": "python",
   "name": "python3"
  },
  "language_info": {
   "codemirror_mode": {
    "name": "ipython",
    "version": 3
   },
   "file_extension": ".py",
   "mimetype": "text/x-python",
   "name": "python",
   "nbconvert_exporter": "python",
   "pygments_lexer": "ipython3",
   "version": "3.5.2"
  }
 },
 "nbformat": 4,
 "nbformat_minor": 1
}
