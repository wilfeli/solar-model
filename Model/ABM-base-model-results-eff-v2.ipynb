{
 "cells": [
  {
   "cell_type": "code",
   "execution_count": 1,
   "metadata": {
    "collapsed": true
   },
   "outputs": [],
   "source": [
    "import re\n",
    "import pandas as pd\n",
    "import numpy as np\n",
    "import json\n",
    "import subprocess\n",
    "import glob\n",
    "import os\n",
    "\n",
    "%matplotlib inline\n",
    "import matplotlib.pyplot as plt\n",
    "import matplotlib\n",
    "import matplotlib.colors as colors\n",
    "from matplotlib import cm\n",
    "matplotlib.style.use('ggplot')\n",
    "import matplotlib.patches as mpatches\n",
    "from matplotlib.legend_handler import HandlerPatch"
   ]
  },
  {
   "cell_type": "code",
   "execution_count": null,
   "metadata": {
    "collapsed": true
   },
   "outputs": [],
   "source": []
  },
  {
   "cell_type": "code",
   "execution_count": null,
   "metadata": {
    "collapsed": true
   },
   "outputs": [],
   "source": []
  },
  {
   "cell_type": "code",
   "execution_count": 2,
   "metadata": {
    "collapsed": true
   },
   "outputs": [],
   "source": [
    "N_SEEDS = 90\n",
    "N_SEI = 20\n",
    "N_TESTS = 1\n",
    "N_TICKS = 260\n",
    "N_TICKS_DISPLAY = 260 - 52\n",
    "N_TICKS_BURN = N_TICKS - N_TICKS_DISPLAY"
   ]
  },
  {
   "cell_type": "code",
   "execution_count": 3,
   "metadata": {
    "collapsed": true
   },
   "outputs": [],
   "source": [
    "def read_error_data_from_log(file, data_):\n",
    "    regex_error_savings = re.compile('(INFO:\\sNEGATIVE\\sSAVINGS\\s*)')\n",
    "    regex_error_small_system = re.compile('(INFO:\\sSMALL\\sSYSTEM\\s*)')\n",
    "    N_SMALL_SAVINGS = 0\n",
    "    N_SMALL_SYSTEMS = 0\n",
    "    \n",
    "    with open(file) as infile:\n",
    "        for line in infile:\n",
    "            if regex_error_savings.search(line):\n",
    "                res = re.split(regex_error_savings, line)\n",
    "                N_SMALL_SAVINGS = N_SMALL_SAVINGS + 1\n",
    "            elif regex_error_small_system.search(line):\n",
    "                res = re.split(regex_error_small_system, line)\n",
    "                N_SMALL_SYSTEMS = N_SMALL_SYSTEMS + 1\n",
    "            else:\n",
    "                pass\n",
    "            \n",
    "    \n",
    "    return (N_SMALL_SAVINGS, N_SMALL_SYSTEMS)"
   ]
  },
  {
   "cell_type": "code",
   "execution_count": 4,
   "metadata": {
    "collapsed": true
   },
   "outputs": [],
   "source": [
    "#Reads data from the given file into the given list\n",
    "def read_data_from_log(file, data_):\n",
    "    regex_begin_tick = re.compile('(N\\s*active\\s*agents\\s*at\\s*tick\\s*)')\n",
    "    regex_end_tick = re.compile('(Number\\s*of\\s*installed\\s*projects\\s*:\\s*)')\n",
    "    regex_data =  re.compile('(INFO:\\s)')\n",
    "    regex_data_check = re.compile('EParamTypes')\n",
    "    regex_enum = re.compile('(::[\\w]*\\s*:\\s*)')\n",
    "    regex_enum_name = re.compile('([^:\\s]+)')\n",
    "    regex_1 = re.compile('(\\s*:\\s*)')\n",
    "    \n",
    "    \n",
    "    with open(file) as infile:\n",
    "        for line in infile:\n",
    "            if regex_begin_tick.search(line):\n",
    "                #parse tick number \n",
    "                #start new dictionary in the list\n",
    "                data_.append({})\n",
    "\n",
    "                #get tick \n",
    "                res = re.split(regex_1, re.split(regex_begin_tick, line)[-1])\n",
    "                data_[-1]['N_AGENTS'] = float(res[-1])\n",
    "                data_[-1]['tick'] = float(res[0])\n",
    "            elif regex_end_tick.search(line):\n",
    "                res = re.split(regex_end_tick, line)\n",
    "                data_[-1]['N_PROJECTS'] = float(res[-1])\n",
    "            else:\n",
    "                if (regex_data.search(line)) and (regex_data_check.search(line)):\n",
    "                    res = re.split(regex_data, line)\n",
    "                    #get last part and enum name \n",
    "                    #last part is number\n",
    "                    res2 = re.split(regex_enum, res[-1])\n",
    "                    #get enum name \n",
    "                    data_[-1]['EParamTypes::' + re.split(regex_enum_name, res2[-2])[-2]] = float(res2[-1])\n",
    "#    print(data_)"
   ]
  },
  {
   "cell_type": "code",
   "execution_count": 5,
   "metadata": {
    "collapsed": true
   },
   "outputs": [],
   "source": [
    "def get_subset_data(data_):\n",
    "    #data_column_names\n",
    "    data_columns = {'EParamTypes::HOStateDroppedOutNCDecStage':[],\\\n",
    "                   'EParamTypes::HOStateDroppedOutSEIStage':[],\\\n",
    "                   'EParamTypes::HOStateDroppedOutDesignStage':[],\\\n",
    "                    'EParamTypes::HOStateDroppedOutTickNCDecStage':[],\\\n",
    "                    'EParamTypes::HOStateDroppedOutTickSEIStage':[],\\\n",
    "                    'EParamTypes::HOStateDroppedOutTickDesignStage':[],\\\n",
    "                   'EParamTypes::HONumberActiveAgents':[]}\n",
    "    tick = []\n",
    "    i = 0\n",
    "    #collect data for each tick \n",
    "    for row in data_:\n",
    "        for key, value in data_columns.items():\n",
    "            value.append(0.0)\n",
    "            if key in row:\n",
    "                value[-1] = row[key]\n",
    "        tick.append(i)\n",
    "        i = i + 1\n",
    "    \n",
    "    return data_columns\n",
    "\n",
    "#print(data_columns)"
   ]
  },
  {
   "cell_type": "code",
   "execution_count": 13,
   "metadata": {
    "collapsed": true
   },
   "outputs": [],
   "source": [
    "#N_tests - number of different tests that were run \n",
    "#dfs_logs - where to save them\n",
    "def collect_data_for_simulation_runs_from_logs(N_TESTS, dfs_logs):\n",
    "\n",
    "\n",
    "    test_mode = 'BaseModel'\n",
    "    test_version = 'BaseVer02'\n",
    "    test_loc = 'CA'\n",
    "    data_mode = 'Logs'\n",
    "    version = '_eff'\n",
    "    params_versions = [str(x) for x in np.linspace(0.0,0.3,N_TESTS,endpoint=True)]\n",
    "    \n",
    "\n",
    "    for i_run in range(N_TESTS):  \n",
    "\n",
    "        #get latest file \n",
    "        files = glob.glob('..\\\\..\\\\ABMIRISLab\\\\Saves\\\\May-14-2018\\\\' + test_mode + '\\\\' + test_version + '\\\\'  +\\\n",
    "                          test_loc + '\\\\tariff' + params_versions[i_run] + '\\\\' + data_mode +\\\n",
    "                         '\\\\*[_log].log')\n",
    "        files.sort(key=os.path.getmtime, reverse=True)\n",
    "        files_ = files[0 * N_SEEDS : 1 * N_SEEDS]    \n",
    "\n",
    "        dfs_ = []\n",
    "\n",
    "        for file in files_:\n",
    "\n",
    "            #if find N active agents at tick\n",
    "            # start data for the tick \n",
    "            #parse data - name of the enum, value\n",
    "            data_ = []\n",
    "            read_data_from_log(file, data_)\n",
    "            data_subset_ = get_subset_data(data_)\n",
    "            df_ = pd.DataFrame(\n",
    "                data_subset_\n",
    "                )\n",
    "            df_.index.name = 'tick'\n",
    "\n",
    "            dfs_.append(df_)\n",
    "\n",
    "\n",
    "\n",
    "\n",
    "\n",
    "        #get averages \n",
    "        #create df from them    \n",
    "        df_concat = pd.concat(dfs_)\n",
    "        df_logs = df_concat.groupby(level=0).mean()\n",
    "\n",
    "\n",
    "        dfs_logs.append(df_logs)"
   ]
  },
  {
   "cell_type": "code",
   "execution_count": 14,
   "metadata": {
    "collapsed": false
   },
   "outputs": [
    {
     "ename": "ValueError",
     "evalue": "No objects to concatenate",
     "output_type": "error",
     "traceback": [
      "\u001b[0;31m---------------------------------------------------------------------------\u001b[0m",
      "\u001b[0;31mValueError\u001b[0m                                Traceback (most recent call last)",
      "\u001b[0;32m<ipython-input-14-98386bcd804e>\u001b[0m in \u001b[0;36m<module>\u001b[0;34m()\u001b[0m\n\u001b[1;32m      1\u001b[0m \u001b[0mdfs_logs\u001b[0m \u001b[0;34m=\u001b[0m \u001b[0;34m[\u001b[0m\u001b[0;34m]\u001b[0m\u001b[0;34m\u001b[0m\u001b[0m\n\u001b[0;32m----> 2\u001b[0;31m \u001b[0mcollect_data_for_simulation_runs_from_logs\u001b[0m\u001b[0;34m(\u001b[0m\u001b[0mN_TESTS\u001b[0m\u001b[0;34m,\u001b[0m \u001b[0mdfs_logs\u001b[0m\u001b[0;34m)\u001b[0m\u001b[0;34m\u001b[0m\u001b[0m\n\u001b[0m\u001b[1;32m      3\u001b[0m \u001b[0mdf_logs\u001b[0m \u001b[0;34m=\u001b[0m \u001b[0mdfs_logs\u001b[0m\u001b[0;34m[\u001b[0m\u001b[0;36m0\u001b[0m\u001b[0;34m]\u001b[0m\u001b[0;34m\u001b[0m\u001b[0m\n",
      "\u001b[0;32m<ipython-input-13-26470b9f9213>\u001b[0m in \u001b[0;36mcollect_data_for_simulation_runs_from_logs\u001b[0;34m(N_TESTS, dfs_logs)\u001b[0m\n\u001b[1;32m     42\u001b[0m         \u001b[0;31m#get averages\u001b[0m\u001b[0;34m\u001b[0m\u001b[0;34m\u001b[0m\u001b[0m\n\u001b[1;32m     43\u001b[0m         \u001b[0;31m#create df from them\u001b[0m\u001b[0;34m\u001b[0m\u001b[0;34m\u001b[0m\u001b[0m\n\u001b[0;32m---> 44\u001b[0;31m         \u001b[0mdf_concat\u001b[0m \u001b[0;34m=\u001b[0m \u001b[0mpd\u001b[0m\u001b[0;34m.\u001b[0m\u001b[0mconcat\u001b[0m\u001b[0;34m(\u001b[0m\u001b[0mdfs_\u001b[0m\u001b[0;34m)\u001b[0m\u001b[0;34m\u001b[0m\u001b[0m\n\u001b[0m\u001b[1;32m     45\u001b[0m         \u001b[0mdf_logs\u001b[0m \u001b[0;34m=\u001b[0m \u001b[0mdf_concat\u001b[0m\u001b[0;34m.\u001b[0m\u001b[0mgroupby\u001b[0m\u001b[0;34m(\u001b[0m\u001b[0mlevel\u001b[0m\u001b[0;34m=\u001b[0m\u001b[0;36m0\u001b[0m\u001b[0;34m)\u001b[0m\u001b[0;34m.\u001b[0m\u001b[0mmean\u001b[0m\u001b[0;34m(\u001b[0m\u001b[0;34m)\u001b[0m\u001b[0;34m\u001b[0m\u001b[0m\n\u001b[1;32m     46\u001b[0m \u001b[0;34m\u001b[0m\u001b[0m\n",
      "\u001b[0;32m~/anaconda/envs/abmdjango/lib/python3.6/site-packages/pandas/core/reshape/concat.py\u001b[0m in \u001b[0;36mconcat\u001b[0;34m(objs, axis, join, join_axes, ignore_index, keys, levels, names, verify_integrity, copy)\u001b[0m\n\u001b[1;32m    210\u001b[0m                        \u001b[0mkeys\u001b[0m\u001b[0;34m=\u001b[0m\u001b[0mkeys\u001b[0m\u001b[0;34m,\u001b[0m \u001b[0mlevels\u001b[0m\u001b[0;34m=\u001b[0m\u001b[0mlevels\u001b[0m\u001b[0;34m,\u001b[0m \u001b[0mnames\u001b[0m\u001b[0;34m=\u001b[0m\u001b[0mnames\u001b[0m\u001b[0;34m,\u001b[0m\u001b[0;34m\u001b[0m\u001b[0m\n\u001b[1;32m    211\u001b[0m                        \u001b[0mverify_integrity\u001b[0m\u001b[0;34m=\u001b[0m\u001b[0mverify_integrity\u001b[0m\u001b[0;34m,\u001b[0m\u001b[0;34m\u001b[0m\u001b[0m\n\u001b[0;32m--> 212\u001b[0;31m                        copy=copy)\n\u001b[0m\u001b[1;32m    213\u001b[0m     \u001b[0;32mreturn\u001b[0m \u001b[0mop\u001b[0m\u001b[0;34m.\u001b[0m\u001b[0mget_result\u001b[0m\u001b[0;34m(\u001b[0m\u001b[0;34m)\u001b[0m\u001b[0;34m\u001b[0m\u001b[0m\n\u001b[1;32m    214\u001b[0m \u001b[0;34m\u001b[0m\u001b[0m\n",
      "\u001b[0;32m~/anaconda/envs/abmdjango/lib/python3.6/site-packages/pandas/core/reshape/concat.py\u001b[0m in \u001b[0;36m__init__\u001b[0;34m(self, objs, axis, join, join_axes, keys, levels, names, ignore_index, verify_integrity, copy)\u001b[0m\n\u001b[1;32m    243\u001b[0m \u001b[0;34m\u001b[0m\u001b[0m\n\u001b[1;32m    244\u001b[0m         \u001b[0;32mif\u001b[0m \u001b[0mlen\u001b[0m\u001b[0;34m(\u001b[0m\u001b[0mobjs\u001b[0m\u001b[0;34m)\u001b[0m \u001b[0;34m==\u001b[0m \u001b[0;36m0\u001b[0m\u001b[0;34m:\u001b[0m\u001b[0;34m\u001b[0m\u001b[0m\n\u001b[0;32m--> 245\u001b[0;31m             \u001b[0;32mraise\u001b[0m \u001b[0mValueError\u001b[0m\u001b[0;34m(\u001b[0m\u001b[0;34m'No objects to concatenate'\u001b[0m\u001b[0;34m)\u001b[0m\u001b[0;34m\u001b[0m\u001b[0m\n\u001b[0m\u001b[1;32m    246\u001b[0m \u001b[0;34m\u001b[0m\u001b[0m\n\u001b[1;32m    247\u001b[0m         \u001b[0;32mif\u001b[0m \u001b[0mkeys\u001b[0m \u001b[0;32mis\u001b[0m \u001b[0;32mNone\u001b[0m\u001b[0;34m:\u001b[0m\u001b[0;34m\u001b[0m\u001b[0m\n",
      "\u001b[0;31mValueError\u001b[0m: No objects to concatenate"
     ]
    }
   ],
   "source": [
    "dfs_logs = []\n",
    "collect_data_for_simulation_runs_from_logs(N_TESTS, dfs_logs)\n",
    "df_logs = dfs_logs[0]"
   ]
  },
  {
   "cell_type": "code",
   "execution_count": 367,
   "metadata": {
    "collapsed": false
   },
   "outputs": [
    {
     "data": {
      "text/html": [
       "<div>\n",
       "<table border=\"1\" class=\"dataframe\">\n",
       "  <thead>\n",
       "    <tr style=\"text-align: right;\">\n",
       "      <th></th>\n",
       "      <th>EParamTypes::HONumberActiveAgents</th>\n",
       "      <th>EParamTypes::HOStateDroppedOutDesignStage</th>\n",
       "      <th>EParamTypes::HOStateDroppedOutNCDecStage</th>\n",
       "      <th>EParamTypes::HOStateDroppedOutSEIStage</th>\n",
       "      <th>EParamTypes::HOStateDroppedOutTickDesignStage</th>\n",
       "      <th>EParamTypes::HOStateDroppedOutTickNCDecStage</th>\n",
       "      <th>EParamTypes::HOStateDroppedOutTickSEIStage</th>\n",
       "    </tr>\n",
       "    <tr>\n",
       "      <th>tick</th>\n",
       "      <th></th>\n",
       "      <th></th>\n",
       "      <th></th>\n",
       "      <th></th>\n",
       "      <th></th>\n",
       "      <th></th>\n",
       "      <th></th>\n",
       "    </tr>\n",
       "  </thead>\n",
       "  <tbody>\n",
       "    <tr>\n",
       "      <th>0</th>\n",
       "      <td>58.955556</td>\n",
       "      <td>0.0</td>\n",
       "      <td>0.0</td>\n",
       "      <td>0.0</td>\n",
       "      <td>0.0</td>\n",
       "      <td>0.0</td>\n",
       "      <td>0.0</td>\n",
       "    </tr>\n",
       "    <tr>\n",
       "      <th>1</th>\n",
       "      <td>107.577778</td>\n",
       "      <td>0.0</td>\n",
       "      <td>0.0</td>\n",
       "      <td>0.0</td>\n",
       "      <td>0.0</td>\n",
       "      <td>0.0</td>\n",
       "      <td>0.0</td>\n",
       "    </tr>\n",
       "    <tr>\n",
       "      <th>2</th>\n",
       "      <td>155.855556</td>\n",
       "      <td>0.0</td>\n",
       "      <td>0.0</td>\n",
       "      <td>0.0</td>\n",
       "      <td>0.0</td>\n",
       "      <td>0.0</td>\n",
       "      <td>0.0</td>\n",
       "    </tr>\n",
       "    <tr>\n",
       "      <th>3</th>\n",
       "      <td>203.633333</td>\n",
       "      <td>0.0</td>\n",
       "      <td>0.0</td>\n",
       "      <td>0.0</td>\n",
       "      <td>0.0</td>\n",
       "      <td>0.0</td>\n",
       "      <td>0.0</td>\n",
       "    </tr>\n",
       "    <tr>\n",
       "      <th>4</th>\n",
       "      <td>251.233333</td>\n",
       "      <td>0.0</td>\n",
       "      <td>0.0</td>\n",
       "      <td>0.0</td>\n",
       "      <td>0.0</td>\n",
       "      <td>0.0</td>\n",
       "      <td>0.0</td>\n",
       "    </tr>\n",
       "  </tbody>\n",
       "</table>\n",
       "</div>"
      ],
      "text/plain": [
       "      EParamTypes::HONumberActiveAgents  \\\n",
       "tick                                      \n",
       "0                             58.955556   \n",
       "1                            107.577778   \n",
       "2                            155.855556   \n",
       "3                            203.633333   \n",
       "4                            251.233333   \n",
       "\n",
       "      EParamTypes::HOStateDroppedOutDesignStage  \\\n",
       "tick                                              \n",
       "0                                           0.0   \n",
       "1                                           0.0   \n",
       "2                                           0.0   \n",
       "3                                           0.0   \n",
       "4                                           0.0   \n",
       "\n",
       "      EParamTypes::HOStateDroppedOutNCDecStage  \\\n",
       "tick                                             \n",
       "0                                          0.0   \n",
       "1                                          0.0   \n",
       "2                                          0.0   \n",
       "3                                          0.0   \n",
       "4                                          0.0   \n",
       "\n",
       "      EParamTypes::HOStateDroppedOutSEIStage  \\\n",
       "tick                                           \n",
       "0                                        0.0   \n",
       "1                                        0.0   \n",
       "2                                        0.0   \n",
       "3                                        0.0   \n",
       "4                                        0.0   \n",
       "\n",
       "      EParamTypes::HOStateDroppedOutTickDesignStage  \\\n",
       "tick                                                  \n",
       "0                                               0.0   \n",
       "1                                               0.0   \n",
       "2                                               0.0   \n",
       "3                                               0.0   \n",
       "4                                               0.0   \n",
       "\n",
       "      EParamTypes::HOStateDroppedOutTickNCDecStage  \\\n",
       "tick                                                 \n",
       "0                                              0.0   \n",
       "1                                              0.0   \n",
       "2                                              0.0   \n",
       "3                                              0.0   \n",
       "4                                              0.0   \n",
       "\n",
       "      EParamTypes::HOStateDroppedOutTickSEIStage  \n",
       "tick                                              \n",
       "0                                            0.0  \n",
       "1                                            0.0  \n",
       "2                                            0.0  \n",
       "3                                            0.0  \n",
       "4                                            0.0  "
      ]
     },
     "execution_count": 367,
     "metadata": {},
     "output_type": "execute_result"
    }
   ],
   "source": [
    "dfs_logs[0].head()"
   ]
  },
  {
   "cell_type": "code",
   "execution_count": null,
   "metadata": {
    "collapsed": true
   },
   "outputs": [],
   "source": []
  },
  {
   "cell_type": "code",
   "execution_count": 368,
   "metadata": {
    "collapsed": true
   },
   "outputs": [],
   "source": [
    "def collect_data_for_simulation_runs_from_w(N_TESTS, dfs_w, dfs_w_std):\n",
    "\n",
    "    test_mode = 'BaseVer02'\n",
    "    data_mode = 'CA'\n",
    "    #here think how to change it\n",
    "    params_versions = [str(x) for x in np.linspace(0.0,0.3,N_TESTS,endpoint=True)]\n",
    "\n",
    "    #names of columns in a file\n",
    "    names = ['N_installed', 'N_installed_sum', 'P_av_total', 'P_av']\n",
    "    for i in range(N_SEI):\n",
    "        names.append('sei_markup_' + str(i))\n",
    "\n",
    "\n",
    "\n",
    "    for i_run in range(N_TESTS): \n",
    "        #read few files\n",
    "        #save into database\n",
    "        dfs_ = []\n",
    "        #read last simulation result\n",
    "        files = glob.glob('..\\\\..\\\\ABMIRISLab\\\\Saves\\\\May-14-2018\\\\BaseModel\\\\'+ test_mode + '\\\\' + data_mode + \\\n",
    "                         '\\\\tariff' + params_versions[i_run] + '\\\\*[_w].csv')\n",
    "        files.sort(key=os.path.getmtime, reverse=True)\n",
    "\n",
    "        #take top x files \n",
    "        for file in files[0 * N_SEEDS : 1 * N_SEEDS]:\n",
    "            df_ = pd.read_csv(file, names=names, low_memory=False, na_values = ['-nan(ind)'])\n",
    "            dfs_.append(df_)\n",
    "\n",
    "\n",
    "        #create df from them    \n",
    "        df_concat = pd.concat(dfs_)\n",
    "        df_w_mean = df_concat.groupby(level=0).mean()\n",
    "        df_w_std = df_concat.groupby(level=0).std()\n",
    "        \n",
    "        dfs_w.append(df_w_mean)\n",
    "        dfs_w_std.append(df_w_std)"
   ]
  },
  {
   "cell_type": "code",
   "execution_count": 369,
   "metadata": {
    "collapsed": true
   },
   "outputs": [],
   "source": [
    "dfs_w = []\n",
    "dfs_w_std = []\n",
    "collect_data_for_simulation_runs_from_w(N_TESTS, dfs_w, dfs_w_std)"
   ]
  },
  {
   "cell_type": "code",
   "execution_count": 370,
   "metadata": {
    "collapsed": false
   },
   "outputs": [
    {
     "data": {
      "text/html": [
       "<div>\n",
       "<table border=\"1\" class=\"dataframe\">\n",
       "  <thead>\n",
       "    <tr style=\"text-align: right;\">\n",
       "      <th></th>\n",
       "      <th>N_installed</th>\n",
       "      <th>N_installed_sum</th>\n",
       "      <th>P_av_total</th>\n",
       "      <th>P_av</th>\n",
       "      <th>sei_markup_0</th>\n",
       "      <th>sei_markup_1</th>\n",
       "      <th>sei_markup_2</th>\n",
       "      <th>sei_markup_3</th>\n",
       "      <th>sei_markup_4</th>\n",
       "      <th>sei_markup_5</th>\n",
       "      <th>...</th>\n",
       "      <th>sei_markup_10</th>\n",
       "      <th>sei_markup_11</th>\n",
       "      <th>sei_markup_12</th>\n",
       "      <th>sei_markup_13</th>\n",
       "      <th>sei_markup_14</th>\n",
       "      <th>sei_markup_15</th>\n",
       "      <th>sei_markup_16</th>\n",
       "      <th>sei_markup_17</th>\n",
       "      <th>sei_markup_18</th>\n",
       "      <th>sei_markup_19</th>\n",
       "    </tr>\n",
       "  </thead>\n",
       "  <tbody>\n",
       "    <tr>\n",
       "      <th>0</th>\n",
       "      <td>0.0</td>\n",
       "      <td>0.0</td>\n",
       "      <td>0.0</td>\n",
       "      <td>0.0</td>\n",
       "      <td>0.509893</td>\n",
       "      <td>0.463809</td>\n",
       "      <td>0.506764</td>\n",
       "      <td>0.489143</td>\n",
       "      <td>0.456107</td>\n",
       "      <td>0.510348</td>\n",
       "      <td>...</td>\n",
       "      <td>0.478407</td>\n",
       "      <td>0.493798</td>\n",
       "      <td>0.500765</td>\n",
       "      <td>0.471121</td>\n",
       "      <td>0.474242</td>\n",
       "      <td>0.498348</td>\n",
       "      <td>0.478612</td>\n",
       "      <td>0.516153</td>\n",
       "      <td>0.501247</td>\n",
       "      <td>0.502747</td>\n",
       "    </tr>\n",
       "    <tr>\n",
       "      <th>1</th>\n",
       "      <td>0.0</td>\n",
       "      <td>0.0</td>\n",
       "      <td>NaN</td>\n",
       "      <td>NaN</td>\n",
       "      <td>0.509893</td>\n",
       "      <td>0.463809</td>\n",
       "      <td>0.506764</td>\n",
       "      <td>0.489143</td>\n",
       "      <td>0.456107</td>\n",
       "      <td>0.510348</td>\n",
       "      <td>...</td>\n",
       "      <td>0.478407</td>\n",
       "      <td>0.493798</td>\n",
       "      <td>0.500765</td>\n",
       "      <td>0.471121</td>\n",
       "      <td>0.474242</td>\n",
       "      <td>0.498348</td>\n",
       "      <td>0.478612</td>\n",
       "      <td>0.516153</td>\n",
       "      <td>0.501247</td>\n",
       "      <td>0.502747</td>\n",
       "    </tr>\n",
       "    <tr>\n",
       "      <th>2</th>\n",
       "      <td>0.0</td>\n",
       "      <td>0.0</td>\n",
       "      <td>NaN</td>\n",
       "      <td>NaN</td>\n",
       "      <td>0.509893</td>\n",
       "      <td>0.463809</td>\n",
       "      <td>0.506764</td>\n",
       "      <td>0.489143</td>\n",
       "      <td>0.456107</td>\n",
       "      <td>0.510348</td>\n",
       "      <td>...</td>\n",
       "      <td>0.478407</td>\n",
       "      <td>0.493798</td>\n",
       "      <td>0.500765</td>\n",
       "      <td>0.471121</td>\n",
       "      <td>0.474242</td>\n",
       "      <td>0.498348</td>\n",
       "      <td>0.478612</td>\n",
       "      <td>0.516153</td>\n",
       "      <td>0.501247</td>\n",
       "      <td>0.502747</td>\n",
       "    </tr>\n",
       "    <tr>\n",
       "      <th>3</th>\n",
       "      <td>0.0</td>\n",
       "      <td>0.0</td>\n",
       "      <td>NaN</td>\n",
       "      <td>NaN</td>\n",
       "      <td>0.509893</td>\n",
       "      <td>0.463809</td>\n",
       "      <td>0.506764</td>\n",
       "      <td>0.489143</td>\n",
       "      <td>0.456107</td>\n",
       "      <td>0.510348</td>\n",
       "      <td>...</td>\n",
       "      <td>0.478407</td>\n",
       "      <td>0.493798</td>\n",
       "      <td>0.500765</td>\n",
       "      <td>0.471121</td>\n",
       "      <td>0.474242</td>\n",
       "      <td>0.498348</td>\n",
       "      <td>0.478612</td>\n",
       "      <td>0.516153</td>\n",
       "      <td>0.501247</td>\n",
       "      <td>0.502747</td>\n",
       "    </tr>\n",
       "    <tr>\n",
       "      <th>4</th>\n",
       "      <td>0.0</td>\n",
       "      <td>0.0</td>\n",
       "      <td>NaN</td>\n",
       "      <td>NaN</td>\n",
       "      <td>0.509893</td>\n",
       "      <td>0.463809</td>\n",
       "      <td>0.506764</td>\n",
       "      <td>0.489143</td>\n",
       "      <td>0.456107</td>\n",
       "      <td>0.510348</td>\n",
       "      <td>...</td>\n",
       "      <td>0.478407</td>\n",
       "      <td>0.493798</td>\n",
       "      <td>0.500765</td>\n",
       "      <td>0.471121</td>\n",
       "      <td>0.474242</td>\n",
       "      <td>0.498348</td>\n",
       "      <td>0.478612</td>\n",
       "      <td>0.516153</td>\n",
       "      <td>0.501247</td>\n",
       "      <td>0.502747</td>\n",
       "    </tr>\n",
       "  </tbody>\n",
       "</table>\n",
       "<p>5 rows × 24 columns</p>\n",
       "</div>"
      ],
      "text/plain": [
       "   N_installed  N_installed_sum  P_av_total  P_av  sei_markup_0  sei_markup_1  \\\n",
       "0          0.0              0.0         0.0   0.0      0.509893      0.463809   \n",
       "1          0.0              0.0         NaN   NaN      0.509893      0.463809   \n",
       "2          0.0              0.0         NaN   NaN      0.509893      0.463809   \n",
       "3          0.0              0.0         NaN   NaN      0.509893      0.463809   \n",
       "4          0.0              0.0         NaN   NaN      0.509893      0.463809   \n",
       "\n",
       "   sei_markup_2  sei_markup_3  sei_markup_4  sei_markup_5      ...        \\\n",
       "0      0.506764      0.489143      0.456107      0.510348      ...         \n",
       "1      0.506764      0.489143      0.456107      0.510348      ...         \n",
       "2      0.506764      0.489143      0.456107      0.510348      ...         \n",
       "3      0.506764      0.489143      0.456107      0.510348      ...         \n",
       "4      0.506764      0.489143      0.456107      0.510348      ...         \n",
       "\n",
       "   sei_markup_10  sei_markup_11  sei_markup_12  sei_markup_13  sei_markup_14  \\\n",
       "0       0.478407       0.493798       0.500765       0.471121       0.474242   \n",
       "1       0.478407       0.493798       0.500765       0.471121       0.474242   \n",
       "2       0.478407       0.493798       0.500765       0.471121       0.474242   \n",
       "3       0.478407       0.493798       0.500765       0.471121       0.474242   \n",
       "4       0.478407       0.493798       0.500765       0.471121       0.474242   \n",
       "\n",
       "   sei_markup_15  sei_markup_16  sei_markup_17  sei_markup_18  sei_markup_19  \n",
       "0       0.498348       0.478612       0.516153       0.501247       0.502747  \n",
       "1       0.498348       0.478612       0.516153       0.501247       0.502747  \n",
       "2       0.498348       0.478612       0.516153       0.501247       0.502747  \n",
       "3       0.498348       0.478612       0.516153       0.501247       0.502747  \n",
       "4       0.498348       0.478612       0.516153       0.501247       0.502747  \n",
       "\n",
       "[5 rows x 24 columns]"
      ]
     },
     "execution_count": 370,
     "metadata": {},
     "output_type": "execute_result"
    }
   ],
   "source": [
    "dfs_w[0].head()"
   ]
  },
  {
   "cell_type": "code",
   "execution_count": 371,
   "metadata": {
    "collapsed": false
   },
   "outputs": [
    {
     "data": {
      "text/html": [
       "<div>\n",
       "<table border=\"1\" class=\"dataframe\">\n",
       "  <thead>\n",
       "    <tr style=\"text-align: right;\">\n",
       "      <th></th>\n",
       "      <th>N_installed</th>\n",
       "      <th>N_installed_sum</th>\n",
       "      <th>P_av_total</th>\n",
       "      <th>P_av</th>\n",
       "      <th>sei_markup_0</th>\n",
       "      <th>sei_markup_1</th>\n",
       "      <th>sei_markup_2</th>\n",
       "      <th>sei_markup_3</th>\n",
       "      <th>sei_markup_4</th>\n",
       "      <th>sei_markup_5</th>\n",
       "      <th>...</th>\n",
       "      <th>sei_markup_10</th>\n",
       "      <th>sei_markup_11</th>\n",
       "      <th>sei_markup_12</th>\n",
       "      <th>sei_markup_13</th>\n",
       "      <th>sei_markup_14</th>\n",
       "      <th>sei_markup_15</th>\n",
       "      <th>sei_markup_16</th>\n",
       "      <th>sei_markup_17</th>\n",
       "      <th>sei_markup_18</th>\n",
       "      <th>sei_markup_19</th>\n",
       "    </tr>\n",
       "  </thead>\n",
       "  <tbody>\n",
       "    <tr>\n",
       "      <th>0</th>\n",
       "      <td>0.0</td>\n",
       "      <td>0.0</td>\n",
       "      <td>0.0</td>\n",
       "      <td>0.0</td>\n",
       "      <td>0.216965</td>\n",
       "      <td>0.266022</td>\n",
       "      <td>0.210622</td>\n",
       "      <td>0.198482</td>\n",
       "      <td>0.241116</td>\n",
       "      <td>0.211587</td>\n",
       "      <td>...</td>\n",
       "      <td>0.229151</td>\n",
       "      <td>0.234237</td>\n",
       "      <td>0.208641</td>\n",
       "      <td>0.20066</td>\n",
       "      <td>0.233269</td>\n",
       "      <td>0.228804</td>\n",
       "      <td>0.208417</td>\n",
       "      <td>0.229377</td>\n",
       "      <td>0.227285</td>\n",
       "      <td>0.199712</td>\n",
       "    </tr>\n",
       "    <tr>\n",
       "      <th>1</th>\n",
       "      <td>0.0</td>\n",
       "      <td>0.0</td>\n",
       "      <td>NaN</td>\n",
       "      <td>NaN</td>\n",
       "      <td>0.216965</td>\n",
       "      <td>0.266022</td>\n",
       "      <td>0.210622</td>\n",
       "      <td>0.198482</td>\n",
       "      <td>0.241116</td>\n",
       "      <td>0.211587</td>\n",
       "      <td>...</td>\n",
       "      <td>0.229151</td>\n",
       "      <td>0.234237</td>\n",
       "      <td>0.208641</td>\n",
       "      <td>0.20066</td>\n",
       "      <td>0.233269</td>\n",
       "      <td>0.228804</td>\n",
       "      <td>0.208417</td>\n",
       "      <td>0.229377</td>\n",
       "      <td>0.227285</td>\n",
       "      <td>0.199712</td>\n",
       "    </tr>\n",
       "    <tr>\n",
       "      <th>2</th>\n",
       "      <td>0.0</td>\n",
       "      <td>0.0</td>\n",
       "      <td>NaN</td>\n",
       "      <td>NaN</td>\n",
       "      <td>0.216965</td>\n",
       "      <td>0.266022</td>\n",
       "      <td>0.210622</td>\n",
       "      <td>0.198482</td>\n",
       "      <td>0.241116</td>\n",
       "      <td>0.211587</td>\n",
       "      <td>...</td>\n",
       "      <td>0.229151</td>\n",
       "      <td>0.234237</td>\n",
       "      <td>0.208641</td>\n",
       "      <td>0.20066</td>\n",
       "      <td>0.233269</td>\n",
       "      <td>0.228804</td>\n",
       "      <td>0.208417</td>\n",
       "      <td>0.229377</td>\n",
       "      <td>0.227285</td>\n",
       "      <td>0.199712</td>\n",
       "    </tr>\n",
       "    <tr>\n",
       "      <th>3</th>\n",
       "      <td>0.0</td>\n",
       "      <td>0.0</td>\n",
       "      <td>NaN</td>\n",
       "      <td>NaN</td>\n",
       "      <td>0.216965</td>\n",
       "      <td>0.266022</td>\n",
       "      <td>0.210622</td>\n",
       "      <td>0.198482</td>\n",
       "      <td>0.241116</td>\n",
       "      <td>0.211587</td>\n",
       "      <td>...</td>\n",
       "      <td>0.229151</td>\n",
       "      <td>0.234237</td>\n",
       "      <td>0.208641</td>\n",
       "      <td>0.20066</td>\n",
       "      <td>0.233269</td>\n",
       "      <td>0.228804</td>\n",
       "      <td>0.208417</td>\n",
       "      <td>0.229377</td>\n",
       "      <td>0.227285</td>\n",
       "      <td>0.199712</td>\n",
       "    </tr>\n",
       "    <tr>\n",
       "      <th>4</th>\n",
       "      <td>0.0</td>\n",
       "      <td>0.0</td>\n",
       "      <td>NaN</td>\n",
       "      <td>NaN</td>\n",
       "      <td>0.216965</td>\n",
       "      <td>0.266022</td>\n",
       "      <td>0.210622</td>\n",
       "      <td>0.198482</td>\n",
       "      <td>0.241116</td>\n",
       "      <td>0.211587</td>\n",
       "      <td>...</td>\n",
       "      <td>0.229151</td>\n",
       "      <td>0.234237</td>\n",
       "      <td>0.208641</td>\n",
       "      <td>0.20066</td>\n",
       "      <td>0.233269</td>\n",
       "      <td>0.228804</td>\n",
       "      <td>0.208417</td>\n",
       "      <td>0.229377</td>\n",
       "      <td>0.227285</td>\n",
       "      <td>0.199712</td>\n",
       "    </tr>\n",
       "  </tbody>\n",
       "</table>\n",
       "<p>5 rows × 24 columns</p>\n",
       "</div>"
      ],
      "text/plain": [
       "   N_installed  N_installed_sum  P_av_total  P_av  sei_markup_0  sei_markup_1  \\\n",
       "0          0.0              0.0         0.0   0.0      0.216965      0.266022   \n",
       "1          0.0              0.0         NaN   NaN      0.216965      0.266022   \n",
       "2          0.0              0.0         NaN   NaN      0.216965      0.266022   \n",
       "3          0.0              0.0         NaN   NaN      0.216965      0.266022   \n",
       "4          0.0              0.0         NaN   NaN      0.216965      0.266022   \n",
       "\n",
       "   sei_markup_2  sei_markup_3  sei_markup_4  sei_markup_5      ...        \\\n",
       "0      0.210622      0.198482      0.241116      0.211587      ...         \n",
       "1      0.210622      0.198482      0.241116      0.211587      ...         \n",
       "2      0.210622      0.198482      0.241116      0.211587      ...         \n",
       "3      0.210622      0.198482      0.241116      0.211587      ...         \n",
       "4      0.210622      0.198482      0.241116      0.211587      ...         \n",
       "\n",
       "   sei_markup_10  sei_markup_11  sei_markup_12  sei_markup_13  sei_markup_14  \\\n",
       "0       0.229151       0.234237       0.208641        0.20066       0.233269   \n",
       "1       0.229151       0.234237       0.208641        0.20066       0.233269   \n",
       "2       0.229151       0.234237       0.208641        0.20066       0.233269   \n",
       "3       0.229151       0.234237       0.208641        0.20066       0.233269   \n",
       "4       0.229151       0.234237       0.208641        0.20066       0.233269   \n",
       "\n",
       "   sei_markup_15  sei_markup_16  sei_markup_17  sei_markup_18  sei_markup_19  \n",
       "0       0.228804       0.208417       0.229377       0.227285       0.199712  \n",
       "1       0.228804       0.208417       0.229377       0.227285       0.199712  \n",
       "2       0.228804       0.208417       0.229377       0.227285       0.199712  \n",
       "3       0.228804       0.208417       0.229377       0.227285       0.199712  \n",
       "4       0.228804       0.208417       0.229377       0.227285       0.199712  \n",
       "\n",
       "[5 rows x 24 columns]"
      ]
     },
     "execution_count": 371,
     "metadata": {},
     "output_type": "execute_result"
    }
   ],
   "source": [
    "dfs_w_std[0].head()"
   ]
  },
  {
   "cell_type": "code",
   "execution_count": 372,
   "metadata": {
    "collapsed": true
   },
   "outputs": [],
   "source": [
    "colors_ = ['orange', 'olive', 'olive','olive', 'lightcyan'] \n",
    "colors_ = ['orange', 'red', 'yellow','green', 'lightcyan'] "
   ]
  },
  {
   "cell_type": "code",
   "execution_count": 373,
   "metadata": {
    "collapsed": false
   },
   "outputs": [
    {
     "data": {
      "image/png": "[encoded data removed]",
      "text/plain": [
       "<matplotlib.figure.Figure at 0x2851c5935c0>"
      ]
     },
     "metadata": {},
     "output_type": "display_data"
    }
   ],
   "source": [
    "data_mode = 'bm_'\n",
    "test_mode = 'inst'\n",
    "column = ['N_installed_sum']\n",
    "\n",
    "fig, axes_ = plt.subplots(nrows=1, ncols=1)\n",
    "fig.subplots_adjust(bottom=0.25)\n",
    "\n",
    "#if ncols = 1  - transform into list\n",
    "axes = [axes_]\n",
    "\n",
    "ind = np.arange(N_TICKS)    # the x locations for the groups\n",
    "width = 0.35       # the width of the bars: can also be len(x) sequence\n",
    "\n",
    "ind = dfs_w[0].index.values[N_TICKS_BURN:N_TICKS_BURN + N_TICKS_DISPLAY] + 1\n",
    "\n",
    "lines = []\n",
    "\n",
    "#markers = [\"o-\", \"^-\", \"^-\", \"^-\", \"*-\"]\n",
    "markers = [\"o-\", \"--\", \"--\", \"--\", \"*-\"]\n",
    "markerfacecolors = colors_\n",
    "colors_l = ['r', 'r', 'r']\n",
    "labels = ['tariff ' + str(x) for x in np.linspace(0.0,0.3,N_TESTS,endpoint=True)]\n",
    "\n",
    "for i in range(N_TESTS) :\n",
    "    pi, = axes[0].plot(ind, dfs_w[i][column][N_TICKS_BURN:N_TICKS_BURN + N_TICKS_DISPLAY]/10000, markers[i], label=labels[i])\n",
    "    \n",
    "#    axes[0].fill_between(ind, \n",
    "#                  np.asarray((dfs_w[i][column][N_TICKS_BURN:N_TICKS_BURN + N_TICKS_DISPLAY]/10000\\\n",
    "#                        -2*dfs_w_std[i][column][N_TICKS_BURN:N_TICKS_BURN + N_TICKS_DISPLAY]/10000).values).reshape(N_TICKS_DISPLAY,), \n",
    "#                  np.asarray((dfs_w[i][column][N_TICKS_BURN:N_TICKS_BURN + N_TICKS_DISPLAY]/10000\\\n",
    "#                        +2*dfs_w_std[i][column][N_TICKS_BURN:N_TICKS_BURN + N_TICKS_DISPLAY]/10000).values).reshape(N_TICKS_DISPLAY), \n",
    "#                  color=markerfacecolors[i], \n",
    "#                  alpha=0.2)\n",
    "    \n",
    "    pi.set_markerfacecolor(markerfacecolors[i])\n",
    "    pi.set_color(markerfacecolors[i])\n",
    "    pi.set_markeredgecolor(markerfacecolors[i])\n",
    "    pi.set_markersize(2)\n",
    "    lines.append(pi)\n",
    "    \n",
    "\n",
    "axes[0].set_xlabel(\"Time\")\n",
    "axes[0].xaxis.set_label_coords(0.05, -0.1)\n",
    "axes[0].set_ylabel(\"New installs as a % of population\")\n",
    "    \n",
    "# Shrink current axis's height by 10% on the bottom\n",
    "box = axes[0].get_position()\n",
    "axes[0].set_position([box.x0, box.y0 + box.height * 0.2,\n",
    "                 box.width, box.height * 0.8])\n",
    "\n",
    "# Put a legend below current axis\n",
    "lgd = axes[0].legend(lines, [l.get_label() for l in lines], loc='lower center', bbox_to_anchor=(0.5, -0.25),\\\n",
    "          fancybox=True, shadow=True, fontsize='10', ncol = 3)\n",
    "\n",
    "axes[0].set_xlim([N_TICKS_BURN + 1,N_TICKS_BURN + N_TICKS_DISPLAY])\n",
    "axes[0].set_ylim([0.00, 0.085])\n",
    "start = N_TICKS_BURN + 1\n",
    "end = N_TICKS_BURN + N_TICKS_DISPLAY\n",
    "axes[0].xaxis.set_ticks(np.arange(start, end, 25))\n",
    "\n",
    "\n",
    "plt.tight_layout()\n",
    "plt.savefig('Simulation_results_' + data_mode + test_mode + '_Jun18' + '.png', dpi=300, bbox_extra_artists=(lgd,), bbox_inches='tight')\n",
    "plt.show()"
   ]
  },
  {
   "cell_type": "code",
   "execution_count": null,
   "metadata": {
    "collapsed": true
   },
   "outputs": [],
   "source": []
  },
  {
   "cell_type": "code",
   "execution_count": 30,
   "metadata": {
    "collapsed": false
   },
   "outputs": [
    {
     "data": {
      "image/png": "[encoded data removed]",
      "text/plain": [
       "<matplotlib.figure.Figure at 0x2354bfc4be0>"
      ]
     },
     "metadata": {},
     "output_type": "display_data"
    }
   ],
   "source": [
    "#number of dropouts as stacked bars\n",
    "data_mode = 'bm_'\n",
    "test_mode = 'drops'\n",
    "fig, axes_ = plt.subplots(nrows=1, ncols=1)\n",
    "fig.subplots_adjust(bottom=0.25)\n",
    "\n",
    "#reverse order of simulations\n",
    "#df_logs = dfs_logs[-1]\n",
    "\n",
    "#if ncols = 1  - transform into list\n",
    "axes = [axes_]\n",
    "\n",
    "#baseline\n",
    "df_logs = dfs_logs[-1]\n",
    "\n",
    "#axes_0_tw = axes[0].twinx()\n",
    "\n",
    "ind = np.arange(N_TICKS)    # the x locations for the groups\n",
    "width = 0.35       # the width of the bars: can also be len(x) sequence\n",
    "\n",
    "ind = df_logs.index.values[N_TICKS_BURN:N_TICKS_BURN + N_TICKS_DISPLAY] + 1\n",
    "\n",
    "lines = []\n",
    "i = 0\n",
    "\n",
    "markers = [\"ro\", \"r^\", \"r*\"]\n",
    "markerfacecolors = colors_\n",
    "colors_l = ['r', 'r', 'r']\n",
    "labels_raw = [\"nc\", \"inst\", \"sys\"]\n",
    "labels = ['baseline ' + x for x in labels_raw]\n",
    "data_ = []\n",
    "markers_ = []\n",
    "labels_ = []\n",
    "colors_graph_ = []\n",
    "data_columns = ['EParamTypes::HOStateDroppedOutNCDecStage',\\\n",
    "                   'EParamTypes::HOStateDroppedOutSEIStage',\\\n",
    "                   'EParamTypes::HOStateDroppedOutDesignStage',\\\n",
    "                   'EParamTypes::HONumberActiveAgents']\n",
    "\n",
    "for column in data_columns[0:3]:\n",
    "    data_.append(df_logs[column][N_TICKS_BURN:N_TICKS_BURN + N_TICKS_DISPLAY]/10000)\n",
    "    markers_.append(markers[i])\n",
    "    labels_.append(labels[i])\n",
    "    colors_graph_.append(colors_[i])\n",
    "\n",
    "    i = i + 1\n",
    "    \n",
    "pi = axes[0].stackplot(ind, data_, colors=tuple(['whitesmoke', 'yellowgreen', 'coral']), labels=tuple(labels_))\n",
    "    \n",
    "\n",
    "\n",
    "for pi_ in pi:\n",
    "    lines.append(pi_)\n",
    "\n",
    "    \n",
    "markers = [\"go\", \"g^\", \"g*\"]\n",
    "colors_l = ['g', 'g', 'g']\n",
    "labels = ['high ef ' + x for x in labels_raw]\n",
    "\n",
    "   \n",
    "\n",
    "axes[0].set_xlabel(\"Time\")\n",
    "axes[0].set_ylabel(\"Dropouts as a share of population\")\n",
    "\n",
    "\n",
    "#axes[0].set_autoscaley_on(False)\n",
    "axes[0].set_xlim([N_TICKS_BURN +1,N_TICKS_BURN +N_TICKS_DISPLAY])\n",
    "#axes_0_tw.set_ylim([0.0, 5.0])\n",
    "start = N_TICKS_BURN +1\n",
    "end = N_TICKS_BURN +N_TICKS_DISPLAY\n",
    "axes[0].xaxis.set_ticks(np.arange(start, end, 25))\n",
    "\n",
    "\n",
    "\n",
    "\n",
    "# Shrink current axis's height by 10% on the bottom\n",
    "box = axes[0].get_position()\n",
    "axes[0].set_position([box.x0, box.y0 + box.height * 0.2,\n",
    "                 box.width, box.height * 0.8])\n",
    "\n",
    "# Put a legend below current axis\n",
    "lgd = axes[0].legend(lines, [l.get_label() for l in lines], loc='upper center', bbox_to_anchor=(0.5, -0.15),\\\n",
    "          fancybox=True, shadow=True, fontsize='10', ncol = 2)\n",
    "\n",
    "\n",
    "\n",
    "\n",
    "plt.tight_layout()\n",
    "plt.savefig('Simulation_results_' + data_mode + test_mode + '_Mar18' + '.png', dpi=300, bbox_extra_artists=(lgd,), bbox_inches='tight')\n",
    "plt.show()"
   ]
  },
  {
   "cell_type": "code",
   "execution_count": 375,
   "metadata": {
    "collapsed": true
   },
   "outputs": [],
   "source": [
    "dfs_logs[-1]['SumEParamTypes::HOStateDroppedOutTickNCDecStage'] = dfs_logs[-1]['EParamTypes::HOStateDroppedOutTickNCDecStage'].cumsum()\n",
    "dfs_logs[-1]['SumEParamTypes::HOStateDroppedOutTickSEIStage'] = dfs_logs[-1]['EParamTypes::HOStateDroppedOutTickSEIStage'].cumsum()\n",
    "dfs_logs[-1]['SumEParamTypes::HOStateDroppedOutTickDesignStage'] = dfs_logs[-1]['EParamTypes::HOStateDroppedOutTickDesignStage'].cumsum()"
   ]
  },
  {
   "cell_type": "code",
   "execution_count": 376,
   "metadata": {
    "collapsed": false
   },
   "outputs": [
    {
     "data": {
      "image/png": "[encoded data removed]",
      "text/plain": [
       "<matplotlib.figure.Figure at 0x2851c8be198>"
      ]
     },
     "metadata": {},
     "output_type": "display_data"
    }
   ],
   "source": [
    "#number of dropouts as stacked bars\n",
    "data_mode = 'bm_'\n",
    "test_mode = 'drops'\n",
    "fig, axes_ = plt.subplots(nrows=1, ncols=1)\n",
    "fig.subplots_adjust(bottom=0.25)\n",
    "\n",
    "#reverse order of simulations\n",
    "#df_logs = dfs_logs[-1]\n",
    "\n",
    "#if ncols = 1  - transform into list\n",
    "par1 = axes_.twinx()\n",
    "axes = [axes_, par1]\n",
    "\n",
    "#baseline\n",
    "df_logs = dfs_logs[-1]\n",
    "\n",
    "#axes_0_tw = axes[0].twinx()\n",
    "\n",
    "ind = np.arange(N_TICKS)    # the x locations for the groups\n",
    "width = 0.35       # the width of the bars: can also be len(x) sequence\n",
    "\n",
    "ind = df_logs.index.values[N_TICKS_BURN:N_TICKS_BURN + N_TICKS_DISPLAY] + 1\n",
    "\n",
    "lines = []\n",
    "i = 0\n",
    "\n",
    "markers = [\"ro\", \"r^\", \"r*\"]\n",
    "markerfacecolors = colors_\n",
    "colors_l = ['r', 'r', 'r']\n",
    "labels_raw = [\"nc\", \"inst\", \"sys\"]\n",
    "labels = ['baseline ' + x for x in labels_raw]\n",
    "data_ = []\n",
    "markers_ = []\n",
    "labels_ = []\n",
    "colors_graph_ = []\n",
    "data_columns = ['SumEParamTypes::HOStateDroppedOutTickNCDecStage',\\\n",
    "                   'SumEParamTypes::HOStateDroppedOutTickSEIStage',\\\n",
    "                   'SumEParamTypes::HOStateDroppedOutTickDesignStage',\\\n",
    "                   'EParamTypes::HONumberActiveAgents']\n",
    "\n",
    "for column in data_columns[0:3]:\n",
    "    data_.append(df_logs[column][N_TICKS_BURN:N_TICKS_BURN + N_TICKS_DISPLAY]/10000)\n",
    "    markers_.append(markers[i])\n",
    "    labels_.append(labels[i])\n",
    "    colors_graph_.append(colors_[i])\n",
    "\n",
    "    i = i + 1\n",
    "    \n",
    "pi = axes[0].stackplot(ind, data_, colors=tuple(['whitesmoke', 'yellowgreen', 'coral']), labels=tuple(labels_))\n",
    "    \n",
    "\n",
    "\n",
    "for pi_ in pi:\n",
    "    lines.append(pi_)\n",
    "\n",
    "    \n",
    "markers = [\"go\", \"g^\", \"g*\"]\n",
    "colors_l = ['g', 'g', 'g']\n",
    "labels = ['high ef ' + x for x in labels_raw]\n",
    "\n",
    "   \n",
    "\n",
    "axes[0].set_xlabel(\"Time\")\n",
    "axes[0].set_ylabel(\"Dropouts as a share of population\")\n",
    "\n",
    "\n",
    "#axes[0].set_autoscaley_on(False)\n",
    "axes[0].set_xlim([N_TICKS_BURN +1,N_TICKS_BURN +N_TICKS_DISPLAY])\n",
    "#axes_0_tw.set_ylim([0.0, 5.0])\n",
    "start = N_TICKS_BURN +1\n",
    "end = N_TICKS_BURN +N_TICKS_DISPLAY\n",
    "axes[0].xaxis.set_ticks(np.arange(start, end, 25))\n",
    "\n",
    "\n",
    "\n",
    "\n",
    "# Shrink current axis's height by 10% on the bottom\n",
    "box = axes[0].get_position()\n",
    "axes[0].set_position([box.x0, box.y0 + box.height * 0.2,\n",
    "                 box.width, box.height * 0.8])\n",
    "\n",
    "# Put a legend below current axis\n",
    "lgd = axes[0].legend(lines, [l.get_label() for l in lines], loc='upper center', bbox_to_anchor=(0.5, -0.15),\\\n",
    "          fancybox=True, shadow=True, fontsize='10', ncol = 2)\n",
    "\n",
    "\n",
    "markers = [\"o-\", \"--\", \"--\", \"--\", \"*-\"]\n",
    "markerfacecolors = colors_\n",
    "colors_l = ['r', 'r', 'r']\n",
    "labels = ['tariff ' + str(x) for x in np.linspace(0.0,0.3,N_TESTS,endpoint=True)]\n",
    "\n",
    "#number of installs\n",
    "pi, = axes[1].plot(ind, dfs_w[-1]['N_installed_sum'][N_TICKS_BURN:N_TICKS_BURN + N_TICKS_DISPLAY]/10000, markers[1], linewidth=5)\n",
    "\n",
    "axes[1].set_ylabel(\"Total installs as a share of population\")\n",
    "\n",
    "\n",
    "plt.tight_layout()\n",
    "plt.savefig('Simulation_results_' + data_mode + test_mode + '_Jun18' + '.png', dpi=300, bbox_extra_artists=(lgd,), bbox_inches='tight')\n",
    "plt.show()"
   ]
  },
  {
   "cell_type": "code",
   "execution_count": 377,
   "metadata": {
    "collapsed": false
   },
   "outputs": [
    {
     "name": "stdout",
     "output_type": "stream",
     "text": [
      "4\n",
      "4\n"
     ]
    }
   ],
   "source": [
    "print(len(dfs_logs))\n",
    "print(N_TESTS)"
   ]
  },
  {
   "cell_type": "code",
   "execution_count": 378,
   "metadata": {
    "collapsed": false
   },
   "outputs": [
    {
     "data": {
      "text/plain": [
       "670.44444444444446"
      ]
     },
     "execution_count": 378,
     "metadata": {},
     "output_type": "execute_result"
    }
   ],
   "source": [
    "dfs_w[0]['N_installed_sum'].values[N_TICKS_BURN +N_TICKS_DISPLAY]"
   ]
  },
  {
   "cell_type": "code",
   "execution_count": 379,
   "metadata": {
    "collapsed": true
   },
   "outputs": [],
   "source": [
    "data_columns = ['EParamTypes::HOStateDroppedOutNCDecStage',\\\n",
    "                   'EParamTypes::HOStateDroppedOutSEIStage',\\\n",
    "                   'EParamTypes::HOStateDroppedOutDesignStage']\n",
    "\n",
    "data_drops = []\n",
    "column_i = 0\n",
    "for column in data_columns[0:3]:\n",
    "    data_drops.append([])\n",
    "\n",
    "    for i in range(N_TESTS):\n",
    "        #print(dfs_logs[i][column][N_TICKS_BURN+N_TICKS_DISPLAY-1:N_TICKS_BURN +N_TICKS_DISPLAY].values[-1])\n",
    "        data_drops[column_i].append(dfs_logs[i][column][N_TICKS_BURN+N_TICKS_DISPLAY-1:N_TICKS_BURN +N_TICKS_DISPLAY].values[-1]\\\n",
    "                                    /dfs_w[i]['N_installed_sum'].values[N_TICKS_BURN +N_TICKS_DISPLAY])\n",
    "    column_i = column_i + 1     \n"
   ]
  },
  {
   "cell_type": "code",
   "execution_count": 380,
   "metadata": {
    "collapsed": false
   },
   "outputs": [
    {
     "name": "stdout",
     "output_type": "stream",
     "text": [
      "[[6.0200530328140536, 6.2890826435065819, 6.9570081479447037, 7.5517666634041296], [1.4284719920450779, 1.4694327588546614, 1.5810674723061429, 1.6940589214055009], [0.72331786542923437, 0.72703216175871899, 0.74347706673990666, 0.76061466183811299]]\n"
     ]
    }
   ],
   "source": [
    "print(data_drops)"
   ]
  },
  {
   "cell_type": "code",
   "execution_count": 381,
   "metadata": {
    "collapsed": false
   },
   "outputs": [
    {
     "name": "stdout",
     "output_type": "stream",
     "text": [
      "[[6.0200530328140536, 6.2890826435065819, 6.9570081479447037, 7.5517666634041296]]\n"
     ]
    }
   ],
   "source": [
    "data_drops_acc = [[data_drops[0][i] for i in range(N_TESTS)]]\n",
    "print(data_drops_acc)\n",
    "        "
   ]
  },
  {
   "cell_type": "code",
   "execution_count": 382,
   "metadata": {
    "collapsed": false
   },
   "outputs": [
    {
     "name": "stdout",
     "output_type": "stream",
     "text": [
      "[[6.0200530328140536, 6.2890826435065819, 6.9570081479447037, 7.5517666634041296], [7.4485250248591317, 7.758515402361243, 8.5380756202508472, 9.24582558480963], [8.1718428902883655, 8.4855475641199618, 9.2815526869907536, 10.006440246647744]]\n"
     ]
    }
   ],
   "source": [
    "for i in range(1, len(data_drops), 1):\n",
    "    data_drops_acc.append([])\n",
    "    #print(data_drops_acc)\n",
    "    for j in range(0, N_TESTS, 1):\n",
    "        data_drops_acc[i].append(data_drops_acc[i-1][j] + data_drops[i][j])\n",
    "        \n",
    "print(data_drops_acc)"
   ]
  },
  {
   "cell_type": "code",
   "execution_count": 383,
   "metadata": {
    "collapsed": false
   },
   "outputs": [
    {
     "name": "stdout",
     "output_type": "stream",
     "text": [
      "0.237285615967\n",
      "0.233648187208\n",
      "0.227262558658\n",
      "0.224326173849\n"
     ]
    }
   ],
   "source": [
    "for i in range(len(data_drops[0])):\n",
    "    print(data_drops[1][i]/data_drops[0][i])"
   ]
  },
  {
   "cell_type": "code",
   "execution_count": 384,
   "metadata": {
    "collapsed": false
   },
   "outputs": [
    {
     "name": "stdout",
     "output_type": "stream",
     "text": [
      "0.120151410874\n",
      "0.11560225918\n",
      "0.106867356043\n",
      "0.100720095805\n"
     ]
    }
   ],
   "source": [
    "for i in range(len(data_drops[0])):\n",
    "    print(data_drops[2][i]/data_drops[0][i])"
   ]
  },
  {
   "cell_type": "code",
   "execution_count": 385,
   "metadata": {
    "collapsed": false
   },
   "outputs": [
    {
     "data": {
      "text/plain": [
       "3"
      ]
     },
     "execution_count": 385,
     "metadata": {},
     "output_type": "execute_result"
    }
   ],
   "source": [
    "len(data_columns)"
   ]
  },
  {
   "cell_type": "code",
   "execution_count": 386,
   "metadata": {
    "collapsed": false
   },
   "outputs": [
    {
     "name": "stdout",
     "output_type": "stream",
     "text": [
      "[7.4485250248591317, 7.758515402361243, 8.5380756202508472, 9.24582558480963]\n",
      "[6.0200530328140536, 6.2890826435065819, 6.9570081479447037, 7.5517666634041296]\n",
      "[8.1718428902883655, 8.4855475641199618, 9.2815526869907536, 10.006440246647744]\n",
      "[7.4485250248591317, 7.758515402361243, 8.5380756202508472, 9.24582558480963]\n"
     ]
    },
    {
     "data": {
      "image/png": "[encoded data removed]",
      "text/plain": [
       "<matplotlib.figure.Figure at 0x2851c383c18>"
      ]
     },
     "metadata": {},
     "output_type": "display_data"
    }
   ],
   "source": [
    "#number of dropouts as stacked bars\n",
    "data_mode = 'bm_'\n",
    "test_mode = 'drops_all_tariff'\n",
    "fig, axes_ = plt.subplots(nrows=1, ncols=1)\n",
    "fig.subplots_adjust(bottom=0.25)\n",
    "\n",
    "#if ncols = 1  - transform into list\n",
    "axes = [axes_]\n",
    "\n",
    "ind = np.arange(len(dfs_logs))    # the x locations for the groups\n",
    "width = 0.35       # the width of the bars: can also be len(x) sequence\n",
    "\n",
    "\n",
    "colors_drops = tuple(['whitesmoke', 'yellowgreen', 'coral'])\n",
    "\n",
    "#N_TESTS = len(dfs_logs)\n",
    "labels_raw = [\"nc\", \"inst\", \"sys\"]\n",
    "labels_hist = ['drop at ' + x for x in labels_raw]\n",
    "\n",
    "p1 = axes[0].bar(ind[0:N_TESTS], data_drops_acc[0][0:N_TESTS],\\\n",
    "                 width, color=colors_drops[0], label = labels_hist[0])\n",
    "lines = [p1]\n",
    "\n",
    "\n",
    "\n",
    "for bin_ in range(1, len(data_columns), 1):\n",
    "    print(data_drops_acc[bin_][0:N_TESTS])\n",
    "    print(data_drops_acc[bin_ - 1][0:N_TESTS])\n",
    "    p2 = axes[0].bar(ind[0:N_TESTS], \\\n",
    "                     data_drops[bin_][0:N_TESTS], \\\n",
    "                     width, color=colors_drops[bin_], \\\n",
    "                  bottom=data_drops_acc[bin_ - 1][0:N_TESTS], label = labels_hist[bin_])\n",
    "    lines.append(p2)\n",
    "    \n",
    "axes[0].set_xlabel(\"Test case\")\n",
    "axes[0].set_ylabel(\"Dropouts as a share of installed population\")\n",
    "#axes[0].set_title('Accumulated % installations \\n by the level \\n of income', fontsize=10)\n",
    "\n",
    "\n",
    "axes[0].set_xticks(ind[0:N_TESTS] + width / 2)\n",
    "axes[0].set_xticklabels(ind[0:N_TESTS])\n",
    "x_labels = ['1', '2', '3', '4']\n",
    "labels = ['tariff ' + str(x) for x in np.linspace(0.0,0.3,N_TESTS,endpoint=True)]\n",
    "x_labels = labels\n",
    "axes[0].set_xticklabels(x_labels)\n",
    "\n",
    "# Put a legend below current axis\n",
    "lgd = axes[0].legend(lines, [l.get_label() for l in lines], loc='upper center', bbox_to_anchor=(0.5, -0.15),\\\n",
    "          fancybox=False, shadow=False, fontsize='10', ncol = 2)\n",
    "\n",
    "\n",
    "\n",
    "plt.tight_layout()\n",
    "plt.savefig('Simulation_results_' + data_mode + test_mode + '_Jun18' + '.png', dpi=300, bbox_extra_artists=(lgd,), bbox_inches='tight')\n",
    "plt.show()"
   ]
  },
  {
   "cell_type": "code",
   "execution_count": null,
   "metadata": {
    "collapsed": true
   },
   "outputs": [],
   "source": []
  },
  {
   "cell_type": "code",
   "execution_count": null,
   "metadata": {
    "collapsed": true
   },
   "outputs": [],
   "source": []
  },
  {
   "cell_type": "code",
   "execution_count": 52,
   "metadata": {
    "collapsed": false
   },
   "outputs": [
    {
     "name": "stdout",
     "output_type": "stream",
     "text": [
      "[0 1 2 3]\n"
     ]
    }
   ],
   "source": [
    "print(ind)"
   ]
  },
  {
   "cell_type": "code",
   "execution_count": null,
   "metadata": {
    "collapsed": true
   },
   "outputs": [],
   "source": [
    "#penetration by income group in time?\n",
    "#penetration by el bill in time? \n",
    "\n"
   ]
  },
  {
   "cell_type": "code",
   "execution_count": 121,
   "metadata": {
    "collapsed": false
   },
   "outputs": [
    {
     "name": "stdout",
     "output_type": "stream",
     "text": [
      "..\\..\\ABMIRISLab\\Saves\\Jan-11-2018\\BaseModel\\BaseVer02\\CA\\tariff0.3\\37ed7bcf-e806-4fe2-b2bd-2b652ec7bcfd_pr.csv\n",
      "..\\..\\ABMIRISLab\\Saves\\Jan-11-2018\\BaseModel\\BaseVer02\\CA\\tariff0.3\\29656eab-e4f9-4d65-92c2-d4bad48df315_pr.csv\n",
      "..\\..\\ABMIRISLab\\Saves\\Jan-11-2018\\BaseModel\\BaseVer02\\CA\\tariff0.3\\5ca7a082-1cb0-448c-8278-36425f94ad49_pr.csv\n",
      "..\\..\\ABMIRISLab\\Saves\\Jan-11-2018\\BaseModel\\BaseVer02\\CA\\tariff0.3\\c7b012ba-3ad5-40cc-81b1-2d92ba81cae8_pr.csv\n",
      "..\\..\\ABMIRISLab\\Saves\\Jan-11-2018\\BaseModel\\BaseVer02\\CA\\tariff0.3\\20cf97d0-c313-4815-b0e7-8a952ec0ca19_pr.csv\n",
      "..\\..\\ABMIRISLab\\Saves\\Jan-11-2018\\BaseModel\\BaseVer02\\CA\\tariff0.3\\1c784f8d-59fd-42ee-8b26-6c2e8c0d8558_pr.csv\n",
      "..\\..\\ABMIRISLab\\Saves\\Jan-11-2018\\BaseModel\\BaseVer02\\CA\\tariff0.3\\3aab8956-253b-4ccb-8a0d-9ba92eee7158_pr.csv\n",
      "..\\..\\ABMIRISLab\\Saves\\Jan-11-2018\\BaseModel\\BaseVer02\\CA\\tariff0.3\\f3cbc1de-38ce-4ac5-b4f0-7f193f542927_pr.csv\n"
     ]
    }
   ],
   "source": [
    "#location x, location y \n",
    "\n",
    "\n",
    "# for each line - place into location\n",
    "# average over locations\n",
    "#\n",
    "#\n",
    "\n",
    "N_TILES = 10\n",
    "N_SEEDS = 8\n",
    "\n",
    "test_mode = 'BaseVer02'\n",
    "data_mode = 'CA'\n",
    "\n",
    "#names of columns in a file\n",
    "names = ['Tick', 'Location_x', 'Location_y', 'Uid', 'Price_per_watt', 'DC_size', 'Origin', 'Mart_type']\n",
    "\n",
    "raw_data_per_tick = []\n",
    "raw_data_dfs_per_tick = []\n",
    "tick_bins = []\n",
    "for i in range(4):\n",
    "    #to store final results\n",
    "    raw_data_per_tick.append(np.zeros((N_TILES, N_TILES)))\n",
    "    #to store intermediate results\n",
    "    raw_data_dfs_per_tick.append(np.zeros((N_SEEDS, N_TILES, N_TILES)))\n",
    "    #tick edges\n",
    "    tick_bins.append(N_TICKS/4 *(i))\n",
    "\n",
    "\n",
    "#here only baseline scenario is analyzed    \n",
    "params_versions = [str(x) for x in np.linspace(0.0,0.3,N_TESTS,endpoint=False)]\n",
    "    \n",
    "#read few files\n",
    "#save into database\n",
    "dfs_ = []\n",
    "#read last simulation result\n",
    "files = glob.glob('..\\\\..\\\\ABMIRISLab\\\\Saves\\\\Jan-11-2018\\\\BaseModel\\\\'+ test_mode + '\\\\' + data_mode + \\\n",
    "                 '\\\\tariff' + str(0.3) + '\\\\*[_pr].csv')\n",
    "files.sort(key=os.path.getmtime, reverse=True)\n",
    "\n",
    "#take top x files, assume only one type of a simulation run in a folder \n",
    "i_run = 0\n",
    "\n",
    "for file in files[i_run * N_SEEDS : (i_run + 1) * N_SEEDS]:\n",
    "    print(file)\n",
    "    df_ = pd.read_csv(file, names=names, low_memory=False, na_values = ['-nan(ind)'])\n",
    "    dfs_.append(df_)\n",
    "\n",
    "    \n",
    "raw_data_dfs = np.zeros((len(dfs_), N_TILES, N_TILES))\n",
    "\n",
    "indexes = [0.0, 0.0, 0.0, 0.0]\n",
    "\n",
    "k = 0\n",
    "for df_ in dfs_:\n",
    "    \n",
    "    \n",
    "    \n",
    "    for i in range(N_TILES):\n",
    "        for j in range(N_TILES):\n",
    "            index = df_[(df_['Location_x'] == i) & \\\n",
    "                        (df_['Location_y'] == j)].index \n",
    "                             \n",
    "            indexes[0] = df_[(df_['Location_x'] == i) & \\\n",
    "                        (df_['Location_y'] == j) & \\\n",
    "                         (df_['Tick'] < tick_bins[0])].index\n",
    "            \n",
    "            indexes[1] = df_[(df_['Location_x'] == i) & \\\n",
    "                        (df_['Location_y'] == j) & \\\n",
    "                         (df_['Tick'] < tick_bins[1])].index\n",
    "            \n",
    "            indexes[2] = df_[(df_['Location_x'] == i) & \\\n",
    "                        (df_['Location_y'] == j) & \\\n",
    "                         (df_['Tick'] < tick_bins[2])].index\n",
    "                             \n",
    "            raw_data_dfs_per_tick[0][k, i, j] = df_.iloc[indexes[0]].shape[0]\n",
    "            raw_data_dfs_per_tick[1][k, i, j] = df_.iloc[indexes[1]].shape[0]\n",
    "            raw_data_dfs_per_tick[2][k, i, j] = df_.iloc[indexes[2]].shape[0]\n",
    "            raw_data_dfs_per_tick[-1][k, i, j] = df_.iloc[index].shape[0]\n",
    "            \n",
    "    k = k + 1\n",
    "    \n",
    "    raw_data_per_tick[0] = np.mean(raw_data_dfs_per_tick[0], axis = 0)\n",
    "    raw_data_per_tick[1] = np.mean(raw_data_dfs_per_tick[1], axis = 0)\n",
    "    raw_data_per_tick[2] = np.mean(raw_data_dfs_per_tick[2], axis = 0)\n",
    "    raw_data_per_tick[-1] = np.mean(raw_data_dfs_per_tick[-1], axis = 0)\n",
    "    \n",
    "    \n",
    "#create df from them    \n",
    "dfs_inst = dfs_\n",
    "\n",
    "#blank first step\n",
    "raw_data_per_tick[0] = np.zeros((N_TILES, N_TILES)) + 0.01"
   ]
  },
  {
   "cell_type": "code",
   "execution_count": 122,
   "metadata": {
    "collapsed": false
   },
   "outputs": [
    {
     "data": {
      "text/html": [
       "<div>\n",
       "<table border=\"1\" class=\"dataframe\">\n",
       "  <thead>\n",
       "    <tr style=\"text-align: right;\">\n",
       "      <th></th>\n",
       "      <th>Tick</th>\n",
       "      <th>Location_x</th>\n",
       "      <th>Location_y</th>\n",
       "      <th>Uid</th>\n",
       "      <th>Price_per_watt</th>\n",
       "      <th>DC_size</th>\n",
       "      <th>Mart_type</th>\n",
       "    </tr>\n",
       "  </thead>\n",
       "  <tbody>\n",
       "    <tr>\n",
       "      <th>0</th>\n",
       "      <td>37</td>\n",
       "      <td>9</td>\n",
       "      <td>2</td>\n",
       "      <td>43</td>\n",
       "      <td>2.8</td>\n",
       "      <td>2749.75</td>\n",
       "      <td>0</td>\n",
       "    </tr>\n",
       "    <tr>\n",
       "      <th>1</th>\n",
       "      <td>55</td>\n",
       "      <td>8</td>\n",
       "      <td>1</td>\n",
       "      <td>51</td>\n",
       "      <td>2.8</td>\n",
       "      <td>1820.13</td>\n",
       "      <td>0</td>\n",
       "    </tr>\n",
       "    <tr>\n",
       "      <th>2</th>\n",
       "      <td>45</td>\n",
       "      <td>4</td>\n",
       "      <td>5</td>\n",
       "      <td>55</td>\n",
       "      <td>2.8</td>\n",
       "      <td>3920.07</td>\n",
       "      <td>0</td>\n",
       "    </tr>\n",
       "    <tr>\n",
       "      <th>3</th>\n",
       "      <td>54</td>\n",
       "      <td>6</td>\n",
       "      <td>7</td>\n",
       "      <td>44</td>\n",
       "      <td>2.8</td>\n",
       "      <td>7000.12</td>\n",
       "      <td>0</td>\n",
       "    </tr>\n",
       "    <tr>\n",
       "      <th>4</th>\n",
       "      <td>55</td>\n",
       "      <td>8</td>\n",
       "      <td>2</td>\n",
       "      <td>40</td>\n",
       "      <td>2.8</td>\n",
       "      <td>4674.57</td>\n",
       "      <td>0</td>\n",
       "    </tr>\n",
       "  </tbody>\n",
       "</table>\n",
       "</div>"
      ],
      "text/plain": [
       "   Tick  Location_x  Location_y  Uid  Price_per_watt  DC_size  Mart_type\n",
       "0    37           9           2   43             2.8  2749.75          0\n",
       "1    55           8           1   51             2.8  1820.13          0\n",
       "2    45           4           5   55             2.8  3920.07          0\n",
       "3    54           6           7   44             2.8  7000.12          0\n",
       "4    55           8           2   40             2.8  4674.57          0"
      ]
     },
     "execution_count": 122,
     "metadata": {},
     "output_type": "execute_result"
    }
   ],
   "source": [
    "dfs_inst[-1].head(5)"
   ]
  },
  {
   "cell_type": "code",
   "execution_count": 102,
   "metadata": {
    "collapsed": true
   },
   "outputs": [],
   "source": [
    "#define min and max installs\n",
    "max_installs = np.amax(raw_data_per_tick[3])\n",
    "min_installs = 0 "
   ]
  },
  {
   "cell_type": "code",
   "execution_count": 103,
   "metadata": {
    "collapsed": true
   },
   "outputs": [],
   "source": [
    "def truncate_colormap(cmap, minval=0.0, maxval=1.0, n=100):\n",
    "    new_cmap = colors.LinearSegmentedColormap.from_list(\n",
    "        'trunc({n},{a:.2f},{b:.2f})'.format(n=cmap.name, a=minval, b=maxval),\n",
    "        cmap(np.linspace(minval, maxval, n)))\n",
    "    return new_cmap"
   ]
  },
  {
   "cell_type": "code",
   "execution_count": 104,
   "metadata": {
    "collapsed": true
   },
   "outputs": [],
   "source": [
    "cmap = cm.get_cmap('Greys')\n",
    "new_cmap = truncate_colormap(cmap, 0.2, 0.8)"
   ]
  },
  {
   "cell_type": "code",
   "execution_count": 105,
   "metadata": {
    "collapsed": true
   },
   "outputs": [],
   "source": [
    "raw_data_per_tick_norm = [0.0, 0.0, 0.0, 0.0]\n",
    "for i in range(4):\n",
    "    raw_data_per_tick_norm[i] = raw_data_per_tick[i] / max_installs"
   ]
  },
  {
   "cell_type": "code",
   "execution_count": 20,
   "metadata": {
    "collapsed": false
   },
   "outputs": [
    {
     "name": "stderr",
     "output_type": "stream",
     "text": [
      "C:\\Users\\wilfeli\\Anaconda3\\envs\\aimacro\\lib\\site-packages\\ipykernel\\__main__.py:13: VisibleDeprecationWarning: using a non-integer number instead of an integer will result in an error in the future\n",
      "C:\\Users\\wilfeli\\Anaconda3\\envs\\aimacro\\lib\\site-packages\\ipykernel\\__main__.py:18: VisibleDeprecationWarning: using a non-integer number instead of an integer will result in an error in the future\n",
      "C:\\Users\\wilfeli\\Anaconda3\\envs\\aimacro\\lib\\site-packages\\ipykernel\\__main__.py:19: VisibleDeprecationWarning: using a non-integer number instead of an integer will result in an error in the future\n",
      "C:\\Users\\wilfeli\\Anaconda3\\envs\\aimacro\\lib\\site-packages\\ipykernel\\__main__.py:21: VisibleDeprecationWarning: using a non-integer number instead of an integer will result in an error in the future\n",
      "C:\\Users\\wilfeli\\Anaconda3\\envs\\aimacro\\lib\\site-packages\\ipykernel\\__main__.py:22: VisibleDeprecationWarning: using a non-integer number instead of an integer will result in an error in the future\n",
      "C:\\Users\\wilfeli\\Anaconda3\\envs\\aimacro\\lib\\site-packages\\ipykernel\\__main__.py:24: VisibleDeprecationWarning: using a non-integer number instead of an integer will result in an error in the future\n",
      "C:\\Users\\wilfeli\\Anaconda3\\envs\\aimacro\\lib\\site-packages\\ipykernel\\__main__.py:25: VisibleDeprecationWarning: using a non-integer number instead of an integer will result in an error in the future\n",
      "C:\\Users\\wilfeli\\Anaconda3\\envs\\aimacro\\lib\\site-packages\\ipykernel\\__main__.py:27: VisibleDeprecationWarning: using a non-integer number instead of an integer will result in an error in the future\n",
      "C:\\Users\\wilfeli\\Anaconda3\\envs\\aimacro\\lib\\site-packages\\ipykernel\\__main__.py:31: VisibleDeprecationWarning: using a non-integer number instead of an integer will result in an error in the future\n",
      "C:\\Users\\wilfeli\\Anaconda3\\envs\\aimacro\\lib\\site-packages\\ipykernel\\__main__.py:45: VisibleDeprecationWarning: using a non-integer number instead of an integer will result in an error in the future\n",
      "C:\\Users\\wilfeli\\Anaconda3\\envs\\aimacro\\lib\\site-packages\\ipykernel\\__main__.py:46: VisibleDeprecationWarning: using a non-integer number instead of an integer will result in an error in the future\n",
      "C:\\Users\\wilfeli\\Anaconda3\\envs\\aimacro\\lib\\site-packages\\ipykernel\\__main__.py:48: VisibleDeprecationWarning: using a non-integer number instead of an integer will result in an error in the future\n"
     ]
    },
    {
     "data": {
      "image/png": "[encoded data removed]",
      "text/plain": [
       "<matplotlib.figure.Figure at 0x1d70abfe160>"
      ]
     },
     "metadata": {},
     "output_type": "display_data"
    }
   ],
   "source": [
    "fig, axes = plt.subplots(nrows=2, ncols=2)\n",
    "#fig.subplots_adjust(bottom=0.5)\n",
    "\n",
    "\n",
    "for i in range(4):\n",
    "    lines = []\n",
    "\n",
    "#    cmap_custom = cm.get_cmap('YlGn')\n",
    "    cmap_custom = cm.get_cmap('Greys')\n",
    "    #cmap_custom = new_cmap\n",
    "\n",
    "    #image = np.random.uniform(size=(10, 10))\n",
    "    axes[i/2, i%2].imshow(raw_data_per_tick[i], cmap=cmap_custom, interpolation='nearest', vmin=0, vmax=max_installs)\n",
    "\n",
    "    #ax.set_title('Number of installations \\n in a neighborhood')\n",
    "\n",
    "    # Move left and bottom spines outward by 10 points\n",
    "    axes[i/2, i%2].spines['left'].set_position(('outward', 10))\n",
    "    axes[i/2, i%2].spines['bottom'].set_position(('outward', 10))\n",
    "    # Hide the right and top spines\n",
    "    axes[i/2, i%2].spines['right'].set_visible(False)\n",
    "    axes[i/2, i%2].spines['top'].set_visible(False)\n",
    "    # Only show ticks on the left and bottom spines\n",
    "    axes[i/2, i%2].yaxis.set_ticks_position('left')\n",
    "    axes[i/2, i%2].xaxis.set_ticks_position('bottom')\n",
    "    \n",
    "    for tick in axes[i/2, i%2].get_xticklabels():\n",
    "        tick.set_rotation(90)\n",
    "        tick.set_fontsize('x-small')\n",
    "        \n",
    "    for tick in axes[i/2, i%2].get_yticklabels():\n",
    "        tick.set_fontsize('x-small')\n",
    "\n",
    "    labels_ = ['mi']\n",
    "    xs = range(10)\n",
    "\n",
    "    from matplotlib.ticker import FuncFormatter, MaxNLocator\n",
    "    def format_fn(tick_val, tick_pos):\n",
    "        if int(tick_val) in xs:\n",
    "            return str(tick_val * 1.5) + ' ' + labels_[0]\n",
    "        else:\n",
    "            return ''\n",
    "\n",
    "\n",
    "    axes[i/2, i%2].xaxis.set_major_formatter(FuncFormatter(format_fn))\n",
    "    axes[i/2, i%2].yaxis.set_major_formatter(FuncFormatter(format_fn))\n",
    "\n",
    "    axes[i/2, i%2].grid(False)\n",
    "\n",
    "\n",
    "\n",
    "\n",
    "#    handles, labels = ax.get_legend_handles_labels()\n",
    "\n",
    "    # Put a legend below current axis\n",
    "    #lgd = ax.legend(handles, ['test'], loc='lower center', bbox_to_anchor=(0.5, -0.25),\\\n",
    "    #          fancybox=True, shadow=True, fontsize='10', ncol = 2)\n",
    "\n",
    "    \n",
    "#add comment to the first plot\n",
    "font = {'family': 'serif',\n",
    "        'color':  'darkolivegreen',\n",
    "        'weight': 'normal',\n",
    "        'size': 10,\n",
    "        }\n",
    "axes[0,0].text(0.0, 5.0, 'uniform zero', fontdict=font)\n",
    "    \n",
    "\n",
    "plt.tight_layout()\n",
    "data_mode = 'test'\n",
    "plt.savefig('Simulation_results_spatial_' + data_mode + '_Mar14' + '.png', dpi=300)\n",
    "\n",
    "plt.show()"
   ]
  },
  {
   "cell_type": "code",
   "execution_count": 21,
   "metadata": {
    "collapsed": true
   },
   "outputs": [],
   "source": [
    "#redo bubbles figure"
   ]
  },
  {
   "cell_type": "code",
   "execution_count": 123,
   "metadata": {
    "collapsed": true
   },
   "outputs": [],
   "source": [
    "dfs_agg_inst = []\n",
    "for df_ in dfs_inst:\n",
    "\n",
    "    df_['Count'] = 1\n",
    "    grouped = df_.groupby('Uid', sort=False)\n",
    "    df_agg = grouped.agg({'Price_per_watt' : np.median,\\\n",
    "             'DC_size' : np.median, \\\n",
    "            'Count' : np.sum})\n",
    "    dfs_agg_inst.append(df_agg)\n",
    "    \n",
    "df_inst_all = pd.concat(dfs_agg_inst)\n",
    "df_inst_mean = df_agg.groupby(level=0).mean()"
   ]
  },
  {
   "cell_type": "code",
   "execution_count": 124,
   "metadata": {
    "collapsed": false
   },
   "outputs": [
    {
     "data": {
      "text/html": [
       "<div>\n",
       "<table border=\"1\" class=\"dataframe\">\n",
       "  <thead>\n",
       "    <tr style=\"text-align: right;\">\n",
       "      <th></th>\n",
       "      <th>Count</th>\n",
       "      <th>DC_size</th>\n",
       "      <th>Price_per_watt</th>\n",
       "    </tr>\n",
       "    <tr>\n",
       "      <th>Uid</th>\n",
       "      <th></th>\n",
       "      <th></th>\n",
       "      <th></th>\n",
       "    </tr>\n",
       "  </thead>\n",
       "  <tbody>\n",
       "    <tr>\n",
       "      <th>54</th>\n",
       "      <td>28</td>\n",
       "      <td>4533.330</td>\n",
       "      <td>2.51430</td>\n",
       "    </tr>\n",
       "    <tr>\n",
       "      <th>57</th>\n",
       "      <td>24</td>\n",
       "      <td>5175.890</td>\n",
       "      <td>2.61782</td>\n",
       "    </tr>\n",
       "    <tr>\n",
       "      <th>55</th>\n",
       "      <td>77</td>\n",
       "      <td>4768.280</td>\n",
       "      <td>2.48746</td>\n",
       "    </tr>\n",
       "    <tr>\n",
       "      <th>40</th>\n",
       "      <td>55</td>\n",
       "      <td>4399.600</td>\n",
       "      <td>2.59964</td>\n",
       "    </tr>\n",
       "    <tr>\n",
       "      <th>52</th>\n",
       "      <td>26</td>\n",
       "      <td>5362.005</td>\n",
       "      <td>2.63676</td>\n",
       "    </tr>\n",
       "    <tr>\n",
       "      <th>42</th>\n",
       "      <td>33</td>\n",
       "      <td>5499.490</td>\n",
       "      <td>2.60233</td>\n",
       "    </tr>\n",
       "    <tr>\n",
       "      <th>56</th>\n",
       "      <td>16</td>\n",
       "      <td>5226.090</td>\n",
       "      <td>2.51463</td>\n",
       "    </tr>\n",
       "    <tr>\n",
       "      <th>48</th>\n",
       "      <td>43</td>\n",
       "      <td>4160.680</td>\n",
       "      <td>2.60184</td>\n",
       "    </tr>\n",
       "    <tr>\n",
       "      <th>53</th>\n",
       "      <td>16</td>\n",
       "      <td>4140.710</td>\n",
       "      <td>2.52148</td>\n",
       "    </tr>\n",
       "    <tr>\n",
       "      <th>58</th>\n",
       "      <td>24</td>\n",
       "      <td>5520.950</td>\n",
       "      <td>2.52418</td>\n",
       "    </tr>\n",
       "    <tr>\n",
       "      <th>47</th>\n",
       "      <td>23</td>\n",
       "      <td>5060.570</td>\n",
       "      <td>2.58871</td>\n",
       "    </tr>\n",
       "    <tr>\n",
       "      <th>51</th>\n",
       "      <td>11</td>\n",
       "      <td>5459.720</td>\n",
       "      <td>2.53913</td>\n",
       "    </tr>\n",
       "    <tr>\n",
       "      <th>50</th>\n",
       "      <td>64</td>\n",
       "      <td>4501.090</td>\n",
       "      <td>2.48054</td>\n",
       "    </tr>\n",
       "    <tr>\n",
       "      <th>46</th>\n",
       "      <td>14</td>\n",
       "      <td>3576.210</td>\n",
       "      <td>2.50294</td>\n",
       "    </tr>\n",
       "    <tr>\n",
       "      <th>43</th>\n",
       "      <td>25</td>\n",
       "      <td>5033.180</td>\n",
       "      <td>2.45701</td>\n",
       "    </tr>\n",
       "    <tr>\n",
       "      <th>41</th>\n",
       "      <td>10</td>\n",
       "      <td>6051.265</td>\n",
       "      <td>2.59831</td>\n",
       "    </tr>\n",
       "    <tr>\n",
       "      <th>44</th>\n",
       "      <td>19</td>\n",
       "      <td>4125.860</td>\n",
       "      <td>2.48115</td>\n",
       "    </tr>\n",
       "    <tr>\n",
       "      <th>45</th>\n",
       "      <td>10</td>\n",
       "      <td>5405.615</td>\n",
       "      <td>2.48745</td>\n",
       "    </tr>\n",
       "    <tr>\n",
       "      <th>40</th>\n",
       "      <td>59</td>\n",
       "      <td>5290.600</td>\n",
       "      <td>2.47445</td>\n",
       "    </tr>\n",
       "    <tr>\n",
       "      <th>57</th>\n",
       "      <td>40</td>\n",
       "      <td>5693.475</td>\n",
       "      <td>2.60044</td>\n",
       "    </tr>\n",
       "  </tbody>\n",
       "</table>\n",
       "</div>"
      ],
      "text/plain": [
       "     Count   DC_size  Price_per_watt\n",
       "Uid                                 \n",
       "54      28  4533.330         2.51430\n",
       "57      24  5175.890         2.61782\n",
       "55      77  4768.280         2.48746\n",
       "40      55  4399.600         2.59964\n",
       "52      26  5362.005         2.63676\n",
       "42      33  5499.490         2.60233\n",
       "56      16  5226.090         2.51463\n",
       "48      43  4160.680         2.60184\n",
       "53      16  4140.710         2.52148\n",
       "58      24  5520.950         2.52418\n",
       "47      23  5060.570         2.58871\n",
       "51      11  5459.720         2.53913\n",
       "50      64  4501.090         2.48054\n",
       "46      14  3576.210         2.50294\n",
       "43      25  5033.180         2.45701\n",
       "41      10  6051.265         2.59831\n",
       "44      19  4125.860         2.48115\n",
       "45      10  5405.615         2.48745\n",
       "40      59  5290.600         2.47445\n",
       "57      40  5693.475         2.60044"
      ]
     },
     "execution_count": 124,
     "metadata": {},
     "output_type": "execute_result"
    }
   ],
   "source": [
    "df_inst_all.head(20)"
   ]
  },
  {
   "cell_type": "code",
   "execution_count": 107,
   "metadata": {
    "collapsed": false
   },
   "outputs": [
    {
     "data": {
      "text/html": [
       "<div>\n",
       "<table border=\"1\" class=\"dataframe\">\n",
       "  <thead>\n",
       "    <tr style=\"text-align: right;\">\n",
       "      <th></th>\n",
       "      <th>Count</th>\n",
       "      <th>DC_size</th>\n",
       "      <th>Price_per_watt</th>\n",
       "    </tr>\n",
       "    <tr>\n",
       "      <th>Uid</th>\n",
       "      <th></th>\n",
       "      <th></th>\n",
       "      <th></th>\n",
       "    </tr>\n",
       "  </thead>\n",
       "  <tbody>\n",
       "    <tr>\n",
       "      <th>40</th>\n",
       "      <td>41</td>\n",
       "      <td>4399.600</td>\n",
       "      <td>2.595290</td>\n",
       "    </tr>\n",
       "    <tr>\n",
       "      <th>41</th>\n",
       "      <td>50</td>\n",
       "      <td>5200.380</td>\n",
       "      <td>2.593990</td>\n",
       "    </tr>\n",
       "    <tr>\n",
       "      <th>42</th>\n",
       "      <td>64</td>\n",
       "      <td>5520.950</td>\n",
       "      <td>2.502640</td>\n",
       "    </tr>\n",
       "    <tr>\n",
       "      <th>43</th>\n",
       "      <td>36</td>\n",
       "      <td>4760.080</td>\n",
       "      <td>2.593150</td>\n",
       "    </tr>\n",
       "    <tr>\n",
       "      <th>44</th>\n",
       "      <td>50</td>\n",
       "      <td>5040.090</td>\n",
       "      <td>2.601570</td>\n",
       "    </tr>\n",
       "    <tr>\n",
       "      <th>45</th>\n",
       "      <td>22</td>\n",
       "      <td>5348.420</td>\n",
       "      <td>2.461145</td>\n",
       "    </tr>\n",
       "    <tr>\n",
       "      <th>46</th>\n",
       "      <td>55</td>\n",
       "      <td>4501.090</td>\n",
       "      <td>2.600780</td>\n",
       "    </tr>\n",
       "    <tr>\n",
       "      <th>47</th>\n",
       "      <td>37</td>\n",
       "      <td>4238.470</td>\n",
       "      <td>2.479600</td>\n",
       "    </tr>\n",
       "    <tr>\n",
       "      <th>48</th>\n",
       "      <td>65</td>\n",
       "      <td>4680.760</td>\n",
       "      <td>2.592880</td>\n",
       "    </tr>\n",
       "    <tr>\n",
       "      <th>49</th>\n",
       "      <td>28</td>\n",
       "      <td>4439.840</td>\n",
       "      <td>2.507620</td>\n",
       "    </tr>\n",
       "    <tr>\n",
       "      <th>50</th>\n",
       "      <td>53</td>\n",
       "      <td>4830.550</td>\n",
       "      <td>2.473760</td>\n",
       "    </tr>\n",
       "    <tr>\n",
       "      <th>51</th>\n",
       "      <td>31</td>\n",
       "      <td>4760.080</td>\n",
       "      <td>2.524070</td>\n",
       "    </tr>\n",
       "    <tr>\n",
       "      <th>52</th>\n",
       "      <td>26</td>\n",
       "      <td>4680.540</td>\n",
       "      <td>2.552660</td>\n",
       "    </tr>\n",
       "    <tr>\n",
       "      <th>53</th>\n",
       "      <td>2</td>\n",
       "      <td>6501.575</td>\n",
       "      <td>2.532085</td>\n",
       "    </tr>\n",
       "    <tr>\n",
       "      <th>54</th>\n",
       "      <td>31</td>\n",
       "      <td>5290.600</td>\n",
       "      <td>2.503670</td>\n",
       "    </tr>\n",
       "    <tr>\n",
       "      <th>55</th>\n",
       "      <td>49</td>\n",
       "      <td>3920.070</td>\n",
       "      <td>2.482930</td>\n",
       "    </tr>\n",
       "    <tr>\n",
       "      <th>56</th>\n",
       "      <td>29</td>\n",
       "      <td>5520.950</td>\n",
       "      <td>2.607580</td>\n",
       "    </tr>\n",
       "    <tr>\n",
       "      <th>57</th>\n",
       "      <td>5</td>\n",
       "      <td>5520.630</td>\n",
       "      <td>2.461280</td>\n",
       "    </tr>\n",
       "    <tr>\n",
       "      <th>58</th>\n",
       "      <td>16</td>\n",
       "      <td>5866.005</td>\n",
       "      <td>2.517540</td>\n",
       "    </tr>\n",
       "    <tr>\n",
       "      <th>59</th>\n",
       "      <td>19</td>\n",
       "      <td>4238.470</td>\n",
       "      <td>2.510510</td>\n",
       "    </tr>\n",
       "  </tbody>\n",
       "</table>\n",
       "</div>"
      ],
      "text/plain": [
       "     Count   DC_size  Price_per_watt\n",
       "Uid                                 \n",
       "40      41  4399.600        2.595290\n",
       "41      50  5200.380        2.593990\n",
       "42      64  5520.950        2.502640\n",
       "43      36  4760.080        2.593150\n",
       "44      50  5040.090        2.601570\n",
       "45      22  5348.420        2.461145\n",
       "46      55  4501.090        2.600780\n",
       "47      37  4238.470        2.479600\n",
       "48      65  4680.760        2.592880\n",
       "49      28  4439.840        2.507620\n",
       "50      53  4830.550        2.473760\n",
       "51      31  4760.080        2.524070\n",
       "52      26  4680.540        2.552660\n",
       "53       2  6501.575        2.532085\n",
       "54      31  5290.600        2.503670\n",
       "55      49  3920.070        2.482930\n",
       "56      29  5520.950        2.607580\n",
       "57       5  5520.630        2.461280\n",
       "58      16  5866.005        2.517540\n",
       "59      19  4238.470        2.510510"
      ]
     },
     "execution_count": 107,
     "metadata": {},
     "output_type": "execute_result"
    }
   ],
   "source": [
    "df_inst_mean.head(20)"
   ]
  },
  {
   "cell_type": "code",
   "execution_count": 108,
   "metadata": {
    "collapsed": true
   },
   "outputs": [],
   "source": [
    "#sort by count?\n",
    "df_inst_mean = df_inst_mean.sort_values('Count', ascending=False)"
   ]
  },
  {
   "cell_type": "code",
   "execution_count": 29,
   "metadata": {
    "collapsed": false
   },
   "outputs": [
    {
     "data": {
      "image/png": "[encoded data removed]",
      "text/plain": [
       "<matplotlib.figure.Figure at 0x2354b6a2c88>"
      ]
     },
     "metadata": {},
     "output_type": "display_data"
    }
   ],
   "source": [
    "N = 19\n",
    "\n",
    "\n",
    "\n",
    "\n",
    "\n",
    "x = df_inst_mean['DC_size']/1000\n",
    "y = df_inst_mean['Price_per_watt']\n",
    "norm = matplotlib.colors.Normalize(vmin=df_inst_mean['Count'].values[N-1], vmax=df_inst_mean['Count'].values[0])\n",
    "cmap_custom = cm.get_cmap('Spectral')\n",
    "area = norm(df_inst_mean['Count'])\n",
    "color = []\n",
    "\n",
    "for area_x in area:\n",
    "#    color.append(cmap_custom(area_x/2))\n",
    "    color.append('olive')\n",
    "    \n",
    "\n",
    "    \n",
    "#color[1] = (0.0, 0.65, 0.75, 1.0)\n",
    "    \n",
    "fig = plt.figure()\n",
    "ax = fig.add_subplot(1,1,1)\n",
    "ax.set_xlabel('DC size')\n",
    "ax.set_ylabel('Price Per Watt')\n",
    "\n",
    "#ax.set_autoscaley_on(False)\n",
    "#ax.set_xlim([0,0.2])\n",
    "#ax.set_ylim([0,5])\n",
    "    \n",
    "#plt.xlabel('Price Per Watt')\n",
    "#plt.ylabel('System Size AC')\n",
    "#plt.title('Number of Installations Per Company')\n",
    "\n",
    "ax.scatter(x, y, s=df_inst_mean['Count'] * 10,  c = color )\n",
    "handles, labels = ax.get_legend_handles_labels()\n",
    "\n",
    "\n",
    "#names are here\n",
    "#df_agg.index.values[0:3]\n",
    "\n",
    "#colors are here\n",
    "#color[0:3]\n",
    "\n",
    "artists = []\n",
    "labels = []\n",
    "\n",
    "#create custom artists\n",
    "#for i in range(3):\n",
    "#    artists.append(mpatches.Circle((0, 0), 1.0, facecolor=color[i]))\n",
    "#    labels.append(df_agg_dm1.index.values[i])\n",
    "\n",
    "artists.append(mpatches.Circle((0, 0), 1.0, facecolor=color[-1], label='min'))\n",
    "labels.append('min N installs')\n",
    "artists.append(mpatches.Circle((0, 0), 1.0, facecolor=color[0], label='max'))\n",
    "labels.append('max N installs')\n",
    "    \n",
    "\n",
    "class HandlerEllipse(HandlerPatch):\n",
    "    def create_artists(self, legend, orig_handle,\n",
    "                       xdescent, ydescent, width, height, fontsize, trans):\n",
    "        center = 0.5 * width - 0.5 * xdescent, 0.5 * height - 0.5 * ydescent\n",
    "#        print(orig_handle.__dict__)\n",
    "        radius_ = width/10\n",
    "        if ('max' in orig_handle._label):\n",
    "            radius_ = width/5\n",
    "    \n",
    "        p = mpatches.Circle(xy=center, radius=radius_)\n",
    "        self.update_prop(p, orig_handle, legend)\n",
    "        p.set_transform(trans)\n",
    "        return [p]\n",
    "    \n",
    "\n",
    "#Create legend from custom artist/label lists\n",
    "ax.legend(artists,\n",
    "          labels,\n",
    "         handler_map={mpatches.Circle: HandlerEllipse()}, bbox_to_anchor=(0.9, 0.9),\n",
    "           bbox_transform=plt.gcf().transFigure, fontsize=5\n",
    "         )\n",
    "\n",
    "\n",
    "\n",
    "#plt.scatter(x, y, s=df_agg_top['Count'],  c = color )\n",
    "data_mode = 'test'\n",
    "plt.savefig('Simulation_results_installers_' + data_mode + '_Mar18' + '.png', dpi=300)\n",
    "plt.show()"
   ]
  },
  {
   "cell_type": "code",
   "execution_count": 125,
   "metadata": {
    "collapsed": true
   },
   "outputs": [],
   "source": [
    "#sort by count?\n",
    "df_inst_all = df_inst_all.sort_values('Count', ascending=False)"
   ]
  },
  {
   "cell_type": "code",
   "execution_count": 126,
   "metadata": {
    "collapsed": false
   },
   "outputs": [
    {
     "data": {
      "image/png": "[encoded data removed]",
      "text/plain": [
       "<matplotlib.figure.Figure at 0x2354899bb38>"
      ]
     },
     "metadata": {},
     "output_type": "display_data"
    }
   ],
   "source": [
    "N = 19\n",
    "\n",
    "\n",
    "\n",
    "\n",
    "\n",
    "x = df_inst_all['DC_size']/1000\n",
    "y = df_inst_all['Price_per_watt']\n",
    "norm = matplotlib.colors.Normalize(vmin=df_inst_all['Count'].values[N-1], vmax=df_inst_all['Count'].values[0])\n",
    "cmap_custom = cm.get_cmap('Spectral')\n",
    "area = norm(df_inst_all['Count'])\n",
    "color = []\n",
    "\n",
    "for area_x in area:\n",
    "#    color.append(cmap_custom(area_x/2))\n",
    "    color.append('olive')\n",
    "    \n",
    "\n",
    "    \n",
    "#color[1] = (0.0, 0.65, 0.75, 1.0)\n",
    "    \n",
    "fig = plt.figure()\n",
    "ax = fig.add_subplot(1,1,1)\n",
    "ax.set_xlabel('DC size')\n",
    "ax.set_ylabel('Price Per Watt')\n",
    "\n",
    "#ax.set_autoscaley_on(False)\n",
    "ax.set_xlim([2.5,7.0])\n",
    "ax.set_ylim([2.0,3.0])\n",
    "    \n",
    "#plt.xlabel('Price Per Watt')\n",
    "#plt.ylabel('System Size AC')\n",
    "#plt.title('Number of Installations Per Company')\n",
    "\n",
    "ax.scatter(x, y, s=df_inst_all['Count'] * 10,  c = color )\n",
    "handles, labels = ax.get_legend_handles_labels()\n",
    "\n",
    "\n",
    "#names are here\n",
    "#df_agg.index.values[0:3]\n",
    "\n",
    "#colors are here\n",
    "#color[0:3]\n",
    "\n",
    "artists = []\n",
    "labels = []\n",
    "\n",
    "#create custom artists\n",
    "#for i in range(3):\n",
    "#    artists.append(mpatches.Circle((0, 0), 1.0, facecolor=color[i]))\n",
    "#    labels.append(df_agg_dm1.index.values[i])\n",
    "\n",
    "artists.append(mpatches.Circle((0, 0), 1.0, facecolor=color[-1], label='min'))\n",
    "labels.append('min N installs')\n",
    "artists.append(mpatches.Circle((0, 0), 1.0, facecolor=color[0], label='max'))\n",
    "labels.append('max N installs')\n",
    "    \n",
    "\n",
    "class HandlerEllipse(HandlerPatch):\n",
    "    def create_artists(self, legend, orig_handle,\n",
    "                       xdescent, ydescent, width, height, fontsize, trans):\n",
    "        center = 0.5 * width - 0.5 * xdescent, 0.5 * height - 0.5 * ydescent\n",
    "#        print(orig_handle.__dict__)\n",
    "        radius_ = width/10\n",
    "        if ('max' in orig_handle._label):\n",
    "            radius_ = width/5\n",
    "    \n",
    "        p = mpatches.Circle(xy=center, radius=radius_)\n",
    "        self.update_prop(p, orig_handle, legend)\n",
    "        p.set_transform(trans)\n",
    "        return [p]\n",
    "    \n",
    "\n",
    "#Create legend from custom artist/label lists\n",
    "ax.legend(artists,\n",
    "          labels,\n",
    "         handler_map={mpatches.Circle: HandlerEllipse()}, bbox_to_anchor=(0.9, 0.9),\n",
    "           bbox_transform=plt.gcf().transFigure, fontsize=5\n",
    "         )\n",
    "\n",
    "\n",
    "\n",
    "#plt.scatter(x, y, s=df_agg_top['Count'],  c = color )\n",
    "data_mode = 'test'\n",
    "plt.savefig('Simulation_results_installers_' + data_mode + '_Apr18_2' + '.png', dpi=300)\n",
    "plt.show()"
   ]
  },
  {
   "cell_type": "markdown",
   "metadata": {},
   "source": [
    "# Testing random code"
   ]
  },
  {
   "cell_type": "code",
   "execution_count": null,
   "metadata": {
    "collapsed": true
   },
   "outputs": [],
   "source": []
  },
  {
   "cell_type": "code",
   "execution_count": null,
   "metadata": {
    "collapsed": true
   },
   "outputs": [],
   "source": [
    "#how to see what is inside an object\n",
    "print(mpatches.Circle((0, 0), 5.0, facecolor=color[0]).__dict__)"
   ]
  },
  {
   "cell_type": "code",
   "execution_count": 38,
   "metadata": {
    "collapsed": true
   },
   "outputs": [],
   "source": [
    "#sticky prices\n",
    "y_start = 0.2\n",
    "y_target = 0.5\n",
    "theta_learn = 0.99\n",
    "y_prog_ = [y_start]\n",
    "x_tick_ = []\n",
    "for i in range(200):\n",
    "    y_prog_.append(y_prog_[-1] * theta_learn + y_target * (1 - theta_learn))\n",
    "    x_tick_.append(i)"
   ]
  },
  {
   "cell_type": "code",
   "execution_count": 58,
   "metadata": {
    "collapsed": false
   },
   "outputs": [
    {
     "data": {
      "text/plain": [
       "[<matplotlib.lines.Line2D at 0x2e2bd809128>]"
      ]
     },
     "execution_count": 58,
     "metadata": {},
     "output_type": "execute_result"
    },
    {
     "data": {
      "image/png": "[encoded data removed]",
      "text/plain": [
       "<matplotlib.figure.Figure at 0x2e2b9ec7e48>"
      ]
     },
     "metadata": {},
     "output_type": "display_data"
    }
   ],
   "source": [
    "plt.plot(x_tick_, y_prog_[1:])"
   ]
  },
  {
   "cell_type": "code",
   "execution_count": 35,
   "metadata": {
    "collapsed": true
   },
   "outputs": [],
   "source": [
    "prices  = dfs_w[0]['P_av']"
   ]
  },
  {
   "cell_type": "code",
   "execution_count": 39,
   "metadata": {
    "collapsed": false
   },
   "outputs": [
    {
     "data": {
      "text/plain": [
       "[<matplotlib.lines.Line2D at 0x298266e59e8>]"
      ]
     },
     "execution_count": 39,
     "metadata": {},
     "output_type": "execute_result"
    },
    {
     "data": {
      "image/png": "[encoded data removed]",
      "text/plain": [
       "<matplotlib.figure.Figure at 0x2982ac37588>"
      ]
     },
     "metadata": {},
     "output_type": "display_data"
    }
   ],
   "source": [
    "plt.plot(x_tick_, prices[0:200])"
   ]
  },
  {
   "cell_type": "code",
   "execution_count": 45,
   "metadata": {
    "collapsed": false
   },
   "outputs": [
    {
     "data": {
      "text/html": [
       "<div>\n",
       "<table border=\"1\" class=\"dataframe\">\n",
       "  <thead>\n",
       "    <tr style=\"text-align: right;\">\n",
       "      <th></th>\n",
       "      <th>Tick</th>\n",
       "      <th>Location_x</th>\n",
       "      <th>Location_y</th>\n",
       "      <th>Uid</th>\n",
       "      <th>Price_per_watt</th>\n",
       "      <th>DC_size</th>\n",
       "    </tr>\n",
       "  </thead>\n",
       "  <tbody>\n",
       "    <tr>\n",
       "      <th>0</th>\n",
       "      <td>29</td>\n",
       "      <td>9</td>\n",
       "      <td>8</td>\n",
       "      <td>48</td>\n",
       "      <td>4.34654</td>\n",
       "      <td>5199.74</td>\n",
       "    </tr>\n",
       "    <tr>\n",
       "      <th>1</th>\n",
       "      <td>43</td>\n",
       "      <td>4</td>\n",
       "      <td>6</td>\n",
       "      <td>48</td>\n",
       "      <td>5.33618</td>\n",
       "      <td>4501.09</td>\n",
       "    </tr>\n",
       "    <tr>\n",
       "      <th>2</th>\n",
       "      <td>37</td>\n",
       "      <td>4</td>\n",
       "      <td>4</td>\n",
       "      <td>46</td>\n",
       "      <td>3.47883</td>\n",
       "      <td>9002.18</td>\n",
       "    </tr>\n",
       "    <tr>\n",
       "      <th>3</th>\n",
       "      <td>65</td>\n",
       "      <td>7</td>\n",
       "      <td>3</td>\n",
       "      <td>48</td>\n",
       "      <td>4.61828</td>\n",
       "      <td>5251.27</td>\n",
       "    </tr>\n",
       "    <tr>\n",
       "      <th>4</th>\n",
       "      <td>147</td>\n",
       "      <td>1</td>\n",
       "      <td>3</td>\n",
       "      <td>40</td>\n",
       "      <td>5.29697</td>\n",
       "      <td>4140.71</td>\n",
       "    </tr>\n",
       "  </tbody>\n",
       "</table>\n",
       "</div>"
      ],
      "text/plain": [
       "   Tick  Location_x  Location_y  Uid  Price_per_watt  DC_size\n",
       "0    29           9           8   48         4.34654  5199.74\n",
       "1    43           4           6   48         5.33618  4501.09\n",
       "2    37           4           4   46         3.47883  9002.18\n",
       "3    65           7           3   48         4.61828  5251.27\n",
       "4   147           1           3   40         5.29697  4140.71"
      ]
     },
     "execution_count": 45,
     "metadata": {},
     "output_type": "execute_result"
    }
   ],
   "source": [
    "dfs_inst[0].head()"
   ]
  },
  {
   "cell_type": "code",
   "execution_count": 66,
   "metadata": {
    "collapsed": false
   },
   "outputs": [
    {
     "data": {
      "text/plain": [
       "[<matplotlib.lines.Line2D at 0x1f73f08a710>]"
      ]
     },
     "execution_count": 66,
     "metadata": {},
     "output_type": "execute_result"
    },
    {
     "data": {
      "image/png": "[encoded data removed]",
      "text/plain": [
       "<matplotlib.figure.Figure at 0x1f73ee32550>"
      ]
     },
     "metadata": {},
     "output_type": "display_data"
    }
   ],
   "source": [
    "plt.plot(dfs_inst[0]['Tick'], dfs_inst[0]['Price_per_watt'])"
   ]
  },
  {
   "cell_type": "code",
   "execution_count": 20,
   "metadata": {
    "collapsed": true
   },
   "outputs": [],
   "source": [
    "test_mode = 'BaseModel'\n",
    "test_version = 'BaseVer01'\n",
    "test_loc = 'CA'\n",
    "data_mode = 'Logs'\n",
    "version = '_eff'\n",
    "params_versions = [str(x) for x in np.linspace(1.0,1.5,1,endpoint=False)]\n",
    "i_run = 0"
   ]
  },
  {
   "cell_type": "code",
   "execution_count": 33,
   "metadata": {
    "collapsed": true
   },
   "outputs": [],
   "source": [
    "files = glob.glob('..\\\\..\\\\ABMIRISLab\\\\Saves\\\\Oct-18-2017\\\\' + test_mode + '\\\\' + test_version + '\\\\'  +\\\n",
    "                          test_loc + '\\\\' + params_versions[i_run] + '\\\\' + data_mode +\\\n",
    "                         '\\\\*[_log].log')\n",
    "files.sort(key=os.path.getmtime, reverse=True)\n",
    "        #files_ = files[i_run * N_SEEDS : (i_run + 1) * N_SEEDS]    "
   ]
  },
  {
   "cell_type": "code",
   "execution_count": 34,
   "metadata": {
    "collapsed": false
   },
   "outputs": [
    {
     "data": {
      "text/plain": [
       "50"
      ]
     },
     "execution_count": 34,
     "metadata": {},
     "output_type": "execute_result"
    }
   ],
   "source": [
    "len(files)"
   ]
  },
  {
   "cell_type": "code",
   "execution_count": 6,
   "metadata": {
    "collapsed": true
   },
   "outputs": [],
   "source": [
    "df_test = pd.DataFrame([[0,1],[0.1, 0.15], [0.9, 0.85], [200, 205]]).T"
   ]
  },
  {
   "cell_type": "code",
   "execution_count": 7,
   "metadata": {
    "collapsed": false
   },
   "outputs": [
    {
     "data": {
      "text/html": [
       "<div>\n",
       "<table border=\"1\" class=\"dataframe\">\n",
       "  <thead>\n",
       "    <tr style=\"text-align: right;\">\n",
       "      <th></th>\n",
       "      <th>0</th>\n",
       "      <th>1</th>\n",
       "      <th>2</th>\n",
       "      <th>3</th>\n",
       "    </tr>\n",
       "  </thead>\n",
       "  <tbody>\n",
       "    <tr>\n",
       "      <th>0</th>\n",
       "      <td>0.0</td>\n",
       "      <td>0.10</td>\n",
       "      <td>0.90</td>\n",
       "      <td>200.0</td>\n",
       "    </tr>\n",
       "    <tr>\n",
       "      <th>1</th>\n",
       "      <td>1.0</td>\n",
       "      <td>0.15</td>\n",
       "      <td>0.85</td>\n",
       "      <td>205.0</td>\n",
       "    </tr>\n",
       "  </tbody>\n",
       "</table>\n",
       "</div>"
      ],
      "text/plain": [
       "     0     1     2      3\n",
       "0  0.0  0.10  0.90  200.0\n",
       "1  1.0  0.15  0.85  205.0"
      ]
     },
     "execution_count": 7,
     "metadata": {},
     "output_type": "execute_result"
    }
   ],
   "source": [
    "df_test.head()"
   ]
  },
  {
   "cell_type": "code",
   "execution_count": 16,
   "metadata": {
    "collapsed": false
   },
   "outputs": [
    {
     "name": "stdout",
     "output_type": "stream",
     "text": [
      "Text(0,0,'')\n",
      "Text(0,0,'')\n",
      "Text(0,0,'')\n",
      "Text(0,0,'')\n",
      "Text(0,0,'')\n",
      "Text(0,0,'')\n",
      "Text(0,0,'')\n",
      "Text(0,0,'')\n",
      "Text(0,0,'')\n"
     ]
    },
    {
     "data": {
      "image/png": "[encoded data removed]",
      "text/plain": [
       "<matplotlib.figure.Figure at 0x15c4df884e0>"
      ]
     },
     "metadata": {},
     "output_type": "display_data"
    }
   ],
   "source": [
    "fig = plt.figure()\n",
    "ax = fig.add_subplot(1,1,1)\n",
    "ax.set_xlabel('Reach')\n",
    "ax.set_ylabel('% installed')\n",
    "lines = []\n",
    "N = 2\n",
    "\n",
    "ind = np.arange(N)\n",
    "width = 0.35\n",
    "\n",
    "\n",
    "p1 = plt.bar(ind, df_test[1], width, color='#d62728', label='neighbour')\n",
    "p2 = plt.bar(ind, df_test[2], width,\n",
    "             bottom=df_test[1], label='installer')\n",
    "\n",
    "lines.append(p1)\n",
    "lines.append(p2)\n",
    "\n",
    "\n",
    "for tick in ax.get_xticklabels():\n",
    "    print(tick)\n",
    "    \n",
    "ax.xaxis.set_ticks(ind, tuple([str(x) for x in ind]))\n",
    "\n",
    "# Put a legend below current axis\n",
    "lgd = ax.legend(lines, [l.get_label() for l in lines], loc='upper center', bbox_to_anchor=(0.5, -0.15),\\\n",
    "          fancybox=True, shadow=True, fontsize='10', ncol = 2)\n",
    "\n",
    "\n",
    "plt.show()"
   ]
  },
  {
   "cell_type": "code",
   "execution_count": 15,
   "metadata": {
    "collapsed": false
   },
   "outputs": [
    {
     "name": "stdout",
     "output_type": "stream",
     "text": [
      "('0', '1')\n"
     ]
    }
   ],
   "source": [
    "print(tuple([str(x) for x in ind]))"
   ]
  },
  {
   "cell_type": "code",
   "execution_count": 83,
   "metadata": {
    "collapsed": false
   },
   "outputs": [
    {
     "data": {
      "text/plain": [
       "634.625"
      ]
     },
     "execution_count": 83,
     "metadata": {},
     "output_type": "execute_result"
    }
   ],
   "source": [
    "dfs_w[i]['N_installed_sum'].ix[260]"
   ]
  },
  {
   "cell_type": "code",
   "execution_count": 84,
   "metadata": {
    "collapsed": false
   },
   "outputs": [
    {
     "data": {
      "text/plain": [
       "0.84923180820530142"
      ]
     },
     "execution_count": 84,
     "metadata": {},
     "output_type": "execute_result"
    }
   ],
   "source": [
    "dfs_w[3]['N_installed_sum'].ix[260]/dfs_w[0]['N_installed_sum'].ix[260]"
   ]
  },
  {
   "cell_type": "code",
   "execution_count": 144,
   "metadata": {
    "collapsed": false
   },
   "outputs": [
    {
     "name": "stdout",
     "output_type": "stream",
     "text": [
      "..\\..\\ABMIRISLab\\Saves\\Jan-11-2018\\BaseModel\\BaseVer02\\CA\\tariff0.3\\e134031c-60bc-4586-8cd0-9abab6219a65_pr.csv\n",
      "..\\..\\ABMIRISLab\\Saves\\Jan-11-2018\\BaseModel\\BaseVer02\\CA\\tariff0.3\\9a8d1051-c20f-426c-9654-8ac12fc86263_pr.csv\n",
      "..\\..\\ABMIRISLab\\Saves\\Jan-11-2018\\BaseModel\\BaseVer02\\CA\\tariff0.3\\827986a4-67ca-4b04-8ea3-adff0b784dc0_pr.csv\n",
      "..\\..\\ABMIRISLab\\Saves\\Jan-11-2018\\BaseModel\\BaseVer02\\CA\\tariff0.3\\442f886c-20c5-479e-8ecd-9956e011e9fd_pr.csv\n",
      "..\\..\\ABMIRISLab\\Saves\\Jan-11-2018\\BaseModel\\BaseVer02\\CA\\tariff0.3\\d711f29d-3bd5-486b-acb1-e9422e8286f0_pr.csv\n",
      "..\\..\\ABMIRISLab\\Saves\\Jan-11-2018\\BaseModel\\BaseVer02\\CA\\tariff0.3\\42561ea7-2046-407c-81f3-06b70777e17a_pr.csv\n",
      "..\\..\\ABMIRISLab\\Saves\\Jan-11-2018\\BaseModel\\BaseVer02\\CA\\tariff0.3\\e7f3e9ee-edc2-4891-b0ad-8b81e8e933e6_pr.csv\n",
      "..\\..\\ABMIRISLab\\Saves\\Jan-11-2018\\BaseModel\\BaseVer02\\CA\\tariff0.3\\dfc53c5d-88f6-4a89-bdac-39da9c390e58_pr.csv\n"
     ]
    }
   ],
   "source": [
    "#location x, location y \n",
    "\n",
    "\n",
    "# for each line - place into location\n",
    "# average over locations\n",
    "#\n",
    "#\n",
    "\n",
    "N_TILES = 10\n",
    "N_SEEDS = 8\n",
    "\n",
    "test_mode = 'BaseVer02'\n",
    "data_mode = 'CA'\n",
    "\n",
    "#names of columns in a file\n",
    "names = ['Tick', 'Location_x', 'Location_y', 'Uid', 'Price_per_watt', 'DC_size', 'Origin', 'Mart_type']\n",
    "\n",
    "raw_data_per_tick = []\n",
    "raw_data_dfs_per_tick = []\n",
    "tick_bins = []\n",
    "for i in range(4):\n",
    "    #to store final results\n",
    "    raw_data_per_tick.append(np.zeros((N_TILES, N_TILES)))\n",
    "    #to store intermediate results\n",
    "    raw_data_dfs_per_tick.append(np.zeros((N_SEEDS, N_TILES, N_TILES)))\n",
    "    #tick edges\n",
    "    tick_bins.append(N_TICKS/4 *(i))\n",
    "\n",
    "\n",
    "#here only baseline scenario is analyzed    \n",
    "params_versions = [str(x) for x in np.linspace(0.0,0.3,N_TESTS,endpoint=False)]\n",
    "    \n",
    "#read few files\n",
    "#save into database\n",
    "dfs_ = []\n",
    "#read last simulation result\n",
    "files = glob.glob('..\\\\..\\\\ABMIRISLab\\\\Saves\\\\Jan-11-2018\\\\BaseModel\\\\'+ test_mode + '\\\\' + data_mode + \\\n",
    "                 '\\\\tariff' + str(0.3) + '\\\\*[_pr].csv')\n",
    "files.sort(key=os.path.getmtime, reverse=True)\n",
    "\n",
    "#take top x files, assume only one type of a simulation run in a folder \n",
    "i_run = 0\n",
    "\n",
    "for file in files[i_run * N_SEEDS : (i_run + 1) * N_SEEDS]:\n",
    "    print(file)\n",
    "    df_ = pd.read_csv(file, names=names, low_memory=False, na_values = ['-nan(ind)'])\n",
    "    dfs_.append(df_)\n",
    "\n",
    "    \n",
    "raw_data_dfs = np.zeros((len(dfs_), N_TILES, N_TILES))\n",
    "\n",
    "indexes = [0.0, 0.0, 0.0, 0.0]\n",
    "\n",
    "k = 0\n",
    "for df_ in dfs_:\n",
    "    \n",
    "    \n",
    "    \n",
    "    for i in range(N_TILES):\n",
    "        for j in range(N_TILES):\n",
    "            index = df_[(df_['Location_x'] == i) & \\\n",
    "                        (df_['Location_y'] == j)].index \n",
    "                             \n",
    "            indexes[0] = df_[(df_['Location_x'] == i) & \\\n",
    "                        (df_['Location_y'] == j) & \\\n",
    "                         (df_['Tick'] < tick_bins[0])].index\n",
    "            \n",
    "            indexes[1] = df_[(df_['Location_x'] == i) & \\\n",
    "                        (df_['Location_y'] == j) & \\\n",
    "                         (df_['Tick'] < tick_bins[1])].index\n",
    "            \n",
    "            indexes[2] = df_[(df_['Location_x'] == i) & \\\n",
    "                        (df_['Location_y'] == j) & \\\n",
    "                         (df_['Tick'] < tick_bins[2])].index\n",
    "                             \n",
    "            raw_data_dfs_per_tick[0][k, i, j] = df_.iloc[indexes[0]].shape[0]\n",
    "            raw_data_dfs_per_tick[1][k, i, j] = df_.iloc[indexes[1]].shape[0]\n",
    "            raw_data_dfs_per_tick[2][k, i, j] = df_.iloc[indexes[2]].shape[0]\n",
    "            raw_data_dfs_per_tick[-1][k, i, j] = df_.iloc[index].shape[0]\n",
    "            \n",
    "    k = k + 1\n",
    "    \n",
    "    raw_data_per_tick[0] = np.mean(raw_data_dfs_per_tick[0], axis = 0)\n",
    "    raw_data_per_tick[1] = np.mean(raw_data_dfs_per_tick[1], axis = 0)\n",
    "    raw_data_per_tick[2] = np.mean(raw_data_dfs_per_tick[2], axis = 0)\n",
    "    raw_data_per_tick[-1] = np.mean(raw_data_dfs_per_tick[-1], axis = 0)\n",
    "    \n",
    "    \n",
    "#create df from them    \n",
    "dfs_inst = dfs_\n",
    "\n",
    "#blank first step\n",
    "raw_data_per_tick[0] = np.zeros((N_TILES, N_TILES)) + 0.01"
   ]
  },
  {
   "cell_type": "code",
   "execution_count": 145,
   "metadata": {
    "collapsed": false
   },
   "outputs": [
    {
     "data": {
      "text/html": [
       "<div>\n",
       "<table border=\"1\" class=\"dataframe\">\n",
       "  <thead>\n",
       "    <tr style=\"text-align: right;\">\n",
       "      <th></th>\n",
       "      <th>Tick</th>\n",
       "      <th>Location_x</th>\n",
       "      <th>Location_y</th>\n",
       "      <th>Uid</th>\n",
       "      <th>Price_per_watt</th>\n",
       "      <th>DC_size</th>\n",
       "      <th>Origin</th>\n",
       "      <th>Mart_type</th>\n",
       "    </tr>\n",
       "  </thead>\n",
       "  <tbody>\n",
       "    <tr>\n",
       "      <th>0</th>\n",
       "      <td>36</td>\n",
       "      <td>7</td>\n",
       "      <td>2</td>\n",
       "      <td>45</td>\n",
       "      <td>2.80000</td>\n",
       "      <td>7426.55</td>\n",
       "      <td>Import</td>\n",
       "      <td>0</td>\n",
       "    </tr>\n",
       "    <tr>\n",
       "      <th>1</th>\n",
       "      <td>80</td>\n",
       "      <td>0</td>\n",
       "      <td>8</td>\n",
       "      <td>44</td>\n",
       "      <td>2.59459</td>\n",
       "      <td>3000.73</td>\n",
       "      <td>Domestic</td>\n",
       "      <td>0</td>\n",
       "    </tr>\n",
       "    <tr>\n",
       "      <th>2</th>\n",
       "      <td>34</td>\n",
       "      <td>9</td>\n",
       "      <td>8</td>\n",
       "      <td>57</td>\n",
       "      <td>2.80000</td>\n",
       "      <td>6440.73</td>\n",
       "      <td>Domestic</td>\n",
       "      <td>0</td>\n",
       "    </tr>\n",
       "    <tr>\n",
       "      <th>3</th>\n",
       "      <td>80</td>\n",
       "      <td>5</td>\n",
       "      <td>7</td>\n",
       "      <td>59</td>\n",
       "      <td>2.59194</td>\n",
       "      <td>7682.22</td>\n",
       "      <td>Import</td>\n",
       "      <td>0</td>\n",
       "    </tr>\n",
       "    <tr>\n",
       "      <th>4</th>\n",
       "      <td>32</td>\n",
       "      <td>3</td>\n",
       "      <td>7</td>\n",
       "      <td>58</td>\n",
       "      <td>2.80000</td>\n",
       "      <td>9076.90</td>\n",
       "      <td>Import</td>\n",
       "      <td>0</td>\n",
       "    </tr>\n",
       "  </tbody>\n",
       "</table>\n",
       "</div>"
      ],
      "text/plain": [
       "   Tick  Location_x  Location_y  Uid  Price_per_watt  DC_size    Origin  \\\n",
       "0    36           7           2   45         2.80000  7426.55    Import   \n",
       "1    80           0           8   44         2.59459  3000.73  Domestic   \n",
       "2    34           9           8   57         2.80000  6440.73  Domestic   \n",
       "3    80           5           7   59         2.59194  7682.22    Import   \n",
       "4    32           3           7   58         2.80000  9076.90    Import   \n",
       "\n",
       "   Mart_type  \n",
       "0          0  \n",
       "1          0  \n",
       "2          0  \n",
       "3          0  \n",
       "4          0  "
      ]
     },
     "execution_count": 145,
     "metadata": {},
     "output_type": "execute_result"
    }
   ],
   "source": [
    "dfs_inst[0].head() "
   ]
  },
  {
   "cell_type": "code",
   "execution_count": null,
   "metadata": {
    "collapsed": true
   },
   "outputs": [],
   "source": [
    "dfs_agg_inst = []\n",
    "for df_ in dfs_inst:\n",
    "\n",
    "    df_['Count'] = 1\n",
    "    grouped = df_.groupby('Uid', sort=False)\n",
    "    df_agg = grouped.agg({'Price_per_watt' : np.median,\\\n",
    "             'DC_size' : np.median, \\\n",
    "            'Count' : np.sum})\n",
    "    dfs_agg_inst.append(df_agg)\n",
    "    \n",
    "df_inst_all = pd.concat(dfs_agg_inst)\n",
    "df_inst_mean = df_agg.groupby(level=0).mean()"
   ]
  },
  {
   "cell_type": "code",
   "execution_count": 7,
   "metadata": {
    "collapsed": true
   },
   "outputs": [],
   "source": [
    "N_SEEDS = 150"
   ]
  },
  {
   "cell_type": "code",
   "execution_count": 30,
   "metadata": {
    "collapsed": true
   },
   "outputs": [],
   "source": [
    "def collect_data_for_simulation_runs_from_inst(N_TESTS, dfs_inst, dfs_inst_std):\n",
    "\n",
    "    test_mode = 'BaseVer02'\n",
    "    data_mode = 'CA'\n",
    "    #here think how to change it\n",
    "    params_versions = [str(x) for x in np.linspace(0.0,0.3,N_TESTS,endpoint=True)]\n",
    "    params_versions = ['0.0', '0.1', '0.2', '0.3']\n",
    "\n",
    "    #names of columns in a file\n",
    "    names = ['Tick', 'Location_x', 'Location_y', 'Uid', 'Price_per_watt', 'DC_size', 'Origin', 'Efficency','EquipmentType', 'InteractionType','Mart_type']\n",
    "    #names = ['Tick', 'Location_x', 'Location_y', 'Uid', 'Price_per_watt', 'DC_size', 'Origin', 'Mart_type']\n",
    "\n",
    "\n",
    "    for i_run in range(N_TESTS): \n",
    "        #read few files\n",
    "        #save into database\n",
    "        dfs_ = []\n",
    "        #read last simulation result\n",
    "        files = glob.glob('..\\\\..\\\\ABMIRISLab\\\\Saves\\\\May-14-2018\\\\BaseModel\\\\'+ test_mode + '\\\\' + data_mode + \\\n",
    "                 '\\\\tariff' + params_versions[i_run] + '\\\\*[_pr].csv')\n",
    "        files = glob.glob('../../ABMIRISLab/Saves/May-14-2018/BaseModel/'+ test_mode + '/' + data_mode + \\\n",
    "                 '/tariff'+ params_versions[i_run] + '/*[_pr].csv')\n",
    "        files.sort(key=os.path.getmtime, reverse=True)\n",
    "\n",
    "        #take top x files \n",
    "        for file in files[0 * N_SEEDS : 1 * N_SEEDS]:\n",
    "            #print(file)\n",
    "            df_ = pd.read_csv(file, names=names, low_memory=False, na_values = ['-nan(ind)'])\n",
    "            df_['Total_price'] = df_['Price_per_watt'] * df_['DC_size']\n",
    "            dfs_.append(df_)\n",
    "\n",
    "\n",
    "        #create df from them    \n",
    "        df_concat = pd.concat(dfs_)\n",
    "        \n",
    "        \n",
    "        df_inst_mean = df_concat.groupby(level=0).mean()\n",
    "        df_inst_std = df_concat.groupby(level=0).std()\n",
    "        \n",
    "        dfs_inst.append(dfs_)\n"
   ]
  },
  {
   "cell_type": "code",
   "execution_count": 31,
   "metadata": {
    "collapsed": true
   },
   "outputs": [],
   "source": [
    "dfs_inst = []\n",
    "dfs_inst_std = []\n",
    "collect_data_for_simulation_runs_from_inst(N_TESTS, dfs_inst, dfs_inst_std)"
   ]
  },
  {
   "cell_type": "code",
   "execution_count": 32,
   "metadata": {
    "collapsed": false
   },
   "outputs": [
    {
     "name": "stdout",
     "output_type": "stream",
     "text": [
      "4\n"
     ]
    }
   ],
   "source": [
    "print(len(dfs_inst))"
   ]
  },
  {
   "cell_type": "code",
   "execution_count": 33,
   "metadata": {
    "collapsed": true
   },
   "outputs": [],
   "source": [
    "dfs_agg_inst = []\n",
    "df_inst_all = []\n",
    "df_inst_mean = []\n",
    "\n",
    "for i in range(len(dfs_inst)):\n",
    "    for df_ in dfs_inst[i]:\n",
    "#        print(df_)\n",
    "        df_['Count'] = 1\n",
    "        grouped = df_.groupby('Origin', sort=False)\n",
    "        df_agg = grouped.agg({'Total_price' : np.sum,\\\n",
    "                 'DC_size' : np.sum, \\\n",
    "                'Count' : np.sum,\n",
    "                             'Price_per_watt': np.average})\n",
    "        dfs_agg_inst.append(df_agg)\n",
    "\n",
    "    df_inst_all.append(pd.concat(dfs_agg_inst))\n",
    "    df_inst_mean.append(df_agg.groupby(level=0).mean())"
   ]
  },
  {
   "cell_type": "code",
   "execution_count": 34,
   "metadata": {
    "collapsed": false
   },
   "outputs": [
    {
     "name": "stdout",
     "output_type": "stream",
     "text": [
      "[           Total_price      DC_size  Count  Price_per_watt\n",
      "Origin                                                    \n",
      "Domestic  5.668872e+06  2263885.703    393        2.507215\n",
      "Import    4.014840e+06  1596854.124    307        2.509379,            Total_price      DC_size  Count  Price_per_watt\n",
      "Origin                                                    \n",
      "Domestic  4.965705e+06  2005829.653    392        2.475425\n",
      "Import    2.812090e+06  1099137.742    240        2.565865,            Total_price      DC_size  Count  Price_per_watt\n",
      "Origin                                                    \n",
      "Domestic  3.607707e+06  1463642.680    282        2.461817\n",
      "Import    4.145076e+06  1603753.703    335        2.584736,            Total_price      DC_size  Count  Price_per_watt\n",
      "Origin                                                    \n",
      "Domestic  3.941502e+06  1549238.974    265        2.546724\n",
      "Import    6.265401e+06  2437209.794    440        2.569170]\n"
     ]
    }
   ],
   "source": [
    "print(df_inst_mean)"
   ]
  },
  {
   "cell_type": "code",
   "execution_count": 133,
   "metadata": {
    "collapsed": false
   },
   "outputs": [
    {
     "name": "stdout",
     "output_type": "stream",
     "text": [
      "4174622.153\n",
      "3736633.135\n",
      "3305849.795\n",
      "3263779.878\n"
     ]
    }
   ],
   "source": [
    "for i in range(len(df_inst_mean)):\n",
    "    print(np.sum(df_inst_mean[i]['DC_size']))"
   ]
  },
  {
   "cell_type": "code",
   "execution_count": 134,
   "metadata": {
    "collapsed": false
   },
   "outputs": [
    {
     "name": "stdout",
     "output_type": "stream",
     "text": [
      "10473399.3422\n",
      "9298813.64591\n",
      "8317839.39549\n",
      "8378988.06399\n"
     ]
    }
   ],
   "source": [
    "for i in range(len(df_inst_mean)):\n",
    "    print(np.sum(df_inst_mean[i]['Total_price']))"
   ]
  },
  {
   "cell_type": "code",
   "execution_count": 135,
   "metadata": {
    "collapsed": false
   },
   "outputs": [
    {
     "name": "stdout",
     "output_type": "stream",
     "text": [
      "825\n",
      "727\n",
      "661\n",
      "634\n"
     ]
    }
   ],
   "source": [
    "for i in range(len(df_inst_mean)):\n",
    "    print(np.sum(df_inst_mean[i]['Count']))"
   ]
  },
  {
   "cell_type": "code",
   "execution_count": 136,
   "metadata": {
    "collapsed": false
   },
   "outputs": [
    {
     "data": {
      "text/plain": [
       "439"
      ]
     },
     "execution_count": 136,
     "metadata": {},
     "output_type": "execute_result"
    }
   ],
   "source": [
    "df_inst_mean[i].at['Domestic', 'Count']"
   ]
  },
  {
   "cell_type": "code",
   "execution_count": 137,
   "metadata": {
    "collapsed": true
   },
   "outputs": [],
   "source": [
    "data_columns = ['Domestic',\\\n",
    "                   'Foreign']\n",
    "data_installs_origin = []\n",
    "for i in range(N_TESTS):\n",
    "    data_installs_origin.append([df_inst_mean[i].at['Domestic', 'Count'], \\\n",
    "                      df_inst_mean[i].at['Import', 'Count'],\\\n",
    "                                df_inst_mean[i].at['Domestic', 'Total_price'],\\\n",
    "                                df_inst_mean[i].at['Import', 'Total_price']])"
   ]
  },
  {
   "cell_type": "code",
   "execution_count": 138,
   "metadata": {
    "collapsed": false
   },
   "outputs": [
    {
     "name": "stdout",
     "output_type": "stream",
     "text": [
      "[[509, 316, 6415785.6950671328, 4057613.6471693125], [264, 463, 3637317.3965997305, 5661496.249306879], [241, 420, 3170599.935698322, 5147239.4597908203], [439, 195, 5696325.7849850142, 2682662.2790014814]]\n"
     ]
    }
   ],
   "source": [
    "print(data_installs_origin)"
   ]
  },
  {
   "cell_type": "code",
   "execution_count": 139,
   "metadata": {
    "collapsed": true
   },
   "outputs": [],
   "source": [
    "data_installs_plot = np.array(data_installs_origin)\n"
   ]
  },
  {
   "cell_type": "code",
   "execution_count": 140,
   "metadata": {
    "collapsed": false
   },
   "outputs": [
    {
     "name": "stdout",
     "output_type": "stream",
     "text": [
      "[[  5.09000000e+02   2.64000000e+02   2.41000000e+02   4.39000000e+02]\n",
      " [  3.16000000e+02   4.63000000e+02   4.20000000e+02   1.95000000e+02]\n",
      " [  6.41578570e+06   3.63731740e+06   3.17059994e+06   5.69632578e+06]\n",
      " [  4.05761365e+06   5.66149625e+06   5.14723946e+06   2.68266228e+06]]\n"
     ]
    }
   ],
   "source": [
    "print(data_installs_plot.T)"
   ]
  },
  {
   "cell_type": "code",
   "execution_count": 141,
   "metadata": {
    "collapsed": false
   },
   "outputs": [
    {
     "data": {
      "text/plain": [
       "array([ 509.,  264.,  241.,  439.])"
      ]
     },
     "execution_count": 141,
     "metadata": {},
     "output_type": "execute_result"
    }
   ],
   "source": [
    "data_installs_plot.T[0][0:N_TESTS]"
   ]
  },
  {
   "cell_type": "code",
   "execution_count": 142,
   "metadata": {
    "collapsed": false
   },
   "outputs": [
    {
     "data": {
      "text/plain": [
       "array([ 316.,  463.,  420.,  195.])"
      ]
     },
     "execution_count": 142,
     "metadata": {},
     "output_type": "execute_result"
    }
   ],
   "source": [
    "data_installs_plot.T[1][0:N_TESTS]"
   ]
  },
  {
   "cell_type": "code",
   "execution_count": 143,
   "metadata": {
    "collapsed": false
   },
   "outputs": [
    {
     "name": "stdout",
     "output_type": "stream",
     "text": [
      "[ 316.  463.  420.  195.]\n",
      "[ 509.  264.  241.  439.]\n"
     ]
    },
    {
     "data": {
      "image/png": "[encoded data removed]",
      "text/plain": [
       "<matplotlib.figure.Figure at 0x17279c978d0>"
      ]
     },
     "metadata": {},
     "output_type": "display_data"
    }
   ],
   "source": [
    "#number of dropouts as stacked bars\n",
    "data_mode = 'bm_'\n",
    "test_mode = 'installs_origin'\n",
    "fig, axes_ = plt.subplots(nrows=1, ncols=1)\n",
    "fig.subplots_adjust(bottom=0.25)\n",
    "\n",
    "#if ncols = 1  - transform into list\n",
    "par1 = axes_.twinx()\n",
    "axes = [axes_, par1]\n",
    "\n",
    "ind = np.arange(len(dfs_inst))    # the x locations for the groups\n",
    "width = 0.35       # the width of the bars: can also be len(x) sequence\n",
    "\n",
    "\n",
    "colors_drops = tuple(['whitesmoke', 'yellowgreen', 'coral'])\n",
    "\n",
    "#N_TESTS = len(dfs_logs)\n",
    "labels_raw = ['domestic', 'foreign']\n",
    "labels_hist = ['' + x for x in labels_raw]\n",
    "\n",
    "p1 = axes[0].bar(ind[0:N_TESTS], data_installs_plot.T[0][0:N_TESTS]/10000,\\\n",
    "                 width, color=colors_drops[0], label = labels_hist[0])\n",
    "lines = [p1]\n",
    "\n",
    "\n",
    "\n",
    "for bin_ in range(1, 2, 1):\n",
    "    print(data_installs_plot.T[bin_][0:N_TESTS])\n",
    "    print(data_installs_plot.T[bin_ - 1][0:N_TESTS])\n",
    "    p2 = axes[0].bar(ind[0:N_TESTS], \\\n",
    "                     data_installs_plot.T[bin_][0:N_TESTS]/10000, \\\n",
    "                     width, color=colors_drops[bin_], \\\n",
    "                  bottom=data_installs_plot.T[bin_ - 1][0:N_TESTS]/10000, label = labels_hist[bin_])\n",
    "    lines.append(p2)\n",
    "    \n",
    "axes[0].set_xlabel(\"Test case\")\n",
    "axes[0].set_ylabel(\"Installs as a share of installed population\")\n",
    "#axes[0].set_title('Accumulated % installations \\n by the level \\n of income', fontsize=10)\n",
    "\n",
    "\n",
    "axes[0].set_xticks(ind[0:N_TESTS] + width / 2)\n",
    "axes[0].set_xticklabels(ind[0:N_TESTS])\n",
    "x_labels = ['1', '2', '3', '4']\n",
    "labels = ['tariff ' + str(x) for x in np.linspace(0.0,0.3,N_TESTS,endpoint=True)]\n",
    "x_labels = labels\n",
    "axes[0].set_xticklabels(x_labels)\n",
    "\n",
    "# Put a legend below current axis\n",
    "lgd = axes[0].legend(lines, [l.get_label() for l in lines], loc='upper center', bbox_to_anchor=(0.5, -0.15),\\\n",
    "          fancybox=False, shadow=False, fontsize='10', ncol = 2)\n",
    "\n",
    "\n",
    "markers = [\"o-\", \"--\", \"--\", \"--\", \"*-\"]\n",
    "markerfacecolors = colors_drops\n",
    "colors_l = ['r', 'r', 'r']\n",
    "\n",
    "\n",
    "#number of installs\n",
    "pi, = axes[1].plot(ind, data_installs_plot.T[2][0:N_TESTS]/1000000, markers[1], linewidth=5,color = markerfacecolors[0])\n",
    "pi, = axes[1].plot(ind, data_installs_plot.T[3][0:N_TESTS]/1000000, markers[1], linewidth=5,color = markerfacecolors[1])\n",
    "\n",
    "axes[1].set_ylabel(\"Total revenue mln.\")\n",
    "\n",
    "\n",
    "plt.tight_layout()\n",
    "plt.savefig('Simulation_results_' + data_mode + test_mode + '_Jun27' + '.png', dpi=300, bbox_extra_artists=(lgd,), bbox_inches='tight')\n",
    "plt.show()"
   ]
  },
  {
   "cell_type": "code",
   "execution_count": null,
   "metadata": {
    "collapsed": true
   },
   "outputs": [],
   "source": [
    "df_inst_all"
   ]
  },
  {
   "cell_type": "code",
   "execution_count": 58,
   "metadata": {
    "collapsed": false
   },
   "outputs": [
    {
     "data": {
      "image/png": "[encoded data removed]",
      "text/plain": [
       "<matplotlib.figure.Figure at 0x10e9cc978>"
      ]
     },
     "metadata": {},
     "output_type": "display_data"
    }
   ],
   "source": [
    "#number of dropouts as stacked bars\n",
    "data_mode = 'bm_'\n",
    "test_mode = 'installs_origin_v2'\n",
    "fig, axes_ = plt.subplots(nrows=1, ncols=1)\n",
    "fig.subplots_adjust(bottom=0.25)\n",
    "\n",
    "ind = np.arange(len(dfs_inst))    # the x locations for the groups\n",
    "width = 0.35       # the width of the bars: can also be len(x) sequence\n",
    "\n",
    "\n",
    "#if ncols = 1  - transform into list\n",
    "par1 = axes_.twinx()\n",
    "axes = [axes_, par1]\n",
    "\n",
    "ind = [1.0] * len (df_inst_all[-1].at['Domestic', 'Count'])\n",
    "\n",
    "#p1 = axes[0].hist(df_inst_all[-1].at['Domestic', 'Count'], alpha = 0.5)\n",
    "#p2 = axes[0].hist(df_inst_all[-1].at['Import', 'Count'], alpha = 0.5)\n",
    "\n",
    "p5 = axes[0].hist(df_inst_all[2].at['Import', 'Count'], alpha = 0.5)\n",
    "#p7 = axes[0].hist(df_inst_all[1].at['Import', 'Count'], alpha = 0.5)\n",
    "\n",
    "\n",
    "#p3 = axes[1].hist(df_inst_all[0].at['Domestic', 'Count'], color = 'g', alpha = 0.5)\n",
    "#p4 = axes[1].hist(df_inst_all[0].at['Import', 'Count'], color = 'b', alpha = 0.5)\n",
    "\n",
    "\n",
    "plt.tight_layout()\n",
    "plt.savefig('Simulation_results_' + data_mode + test_mode + '_Jul08' + '.png', dpi=300, bbox_inches='tight')\n",
    "plt.show()"
   ]
  },
  {
   "cell_type": "code",
   "execution_count": 52,
   "metadata": {
    "collapsed": true
   },
   "outputs": [],
   "source": [
    "ind = [1.0] * len (df_inst_all[-1].at['Domestic', 'Count'])"
   ]
  },
  {
   "cell_type": "code",
   "execution_count": 53,
   "metadata": {
    "collapsed": false
   },
   "outputs": [
    {
     "name": "stdout",
     "output_type": "stream",
     "text": [
      "600\n"
     ]
    }
   ],
   "source": [
    "print(len(ind))"
   ]
  },
  {
   "cell_type": "code",
   "execution_count": null,
   "metadata": {
    "collapsed": true
   },
   "outputs": [],
   "source": []
  },
  {
   "cell_type": "code",
   "execution_count": null,
   "metadata": {
    "collapsed": true
   },
   "outputs": [],
   "source": []
  }
 ],
 "metadata": {
  "anaconda-cloud": {},
  "kernelspec": {
   "display_name": "Python [default]",
   "language": "python",
   "name": "python3"
  },
  "language_info": {
   "codemirror_mode": {
    "name": "ipython",
    "version": 3
   },
   "file_extension": ".py",
   "mimetype": "text/x-python",
   "name": "python",
   "nbconvert_exporter": "python",
   "pygments_lexer": "ipython3",
   "version": "3.5.2"
  }
 },
 "nbformat": 4,
 "nbformat_minor": 1
}
