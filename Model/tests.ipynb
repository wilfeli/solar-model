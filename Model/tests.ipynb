{
 "cells": [
  {
   "cell_type": "code",
   "execution_count": null,
   "metadata": {
    "collapsed": true
   },
   "outputs": [],
   "source": [
    "#c++ code\n",
    "std::vector<long> N_BINS;\n",
    "    std::vector<int64_t> N_BINS_CUM;\n",
    "    \n",
    "    //total number of bins\n",
    "    N_BINS_CUM.push_back(1);\n",
    "    \n",
    "    for (const auto& node: pt)\n",
    "    {\n",
    "        N_BINS.push_back(node.second.get<long>(\"N_BINS\"));\n",
    "    };\n",
    "    \n",
    "    for (auto i = 0; i < N_BINS.size(); ++i)\n",
    "    {\n",
    "        N_BINS_CUM[i + 1] = N_BINS_CUM[i] * N_BINS[N_BINS.size() - 1 - i];\n",
    "    };\n",
    "    std::vector<std::vector<long>> bins(N_BINS_CUM.back(), std::vector<long>(N_BINS.size(), 0.0));\n",
    "    \n",
    "    \n",
    "    for (int64_t i = 0; i < bins.size(); ++i)\n",
    "    {\n",
    "        for(int64_t j = 0; j < N_BINS.size(); ++j)\n",
    "        {\n",
    "            //\n",
    "            auto N_TAILS = N_BINS_CUM[N_BINS_CUM.size() - 2 - j];\n",
    "            auto i_sub = i % (N_TAILS * N_BINS[j]);\n",
    "            long k = i_sub/N_TAILS;\n",
    "            bins[i][j] = k;\n",
    "        };\n",
    "    }\n"
   ]
  },
  {
   "cell_type": "code",
   "execution_count": 12,
   "metadata": {
    "collapsed": true
   },
   "outputs": [],
   "source": [
    "N_BINS = [3, 4, 5]\n",
    "N_BINS_CUM = [1]"
   ]
  },
  {
   "cell_type": "code",
   "execution_count": 13,
   "metadata": {
    "collapsed": false
   },
   "outputs": [],
   "source": [
    "for i in range(len(N_BINS)):\n",
    "        N_BINS_CUM.append(N_BINS_CUM[i] * N_BINS[- i - 1])\n",
    "        "
   ]
  },
  {
   "cell_type": "code",
   "execution_count": 14,
   "metadata": {
    "collapsed": false
   },
   "outputs": [
    {
     "data": {
      "text/plain": [
       "[1, 5, 20, 60]"
      ]
     },
     "execution_count": 14,
     "metadata": {},
     "output_type": "execute_result"
    }
   ],
   "source": [
    "N_BINS_CUM"
   ]
  },
  {
   "cell_type": "code",
   "execution_count": 15,
   "metadata": {
    "collapsed": true
   },
   "outputs": [],
   "source": [
    "import numpy as np"
   ]
  },
  {
   "cell_type": "code",
   "execution_count": 20,
   "metadata": {
    "collapsed": true
   },
   "outputs": [],
   "source": [
    "bins = np.zeros((N_BINS_CUM[-1], len(N_BINS)))"
   ]
  },
  {
   "cell_type": "code",
   "execution_count": 23,
   "metadata": {
    "collapsed": false
   },
   "outputs": [],
   "source": [
    "for i in range(N_BINS_CUM[-1]):\n",
    "    for j in range(len(N_BINS)):\n",
    "        N_TAILS = N_BINS_CUM[- 2 - j]\n",
    "        i_sub = i % (N_TAILS * N_BINS[j])\n",
    "        k = int(i_sub/N_TAILS)\n",
    "        bins[i][j] = k"
   ]
  },
  {
   "cell_type": "code",
   "execution_count": 24,
   "metadata": {
    "collapsed": false
   },
   "outputs": [
    {
     "data": {
      "text/plain": [
       "array([[ 0.,  0.,  0.],\n",
       "       [ 0.,  0.,  1.],\n",
       "       [ 0.,  0.,  2.],\n",
       "       [ 0.,  0.,  3.],\n",
       "       [ 0.,  0.,  4.],\n",
       "       [ 0.,  1.,  0.],\n",
       "       [ 0.,  1.,  1.],\n",
       "       [ 0.,  1.,  2.],\n",
       "       [ 0.,  1.,  3.],\n",
       "       [ 0.,  1.,  4.],\n",
       "       [ 0.,  2.,  0.],\n",
       "       [ 0.,  2.,  1.],\n",
       "       [ 0.,  2.,  2.],\n",
       "       [ 0.,  2.,  3.],\n",
       "       [ 0.,  2.,  4.],\n",
       "       [ 0.,  3.,  0.],\n",
       "       [ 0.,  3.,  1.],\n",
       "       [ 0.,  3.,  2.],\n",
       "       [ 0.,  3.,  3.],\n",
       "       [ 0.,  3.,  4.],\n",
       "       [ 1.,  0.,  0.],\n",
       "       [ 1.,  0.,  1.],\n",
       "       [ 1.,  0.,  2.],\n",
       "       [ 1.,  0.,  3.],\n",
       "       [ 1.,  0.,  4.],\n",
       "       [ 1.,  1.,  0.],\n",
       "       [ 1.,  1.,  1.],\n",
       "       [ 1.,  1.,  2.],\n",
       "       [ 1.,  1.,  3.],\n",
       "       [ 1.,  1.,  4.],\n",
       "       [ 1.,  2.,  0.],\n",
       "       [ 1.,  2.,  1.],\n",
       "       [ 1.,  2.,  2.],\n",
       "       [ 1.,  2.,  3.],\n",
       "       [ 1.,  2.,  4.],\n",
       "       [ 1.,  3.,  0.],\n",
       "       [ 1.,  3.,  1.],\n",
       "       [ 1.,  3.,  2.],\n",
       "       [ 1.,  3.,  3.],\n",
       "       [ 1.,  3.,  4.],\n",
       "       [ 2.,  0.,  0.],\n",
       "       [ 2.,  0.,  1.],\n",
       "       [ 2.,  0.,  2.],\n",
       "       [ 2.,  0.,  3.],\n",
       "       [ 2.,  0.,  4.],\n",
       "       [ 2.,  1.,  0.],\n",
       "       [ 2.,  1.,  1.],\n",
       "       [ 2.,  1.,  2.],\n",
       "       [ 2.,  1.,  3.],\n",
       "       [ 2.,  1.,  4.],\n",
       "       [ 2.,  2.,  0.],\n",
       "       [ 2.,  2.,  1.],\n",
       "       [ 2.,  2.,  2.],\n",
       "       [ 2.,  2.,  3.],\n",
       "       [ 2.,  2.,  4.],\n",
       "       [ 2.,  3.,  0.],\n",
       "       [ 2.,  3.,  1.],\n",
       "       [ 2.,  3.,  2.],\n",
       "       [ 2.,  3.,  3.],\n",
       "       [ 2.,  3.,  4.]])"
      ]
     },
     "execution_count": 24,
     "metadata": {},
     "output_type": "execute_result"
    }
   ],
   "source": [
    "bins"
   ]
  },
  {
   "cell_type": "code",
   "execution_count": 1,
   "metadata": {
    "collapsed": false
   },
   "outputs": [
    {
     "ename": "TypeError",
     "evalue": "unsupported operand type(s) for +: 'range' and 'range'",
     "output_type": "error",
     "traceback": [
      "\u001b[0;31m---------------------------------------------------------------------------\u001b[0m",
      "\u001b[0;31mTypeError\u001b[0m                                 Traceback (most recent call last)",
      "\u001b[0;32m<ipython-input-1-96d385e317a1>\u001b[0m in \u001b[0;36m<module>\u001b[0;34m()\u001b[0m\n\u001b[0;32m----> 1\u001b[0;31m \u001b[0mindexing_range\u001b[0m \u001b[1;33m=\u001b[0m \u001b[0mrange\u001b[0m\u001b[1;33m(\u001b[0m\u001b[1;36m0\u001b[0m\u001b[1;33m,\u001b[0m\u001b[1;36m17\u001b[0m\u001b[1;33m,\u001b[0m\u001b[1;36m1\u001b[0m\u001b[1;33m)\u001b[0m \u001b[1;33m+\u001b[0m \u001b[0mrange\u001b[0m\u001b[1;33m(\u001b[0m\u001b[1;36m18\u001b[0m\u001b[1;33m,\u001b[0m\u001b[1;36m22\u001b[0m\u001b[1;33m,\u001b[0m\u001b[1;36m1\u001b[0m\u001b[1;33m)\u001b[0m\u001b[1;33m\u001b[0m\u001b[0m\n\u001b[0m",
      "\u001b[0;31mTypeError\u001b[0m: unsupported operand type(s) for +: 'range' and 'range'"
     ]
    }
   ],
   "source": [
    "indexing_range = range(0,17,1) + range(18,22,1) "
   ]
  },
  {
   "cell_type": "code",
   "execution_count": 2,
   "metadata": {
    "collapsed": false
   },
   "outputs": [
    {
     "data": {
      "text/plain": [
       "0.5265000000000001"
      ]
     },
     "execution_count": 2,
     "metadata": {},
     "output_type": "execute_result"
    }
   ],
   "source": [
    "0.39*(1+0.35)"
   ]
  },
  {
   "cell_type": "code",
   "execution_count": 9,
   "metadata": {
    "collapsed": true
   },
   "outputs": [],
   "source": [
    "eff = 0.165"
   ]
  },
  {
   "cell_type": "code",
   "execution_count": 10,
   "metadata": {
    "collapsed": false
   },
   "outputs": [
    {
     "data": {
      "text/plain": [
       "0.68225"
      ]
     },
     "execution_count": 10,
     "metadata": {},
     "output_type": "execute_result"
    }
   ],
   "source": [
    "-1.3126 + (eff/0.15) * 1.8135"
   ]
  },
  {
   "cell_type": "code",
   "execution_count": null,
   "metadata": {
    "collapsed": true
   },
   "outputs": [],
   "source": []
  }
 ],
 "metadata": {
  "anaconda-cloud": {},
  "kernelspec": {
   "display_name": "Python [default]",
   "language": "python",
   "name": "python3"
  },
  "language_info": {
   "codemirror_mode": {
    "name": "ipython",
    "version": 3
   },
   "file_extension": ".py",
   "mimetype": "text/x-python",
   "name": "python",
   "nbconvert_exporter": "python",
   "pygments_lexer": "ipython3",
   "version": "3.5.2"
  }
 },
 "nbformat": 4,
 "nbformat_minor": 0
}
