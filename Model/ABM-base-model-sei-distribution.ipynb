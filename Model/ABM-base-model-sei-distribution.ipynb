{
 "cells": [
  {
   "cell_type": "markdown",
   "metadata": {},
   "source": [
    "## TODO\n",
    "\n",
    "Look at dataset, list by size and pick top 100 "
   ]
  },
  {
   "cell_type": "code",
   "execution_count": 1,
   "metadata": {
    "collapsed": true
   },
   "outputs": [],
   "source": [
    "import json\n",
    "from pprint import pprint\n",
    "import pandas as pd\n",
    "import numpy as np\n",
    "%matplotlib inline\n",
    "import matplotlib.pyplot as plt\n",
    "from matplotlib import cm\n",
    "import matplotlib.patches as mpatches\n",
    "import matplotlib\n",
    "matplotlib.style.use('ggplot')\n",
    "#ols models\n",
    "import statsmodels.formula.api as sm\n",
    "from patsy import dmatrices\n",
    "import re\n",
    "import scipy as sp\n",
    "from tools import print_columns\n",
    "import csv\n",
    "import math"
   ]
  },
  {
   "cell_type": "markdown",
   "metadata": {},
   "source": [
    "Possible screening rules \n",
    "- proximity to homeowner, need population per zip code in San Jose. Simple assume that just density per tile. One tile = one zip code. \n",
    "- offered savings, need to convert price per watt into savings \n",
    "- customer rating \n",
    "- "
   ]
  },
  {
   "cell_type": "markdown",
   "metadata": {},
   "source": [
    "For each in top 100 create customer rating  - scrape yelp  "
   ]
  },
  {
   "cell_type": "markdown",
   "metadata": {},
   "source": [
    "pick 1 installer from narrowed down via screening rules, this installer is offering 1 project - compare to none option and pick it. Depends on the "
   ]
  },
  {
   "cell_type": "markdown",
   "metadata": {},
   "source": [
    "interaction - depends on the number of installed projects - goes by size\n",
    "distribution of locations - from NEM\n"
   ]
  },
  {
   "cell_type": "markdown",
   "metadata": {},
   "source": [
    "warranty - could not get distribution, assume basically it from bla and maybe from survey"
   ]
  },
  {
   "cell_type": "markdown",
   "metadata": {},
   "source": [
    "total project time - ? need to think\n",
    "will have from dataset some version of a time \n"
   ]
  },
  {
   "cell_type": "markdown",
   "metadata": {},
   "source": [
    "equipment technology - will have from dataset, but need to actually transform data - will need a lot of help. \n",
    "Alternative is assign by size with some distribution."
   ]
  },
  {
   "cell_type": "markdown",
   "metadata": {},
   "source": [
    "from panels on the market that are used by installers - get type of installer - panel efficiency, panel visibility"
   ]
  },
  {
   "cell_type": "markdown",
   "metadata": {},
   "source": [
    "1 installer is offering 2? types of systems - look into actual data to see what types they are offering "
   ]
  },
  {
   "cell_type": "markdown",
   "metadata": {},
   "source": [
    "failures in first years - tie into inverter type. \n",
    "Assume basic failure rate. Check with actual data that might get from the survey. \n",
    "Question about amount of maintenance that need"
   ]
  },
  {
   "cell_type": "markdown",
   "metadata": {},
   "source": [
    "Top 100 for each have Rating, InteractionType, EquipmentType, TotalProjectTime, Warranty\n",
    "\n",
    "Generate 100 agents in Python with customization and import list of parameters into c++"
   ]
  },
  {
   "cell_type": "markdown",
   "metadata": {},
   "source": []
  },
  {
   "cell_type": "markdown",
   "metadata": {
    "collapsed": true
   },
   "source": [
    "Getting information from yelp \n",
    "https://github.com/codelucas/yelpcrawl/blob/master/crawler.py\n",
    "https://www.yelp.com/search?start=0&cflt=solarinstallation&find_loc=94536&ns=1\n"
   ]
  },
  {
   "cell_type": "markdown",
   "metadata": {},
   "source": [
    "Estimating costs for SEI\n",
    "http://citeseerx.ist.psu.edu/viewdoc/download?doi=10.1.1.718.3427&rep=rep1&type=pdf\n",
    "    "
   ]
  },
  {
   "cell_type": "code",
   "execution_count": 2,
   "metadata": {
    "collapsed": true
   },
   "outputs": [],
   "source": [
    "sei = {'EParamTypes::SEIRating':3.0, \n",
    "       'EParamTypes::SEIInteractionType':0.0,\n",
    "       'EParamTypes::SEIEquipmentType':1.0, \n",
    "       'EParamTypes::SEILeadInProjectTime':10.0, \n",
    "       'EParamTypes::SEIWarranty':5*52}"
   ]
  },
  {
   "cell_type": "code",
   "execution_count": 3,
   "metadata": {
    "collapsed": true
   },
   "outputs": [],
   "source": [
    "seis = []\n",
    "#create test sei \n",
    "for i in range(3):\n",
    "    sei['EParamTypes::SEIRating'] = 3.0 + i\n",
    "    seis.append(sei.copy())\n",
    "    "
   ]
  },
  {
   "cell_type": "code",
   "execution_count": 4,
   "metadata": {
    "collapsed": true
   },
   "outputs": [],
   "source": [
    "with open('sei-params.json', 'w') as outfile:\n",
    "    json.dump(seis, outfile)"
   ]
  },
  {
   "cell_type": "markdown",
   "metadata": {},
   "source": [
    "Power optimizer producers\n",
    "http://www.solaredge.com/us/products/power-optimizer#/\n",
    "http://www.solaredge.com/sites/default/files/solaredge-reliability-methodology.pdf\n",
    "https://www.energysage.com/solar/101/microinverter-power-optimizer-options\n",
    "\n",
    "   \n",
    "   "
   ]
  },
  {
   "cell_type": "code",
   "execution_count": null,
   "metadata": {
    "collapsed": true
   },
   "outputs": [],
   "source": [
    "#calculator for CO2\n",
    "#https://www.epa.gov/energy/greenhouse-gas-equivalencies-calculator\n",
    "    \n",
    "    \n",
    "1000 - 0.665"
   ]
  },
  {
   "cell_type": "markdown",
   "metadata": {},
   "source": [
    "Estimates for failures\n",
    "http://www1.eere.energy.gov/solar/pdfs/pvmrw2011_01_plen_degraaff.pdf  - number pessimistic of 4% failures at 15 years for one panel\n",
    "file:///Users/wilfeli/ABM/SolarPanels/Readings/IEA-PVPS_T13-01_2014_Review_of_Failures_of_Photovoltaic_Modules_Final.pdf - 2% failure at 10 years\n",
    "\n",
    "http://www.renewableenergyworld.com/articles/2009/09/mtbf-and-reliability-a-misunderstood-relationship-in-solar-pv.html - explanation of MTBF\n",
    "\n",
    "http://pveducation.com/marketing-hype/micro-inverter-mtbf-marketing-hype/ - lower estimate of failures\n",
    "http://www.appropedia.org/Lifespan_and_Reliability_of_Solar_Photovoltaics_-_Literature_Review#MTBF_-_PVm.2C_Mean_Time_Before_Failure_of_Photovoltaic_modules_.282003.29 - general lit review\n",
    "    \n",
    "  \n",
    " http://intigaia.free.fr/BDPV/Documents/rapporto%20finale%20-%20progetto%20eu%205fp%20-%20mean%20time%20before%20failure%20(mtbf)%202003.pdf\n",
    "@article{realini2003mean,\n",
    "title={Mean time before failure of photovoltaic modules},\n",
    "author={Realini, Antonella}\n",
    "} - general info\n",
    "\n",
    "\n",
    "\n",
    "\n",
    "\n",
    "https://matter2energy.wordpress.com/2012/04/09/the-great-microinverter-debate/ - microinverters \n",
    "\n",
    "\n",
    "https://enphase.com/sites/default/files/Enphase-Warranty-US-CA.pdf - warranty for microinverters\n",
    "\n",
    "\n",
    "https://us.sunpower.com/sites/sunpower/files/media-library/white-papers/wp-sunpower-module-degradation-rate.pdf - research into different failure rates\n"
   ]
  },
  {
   "cell_type": "markdown",
   "metadata": {},
   "source": [
    "15 years - 0.04 failed"
   ]
  },
  {
   "cell_type": "markdown",
   "metadata": {},
   "source": [
    "x = 15\n",
    "f = 0.04\n",
    "1-e(-lambda*x) = f\n",
    "-e(-lambda*x) = f - 1\n",
    "e(-lambda*x) = 1 - f\n",
    "-lambda*x = log(1-f)\n",
    "lambda = - log(1-f)/x\n"
   ]
  },
  {
   "cell_type": "code",
   "execution_count": 7,
   "metadata": {
    "collapsed": false
   },
   "outputs": [
    {
     "data": {
      "text/plain": [
       "0.0027214663013503445"
      ]
     },
     "execution_count": 7,
     "metadata": {},
     "output_type": "execute_result"
    }
   ],
   "source": [
    "#from SunPower marketing\n",
    "fail = 0.04\n",
    "x = 15\n",
    "theta_0 = -math.log(1-fail)/x\n",
    "theta_0"
   ]
  },
  {
   "cell_type": "code",
   "execution_count": 27,
   "metadata": {
    "collapsed": false
   },
   "outputs": [
    {
     "data": {
      "text/plain": [
       "0.0020202707317519466"
      ]
     },
     "execution_count": 27,
     "metadata": {},
     "output_type": "execute_result"
    }
   ],
   "source": [
    "#from longitudal Germany study \n",
    "fail = 0.02\n",
    "x = 10\n",
    "theta_0 = -math.log(1-fail)/x\n",
    "theta_0"
   ]
  },
  {
   "cell_type": "code",
   "execution_count": 28,
   "metadata": {
    "collapsed": false
   },
   "outputs": [
    {
     "data": {
      "text/plain": [
       "494.9831645250911"
      ]
     },
     "execution_count": 28,
     "metadata": {},
     "output_type": "execute_result"
    }
   ],
   "source": [
    "1/theta_0"
   ]
  },
  {
   "cell_type": "code",
   "execution_count": null,
   "metadata": {
    "collapsed": true
   },
   "outputs": [],
   "source": [
    "Total system falure rate\n",
    "#responsible for pv panels\n",
    "\n",
    "#add inverters \n"
   ]
  },
  {
   "cell_type": "code",
   "execution_count": 29,
   "metadata": {
    "collapsed": true
   },
   "outputs": [],
   "source": [
    "MTBF_micro = 300"
   ]
  },
  {
   "cell_type": "code",
   "execution_count": 30,
   "metadata": {
    "collapsed": true
   },
   "outputs": [],
   "source": [
    "theta_micro = 1/MTBF_micro"
   ]
  },
  {
   "cell_type": "code",
   "execution_count": 31,
   "metadata": {
    "collapsed": false
   },
   "outputs": [
    {
     "data": {
      "text/plain": [
       "0.0033333333333333335"
      ]
     },
     "execution_count": 31,
     "metadata": {},
     "output_type": "execute_result"
    }
   ],
   "source": [
    "theta_micro"
   ]
  },
  {
   "cell_type": "code",
   "execution_count": 16,
   "metadata": {
    "collapsed": false
   },
   "outputs": [
    {
     "data": {
      "text/plain": [
       "8.25791157705455"
      ]
     },
     "execution_count": 16,
     "metadata": {},
     "output_type": "execute_result"
    }
   ],
   "source": [
    "theta_system = theta_0*20 + theta_micro*20\n",
    "1/theta_system"
   ]
  },
  {
   "cell_type": "code",
   "execution_count": 24,
   "metadata": {
    "collapsed": true
   },
   "outputs": [],
   "source": [
    "MTBF_string = 10"
   ]
  },
  {
   "cell_type": "code",
   "execution_count": 25,
   "metadata": {
    "collapsed": true
   },
   "outputs": [],
   "source": [
    "theta_string = 1/MTBF_string"
   ]
  },
  {
   "cell_type": "code",
   "execution_count": 26,
   "metadata": {
    "collapsed": false
   },
   "outputs": [
    {
     "data": {
      "text/plain": [
       "6.475454019822103"
      ]
     },
     "execution_count": 26,
     "metadata": {},
     "output_type": "execute_result"
    }
   ],
   "source": [
    "theta_system = theta_0*20 +  theta_string\n",
    "1/theta_system"
   ]
  },
  {
   "cell_type": "code",
   "execution_count": null,
   "metadata": {
    "collapsed": true
   },
   "outputs": [],
   "source": []
  },
  {
   "cell_type": "code",
   "execution_count": 2,
   "metadata": {
    "collapsed": true
   },
   "outputs": [],
   "source": [
    "#read data\n",
    "df_full = pd.read_csv(\"../../Data/NEM_CurrentlyInterconnectedDataset_2016-06-30.csv\", low_memory=False)\n",
    "df_full.columns = df_full.columns.str.replace(' ','_')"
   ]
  },
  {
   "cell_type": "code",
   "execution_count": null,
   "metadata": {
    "collapsed": false
   },
   "outputs": [],
   "source": [
    "#cheat sheet for column names\n",
    "print_columns(df_full)"
   ]
  },
  {
   "cell_type": "code",
   "execution_count": 3,
   "metadata": {
    "collapsed": false
   },
   "outputs": [],
   "source": [
    "#get year from date\n",
    "df_full.ix[:,'App_Complete_Date'] =  pd.to_datetime(df_full.ix[:,'App_Complete_Date'], infer_datetime_format=True)\n",
    "df_full.ix[:,'App_Received_Date'] =  pd.to_datetime(df_full.ix[:,'App_Received_Date'], infer_datetime_format=True)\n",
    "df_full.ix[:,'App_Approved_Date'] =  pd.to_datetime(df_full.ix[:,'App_Approved_Date'], infer_datetime_format=True)\n",
    "df_full['App_Complete_Date_Year'] = df_full.ix[:,'App_Complete_Date'].dt.year\n",
    "#clean a little bit\n",
    "df_full = df_full[(df_full.T != 0).all()]"
   ]
  },
  {
   "cell_type": "code",
   "execution_count": 4,
   "metadata": {
    "collapsed": false
   },
   "outputs": [
    {
     "name": "stderr",
     "output_type": "stream",
     "text": [
      "/Users/wilfeli/anaconda/lib/python3.5/site-packages/ipykernel/__main__.py:3: SettingWithCopyWarning: \n",
      "A value is trying to be set on a copy of a slice from a DataFrame.\n",
      "Try using .loc[row_indexer,col_indexer] = value instead\n",
      "\n",
      "See the caveats in the documentation: http://pandas.pydata.org/pandas-docs/stable/indexing.html#indexing-view-versus-copy\n",
      "  app.launch_new_instance()\n"
     ]
    }
   ],
   "source": [
    "#keep cleaning\n",
    "df = df_full[(df_full['App_Complete_Date_Year'] > 2014) & \\\n",
    "             ((df_full['Total_System_Cost'] > 0.0) | \\\n",
    "              (df_full['Itc_Cost_Basis'] > 0.0)) & \\\n",
    "            (df_full['Customer_Sector'] == 'Residential')]\n",
    "df['Installer_Name_clear'] = df['Installer_Name']"
   ]
  },
  {
   "cell_type": "code",
   "execution_count": 5,
   "metadata": {
    "collapsed": false
   },
   "outputs": [
    {
     "data": {
      "text/plain": [
       "Residential    62372\n",
       "Name: Customer_Sector, dtype: int64"
      ]
     },
     "execution_count": 5,
     "metadata": {},
     "output_type": "execute_result"
    }
   ],
   "source": [
    "df['Customer_Sector'].value_counts()"
   ]
  },
  {
   "cell_type": "code",
   "execution_count": 133,
   "metadata": {
    "collapsed": false
   },
   "outputs": [
    {
     "data": {
      "text/plain": [
       "count                   62372\n",
       "unique                    360\n",
       "top       2015-12-08 00:00:00\n",
       "freq                      482\n",
       "first     2015-04-22 00:00:00\n",
       "last      2016-06-30 00:00:00\n",
       "Name: App_Approved_Date, dtype: object"
      ]
     },
     "execution_count": 133,
     "metadata": {},
     "output_type": "execute_result"
    }
   ],
   "source": [
    "df['App_Approved_Date'].describe()"
   ]
  },
  {
   "cell_type": "code",
   "execution_count": null,
   "metadata": {
    "collapsed": false
   },
   "outputs": [],
   "source": [
    "df['Installer_Name_clear'].value_counts()"
   ]
  },
  {
   "cell_type": "code",
   "execution_count": 53,
   "metadata": {
    "collapsed": false
   },
   "outputs": [
    {
     "name": "stderr",
     "output_type": "stream",
     "text": [
      "/Users/wilfeli/anaconda/envs/aimacro/lib/python3.5/site-packages/ipykernel/__main__.py:2: SettingWithCopyWarning: \n",
      "A value is trying to be set on a copy of a slice from a DataFrame.\n",
      "Try using .loc[row_indexer,col_indexer] = value instead\n",
      "\n",
      "See the caveats in the documentation: http://pandas.pydata.org/pandas-docs/stable/indexing.html#indexing-view-versus-copy\n",
      "  from ipykernel import kernelapp as app\n"
     ]
    }
   ],
   "source": [
    "#calculate length between receive and approve\n",
    "df['Permit_Length'] = df['App_Received_Date'] - df['App_Approved_Date']"
   ]
  },
  {
   "cell_type": "code",
   "execution_count": 54,
   "metadata": {
    "collapsed": false
   },
   "outputs": [
    {
     "data": {
      "text/plain": [
       "<matplotlib.axes._subplots.AxesSubplot at 0x105181d68>"
      ]
     },
     "execution_count": 54,
     "metadata": {},
     "output_type": "execute_result"
    },
    {
     "data": {
      "image/png": "[encoded data removed]",
      "text/plain": [
       "<matplotlib.figure.Figure at 0x1267ba6a0>"
      ]
     },
     "metadata": {},
     "output_type": "display_data"
    }
   ],
   "source": [
    "df['Permit_Length'].astype('timedelta64[D]').astype(int).hist()"
   ]
  },
  {
   "cell_type": "code",
   "execution_count": 55,
   "metadata": {
    "collapsed": false
   },
   "outputs": [
    {
     "data": {
      "text/plain": [
       "<matplotlib.axes._subplots.AxesSubplot at 0x105a8ac50>"
      ]
     },
     "execution_count": 55,
     "metadata": {},
     "output_type": "execute_result"
    },
    {
     "data": {
      "image/png": "[encoded data removed]",
      "text/plain": [
       "<matplotlib.figure.Figure at 0x10c625898>"
      ]
     },
     "metadata": {},
     "output_type": "display_data"
    }
   ],
   "source": [
    "df['Permit_Length'].astype('timedelta64[D]').astype(int).hist(bins = 100)"
   ]
  },
  {
   "cell_type": "code",
   "execution_count": 56,
   "metadata": {
    "collapsed": false
   },
   "outputs": [
    {
     "data": {
      "text/plain": [
       "count    62372.000000\n",
       "mean       -25.224075\n",
       "std         37.503546\n",
       "min       -409.000000\n",
       "25%        -32.000000\n",
       "50%         -9.000000\n",
       "75%         -3.000000\n",
       "max          0.000000\n",
       "Name: Permit_Length, dtype: float64"
      ]
     },
     "execution_count": 56,
     "metadata": {},
     "output_type": "execute_result"
    }
   ],
   "source": [
    "df['Permit_Length'].astype('timedelta64[D]').astype(int).describe()"
   ]
  },
  {
   "cell_type": "code",
   "execution_count": null,
   "metadata": {
    "collapsed": true
   },
   "outputs": [],
   "source": []
  },
  {
   "cell_type": "markdown",
   "metadata": {},
   "source": [
    "Create fake sei distribution "
   ]
  },
  {
   "cell_type": "markdown",
   "metadata": {},
   "source": [
    "from yelp - rating + name \n",
    "from name - size = number of installations = collaboration type \n",
    "size = number of installations = number of employed people \n",
    "equipment technology - from data go thorugh each list and assign properties to the techonologies in use\n",
    "total project time - assign uniformly over the resulting distribution \n",
    "\n",
    "\n",
    "data from "
   ]
  },
  {
   "cell_type": "code",
   "execution_count": 6,
   "metadata": {
    "collapsed": true
   },
   "outputs": [],
   "source": [
    "#create dummies for companies\n",
    "def company_dummy(row, templ, name):\n",
    "    if not pd.isnull(row['Installer_Name_clear']):\n",
    "        if templ.search(row['Installer_Name_clear']):\n",
    "            val = name\n",
    "        else:\n",
    "            val = row['Installer_Name_clear']\n",
    "    else:\n",
    "        val = row['Installer_Name_clear']\n",
    "    return val"
   ]
  },
  {
   "cell_type": "code",
   "execution_count": 7,
   "metadata": {
    "collapsed": false
   },
   "outputs": [
    {
     "name": "stderr",
     "output_type": "stream",
     "text": [
      "/Users/wilfeli/anaconda/lib/python3.5/site-packages/ipykernel/__main__.py:7: SettingWithCopyWarning: \n",
      "A value is trying to be set on a copy of a slice from a DataFrame.\n",
      "Try using .loc[row_indexer,col_indexer] = value instead\n",
      "\n",
      "See the caveats in the documentation: http://pandas.pydata.org/pandas-docs/stable/indexing.html#indexing-view-versus-copy\n"
     ]
    }
   ],
   "source": [
    "regexes = [[r'SolarCity', 'SolarCity Corporation'], \\\n",
    "           [r'SunPower', 'SunPower Corporation'], \\\n",
    "          [r'Sunrun', 'Sunrun Installation Services, Inc'], \\\n",
    "           [r'Petersen\\s+Dean', 'Petersen Dean Roofing & Solar Systems'], \\\n",
    "          [r'Semper Solaris', 'Semper Solaris Construction Inc'], \\\n",
    "          [r'Vivint', 'Vivint Solar Developer, LLC']]\n",
    "\n",
    "for names in regexes:\n",
    "    company_regex = names[0]\n",
    "    replace_name = names[1]\n",
    "    p = re.compile(company_regex, re.IGNORECASE)\n",
    "    df['Installer_Name_clear'] = df.apply (lambda row: company_dummy (row, p, replace_name),axis=1)"
   ]
  },
  {
   "cell_type": "code",
   "execution_count": null,
   "metadata": {
    "collapsed": true
   },
   "outputs": [],
   "source": [
    "# create index with rows that contain SolarCity\n",
    "# just an example of indexing\n",
    "index = (pd.notnull(df['Installer_Name'].str.contains('SolarCity')) & df['Installer_Name'].str.contains('SolarCity'))\n",
    "df[index == True]['Installer_Name'].value_counts()"
   ]
  },
  {
   "cell_type": "code",
   "execution_count": 64,
   "metadata": {
    "collapsed": false
   },
   "outputs": [],
   "source": [
    "#see top 100 by number of installations\n",
    "#for each check what equipment they are using - check top 2 in terms of number of installations "
   ]
  },
  {
   "cell_type": "code",
   "execution_count": 8,
   "metadata": {
    "collapsed": false
   },
   "outputs": [],
   "source": [
    "top_names = df['Installer_Name_clear'].value_counts()[0:100]"
   ]
  },
  {
   "cell_type": "code",
   "execution_count": null,
   "metadata": {
    "collapsed": true
   },
   "outputs": [],
   "source": []
  },
  {
   "cell_type": "code",
   "execution_count": null,
   "metadata": {
    "collapsed": true
   },
   "outputs": [],
   "source": []
  },
  {
   "cell_type": "code",
   "execution_count": null,
   "metadata": {
    "collapsed": false
   },
   "outputs": [],
   "source": []
  },
  {
   "cell_type": "code",
   "execution_count": 109,
   "metadata": {
    "collapsed": false
   },
   "outputs": [
    {
     "data": {
      "text/plain": [
       "KU265-6ZPA    8596\n",
       "Name: Module_Model_1, dtype: int64"
      ]
     },
     "execution_count": 109,
     "metadata": {},
     "output_type": "execute_result"
    }
   ],
   "source": [
    "df[df['Installer_Name_clear'] == top_names.index.values[0]]['Module_Model_1'].value_counts()[0:1]"
   ]
  },
  {
   "cell_type": "code",
   "execution_count": 239,
   "metadata": {
    "collapsed": false
   },
   "outputs": [
    {
     "data": {
      "text/plain": [
       "PVI-3.0-OUTD-S-US-Z-A (240V)    4746\n",
       "PVI-3.6-OUTD-S-US-Z-A (240V)    2820\n",
       "Name: Inverter_Model_1, dtype: int64"
      ]
     },
     "execution_count": 239,
     "metadata": {},
     "output_type": "execute_result"
    }
   ],
   "source": [
    "df[df['Installer_Name_clear'] == top_names.index.values[0]]['Inverter_Model_1'].value_counts()[0:2]"
   ]
  },
  {
   "cell_type": "code",
   "execution_count": 116,
   "metadata": {
    "collapsed": false
   },
   "outputs": [],
   "source": [
    "inverter_qn = df[df['Installer_Name_clear'] == top_names.index.values[0]]['Inverter_Quantity_1'].value_counts()"
   ]
  },
  {
   "cell_type": "code",
   "execution_count": 119,
   "metadata": {
    "collapsed": false
   },
   "outputs": [
    {
     "data": {
      "text/plain": [
       "1.0"
      ]
     },
     "execution_count": 119,
     "metadata": {},
     "output_type": "execute_result"
    }
   ],
   "source": [
    "inverter_qn.index.values[0]"
   ]
  },
  {
   "cell_type": "markdown",
   "metadata": {},
   "source": [
    "for each installer look at top 1 solar panel and top 2 inverters add them to general pool of all models that are used and general pool of inverters "
   ]
  },
  {
   "cell_type": "code",
   "execution_count": 14,
   "metadata": {
    "collapsed": false
   },
   "outputs": [],
   "source": [
    "pv_modules = set()\n",
    "pv_modules_by_installer = {}\n",
    "pv_manufacturers = set()\n",
    "for installer in top_names.index.values:\n",
    "    pv_modules.add(df[df['Installer_Name_clear'] == installer]['Module_Model_1'].value_counts()[0:1].index.values[0])\n",
    "    pv_modules_by_installer[installer] = \\\n",
    "                    {'Module_Model_1':df[df['Installer_Name_clear'] == installer]['Module_Model_1'].value_counts()[0:1].index.values[0],\n",
    "                    'Count':df[df['Installer_Name_clear'] == installer]['Module_Model_1'].value_counts()[0:1].values[0]}\n",
    "    pv_manufacturers.add(df[df['Installer_Name_clear'] == installer]['Module_Manufacturer_1'].value_counts()[0:1].index.values[0])\n",
    "\n",
    "    "
   ]
  },
  {
   "cell_type": "code",
   "execution_count": 61,
   "metadata": {
    "collapsed": false
   },
   "outputs": [
    {
     "name": "stdout",
     "output_type": "stream",
     "text": [
      "25049.0\n",
      "51878\n",
      "0.482844365627\n"
     ]
    }
   ],
   "source": [
    "N_pv_modules = 0.0\n",
    "for iter in pv_modules_by_installer:\n",
    "    N_pv_modules = N_pv_modules + pv_modules_by_installer[iter]['Count']\n",
    "print(N_pv_modules)\n",
    "print(sum(top_names))\n",
    "print(N_pv_modules/sum(top_names))"
   ]
  },
  {
   "cell_type": "code",
   "execution_count": 128,
   "metadata": {
    "collapsed": false
   },
   "outputs": [
    {
     "name": "stdout",
     "output_type": "stream",
     "text": [
      "{'LG300N1C-B3', 'SE-F270KzD-3y', 'SE-F265KzD-3y', 'SW 285 Mono', 'CS6P-255P', 'SW 280 Mono Black', 'SW260 Mono', 'SPR-230NE-BLK-D', 'Q.PRO BFR - G3 260', 'HiS-S260RG(BK)', 'HiS-S280RG', 'SW 260 Poly', 'SNPM-GxB-300', 'REC275TP', 'HiS-S270RG', 'Q.PRO BFR - G3 265', 'KD265GX-LFB2', 'LLE-6M260', 'Q.PRO-G3 260', 'SW 280 Mono', 'HiS-M255RG', 'SPR-E20-327', 'JC250M-24/Bx', 'HSL60P6-PC-3-260W', 'SLA260P', 'STL-140', 'Q.PRO BFR G4 260', 'CS6P-260P', 'PM250M01_265', 'TSM-250PA05.05', 'TSM-250PD05.05', 'KU265-6ZPA', 'LG280S1C-B3', 'KU265-6MCA', 'LG305N1C-B3', 'CS6X-310P', 'HiS-M250MG', 'SE-F270KzC-2y', 'SW250 Poly', 'SPR-X21-345', 'SPR-327NE-WHT-D', 'TSM-260PA05A', 'UP-M265M-B', 'SNPM-GxB-360', 'LG275S1C-B3', 'HiS-S265RG', 'Q.PEAK BLK-G3 270', 'SE-F270KzD-4y', 'REC260PE', 'LG315N1C-G4', 'YL255P-29b', 'SE-F270CzC-4y'}\n"
     ]
    }
   ],
   "source": [
    "print(pv_modules)"
   ]
  },
  {
   "cell_type": "code",
   "execution_count": 129,
   "metadata": {
    "collapsed": false
   },
   "outputs": [
    {
     "name": "stdout",
     "output_type": "stream",
     "text": [
      "{'Renesola America', 'Hanwha SolarOne (Qidong)', 'Lifeline Energy International', 'YINGLI ENERGY', 'Yingli Energy (China)', 'Kyocera Solar', 'AU Optronics', 'Sun Edison', 'Hyundai Heavy Industries', 'Stion', 'Sunpreme', 'REC Solar', 'Trina Solar', 'LG Electronics Solar Cell Division', 'Canadian Solar', 'SolarWorld', 'Silfab', 'Hanwha Q-Cells', 'Upsolar', 'SunPower'}\n"
     ]
    }
   ],
   "source": [
    "print(pv_manufacturers)"
   ]
  },
  {
   "cell_type": "code",
   "execution_count": 228,
   "metadata": {
    "collapsed": false
   },
   "outputs": [
    {
     "data": {
      "text/plain": [
       "51"
      ]
     },
     "execution_count": 228,
     "metadata": {},
     "output_type": "execute_result"
    }
   ],
   "source": [
    "len(pv_modules)"
   ]
  },
  {
   "cell_type": "code",
   "execution_count": 9,
   "metadata": {
    "collapsed": true
   },
   "outputs": [],
   "source": [
    "#read file with solar equipment\n",
    "with open('../../Data/solar_equipment.json') as data_file:    \n",
    "    pv_modules_data = json.load(data_file)"
   ]
  },
  {
   "cell_type": "code",
   "execution_count": 10,
   "metadata": {
    "collapsed": false
   },
   "outputs": [],
   "source": [
    "i = 0 \n",
    "pv_modules_dataframe_raw = []\n",
    "index_pv_modules_dataframe_raw = []\n",
    "for pv_module in pv_modules_data['solar_modules']:\n",
    "    pv_module['Efficiency'] = \\\n",
    "            float(pv_module[\"STC Power Rating\"]) / float(pv_module[\"Length\"]) / float(pv_module[\"Width\"]) * 1000\n",
    "    pv_module['Count'] = 0.0\n",
    "    pv_modules_dataframe_raw.append([pv_module['Name'], \\\n",
    "                                     pv_module['Efficiency'], \\\n",
    "                                     pv_module['Count']\n",
    "                                   ])\n",
    "    index_pv_modules_dataframe_raw.append(i)\n",
    "    i = i + 1"
   ]
  },
  {
   "cell_type": "code",
   "execution_count": 11,
   "metadata": {
    "collapsed": true
   },
   "outputs": [],
   "source": [
    "df_pv_modules = pd.DataFrame(data=pv_modules_dataframe_raw, \\\n",
    "                             index=index_pv_modules_dataframe_raw, columns = ['Name', 'Efficiency', 'Count'])"
   ]
  },
  {
   "cell_type": "markdown",
   "metadata": {},
   "source": [
    "select records with installer name and top module for that installer, save records into separate database?"
   ]
  },
  {
   "cell_type": "markdown",
   "metadata": {},
   "source": [
    "for each module find final number of uses, it will be its weight"
   ]
  },
  {
   "cell_type": "code",
   "execution_count": 15,
   "metadata": {
    "collapsed": false
   },
   "outputs": [],
   "source": [
    "for installer in top_names.index.values:\n",
    "    name = pv_modules_by_installer[installer]['Module_Model_1']\n",
    "    df_pv_modules.loc[df_pv_modules['Name'] == name, 'Count'] += pv_modules_by_installer[installer]['Count']  "
   ]
  },
  {
   "cell_type": "code",
   "execution_count": 16,
   "metadata": {
    "collapsed": false
   },
   "outputs": [
    {
     "data": {
      "text/plain": [
       "0.16751375762146067"
      ]
     },
     "execution_count": 16,
     "metadata": {},
     "output_type": "execute_result"
    }
   ],
   "source": [
    "#numpy - calculates only weighted average\n",
    "np.average(a = df_pv_modules['Efficiency'], weights = df_pv_modules['Count'])"
   ]
  },
  {
   "cell_type": "code",
   "execution_count": 17,
   "metadata": {
    "collapsed": true
   },
   "outputs": [],
   "source": [
    "#calculates weighted average and standard deviation\n",
    "def weighted_avg_and_std(values, weights):\n",
    "    \"\"\"\n",
    "    Return the weighted average and standard deviation.\n",
    "\n",
    "    values, weights -- Numpy ndarrays with the same shape.\n",
    "    \"\"\"\n",
    "    average = np.average(values, weights=weights)\n",
    "    V1 = np.sum(weights)\n",
    "    variance = np.average((values-average)**2, weights=weights) * V1 / (V1-1) # Fast and numerically precise\n",
    "    return (average, math.sqrt(variance))"
   ]
  },
  {
   "cell_type": "code",
   "execution_count": 18,
   "metadata": {
    "collapsed": false
   },
   "outputs": [],
   "source": [
    "efficiency_stats = weighted_avg_and_std(df_pv_modules['Efficiency'], df_pv_modules['Count'])"
   ]
  },
  {
   "cell_type": "code",
   "execution_count": 19,
   "metadata": {
    "collapsed": false
   },
   "outputs": [
    {
     "name": "stdout",
     "output_type": "stream",
     "text": [
      "(0.16751375762146067, 0.016522902767846473)\n"
     ]
    }
   ],
   "source": [
    "print(efficiency_stats)"
   ]
  },
  {
   "cell_type": "code",
   "execution_count": 73,
   "metadata": {
    "collapsed": false
   },
   "outputs": [
    {
     "data": {
      "image/png": "[encoded data removed]",
      "text/plain": [
       "<matplotlib.figure.Figure at 0x10b205828>"
      ]
     },
     "metadata": {},
     "output_type": "display_data"
    }
   ],
   "source": [
    "fig, host = plt.subplots()\n",
    "\n",
    "host.hist(df_pv_modules['Efficiency'].values, weights=df_pv_modules['Count'].values)\n",
    "\n",
    "host.set_xlabel(\"Efficiency\")\n",
    "host.set_ylabel(\"Count\")\n",
    "\n",
    "\n",
    "\n",
    "#plt.hist(df_pv_modules['Efficiency'].values, weights=df_pv_modules['Count'].values)\n",
    "plt.savefig('Efficiency_distribution.png', dpi=300)\n",
    "\n",
    "plt.show()"
   ]
  },
  {
   "cell_type": "markdown",
   "metadata": {},
   "source": [
    "if it is +- one standard deviation - code as Standard\n",
    "if higher - Cutting_Edge\n",
    "if lower - Traditional"
   ]
  },
  {
   "cell_type": "markdown",
   "metadata": {},
   "source": [
    "Name, Module_Name_1, Efficiency, Inverter_Name_1, Inverter_Type_1, Inverter_Name_2, Inverter_Type_2, Size, Rating, Interaction, Technology, LeadInProjectTime, Warranty"
   ]
  },
  {
   "cell_type": "code",
   "execution_count": 20,
   "metadata": {
    "collapsed": false
   },
   "outputs": [],
   "source": [
    "inverters_by_installer = {}\n",
    "for installer in top_names.index.values:\n",
    "    inverters_by_installer[installer] = \\\n",
    "        {\n",
    "            'Inverter_Model_1':df[df['Installer_Name_clear'] == installer]['Inverter_Model_1'].value_counts()[0:2].index.values[0],\n",
    "            'Inverter_Model_2':''\n",
    "        }\n",
    "    if len(df[df['Installer_Name_clear'] == installer]['Inverter_Model_1'].value_counts()[0:2].index.values) > 1:\n",
    "        inverters_by_installer[installer]['Inverter_Model_2'] = df[df['Installer_Name_clear'] == installer]['Inverter_Model_1'].value_counts()[0:2].index.values[1]"
   ]
  },
  {
   "cell_type": "code",
   "execution_count": 21,
   "metadata": {
    "collapsed": false
   },
   "outputs": [],
   "source": [
    "inverters = set()\n",
    "for installer in top_names.index.values:\n",
    "    inverters.add(inverters_by_installer[installer]['Inverter_Model_1'])\n",
    "    if (inverters_by_installer[installer]['Inverter_Model_2'] != ''):\n",
    "        inverters.add(inverters_by_installer[installer]['Inverter_Model_2'])\n"
   ]
  },
  {
   "cell_type": "code",
   "execution_count": 22,
   "metadata": {
    "collapsed": false
   },
   "outputs": [
    {
     "name": "stdout",
     "output_type": "stream",
     "text": [
      "M215-60-2LL-S2X-IG\n",
      "YC500A (240V)\n",
      "SE 10000A-US (240V)\n"
     ]
    }
   ],
   "source": [
    "#look at inverter in big database, check that module count is > 1 and see what is count of inverters, if 1 - central\n",
    "# if >= number of modules - micro \n",
    "#in between - report type\n",
    "inverter_types = {}\n",
    "for inverter in inverters:\n",
    "    row = df[df['Inverter_Model_1'] == inverter].iloc[0,:]\n",
    "    if (row['Module_Quantity_1'] > 1.0):\n",
    "        #check if it is micro\n",
    "        if (row['Inverter_Quantity_1'] >= row['Module_Quantity_1']):\n",
    "            #it is micro \n",
    "            inverter_types[inverter] = 'TechnologyInverterMicro'\n",
    "        elif (row['Inverter_Quantity_1'] == 1):\n",
    "            #it is central\n",
    "            inverter_types[inverter] = 'TechnologyInverterCentral'\n",
    "        else:\n",
    "            print(inverter)"
   ]
  },
  {
   "cell_type": "code",
   "execution_count": 23,
   "metadata": {
    "collapsed": true
   },
   "outputs": [],
   "source": [
    "#add missing types\n",
    "inverter_types['SE 10000A-US (240V)'] = 'TechnologyInverterCentral'\n",
    "inverter_types['M215-60-2LL-S2X-IG'] = 'TechnologyInverterMicro'\n",
    "inverter_types['YC500A (240V)'] = 'TechnologyInverterMicro'\n",
    "inverter_types['M215-60-2LL-S2X'] = 'TechnologyInverterMicro'\n",
    "inverter_types[''] = ''"
   ]
  },
  {
   "cell_type": "code",
   "execution_count": 24,
   "metadata": {
    "collapsed": false
   },
   "outputs": [
    {
     "name": "stdout",
     "output_type": "stream",
     "text": [
      "TechnologyInverterMicro\n"
     ]
    }
   ],
   "source": [
    "print(inverter_types['M215-60-2LL-S2X'])"
   ]
  },
  {
   "cell_type": "code",
   "execution_count": 77,
   "metadata": {
    "collapsed": false
   },
   "outputs": [
    {
     "name": "stdout",
     "output_type": "stream",
     "text": [
      "PVI-6000-OUTD-US-A (240V) TechnologyInverterCentral\n",
      "PVI-3.0-OUTD-S-US-Z-A (240V) TechnologyInverterCentral\n",
      "PVI-3.6-OUTD-S-US-Z-A (240V) TechnologyInverterCentral\n",
      "M215-60-2LL-S2X-NA TechnologyInverterMicro\n",
      "M215-60-2LL-S2X-NA TechnologyInverterMicro\n",
      "SB7700TL-US-22-240V TechnologyInverterCentral\n",
      "YC500A (240V) TechnologyInverterMicro\n",
      "YC500A (240V) TechnologyInverterMicro\n",
      "SB6000TL-US-22 (240V) (240V) TechnologyInverterCentral\n",
      "Fronius Primo 5.0-1 @ 240 VAC TechnologyInverterCentral\n",
      "M215-60-SIE-S2X-ZC-NA TechnologyInverterMicro\n",
      "M215-60-SIE-S2X-ZC-NA TechnologyInverterMicro\n",
      "SB3800TL-US-22 (240V) TechnologyInverterCentral\n",
      "PVI-5000-OUTD-US (240V) TechnologyInverterCentral\n",
      "Fronius Primo 3.8-1 @ 240 VAC TechnologyInverterCentral\n",
      "PVI-3.0-OUTD-S-US (240 V) TechnologyInverterCentral\n",
      "M215-60-2LL-S2X-IG TechnologyInverterMicro\n",
      "M215-60-2LL-S2X-IG TechnologyInverterMicro\n",
      "M250-60-2LL-S2X (-ZC) (-NA) (240V) TechnologyInverterMicro\n",
      "M250-60-2LL-S2X (-ZC) (-NA) (240V) TechnologyInverterMicro\n",
      "PVI-5000-OUTD-US-A (240V) TechnologyInverterCentral\n",
      "SE7600 (240V) TechnologyInverterCentral\n",
      "Solis-3.6K-2G-US (240V) TechnologyInverterCentral\n",
      " \n",
      "PVI-3.8-OUTD-S-US-A (240V) TechnologyInverterCentral\n",
      "SB3000TL-US-22 (240V) TechnologyInverterCentral\n",
      "PVI-3.0-OUTD-S-US-A (240V) TechnologyInverterCentral\n",
      "SE5000 (240V) w/ -ER-US or A-US TechnologyInverterCentral\n",
      "S280-60-LL-X (240Vac) TechnologyInverterMicro\n",
      "S280-60-LL-X (240Vac) TechnologyInverterMicro\n",
      "Galvo 3.1-1 208-240 (240V) TechnologyInverterCentral\n",
      "SE 7600A-US (240V) TechnologyInverterCentral\n",
      "Galvo 1.5-1 208-240 (240V) TechnologyInverterCentral\n",
      "M215-60-2LL-S2X TechnologyInverterMicro\n",
      "M215-60-2LL-S2X TechnologyInverterMicro\n",
      "SE3000 (240V) w/ -ER-US or A-US TechnologyInverterCentral\n",
      "MICRO-0.25-I-OUTD-US-240 TechnologyInverterMicro\n",
      "MICRO-0.25-I-OUTD-US-240 TechnologyInverterMicro\n",
      "SB5000TL-US-22 (240V) TechnologyInverterCentral\n",
      "SE6000 (240V) w/ -ER-US or A-US TechnologyInverterCentral\n",
      "SB7000TL-US-22-240V (240V) TechnologyInverterCentral\n",
      "PVI-4.2-OUTD-S-US-A (240V) TechnologyInverterCentral\n",
      "PVI-4.2-OUTD-S-US (240 V) TechnologyInverterCentral\n",
      "PVI-6000-OUTD-US (240V) TechnologyInverterCentral\n",
      "SE 10000A-US (240V) TechnologyInverterCentral\n",
      "SE3800 (240V) w/ -ER-US or A-US TechnologyInverterCentral\n",
      "SB4000TL-US-22 (240V) TechnologyInverterCentral\n"
     ]
    }
   ],
   "source": [
    "for iter in inverter_types:\n",
    "    if (inverter_types[iter] == 'TechnologyInverterMicro'):\n",
    "        print(iter, inverter_types[iter])\n",
    "        \n",
    "    print(iter, inverter_types[iter])"
   ]
  },
  {
   "cell_type": "code",
   "execution_count": 25,
   "metadata": {
    "collapsed": false
   },
   "outputs": [
    {
     "data": {
      "text/plain": [
       "16824"
      ]
     },
     "execution_count": 25,
     "metadata": {},
     "output_type": "execute_result"
    }
   ],
   "source": [
    "top_names[top_names.index == 'SolarCity Corporation'].values[0]"
   ]
  },
  {
   "cell_type": "code",
   "execution_count": 30,
   "metadata": {
    "collapsed": false
   },
   "outputs": [],
   "source": [
    "np.random.seed(2016)\n",
    "#draw random nubmer for rating from [3.0 - 0.1, 4.0 - 0.8, 5.0 - 1.0]\n",
    "ratings_raw = np.random.multinomial(1, [0.1, 0.8, 0.1], 100)\n",
    "ratings = np.sum(ratings_raw*np.array([3.0, 4.0, 5.0]), axis = 1)"
   ]
  },
  {
   "cell_type": "code",
   "execution_count": 34,
   "metadata": {
    "collapsed": false
   },
   "outputs": [],
   "source": [
    "#LeadInProjectTime\n",
    "#assume in weeks \n",
    "#assume that it is 2 month +-\n",
    "#ask Kelley about distribution \n",
    "#check that there are questions in the survey about parts and total project time\n",
    "np.array([2.0, 4.0, 8.0, 16.0]) - np.array([2.0]*4)\n",
    "\n",
    "#assume normal with mean = 6 weeks, and std.dev = 2 weeks\n",
    "np.random.seed(2016)\n",
    "leadintime = np.random.normal(6, 2, 100)"
   ]
  },
  {
   "cell_type": "code",
   "execution_count": 42,
   "metadata": {
    "collapsed": false
   },
   "outputs": [
    {
     "data": {
      "text/plain": [
       "[5.0, 15.0, 25.0]"
      ]
     },
     "execution_count": 42,
     "metadata": {},
     "output_type": "execute_result"
    }
   ],
   "source": [
    "#Warranty - assume majority are 15 years (labor warranty), tie with customer reports rating\n",
    "warranty = [5.0, 15.0, 25.0]\n",
    "warranty"
   ]
  },
  {
   "cell_type": "code",
   "execution_count": 48,
   "metadata": {
    "collapsed": false
   },
   "outputs": [],
   "source": [
    "df_installers_raw = []\n",
    "index_dataframe_raw = []\n",
    "row = []\n",
    "i = 0\n",
    "\n",
    "for installer in top_names.index.values:\n",
    "    row = [installer, \\\n",
    "           pv_modules_by_installer[installer]['Module_Model_1'], \\\n",
    "          df_pv_modules[df_pv_modules['Name'] == pv_modules_by_installer[installer]['Module_Model_1']]['Efficiency'].values[0],\\\n",
    "          inverters_by_installer[installer]['Inverter_Model_1'], \\\n",
    "          inverter_types[inverters_by_installer[installer]['Inverter_Model_1']], \\\n",
    "          inverters_by_installer[installer]['Inverter_Model_2'], \\\n",
    "          inverter_types[inverters_by_installer[installer]['Inverter_Model_2']], \\\n",
    "          top_names[top_names.index == installer].values[0]]\n",
    "    \n",
    "    \n",
    "    #rztings of the installer, fake\n",
    "    row.append(ratings[i])\n",
    "\n",
    "    \n",
    "    \n",
    "    #calculate interaction \n",
    "    if row[7] < 100:\n",
    "        #assign as Collaborative\n",
    "        row.append('Collaborative')\n",
    "    elif row[7] < 1000:\n",
    "        row.append('Moderate')\n",
    "    else:\n",
    "        row.append('Independent')\n",
    "        \n",
    "        \n",
    "\n",
    "    #calculate equipment type\n",
    "    if row[2] < (efficiency_stats[0] - efficiency_stats[1]):\n",
    "        row.append('Traditional')\n",
    "    elif ((row[2] >= (efficiency_stats[0] - efficiency_stats[1])) and (row[2] < (efficiency_stats[0] + efficiency_stats[1]))):\n",
    "        row.append('Standard') \n",
    "    else:\n",
    "        row.append('CuttingEdge')\n",
    "    \n",
    "    #LeadInProjectTime\n",
    "    row.append(leadintime[i])\n",
    "    \n",
    "    \n",
    "    #Warranty \n",
    "    #converts list of warranties into actual warranty uses ratings as indexing into warranties, so 1-1 rating-warranty relationship\n",
    "    row.append(warranty[int(row[8]) - 3])\n",
    "    \n",
    "    index_dataframe_raw.append(i)\n",
    "    \n",
    "    i = i + 1\n",
    "    \n",
    "    df_installers_raw.append(row)"
   ]
  },
  {
   "cell_type": "code",
   "execution_count": null,
   "metadata": {
    "collapsed": false
   },
   "outputs": [],
   "source": [
    "print(df_installers_raw)"
   ]
  },
  {
   "cell_type": "code",
   "execution_count": 49,
   "metadata": {
    "collapsed": false
   },
   "outputs": [],
   "source": [
    "df_installers = pd.DataFrame(data=df_installers_raw, \\\n",
    "                             index=index_dataframe_raw, \\\n",
    "                             columns = ['Name', 'Module_Name_1', \\\n",
    "                                        'Efficiency', 'Inverter_Name_1', \\\n",
    "                                        'Inverter_Type_1', 'Inverter_Name_2', \\\n",
    "                                        'Inverter_Type_2', 'Size', 'Rating', \\\n",
    "                                        'Interaction', 'Technology', 'LeadInProjectTime', \\\n",
    "                                        'Warranty'])"
   ]
  },
  {
   "cell_type": "code",
   "execution_count": 50,
   "metadata": {
    "collapsed": true
   },
   "outputs": [],
   "source": [
    "df_installers.to_csv('df_installers.csv')"
   ]
  },
  {
   "cell_type": "code",
   "execution_count": 51,
   "metadata": {
    "collapsed": false
   },
   "outputs": [
    {
     "data": {
      "text/html": [
       "<div>\n",
       "<table border=\"1\" class=\"dataframe\">\n",
       "  <thead>\n",
       "    <tr style=\"text-align: right;\">\n",
       "      <th></th>\n",
       "      <th>Efficiency</th>\n",
       "      <th>Size</th>\n",
       "      <th>Rating</th>\n",
       "      <th>LeadInProjectTime</th>\n",
       "      <th>Warranty</th>\n",
       "    </tr>\n",
       "  </thead>\n",
       "  <tbody>\n",
       "    <tr>\n",
       "      <th>count</th>\n",
       "      <td>100.000000</td>\n",
       "      <td>100.000000</td>\n",
       "      <td>100.000000</td>\n",
       "      <td>100.000000</td>\n",
       "      <td>100.000000</td>\n",
       "    </tr>\n",
       "    <tr>\n",
       "      <th>mean</th>\n",
       "      <td>0.174812</td>\n",
       "      <td>518.780000</td>\n",
       "      <td>4.070000</td>\n",
       "      <td>5.904045</td>\n",
       "      <td>15.700000</td>\n",
       "    </tr>\n",
       "    <tr>\n",
       "      <th>std</th>\n",
       "      <td>0.019017</td>\n",
       "      <td>1769.469198</td>\n",
       "      <td>0.382839</td>\n",
       "      <td>1.923196</td>\n",
       "      <td>3.828389</td>\n",
       "    </tr>\n",
       "    <tr>\n",
       "      <th>min</th>\n",
       "      <td>0.130536</td>\n",
       "      <td>54.000000</td>\n",
       "      <td>3.000000</td>\n",
       "      <td>1.730849</td>\n",
       "      <td>5.000000</td>\n",
       "    </tr>\n",
       "    <tr>\n",
       "      <th>25%</th>\n",
       "      <td>0.159089</td>\n",
       "      <td>78.750000</td>\n",
       "      <td>4.000000</td>\n",
       "      <td>4.603869</td>\n",
       "      <td>15.000000</td>\n",
       "    </tr>\n",
       "    <tr>\n",
       "      <th>50%</th>\n",
       "      <td>0.169979</td>\n",
       "      <td>109.000000</td>\n",
       "      <td>4.000000</td>\n",
       "      <td>5.675013</td>\n",
       "      <td>15.000000</td>\n",
       "    </tr>\n",
       "    <tr>\n",
       "      <th>75%</th>\n",
       "      <td>0.200526</td>\n",
       "      <td>260.250000</td>\n",
       "      <td>4.000000</td>\n",
       "      <td>7.415920</td>\n",
       "      <td>15.000000</td>\n",
       "    </tr>\n",
       "    <tr>\n",
       "      <th>max</th>\n",
       "      <td>0.211564</td>\n",
       "      <td>16824.000000</td>\n",
       "      <td>5.000000</td>\n",
       "      <td>10.855922</td>\n",
       "      <td>25.000000</td>\n",
       "    </tr>\n",
       "  </tbody>\n",
       "</table>\n",
       "</div>"
      ],
      "text/plain": [
       "       Efficiency          Size      Rating  LeadInProjectTime    Warranty\n",
       "count  100.000000    100.000000  100.000000         100.000000  100.000000\n",
       "mean     0.174812    518.780000    4.070000           5.904045   15.700000\n",
       "std      0.019017   1769.469198    0.382839           1.923196    3.828389\n",
       "min      0.130536     54.000000    3.000000           1.730849    5.000000\n",
       "25%      0.159089     78.750000    4.000000           4.603869   15.000000\n",
       "50%      0.169979    109.000000    4.000000           5.675013   15.000000\n",
       "75%      0.200526    260.250000    4.000000           7.415920   15.000000\n",
       "max      0.211564  16824.000000    5.000000          10.855922   25.000000"
      ]
     },
     "execution_count": 51,
     "metadata": {},
     "output_type": "execute_result"
    }
   ],
   "source": [
    "df_installers.describe()"
   ]
  },
  {
   "cell_type": "code",
   "execution_count": null,
   "metadata": {
    "collapsed": true
   },
   "outputs": [],
   "source": []
  },
  {
   "cell_type": "code",
   "execution_count": null,
   "metadata": {
    "collapsed": true
   },
   "outputs": [],
   "source": []
  },
  {
   "cell_type": "code",
   "execution_count": null,
   "metadata": {
    "collapsed": true
   },
   "outputs": [],
   "source": []
  },
  {
   "cell_type": "code",
   "execution_count": null,
   "metadata": {
    "collapsed": true
   },
   "outputs": [],
   "source": []
  },
  {
   "cell_type": "code",
   "execution_count": 213,
   "metadata": {
    "collapsed": false
   },
   "outputs": [
    {
     "data": {
      "text/plain": [
       "0.18292682926829268"
      ]
     },
     "execution_count": 213,
     "metadata": {},
     "output_type": "execute_result"
    }
   ],
   "source": [
    "df_pv_modules[df_pv_modules['Name'] == 'LG300N1C-B3']['Efficiency'].values[0]"
   ]
  },
  {
   "cell_type": "code",
   "execution_count": 266,
   "metadata": {
    "collapsed": false
   },
   "outputs": [
    {
     "data": {
      "text/plain": [
       "<matplotlib.axes._subplots.AxesSubplot at 0x10d7725f8>"
      ]
     },
     "execution_count": 266,
     "metadata": {},
     "output_type": "execute_result"
    },
    {
     "data": {
      "image/png": "[encoded data removed]",
      "text/plain": [
       "<matplotlib.figure.Figure at 0x10d784f60>"
      ]
     },
     "metadata": {},
     "output_type": "display_data"
    }
   ],
   "source": [
    "top_names[top_names < 1000].hist(bins=100)"
   ]
  },
  {
   "cell_type": "code",
   "execution_count": null,
   "metadata": {
    "collapsed": true
   },
   "outputs": [],
   "source": [
    "#edges 100 - 1000 "
   ]
  },
  {
   "cell_type": "code",
   "execution_count": 75,
   "metadata": {
    "collapsed": false
   },
   "outputs": [
    {
     "data": {
      "text/plain": [
       "[0.15099085485361419, 0.18403666038930716]"
      ]
     },
     "execution_count": 75,
     "metadata": {},
     "output_type": "execute_result"
    }
   ],
   "source": [
    "#efficiency bins\n",
    "efficiency_bins = [efficiency_stats[0] - efficiency_stats[1], efficiency_stats[0] + efficiency_stats[1]]\n",
    "efficiency_bins"
   ]
  },
  {
   "cell_type": "code",
   "execution_count": null,
   "metadata": {
    "collapsed": true
   },
   "outputs": [],
   "source": []
  },
  {
   "cell_type": "code",
   "execution_count": null,
   "metadata": {
    "collapsed": true
   },
   "outputs": [],
   "source": []
  },
  {
   "cell_type": "code",
   "execution_count": null,
   "metadata": {
    "collapsed": true
   },
   "outputs": [],
   "source": []
  },
  {
   "cell_type": "code",
   "execution_count": 78,
   "metadata": {
    "collapsed": true
   },
   "outputs": [],
   "source": [
    "from ipywidgets import *\n",
    "from IPython.display import display"
   ]
  },
  {
   "cell_type": "code",
   "execution_count": 130,
   "metadata": {
    "collapsed": false
   },
   "outputs": [],
   "source": [
    "n_bins = 3\n",
    "x_min = 15.0\n",
    "x_max = 25.0\n",
    "current_bins = []\n",
    "\n",
    "def update_bins(x, x_min, x_max):\n",
    "    current_bins = np.linspace(x_min, x_max, x)\n",
    "    return current_bins\n"
   ]
  },
  {
   "cell_type": "code",
   "execution_count": 132,
   "metadata": {
    "collapsed": false
   },
   "outputs": [
    {
     "data": {
      "text/plain": [
       "array([ 15.5,  18. ,  20.5,  23. ,  25.5])"
      ]
     },
     "metadata": {},
     "output_type": "display_data"
    }
   ],
   "source": [
    "interact(update_bins, x=widgets.IntSlider(min=1,max=5,step=1,value=3), \\\n",
    "         x_min = widgets.FloatSlider(min=12,max=30,step=0.25,value=15), \\\n",
    "        x_max = widgets.FloatSlider(min=12,max=30,step=0.25,value=25));"
   ]
  },
  {
   "cell_type": "code",
   "execution_count": 92,
   "metadata": {
    "collapsed": false
   },
   "outputs": [
    {
     "ename": "AttributeError",
     "evalue": "'IntText' object has no attribute 'on_submit'",
     "output_type": "error",
     "traceback": [
      "\u001b[0;31m---------------------------------------------------------------------------\u001b[0m",
      "\u001b[0;31mAttributeError\u001b[0m                            Traceback (most recent call last)",
      "\u001b[0;32m<ipython-input-92-03c8f12e73b2>\u001b[0m in \u001b[0;36m<module>\u001b[0;34m()\u001b[0m\n\u001b[1;32m     42\u001b[0m \u001b[0;34m\u001b[0m\u001b[0m\n\u001b[1;32m     43\u001b[0m \u001b[0;34m\u001b[0m\u001b[0m\n\u001b[0;32m---> 44\u001b[0;31m \u001b[0mn_bins_input\u001b[0m\u001b[0;34m.\u001b[0m\u001b[0mon_submit\u001b[0m\u001b[0;34m(\u001b[0m\u001b[0mhandle_submit\u001b[0m\u001b[0;34m)\u001b[0m\u001b[0;34m\u001b[0m\u001b[0m\n\u001b[0m\u001b[1;32m     45\u001b[0m \u001b[0mdisplay\u001b[0m\u001b[0;34m(\u001b[0m\u001b[0mn_bins_input\u001b[0m\u001b[0;34m)\u001b[0m\u001b[0;34m\u001b[0m\u001b[0m\n\u001b[1;32m     46\u001b[0m \u001b[0;34m\u001b[0m\u001b[0m\n",
      "\u001b[0;31mAttributeError\u001b[0m: 'IntText' object has no attribute 'on_submit'"
     ]
    }
   ],
   "source": [
    "n_bins = 4\n",
    "x_min = 16\n",
    "x_max = 25\n",
    "\n",
    "# add button that updates the graph based on the checkboxes\n",
    "button = widgets.Button(description=\"Update the bins\")\n",
    "display(button)\n",
    "\n",
    "\n",
    "text = widgets.BoundedFloatText(\n",
    "    value=7.5,\n",
    "    min=0,\n",
    "    max=10.0,\n",
    "    step=0.1,\n",
    "    description='Text:',\n",
    "    disabled=False,\n",
    "    color='black'\n",
    ")\n",
    "\n",
    "texts = [text, text]\n",
    "\n",
    "\n",
    "for texti in texts:\n",
    "    display(texti)\n",
    "    \n",
    "\n",
    "    \n",
    "n_bins_input = widgets.BoundedIntText(\n",
    "    value=3,\n",
    "    min=1,\n",
    "    max=5,\n",
    "    step=0.1,\n",
    "    description='Text:',\n",
    "    disabled=False,\n",
    "    color='black'\n",
    ")\n",
    "    \n",
    "# function to deal with the added domain name\n",
    "def handle_submit(sender):\n",
    "    print(n_bins_input.value)\n",
    "    \n",
    "    \n",
    "    \n",
    "n_bins_input.on_submit(handle_submit)\n",
    "display(n_bins_input)\n",
    "    \n",
    "button.on_click(on_button_clicked)"
   ]
  },
  {
   "cell_type": "code",
   "execution_count": 84,
   "metadata": {
    "collapsed": false
   },
   "outputs": [
    {
     "data": {
      "image/png": "[encoded data removed]",
      "text/plain": [
       "<matplotlib.figure.Figure at 0x10c331cc0>"
      ]
     },
     "metadata": {},
     "output_type": "display_data"
    },
    {
     "name": "stderr",
     "output_type": "stream",
     "text": [
      "/Users/wilfeli/anaconda/lib/python3.5/site-packages/matplotlib/axes/_axes.py:475: UserWarning: No labelled objects found. Use label='...' kwarg on individual plots.\n",
      "  warnings.warn(\"No labelled objects found. \"\n"
     ]
    },
    {
     "data": {
      "image/png": "[encoded data removed]",
      "text/plain": [
       "<matplotlib.figure.Figure at 0x111a11f98>"
      ]
     },
     "metadata": {},
     "output_type": "display_data"
    },
    {
     "data": {
      "image/png": "[encoded data removed]",
      "text/plain": [
       "<matplotlib.figure.Figure at 0x10b208d30>"
      ]
     },
     "metadata": {},
     "output_type": "display_data"
    },
    {
     "data": {
      "image/png": "[encoded data removed]",
      "text/plain": [
       "<matplotlib.figure.Figure at 0x10c05e1d0>"
      ]
     },
     "metadata": {},
     "output_type": "display_data"
    },
    {
     "ename": "ValueError",
     "evalue": "Length of values does not match length of index",
     "output_type": "error",
     "traceback": [
      "\u001b[0;31m---------------------------------------------------------------------------\u001b[0m",
      "\u001b[0;31mValueError\u001b[0m                                Traceback (most recent call last)",
      "\u001b[0;32m<ipython-input-84-05c391b8914e>\u001b[0m in \u001b[0;36mhandle_submit\u001b[0;34m(sender)\u001b[0m\n\u001b[1;32m     32\u001b[0m     \u001b[0;32melse\u001b[0m\u001b[0;34m:\u001b[0m\u001b[0;34m\u001b[0m\u001b[0m\n\u001b[1;32m     33\u001b[0m          \u001b[0;31m# rebuild plot based on ping result\u001b[0m\u001b[0;34m\u001b[0m\u001b[0;34m\u001b[0m\u001b[0m\n\u001b[0;32m---> 34\u001b[0;31m         \u001b[0mdata\u001b[0m\u001b[0;34m[\u001b[0m\u001b[0mtext\u001b[0m\u001b[0;34m.\u001b[0m\u001b[0mvalue\u001b[0m\u001b[0;34m]\u001b[0m \u001b[0;34m=\u001b[0m \u001b[0mhits\u001b[0m\u001b[0;34m\u001b[0m\u001b[0m\n\u001b[0m\u001b[1;32m     35\u001b[0m         \u001b[0mdata\u001b[0m\u001b[0;34m[\u001b[0m\u001b[0mtext\u001b[0m\u001b[0;34m.\u001b[0m\u001b[0mvalue\u001b[0m\u001b[0;34m]\u001b[0m \u001b[0;34m=\u001b[0m \u001b[0mdata\u001b[0m\u001b[0;34m[\u001b[0m\u001b[0mtext\u001b[0m\u001b[0;34m.\u001b[0m\u001b[0mvalue\u001b[0m\u001b[0;34m]\u001b[0m\u001b[0;34m.\u001b[0m\u001b[0mastype\u001b[0m\u001b[0;34m(\u001b[0m\u001b[0mfloat\u001b[0m\u001b[0;34m)\u001b[0m\u001b[0;34m\u001b[0m\u001b[0m\n\u001b[1;32m     36\u001b[0m         \u001b[0mplots\u001b[0m\u001b[0;34m[\u001b[0m\u001b[0mtext\u001b[0m\u001b[0;34m.\u001b[0m\u001b[0mvalue\u001b[0m\u001b[0;34m]\u001b[0m\u001b[0;34m,\u001b[0m \u001b[0;34m=\u001b[0m \u001b[0max\u001b[0m\u001b[0;34m.\u001b[0m\u001b[0mplot\u001b[0m\u001b[0;34m(\u001b[0m\u001b[0mx\u001b[0m\u001b[0;34m,\u001b[0m \u001b[0mdata\u001b[0m\u001b[0;34m[\u001b[0m\u001b[0mtext\u001b[0m\u001b[0;34m.\u001b[0m\u001b[0mvalue\u001b[0m\u001b[0;34m]\u001b[0m\u001b[0;34m,\u001b[0m \u001b[0mlabel\u001b[0m\u001b[0;34m=\u001b[0m\u001b[0mtext\u001b[0m\u001b[0;34m.\u001b[0m\u001b[0mvalue\u001b[0m\u001b[0;34m)\u001b[0m\u001b[0;34m\u001b[0m\u001b[0m\n",
      "\u001b[0;32m/Users/wilfeli/anaconda/lib/python3.5/site-packages/pandas/core/frame.py\u001b[0m in \u001b[0;36m__setitem__\u001b[0;34m(self, key, value)\u001b[0m\n\u001b[1;32m   2242\u001b[0m         \u001b[0;32melse\u001b[0m\u001b[0;34m:\u001b[0m\u001b[0;34m\u001b[0m\u001b[0m\n\u001b[1;32m   2243\u001b[0m             \u001b[0;31m# set column\u001b[0m\u001b[0;34m\u001b[0m\u001b[0;34m\u001b[0m\u001b[0m\n\u001b[0;32m-> 2244\u001b[0;31m             \u001b[0mself\u001b[0m\u001b[0;34m.\u001b[0m\u001b[0m_set_item\u001b[0m\u001b[0;34m(\u001b[0m\u001b[0mkey\u001b[0m\u001b[0;34m,\u001b[0m \u001b[0mvalue\u001b[0m\u001b[0;34m)\u001b[0m\u001b[0;34m\u001b[0m\u001b[0m\n\u001b[0m\u001b[1;32m   2245\u001b[0m \u001b[0;34m\u001b[0m\u001b[0m\n\u001b[1;32m   2246\u001b[0m     \u001b[0;32mdef\u001b[0m \u001b[0m_setitem_slice\u001b[0m\u001b[0;34m(\u001b[0m\u001b[0mself\u001b[0m\u001b[0;34m,\u001b[0m \u001b[0mkey\u001b[0m\u001b[0;34m,\u001b[0m \u001b[0mvalue\u001b[0m\u001b[0;34m)\u001b[0m\u001b[0;34m:\u001b[0m\u001b[0;34m\u001b[0m\u001b[0m\n",
      "\u001b[0;32m/Users/wilfeli/anaconda/lib/python3.5/site-packages/pandas/core/frame.py\u001b[0m in \u001b[0;36m_set_item\u001b[0;34m(self, key, value)\u001b[0m\n\u001b[1;32m   2309\u001b[0m \u001b[0;34m\u001b[0m\u001b[0m\n\u001b[1;32m   2310\u001b[0m         \u001b[0mself\u001b[0m\u001b[0;34m.\u001b[0m\u001b[0m_ensure_valid_index\u001b[0m\u001b[0;34m(\u001b[0m\u001b[0mvalue\u001b[0m\u001b[0;34m)\u001b[0m\u001b[0;34m\u001b[0m\u001b[0m\n\u001b[0;32m-> 2311\u001b[0;31m         \u001b[0mvalue\u001b[0m \u001b[0;34m=\u001b[0m \u001b[0mself\u001b[0m\u001b[0;34m.\u001b[0m\u001b[0m_sanitize_column\u001b[0m\u001b[0;34m(\u001b[0m\u001b[0mkey\u001b[0m\u001b[0;34m,\u001b[0m \u001b[0mvalue\u001b[0m\u001b[0;34m)\u001b[0m\u001b[0;34m\u001b[0m\u001b[0m\n\u001b[0m\u001b[1;32m   2312\u001b[0m         \u001b[0mNDFrame\u001b[0m\u001b[0;34m.\u001b[0m\u001b[0m_set_item\u001b[0m\u001b[0;34m(\u001b[0m\u001b[0mself\u001b[0m\u001b[0;34m,\u001b[0m \u001b[0mkey\u001b[0m\u001b[0;34m,\u001b[0m \u001b[0mvalue\u001b[0m\u001b[0;34m)\u001b[0m\u001b[0;34m\u001b[0m\u001b[0m\n\u001b[1;32m   2313\u001b[0m \u001b[0;34m\u001b[0m\u001b[0m\n",
      "\u001b[0;32m/Users/wilfeli/anaconda/lib/python3.5/site-packages/pandas/core/frame.py\u001b[0m in \u001b[0;36m_sanitize_column\u001b[0;34m(self, key, value)\u001b[0m\n\u001b[1;32m   2467\u001b[0m \u001b[0;34m\u001b[0m\u001b[0m\n\u001b[1;32m   2468\u001b[0m             \u001b[0;31m# turn me into an ndarray\u001b[0m\u001b[0;34m\u001b[0m\u001b[0;34m\u001b[0m\u001b[0m\n\u001b[0;32m-> 2469\u001b[0;31m             \u001b[0mvalue\u001b[0m \u001b[0;34m=\u001b[0m \u001b[0m_sanitize_index\u001b[0m\u001b[0;34m(\u001b[0m\u001b[0mvalue\u001b[0m\u001b[0;34m,\u001b[0m \u001b[0mself\u001b[0m\u001b[0;34m.\u001b[0m\u001b[0mindex\u001b[0m\u001b[0;34m,\u001b[0m \u001b[0mcopy\u001b[0m\u001b[0;34m=\u001b[0m\u001b[0;32mFalse\u001b[0m\u001b[0;34m)\u001b[0m\u001b[0;34m\u001b[0m\u001b[0m\n\u001b[0m\u001b[1;32m   2470\u001b[0m             \u001b[0;32mif\u001b[0m \u001b[0;32mnot\u001b[0m \u001b[0misinstance\u001b[0m\u001b[0;34m(\u001b[0m\u001b[0mvalue\u001b[0m\u001b[0;34m,\u001b[0m \u001b[0;34m(\u001b[0m\u001b[0mnp\u001b[0m\u001b[0;34m.\u001b[0m\u001b[0mndarray\u001b[0m\u001b[0;34m,\u001b[0m \u001b[0mIndex\u001b[0m\u001b[0;34m)\u001b[0m\u001b[0;34m)\u001b[0m\u001b[0;34m:\u001b[0m\u001b[0;34m\u001b[0m\u001b[0m\n\u001b[1;32m   2471\u001b[0m                 \u001b[0;32mif\u001b[0m \u001b[0misinstance\u001b[0m\u001b[0;34m(\u001b[0m\u001b[0mvalue\u001b[0m\u001b[0;34m,\u001b[0m \u001b[0mlist\u001b[0m\u001b[0;34m)\u001b[0m \u001b[0;32mand\u001b[0m \u001b[0mlen\u001b[0m\u001b[0;34m(\u001b[0m\u001b[0mvalue\u001b[0m\u001b[0;34m)\u001b[0m \u001b[0;34m>\u001b[0m \u001b[0;36m0\u001b[0m\u001b[0;34m:\u001b[0m\u001b[0;34m\u001b[0m\u001b[0m\n",
      "\u001b[0;32m/Users/wilfeli/anaconda/lib/python3.5/site-packages/pandas/core/series.py\u001b[0m in \u001b[0;36m_sanitize_index\u001b[0;34m(data, index, copy)\u001b[0m\n\u001b[1;32m   2694\u001b[0m \u001b[0;34m\u001b[0m\u001b[0m\n\u001b[1;32m   2695\u001b[0m     \u001b[0;32mif\u001b[0m \u001b[0mlen\u001b[0m\u001b[0;34m(\u001b[0m\u001b[0mdata\u001b[0m\u001b[0;34m)\u001b[0m \u001b[0;34m!=\u001b[0m \u001b[0mlen\u001b[0m\u001b[0;34m(\u001b[0m\u001b[0mindex\u001b[0m\u001b[0;34m)\u001b[0m\u001b[0;34m:\u001b[0m\u001b[0;34m\u001b[0m\u001b[0m\n\u001b[0;32m-> 2696\u001b[0;31m         raise ValueError('Length of values does not match length of '\n\u001b[0m\u001b[1;32m   2697\u001b[0m                          'index')\n\u001b[1;32m   2698\u001b[0m \u001b[0;34m\u001b[0m\u001b[0m\n",
      "\u001b[0;31mValueError\u001b[0m: Length of values does not match length of index"
     ]
    },
    {
     "data": {
      "image/png": "[encoded data removed]",
      "text/plain": [
       "<matplotlib.figure.Figure at 0x10ef63198>"
      ]
     },
     "metadata": {},
     "output_type": "display_data"
    },
    {
     "data": {
      "image/png": "[encoded data removed]",
      "text/plain": [
       "<matplotlib.figure.Figure at 0x1050b7048>"
      ]
     },
     "metadata": {},
     "output_type": "display_data"
    }
   ],
   "source": [
    "NUMBER_OF_PINGS = 4\n",
    "\n",
    "# displaying the text widget\n",
    "text = widgets.Text(description=\"Domain to ping\", width=200)\n",
    "display(text)\n",
    "\n",
    "# preparing the plot \n",
    "data = pd.DataFrame()\n",
    "x = range(1,NUMBER_OF_PINGS+1)\n",
    "plots = dict()\n",
    "fig, ax = plt.subplots()\n",
    "plt.xlabel('iterations')\n",
    "plt.ylabel('ms')\n",
    "plt.xticks(x)\n",
    "plt.show()\n",
    "\n",
    "# preparing a container to put in created checkbox per domain\n",
    "checkboxes = []\n",
    "cb_container = widgets.HBox()\n",
    "display(cb_container)\n",
    "\n",
    "# add button that updates the graph based on the checkboxes\n",
    "button = widgets.Button(description=\"Update the graph\")\n",
    "\n",
    "# function to deal with the added domain name\n",
    "def handle_submit(sender):\n",
    "    # a part of the magic inside python : pinging\n",
    "    res = !ping -c {NUMBER_OF_PINGS} {text.value}\n",
    "    hits = res.grep('64 bytes').fields(-2).s.replace(\"time=\",\"\").split()\n",
    "    if len(hits) == 0:\n",
    "        print (\"Domain gave error on pinging\")\n",
    "    else:\n",
    "         # rebuild plot based on ping result\n",
    "        data[text.value] = hits\n",
    "        data[text.value] = data[text.value].astype(float)\n",
    "        plots[text.value], = ax.plot(x, data[text.value], label=text.value)\n",
    "        plt.legend()\n",
    "        plt.draw()\n",
    "        # add a new checkbox for the new domain\n",
    "        checkboxes.append(widgets.Checkbox(description = text.value, value=True, width=90))\n",
    "        cb_container.children=[i for i in checkboxes]\n",
    "        if len(checkboxes) == 1:\n",
    "            display(button)\n",
    "\n",
    "# function to deal with the checkbox update button       \n",
    "def on_button_clicked(b):\n",
    "    for c in cb_container.children:\n",
    "        if not c.value:\n",
    "            plots[c.description].set_visible(False)\n",
    "        else:\n",
    "            plots[c.description].set_visible(True)\n",
    "    plt.legend()\n",
    "    plt.draw()\n",
    "\n",
    "button.on_click(on_button_clicked)\n",
    "text.on_submit(handle_submit)\n",
    "plt.show()"
   ]
  },
  {
   "cell_type": "code",
   "execution_count": null,
   "metadata": {
    "collapsed": true
   },
   "outputs": [],
   "source": []
  },
  {
   "cell_type": "code",
   "execution_count": null,
   "metadata": {
    "collapsed": true
   },
   "outputs": [],
   "source": []
  },
  {
   "cell_type": "code",
   "execution_count": null,
   "metadata": {
    "collapsed": true
   },
   "outputs": [],
   "source": []
  },
  {
   "cell_type": "code",
   "execution_count": null,
   "metadata": {
    "collapsed": true
   },
   "outputs": [],
   "source": []
  },
  {
   "cell_type": "code",
   "execution_count": null,
   "metadata": {
    "collapsed": true
   },
   "outputs": [],
   "source": []
  },
  {
   "cell_type": "code",
   "execution_count": null,
   "metadata": {
    "collapsed": true
   },
   "outputs": [],
   "source": []
  },
  {
   "cell_type": "code",
   "execution_count": null,
   "metadata": {
    "collapsed": true
   },
   "outputs": [],
   "source": []
  },
  {
   "cell_type": "code",
   "execution_count": null,
   "metadata": {
    "collapsed": true
   },
   "outputs": [],
   "source": []
  }
 ],
 "metadata": {
  "kernelspec": {
   "display_name": "Python 3",
   "language": "python",
   "name": "python3"
  },
  "language_info": {
   "codemirror_mode": {
    "name": "ipython",
    "version": 3
   },
   "file_extension": ".py",
   "mimetype": "text/x-python",
   "name": "python",
   "nbconvert_exporter": "python",
   "pygments_lexer": "ipython3",
   "version": "3.5.0"
  }
 },
 "nbformat": 4,
 "nbformat_minor": 0
}
