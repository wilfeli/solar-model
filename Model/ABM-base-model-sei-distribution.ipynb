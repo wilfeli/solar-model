{
 "cells": [
  {
   "cell_type": "markdown",
   "metadata": {},
   "source": [
    "## TODO\n",
    "\n",
    "Look at dataset, list by size and pick top 100 "
   ]
  },
  {
   "cell_type": "code",
   "execution_count": 1,
   "metadata": {
    "collapsed": true
   },
   "outputs": [],
   "source": [
    "import json\n",
    "from pprint import pprint\n",
    "import pandas as pd\n",
    "import numpy as np\n",
    "%matplotlib inline\n",
    "import matplotlib.pyplot as plt\n",
    "from matplotlib import cm\n",
    "import matplotlib.patches as mpatches\n",
    "import matplotlib\n",
    "matplotlib.style.use('ggplot')\n",
    "#ols models\n",
    "import statsmodels.formula.api as sm\n",
    "from patsy import dmatrices\n",
    "import re\n",
    "import scipy as sp\n",
    "from tools import print_columns\n",
    "import csv"
   ]
  },
  {
   "cell_type": "markdown",
   "metadata": {},
   "source": [
    "Possible screening rules \n",
    "- proximity to homeowner, need population per zip code in San Jose. Simple assume that just density per tile. One tile = one zip code. \n",
    "- offered savings, need to convert price per watt into savings \n",
    "- customer rating \n",
    "- "
   ]
  },
  {
   "cell_type": "markdown",
   "metadata": {},
   "source": [
    "For each in top 100 create customer rating  - scrape yelp  "
   ]
  },
  {
   "cell_type": "markdown",
   "metadata": {},
   "source": [
    "pick 1 installer from narrowed down via screening rules, this installer is offering 1 project - compare to none option and pick it. Depends on the "
   ]
  },
  {
   "cell_type": "markdown",
   "metadata": {},
   "source": [
    "interaction - depends on the number of installed projects - goes by size\n",
    "distribution of locations - from NEM\n"
   ]
  },
  {
   "cell_type": "markdown",
   "metadata": {},
   "source": [
    "warranty - could not get distribution, assume basically it from bla"
   ]
  },
  {
   "cell_type": "markdown",
   "metadata": {},
   "source": [
    "total project time - ? need to think\n",
    "will have from dataset some version of a time \n"
   ]
  },
  {
   "cell_type": "markdown",
   "metadata": {},
   "source": [
    "equipment technology - will have from dataset, but need to actually transform data - will need a lot of help. \n",
    "Alternative is assign by size with some distribution."
   ]
  },
  {
   "cell_type": "markdown",
   "metadata": {},
   "source": [
    "from panels on the market that are used by installers - get type of installer - panel efficiency, panel visibility"
   ]
  },
  {
   "cell_type": "markdown",
   "metadata": {},
   "source": [
    "1 installer is offering 2? types of systems - look into actual data to see what types they are offering "
   ]
  },
  {
   "cell_type": "markdown",
   "metadata": {},
   "source": [
    "failures in first years - tie into inverter type. \n",
    "Assume basic failure rate. Check with actual data that might get from the survey. \n",
    "Question about amount of maintenance that need"
   ]
  },
  {
   "cell_type": "markdown",
   "metadata": {},
   "source": [
    "Top 100 for each have Rating, InteractionType, EquipmentType, TotalProjectTime, Warranty\n",
    "\n",
    "Generate 100 agents in Python with customization and import list of parameters into c++"
   ]
  },
  {
   "cell_type": "markdown",
   "metadata": {},
   "source": []
  },
  {
   "cell_type": "code",
   "execution_count": 2,
   "metadata": {
    "collapsed": true
   },
   "outputs": [],
   "source": [
    "sei = {'EParamTypes::SEIRating':3.0, \n",
    "       'EParamTypes::SEIInteractionType':0.0,\n",
    "       'EParamTypes::SEIEquipmentType':1.0, \n",
    "       'EParamTypes::SEILeadInProjectTime':10.0, \n",
    "       'EParamTypes::SEIWarranty':5*52}"
   ]
  },
  {
   "cell_type": "code",
   "execution_count": 3,
   "metadata": {
    "collapsed": true
   },
   "outputs": [],
   "source": [
    "seis = []\n",
    "#create test sei \n",
    "for i in range(3):\n",
    "    sei['EParamTypes::SEIRating'] = 3.0 + i\n",
    "    seis.append(sei.copy())\n",
    "    "
   ]
  },
  {
   "cell_type": "code",
   "execution_count": 4,
   "metadata": {
    "collapsed": true
   },
   "outputs": [],
   "source": [
    "with open('sei-params.json', 'w') as outfile:\n",
    "    json.dump(seis, outfile)"
   ]
  },
  {
   "cell_type": "code",
   "execution_count": null,
   "metadata": {
    "collapsed": true
   },
   "outputs": [],
   "source": [
    "#calculator for CO2\n",
    "#https://www.epa.gov/energy/greenhouse-gas-equivalencies-calculator\n",
    "    \n",
    "    \n",
    "1000 - 0.665"
   ]
  }
 ],
 "metadata": {
  "kernelspec": {
   "display_name": "Python 3",
   "language": "python",
   "name": "python3"
  },
  "language_info": {
   "codemirror_mode": {
    "name": "ipython",
    "version": 3
   },
   "file_extension": ".py",
   "mimetype": "text/x-python",
   "name": "python",
   "nbconvert_exporter": "python",
   "pygments_lexer": "ipython3",
   "version": "3.5.0"
  }
 },
 "nbformat": 4,
 "nbformat_minor": 0
}
