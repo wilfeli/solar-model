{
 "cells": [
  {
   "cell_type": "code",
   "execution_count": 4,
   "metadata": {
    "collapsed": true
   },
   "outputs": [],
   "source": [
    "import json\n",
    "from pprint import pprint\n",
    "import pandas as pd\n",
    "import numpy as np\n",
    "%matplotlib inline\n",
    "import matplotlib.pyplot as plt\n",
    "from matplotlib import cm\n",
    "import matplotlib.patches as mpatches\n",
    "import matplotlib\n",
    "matplotlib.style.use('ggplot')\n",
    "#ols models\n",
    "import statsmodels.formula.api as sm\n",
    "from patsy import dmatrices\n",
    "import re\n",
    "import scipy as sp\n",
    "from tools import print_columns\n",
    "import csv\n",
    "import json"
   ]
  },
  {
   "cell_type": "code",
   "execution_count": 5,
   "metadata": {
    "collapsed": true
   },
   "outputs": [],
   "source": [
    "#Initialization of distributions\n"
   ]
  },
  {
   "cell_type": "code",
   "execution_count": 6,
   "metadata": {
    "collapsed": false
   },
   "outputs": [],
   "source": [
    "#read data\n",
    "df_full = pd.read_csv(\"../../Data/recs2009_public.csv\", low_memory=False)"
   ]
  },
  {
   "cell_type": "code",
   "execution_count": 7,
   "metadata": {
    "collapsed": false
   },
   "outputs": [
    {
     "data": {
      "text/plain": [
       "(12083, 931)"
      ]
     },
     "execution_count": 7,
     "metadata": {},
     "output_type": "execute_result"
    }
   ],
   "source": [
    "df_full.shape"
   ]
  },
  {
   "cell_type": "code",
   "execution_count": 8,
   "metadata": {
    "collapsed": false
   },
   "outputs": [
    {
     "data": {
      "text/plain": [
       "1    8140\n",
       "2    3801\n",
       "3     142\n",
       "Name: KOWNRENT, dtype: int64"
      ]
     },
     "execution_count": 8,
     "metadata": {},
     "output_type": "execute_result"
    }
   ],
   "source": [
    "df_full['KOWNRENT'].value_counts()"
   ]
  },
  {
   "cell_type": "code",
   "execution_count": 9,
   "metadata": {
    "collapsed": false
   },
   "outputs": [],
   "source": [
    "index = df_full[(df_full['KOWNRENT'] ==1)].index"
   ]
  },
  {
   "cell_type": "code",
   "execution_count": 10,
   "metadata": {
    "collapsed": false
   },
   "outputs": [
    {
     "data": {
      "text/plain": [
       "Int64Index([    0,     3,     4,     5,     6,     7,     8,     9,    11,\n",
       "               15,\n",
       "            ...\n",
       "            12071, 12072, 12073, 12074, 12075, 12077, 12078, 12080, 12081,\n",
       "            12082],\n",
       "           dtype='int64', length=8140)"
      ]
     },
     "execution_count": 10,
     "metadata": {},
     "output_type": "execute_result"
    }
   ],
   "source": [
    "index"
   ]
  },
  {
   "cell_type": "code",
   "execution_count": 11,
   "metadata": {
    "collapsed": true
   },
   "outputs": [],
   "source": [
    "df = df_full.iloc[index][['MONEYPY', 'TOTSQFT', 'KWH', 'DOLLAREL', 'ONSITE', \\\n",
    "                          'ONSITEGRID', 'USESOLAR', 'TREESHAD', \\\n",
    "                         'YEARMADERANGE', 'ROOFTYPE']]"
   ]
  },
  {
   "cell_type": "code",
   "execution_count": 12,
   "metadata": {
    "collapsed": false
   },
   "outputs": [
    {
     "data": {
      "text/plain": [
       "array([[<matplotlib.axes._subplots.AxesSubplot object at 0x10a4d9a90>]], dtype=object)"
      ]
     },
     "execution_count": 12,
     "metadata": {},
     "output_type": "execute_result"
    },
    {
     "data": {
      "image/png": "[encoded data removed]",
      "text/plain": [
       "<matplotlib.figure.Figure at 0x10a4d9278>"
      ]
     },
     "metadata": {},
     "output_type": "display_data"
    }
   ],
   "source": [
    "pd.DataFrame.hist(df_full.iloc[index], column='TOTSQFT', bins = 100)"
   ]
  },
  {
   "cell_type": "code",
   "execution_count": 13,
   "metadata": {
    "collapsed": false
   },
   "outputs": [
    {
     "data": {
      "text/plain": [
       "array([[<matplotlib.axes._subplots.AxesSubplot object at 0x10a845160>]], dtype=object)"
      ]
     },
     "execution_count": 13,
     "metadata": {},
     "output_type": "execute_result"
    },
    {
     "data": {
      "image/png": "[encoded data removed]",
      "text/plain": [
       "<matplotlib.figure.Figure at 0x10afed0f0>"
      ]
     },
     "metadata": {},
     "output_type": "display_data"
    }
   ],
   "source": [
    "pd.DataFrame.hist(df_full.iloc[index], column='TOTSQFT_EN', bins = 100)"
   ]
  },
  {
   "cell_type": "code",
   "execution_count": 14,
   "metadata": {
    "collapsed": false
   },
   "outputs": [],
   "source": [
    "bins_TOTSQFT = pd.cut(df_full.iloc[index]['TOTSQFT'], bins = 24, labels = False, retbins=True)"
   ]
  },
  {
   "cell_type": "code",
   "execution_count": 15,
   "metadata": {
    "collapsed": false
   },
   "outputs": [
    {
     "data": {
      "text/plain": [
       "2     1882\n",
       "3     1758\n",
       "1     1367\n",
       "4     1110\n",
       "5      717\n",
       "6      448\n",
       "7      269\n",
       "0      209\n",
       "8      140\n",
       "9       96\n",
       "10      47\n",
       "11      38\n",
       "12      17\n",
       "13      11\n",
       "14      10\n",
       "15       9\n",
       "16       4\n",
       "20       3\n",
       "17       2\n",
       "18       2\n",
       "23       1\n",
       "Name: TOTSQFT, dtype: int64"
      ]
     },
     "execution_count": 15,
     "metadata": {},
     "output_type": "execute_result"
    }
   ],
   "source": [
    "bins_TOTSQFT[0].value_counts()"
   ]
  },
  {
   "cell_type": "code",
   "execution_count": 16,
   "metadata": {
    "collapsed": false
   },
   "outputs": [
    {
     "data": {
      "text/plain": [
       "array([   103.998,    786.75 ,   1453.5  ,   2120.25 ,   2787.   ,\n",
       "         3453.75 ,   4120.5  ,   4787.25 ,   5454.   ,   6120.75 ,\n",
       "         6787.5  ,   7454.25 ,   8121.   ,   8787.75 ,   9454.5  ,\n",
       "        10121.25 ,  10788.   ,  11454.75 ,  12121.5  ,  12788.25 ,\n",
       "        13455.   ,  14121.75 ,  14788.5  ,  15455.25 ,  16122.   ])"
      ]
     },
     "execution_count": 16,
     "metadata": {},
     "output_type": "execute_result"
    }
   ],
   "source": [
    "bins_TOTSQFT[1]"
   ]
  },
  {
   "cell_type": "code",
   "execution_count": 17,
   "metadata": {
    "collapsed": false
   },
   "outputs": [],
   "source": [
    "df['TOTSQFT_C'] = pd.cut(df_full.iloc[index]['TOTSQFT'], bins = 24, labels = False, retbins=True)[0]"
   ]
  },
  {
   "cell_type": "code",
   "execution_count": 18,
   "metadata": {
    "collapsed": false
   },
   "outputs": [
    {
     "data": {
      "text/plain": [
       "2     1882\n",
       "3     1758\n",
       "1     1367\n",
       "4     1110\n",
       "5      717\n",
       "6      448\n",
       "7      269\n",
       "0      209\n",
       "8      140\n",
       "9       96\n",
       "10      47\n",
       "11      38\n",
       "12      17\n",
       "13      11\n",
       "14      10\n",
       "15       9\n",
       "16       4\n",
       "20       3\n",
       "17       2\n",
       "18       2\n",
       "23       1\n",
       "Name: TOTSQFT_C, dtype: int64"
      ]
     },
     "execution_count": 18,
     "metadata": {},
     "output_type": "execute_result"
    }
   ],
   "source": [
    "df['TOTSQFT_C'].value_counts() "
   ]
  },
  {
   "cell_type": "code",
   "execution_count": 19,
   "metadata": {
    "collapsed": false
   },
   "outputs": [
    {
     "data": {
      "text/plain": [
       "array([[<matplotlib.axes._subplots.AxesSubplot object at 0x10f3259b0>]], dtype=object)"
      ]
     },
     "execution_count": 19,
     "metadata": {},
     "output_type": "execute_result"
    },
    {
     "data": {
      "image/png": "[encoded data removed]",
      "text/plain": [
       "<matplotlib.figure.Figure at 0x10a40c198>"
      ]
     },
     "metadata": {},
     "output_type": "display_data"
    }
   ],
   "source": [
    "pd.DataFrame.hist(df_full.iloc[index], column='KWH', bins = 24)"
   ]
  },
  {
   "cell_type": "code",
   "execution_count": 20,
   "metadata": {
    "collapsed": true
   },
   "outputs": [],
   "source": [
    "count_KWH ,division_KWH = np.histogram(df_full.iloc[index]['KWH'],bins = 24)"
   ]
  },
  {
   "cell_type": "code",
   "execution_count": 21,
   "metadata": {
    "collapsed": false
   },
   "outputs": [],
   "source": [
    "bins_index_KWH = [x for x in range(13)]\n",
    "bins_index_KWH.append(24)"
   ]
  },
  {
   "cell_type": "code",
   "execution_count": 22,
   "metadata": {
    "collapsed": false
   },
   "outputs": [
    {
     "data": {
      "text/plain": [
       "[0, 1, 2, 3, 4, 5, 6, 7, 8, 9, 10, 11, 12, 24]"
      ]
     },
     "execution_count": 22,
     "metadata": {},
     "output_type": "execute_result"
    }
   ],
   "source": [
    "bins_index_KWH"
   ]
  },
  {
   "cell_type": "code",
   "execution_count": 23,
   "metadata": {
    "collapsed": false
   },
   "outputs": [
    {
     "data": {
      "text/plain": [
       "array([  1.70000000e+01,   6.27687500e+03,   1.25367500e+04,\n",
       "         1.87966250e+04,   2.50565000e+04,   3.13163750e+04,\n",
       "         3.75762500e+04,   4.38361250e+04,   5.00960000e+04,\n",
       "         5.63558750e+04,   6.26157500e+04,   6.88756250e+04,\n",
       "         7.51355000e+04,   1.50254000e+05])"
      ]
     },
     "execution_count": 23,
     "metadata": {},
     "output_type": "execute_result"
    }
   ],
   "source": [
    "division_KWH[bins_index_KWH]"
   ]
  },
  {
   "cell_type": "code",
   "execution_count": 24,
   "metadata": {
    "collapsed": true
   },
   "outputs": [],
   "source": [
    "df['KWH_C'] = pd.cut(df_full.iloc[index]['KWH'], bins = division_KWH[bins_index_KWH], labels = False, retbins=True)[0]"
   ]
  },
  {
   "cell_type": "code",
   "execution_count": 25,
   "metadata": {
    "collapsed": false
   },
   "outputs": [
    {
     "data": {
      "text/plain": [
       "1     3171\n",
       "2     1860\n",
       "0     1605\n",
       "3      930\n",
       "4      342\n",
       "5      135\n",
       "6       53\n",
       "8       16\n",
       "7       16\n",
       "11       3\n",
       "10       3\n",
       "9        3\n",
       "12       2\n",
       "Name: KWH_C, dtype: int64"
      ]
     },
     "execution_count": 25,
     "metadata": {},
     "output_type": "execute_result"
    }
   ],
   "source": [
    "df['KWH_C'].value_counts()"
   ]
  },
  {
   "cell_type": "code",
   "execution_count": 26,
   "metadata": {
    "collapsed": false
   },
   "outputs": [
    {
     "data": {
      "text/plain": [
       "[<matplotlib.lines.Line2D at 0x10fb32630>]"
      ]
     },
     "execution_count": 26,
     "metadata": {},
     "output_type": "execute_result"
    },
    {
     "data": {
      "image/png": "[encoded data removed]",
      "text/plain": [
       "<matplotlib.figure.Figure at 0x10f71d5c0>"
      ]
     },
     "metadata": {},
     "output_type": "display_data"
    }
   ],
   "source": [
    "plt.plot(df['DOLLAREL']/df['KWH'])"
   ]
  },
  {
   "cell_type": "code",
   "execution_count": 27,
   "metadata": {
    "collapsed": false
   },
   "outputs": [
    {
     "data": {
      "text/plain": [
       "0.039906296777122909"
      ]
     },
     "execution_count": 27,
     "metadata": {},
     "output_type": "execute_result"
    }
   ],
   "source": [
    "np.mean(df['DOLLAREL']/df['KWH'])\n",
    "np.std(df['DOLLAREL']/df['KWH'])"
   ]
  },
  {
   "cell_type": "code",
   "execution_count": 30,
   "metadata": {
    "collapsed": false
   },
   "outputs": [],
   "source": [
    "#create json with parameters of a distribution \n",
    "#create list with bins ends and add inf right end\n",
    "bins_TOTSQFT_params = bins_TOTSQFT[1][:-2].tolist()\n",
    "bins_TOTSQFT_params.append(np.inf)\n",
    "\n",
    "bins_KWH_params = division_KWH[bins_index_KWH][:-2].tolist()\n",
    "bins_KWH_params.append(np.inf)\n",
    "\n",
    "params = []\n",
    "\n",
    "#house size\n",
    "params.append({'name':'house_size','type':'continuous','N_BINS':bins_TOTSQFT[1].shape[0] - 1,\\\n",
    "                      'BIN_ENDS':bins_TOTSQFT_params, 'representation':'binned'})\n",
    "params[-1]['values'] = list(range(1,params[-1]['N_BINS'] + 1))\n",
    "\n",
    "\n",
    "#house age\n",
    "params.append({'name':'house_age', 'type':'continuous', \\\n",
    "               'BIN_ENDS':[0, 5, 10, 20, 30, 40, 50, 60, np.inf],\\\n",
    "                      'representation':'binned',\\\n",
    "                      'values':[8, 7, 6, 5, 4, 3, 2, 1]})\n",
    "params[-1]['N_BINS'] = len(params[-1]['values'])\n",
    "\n",
    "\n",
    "#rooftype\n",
    "params.append({'name':'roof_type', 'type':'discrete',\\\n",
    "                     'representation':'discrete'})\n",
    "params[-1]['values'] = list(range(1, 9))\n",
    "params[-1]['values'].append(-2)\n",
    "params[-1]['N_BINS'] = len(params[-1]['values'])\n",
    "\n",
    "\n",
    "#tree shade\n",
    "params.append({'name':'tree_shade', 'type':'discrete', \\\n",
    "              'values':[0, 1], 'representation':'discrete'})\n",
    "params[-1]['N_BINS'] = len(params[-1]['values'])\n",
    "\n",
    "\n",
    "#gross household income\n",
    "params.append({'name':'income', 'type':'continuous', 'representation':'binned', \\\n",
    "               'BIN_ENDS':[0, 2499, 4999, 7499, 9999, 14999, 19999, 24999, 29999, 34999, 39999, \\\n",
    "                          44999, 49999, 54999, 59999, 64999, 69999, 74999, 79999, 84999, 89999, \\\n",
    "                          94999, 99999, 119999, np.inf]})\n",
    "params[-1]['N_BINS'] = len(params[-1]['BIN_ENDS']) - 1\n",
    "params[-1]['values'] = list(range(1,params[-1]['N_BINS'] + 1))\n",
    "\n",
    "\n",
    "#total electricity usage\n",
    "params.append({'name':'electricity', 'type':'continuous', 'representation':'binned', \\\n",
    "              'BIN_ENDS':bins_KWH_params, 'N_BINS':len(bins_KWH_params) - 1})\n",
    "params[-1]['values'] = list(range(1,params[-1]['N_BINS'] + 1))"
   ]
  },
  {
   "cell_type": "code",
   "execution_count": 31,
   "metadata": {
    "collapsed": false
   },
   "outputs": [],
   "source": [
    "with open('distribution.json', 'w') as outfile:\n",
    "    json.dump(params, outfile)"
   ]
  },
  {
   "cell_type": "code",
   "execution_count": 177,
   "metadata": {
    "collapsed": false
   },
   "outputs": [],
   "source": [
    "df_save = df[['TOTSQFT_C', 'YEARMADERANGE', 'ROOFTYPE', 'TREESHAD', 'MONEYPY', 'KWH_C']]"
   ]
  },
  {
   "cell_type": "code",
   "execution_count": 185,
   "metadata": {
    "collapsed": true
   },
   "outputs": [],
   "source": [
    "#sort dataframe\n",
    "df_save = df_save.sort_values(by=['TOTSQFT_C', 'YEARMADERANGE', 'ROOFTYPE', \\\n",
    "                                  'TREESHAD', 'MONEYPY', 'KWH_C'])"
   ]
  },
  {
   "cell_type": "code",
   "execution_count": 186,
   "metadata": {
    "collapsed": true
   },
   "outputs": [],
   "source": [
    "df_save.to_csv('joint_distribution.csv')"
   ]
  },
  {
   "cell_type": "code",
   "execution_count": null,
   "metadata": {
    "collapsed": true
   },
   "outputs": [],
   "source": [
    "#smaller region"
   ]
  },
  {
   "cell_type": "code",
   "execution_count": 159,
   "metadata": {
    "collapsed": false
   },
   "outputs": [],
   "source": [
    "index_region = df_full[(df_full['KOWNRENT'] ==1) & (df_full['DIVISION'] == 10)].index"
   ]
  },
  {
   "cell_type": "code",
   "execution_count": 160,
   "metadata": {
    "collapsed": false
   },
   "outputs": [
    {
     "data": {
      "text/plain": [
       "(1237,)"
      ]
     },
     "execution_count": 160,
     "metadata": {},
     "output_type": "execute_result"
    }
   ],
   "source": [
    "index_region.shape"
   ]
  },
  {
   "cell_type": "code",
   "execution_count": 161,
   "metadata": {
    "collapsed": false
   },
   "outputs": [
    {
     "data": {
      "text/plain": [
       "array([[<matplotlib.axes._subplots.AxesSubplot object at 0x138b855c0>]], dtype=object)"
      ]
     },
     "execution_count": 161,
     "metadata": {},
     "output_type": "execute_result"
    },
    {
     "data": {
      "image/png": "[encoded data removed]",
      "text/plain": [
       "<matplotlib.figure.Figure at 0x137010780>"
      ]
     },
     "metadata": {},
     "output_type": "display_data"
    }
   ],
   "source": [
    "pd.DataFrame.hist(df_full.iloc[index_region], column='TOTSQFT', bins = 100)"
   ]
  },
  {
   "cell_type": "code",
   "execution_count": null,
   "metadata": {
    "collapsed": true
   },
   "outputs": [],
   "source": []
  }
 ],
 "metadata": {
  "kernelspec": {
   "display_name": "Python 3",
   "language": "python",
   "name": "python3"
  },
  "language_info": {
   "codemirror_mode": {
    "name": "ipython",
    "version": 3
   },
   "file_extension": ".py",
   "mimetype": "text/x-python",
   "name": "python",
   "nbconvert_exporter": "python",
   "pygments_lexer": "ipython3",
   "version": "3.5.0"
  }
 },
 "nbformat": 4,
 "nbformat_minor": 0
}
