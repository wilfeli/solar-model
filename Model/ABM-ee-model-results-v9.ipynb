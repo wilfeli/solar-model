{
 "cells": [
  {
   "cell_type": "code",
   "execution_count": 1,
   "metadata": {
    "collapsed": true
   },
   "outputs": [],
   "source": [
    "import ctypes\n",
    "import os\n",
    "import threading\n",
    "import pandas as pd\n",
    "import numpy as np\n",
    "%matplotlib inline\n",
    "import matplotlib.pyplot as plt\n",
    "import matplotlib\n",
    "from matplotlib import cm\n",
    "matplotlib.style.use('ggplot')\n",
    "import math\n",
    "import concurrent.futures\n",
    "import glob\n",
    "import json\n",
    "import scipy as sp\n",
    "import scipy.special\n",
    "from matplotlib.ticker import FormatStrFormatter\n",
    "import subprocess"
   ]
  },
  {
   "cell_type": "code",
   "execution_count": null,
   "metadata": {
    "collapsed": true
   },
   "outputs": [],
   "source": [
    "-"
   ]
  },
  {
   "cell_type": "code",
   "execution_count": null,
   "metadata": {
    "collapsed": true
   },
   "outputs": [],
   "source": [
    "for test_mode in ['RelBaseLearn025', 'RelMeanLearn025', 'RelPastLearn025']:\n",
    "    for data_mode in ['CA', 'MA']:\n",
    "\n",
    "        file = '..\\\\..\\\\ABMIRISLab\\\\Examples\\\\EEModel\\\\' + test_mode + '\\\\' + data_mode + '\\\\w.json'\n",
    "\n",
    "\n",
    "        mode=\"NEW\"\n",
    "        model_file='..\\\\..\\\\ABMIRISLab\\\\Examples\\\\EEModel\\\\' + test_mode + '\\\\' + data_mode + '\\\\eemodel.model'\n",
    "\n",
    "\n",
    "        #update path to save file \n",
    "        save_path = '..\\\\..\\\\ABMIRISLab\\\\Saves\\\\Apr-25-2017\\\\EEModel\\\\' + test_mode + '\\\\' + data_mode + '\\\\eemodel.model'\n",
    "\n",
    "\n",
    "        #open file at path \n",
    "        #rewrite it \n",
    "        #'path_so_save=' + save_path\n",
    "        #'mode=NEW'\n",
    "\n",
    "        with open(model_file, 'w') as model_file_:\n",
    "            model_file_.write('path_to_save={}\\n'.format(save_path))\n",
    "            model_file_.write('mode={}\\n'.format('NEW'))\n",
    "\n",
    "\n",
    "        with open(file) as infile:\n",
    "            w_setup = json.load(infile)\n",
    "\n",
    "        for seed in range(100, 201):\n",
    "            w_setup['SEED'] = seed\n",
    "            w_setup['ParametersCode'] = test_mode + '_' + data_mode\n",
    "\n",
    "\n",
    "            with open(file, 'w') as outfile:\n",
    "                json.dump(w_setup, outfile)\n",
    "\n",
    "            #run simulation \n",
    "            path = 'EEModel.exe'\n",
    "            args = [path, mode, model_file]\n",
    "            res = -1\n",
    "\n",
    "            while (res != 0):\n",
    "                try:\n",
    "                    subprocess.call([path, mode, model_file])\n",
    "                    res = 0\n",
    "                except subprocess.CalledProcessError as e:\n",
    "                    res = -1"
   ]
  },
  {
   "cell_type": "code",
   "execution_count": 4,
   "metadata": {
    "collapsed": true
   },
   "outputs": [],
   "source": [
    "for test_mode in ['RelBaseLearn08', 'RelMeanLearn08', 'RelPastLearn08']:\n",
    "    for data_mode in ['CA', 'MA']:\n",
    "\n",
    "        file = '..\\\\..\\\\ABMIRISLab\\\\Examples\\\\EEModel\\\\' + test_mode + '\\\\' + data_mode + '\\\\w.json'\n",
    "\n",
    "\n",
    "        mode=\"NEW\"\n",
    "        model_file='..\\\\..\\\\ABMIRISLab\\\\Examples\\\\EEModel\\\\' + test_mode + '\\\\' + data_mode + '\\\\eemodel.model'\n",
    "\n",
    "\n",
    "        #update path to save file \n",
    "        save_path = '..\\\\..\\\\ABMIRISLab\\\\Saves\\\\Apr-25-2017\\\\EEModel\\\\' + test_mode + '\\\\' + data_mode + '\\\\eemodel.model'\n",
    "\n",
    "\n",
    "        #open file at path \n",
    "        #rewrite it \n",
    "        #'path_so_save=' + save_path\n",
    "        #'mode=NEW'\n",
    "\n",
    "        with open(model_file, 'w') as model_file_:\n",
    "            model_file_.write('path_to_save={}\\n'.format(save_path))\n",
    "            model_file_.write('mode={}\\n'.format('NEW'))\n",
    "\n",
    "\n",
    "        with open(file) as infile:\n",
    "            w_setup = json.load(infile)\n",
    "\n",
    "        for seed in range(110, 200):\n",
    "            w_setup['SEED'] = seed\n",
    "            w_setup['ParametersCode'] = test_mode + '_' + data_mode\n",
    "\n",
    "\n",
    "            with open(file, 'w') as outfile:\n",
    "                json.dump(w_setup, outfile)\n",
    "\n",
    "            #run simulation \n",
    "            path = 'EEModel.exe'\n",
    "            args = [path, mode, model_file]\n",
    "            res = -1\n",
    "\n",
    "            while (res != 0):\n",
    "                try:\n",
    "                    subprocess.call([path, mode, model_file])\n",
    "                    res = 0\n",
    "                except subprocess.CalledProcessError as e:\n",
    "                    res = -1"
   ]
  },
  {
   "cell_type": "code",
   "execution_count": null,
   "metadata": {
    "collapsed": true
   },
   "outputs": [],
   "source": []
  },
  {
   "cell_type": "code",
   "execution_count": null,
   "metadata": {
    "collapsed": true
   },
   "outputs": [],
   "source": []
  },
  {
   "cell_type": "code",
   "execution_count": null,
   "metadata": {
    "collapsed": true
   },
   "outputs": [],
   "source": []
  },
  {
   "cell_type": "code",
   "execution_count": null,
   "metadata": {
    "collapsed": true
   },
   "outputs": [],
   "source": []
  }
 ],
 "metadata": {
  "anaconda-cloud": {},
  "kernelspec": {
   "display_name": "Python [conda env:aimacro]",
   "language": "python",
   "name": "conda-env-aimacro-py"
  },
  "language_info": {
   "codemirror_mode": {
    "name": "ipython",
    "version": 3
   },
   "file_extension": ".py",
   "mimetype": "text/x-python",
   "name": "python",
   "nbconvert_exporter": "python",
   "pygments_lexer": "ipython3",
   "version": "3.5.2"
  }
 },
 "nbformat": 4,
 "nbformat_minor": 1
}
