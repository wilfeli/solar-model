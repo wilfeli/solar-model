{
 "cells": [
  {
   "cell_type": "code",
   "execution_count": 1,
   "metadata": {
    "collapsed": true
   },
   "outputs": [],
   "source": [
    "import re\n",
    "import pandas as pd\n",
    "import numpy as np\n",
    "import json\n",
    "import subprocess\n",
    "import glob\n",
    "import os\n",
    "\n",
    "%matplotlib inline\n",
    "import matplotlib.pyplot as plt\n",
    "import matplotlib\n",
    "from matplotlib import cm\n",
    "matplotlib.style.use('ggplot')\n",
    "import matplotlib.patches as mpatches\n",
    "from matplotlib.legend_handler import HandlerPatch"
   ]
  },
  {
   "cell_type": "code",
   "execution_count": null,
   "metadata": {
    "collapsed": true
   },
   "outputs": [],
   "source": []
  },
  {
   "cell_type": "code",
   "execution_count": null,
   "metadata": {
    "collapsed": true
   },
   "outputs": [],
   "source": []
  },
  {
   "cell_type": "code",
   "execution_count": 8,
   "metadata": {
    "collapsed": true
   },
   "outputs": [],
   "source": [
    "N_SEEDS = 3\n",
    "N_SEI = 10\n",
    "N_TESTS = 1\n",
    "N_TICKS = 260\n",
    "N_TICKS_DISPLAY = 260"
   ]
  },
  {
   "cell_type": "code",
   "execution_count": 17,
   "metadata": {
    "collapsed": true
   },
   "outputs": [],
   "source": [
    "def read_error_data_from_log(file, data_):\n",
    "    regex_error_savings = re.compile('(INFO:\\sNEGATIVE\\sSAVINGS\\s*)')\n",
    "    regex_error_small_system = re.compile('(INFO:\\sSMALL\\sSYSTEM\\s*)')\n",
    "    N_SMALL_SAVINGS = 0\n",
    "    N_SMALL_SYSTEMS = 0\n",
    "    \n",
    "    with open(file) as infile:\n",
    "        for line in infile:\n",
    "            if regex_error_savings.search(line):\n",
    "                res = re.split(regex_error_savings, line)\n",
    "                N_SMALL_SAVINGS = N_SMALL_SAVINGS + 1\n",
    "            elif regex_error_small_system.search(line):\n",
    "                res = re.split(regex_error_small_system, line)\n",
    "                N_SMALL_SYSTEMS = N_SMALL_SYSTEMS + 1\n",
    "            else:\n",
    "                pass\n",
    "            \n",
    "    \n",
    "    return (N_SMALL_SAVINGS, N_SMALL_SYSTEMS)"
   ]
  },
  {
   "cell_type": "code",
   "execution_count": 18,
   "metadata": {
    "collapsed": true
   },
   "outputs": [],
   "source": [
    "#Reads data from the given file into the given list\n",
    "def read_data_from_log(file, data_):\n",
    "    regex_begin_tick = re.compile('(N\\s*active\\s*agents\\s*at\\s*tick\\s*)')\n",
    "    regex_end_tick = re.compile('(Number\\s*of\\s*installed\\s*projects\\s*:\\s*)')\n",
    "    regex_data =  re.compile('(INFO:\\s)')\n",
    "    regex_data_check = re.compile('EParamTypes')\n",
    "    regex_enum = re.compile('(::[\\w]*\\s*:\\s*)')\n",
    "    regex_enum_name = re.compile('([^:\\s]+)')\n",
    "    regex_1 = re.compile('(\\s*:\\s*)')\n",
    "    \n",
    "    \n",
    "    with open(file) as infile:\n",
    "        for line in infile:\n",
    "            if regex_begin_tick.search(line):\n",
    "                #parse tick number \n",
    "                #start new dictionary in the list\n",
    "                data_.append({})\n",
    "\n",
    "                #get tick \n",
    "                res = re.split(regex_1, re.split(regex_begin_tick, line)[-1])\n",
    "                data_[-1]['N_AGENTS'] = float(res[-1])\n",
    "                data_[-1]['tick'] = float(res[0])\n",
    "            elif regex_end_tick.search(line):\n",
    "                res = re.split(regex_end_tick, line)\n",
    "                data_[-1]['N_PROJECTS'] = float(res[-1])\n",
    "            else:\n",
    "                if (regex_data.search(line)) and (regex_data_check.search(line)):\n",
    "                    res = re.split(regex_data, line)\n",
    "                    #get last part and enum name \n",
    "                    #last part is number\n",
    "                    res2 = re.split(regex_enum, res[-1])\n",
    "                    #get enum name \n",
    "                    data_[-1]['EParamTypes::' + re.split(regex_enum_name, res2[-2])[-2]] = float(res2[-1])\n",
    "#    print(data_)"
   ]
  },
  {
   "cell_type": "code",
   "execution_count": 19,
   "metadata": {
    "collapsed": true
   },
   "outputs": [],
   "source": [
    "def get_subset_data(data_):\n",
    "    #data_column_names\n",
    "    data_columns = {'EParamTypes::HOStateDroppedOutNCDecStage':[],\\\n",
    "                   'EParamTypes::HOStateDroppedOutSEIStage':[],\\\n",
    "                   'EParamTypes::HOStateDroppedOutDesignStage':[],\\\n",
    "                   'EParamTypes::HONumberActiveAgents':[]}\n",
    "    tick = []\n",
    "    i = 0\n",
    "    #collect data for each tick \n",
    "    for row in data_:\n",
    "        for key, value in data_columns.items():\n",
    "            value.append(0.0)\n",
    "            if key in row:\n",
    "                value[-1] = row[key]\n",
    "        tick.append(i)\n",
    "        i = i + 1\n",
    "    \n",
    "    return data_columns\n",
    "\n",
    "#print(data_columns)"
   ]
  },
  {
   "cell_type": "code",
   "execution_count": null,
   "metadata": {
    "collapsed": true
   },
   "outputs": [],
   "source": []
  },
  {
   "cell_type": "code",
   "execution_count": 20,
   "metadata": {
    "collapsed": false
   },
   "outputs": [],
   "source": [
    "def collect_data_for_simulation_runs_from_logs(N_TESTS, dfs_logs):\n",
    "\n",
    "\n",
    "    test_mode = 'BaseModel'\n",
    "    test_version = 'BaseVer01'\n",
    "    test_loc = 'CA'\n",
    "    data_mode = 'Logs'\n",
    "    version = '_eff'\n",
    "\n",
    "    for i_run in range(N_TESTS):  \n",
    "\n",
    "        #get latest file \n",
    "        files = glob.glob('..\\\\..\\\\ABMIRISLab\\\\Examples\\\\' + test_mode + '\\\\' + test_version + '\\\\'  + test_loc + '\\\\'+ data_mode +\\\n",
    "                         '\\\\*[_log].log')\n",
    "        files.sort(key=os.path.getmtime, reverse=True)\n",
    "        files_ = files[i_run * N_SEEDS : (i_run + 1) * N_SEEDS]    \n",
    "\n",
    "        dfs_ = []\n",
    "\n",
    "        for file in files_:\n",
    "\n",
    "            #if find N active agents at tick\n",
    "            # start data for the tick \n",
    "            #parse data - name of the enum, value\n",
    "            data_ = []\n",
    "            read_data_from_log(file, data_)\n",
    "            data_subset_ = get_subset_data(data_)\n",
    "            df_ = pd.DataFrame(\n",
    "                data_subset_\n",
    "                )\n",
    "            df_.index.name = 'tick'\n",
    "\n",
    "            dfs_.append(df_)\n",
    "\n",
    "\n",
    "\n",
    "\n",
    "\n",
    "        #get averages \n",
    "        #create df from them    \n",
    "        df_concat = pd.concat(dfs_)\n",
    "        df_logs = df_concat.groupby(level=0).mean()\n",
    "\n",
    "\n",
    "        dfs_logs.append(df_logs)"
   ]
  },
  {
   "cell_type": "code",
   "execution_count": 21,
   "metadata": {
    "collapsed": false
   },
   "outputs": [],
   "source": [
    "dfs_logs = []\n",
    "collect_data_for_simulation_runs_from_logs(N_TESTS, dfs_logs)"
   ]
  },
  {
   "cell_type": "code",
   "execution_count": 22,
   "metadata": {
    "collapsed": false
   },
   "outputs": [
    {
     "data": {
      "text/html": [
       "<div>\n",
       "<table border=\"1\" class=\"dataframe\">\n",
       "  <thead>\n",
       "    <tr style=\"text-align: right;\">\n",
       "      <th></th>\n",
       "      <th>EParamTypes::HONumberActiveAgents</th>\n",
       "      <th>EParamTypes::HOStateDroppedOutDesignStage</th>\n",
       "      <th>EParamTypes::HOStateDroppedOutNCDecStage</th>\n",
       "      <th>EParamTypes::HOStateDroppedOutSEIStage</th>\n",
       "    </tr>\n",
       "    <tr>\n",
       "      <th>tick</th>\n",
       "      <th></th>\n",
       "      <th></th>\n",
       "      <th></th>\n",
       "      <th></th>\n",
       "    </tr>\n",
       "  </thead>\n",
       "  <tbody>\n",
       "    <tr>\n",
       "      <th>0</th>\n",
       "      <td>56.0</td>\n",
       "      <td>0.0</td>\n",
       "      <td>0.0</td>\n",
       "      <td>0.0</td>\n",
       "    </tr>\n",
       "    <tr>\n",
       "      <th>1</th>\n",
       "      <td>102.0</td>\n",
       "      <td>0.0</td>\n",
       "      <td>0.0</td>\n",
       "      <td>0.0</td>\n",
       "    </tr>\n",
       "    <tr>\n",
       "      <th>2</th>\n",
       "      <td>150.0</td>\n",
       "      <td>0.0</td>\n",
       "      <td>0.0</td>\n",
       "      <td>0.0</td>\n",
       "    </tr>\n",
       "    <tr>\n",
       "      <th>3</th>\n",
       "      <td>196.0</td>\n",
       "      <td>0.0</td>\n",
       "      <td>0.0</td>\n",
       "      <td>0.0</td>\n",
       "    </tr>\n",
       "    <tr>\n",
       "      <th>4</th>\n",
       "      <td>240.0</td>\n",
       "      <td>0.0</td>\n",
       "      <td>0.0</td>\n",
       "      <td>0.0</td>\n",
       "    </tr>\n",
       "  </tbody>\n",
       "</table>\n",
       "</div>"
      ],
      "text/plain": [
       "      EParamTypes::HONumberActiveAgents  \\\n",
       "tick                                      \n",
       "0                                  56.0   \n",
       "1                                 102.0   \n",
       "2                                 150.0   \n",
       "3                                 196.0   \n",
       "4                                 240.0   \n",
       "\n",
       "      EParamTypes::HOStateDroppedOutDesignStage  \\\n",
       "tick                                              \n",
       "0                                           0.0   \n",
       "1                                           0.0   \n",
       "2                                           0.0   \n",
       "3                                           0.0   \n",
       "4                                           0.0   \n",
       "\n",
       "      EParamTypes::HOStateDroppedOutNCDecStage  \\\n",
       "tick                                             \n",
       "0                                          0.0   \n",
       "1                                          0.0   \n",
       "2                                          0.0   \n",
       "3                                          0.0   \n",
       "4                                          0.0   \n",
       "\n",
       "      EParamTypes::HOStateDroppedOutSEIStage  \n",
       "tick                                          \n",
       "0                                        0.0  \n",
       "1                                        0.0  \n",
       "2                                        0.0  \n",
       "3                                        0.0  \n",
       "4                                        0.0  "
      ]
     },
     "execution_count": 22,
     "metadata": {},
     "output_type": "execute_result"
    }
   ],
   "source": [
    "dfs_logs[0].head()"
   ]
  },
  {
   "cell_type": "code",
   "execution_count": 23,
   "metadata": {
    "collapsed": true
   },
   "outputs": [],
   "source": [
    "def collect_data_for_simulation_runs_from_w(N_TESTS, dfs_w):\n",
    "\n",
    "    test_mode = 'BaseVer01'\n",
    "    data_mode = 'CA'\n",
    "\n",
    "    #names of columns in a file\n",
    "    names = ['N_installed', 'N_installed_sum', 'P_av_total', 'P_av']\n",
    "    for i in range(N_SEI):\n",
    "        names.append('sei_markup_' + str(i))\n",
    "\n",
    "\n",
    "\n",
    "    for i_run in range(N_TESTS): \n",
    "        #read few files\n",
    "        #save into database\n",
    "        dfs_ = []\n",
    "        #read last simulation result\n",
    "        files = glob.glob('..\\\\..\\\\ABMIRISLab\\\\Saves\\\\Oct-18-2017\\\\BaseModel\\\\'+ test_mode + '\\\\' + data_mode + \\\n",
    "                         '\\\\*[_w].csv')\n",
    "        files.sort(key=os.path.getmtime, reverse=True)\n",
    "\n",
    "        #take top x files \n",
    "        for file in files[i_run * N_SEEDS : (i_run + 1) * N_SEEDS]:\n",
    "            df_ = pd.read_csv(file, names=names, low_memory=False, na_values = ['-nan(ind)'])\n",
    "            dfs_.append(df_)\n",
    "\n",
    "\n",
    "        #create df from them    \n",
    "        df_concat = pd.concat(dfs_)\n",
    "        df_w_mean = df_concat.groupby(level=0).mean()\n",
    "        df_w_std = df_concat.groupby(level=0).std()\n",
    "        \n",
    "        dfs_w.append(df_w_mean)"
   ]
  },
  {
   "cell_type": "code",
   "execution_count": 24,
   "metadata": {
    "collapsed": true
   },
   "outputs": [],
   "source": [
    "dfs_w = []\n",
    "collect_data_for_simulation_runs_from_w(N_TESTS, dfs_w)"
   ]
  },
  {
   "cell_type": "code",
   "execution_count": 25,
   "metadata": {
    "collapsed": false
   },
   "outputs": [
    {
     "data": {
      "image/png": "[encoded data removed]",
      "text/plain": [
       "<matplotlib.figure.Figure at 0x2e2bd3af208>"
      ]
     },
     "metadata": {},
     "output_type": "display_data"
    }
   ],
   "source": [
    "data_mode = 'bm_'\n",
    "test_mode = 'inst'\n",
    "column = ['N_installed_sum']\n",
    "colors_ = ['orange', 'olive', 'olive','olive', 'lightcyan'] \n",
    "fig, axes_ = plt.subplots(nrows=1, ncols=1)\n",
    "fig.subplots_adjust(bottom=0.25)\n",
    "\n",
    "#if ncols = 1  - transform into list\n",
    "axes = [axes_]\n",
    "\n",
    "ind = np.arange(N_TICKS)    # the x locations for the groups\n",
    "width = 0.35       # the width of the bars: can also be len(x) sequence\n",
    "\n",
    "ind = dfs_w[0].index.values[0:N_TICKS_DISPLAY] + 1\n",
    "\n",
    "lines = []\n",
    "\n",
    "#markers = [\"o-\", \"^-\", \"^-\", \"^-\", \"*-\"]\n",
    "markers = [\"o-\", \"--\", \"--\", \"--\", \"*-\"]\n",
    "markerfacecolors = colors_\n",
    "colors = ['r', 'r', 'r']\n",
    "labels = ['eff ' + str(x) for x in np.linspace(1.0,1.5,5,endpoint=False)]\n",
    "\n",
    "for i in range(N_TESTS) :\n",
    "    pi, = axes[0].plot(ind, dfs_w[i][column][0:N_TICKS_DISPLAY]/5000, markers[i], label=labels[-i-1])\n",
    "    pi.set_markerfacecolor(markerfacecolors[i])\n",
    "    pi.set_color(markerfacecolors[i])\n",
    "    pi.set_markeredgecolor(markerfacecolors[i])\n",
    "    pi.set_markersize(2)\n",
    "    lines.append(pi)\n",
    "    \n",
    "\n",
    "axes[0].set_xlabel(\"Time\")\n",
    "axes[0].xaxis.set_label_coords(0.05, -0.1)\n",
    "axes[0].set_ylabel(\"Installs as a % of population\")\n",
    "    \n",
    "# Shrink current axis's height by 10% on the bottom\n",
    "box = axes[0].get_position()\n",
    "axes[0].set_position([box.x0, box.y0 + box.height * 0.2,\n",
    "                 box.width, box.height * 0.8])\n",
    "\n",
    "# Put a legend below current axis\n",
    "lgd = axes[0].legend(lines, [l.get_label() for l in lines], loc='lower center', bbox_to_anchor=(0.5, -0.25),\\\n",
    "          fancybox=True, shadow=True, fontsize='10', ncol = 3)\n",
    "\n",
    "axes[0].set_xlim([1,N_TICKS_DISPLAY])\n",
    "start = 1\n",
    "end = N_TICKS_DISPLAY\n",
    "axes[0].xaxis.set_ticks(np.arange(start, end, 25))\n",
    "\n",
    "\n",
    "plt.tight_layout()\n",
    "plt.savefig('Simulation_results_' + data_mode + test_mode + '_Oct18' + '.png', dpi=300, bbox_extra_artists=(lgd,), bbox_inches='tight')\n",
    "plt.show()"
   ]
  },
  {
   "cell_type": "code",
   "execution_count": 26,
   "metadata": {
    "collapsed": false
   },
   "outputs": [
    {
     "data": {
      "image/png": "[encoded data removed]",
      "text/plain": [
       "<matplotlib.figure.Figure at 0x2e2bd3c7550>"
      ]
     },
     "metadata": {},
     "output_type": "display_data"
    }
   ],
   "source": [
    "#number of dropouts as stacked bars\n",
    "data_mode = 'bm_'\n",
    "test_mode = 'drops'\n",
    "fig, axes_ = plt.subplots(nrows=1, ncols=1)\n",
    "fig.subplots_adjust(bottom=0.25)\n",
    "\n",
    "#reverse order of simulations\n",
    "df_logs = dfs_logs[-1]\n",
    "\n",
    "#if ncols = 1  - transform into list\n",
    "axes = [axes_]\n",
    "\n",
    "#axes_0_tw = axes[0].twinx()\n",
    "\n",
    "ind = np.arange(N_TICKS)    # the x locations for the groups\n",
    "width = 0.35       # the width of the bars: can also be len(x) sequence\n",
    "\n",
    "ind = df_logs.index.values[0:N_TICKS_DISPLAY] + 1\n",
    "\n",
    "lines = []\n",
    "i = 0\n",
    "\n",
    "markers = [\"ro\", \"r^\", \"r*\"]\n",
    "markerfacecolors = colors_\n",
    "colors = ['r', 'r', 'r']\n",
    "labels_raw = [\"nc\", \"inst\", \"sys\"]\n",
    "labels = ['baseline ' + x for x in labels_raw]\n",
    "data_ = []\n",
    "markers_ = []\n",
    "labels_ = []\n",
    "colors_graph_ = []\n",
    "data_columns = ['EParamTypes::HOStateDroppedOutNCDecStage',\\\n",
    "                   'EParamTypes::HOStateDroppedOutSEIStage',\\\n",
    "                   'EParamTypes::HOStateDroppedOutDesignStage',\\\n",
    "                   'EParamTypes::HONumberActiveAgents']\n",
    "\n",
    "for column in data_columns[0:3]:\n",
    "    data_.append(df_logs[column][0:N_TICKS_DISPLAY]/5000)\n",
    "    markers_.append(markers[i])\n",
    "    labels_.append(labels[i])\n",
    "    colors_graph_.append(colors_[i])\n",
    "\n",
    "    i = i + 1\n",
    "    \n",
    "pi = axes[0].stackplot(ind, data_, colors=tuple(['whitesmoke', 'yellowgreen', 'coral']), labels=tuple(labels_))\n",
    "    \n",
    "\n",
    "\n",
    "for pi_ in pi:\n",
    "    lines.append(pi_)\n",
    "\n",
    "    \n",
    "markers = [\"go\", \"g^\", \"g*\"]\n",
    "colors = ['g', 'g', 'g']\n",
    "labels = ['high ef ' + x for x in labels_raw]\n",
    "\n",
    "   \n",
    "\n",
    "axes[0].set_xlabel(\"Time\")\n",
    "axes[0].set_ylabel(\"Dropouts as a share of population\")\n",
    "\n",
    "\n",
    "#axes[0].set_autoscaley_on(False)\n",
    "axes[0].set_xlim([1,N_TICKS_DISPLAY])\n",
    "#axes_0_tw.set_ylim([0.0, 5.0])\n",
    "start = 1\n",
    "end = N_TICKS_DISPLAY\n",
    "axes[0].xaxis.set_ticks(np.arange(start, end, 25))\n",
    "\n",
    "\n",
    "\n",
    "\n",
    "# Shrink current axis's height by 10% on the bottom\n",
    "box = axes[0].get_position()\n",
    "axes[0].set_position([box.x0, box.y0 + box.height * 0.2,\n",
    "                 box.width, box.height * 0.8])\n",
    "\n",
    "# Put a legend below current axis\n",
    "lgd = axes[0].legend(lines, [l.get_label() for l in lines], loc='upper center', bbox_to_anchor=(0.5, -0.15),\\\n",
    "          fancybox=True, shadow=True, fontsize='10', ncol = 2)\n",
    "\n",
    "\n",
    "\n",
    "\n",
    "plt.tight_layout()\n",
    "plt.savefig('Simulation_results_' + data_mode + test_mode + '_Oct18' + '.png', dpi=300, bbox_extra_artists=(lgd,), bbox_inches='tight')\n",
    "plt.show()"
   ]
  },
  {
   "cell_type": "code",
   "execution_count": 16,
   "metadata": {
    "collapsed": false
   },
   "outputs": [
    {
     "data": {
      "image/png": "[encoded data removed]",
      "text/plain": [
       "<matplotlib.figure.Figure at 0x2e2bd2b29b0>"
      ]
     },
     "metadata": {},
     "output_type": "display_data"
    }
   ],
   "source": [
    "data_mode = 'bm_'\n",
    "test_mode = 'active'\n",
    "\n",
    "#do active agents figure\n",
    "fig, axes_ = plt.subplots(nrows=1, ncols=1)\n",
    "fig.subplots_adjust(bottom=0.25)\n",
    "\n",
    "#reverse order of simulations\n",
    "df_logs = dfs_logs[-1]\n",
    "\n",
    "#if ncols = 1  - transform into list\n",
    "axes = [axes_]\n",
    "\n",
    "#axes_0_tw = axes[0].twinx()\n",
    "\n",
    "ind = np.arange(N_TICKS)    # the x locations for the groups\n",
    "width = 0.35       # the width of the bars: can also be len(x) sequence\n",
    "\n",
    "ind = df_logs.index.values[0:N_TICKS_DISPLAY] + 1\n",
    "\n",
    "lines = []\n",
    "i = 0\n",
    "\n",
    "column = 'EParamTypes::HONumberActiveAgents'\n",
    "pi = axes[0].plot(ind, df_logs[column][0:N_TICKS_DISPLAY]/5000, color = 'olive')\n",
    "\n",
    "axes[0].set_xlabel(\"Time\")\n",
    "axes[0].set_ylabel(\"Active agents as a share of population\")\n",
    "\n",
    "\n",
    "#axes[0].set_autoscaley_on(False)\n",
    "axes[0].set_xlim([1,N_TICKS_DISPLAY])\n",
    "#axes_0_tw.set_ylim([0.0, 5.0])\n",
    "start = 1\n",
    "end = N_TICKS_DISPLAY\n",
    "axes[0].xaxis.set_ticks(np.arange(start, end, 25))\n",
    "\n",
    "\n",
    "\n",
    "plt.tight_layout()\n",
    "plt.savefig('Simulation_results_' + data_mode + test_mode + '_Oct18' + '.png', dpi=300, bbox_extra_artists=(lgd,), bbox_inches='tight')\n",
    "plt.show()"
   ]
  },
  {
   "cell_type": "code",
   "execution_count": 28,
   "metadata": {
    "collapsed": false
   },
   "outputs": [],
   "source": [
    "#location x, location y \n",
    "\n",
    "\n",
    "# for each line - place into location\n",
    "# average over locations\n",
    "#\n",
    "#\n",
    "\n",
    "N_TILES = 10\n",
    "\n",
    "test_mode = 'BaseVer01'\n",
    "data_mode = 'CA'\n",
    "\n",
    "#names of columns in a file\n",
    "names = ['Tick', 'Location_x', 'Location_y', 'Uid', 'Price_per_watt', 'DC_size']\n",
    "\n",
    "raw_data_per_tick = []\n",
    "raw_data_dfs_per_tick = []\n",
    "tick_bins = []\n",
    "for i in range(4):\n",
    "    #to store final results\n",
    "    raw_data_per_tick.append(np.zeros((N_TILES, N_TILES)))\n",
    "    #to store intermediate results\n",
    "    raw_data_dfs_per_tick.append(np.zeros((N_SEEDS, N_TILES, N_TILES)))\n",
    "    #tick edges\n",
    "    tick_bins.append(N_TICKS/4 *(i))\n",
    "\n",
    "\n",
    "#read few files\n",
    "#save into database\n",
    "dfs_ = []\n",
    "#read last simulation result\n",
    "files = glob.glob('..\\\\..\\\\ABMIRISLab\\\\Saves\\\\Oct-18-2017\\\\BaseModel\\\\'+ test_mode + '\\\\' + data_mode + \\\n",
    "                 '\\\\*[_pr].csv')\n",
    "files.sort(key=os.path.getmtime, reverse=True)\n",
    "\n",
    "#take top x files \n",
    "i_run = N_TESTS - 1\n",
    "\n",
    "for file in files[i_run * N_SEEDS : (i_run + 1) * N_SEEDS]:\n",
    "    df_ = pd.read_csv(file, names=names, low_memory=False, na_values = ['-nan(ind)'])\n",
    "    dfs_.append(df_)\n",
    "\n",
    "    \n",
    "raw_data_dfs = np.zeros((len(dfs_), N_TILES, N_TILES))\n",
    "\n",
    "indexes = [0.0, 0.0, 0.0, 0.0]\n",
    "\n",
    "k = 0\n",
    "for df_ in dfs_:\n",
    "    \n",
    "    \n",
    "    \n",
    "    for i in range(N_TILES):\n",
    "        for j in range(N_TILES):\n",
    "            index = df_[(df_['Location_x'] == i) & \\\n",
    "                        (df_['Location_y'] == j)].index \n",
    "                             \n",
    "            indexes[0] = df_[(df_['Location_x'] == i) & \\\n",
    "                        (df_['Location_y'] == j) & \\\n",
    "                         (df_['Tick'] < tick_bins[0])].index\n",
    "            \n",
    "            indexes[1] = df_[(df_['Location_x'] == i) & \\\n",
    "                        (df_['Location_y'] == j) & \\\n",
    "                         (df_['Tick'] < tick_bins[1])].index\n",
    "            \n",
    "            indexes[2] = df_[(df_['Location_x'] == i) & \\\n",
    "                        (df_['Location_y'] == j) & \\\n",
    "                         (df_['Tick'] < tick_bins[2])].index\n",
    "                             \n",
    "            raw_data_dfs_per_tick[0][k, i, j] = df_.iloc[indexes[0]].shape[0]\n",
    "            raw_data_dfs_per_tick[1][k, i, j] = df_.iloc[indexes[1]].shape[0]\n",
    "            raw_data_dfs_per_tick[2][k, i, j] = df_.iloc[indexes[2]].shape[0]\n",
    "            raw_data_dfs_per_tick[-1][k, i, j] = df_.iloc[index].shape[0]\n",
    "            \n",
    "    k = k + 1\n",
    "    \n",
    "    raw_data_per_tick[0] = np.mean(raw_data_dfs_per_tick[0], axis = 0)\n",
    "    raw_data_per_tick[1] = np.mean(raw_data_dfs_per_tick[1], axis = 0)\n",
    "    raw_data_per_tick[2] = np.mean(raw_data_dfs_per_tick[2], axis = 0)\n",
    "    raw_data_per_tick[-1] = np.mean(raw_data_dfs_per_tick[-1], axis = 0)\n",
    "    \n",
    "    \n",
    "#create df from them    \n",
    "dfs_inst = dfs_"
   ]
  },
  {
   "cell_type": "code",
   "execution_count": 29,
   "metadata": {
    "collapsed": false
   },
   "outputs": [
    {
     "name": "stdout",
     "output_type": "stream",
     "text": [
      "[[ 0.01  0.01  0.01  0.01  0.01  0.01  0.01  0.01  0.01  0.01]\n",
      " [ 0.01  0.01  0.01  0.01  0.01  0.01  0.01  0.01  0.01  0.01]\n",
      " [ 0.01  0.01  0.01  0.01  0.01  0.01  0.01  0.01  0.01  0.01]\n",
      " [ 0.01  0.01  0.01  0.01  0.01  0.01  0.01  0.01  0.01  0.01]\n",
      " [ 0.01  0.01  0.01  0.01  0.01  0.01  0.01  0.01  0.01  0.01]\n",
      " [ 0.01  0.01  0.01  0.01  0.01  0.01  0.01  0.01  0.01  0.01]\n",
      " [ 0.01  0.01  0.01  0.01  0.01  0.01  0.01  0.01  0.01  0.01]\n",
      " [ 0.01  0.01  0.01  0.01  0.01  0.01  0.01  0.01  0.01  0.01]\n",
      " [ 0.01  0.01  0.01  0.01  0.01  0.01  0.01  0.01  0.01  0.01]\n",
      " [ 0.01  0.01  0.01  0.01  0.01  0.01  0.01  0.01  0.01  0.01]]\n"
     ]
    }
   ],
   "source": [
    "raw_data_per_tick[0] = np.zeros((N_TILES, N_TILES)) + 0.01\n",
    "print(raw_data_per_tick[0])"
   ]
  },
  {
   "cell_type": "code",
   "execution_count": 105,
   "metadata": {
    "collapsed": false
   },
   "outputs": [
    {
     "data": {
      "text/plain": [
       "<matplotlib.image.AxesImage at 0x1d02a084e80>"
      ]
     },
     "execution_count": 105,
     "metadata": {},
     "output_type": "execute_result"
    },
    {
     "data": {
      "image/png": "[encoded data removed]",
      "text/plain": [
       "<matplotlib.figure.Figure at 0x1d028f43860>"
      ]
     },
     "metadata": {},
     "output_type": "display_data"
    }
   ],
   "source": [
    "plt.imshow(raw_data_per_tick[0], cmap=new_cmap, interpolation='nearest')"
   ]
  },
  {
   "cell_type": "code",
   "execution_count": 33,
   "metadata": {
    "collapsed": false
   },
   "outputs": [],
   "source": [
    "max_installs = np.amax(raw_data_per_tick[3])\n",
    "min_installs = 0 "
   ]
  },
  {
   "cell_type": "code",
   "execution_count": 34,
   "metadata": {
    "collapsed": false
   },
   "outputs": [
    {
     "name": "stdout",
     "output_type": "stream",
     "text": [
      "6.0\n"
     ]
    }
   ],
   "source": [
    "print(max_installs)"
   ]
  },
  {
   "cell_type": "code",
   "execution_count": 35,
   "metadata": {
    "collapsed": true
   },
   "outputs": [],
   "source": [
    "import matplotlib.colors as colors"
   ]
  },
  {
   "cell_type": "code",
   "execution_count": 36,
   "metadata": {
    "collapsed": true
   },
   "outputs": [],
   "source": [
    "def truncate_colormap(cmap, minval=0.0, maxval=1.0, n=100):\n",
    "    new_cmap = colors.LinearSegmentedColormap.from_list(\n",
    "        'trunc({n},{a:.2f},{b:.2f})'.format(n=cmap.name, a=minval, b=maxval),\n",
    "        cmap(np.linspace(minval, maxval, n)))\n",
    "    return new_cmap"
   ]
  },
  {
   "cell_type": "code",
   "execution_count": 37,
   "metadata": {
    "collapsed": false
   },
   "outputs": [],
   "source": [
    "cmap = cm.get_cmap('Greys')\n",
    "new_cmap = truncate_colormap(cmap, 0.2, 0.8)"
   ]
  },
  {
   "cell_type": "code",
   "execution_count": 38,
   "metadata": {
    "collapsed": false
   },
   "outputs": [],
   "source": [
    "raw_data_per_tick_norm = [0.0, 0.0, 0.0, 0.0]\n",
    "for i in range(4):\n",
    "    raw_data_per_tick_norm[i] = raw_data_per_tick[i] / max_installs"
   ]
  },
  {
   "cell_type": "code",
   "execution_count": 43,
   "metadata": {
    "collapsed": false
   },
   "outputs": [
    {
     "name": "stderr",
     "output_type": "stream",
     "text": [
      "C:\\Users\\wilfeli\\Anaconda3\\envs\\aimacro\\lib\\site-packages\\ipykernel\\__main__.py:13: VisibleDeprecationWarning: using a non-integer number instead of an integer will result in an error in the future\n",
      "C:\\Users\\wilfeli\\Anaconda3\\envs\\aimacro\\lib\\site-packages\\ipykernel\\__main__.py:18: VisibleDeprecationWarning: using a non-integer number instead of an integer will result in an error in the future\n",
      "C:\\Users\\wilfeli\\Anaconda3\\envs\\aimacro\\lib\\site-packages\\ipykernel\\__main__.py:19: VisibleDeprecationWarning: using a non-integer number instead of an integer will result in an error in the future\n",
      "C:\\Users\\wilfeli\\Anaconda3\\envs\\aimacro\\lib\\site-packages\\ipykernel\\__main__.py:21: VisibleDeprecationWarning: using a non-integer number instead of an integer will result in an error in the future\n",
      "C:\\Users\\wilfeli\\Anaconda3\\envs\\aimacro\\lib\\site-packages\\ipykernel\\__main__.py:22: VisibleDeprecationWarning: using a non-integer number instead of an integer will result in an error in the future\n",
      "C:\\Users\\wilfeli\\Anaconda3\\envs\\aimacro\\lib\\site-packages\\ipykernel\\__main__.py:24: VisibleDeprecationWarning: using a non-integer number instead of an integer will result in an error in the future\n",
      "C:\\Users\\wilfeli\\Anaconda3\\envs\\aimacro\\lib\\site-packages\\ipykernel\\__main__.py:25: VisibleDeprecationWarning: using a non-integer number instead of an integer will result in an error in the future\n",
      "C:\\Users\\wilfeli\\Anaconda3\\envs\\aimacro\\lib\\site-packages\\ipykernel\\__main__.py:27: VisibleDeprecationWarning: using a non-integer number instead of an integer will result in an error in the future\n",
      "C:\\Users\\wilfeli\\Anaconda3\\envs\\aimacro\\lib\\site-packages\\ipykernel\\__main__.py:31: VisibleDeprecationWarning: using a non-integer number instead of an integer will result in an error in the future\n",
      "C:\\Users\\wilfeli\\Anaconda3\\envs\\aimacro\\lib\\site-packages\\ipykernel\\__main__.py:45: VisibleDeprecationWarning: using a non-integer number instead of an integer will result in an error in the future\n",
      "C:\\Users\\wilfeli\\Anaconda3\\envs\\aimacro\\lib\\site-packages\\ipykernel\\__main__.py:46: VisibleDeprecationWarning: using a non-integer number instead of an integer will result in an error in the future\n",
      "C:\\Users\\wilfeli\\Anaconda3\\envs\\aimacro\\lib\\site-packages\\ipykernel\\__main__.py:48: VisibleDeprecationWarning: using a non-integer number instead of an integer will result in an error in the future\n"
     ]
    },
    {
     "data": {
      "image/png": "[encoded data removed]",
      "text/plain": [
       "<matplotlib.figure.Figure at 0x2e2bd55b8d0>"
      ]
     },
     "metadata": {},
     "output_type": "display_data"
    }
   ],
   "source": [
    "fig, axes = plt.subplots(nrows=2, ncols=2)\n",
    "#fig.subplots_adjust(bottom=0.5)\n",
    "\n",
    "\n",
    "for i in range(4):\n",
    "    lines = []\n",
    "\n",
    "#    cmap_custom = cm.get_cmap('YlGn')\n",
    "    cmap_custom = cm.get_cmap('Greys')\n",
    "    #cmap_custom = new_cmap\n",
    "\n",
    "    #image = np.random.uniform(size=(10, 10))\n",
    "    axes[i/2, i%2].imshow(raw_data_per_tick[i], cmap=cmap_custom, interpolation='nearest', vmin=0, vmax=max_installs)\n",
    "\n",
    "    #ax.set_title('Number of installations \\n in a neighborhood')\n",
    "\n",
    "    # Move left and bottom spines outward by 10 points\n",
    "    axes[i/2, i%2].spines['left'].set_position(('outward', 10))\n",
    "    axes[i/2, i%2].spines['bottom'].set_position(('outward', 10))\n",
    "    # Hide the right and top spines\n",
    "    axes[i/2, i%2].spines['right'].set_visible(False)\n",
    "    axes[i/2, i%2].spines['top'].set_visible(False)\n",
    "    # Only show ticks on the left and bottom spines\n",
    "    axes[i/2, i%2].yaxis.set_ticks_position('left')\n",
    "    axes[i/2, i%2].xaxis.set_ticks_position('bottom')\n",
    "    \n",
    "    for tick in axes[i/2, i%2].get_xticklabels():\n",
    "        tick.set_rotation(90)\n",
    "        tick.set_fontsize('x-small')\n",
    "        \n",
    "    for tick in axes[i/2, i%2].get_yticklabels():\n",
    "        tick.set_fontsize('x-small')\n",
    "\n",
    "    labels_ = ['mi']\n",
    "    xs = range(10)\n",
    "\n",
    "    from matplotlib.ticker import FuncFormatter, MaxNLocator\n",
    "    def format_fn(tick_val, tick_pos):\n",
    "        if int(tick_val) in xs:\n",
    "            return str(tick_val * 1.5) + ' ' + labels_[0]\n",
    "        else:\n",
    "            return ''\n",
    "\n",
    "\n",
    "    axes[i/2, i%2].xaxis.set_major_formatter(FuncFormatter(format_fn))\n",
    "    axes[i/2, i%2].yaxis.set_major_formatter(FuncFormatter(format_fn))\n",
    "\n",
    "    axes[i/2, i%2].grid(False)\n",
    "\n",
    "\n",
    "\n",
    "\n",
    "#    handles, labels = ax.get_legend_handles_labels()\n",
    "\n",
    "    # Put a legend below current axis\n",
    "    #lgd = ax.legend(handles, ['test'], loc='lower center', bbox_to_anchor=(0.5, -0.25),\\\n",
    "    #          fancybox=True, shadow=True, fontsize='10', ncol = 2)\n",
    "\n",
    "    \n",
    "#add comment to the first plot\n",
    "font = {'family': 'serif',\n",
    "        'color':  'darkolivegreen',\n",
    "        'weight': 'normal',\n",
    "        'size': 10,\n",
    "        }\n",
    "axes[0,0].text(0.0, 5.0, 'uniform zero', fontdict=font)\n",
    "    \n",
    "\n",
    "plt.tight_layout()\n",
    "data_mode = 'test'\n",
    "plt.savefig('Simulation_results_spatial_' + data_mode + '_Oct18' + '.png', dpi=300)\n",
    "\n",
    "plt.show()"
   ]
  },
  {
   "cell_type": "code",
   "execution_count": null,
   "metadata": {
    "collapsed": true
   },
   "outputs": [],
   "source": [
    "#redo bubbles figure"
   ]
  },
  {
   "cell_type": "code",
   "execution_count": 41,
   "metadata": {
    "collapsed": true
   },
   "outputs": [],
   "source": [
    "dfs_agg_inst = []\n",
    "for df_ in dfs_inst:\n",
    "\n",
    "    df_['Count'] = 1\n",
    "    grouped = df_.groupby('Uid', sort=False)\n",
    "    df_agg = grouped.agg({'Price_per_watt' : np.median,\\\n",
    "             'DC_size' : np.median, \\\n",
    "            'Count' : np.sum})\n",
    "    dfs_agg_inst.append(df_agg)\n",
    "    \n",
    "df_inst_all = pd.concat(dfs_agg_inst)\n",
    "df_inst_mean = df_agg.groupby(level=0).mean()"
   ]
  },
  {
   "cell_type": "code",
   "execution_count": 42,
   "metadata": {
    "collapsed": false
   },
   "outputs": [
    {
     "data": {
      "text/html": [
       "<div>\n",
       "<table border=\"1\" class=\"dataframe\">\n",
       "  <thead>\n",
       "    <tr style=\"text-align: right;\">\n",
       "      <th></th>\n",
       "      <th>DC_size</th>\n",
       "      <th>Price_per_watt</th>\n",
       "      <th>Count</th>\n",
       "    </tr>\n",
       "    <tr>\n",
       "      <th>Uid</th>\n",
       "      <th></th>\n",
       "      <th></th>\n",
       "      <th></th>\n",
       "    </tr>\n",
       "  </thead>\n",
       "  <tbody>\n",
       "    <tr>\n",
       "      <th>40</th>\n",
       "      <td>7591.30</td>\n",
       "      <td>3.49348</td>\n",
       "      <td>15</td>\n",
       "    </tr>\n",
       "    <tr>\n",
       "      <th>41</th>\n",
       "      <td>6901.18</td>\n",
       "      <td>3.74361</td>\n",
       "      <td>25</td>\n",
       "    </tr>\n",
       "    <tr>\n",
       "      <th>42</th>\n",
       "      <td>5520.95</td>\n",
       "      <td>4.38156</td>\n",
       "      <td>25</td>\n",
       "    </tr>\n",
       "    <tr>\n",
       "      <th>43</th>\n",
       "      <td>6501.57</td>\n",
       "      <td>3.69692</td>\n",
       "      <td>17</td>\n",
       "    </tr>\n",
       "    <tr>\n",
       "      <th>44</th>\n",
       "      <td>6211.06</td>\n",
       "      <td>4.03440</td>\n",
       "      <td>9</td>\n",
       "    </tr>\n",
       "  </tbody>\n",
       "</table>\n",
       "</div>"
      ],
      "text/plain": [
       "     DC_size  Price_per_watt  Count\n",
       "Uid                                \n",
       "40   7591.30         3.49348     15\n",
       "41   6901.18         3.74361     25\n",
       "42   5520.95         4.38156     25\n",
       "43   6501.57         3.69692     17\n",
       "44   6211.06         4.03440      9"
      ]
     },
     "execution_count": 42,
     "metadata": {},
     "output_type": "execute_result"
    }
   ],
   "source": [
    "df_inst_mean.head()"
   ]
  },
  {
   "cell_type": "code",
   "execution_count": 48,
   "metadata": {
    "collapsed": false
   },
   "outputs": [],
   "source": [
    "#sort by count?\n",
    "df_inst_mean = df_inst_mean.sort_values('Count', ascending=False)"
   ]
  },
  {
   "cell_type": "code",
   "execution_count": 49,
   "metadata": {
    "collapsed": false
   },
   "outputs": [
    {
     "data": {
      "image/png": "[encoded data removed]",
      "text/plain": [
       "<matplotlib.figure.Figure at 0x2e2b9f68208>"
      ]
     },
     "metadata": {},
     "output_type": "display_data"
    }
   ],
   "source": [
    "N = 10\n",
    "\n",
    "\n",
    "\n",
    "\n",
    "\n",
    "x = df_inst_mean['DC_size']/1000\n",
    "y = df_inst_mean['Price_per_watt']\n",
    "norm = matplotlib.colors.Normalize(vmin=df_inst_mean['Count'].values[N-1], vmax=df_inst_mean['Count'].values[0])\n",
    "cmap_custom = cm.get_cmap('Spectral')\n",
    "area = norm(df_inst_mean['Count'])\n",
    "color = []\n",
    "\n",
    "for area_x in area:\n",
    "#    color.append(cmap_custom(area_x/2))\n",
    "    color.append('olive')\n",
    "    \n",
    "\n",
    "    \n",
    "#color[1] = (0.0, 0.65, 0.75, 1.0)\n",
    "    \n",
    "fig = plt.figure()\n",
    "ax = fig.add_subplot(1,1,1)\n",
    "ax.set_xlabel('DC size')\n",
    "ax.set_ylabel('Price Per Watt')\n",
    "\n",
    "#ax.set_autoscaley_on(False)\n",
    "#ax.set_xlim([0,0.2])\n",
    "#ax.set_ylim([0,5])\n",
    "    \n",
    "#plt.xlabel('Price Per Watt')\n",
    "#plt.ylabel('System Size AC')\n",
    "#plt.title('Number of Installations Per Company')\n",
    "\n",
    "ax.scatter(x, y, s=df_inst_mean['Count'] * 10,  c = color )\n",
    "handles, labels = ax.get_legend_handles_labels()\n",
    "\n",
    "\n",
    "#names are here\n",
    "#df_agg.index.values[0:3]\n",
    "\n",
    "#colors are here\n",
    "#color[0:3]\n",
    "\n",
    "artists = []\n",
    "labels = []\n",
    "\n",
    "#create custom artists\n",
    "#for i in range(3):\n",
    "#    artists.append(mpatches.Circle((0, 0), 1.0, facecolor=color[i]))\n",
    "#    labels.append(df_agg_dm1.index.values[i])\n",
    "\n",
    "artists.append(mpatches.Circle((0, 0), 1.0, facecolor=color[-1], label='min'))\n",
    "labels.append('min N installs')\n",
    "artists.append(mpatches.Circle((0, 0), 1.0, facecolor=color[0], label='max'))\n",
    "labels.append('max N installs')\n",
    "    \n",
    "\n",
    "class HandlerEllipse(HandlerPatch):\n",
    "    def create_artists(self, legend, orig_handle,\n",
    "                       xdescent, ydescent, width, height, fontsize, trans):\n",
    "        center = 0.5 * width - 0.5 * xdescent, 0.5 * height - 0.5 * ydescent\n",
    "#        print(orig_handle.__dict__)\n",
    "        radius_ = width/10\n",
    "        if ('max' in orig_handle._label):\n",
    "            radius_ = width/5\n",
    "    \n",
    "        p = mpatches.Circle(xy=center, radius=radius_)\n",
    "        self.update_prop(p, orig_handle, legend)\n",
    "        p.set_transform(trans)\n",
    "        return [p]\n",
    "    \n",
    "\n",
    "#Create legend from custom artist/label lists\n",
    "ax.legend(artists,\n",
    "          labels,\n",
    "         handler_map={mpatches.Circle: HandlerEllipse()}, bbox_to_anchor=(0.9, 0.9),\n",
    "           bbox_transform=plt.gcf().transFigure, fontsize=5\n",
    "         )\n",
    "\n",
    "\n",
    "\n",
    "#plt.scatter(x, y, s=df_agg_top['Count'],  c = color )\n",
    "data_mode = 'test'\n",
    "plt.savefig('Simulation_results_installers_' + data_mode + '_Oct18' + '.png', dpi=300)\n",
    "plt.show()"
   ]
  },
  {
   "cell_type": "code",
   "execution_count": 117,
   "metadata": {
    "collapsed": false
   },
   "outputs": [
    {
     "name": "stdout",
     "output_type": "stream",
     "text": [
      "{'_rasterized': None, '_clippath': None, '_linestyle': 'solid', '_clipon': True, '_animated': False, '_path': Path(array([[ 0.        , -1.        ],\n",
      "       [ 0.2652031 , -1.        ],\n",
      "       [ 0.51957987, -0.89463369],\n",
      "       [ 0.70710678, -0.70710678],\n",
      "       [ 0.89463369, -0.51957987],\n",
      "       [ 1.        , -0.2652031 ],\n",
      "       [ 1.        ,  0.        ],\n",
      "       [ 1.        ,  0.2652031 ],\n",
      "       [ 0.89463369,  0.51957987],\n",
      "       [ 0.70710678,  0.70710678],\n",
      "       [ 0.51957987,  0.89463369],\n",
      "       [ 0.2652031 ,  1.        ],\n",
      "       [ 0.        ,  1.        ],\n",
      "       [-0.2652031 ,  1.        ],\n",
      "       [-0.51957987,  0.89463369],\n",
      "       [-0.70710678,  0.70710678],\n",
      "       [-0.89463369,  0.51957987],\n",
      "       [-1.        ,  0.2652031 ],\n",
      "       [-1.        ,  0.        ],\n",
      "       [-1.        , -0.2652031 ],\n",
      "       [-0.89463369, -0.51957987],\n",
      "       [-0.70710678, -0.70710678],\n",
      "       [-0.51957987, -0.89463369],\n",
      "       [-0.2652031 , -1.        ],\n",
      "       [ 0.        , -1.        ],\n",
      "       [ 0.        , -1.        ]]), array([ 1,  4,  4,  4,  4,  4,  4,  4,  4,  4,  4,  4,  4,  4,  4,  4,  4,\n",
      "        4,  4,  4,  4,  4,  4,  4,  4, 79], dtype=uint8)), '_sketch': None, 'angle': 0.0, '_alpha': None, '_joinstyle': 'miter', '_capstyle': 'butt', '_original_edgecolor': '#EEEEEE', '_mouseover': False, '_patch_transform': IdentityTransform(), 'height': 10.0, '_facecolor': (0.5019607843137255, 0.5019607843137255, 0.0, 1.0), '_gid': None, '_stale': True, '_original_facecolor': 'olive', '_path_effects': [], '_linewidth': 0.5, '_url': None, 'figure': None, '_combined_transform': IdentityTransform(), '_transformSet': False, '_contains': None, '_transform': None, '_antialiased': True, 'stale_callback': None, '_agg_filter': None, 'center': (0, 0), '_snap': None, '_picker': None, 'eventson': False, '_label': '', '_axes': None, '_edgecolor': (0.9333333333333333, 0.9333333333333333, 0.9333333333333333, 1.0), 'clipbox': None, 'width': 10.0, '_hatch': None, '_fill': True, '_propobservers': {}, '_remove_method': None, '_oid': 0, '_visible': True}\n"
     ]
    }
   ],
   "source": [
    "print(mpatches.Circle((0, 0), 5.0, facecolor=color[0]).__dict__)"
   ]
  },
  {
   "cell_type": "code",
   "execution_count": 57,
   "metadata": {
    "collapsed": false
   },
   "outputs": [],
   "source": [
    "y_start = 0.2\n",
    "y_target = 0.5\n",
    "theta_learn = 0.99\n",
    "y_prog_ = [y_start]\n",
    "x_tick_ = []\n",
    "for i in range(200):\n",
    "    y_prog_.append(y_prog_[-1] * theta_learn + y_target * (1 - theta_learn))\n",
    "    x_tick_.append(i)"
   ]
  },
  {
   "cell_type": "code",
   "execution_count": 58,
   "metadata": {
    "collapsed": false
   },
   "outputs": [
    {
     "data": {
      "text/plain": [
       "[<matplotlib.lines.Line2D at 0x2e2bd809128>]"
      ]
     },
     "execution_count": 58,
     "metadata": {},
     "output_type": "execute_result"
    },
    {
     "data": {
      "image/png": "[encoded data removed]",
      "text/plain": [
       "<matplotlib.figure.Figure at 0x2e2b9ec7e48>"
      ]
     },
     "metadata": {},
     "output_type": "display_data"
    }
   ],
   "source": [
    "plt.plot(x_tick_, y_prog_[1:])"
   ]
  },
  {
   "cell_type": "code",
   "execution_count": null,
   "metadata": {
    "collapsed": true
   },
   "outputs": [],
   "source": []
  }
 ],
 "metadata": {
  "anaconda-cloud": {},
  "kernelspec": {
   "display_name": "Python [conda env:aimacro]",
   "language": "python",
   "name": "conda-env-aimacro-py"
  },
  "language_info": {
   "codemirror_mode": {
    "name": "ipython",
    "version": 3
   },
   "file_extension": ".py",
   "mimetype": "text/x-python",
   "name": "python",
   "nbconvert_exporter": "python",
   "pygments_lexer": "ipython3",
   "version": "3.5.2"
  }
 },
 "nbformat": 4,
 "nbformat_minor": 1
}
