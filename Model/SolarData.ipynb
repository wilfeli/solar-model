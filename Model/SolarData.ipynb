{
 "cells": [
  {
   "cell_type": "code",
   "execution_count": 1,
   "metadata": {
    "collapsed": false
   },
   "outputs": [],
   "source": [
    "import pandas as pd\n",
    "import numpy as np\n",
    "%matplotlib inline\n",
    "import matplotlib.pyplot as plt\n",
    "import matplotlib\n",
    "matplotlib.style.use('ggplot')"
   ]
  },
  {
   "cell_type": "code",
   "execution_count": 2,
   "metadata": {
    "collapsed": true
   },
   "outputs": [],
   "source": [
    "#ols models\n",
    "import statsmodels.formula.api as sm"
   ]
  },
  {
   "cell_type": "code",
   "execution_count": 3,
   "metadata": {
    "collapsed": true
   },
   "outputs": [],
   "source": [
    "from patsy import dmatrices"
   ]
  },
  {
   "cell_type": "code",
   "execution_count": 4,
   "metadata": {
    "collapsed": true
   },
   "outputs": [],
   "source": [
    "import re"
   ]
  },
  {
   "cell_type": "code",
   "execution_count": 5,
   "metadata": {
    "collapsed": true
   },
   "outputs": [],
   "source": [
    "#column names\n",
    "def print_columns(dataframe):\n",
    "    i = 0\n",
    "    for column in dataframe.columns:\n",
    "        print((i, column))\n",
    "        i += 1"
   ]
  },
  {
   "cell_type": "code",
   "execution_count": null,
   "metadata": {
    "collapsed": false
   },
   "outputs": [],
   "source": [
    "#read data, simple transforms\n",
    "df = pd.read_csv(\"../../Data/WorkingDataSet_3-16-2016.csv\", low_memory=False)\n",
    "df.ix[:,22] =  pd.to_datetime(df.ix[:,22], infer_datetime_format=True)\n",
    "df['First_New_Reservation_Request_Date_Year'] = df.ix[:,22].dt.year"
   ]
  },
  {
   "cell_type": "code",
   "execution_count": null,
   "metadata": {
    "collapsed": false
   },
   "outputs": [],
   "source": [
    "#df.head\n",
    "#df.describe()\n",
    "#df.columns\n",
    "#data for San Jose\n",
    "sj_df = df[df.ix[:,18] == \"San Jose\"].copy()"
   ]
  },
  {
   "cell_type": "code",
   "execution_count": null,
   "metadata": {
    "collapsed": false
   },
   "outputs": [],
   "source": [
    "#SEI in San Jose\n",
    "sei_names_sj = sj_df.ix[:,44]\n",
    "sei_n_projects = sei_names_sj.value_counts()"
   ]
  },
  {
   "cell_type": "code",
   "execution_count": null,
   "metadata": {
    "collapsed": false
   },
   "outputs": [],
   "source": [
    "#transform to the date format\n",
    "sj_df.ix[:,22] =  pd.to_datetime(sj_df.ix[:,22], infer_datetime_format=True)\n",
    "#see time range\n",
    "#sj_df.ix[:,22].min()\n",
    "#sj_df.ix[:,22].max()\n",
    "#take year only\n",
    "sj_df['First_New_Reservation_Request_Date_Year'] = sj_df.ix[:,22].dt.year"
   ]
  },
  {
   "cell_type": "code",
   "execution_count": null,
   "metadata": {
    "collapsed": false
   },
   "outputs": [],
   "source": [
    "#select project for the biggest SEI\n",
    "#sei_df = sj_df[sj_df.ix[:,44] == \"PETERSEN-DEAN INC. dba PETERSENDEAN\"] - direct call\n",
    "sei_df = sj_df[sj_df.ix[:,44] == sei_n_projects.index[0]]"
   ]
  },
  {
   "cell_type": "code",
   "execution_count": null,
   "metadata": {
    "collapsed": false
   },
   "outputs": [],
   "source": [
    "#number of projects per year\n",
    "sei_df['First_New_Reservation_Request_Date_Year'].value_counts()"
   ]
  },
  {
   "cell_type": "code",
   "execution_count": null,
   "metadata": {
    "collapsed": false
   },
   "outputs": [],
   "source": [
    "#type of a project\n",
    "project_types_sj = sj_df.ix[:,2]\n",
    "project_types_sj.value_counts()"
   ]
  },
  {
   "cell_type": "code",
   "execution_count": null,
   "metadata": {
    "collapsed": false
   },
   "outputs": [],
   "source": [
    "#type of a project\n",
    "project_types_sj = sj_df.ix[:,15]\n",
    "project_types_sj.value_counts()"
   ]
  },
  {
   "cell_type": "code",
   "execution_count": null,
   "metadata": {
    "collapsed": false
   },
   "outputs": [],
   "source": [
    "#type of a project\n",
    "project_types_sj = sj_df.ix[:,17]\n",
    "project_types_sj.value_counts()"
   ]
  },
  {
   "cell_type": "code",
   "execution_count": null,
   "metadata": {
    "collapsed": false
   },
   "outputs": [],
   "source": [
    "#modules in use\n",
    "module_types = sj_df['PV Module#1 Model']\n",
    "module_types.value_counts()"
   ]
  },
  {
   "cell_type": "code",
   "execution_count": null,
   "metadata": {
    "collapsed": false
   },
   "outputs": [],
   "source": [
    "#modules in use whole data set\n",
    "df['PV Module#1 Model'].value_counts()"
   ]
  },
  {
   "cell_type": "code",
   "execution_count": 2,
   "metadata": {
    "collapsed": false
   },
   "outputs": [],
   "source": [
    "#read data\n",
    "df1 = pd.read_csv(\"../../Data/NEM_CurrentlyInterconnectedDataset_2016-01-31.csv\", low_memory=False)"
   ]
  },
  {
   "cell_type": "code",
   "execution_count": 3,
   "metadata": {
    "collapsed": true
   },
   "outputs": [],
   "source": [
    "#get year from date\n",
    "df1.ix[:,15] =  pd.to_datetime(df1.ix[:,15], infer_datetime_format=True)\n",
    "df1['App Complete Date Year'] = df1.ix[:,15].dt.year"
   ]
  },
  {
   "cell_type": "code",
   "execution_count": null,
   "metadata": {
    "collapsed": false
   },
   "outputs": [],
   "source": [
    "#modules in use\n",
    "df1[df1['App Complete Date Year'] > 2014]['Module Model 1'].value_counts()"
   ]
  },
  {
   "cell_type": "code",
   "execution_count": null,
   "metadata": {
    "collapsed": false
   },
   "outputs": [],
   "source": [
    "#biggest installers in 2015-2016\n",
    "df1[df1['App Complete Date Year'] > 2014]['Installer Name'].value_counts()"
   ]
  },
  {
   "cell_type": "code",
   "execution_count": 13,
   "metadata": {
    "collapsed": true
   },
   "outputs": [],
   "source": [
    "#selection for SolarCity\n",
    "solarcity_names = ['SolarCity Corporation', 'SolarCity', 'SolarCityMH', 'SOLARCITY', 'solarcity']\n",
    "ss_df = df1[(df1['App Complete Date Year'] > 2014) & (df1['Installer Name'].isin(solarcity_names))]\n",
    "ss_df.columns = ss_df.columns.str.replace(' ','_')\n",
    "ss_df = ss_df[(ss_df.T != 0).all()]\n",
    "ss_df['System_Size_DC_Sqr'] = ss_df['System_Size_DC'] * ss_df['System_Size_DC']"
   ]
  },
  {
   "cell_type": "code",
   "execution_count": null,
   "metadata": {
    "collapsed": false
   },
   "outputs": [],
   "source": [
    "df1[(df1['App Complete Date Year'] > 2014) & (df1['Installer Name'].isin(solarcity_names))][['Installer Name']].count\n",
    "#df1[(df1['App Complete Date Year'] > 2014)][['Installer Name']].count"
   ]
  },
  {
   "cell_type": "code",
   "execution_count": null,
   "metadata": {
    "collapsed": false
   },
   "outputs": [],
   "source": [
    "#number of projects over the years\n",
    "df1['App Complete Date Year'].value_counts()"
   ]
  },
  {
   "cell_type": "code",
   "execution_count": null,
   "metadata": {
    "collapsed": true
   },
   "outputs": [],
   "source": [
    "#check dataframe\n",
    "ss_df.describe()\n",
    "ss_df.shape\n",
    "ss_df.head()"
   ]
  },
  {
   "cell_type": "code",
   "execution_count": null,
   "metadata": {
    "collapsed": false
   },
   "outputs": [],
   "source": [
    "#most common module\n",
    "ss_df['Module_Model_1'].value_counts()"
   ]
  },
  {
   "cell_type": "code",
   "execution_count": null,
   "metadata": {
    "collapsed": false
   },
   "outputs": [],
   "source": [
    "#most common manufacturer\n",
    "ss_df['Module_Manufacturer_1'].value_counts()"
   ]
  },
  {
   "cell_type": "code",
   "execution_count": null,
   "metadata": {
    "collapsed": false
   },
   "outputs": [],
   "source": [
    "ss_df['Price_per_Watt'] = ss_df['Total_System_Cost']/ss_df['System_Size_DC']/1000"
   ]
  },
  {
   "cell_type": "code",
   "execution_count": null,
   "metadata": {
    "collapsed": false
   },
   "outputs": [],
   "source": [
    "ss_df['Price_per_Watt'][ss_df['Total_System_Cost'] < 180000].hist()"
   ]
  },
  {
   "cell_type": "code",
   "execution_count": null,
   "metadata": {
    "collapsed": false
   },
   "outputs": [],
   "source": [
    "ss_df['Price_per_Watt'][ss_df['Price_per_Watt'] < 10].describe()"
   ]
  },
  {
   "cell_type": "code",
   "execution_count": null,
   "metadata": {
    "collapsed": false
   },
   "outputs": [],
   "source": [
    "#dataframe for most popular module\n",
    "ss_rec260pe_df = ss_df[ss_df['Module Model 1'] == 'REC260PE']\n",
    "ss_rec260pe_df['System Size DC'].hist()"
   ]
  },
  {
   "cell_type": "code",
   "execution_count": null,
   "metadata": {
    "collapsed": false
   },
   "outputs": [],
   "source": [
    "#rename columns - no spaces, by hand\n",
    "#ss_rec260pe_df=ss_rec260pe_df.rename(columns={\"System Size DC\": \"System_Size_DC\", \"Total System Cost\":\"Total_System_Cost\"})"
   ]
  },
  {
   "cell_type": "code",
   "execution_count": null,
   "metadata": {
    "collapsed": false
   },
   "outputs": [],
   "source": [
    "#short data set for ols estimation\n",
    "ss_rec260pe_df_short = ss_rec260pe_df[['Total_System_Cost', 'System_Size_DC', 'System_Size_AC', 'Service_Zip', 'Inverter_Model_1', 'Module_Quantity_1', \\\n",
    "                                       'Inverter_Quantity_1', 'Tracking', 'Customer_Sector', 'Utility', 'Service_County', 'Service_City', 'Installer_Zip']]\n",
    "ss_rec260pe_df_ols = ss_rec260pe_df_short.dropna()\n",
    "ss_rec260pe_df_ols = ss_rec260pe_df_ols.copy()\n",
    "#drop rows with at least one zero\n",
    "ss_rec260pe_df_ols = ss_rec260pe_df_ols[(ss_rec260pe_df_ols.T != 0).all()]\n",
    "ss_rec260pe_df_ols = ss_rec260pe_df_ols[(ss_rec260pe_df_ols[\"Service_Zip\"] > 10000.0)]\n",
    "ss_rec260pe_df_ols[\"Service_Zip_Cat\"] = ss_rec260pe_df_ols[\"Service_Zip\"].astype(int).astype('category')\n",
    "ss_rec260pe_df_ols[\"Inverter_Model_1_Cat\"] = ss_rec260pe_df_ols[\"Inverter_Model_1\"].astype('category')\n",
    "ss_rec260pe_df_ols[\"Tracking_Cat\"] = ss_rec260pe_df_ols[\"Tracking\"].astype('category')\n",
    "ss_rec260pe_df_ols[\"Utility_Cat\"] = ss_rec260pe_df_ols[\"Utility\"].astype('category')\n",
    "#create dummies for zip code, not used for now\n",
    "ss_rec260pe_df_ols_dummies = pd.get_dummies(ss_rec260pe_df_ols[\"Service_Zip_Cat\"], prefix='zipd')"
   ]
  },
  {
   "cell_type": "code",
   "execution_count": null,
   "metadata": {
    "collapsed": false
   },
   "outputs": [],
   "source": [
    "#model for System cost, drop outliers\n",
    "ss_rec260pe_df_ols['System_Size_DC_Sqr'] = ss_rec260pe_df_ols['System_Size_DC'] * ss_rec260pe_df_ols['System_Size_DC']\n",
    "ss_rec260pe_df_ols['Big_Project'] = np.sign(ss_rec260pe_df_ols['Total_System_Cost'] - 180000)\n",
    "res = sm.ols(formula=\"Total_System_Cost~System_Size_DC+System_Size_DC_Sqr+Module_Quantity_1+C(Utility)+C(Inverter_Model_1)\", \\\n",
    "             data=ss_rec260pe_df_ols[ss_rec260pe_df_ols['Total_System_Cost'] < 180000]).fit()\n",
    "#model for outliers, not used, not enough data\n",
    "#res = sm.ols(formula=\"Total_System_Cost~System_Size_DC+System_Size_DC_Sqr+Module_Quantity_1+C(Utility)\", \\\n",
    "#             data=ss_rec260pe_df_ols[ss_rec260pe_df_ols['Total_System_Cost'] >= 180000]).fit()\n",
    "print(res.summary())"
   ]
  },
  {
   "cell_type": "code",
   "execution_count": null,
   "metadata": {
    "collapsed": false
   },
   "outputs": [],
   "source": [
    "#graph predictions\n",
    "predictions = res.predict(ss_rec260pe_df_ols[ss_rec260pe_df_ols['Total_System_Cost'] < 180000])\n",
    "ss_rec260pe_df_ols[ss_rec260pe_df_ols['Total_System_Cost'] < 180000]['Total_System_Cost_Est'] = predictions\n",
    "ss_rec260pe_df_ols[['Total_System_Cost_Est', 'Total_System_Cost']][ss_rec260pe_df_ols['Total_System_Cost'] < 180000].plot()"
   ]
  },
  {
   "cell_type": "code",
   "execution_count": null,
   "metadata": {
    "collapsed": false
   },
   "outputs": [],
   "source": [
    "#model for system size, drop outliers\n",
    "res = sm.ols(formula=\"System_Size_DC~Module_Quantity_1+C(Inverter_Model_1_Cat)+Inverter_Quantity_1\", \\\n",
    "             data=ss_rec260pe_df_ols[ss_rec260pe_df_ols['Total_System_Cost'] < 180000]).fit()\n",
    "print(res.summary())"
   ]
  },
  {
   "cell_type": "code",
   "execution_count": null,
   "metadata": {
    "collapsed": false
   },
   "outputs": [],
   "source": [
    "#look at correlations\n",
    "ss_rec260pe_df_ols.corr()"
   ]
  },
  {
   "cell_type": "code",
   "execution_count": null,
   "metadata": {
    "collapsed": false
   },
   "outputs": [],
   "source": [
    "#look at correlations\n",
    "ss_rec260pe_df.corr()"
   ]
  },
  {
   "cell_type": "code",
   "execution_count": null,
   "metadata": {
    "collapsed": true
   },
   "outputs": [],
   "source": [
    "ss_rec260pe_df_ols_filtered = ss_rec260pe_df_ols[ss_rec260pe_df_ols['Total_System_Cost'] < 180000]"
   ]
  },
  {
   "cell_type": "code",
   "execution_count": null,
   "metadata": {
    "collapsed": false
   },
   "outputs": [],
   "source": [
    "ss_rec260pe_df_ols_filtered['Price_per_Watt'] = ss_rec260pe_df_ols_filtered['Total_System_Cost']/ss_rec260pe_df_ols_filtered['System_Size_DC']/1000"
   ]
  },
  {
   "cell_type": "code",
   "execution_count": null,
   "metadata": {
    "collapsed": false
   },
   "outputs": [],
   "source": [
    "ss_rec260pe_df_ols_filtered['Price_per_Watt'].hist()"
   ]
  },
  {
   "cell_type": "code",
   "execution_count": null,
   "metadata": {
    "collapsed": false
   },
   "outputs": [],
   "source": [
    "ss_rec260pe_df_ols_filtered.head()"
   ]
  },
  {
   "cell_type": "code",
   "execution_count": 9,
   "metadata": {
    "collapsed": true
   },
   "outputs": [],
   "source": [
    "module_name = r'REC250PE'\n",
    "p = re.compile(module_name, re.IGNORECASE)"
   ]
  },
  {
   "cell_type": "code",
   "execution_count": 10,
   "metadata": {
    "collapsed": false
   },
   "outputs": [],
   "source": [
    "#create dummies for modules\n",
    "def pv_dummy(row, module_templ):\n",
    "    if not pd.isnull(row['Module_Model_1']):\n",
    "        if module_templ.search(row['Module_Model_1']):\n",
    "            val = 1\n",
    "        else:\n",
    "            val = 0\n",
    "    else:\n",
    "        val = 0\n",
    "    return val"
   ]
  },
  {
   "cell_type": "code",
   "execution_count": 11,
   "metadata": {
    "collapsed": false
   },
   "outputs": [],
   "source": [
    "ss_df[module_name + '_dummy'] = ss_df.apply (lambda row: pv_dummy (row, p),axis=1)"
   ]
  },
  {
   "cell_type": "code",
   "execution_count": 14,
   "metadata": {
    "collapsed": false
   },
   "outputs": [
    {
     "name": "stdout",
     "output_type": "stream",
     "text": [
      "                            OLS Regression Results                            \n",
      "==============================================================================\n",
      "Dep. Variable:      Total_System_Cost   R-squared:                       0.866\n",
      "Model:                            OLS   Adj. R-squared:                  0.862\n",
      "Method:                 Least Squares   F-statistic:                     185.3\n",
      "Date:                Tue, 05 Apr 2016   Prob (F-statistic):               0.00\n",
      "Time:                        18:32:42   Log-Likelihood:                -62131.\n",
      "No. Observations:                6300   AIC:                         1.247e+05\n",
      "Df Residuals:                    6086   BIC:                         1.261e+05\n",
      "Df Model:                         213                                         \n",
      "Covariance Type:            nonrobust                                         \n",
      "=================================================================================================================================\n",
      "                                                                    coef    std err          t      P>|t|      [95.0% Conf. Int.]\n",
      "---------------------------------------------------------------------------------------------------------------------------------\n",
      "Intercept                                                       337.8379   3059.708      0.110      0.912     -5660.273  6335.949\n",
      "C(Utility)[T.SCE]                                             -1612.3015    472.207     -3.414      0.001     -2537.995  -686.608\n",
      "C(Utility)[T.SDGE]                                            -1636.9089    473.000     -3.461      0.001     -2564.157  -709.661\n",
      "C(Inverter_Model_1)[T.Fronius Primo 3.8-1 @ 240 VAC]           1697.5714   2985.810      0.569      0.570     -4155.673  7550.816\n",
      "C(Inverter_Model_1)[T.Fronius Primo 3.8-1 @ 240 VAC (240V)]     721.3860   2739.707      0.263      0.792     -4649.409  6092.181\n",
      "C(Inverter_Model_1)[T.Fronius Primo 5.0-1 @ 240 VAC]           3136.6715   3104.555      1.010      0.312     -2949.354  9222.697\n",
      "C(Inverter_Model_1)[T.Fronius Primo 5.0-1 @ 240 VAC (240V)]    2446.3779   2751.345      0.889      0.374     -2947.233  7839.989\n",
      "C(Inverter_Model_1)[T.Fronius Primo 6.0-1 @ 208 VAC (208V)]    3324.3341   5468.299      0.608      0.543     -7395.467   1.4e+04\n",
      "C(Inverter_Model_1)[T.Fronius Primo 6.0-1 @ 240 VAC]           3583.9233   3482.061      1.029      0.303     -3242.148  1.04e+04\n",
      "C(Inverter_Model_1)[T.Fronius Primo 6.0-1 @ 240 VAC (240V)]    3557.4894   2761.850      1.288      0.198     -1856.714  8971.692\n",
      "C(Inverter_Model_1)[T.Fronius Primo 7.6-1 @ 240 VAC]           5125.9830   2784.227      1.841      0.066      -332.086  1.06e+04\n",
      "C(Inverter_Model_1)[T.Fronius Primo 7.6-1 @ 240 VAC (240V)]    5297.5084   2767.916      1.914      0.056      -128.587  1.07e+04\n",
      "C(Inverter_Model_1)[T.Fronius Primo 8.2-1 @ 240 VAC]           6287.6537   2950.795      2.131      0.033       503.051  1.21e+04\n",
      "C(Inverter_Model_1)[T.Fronius Primo 8.2-1 @ 240 VAC (240V)]    6769.8105   2916.341      2.321      0.020      1052.750  1.25e+04\n",
      "C(Inverter_Model_1)[T.Generic Inverter]                        3552.5114   3109.539      1.142      0.253     -2543.286  9648.308\n",
      "C(Inverter_Model_1)[T.IG 2000 NEG]                            -7475.7989   5466.381     -1.368      0.171     -1.82e+04  3240.242\n",
      "C(Inverter_Model_1)[T.IG Plus 10.0-240]                        1.599e+04   5516.780      2.899      0.004      5176.556  2.68e+04\n",
      "C(Inverter_Model_1)[T.IG Plus 10.0-240 (240V)]                 1.901e+04   4501.488      4.224      0.000      1.02e+04  2.78e+04\n",
      "C(Inverter_Model_1)[T.IG Plus 11.4-240 (240V)]                 9427.1622   4350.724      2.167      0.030       898.204   1.8e+04\n",
      "C(Inverter_Model_1)[T.IG Plus 11.4-3 Delta-240]                4.717e+04   6474.900      7.285      0.000      3.45e+04  5.99e+04\n",
      "C(Inverter_Model_1)[T.IG Plus 3.8-240]                         1968.2468   5478.406      0.359      0.719     -8771.368  1.27e+04\n",
      "C(Inverter_Model_1)[T.IG Plus 7.5-240]                         3186.9618   4328.524      0.736      0.462     -5298.477  1.17e+04\n",
      "C(Inverter_Model_1)[T.IG Plus 7.5-240 (240V)]                  8938.7568   3661.727      2.441      0.015      1760.477  1.61e+04\n",
      "C(Inverter_Model_1)[T.IG Plus A 10.0-240]                      8056.5343   4352.370      1.851      0.064      -475.650  1.66e+04\n",
      "C(Inverter_Model_1)[T.IG Plus A 10.0-240 (240V)]               9967.2421   3302.270      3.018      0.003      3493.625  1.64e+04\n",
      "C(Inverter_Model_1)[T.IG Plus A 11.4 (240)]                   -5.284e+04   6076.164     -8.696      0.000     -6.47e+04 -4.09e+04\n",
      "C(Inverter_Model_1)[T.IG Plus A 11.4-240]                       1.44e+04   4401.391      3.272      0.001      5771.276   2.3e+04\n",
      "C(Inverter_Model_1)[T.IG Plus A 11.4-240 (240V)]               9721.5050   3389.149      2.868      0.004      3077.574  1.64e+04\n",
      "C(Inverter_Model_1)[T.IG Plus A 3.8-240]                       1343.5072   5566.596      0.241      0.809     -9568.991  1.23e+04\n",
      "C(Inverter_Model_1)[T.IG Plus A 7.5-240]                       2240.5679   3066.333      0.731      0.465     -3770.530  8251.666\n",
      "C(Inverter_Model_1)[T.IG Plus A 7.5-240 (240V)]                5481.6117   3427.990      1.599      0.110     -1238.463  1.22e+04\n",
      "C(Inverter_Model_1)[T.IG Plus V 10.0-240]                      5814.3570   5480.339      1.061      0.289     -4929.047  1.66e+04\n",
      "C(Inverter_Model_1)[T.IG Plus V 3.0-240]                      -1.515e+04   5471.346     -2.769      0.006     -2.59e+04 -4425.057\n",
      "C(Inverter_Model_1)[T.MICRO-0.3-I-OUTD-US-240 (240V)]          -753.5114   5500.327     -0.137      0.891     -1.15e+04     1e+04\n",
      "C(Inverter_Model_1)[T.PVI 3.0 OUTD-S-US-Z-M (240 V)]           2684.5160   3875.077      0.693      0.488     -4912.007  1.03e+04\n",
      "C(Inverter_Model_1)[T.PVI 3.0 OUTD-S-US-Z-M (240V)]             848.7599   3353.781      0.253      0.800     -5725.837  7423.357\n",
      "C(Inverter_Model_1)[T.PVI 3.0 OUTD-S-US-Z-M-A (240 V)]         -513.1565   2873.376     -0.179      0.858     -6145.990  5119.677\n",
      "C(Inverter_Model_1)[T.PVI 3.0 OUTD-S-US-Z-M-A (240V)]           -39.2075   2803.572     -0.014      0.989     -5535.201  5456.786\n",
      "C(Inverter_Model_1)[T.PVI 3.6 OUTD-S-US-Z-M (240V)]             271.4234   5465.781      0.050      0.960     -1.04e+04   1.1e+04\n",
      "C(Inverter_Model_1)[T.PVI 3.6 OUTD-S-US-Z-M-A (240 V)]          429.4481   2903.598      0.148      0.882     -5262.631  6121.527\n",
      "C(Inverter_Model_1)[T.PVI 3.6 OUTD-S-US-Z-M-A (240V)]          1074.7090   2939.719      0.366      0.715     -4688.180  6837.598\n",
      "C(Inverter_Model_1)[T.PVI 4.2 OUTD-S-US-Z-M (240 V)]           1676.0725   5468.918      0.306      0.759     -9044.942  1.24e+04\n",
      "C(Inverter_Model_1)[T.PVI 4.2 OUTD-S-US-Z-M (240V)]            1039.8435   5660.437      0.184      0.854     -1.01e+04  1.21e+04\n",
      "C(Inverter_Model_1)[T.PVI 4.2 OUTD-S-US-Z-M-A (240 V)]         -766.7399   3278.875     -0.234      0.815     -7194.494  5661.015\n",
      "C(Inverter_Model_1)[T.PVI 4.2 OUTD-S-US-Z-M-A (240V)]          1921.5253   3161.523      0.608      0.543     -4276.179  8119.229\n",
      "C(Inverter_Model_1)[T.PVI 5000 OUTD-US-Z-M (240V)]             1268.4677   4354.472      0.291      0.771     -7267.838  9804.774\n",
      "C(Inverter_Model_1)[T.PVI 5000 OUTD-US-Z-M-A (240 V)]          1533.1375   3374.907      0.454      0.650     -5082.874  8149.149\n",
      "C(Inverter_Model_1)[T.PVI 5000 OUTD-US-Z-M-A (240V)]           2288.2476   3165.016      0.723      0.470     -3916.303  8492.798\n",
      "C(Inverter_Model_1)[T.PVI 6000 OUTD-US-Z-M (240V)]             2513.2788   5467.828      0.460      0.646     -8205.598  1.32e+04\n",
      "C(Inverter_Model_1)[T.PVI 6000 OUTD-US-Z-M-A (240 V)]          4816.5451   3632.584      1.326      0.185     -2304.604  1.19e+04\n",
      "C(Inverter_Model_1)[T.PVI 6000 OUTD-US-Z-M-A (240V)]           2725.3387   3897.543      0.699      0.484     -4915.225  1.04e+04\n",
      "C(Inverter_Model_1)[T.PVI-3.0-OUTD-S-US (240 V)]                786.0448   3289.521      0.239      0.811     -5662.580  7234.669\n",
      "C(Inverter_Model_1)[T.PVI-3.0-OUTD-S-US (240V)]                 400.3512   2811.521      0.142      0.887     -5111.226  5911.928\n",
      "C(Inverter_Model_1)[T.PVI-3.0-OUTD-S-US-A (240V)]               506.7295   3891.250      0.130      0.896     -7121.498  8134.957\n",
      "C(Inverter_Model_1)[T.PVI-3.0-OUTD-S-US-Z (240 V)]             1830.9296   4331.006      0.423      0.672     -6659.376  1.03e+04\n",
      "C(Inverter_Model_1)[T.PVI-3.0-OUTD-S-US-Z-A (208V)]             635.7839   5465.727      0.116      0.907     -1.01e+04  1.14e+04\n",
      "C(Inverter_Model_1)[T.PVI-3.0-OUTD-S-US-Z-A (240V)]              22.9031   2742.981      0.008      0.993     -5354.310  5400.116\n",
      "C(Inverter_Model_1)[T.PVI-3.0-OUTD-US (208 V)]                 -794.9096   3869.690     -0.205      0.837     -8380.870  6791.051\n",
      "C(Inverter_Model_1)[T.PVI-3.0-OUTD-US (240 V)]                -4719.8840   3674.074     -1.285      0.199     -1.19e+04  2482.601\n",
      "C(Inverter_Model_1)[T.PVI-3.6-OUTD-S-US (240 V)]               1481.4514   4331.306      0.342      0.732     -7009.441  9972.343\n",
      "C(Inverter_Model_1)[T.PVI-3.6-OUTD-S-US-A (240V)]               856.0402   4324.251      0.198      0.843     -7621.023  9333.103\n",
      "C(Inverter_Model_1)[T.PVI-3.6-OUTD-S-US-Z (240 V)]              465.8902   4324.378      0.108      0.914     -8011.420  8943.200\n",
      "C(Inverter_Model_1)[T.PVI-3.6-OUTD-S-US-Z-A (240V)]            1883.1311   2746.237      0.686      0.493     -3500.466  7266.728\n",
      "C(Inverter_Model_1)[T.PVI-3.6-OUTD-US (240 V)]                 1794.8784   4334.958      0.414      0.679     -6703.173  1.03e+04\n",
      "C(Inverter_Model_1)[T.PVI-3.8-OUTD-S-US (240V)]               -1.799e+04   4350.744     -4.134      0.000     -2.65e+04 -9458.748\n",
      "C(Inverter_Model_1)[T.PVI-3.8-OUTD-S-US-Z-A (240V)]            1972.9063   3476.333      0.568      0.570     -4841.937  8787.750\n",
      "C(Inverter_Model_1)[T.PVI-4.2-OUTD-S-US (240 V)]              -9155.5111   3656.696     -2.504      0.012     -1.63e+04 -1987.092\n",
      "C(Inverter_Model_1)[T.PVI-4.2-OUTD-S-US (240V)]                1801.9764   5493.207      0.328      0.743     -8966.653  1.26e+04\n",
      "C(Inverter_Model_1)[T.PVI-4.2-OUTD-S-US-Z (240V)]              1970.9816   5471.602      0.360      0.719     -8755.295  1.27e+04\n",
      "C(Inverter_Model_1)[T.PVI-4.2-OUTD-S-US-Z-A (240V)]            1824.8955   2751.256      0.663      0.507     -3568.540  7218.331\n",
      "C(Inverter_Model_1)[T.PVI-4.2-OUTD-US (240V)]                 -3058.0597   4391.538     -0.696      0.486     -1.17e+04  5550.908\n",
      "C(Inverter_Model_1)[T.PVI-5000-OUTD-S-US-Z-A (240 V)]          1621.6859   2881.161      0.563      0.574     -4026.410  7269.781\n",
      "C(Inverter_Model_1)[T.PVI-5000-OUTD-S-US-Z-A (240V)]           3400.1474   2826.118      1.203      0.229     -2140.045  8940.340\n",
      "C(Inverter_Model_1)[T.PVI-5000-OUTD-US (208V)]                 1413.1280   5478.762      0.258      0.796     -9327.185  1.22e+04\n",
      "C(Inverter_Model_1)[T.PVI-5000-OUTD-US (240V)]                 5491.1454   3218.856      1.706      0.088      -818.952  1.18e+04\n",
      "C(Inverter_Model_1)[T.PVI-5000-OUTD-US-Z (240V)]               1676.0725   5468.918      0.306      0.759     -9044.942  1.24e+04\n",
      "C(Inverter_Model_1)[T.PVI-5000-OUTD-US-Z-A (208V)]             1516.4250   5479.395      0.277      0.782     -9225.129  1.23e+04\n",
      "C(Inverter_Model_1)[T.PVI-5000-OUTD-US-Z-A (240V)]             2627.3008   2753.349      0.954      0.340     -2770.238  8024.839\n",
      "C(Inverter_Model_1)[T.PVI-6000-OUTD-S-US-Z-A (240 V)]          1203.9265   2874.620      0.419      0.675     -4431.346  6839.199\n",
      "C(Inverter_Model_1)[T.PVI-6000-OUTD-S-US-Z-A (240V)]           4732.4355   2797.924      1.691      0.091      -752.486  1.02e+04\n",
      "C(Inverter_Model_1)[T.PVI-6000-OUTD-US (208V)]                 5892.7351   5481.257      1.075      0.282     -4852.468  1.66e+04\n",
      "C(Inverter_Model_1)[T.PVI-6000-OUTD-US (240V)]                 4891.0738   3627.829      1.348      0.178     -2220.754   1.2e+04\n",
      "C(Inverter_Model_1)[T.PVI-6000-OUTD-US-A (240V)]              -1.095e+04   4512.870     -2.426      0.015     -1.98e+04 -2102.102\n",
      "C(Inverter_Model_1)[T.PVI-6000-OUTD-US-Z-A (240V)]             3956.6544   2755.913      1.436      0.151     -1445.910  9359.219\n",
      "C(Inverter_Model_1)[T.SB5000US (240V)]                        -2015.7502   6027.682     -0.334      0.738     -1.38e+04  9800.639\n",
      "C(Inverter_Model_1)[T.SE 10000A-US (240V)]                     7126.2739   3171.155      2.247      0.025       909.689  1.33e+04\n",
      "C(Inverter_Model_1)[T.SE 11400A-US (240V)]                     1.153e+04   5488.837      2.101      0.036       773.916  2.23e+04\n",
      "C(Inverter_Model_1)[T.SE 7600A-US (240V)]                      6442.9360   2832.943      2.274      0.023       889.365   1.2e+04\n",
      "C(Inverter_Model_1)[T.SE3000 (240V) w/ -ER-US or A-US]         -335.5187   2779.767     -0.121      0.904     -5784.845  5113.808\n",
      "C(Inverter_Model_1)[T.SE3000 (240V) w/ -ER-US or A-US (240V)]  -153.5353   2765.256     -0.056      0.956     -5574.415  5267.345\n",
      "C(Inverter_Model_1)[T.SE3000A-US (240)]                       -1037.0012   5466.412     -0.190      0.850     -1.18e+04  9679.101\n",
      "C(Inverter_Model_1)[T.SE3300 (240V) w/ -ER-US or A-US (240V)]   840.1237   3878.342      0.217      0.829     -6762.799  8443.046\n",
      "C(Inverter_Model_1)[T.SE3800 (240V) w/ -ER-US or A-US]          518.7976   2779.329      0.187      0.852     -4929.670  5967.265\n",
      "C(Inverter_Model_1)[T.SE3800 (240V) w/ -ER-US or A-US (240V)]  1056.0150   2790.214      0.378      0.705     -4413.791  6525.821\n",
      "C(Inverter_Model_1)[T.SE5000 (240V) w/ -ER-US or A-US]         2776.8912   2795.221      0.993      0.321     -2702.731  8256.513\n",
      "C(Inverter_Model_1)[T.SE5000 (240V) w/ -ER-US or A-US (240V)]  1810.8188   2786.616      0.650      0.516     -3651.935  7273.573\n",
      "C(Inverter_Model_1)[T.SE5000A-US (240V)]                       2602.6328   4360.563      0.597      0.551     -5945.613  1.12e+04\n",
      "C(Inverter_Model_1)[T.SE6000 (240V) w/ -ER-US or A-US]         4687.6923   2854.305      1.642      0.101      -907.755  1.03e+04\n",
      "C(Inverter_Model_1)[T.SE6000 (240V) w/ -ER-US or A-US (240V)]  3098.1151   2797.760      1.107      0.268     -2386.485  8582.716\n",
      "C(Inverter_Model_1)[T.SE6000 (277V) w/ -ER-US or A-US]         2510.9699   5527.767      0.454      0.650     -8325.409  1.33e+04\n",
      "C(Inverter_Model_1)[T.SE7600 (240V)]                           3901.5272   2894.468      1.348      0.178     -1772.654  9575.708\n",
      "C(Inverter_Model_1)[T.XW6048-120/240-60]                      -4447.0142   6024.507     -0.738      0.460     -1.63e+04  7363.151\n",
      "C(Service_County)[T.Amador]                                    1200.3580   2442.190      0.492      0.623     -3587.198  5987.914\n",
      "C(Service_County)[T.Butte]                                      254.7360    836.047      0.305      0.761     -1384.212  1893.685\n",
      "C(Service_County)[T.Calaveras]                                  831.3788   1481.088      0.561      0.575     -2072.078  3734.836\n",
      "C(Service_County)[T.Colusa]                                     101.9032   1396.942      0.073      0.942     -2636.598  2840.404\n",
      "C(Service_County)[T.Contra Costa]                               379.7102    400.269      0.949      0.343      -404.959  1164.380\n",
      "C(Service_County)[T.El Dorado]                                  670.0516    816.698      0.820      0.412      -930.965  2271.068\n",
      "C(Service_County)[T.Fresno]                                     872.4923    462.526      1.886      0.059       -34.222  1779.206\n",
      "C(Service_County)[T.Glenn]                                      256.2950   2389.835      0.107      0.915     -4428.627  4941.217\n",
      "C(Service_County)[T.Kern]                                       119.7009    515.230      0.232      0.816      -890.332  1129.733\n",
      "C(Service_County)[T.Kings]                                      961.4706    866.790      1.109      0.267      -737.745  2660.686\n",
      "C(Service_County)[T.Lake]                                       826.8985   1129.894      0.732      0.464     -1388.094  3041.891\n",
      "C(Service_County)[T.Los Angeles]                               1025.6295    638.427      1.606      0.108      -225.914  2277.173\n",
      "C(Service_County)[T.Madera]                                    2141.6575    954.575      2.244      0.025       270.353  4012.962\n",
      "C(Service_County)[T.Marin]                                      884.1346    932.263      0.948      0.343      -943.431  2711.701\n",
      "C(Service_County)[T.Mariposa]                                   593.2732   1954.696      0.304      0.762     -3238.623  4425.169\n",
      "C(Service_County)[T.Mendocino]                                  436.3199   3361.985      0.130      0.897     -6154.359  7026.999\n",
      "C(Service_County)[T.Merced]                                    1037.5620    568.901      1.824      0.068       -77.685  2152.809\n",
      "C(Service_County)[T.Monterey]                                  -260.0916    442.314     -0.588      0.557     -1127.184   607.000\n",
      "C(Service_County)[T.Napa]                                       158.5008    833.930      0.190      0.849     -1476.298  1793.299\n",
      "C(Service_County)[T.Nevada]                                     546.5354   1524.075      0.359      0.720     -2441.191  3534.262\n",
      "C(Service_County)[T.ORANGE]                                    -669.2158    657.916     -1.017      0.309     -1958.964   620.532\n",
      "C(Service_County)[T.Orange]                                     723.6111    676.054      1.070      0.285      -601.695  2048.917\n",
      "C(Service_County)[T.Placer]                                    1131.5293    782.774      1.446      0.148      -402.984  2666.043\n",
      "C(Service_County)[T.Riverside]                                 -169.1286    644.148     -0.263      0.793     -1431.887  1093.629\n",
      "C(Service_County)[T.SAN DIEGO]                                 -967.6931    386.638     -2.503      0.012     -1725.640  -209.747\n",
      "C(Service_County)[T.San Benito]                                 419.4668   1199.127      0.350      0.726     -1931.247  2770.180\n",
      "C(Service_County)[T.San Bernardino]                            1029.1874    643.859      1.598      0.110      -233.004  2291.379\n",
      "C(Service_County)[T.San Francisco]                             -392.4566    725.572     -0.541      0.589     -1814.835  1029.921\n",
      "C(Service_County)[T.San Joaquin]                                784.0071    443.244      1.769      0.077       -84.907  1652.921\n",
      "C(Service_County)[T.San Luis Obispo]                           -285.8027    463.339     -0.617      0.537     -1194.112   622.506\n",
      "C(Service_County)[T.San Mateo]                                  -32.5004    570.188     -0.057      0.955     -1150.271  1085.270\n",
      "C(Service_County)[T.Santa Barbara]                             -126.5368    479.922     -0.264      0.792     -1067.354   814.280\n",
      "C(Service_County)[T.Santa Clara]                                373.6730    428.173      0.873      0.383      -465.697  1213.043\n",
      "C(Service_County)[T.Santa Cruz]                                 367.9134    670.048      0.549      0.583      -945.617  1681.444\n",
      "C(Service_County)[T.Shasta]                                    2692.6300   1544.205      1.744      0.081      -334.558  5719.818\n",
      "C(Service_County)[T.Solano]                                     584.6133    550.937      1.061      0.289      -495.418  1664.645\n",
      "C(Service_County)[T.Sonoma]                                     617.8778    707.825      0.873      0.383      -769.710  2005.466\n",
      "C(Service_County)[T.Stanislaus]                                 978.6530    913.137      1.072      0.284      -811.419  2768.725\n",
      "C(Service_County)[T.Sutter]                                     506.8332    838.226      0.605      0.545     -1136.386  2150.052\n",
      "C(Service_County)[T.Tehama]                                     436.1234   1457.827      0.299      0.765     -2421.733  3293.979\n",
      "C(Service_County)[T.Tulare]                                     691.6580    631.951      1.094      0.274      -547.189  1930.505\n",
      "C(Service_County)[T.Tuolumne]                                  -112.6816   1613.761     -0.070      0.944     -3276.225  3050.862\n",
      "C(Service_County)[T.Ventura]                                    -49.3726    741.381     -0.067      0.947     -1502.742  1403.996\n",
      "C(Service_County)[T.Yolo]                                        69.8795    771.277      0.091      0.928     -1442.097  1581.856\n",
      "C(Service_County)[T.Yuba]                                       303.7143   1139.963      0.266      0.790     -1931.016  2538.445\n",
      "C(Module_Model_1)[T.CS6P-255PX]                               -2523.2531   2234.341     -1.129      0.259     -6903.352  1856.845\n",
      "C(Module_Model_1)[T.Generic Module Model]                     -1.992e+04   2848.544     -6.994      0.000     -2.55e+04 -1.43e+04\n",
      "C(Module_Model_1)[T.KD210GX-LPU]                               1934.0055   4910.439      0.394      0.694     -7692.192  1.16e+04\n",
      "C(Module_Model_1)[T.KD215GX-LPU]                               7534.5785   4924.169      1.530      0.126     -2118.535  1.72e+04\n",
      "C(Module_Model_1)[T.KD225GX-LPB]                               -582.4656   3592.587     -0.162      0.871     -7625.208  6460.277\n",
      "C(Module_Model_1)[T.KD250GX-LFB3]                              3403.2881   2795.774      1.217      0.224     -2077.417  8883.994\n",
      "C(Module_Model_1)[T.KD255GX-LFB3]                             -3039.9315   1673.775     -1.816      0.069     -6321.123   241.260\n",
      "C(Module_Model_1)[T.KD255GX-LPB3]                              4258.5593   4906.223      0.868      0.385     -5359.374  1.39e+04\n",
      "C(Module_Model_1)[T.KD260GX-LFB2]                              3373.0801   4923.476      0.685      0.493     -6278.675   1.3e+04\n",
      "C(Module_Model_1)[T.KD265GX-LFB2]                              3760.1527   4904.777      0.767      0.443     -5854.945  1.34e+04\n",
      "C(Module_Model_1)[T.KU255-6BCA]                                5133.7936   3068.011      1.673      0.094      -880.594  1.11e+04\n",
      "C(Module_Model_1)[T.KU255-6XCA]                                1520.2614   1367.923      1.111      0.266     -1161.351  4201.874\n",
      "C(Module_Model_1)[T.KU255-6XPA]                                 814.7028   1915.161      0.425      0.671     -2939.691  4569.097\n",
      "C(Module_Model_1)[T.KU255-6ZPA]                                3164.4151   2325.740      1.361      0.174     -1394.859  7723.689\n",
      "C(Module_Model_1)[T.KU260-6XPA]                                1916.4046   1309.951      1.463      0.144      -651.562  4484.371\n",
      "C(Module_Model_1)[T.KU260-6ZPA]                                4927.2416   2056.927      2.395      0.017       894.937  8959.547\n",
      "C(Module_Model_1)[T.KU265-6XPA]                                3154.7485   1630.921      1.934      0.053       -42.433  6351.930\n",
      "C(Module_Model_1)[T.KU265-6ZCA]                                3857.2480   4987.967      0.773      0.439     -5920.931  1.36e+04\n",
      "C(Module_Model_1)[T.KU265-6ZPA]                                3443.2371   1304.915      2.639      0.008       885.142  6001.332\n",
      "C(Module_Model_1)[T.KU265-6ZPE]                                3054.4393   3590.479      0.851      0.395     -3984.171  1.01e+04\n",
      "C(Module_Model_1)[T.KU270-6XPA]                                3236.2858   4970.277      0.651      0.515     -6507.216   1.3e+04\n",
      "C(Module_Model_1)[T.OPT260-60-4-1B0]                           1481.0401   4958.944      0.299      0.765     -8240.246  1.12e+04\n",
      "C(Module_Model_1)[T.OPT265-60-4-1B0]                           1181.8122   3051.706      0.387      0.699     -4800.611  7164.235\n",
      "C(Module_Model_1)[T.OPT270-60-4-1B0]                           7600.8500   1836.619      4.139      0.000      4000.427  1.12e+04\n",
      "C(Module_Model_1)[T.PM060M00_270]                              1.275e+04   3026.527      4.213      0.000      6818.934  1.87e+04\n",
      "C(Module_Model_1)[T.PM245P01_250]                              1610.8940   2525.800      0.638      0.524     -3340.569  6562.357\n",
      "C(Module_Model_1)[T.PM245P01_260]                              1327.5308   4913.347      0.270      0.787     -8304.368   1.1e+04\n",
      "C(Module_Model_1)[T.PM250M01_260]                              1967.3593   4930.210      0.399      0.690     -7697.598  1.16e+04\n",
      "C(Module_Model_1)[T.REC205PE]                                  8367.6671   3591.106      2.330      0.020      1327.828  1.54e+04\n",
      "C(Module_Model_1)[T.REC230PE]                                  3825.9569   4907.897      0.780      0.436     -5795.258  1.34e+04\n",
      "C(Module_Model_1)[T.REC250PE]                                  1724.5217   4911.389      0.351      0.726     -7903.539  1.14e+04\n",
      "C(Module_Model_1)[T.REC250PE Z-LINK]                          -6618.2440   5031.927     -1.315      0.188     -1.65e+04  3246.114\n",
      "C(Module_Model_1)[T.REC250PE-US ECO]                           4005.5074   4909.283      0.816      0.415     -5618.425  1.36e+04\n",
      "C(Module_Model_1)[T.REC255PE Z-LINK]                           2100.2873   4912.131      0.428      0.669     -7529.227  1.17e+04\n",
      "C(Module_Model_1)[T.REC255PE-US(BLK)]                          1268.1522   4921.214      0.258      0.797     -8379.168  1.09e+04\n",
      "C(Module_Model_1)[T.REC260PE]                                  2312.1302   1310.768      1.764      0.078      -257.439  4881.700\n",
      "C(Module_Model_1)[T.REC260PE Q2]                               2225.2159   4914.465      0.453      0.651     -7408.874  1.19e+04\n",
      "C(Module_Model_1)[T.REC260PE Q3]                               3457.7311   4928.275      0.702      0.483     -6203.431  1.31e+04\n",
      "C(Module_Model_1)[T.REC260PE Z-LINK]                           2191.4826   1354.455      1.618      0.106      -463.728  4846.693\n",
      "C(Module_Model_1)[T.REC260PE-US]                               1572.1632   1459.844      1.077      0.282     -1289.647  4433.974\n",
      "C(Module_Model_1)[T.REC265PE]                                  1452.6509   4946.333      0.294      0.769     -8243.912  1.11e+04\n",
      "C(Module_Model_1)[T.REC265PE Z-LINK]                            673.0558   3646.087      0.185      0.854     -6474.566  7820.678\n",
      "C(Module_Model_1)[T.TSM-225PA05.18]                            3376.6529   4946.970      0.683      0.495     -6321.159  1.31e+04\n",
      "C(Module_Model_1)[T.TSM-240PA05]                               2426.6288   4936.679      0.492      0.623     -7251.008  1.21e+04\n",
      "C(Module_Model_1)[T.TSM-240PA05.05]                             400.3512   2811.521      0.142      0.887     -5111.226  5911.928\n",
      "C(Module_Model_1)[T.TSM-240PA05.10]                            2533.5978   4939.460      0.513      0.608     -7149.492  1.22e+04\n",
      "C(Module_Model_1)[T.TSM-245PA05.18]                            1926.3539   3036.487      0.634      0.526     -4026.235  7878.943\n",
      "C(Module_Model_1)[T.TSM-250PA05.18]                            2347.2772   1888.581      1.243      0.214     -1355.009  6049.563\n",
      "C(Module_Model_1)[T.TSM-250PA05A.18]                           1401.8166   3594.167      0.390      0.697     -5644.022  8447.656\n",
      "C(Module_Model_1)[T.TSM-250PD05.18]                            5290.2096   3048.178      1.736      0.083      -685.297  1.13e+04\n",
      "C(Module_Model_1)[T.TSM-255PA05.18]                            2046.1719   1413.873      1.447      0.148      -725.519  4817.862\n",
      "C(Module_Model_1)[T.TSM-255PA05A.10]                           2593.1946   5158.554      0.503      0.615     -7519.396  1.27e+04\n",
      "C(Module_Model_1)[T.TSM-255PA05A.18]                          -5018.5312   2210.271     -2.271      0.023     -9351.445  -685.618\n",
      "C(Module_Model_1)[T.TSM-255PD05.18]                            3206.6569   1985.445      1.615      0.106      -685.517  7098.831\n",
      "C(Module_Model_1)[T.TSM-260PA05.18]                            2348.8341   1738.374      1.351      0.177     -1058.994  5756.662\n",
      "C(Module_Model_1)[T.TSM-260PA05A.18]                           5111.6410   3030.601      1.687      0.092      -829.410  1.11e+04\n",
      "C(Module_Model_1)[T.TSM-260PD05.18]                            3462.3680   4908.470      0.705      0.481     -6159.969  1.31e+04\n",
      "C(Module_Model_1)[T.Triex U-280 SleekBlack]                    2400.7765   1821.457      1.318      0.188     -1169.924  5971.477\n",
      "C(Module_Model_1)[T.Triex U290]                                1704.8439   3590.791      0.475      0.635     -5334.377  8744.065\n",
      "C(Module_Model_1)[T.Triex U290 Black]                          2272.2376   2718.742      0.836      0.403     -3057.458  7601.933\n",
      "C(Module_Model_1)[T.Triex U310 Black]                          1.629e+04   5095.557      3.197      0.001      6300.879  2.63e+04\n",
      "C(Module_Model_1)[T.YL230P-29b]                               -3062.5786   5412.285     -0.566      0.572     -1.37e+04  7547.415\n",
      "C(Module_Model_1)[T.YL240P-29b]                                4309.0637   3054.778      1.411      0.158     -1679.381  1.03e+04\n",
      "C(Module_Model_1)[T.YL245P-29b]                                2261.5800   3596.440      0.629      0.529     -4788.715  9311.875\n",
      "C(Module_Model_1)[T.YL250P-29b]                                -129.4134   2218.733     -0.058      0.953     -4478.916  4220.089\n",
      "C(Module_Model_1)[T.YL255P-29b]                                1478.2448   1507.642      0.981      0.327     -1477.267  4433.757\n",
      "System_Size_DC                                                 4454.9465    111.320     40.019      0.000      4236.719  4673.174\n",
      "System_Size_DC_Sqr                                              -12.3087      6.979     -1.764      0.078       -25.990     1.372\n",
      "Module_Quantity_1                                                72.0788      5.393     13.366      0.000        61.507    82.650\n",
      "==============================================================================\n",
      "Omnibus:                     7819.146   Durbin-Watson:                   1.957\n",
      "Prob(Omnibus):                  0.000   Jarque-Bera (JB):         13714637.023\n",
      "Skew:                           5.780   Prob(JB):                         0.00\n",
      "Kurtosis:                     231.282   Cond. No.                     6.30e+16\n",
      "==============================================================================\n",
      "\n",
      "Warnings:\n",
      "[1] Standard Errors assume that the covariance matrix of the errors is correctly specified.\n",
      "[2] The smallest eigenvalue is 4.09e-27. This might indicate that there are\n",
      "strong multicollinearity problems or that the design matrix is singular.\n"
     ]
    }
   ],
   "source": [
    "res = sm.ols(formula=\"Total_System_Cost~System_Size_DC+System_Size_DC_Sqr+Module_Quantity_1+\\\n",
    "                    C(Utility)+C(Inverter_Model_1)+C(Service_County)+C(Module_Model_1)\", \\\n",
    "             data=ss_df[ss_df['Total_System_Cost'] < 180000]).fit()\n",
    "print(res.summary())"
   ]
  },
  {
   "cell_type": "code",
   "execution_count": 19,
   "metadata": {
    "collapsed": false
   },
   "outputs": [],
   "source": [
    "y, X = dmatrices('Total_System_Cost~System_Size_DC+System_Size_DC_Sqr+\\\n",
    "                Module_Quantity_1+C(Utility)+C(Inverter_Model_1)+C(Service_County)+C(Module_Model_1)', \\\n",
    "                 data=ss_df[ss_df['Total_System_Cost'] < 180000],\n",
    "                    return_type = 'dataframe')"
   ]
  },
  {
   "cell_type": "code",
   "execution_count": 69,
   "metadata": {
    "collapsed": false
   },
   "outputs": [
    {
     "name": "stdout",
     "output_type": "stream",
     "text": [
      "(0, 'Intercept')\n",
      "(1, 'C(Utility)[T.SCE]')\n",
      "(2, 'C(Utility)[T.SDGE]')\n",
      "(3, 'C(Inverter_Model_1)[T.Fronius Primo 3.8-1 @ 240 VAC]')\n",
      "(4, 'C(Inverter_Model_1)[T.Fronius Primo 3.8-1 @ 240 VAC (240V)]')\n",
      "(5, 'C(Inverter_Model_1)[T.Fronius Primo 5.0-1 @ 240 VAC]')\n",
      "(6, 'C(Inverter_Model_1)[T.Fronius Primo 5.0-1 @ 240 VAC (240V)]')\n",
      "(7, 'C(Inverter_Model_1)[T.Fronius Primo 6.0-1 @ 208 VAC (208V)]')\n",
      "(8, 'C(Inverter_Model_1)[T.Fronius Primo 6.0-1 @ 240 VAC]')\n",
      "(9, 'C(Inverter_Model_1)[T.Fronius Primo 6.0-1 @ 240 VAC (240V)]')\n",
      "(10, 'C(Inverter_Model_1)[T.Fronius Primo 7.6-1 @ 240 VAC]')\n",
      "(11, 'C(Inverter_Model_1)[T.Fronius Primo 7.6-1 @ 240 VAC (240V)]')\n",
      "(12, 'C(Inverter_Model_1)[T.Fronius Primo 8.2-1 @ 240 VAC]')\n",
      "(13, 'C(Inverter_Model_1)[T.Fronius Primo 8.2-1 @ 240 VAC (240V)]')\n",
      "(14, 'C(Inverter_Model_1)[T.Generic Inverter]')\n",
      "(15, 'C(Inverter_Model_1)[T.IG 2000 NEG]')\n",
      "(16, 'C(Inverter_Model_1)[T.IG Plus 10.0-240]')\n",
      "(17, 'C(Inverter_Model_1)[T.IG Plus 10.0-240 (240V)]')\n",
      "(18, 'C(Inverter_Model_1)[T.IG Plus 11.4-240 (240V)]')\n",
      "(19, 'C(Inverter_Model_1)[T.IG Plus 11.4-3 Delta-240]')\n",
      "(20, 'C(Inverter_Model_1)[T.IG Plus 3.8-240]')\n",
      "(21, 'C(Inverter_Model_1)[T.IG Plus 7.5-240]')\n",
      "(22, 'C(Inverter_Model_1)[T.IG Plus 7.5-240 (240V)]')\n",
      "(23, 'C(Inverter_Model_1)[T.IG Plus A 10.0-240]')\n",
      "(24, 'C(Inverter_Model_1)[T.IG Plus A 10.0-240 (240V)]')\n",
      "(25, 'C(Inverter_Model_1)[T.IG Plus A 11.4 (240)]')\n",
      "(26, 'C(Inverter_Model_1)[T.IG Plus A 11.4-240]')\n",
      "(27, 'C(Inverter_Model_1)[T.IG Plus A 11.4-240 (240V)]')\n",
      "(28, 'C(Inverter_Model_1)[T.IG Plus A 3.8-240]')\n",
      "(29, 'C(Inverter_Model_1)[T.IG Plus A 7.5-240]')\n",
      "(30, 'C(Inverter_Model_1)[T.IG Plus A 7.5-240 (240V)]')\n",
      "(31, 'C(Inverter_Model_1)[T.IG Plus V 10.0-240]')\n",
      "(32, 'C(Inverter_Model_1)[T.IG Plus V 3.0-240]')\n",
      "(33, 'C(Inverter_Model_1)[T.MICRO-0.3-I-OUTD-US-240 (240V)]')\n",
      "(34, 'C(Inverter_Model_1)[T.PVI 3.0 OUTD-S-US-Z-M (240 V)]')\n",
      "(35, 'C(Inverter_Model_1)[T.PVI 3.0 OUTD-S-US-Z-M (240V)]')\n",
      "(36, 'C(Inverter_Model_1)[T.PVI 3.0 OUTD-S-US-Z-M-A (240 V)]')\n",
      "(37, 'C(Inverter_Model_1)[T.PVI 3.0 OUTD-S-US-Z-M-A (240V)]')\n",
      "(38, 'C(Inverter_Model_1)[T.PVI 3.6 OUTD-S-US-Z-M (240V)]')\n",
      "(39, 'C(Inverter_Model_1)[T.PVI 3.6 OUTD-S-US-Z-M-A (240 V)]')\n",
      "(40, 'C(Inverter_Model_1)[T.PVI 3.6 OUTD-S-US-Z-M-A (240V)]')\n",
      "(41, 'C(Inverter_Model_1)[T.PVI 4.2 OUTD-S-US-Z-M (240 V)]')\n",
      "(42, 'C(Inverter_Model_1)[T.PVI 4.2 OUTD-S-US-Z-M (240V)]')\n",
      "(43, 'C(Inverter_Model_1)[T.PVI 4.2 OUTD-S-US-Z-M-A (240 V)]')\n",
      "(44, 'C(Inverter_Model_1)[T.PVI 4.2 OUTD-S-US-Z-M-A (240V)]')\n",
      "(45, 'C(Inverter_Model_1)[T.PVI 5000 OUTD-US-Z-M (240V)]')\n",
      "(46, 'C(Inverter_Model_1)[T.PVI 5000 OUTD-US-Z-M-A (240 V)]')\n",
      "(47, 'C(Inverter_Model_1)[T.PVI 5000 OUTD-US-Z-M-A (240V)]')\n",
      "(48, 'C(Inverter_Model_1)[T.PVI 6000 OUTD-US-Z-M (240V)]')\n",
      "(49, 'C(Inverter_Model_1)[T.PVI 6000 OUTD-US-Z-M-A (240 V)]')\n",
      "(50, 'C(Inverter_Model_1)[T.PVI 6000 OUTD-US-Z-M-A (240V)]')\n",
      "(51, 'C(Inverter_Model_1)[T.PVI-3.0-OUTD-S-US (240 V)]')\n",
      "(52, 'C(Inverter_Model_1)[T.PVI-3.0-OUTD-S-US (240V)]')\n",
      "(53, 'C(Inverter_Model_1)[T.PVI-3.0-OUTD-S-US-A (240V)]')\n",
      "(54, 'C(Inverter_Model_1)[T.PVI-3.0-OUTD-S-US-Z (240 V)]')\n",
      "(55, 'C(Inverter_Model_1)[T.PVI-3.0-OUTD-S-US-Z-A (208V)]')\n",
      "(56, 'C(Inverter_Model_1)[T.PVI-3.0-OUTD-S-US-Z-A (240V)]')\n",
      "(57, 'C(Inverter_Model_1)[T.PVI-3.0-OUTD-US (208 V)]')\n",
      "(58, 'C(Inverter_Model_1)[T.PVI-3.0-OUTD-US (240 V)]')\n",
      "(59, 'C(Inverter_Model_1)[T.PVI-3.6-OUTD-S-US (240 V)]')\n",
      "(60, 'C(Inverter_Model_1)[T.PVI-3.6-OUTD-S-US-A (240V)]')\n",
      "(61, 'C(Inverter_Model_1)[T.PVI-3.6-OUTD-S-US-Z (240 V)]')\n",
      "(62, 'C(Inverter_Model_1)[T.PVI-3.6-OUTD-S-US-Z-A (240V)]')\n",
      "(63, 'C(Inverter_Model_1)[T.PVI-3.6-OUTD-US (240 V)]')\n",
      "(64, 'C(Inverter_Model_1)[T.PVI-3.8-OUTD-S-US (240V)]')\n",
      "(65, 'C(Inverter_Model_1)[T.PVI-3.8-OUTD-S-US-Z-A (240V)]')\n",
      "(66, 'C(Inverter_Model_1)[T.PVI-4.2-OUTD-S-US (240 V)]')\n",
      "(67, 'C(Inverter_Model_1)[T.PVI-4.2-OUTD-S-US (240V)]')\n",
      "(68, 'C(Inverter_Model_1)[T.PVI-4.2-OUTD-S-US-Z (240V)]')\n",
      "(69, 'C(Inverter_Model_1)[T.PVI-4.2-OUTD-S-US-Z-A (240V)]')\n",
      "(70, 'C(Inverter_Model_1)[T.PVI-4.2-OUTD-US (240V)]')\n",
      "(71, 'C(Inverter_Model_1)[T.PVI-5000-OUTD-S-US-Z-A (240 V)]')\n",
      "(72, 'C(Inverter_Model_1)[T.PVI-5000-OUTD-S-US-Z-A (240V)]')\n",
      "(73, 'C(Inverter_Model_1)[T.PVI-5000-OUTD-US (208V)]')\n",
      "(74, 'C(Inverter_Model_1)[T.PVI-5000-OUTD-US (240V)]')\n",
      "(75, 'C(Inverter_Model_1)[T.PVI-5000-OUTD-US-Z (240V)]')\n",
      "(76, 'C(Inverter_Model_1)[T.PVI-5000-OUTD-US-Z-A (208V)]')\n",
      "(77, 'C(Inverter_Model_1)[T.PVI-5000-OUTD-US-Z-A (240V)]')\n",
      "(78, 'C(Inverter_Model_1)[T.PVI-6000-OUTD-S-US-Z-A (240 V)]')\n",
      "(79, 'C(Inverter_Model_1)[T.PVI-6000-OUTD-S-US-Z-A (240V)]')\n",
      "(80, 'C(Inverter_Model_1)[T.PVI-6000-OUTD-US (208V)]')\n",
      "(81, 'C(Inverter_Model_1)[T.PVI-6000-OUTD-US (240V)]')\n",
      "(82, 'C(Inverter_Model_1)[T.PVI-6000-OUTD-US-A (240V)]')\n",
      "(83, 'C(Inverter_Model_1)[T.PVI-6000-OUTD-US-Z-A (240V)]')\n",
      "(84, 'C(Inverter_Model_1)[T.SB5000US (240V)]')\n",
      "(85, 'C(Inverter_Model_1)[T.SE 10000A-US (240V)]')\n",
      "(86, 'C(Inverter_Model_1)[T.SE 11400A-US (240V)]')\n",
      "(87, 'C(Inverter_Model_1)[T.SE 7600A-US (240V)]')\n",
      "(88, 'C(Inverter_Model_1)[T.SE3000 (240V) w/ -ER-US or A-US]')\n",
      "(89, 'C(Inverter_Model_1)[T.SE3000 (240V) w/ -ER-US or A-US (240V)]')\n",
      "(90, 'C(Inverter_Model_1)[T.SE3000A-US (240)]')\n",
      "(91, 'C(Inverter_Model_1)[T.SE3300 (240V) w/ -ER-US or A-US (240V)]')\n",
      "(92, 'C(Inverter_Model_1)[T.SE3800 (240V) w/ -ER-US or A-US]')\n",
      "(93, 'C(Inverter_Model_1)[T.SE3800 (240V) w/ -ER-US or A-US (240V)]')\n",
      "(94, 'C(Inverter_Model_1)[T.SE5000 (240V) w/ -ER-US or A-US]')\n",
      "(95, 'C(Inverter_Model_1)[T.SE5000 (240V) w/ -ER-US or A-US (240V)]')\n",
      "(96, 'C(Inverter_Model_1)[T.SE5000A-US (240V)]')\n",
      "(97, 'C(Inverter_Model_1)[T.SE6000 (240V) w/ -ER-US or A-US]')\n",
      "(98, 'C(Inverter_Model_1)[T.SE6000 (240V) w/ -ER-US or A-US (240V)]')\n",
      "(99, 'C(Inverter_Model_1)[T.SE6000 (277V) w/ -ER-US or A-US]')\n",
      "(100, 'C(Inverter_Model_1)[T.SE7600 (240V)]')\n",
      "(101, 'C(Inverter_Model_1)[T.XW6048-120/240-60]')\n",
      "(102, 'C(Service_County)[T.Amador]')\n",
      "(103, 'C(Service_County)[T.Butte]')\n",
      "(104, 'C(Service_County)[T.Calaveras]')\n",
      "(105, 'C(Service_County)[T.Colusa]')\n",
      "(106, 'C(Service_County)[T.Contra Costa]')\n",
      "(107, 'C(Service_County)[T.El Dorado]')\n",
      "(108, 'C(Service_County)[T.Fresno]')\n",
      "(109, 'C(Service_County)[T.Glenn]')\n",
      "(110, 'C(Service_County)[T.Kern]')\n",
      "(111, 'C(Service_County)[T.Kings]')\n",
      "(112, 'C(Service_County)[T.Lake]')\n",
      "(113, 'C(Service_County)[T.Los Angeles]')\n",
      "(114, 'C(Service_County)[T.Madera]')\n",
      "(115, 'C(Service_County)[T.Marin]')\n",
      "(116, 'C(Service_County)[T.Mariposa]')\n",
      "(117, 'C(Service_County)[T.Mendocino]')\n",
      "(118, 'C(Service_County)[T.Merced]')\n",
      "(119, 'C(Service_County)[T.Monterey]')\n",
      "(120, 'C(Service_County)[T.Napa]')\n",
      "(121, 'C(Service_County)[T.Nevada]')\n",
      "(122, 'C(Service_County)[T.ORANGE]')\n",
      "(123, 'C(Service_County)[T.Orange]')\n",
      "(124, 'C(Service_County)[T.Placer]')\n",
      "(125, 'C(Service_County)[T.Riverside]')\n",
      "(126, 'C(Service_County)[T.SAN DIEGO]')\n",
      "(127, 'C(Service_County)[T.San Benito]')\n",
      "(128, 'C(Service_County)[T.San Bernardino]')\n",
      "(129, 'C(Service_County)[T.San Francisco]')\n",
      "(130, 'C(Service_County)[T.San Joaquin]')\n",
      "(131, 'C(Service_County)[T.San Luis Obispo]')\n",
      "(132, 'C(Service_County)[T.San Mateo]')\n",
      "(133, 'C(Service_County)[T.Santa Barbara]')\n",
      "(134, 'C(Service_County)[T.Santa Clara]')\n",
      "(135, 'C(Service_County)[T.Santa Cruz]')\n",
      "(136, 'C(Service_County)[T.Shasta]')\n",
      "(137, 'C(Service_County)[T.Solano]')\n",
      "(138, 'C(Service_County)[T.Sonoma]')\n",
      "(139, 'C(Service_County)[T.Stanislaus]')\n",
      "(140, 'C(Service_County)[T.Sutter]')\n",
      "(141, 'C(Service_County)[T.Tehama]')\n",
      "(142, 'C(Service_County)[T.Tulare]')\n",
      "(143, 'C(Service_County)[T.Tuolumne]')\n",
      "(144, 'C(Service_County)[T.Ventura]')\n",
      "(145, 'C(Service_County)[T.Yolo]')\n",
      "(146, 'C(Service_County)[T.Yuba]')\n",
      "(147, 'System_Size_DC')\n",
      "(148, 'System_Size_DC_Sqr')\n",
      "(149, 'Module_Quantity_1')\n",
      "(150, 'System_Size_DC*C(Module_Model_1)[T.CS6P-255PX]')\n",
      "(151, 'System_Size_DC*C(Module_Model_1)[T.Generic Module Model]')\n",
      "(152, 'System_Size_DC*C(Module_Model_1)[T.KD210GX-LPU]')\n",
      "(153, 'System_Size_DC*C(Module_Model_1)[T.KD215GX-LPU]')\n",
      "(154, 'System_Size_DC*C(Module_Model_1)[T.KD225GX-LPB]')\n",
      "(155, 'System_Size_DC*C(Module_Model_1)[T.KD250GX-LFB3]')\n",
      "(156, 'System_Size_DC*C(Module_Model_1)[T.KD255GX-LFB3]')\n",
      "(157, 'System_Size_DC*C(Module_Model_1)[T.KD260GX-LFB2]')\n",
      "(158, 'System_Size_DC*C(Module_Model_1)[T.KD265GX-LFB2]')\n",
      "(159, 'System_Size_DC*C(Module_Model_1)[T.KU255-6BCA]')\n",
      "(160, 'System_Size_DC*C(Module_Model_1)[T.KU260-6XPA]')\n",
      "(161, 'System_Size_DC*C(Module_Model_1)[T.KU265-6XPA]')\n",
      "(162, 'System_Size_DC*C(Module_Model_1)[T.KU270-6XPA]')\n",
      "(163, 'System_Size_DC*C(Module_Model_1)[T.OPT260-60-4-1B0]')\n",
      "(164, 'System_Size_DC*C(Module_Model_1)[T.OPT265-60-4-1B0]')\n",
      "(165, 'System_Size_DC*C(Module_Model_1)[T.OPT270-60-4-1B0]')\n",
      "(166, 'System_Size_DC*C(Module_Model_1)[T.PM060M00_270]')\n",
      "(167, 'System_Size_DC*C(Module_Model_1)[T.PM245P01_250]')\n",
      "(168, 'System_Size_DC*C(Module_Model_1)[T.PM250M01_260]')\n",
      "(169, 'System_Size_DC*C(Module_Model_1)[T.REC205PE]')\n",
      "(170, 'System_Size_DC*C(Module_Model_1)[T.REC230PE]')\n",
      "(171, 'System_Size_DC*C(Module_Model_1)[T.REC250PE]')\n",
      "(172, 'System_Size_DC*C(Module_Model_1)[T.REC255PE Z-LINK]')\n",
      "(173, 'System_Size_DC*C(Module_Model_1)[T.REC260PE]')\n",
      "(174, 'System_Size_DC*C(Module_Model_1)[T.REC265PE]')\n",
      "(175, 'System_Size_DC*C(Module_Model_1)[T.TSM-225PA05.18]')\n",
      "(176, 'System_Size_DC*C(Module_Model_1)[T.TSM-240PA05]')\n",
      "(177, 'System_Size_DC*C(Module_Model_1)[T.TSM-245PA05.18]')\n",
      "(178, 'System_Size_DC*C(Module_Model_1)[T.TSM-250PA05.18]')\n",
      "(179, 'System_Size_DC*C(Module_Model_1)[T.TSM-255PA05.18]')\n",
      "(180, 'System_Size_DC*C(Module_Model_1)[T.TSM-260PA05.18]')\n",
      "(181, 'System_Size_DC*C(Module_Model_1)[T.Triex U-280 SleekBlack]')\n",
      "(182, 'System_Size_DC*C(Module_Model_1)[T.Triex U290]')\n",
      "(183, 'System_Size_DC*C(Module_Model_1)[T.Triex U310 Black]')\n",
      "(184, 'System_Size_DC*C(Module_Model_1)[T.YL230P-29b]')\n",
      "(185, 'System_Size_DC*C(Module_Model_1)[T.YL240P-29b]')\n",
      "(186, 'System_Size_DC*C(Module_Model_1)[T.YL245P-29b]')\n",
      "(187, 'System_Size_DC*C(Module_Model_1)[T.YL250P-29b]')\n",
      "(188, 'System_Size_DC*C(Module_Model_1)[T.YL255P-29b]')\n"
     ]
    }
   ],
   "source": [
    "print_columns(X1)"
   ]
  },
  {
   "cell_type": "code",
   "execution_count": null,
   "metadata": {
    "collapsed": true
   },
   "outputs": [],
   "source": [
    "X['C(Module_Model_1)[T.REC260PE]'] = X['C(Module_Model_1)[T.REC260PE]'] + \\\n",
    "                                    X['C(Module_Model_1)[T.REC260PE Q2]'] + \\\n",
    "                                    X['C(Module_Model_1)[T.REC260PE Q3]'] + \\\n",
    "                                    X['C(Module_Model_1)[T.REC260PE Z-LINK]'] + \\\n",
    "                                    X['C(Module_Model_1)[T.REC260PE-US]']"
   ]
  },
  {
   "cell_type": "code",
   "execution_count": 25,
   "metadata": {
    "collapsed": false
   },
   "outputs": [],
   "source": [
    "module_name = ['C(Module_Model_1)[T.REC260PE]', \\\n",
    "                'C(Module_Model_1)[T.REC260PE Q2]', \\\n",
    "                'C(Module_Model_1)[T.REC260PE Q3]', \\\n",
    "                'C(Module_Model_1)[T.REC260PE Z-LINK]', \\\n",
    "                'C(Module_Model_1)[T.REC260PE-US]']"
   ]
  },
  {
   "cell_type": "code",
   "execution_count": 26,
   "metadata": {
    "collapsed": true
   },
   "outputs": [],
   "source": [
    "X['C(Module_Model_1)[T.REC260PE]'] = X[module_name].sum(axis=1)"
   ]
  },
  {
   "cell_type": "code",
   "execution_count": 31,
   "metadata": {
    "collapsed": false
   },
   "outputs": [],
   "source": [
    "_ = X.drop(module_name[1:], axis=1, inplace = True)"
   ]
  },
  {
   "cell_type": "code",
   "execution_count": 36,
   "metadata": {
    "collapsed": false
   },
   "outputs": [],
   "source": [
    "module_name = X.columns[157:161]\n",
    "X[module_name[0]] = X[module_name].sum(axis=1)\n",
    "_ = X.drop(module_name[1:], axis=1, inplace = True)"
   ]
  },
  {
   "cell_type": "code",
   "execution_count": 70,
   "metadata": {
    "collapsed": false
   },
   "outputs": [
    {
     "name": "stdout",
     "output_type": "stream",
     "text": [
      "                            OLS Regression Results                            \n",
      "==============================================================================\n",
      "Dep. Variable:      Total_System_Cost   R-squared:                       0.871\n",
      "Model:                            OLS   Adj. R-squared:                  0.867\n",
      "Method:                 Least Squares   F-statistic:                     219.7\n",
      "Date:                Tue, 05 Apr 2016   Prob (F-statistic):               0.00\n",
      "Time:                        19:38:02   Log-Likelihood:                -62033.\n",
      "No. Observations:                6300   AIC:                         1.244e+05\n",
      "Df Residuals:                    6112   BIC:                         1.257e+05\n",
      "Df Model:                         187                                         \n",
      "Covariance Type:            nonrobust                                         \n",
      "=================================================================================================================================\n",
      "                                                                    coef    std err          t      P>|t|      [95.0% Conf. Int.]\n",
      "---------------------------------------------------------------------------------------------------------------------------------\n",
      "Intercept                                                      1802.5387   2717.765      0.663      0.507     -3525.238  7130.315\n",
      "C(Utility)[T.SCE]                                             -1292.3310    456.697     -2.830      0.005     -2187.617  -397.045\n",
      "C(Utility)[T.SDGE]                                             -242.5362    421.439     -0.575      0.565     -1068.706   583.633\n",
      "C(Inverter_Model_1)[T.Fronius Primo 3.8-1 @ 240 VAC]           1007.4808   2932.877      0.344      0.731     -4741.991  6756.953\n",
      "C(Inverter_Model_1)[T.Fronius Primo 3.8-1 @ 240 VAC (240V)]     534.9608   2691.531      0.199      0.842     -4741.388  5811.310\n",
      "C(Inverter_Model_1)[T.Fronius Primo 5.0-1 @ 240 VAC]           2530.2754   3050.119      0.830      0.407     -3449.031  8509.582\n",
      "C(Inverter_Model_1)[T.Fronius Primo 5.0-1 @ 240 VAC (240V)]    1788.9038   2703.549      0.662      0.508     -3511.005  7088.812\n",
      "C(Inverter_Model_1)[T.Fronius Primo 6.0-1 @ 208 VAC (208V)]    2377.3401   5373.201      0.442      0.658     -8156.027  1.29e+04\n",
      "C(Inverter_Model_1)[T.Fronius Primo 6.0-1 @ 240 VAC]           2699.4997   3417.961      0.790      0.430     -4000.907  9399.906\n",
      "C(Inverter_Model_1)[T.Fronius Primo 6.0-1 @ 240 VAC (240V)]    2774.4546   2714.111      1.022      0.307     -2546.159  8095.068\n",
      "C(Inverter_Model_1)[T.Fronius Primo 7.6-1 @ 240 VAC]           4516.0492   2736.383      1.650      0.099      -848.225  9880.324\n",
      "C(Inverter_Model_1)[T.Fronius Primo 7.6-1 @ 240 VAC (240V)]    4264.1937   2720.326      1.568      0.117     -1068.603  9596.990\n",
      "C(Inverter_Model_1)[T.Fronius Primo 8.2-1 @ 240 VAC]           5898.1734   2901.223      2.033      0.042       210.755  1.16e+04\n",
      "C(Inverter_Model_1)[T.Fronius Primo 8.2-1 @ 240 VAC (240V)]    5344.7069   2867.558      1.864      0.062      -276.717   1.1e+04\n",
      "C(Inverter_Model_1)[T.Generic Inverter]                        3381.7801   3044.911      1.111      0.267     -2587.317  9350.877\n",
      "C(Inverter_Model_1)[T.IG 2000 NEG]                            -7657.4471   5370.209     -1.426      0.154     -1.82e+04  2870.054\n",
      "C(Inverter_Model_1)[T.IG Plus 10.0-240]                        1.271e+04   5429.760      2.341      0.019      2065.748  2.34e+04\n",
      "C(Inverter_Model_1)[T.IG Plus 10.0-240 (240V)]                 1.588e+04   4437.573      3.578      0.000      7176.702  2.46e+04\n",
      "C(Inverter_Model_1)[T.IG Plus 11.4-240 (240V)]                 7762.8183   4276.330      1.815      0.070      -620.294  1.61e+04\n",
      "C(Inverter_Model_1)[T.IG Plus 11.4-3 Delta-240]                5.848e+04   6471.420      9.037      0.000      4.58e+04  7.12e+04\n",
      "C(Inverter_Model_1)[T.IG Plus 3.8-240]                         1087.9274   5382.334      0.202      0.840     -9463.343  1.16e+04\n",
      "C(Inverter_Model_1)[T.IG Plus 7.5-240]                         3579.1642   4252.776      0.842      0.400     -4757.775  1.19e+04\n",
      "C(Inverter_Model_1)[T.IG Plus 7.5-240 (240V)]                  7223.7570   3600.001      2.007      0.045       166.487  1.43e+04\n",
      "C(Inverter_Model_1)[T.IG Plus A 10.0-240]                      6771.2800   4277.631      1.583      0.113     -1614.384  1.52e+04\n",
      "C(Inverter_Model_1)[T.IG Plus A 10.0-240 (240V)]               7673.7434   3255.880      2.357      0.018      1291.071  1.41e+04\n",
      "C(Inverter_Model_1)[T.IG Plus A 11.4 (240)]                    7240.5104   9817.145      0.738      0.461      -1.2e+04  2.65e+04\n",
      "C(Inverter_Model_1)[T.IG Plus A 11.4-240]                      1.757e+04   4292.800      4.092      0.000      9150.069   2.6e+04\n",
      "C(Inverter_Model_1)[T.IG Plus A 11.4-240 (240V)]               7464.1714   3336.368      2.237      0.025       923.715   1.4e+04\n",
      "C(Inverter_Model_1)[T.IG Plus A 3.8-240]                        180.1988   5383.474      0.033      0.973     -1.04e+04  1.07e+04\n",
      "C(Inverter_Model_1)[T.IG Plus A 7.5-240]                       3024.2308   3004.775      1.006      0.314     -2866.187  8914.649\n",
      "C(Inverter_Model_1)[T.IG Plus A 7.5-240 (240V)]                4389.7767   3370.879      1.302      0.193     -2218.334   1.1e+04\n",
      "C(Inverter_Model_1)[T.IG Plus V 10.0-240]                      5183.4349   5390.516      0.962      0.336     -5383.875  1.58e+04\n",
      "C(Inverter_Model_1)[T.IG Plus V 3.0-240]                      -1.545e+04   5375.517     -2.875      0.004      -2.6e+04 -4916.841\n",
      "C(Inverter_Model_1)[T.MICRO-0.3-I-OUTD-US-240 (240V)]          -602.0704   5403.844     -0.111      0.911     -1.12e+04  9991.367\n",
      "C(Inverter_Model_1)[T.PVI 3.0 OUTD-S-US-Z-M (240 V)]           2231.2605   3806.867      0.586      0.558     -5231.539  9694.060\n",
      "C(Inverter_Model_1)[T.PVI 3.0 OUTD-S-US-Z-M (240V)]             522.2914   3294.926      0.159      0.874     -5936.924  6981.507\n",
      "C(Inverter_Model_1)[T.PVI 3.0 OUTD-S-US-Z-M-A (240 V)]         -820.0167   2822.473     -0.291      0.771     -6353.059  4713.025\n",
      "C(Inverter_Model_1)[T.PVI 3.0 OUTD-S-US-Z-M-A (240V)]            47.6272   2750.057      0.017      0.986     -5343.453  5438.707\n",
      "C(Inverter_Model_1)[T.PVI 3.6 OUTD-S-US-Z-M (240V)]            -276.5365   5369.752     -0.051      0.959     -1.08e+04  1.03e+04\n",
      "C(Inverter_Model_1)[T.PVI 3.6 OUTD-S-US-Z-M-A (240 V)]          169.6031   2846.487      0.060      0.952     -5410.514  5749.720\n",
      "C(Inverter_Model_1)[T.PVI 3.6 OUTD-S-US-Z-M-A (240V)]           657.7542   2881.405      0.228      0.819     -4990.815  6306.324\n",
      "C(Inverter_Model_1)[T.PVI 4.2 OUTD-S-US-Z-M (240 V)]           1107.6096   5372.974      0.206      0.837     -9425.312  1.16e+04\n",
      "C(Inverter_Model_1)[T.PVI 4.2 OUTD-S-US-Z-M (240V)]             725.6018   5561.308      0.130      0.896     -1.02e+04  1.16e+04\n",
      "C(Inverter_Model_1)[T.PVI 4.2 OUTD-S-US-Z-M-A (240 V)]        -1077.2916   3220.983     -0.334      0.738     -7391.553  5236.970\n",
      "C(Inverter_Model_1)[T.PVI 4.2 OUTD-S-US-Z-M-A (240V)]          1409.5851   3105.868      0.454      0.650     -4679.011  7498.181\n",
      "C(Inverter_Model_1)[T.PVI 5000 OUTD-US-Z-M (240V)]              526.8479   4251.109      0.124      0.901     -7806.822  8860.518\n",
      "C(Inverter_Model_1)[T.PVI 5000 OUTD-US-Z-M-A (240 V)]          1711.9292   3305.448      0.518      0.605     -4767.912  8191.771\n",
      "C(Inverter_Model_1)[T.PVI 5000 OUTD-US-Z-M-A (240V)]           1515.5999   3107.390      0.488      0.626     -4575.979  7607.179\n",
      "C(Inverter_Model_1)[T.PVI 6000 OUTD-US-Z-M (240V)]             1852.9891   5371.984      0.345      0.730     -8677.992  1.24e+04\n",
      "C(Inverter_Model_1)[T.PVI 6000 OUTD-US-Z-M-A (240 V)]          4192.1598   3569.692      1.174      0.240     -2805.694  1.12e+04\n",
      "C(Inverter_Model_1)[T.PVI 6000 OUTD-US-Z-M-A (240V)]           1996.1136   3827.271      0.522      0.602     -5506.686  9498.914\n",
      "C(Inverter_Model_1)[T.PVI-3.0-OUTD-S-US (240 V)]                -58.6054   3219.119     -0.018      0.985     -6369.213  6252.002\n",
      "C(Inverter_Model_1)[T.PVI-3.0-OUTD-S-US (240V)]                -419.0627   5430.677     -0.077      0.938     -1.11e+04  1.02e+04\n",
      "C(Inverter_Model_1)[T.PVI-3.0-OUTD-S-US-A (240V)]              -311.6003   3809.388     -0.082      0.935     -7779.342  7156.141\n",
      "C(Inverter_Model_1)[T.PVI-3.0-OUTD-S-US-Z (240 V)]             1263.3299   4250.856      0.297      0.766     -7069.845  9596.505\n",
      "C(Inverter_Model_1)[T.PVI-3.0-OUTD-S-US-Z-A (208V)]             116.8229   5369.587      0.022      0.983     -1.04e+04  1.06e+04\n",
      "C(Inverter_Model_1)[T.PVI-3.0-OUTD-S-US-Z-A (240V)]            -406.2142   2694.566     -0.151      0.880     -5688.512  4876.084\n",
      "C(Inverter_Model_1)[T.PVI-3.0-OUTD-US (208 V)]                -1391.9856   3801.856     -0.366      0.714     -8844.962  6060.991\n",
      "C(Inverter_Model_1)[T.PVI-3.0-OUTD-US (240 V)]                -4193.0145   3622.299     -1.158      0.247     -1.13e+04  2907.968\n",
      "C(Inverter_Model_1)[T.PVI-3.6-OUTD-S-US (240 V)]               1297.6636   4253.919      0.305      0.760     -7041.516  9636.843\n",
      "C(Inverter_Model_1)[T.PVI-3.6-OUTD-S-US-A (240V)]               497.7804   4248.414      0.117      0.907     -7830.608  8826.169\n",
      "C(Inverter_Model_1)[T.PVI-3.6-OUTD-S-US-Z (240 V)]              -55.1211   4248.278     -0.013      0.990     -8383.242  8273.000\n",
      "C(Inverter_Model_1)[T.PVI-3.6-OUTD-S-US-Z-A (240V)]            1439.2146   2697.713      0.533      0.594     -3849.253  6727.682\n",
      "C(Inverter_Model_1)[T.PVI-3.6-OUTD-US (240 V)]                  805.4055   4259.378      0.189      0.850     -7544.476  9155.287\n",
      "C(Inverter_Model_1)[T.PVI-3.8-OUTD-S-US (240V)]               -1.604e+04   4298.756     -3.731      0.000     -2.45e+04 -7612.353\n",
      "C(Inverter_Model_1)[T.PVI-3.8-OUTD-S-US-Z-A (240V)]            1492.0734   3413.986      0.437      0.662     -5200.541  8184.688\n",
      "C(Inverter_Model_1)[T.PVI-4.2-OUTD-S-US (240 V)]              -9721.3503   3596.464     -2.703      0.007     -1.68e+04 -2671.014\n",
      "C(Inverter_Model_1)[T.PVI-4.2-OUTD-S-US (240V)]                1233.2825   5397.407      0.228      0.819     -9347.536  1.18e+04\n",
      "C(Inverter_Model_1)[T.PVI-4.2-OUTD-S-US-Z (240V)]               894.8153   5375.761      0.166      0.868     -9643.571  1.14e+04\n",
      "C(Inverter_Model_1)[T.PVI-4.2-OUTD-S-US-Z-A (240V)]            1332.1441   2702.678      0.493      0.622     -3966.057  6630.345\n",
      "C(Inverter_Model_1)[T.PVI-4.2-OUTD-US (240V)]                 -2656.4665   4253.466     -0.625      0.532      -1.1e+04  5681.825\n",
      "C(Inverter_Model_1)[T.PVI-5000-OUTD-S-US-Z-A (240 V)]          1148.9865   2830.755      0.406      0.685     -4400.290  6698.263\n",
      "C(Inverter_Model_1)[T.PVI-5000-OUTD-S-US-Z-A (240V)]           2641.9370   2777.393      0.951      0.342     -2802.731  8086.605\n",
      "C(Inverter_Model_1)[T.PVI-5000-OUTD-US (208V)]                -1563.0858   5377.280     -0.291      0.771     -1.21e+04  8978.277\n",
      "C(Inverter_Model_1)[T.PVI-5000-OUTD-US (240V)]                 5548.6559   3161.875      1.755      0.079      -649.733  1.17e+04\n",
      "C(Inverter_Model_1)[T.PVI-5000-OUTD-US-Z (240V)]               1107.6096   5372.974      0.206      0.837     -9425.312  1.16e+04\n",
      "C(Inverter_Model_1)[T.PVI-5000-OUTD-US-Z-A (208V)]             2598.6954   5377.897      0.483      0.629     -7943.878  1.31e+04\n",
      "C(Inverter_Model_1)[T.PVI-5000-OUTD-US-Z-A (240V)]             2190.5569   2704.692      0.810      0.418     -3111.592  7492.706\n",
      "C(Inverter_Model_1)[T.PVI-6000-OUTD-S-US-Z-A (240 V)]           671.2488   2824.195      0.238      0.812     -4865.168  6207.666\n",
      "C(Inverter_Model_1)[T.PVI-6000-OUTD-S-US-Z-A (240V)]           4056.2742   2750.113      1.475      0.140     -1334.916  9447.465\n",
      "C(Inverter_Model_1)[T.PVI-6000-OUTD-US (208V)]                 6284.0342   5385.234      1.167      0.243     -4272.921  1.68e+04\n",
      "C(Inverter_Model_1)[T.PVI-6000-OUTD-US (240V)]                 5474.8667   3566.695      1.535      0.125     -1517.112  1.25e+04\n",
      "C(Inverter_Model_1)[T.PVI-6000-OUTD-US-A (240V)]                933.8771   4796.356      0.195      0.846     -8468.670  1.03e+04\n",
      "C(Inverter_Model_1)[T.PVI-6000-OUTD-US-Z-A (240V)]             3575.4425   2707.175      1.321      0.187     -1731.575  8882.460\n",
      "C(Inverter_Model_1)[T.SB5000US (240V)]                        -1111.8616   5898.088     -0.189      0.850     -1.27e+04  1.05e+04\n",
      "C(Inverter_Model_1)[T.SE 10000A-US (240V)]                     6146.0452   3115.863      1.973      0.049        37.856  1.23e+04\n",
      "C(Inverter_Model_1)[T.SE 11400A-US (240V)]                     9118.4697   5397.726      1.689      0.091     -1462.975  1.97e+04\n",
      "C(Inverter_Model_1)[T.SE 7600A-US (240V)]                      6532.6296   2783.576      2.347      0.019      1075.841   1.2e+04\n",
      "C(Inverter_Model_1)[T.SE3000 (240V) w/ -ER-US or A-US]         -913.0214   2731.043     -0.334      0.738     -6266.828  4440.785\n",
      "C(Inverter_Model_1)[T.SE3000 (240V) w/ -ER-US or A-US (240V)]  -125.7103   2715.904     -0.046      0.963     -5449.838  5198.418\n",
      "C(Inverter_Model_1)[T.SE3000A-US (240)]                        -615.5802   5370.786     -0.115      0.909     -1.11e+04  9913.052\n",
      "C(Inverter_Model_1)[T.SE3300 (240V) w/ -ER-US or A-US (240V)]   473.4704   3803.131      0.124      0.901     -6982.005  7928.946\n",
      "C(Inverter_Model_1)[T.SE3800 (240V) w/ -ER-US or A-US]           19.4385   2730.406      0.007      0.994     -5333.118  5371.995\n",
      "C(Inverter_Model_1)[T.SE3800 (240V) w/ -ER-US or A-US (240V)]   737.0666   2740.277      0.269      0.788     -4634.841  6108.974\n",
      "C(Inverter_Model_1)[T.SE5000 (240V) w/ -ER-US or A-US]         2398.9221   2745.705      0.874      0.382     -2983.628  7781.472\n",
      "C(Inverter_Model_1)[T.SE5000 (240V) w/ -ER-US or A-US (240V)]  1260.8286   2737.815      0.461      0.645     -4106.253  6627.910\n",
      "C(Inverter_Model_1)[T.SE5000A-US (240V)]                       2378.8548   4278.641      0.556      0.578     -6008.789  1.08e+04\n",
      "C(Inverter_Model_1)[T.SE6000 (240V) w/ -ER-US or A-US]         4498.7323   2802.876      1.605      0.109      -995.892  9993.357\n",
      "C(Inverter_Model_1)[T.SE6000 (240V) w/ -ER-US or A-US (240V)]  2386.7020   2749.072      0.868      0.385     -3002.448  7775.852\n",
      "C(Inverter_Model_1)[T.SE6000 (277V) w/ -ER-US or A-US]         1545.8060   5422.527      0.285      0.776     -9084.257  1.22e+04\n",
      "C(Inverter_Model_1)[T.SE7600 (240V)]                           2888.2021   2845.026      1.015      0.310     -2689.051  8465.455\n",
      "C(Inverter_Model_1)[T.XW6048-120/240-60]                      -1126.5144   5995.004     -0.188      0.851     -1.29e+04  1.06e+04\n",
      "C(Service_County)[T.Amador]                                     638.7925   2399.337      0.266      0.790     -4064.754  5342.339\n",
      "C(Service_County)[T.Butte]                                     -147.6318    822.266     -0.180      0.858     -1759.563  1464.299\n",
      "C(Service_County)[T.Calaveras]                                  669.3718   1449.052      0.462      0.644     -2171.281  3510.025\n",
      "C(Service_County)[T.Colusa]                                     -48.2253   1372.001     -0.035      0.972     -2737.830  2641.379\n",
      "C(Service_County)[T.Contra Costa]                                96.6238    391.978      0.247      0.805      -671.792   865.039\n",
      "C(Service_County)[T.El Dorado]                                  349.3878    804.958      0.434      0.664     -1228.614  1927.390\n",
      "C(Service_County)[T.Fresno]                                     348.6715    454.939      0.766      0.443      -543.169  1240.512\n",
      "C(Service_County)[T.Glenn]                                      -89.4841   2347.848     -0.038      0.970     -4692.093  4513.125\n",
      "C(Service_County)[T.Kern]                                      2274.9249    441.861      5.149      0.000      1408.721  3141.129\n",
      "C(Service_County)[T.Kings]                                      307.5102    850.205      0.362      0.718     -1359.190  1974.211\n",
      "C(Service_County)[T.Lake]                                       492.5514   1107.893      0.445      0.657     -1679.310  2664.413\n",
      "C(Service_County)[T.Los Angeles]                               2862.0368    591.736      4.837      0.000      1702.026  4022.047\n",
      "C(Service_County)[T.Madera]                                    1546.5556    939.009      1.647      0.100      -294.232  3387.344\n",
      "C(Service_County)[T.Marin]                                      555.2832    911.804      0.609      0.543     -1232.174  2342.741\n",
      "C(Service_County)[T.Mariposa]                                   318.9493   1918.761      0.166      0.868     -3442.499  4080.397\n",
      "C(Service_County)[T.Mendocino]                                 -345.8443   3303.997     -0.105      0.917     -6822.841  6131.153\n",
      "C(Service_County)[T.Merced]                                     592.0032    559.659      1.058      0.290      -505.126  1689.133\n",
      "C(Service_County)[T.Monterey]                                  -303.4097    431.386     -0.703      0.482     -1149.078   542.259\n",
      "C(Service_County)[T.Napa]                                       -45.3247    818.512     -0.055      0.956     -1649.897  1559.248\n",
      "C(Service_County)[T.Nevada]                                     266.7311   1497.144      0.178      0.859     -2668.199  3201.661\n",
      "C(Service_County)[T.ORANGE]                                      42.5429    639.783      0.066      0.947     -1211.657  1296.743\n",
      "C(Service_County)[T.Orange]                                    2624.2173    631.861      4.153      0.000      1385.546  3862.888\n",
      "C(Service_County)[T.Placer]                                     932.0192    768.036      1.214      0.225      -573.601  2437.639\n",
      "C(Service_County)[T.Riverside]                                 1795.9745    601.422      2.986      0.003       616.975  2974.974\n",
      "C(Service_County)[T.SAN DIEGO]                                 -285.0791    366.709     -0.777      0.437     -1003.958   433.799\n",
      "C(Service_County)[T.San Benito]                                 178.0283   1174.406      0.152      0.880     -2124.221  2480.278\n",
      "C(Service_County)[T.San Bernardino]                            2889.0341    597.906      4.832      0.000      1716.928  4061.140\n",
      "C(Service_County)[T.San Francisco]                             -252.0761    710.926     -0.355      0.723     -1645.742  1141.590\n",
      "C(Service_County)[T.San Joaquin]                                505.6138    426.779      1.185      0.236      -331.023  1342.250\n",
      "C(Service_County)[T.San Luis Obispo]                            196.3176    445.588      0.441      0.660      -677.193  1069.828\n",
      "C(Service_County)[T.San Mateo]                                 -166.3377    558.815     -0.298      0.766     -1261.812   929.136\n",
      "C(Service_County)[T.Santa Barbara]                              506.7308    463.534      1.093      0.274      -401.959  1415.421\n",
      "C(Service_County)[T.Santa Clara]                                136.8970    418.892      0.327      0.744      -684.280   958.074\n",
      "C(Service_County)[T.Santa Cruz]                                 203.0961    659.128      0.308      0.758     -1089.026  1495.218\n",
      "C(Service_County)[T.Shasta]                                    1692.2896   1519.737      1.114      0.266     -1286.930  4671.509\n",
      "C(Service_County)[T.Solano]                                     328.3714    540.512      0.608      0.544      -731.222  1387.964\n",
      "C(Service_County)[T.Sonoma]                                     356.3574    689.853      0.517      0.605      -995.998  1708.713\n",
      "C(Service_County)[T.Stanislaus]                                 592.8395    899.881      0.659      0.510     -1171.244  2356.923\n",
      "C(Service_County)[T.Sutter]                                      98.8768    823.800      0.120      0.904     -1516.061  1713.815\n",
      "C(Service_County)[T.Tehama]                                     191.9562   1432.133      0.134      0.893     -2615.530  2999.442\n",
      "C(Service_County)[T.Tulare]                                     251.3111    619.460      0.406      0.685      -963.048  1465.671\n",
      "C(Service_County)[T.Tuolumne]                                  -441.9160   1502.588     -0.294      0.769     -3387.518  2503.685\n",
      "C(Service_County)[T.Ventura]                                   1800.3193    699.851      2.572      0.010       428.365  3172.274\n",
      "C(Service_County)[T.Yolo]                                        -6.8176    756.328     -0.009      0.993     -1489.487  1475.852\n",
      "C(Service_County)[T.Yuba]                                       -74.0507   1120.049     -0.066      0.947     -2269.742  2121.640\n",
      "System_Size_DC                                                 4014.8713    240.563     16.689      0.000      3543.284  4486.459\n",
      "System_Size_DC_Sqr                                              -17.6300      7.029     -2.508      0.012       -31.410    -3.850\n",
      "Module_Quantity_1                                                71.8132      5.277     13.609      0.000        61.469    82.158\n",
      "System_Size_DC*C(Module_Model_1)[T.CS6P-255PX]                 -452.1815    441.513     -1.024      0.306     -1317.702   413.339\n",
      "System_Size_DC*C(Module_Model_1)[T.Generic Module Model]      -4335.0157    522.841     -8.291      0.000     -5359.969 -3310.062\n",
      "System_Size_DC*C(Module_Model_1)[T.KD210GX-LPU]                 215.2662   1004.061      0.214      0.830     -1753.046  2183.579\n",
      "System_Size_DC*C(Module_Model_1)[T.KD215GX-LPU]                1120.9440    779.956      1.437      0.151      -408.045  2649.933\n",
      "System_Size_DC*C(Module_Model_1)[T.KD225GX-LPB]                -472.7773    776.649     -0.609      0.543     -1995.283  1049.729\n",
      "System_Size_DC*C(Module_Model_1)[T.KD250GX-LFB3]               -300.4424    499.736     -0.601      0.548     -1280.100   679.215\n",
      "System_Size_DC*C(Module_Model_1)[T.KD255GX-LFB3]              -1033.9459    271.901     -3.803      0.000     -1566.968  -500.923\n",
      "System_Size_DC*C(Module_Model_1)[T.KD260GX-LFB2]                572.2222   1808.639      0.316      0.752     -2973.347  4117.792\n",
      "System_Size_DC*C(Module_Model_1)[T.KD265GX-LFB2]                592.4991   1417.810      0.418      0.676     -2186.908  3371.907\n",
      "System_Size_DC*C(Module_Model_1)[T.KU255-6BCA]                   33.2563    226.961      0.147      0.884      -411.668   478.181\n",
      "System_Size_DC*C(Module_Model_1)[T.KU260-6XPA]                  152.0416    216.451      0.702      0.482      -272.279   576.363\n",
      "System_Size_DC*C(Module_Model_1)[T.KU265-6XPA]                  550.6252    216.368      2.545      0.011       126.468   974.782\n",
      "System_Size_DC*C(Module_Model_1)[T.KU270-6XPA]                  511.0275    681.581      0.750      0.453      -825.111  1847.166\n",
      "System_Size_DC*C(Module_Model_1)[T.OPT260-60-4-1B0]             632.3473   1032.477      0.612      0.540     -1391.671  2656.365\n",
      "System_Size_DC*C(Module_Model_1)[T.OPT265-60-4-1B0]             531.8634    702.015      0.758      0.449      -844.333  1908.060\n",
      "System_Size_DC*C(Module_Model_1)[T.OPT270-60-4-1B0]            1065.7591    297.188      3.586      0.000       483.166  1648.352\n",
      "System_Size_DC*C(Module_Model_1)[T.PM060M00_270]               1704.6158    389.492      4.377      0.000       941.075  2468.157\n",
      "System_Size_DC*C(Module_Model_1)[T.PM245P01_250]                300.5197    521.806      0.576      0.565      -722.404  1323.444\n",
      "System_Size_DC*C(Module_Model_1)[T.PM250M01_260]                911.7256   2019.761      0.451      0.652     -3047.717  4871.168\n",
      "System_Size_DC*C(Module_Model_1)[T.REC205PE]                   1942.6704    705.512      2.754      0.006       559.619  3325.722\n",
      "System_Size_DC*C(Module_Model_1)[T.REC230PE]                   1480.4567   2081.807      0.711      0.477     -2600.617  5561.531\n",
      "System_Size_DC*C(Module_Model_1)[T.REC250PE]                    -68.2728    512.482     -0.133      0.894     -1072.919   936.373\n",
      "System_Size_DC*C(Module_Model_1)[T.REC255PE Z-LINK]             638.7026    707.710      0.902      0.367      -748.658  2026.064\n",
      "System_Size_DC*C(Module_Model_1)[T.REC260PE]                    788.7010    216.622      3.641      0.000       364.047  1213.355\n",
      "System_Size_DC*C(Module_Model_1)[T.REC265PE]                    521.1662    502.923      1.036      0.300      -464.740  1507.072\n",
      "System_Size_DC*C(Module_Model_1)[T.TSM-225PA05.18]             1274.1978   2119.296      0.601      0.548     -2880.368  5428.764\n",
      "System_Size_DC*C(Module_Model_1)[T.TSM-240PA05]                 472.4431    501.271      0.942      0.346      -510.224  1455.110\n",
      "System_Size_DC*C(Module_Model_1)[T.TSM-245PA05.18]              437.3004    616.891      0.709      0.478      -772.023  1646.623\n",
      "System_Size_DC*C(Module_Model_1)[T.TSM-250PA05.18]              777.5532    280.988      2.767      0.006       226.718  1328.389\n",
      "System_Size_DC*C(Module_Model_1)[T.TSM-255PA05.18]              662.2923    226.351      2.926      0.003       218.564  1106.020\n",
      "System_Size_DC*C(Module_Model_1)[T.TSM-260PA05.18]              724.0966    294.706      2.457      0.014       146.369  1301.824\n",
      "System_Size_DC*C(Module_Model_1)[T.Triex U-280 SleekBlack]     1007.8615    280.406      3.594      0.000       458.167  1557.556\n",
      "System_Size_DC*C(Module_Model_1)[T.Triex U290]                  526.7263    504.084      1.045      0.296      -461.457  1514.909\n",
      "System_Size_DC*C(Module_Model_1)[T.Triex U310 Black]           1338.2060    325.005      4.117      0.000       701.081  1975.331\n",
      "System_Size_DC*C(Module_Model_1)[T.YL230P-29b]                  129.6464    722.460      0.179      0.858     -1286.629  1545.922\n",
      "System_Size_DC*C(Module_Model_1)[T.YL240P-29b]                  819.0855    375.759      2.180      0.029        82.466  1555.705\n",
      "System_Size_DC*C(Module_Model_1)[T.YL245P-29b]                  244.6693    937.953      0.261      0.794     -1594.048  2083.387\n",
      "System_Size_DC*C(Module_Model_1)[T.YL250P-29b]                 -237.1998    436.272     -0.544      0.587     -1092.447   618.048\n",
      "System_Size_DC*C(Module_Model_1)[T.YL255P-29b]                  122.3230    275.774      0.444      0.657      -418.291   662.937\n",
      "==============================================================================\n",
      "Omnibus:                     8261.240   Durbin-Watson:                   1.970\n",
      "Prob(Omnibus):                  0.000   Jarque-Bera (JB):         15016737.799\n",
      "Skew:                           6.465   Prob(JB):                         0.00\n",
      "Kurtosis:                     241.829   Cond. No.                     2.25e+15\n",
      "==============================================================================\n",
      "\n",
      "Warnings:\n",
      "[1] Standard Errors assume that the covariance matrix of the errors is correctly specified.\n",
      "[2] The smallest eigenvalue is 3.21e-24. This might indicate that there are\n",
      "strong multicollinearity problems or that the design matrix is singular.\n"
     ]
    }
   ],
   "source": [
    "mod = sm.OLS(y, X1)\n",
    "res = mod.fit()\n",
    "print(res.summary())"
   ]
  },
  {
   "cell_type": "code",
   "execution_count": 51,
   "metadata": {
    "collapsed": true
   },
   "outputs": [],
   "source": [
    "filter_col = [col for col in X.columns if col.startswith('C(Module_Model_1)[T.REC250PE')]\n",
    "X[filter_col[0]] = X[filter_col].sum(axis=1)\n",
    "_ = X.drop(filter_col[1:], axis=1, inplace = True)"
   ]
  },
  {
   "cell_type": "code",
   "execution_count": 52,
   "metadata": {
    "collapsed": true
   },
   "outputs": [],
   "source": [
    "filter_col = [col for col in X.columns if col.startswith('C(Module_Model_1)[T.KD255GX')]\n",
    "X[filter_col[0]] = X[filter_col].sum(axis=1)\n",
    "_ = X.drop(filter_col[1:], axis=1, inplace = True)"
   ]
  },
  {
   "cell_type": "code",
   "execution_count": 53,
   "metadata": {
    "collapsed": true
   },
   "outputs": [],
   "source": [
    "filter_col = [col for col in X.columns if col.startswith('C(Module_Model_1)[T.KU260')]\n",
    "X[filter_col[0]] = X[filter_col].sum(axis=1)\n",
    "_ = X.drop(filter_col[1:], axis=1, inplace = True)"
   ]
  },
  {
   "cell_type": "code",
   "execution_count": 54,
   "metadata": {
    "collapsed": true
   },
   "outputs": [],
   "source": [
    "filter_col = [col for col in X.columns if col.startswith('C(Module_Model_1)[T.KU265')]\n",
    "X[filter_col[0]] = X[filter_col].sum(axis=1)\n",
    "_ = X.drop(filter_col[1:], axis=1, inplace = True)"
   ]
  },
  {
   "cell_type": "code",
   "execution_count": 56,
   "metadata": {
    "collapsed": true
   },
   "outputs": [],
   "source": [
    "filter_col = [col for col in X.columns if col.startswith('C(Module_Model_1)[T.PM245P01')]\n",
    "X[filter_col[0]] = X[filter_col].sum(axis=1)\n",
    "_ = X.drop(filter_col[1:], axis=1, inplace = True)"
   ]
  },
  {
   "cell_type": "code",
   "execution_count": 57,
   "metadata": {
    "collapsed": true
   },
   "outputs": [],
   "source": [
    "filter_col = [col for col in X.columns if col.startswith('C(Module_Model_1)[T.REC255PE')]\n",
    "X[filter_col[0]] = X[filter_col].sum(axis=1)\n",
    "_ = X.drop(filter_col[1:], axis=1, inplace = True)"
   ]
  },
  {
   "cell_type": "code",
   "execution_count": 58,
   "metadata": {
    "collapsed": true
   },
   "outputs": [],
   "source": [
    "filter_col = [col for col in X.columns if col.startswith('C(Module_Model_1)[T.REC265PE')]\n",
    "X[filter_col[0]] = X[filter_col].sum(axis=1)\n",
    "_ = X.drop(filter_col[1:], axis=1, inplace = True)"
   ]
  },
  {
   "cell_type": "code",
   "execution_count": 59,
   "metadata": {
    "collapsed": true
   },
   "outputs": [],
   "source": [
    "filter_col = [col for col in X.columns if col.startswith('C(Module_Model_1)[T.TSM-240PA05')]\n",
    "X[filter_col[0]] = X[filter_col].sum(axis=1)\n",
    "_ = X.drop(filter_col[1:], axis=1, inplace = True)"
   ]
  },
  {
   "cell_type": "code",
   "execution_count": 62,
   "metadata": {
    "collapsed": true
   },
   "outputs": [],
   "source": [
    "filter_col = [col for col in X.columns if col.startswith('C(Module_Model_1)[T.TSM-250P')]\n",
    "X[filter_col[0]] = X[filter_col].sum(axis=1)\n",
    "_ = X.drop(filter_col[1:], axis=1, inplace = True)"
   ]
  },
  {
   "cell_type": "code",
   "execution_count": 63,
   "metadata": {
    "collapsed": true
   },
   "outputs": [],
   "source": [
    "filter_col = [col for col in X.columns if col.startswith('C(Module_Model_1)[T.TSM-255P')]\n",
    "X[filter_col[0]] = X[filter_col].sum(axis=1)\n",
    "_ = X.drop(filter_col[1:], axis=1, inplace = True)"
   ]
  },
  {
   "cell_type": "code",
   "execution_count": 64,
   "metadata": {
    "collapsed": true
   },
   "outputs": [],
   "source": [
    "filter_col = [col for col in X.columns if col.startswith('C(Module_Model_1)[T.TSM-260P')]\n",
    "X[filter_col[0]] = X[filter_col].sum(axis=1)\n",
    "_ = X.drop(filter_col[1:], axis=1, inplace = True)"
   ]
  },
  {
   "cell_type": "code",
   "execution_count": 65,
   "metadata": {
    "collapsed": true
   },
   "outputs": [],
   "source": [
    "filter_col = [col for col in X.columns if col.startswith('C(Module_Model_1)[T.Triex U290')]\n",
    "X[filter_col[0]] = X[filter_col].sum(axis=1)\n",
    "_ = X.drop(filter_col[1:], axis=1, inplace = True)"
   ]
  },
  {
   "cell_type": "code",
   "execution_count": null,
   "metadata": {
    "collapsed": true
   },
   "outputs": [],
   "source": [
    "#filter_col = [col for col in X.columns if col.startswith('')]\n",
    "#X[filter_col[0]] = X[filter_col].sum(axis=1)\n",
    "#_ = X.drop(filter_col[1:], axis=1, inplace = True)\n",
    "# or \n",
    "#df[df.columns[pd.Series(df.columns).str.startswith('foo')]]"
   ]
  },
  {
   "cell_type": "code",
   "execution_count": 67,
   "metadata": {
    "collapsed": true
   },
   "outputs": [],
   "source": [
    "filter_col = [col for col in X.columns if col.startswith('C(Module_Model_1)')]\n",
    "base_col = 'System_Size_DC'\n",
    "for col in filter_col:\n",
    "    X[base_col + '*' + col] = X[base_col] * X[col]"
   ]
  },
  {
   "cell_type": "code",
   "execution_count": 68,
   "metadata": {
    "collapsed": true
   },
   "outputs": [],
   "source": [
    "X1 = X.drop(filter_col, axis=1)"
   ]
  },
  {
   "cell_type": "code",
   "execution_count": null,
   "metadata": {
    "collapsed": true
   },
   "outputs": [],
   "source": []
  }
 ],
 "metadata": {
  "kernelspec": {
   "display_name": "Python 3",
   "language": "python",
   "name": "python3"
  },
  "language_info": {
   "codemirror_mode": {
    "name": "ipython",
    "version": 3
   },
   "file_extension": ".py",
   "mimetype": "text/x-python",
   "name": "python",
   "nbconvert_exporter": "python",
   "pygments_lexer": "ipython3",
   "version": "3.5.0"
  }
 },
 "nbformat": 4,
 "nbformat_minor": 0
}
