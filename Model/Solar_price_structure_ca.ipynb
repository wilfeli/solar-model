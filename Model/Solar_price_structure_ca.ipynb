{
 "cells": [
  {
   "cell_type": "code",
   "execution_count": null,
   "metadata": {
    "collapsed": true
   },
   "outputs": [],
   "source": [
    "import pandas as pd\n",
    "import numpy as np\n",
    "%matplotlib inline\n",
    "import matplotlib.pyplot as plt\n",
    "from matplotlib import cm\n",
    "import matplotlib.patches as mpatches\n",
    "import matplotlib\n",
    "matplotlib.style.use('ggplot')\n",
    "#ols models\n",
    "import statsmodels.formula.api as sm\n",
    "from patsy import dmatrices\n",
    "import re\n",
    "import scipy as sp\n",
    "from tools import print_columns"
   ]
  },
  {
   "cell_type": "code",
   "execution_count": null,
   "metadata": {
    "collapsed": true
   },
   "outputs": [],
   "source": [
    "#read data\n",
    "df_full = pd.read_csv(\"../../Data/NEM_CurrentlyInterconnectedDataset_2016-03-31.csv\", low_memory=False)"
   ]
  },
  {
   "cell_type": "code",
   "execution_count": null,
   "metadata": {
    "collapsed": false
   },
   "outputs": [],
   "source": [
    "#get year from date\n",
    "df_full.ix[:,15] =  pd.to_datetime(df_full.ix[:,15], infer_datetime_format=True)\n",
    "df_full['App Complete Date Year'] = df_full.ix[:,15].dt.year\n",
    "df_full.columns = df_full.columns.str.replace(' ','_')\n",
    "#clean a little bit\n",
    "df_full = df_full[(df_full.T != 0).all()]"
   ]
  },
  {
   "cell_type": "code",
   "execution_count": null,
   "metadata": {
    "collapsed": false
   },
   "outputs": [],
   "source": [
    "#cheat sheet for column names\n",
    "print_columns(df_full)"
   ]
  },
  {
   "cell_type": "code",
   "execution_count": null,
   "metadata": {
    "collapsed": false
   },
   "outputs": [],
   "source": [
    "#keep cleaning\n",
    "df = df_full[(df_full['App_Complete_Date_Year'] > 2014) & ((df_full['Total_System_Cost'] > 0.0))]\n",
    "df['Installer_Name_clear'] = df['Installer_Name']"
   ]
  },
  {
   "cell_type": "code",
   "execution_count": null,
   "metadata": {
    "collapsed": false
   },
   "outputs": [],
   "source": [
    "df['Customer_Sector'].value_counts()"
   ]
  },
  {
   "cell_type": "code",
   "execution_count": 191,
   "metadata": {
    "collapsed": true
   },
   "outputs": [],
   "source": [
    "#df.to_csv('NEM_CurrentlyInterconnectedDataset_2016-03-31_clear.csv')"
   ]
  },
  {
   "cell_type": "code",
   "execution_count": null,
   "metadata": {
    "collapsed": true
   },
   "outputs": [],
   "source": [
    "#create dummies for companies\n",
    "def company_dummy(row, templ, name):\n",
    "    if not pd.isnull(row['Installer_Name_clear']):\n",
    "        if templ.search(row['Installer_Name_clear']):\n",
    "            val = name\n",
    "        else:\n",
    "            val = row['Installer_Name_clear']\n",
    "    else:\n",
    "        val = row['Installer_Name_clear']\n",
    "    return val"
   ]
  },
  {
   "cell_type": "code",
   "execution_count": null,
   "metadata": {
    "collapsed": true
   },
   "outputs": [],
   "source": [
    "#regexes to clean installer names"
   ]
  },
  {
   "cell_type": "code",
   "execution_count": null,
   "metadata": {
    "collapsed": false
   },
   "outputs": [],
   "source": [
    "company_regex = r'SolarCity'\n",
    "replace_name = 'SolarCity Corporation'\n",
    "p = re.compile(company_regex, re.IGNORECASE)\n",
    "df['Installer_Name_clear'] = df.apply (lambda row: company_dummy (row, p, replace_name),axis=1)"
   ]
  },
  {
   "cell_type": "code",
   "execution_count": null,
   "metadata": {
    "collapsed": false
   },
   "outputs": [],
   "source": [
    "company_regex = r'SunPower'\n",
    "replace_name = 'SunPower Corporation'\n",
    "p = re.compile(company_regex, re.IGNORECASE)\n",
    "df['Installer_Name_clear'] = df.apply (lambda row: company_dummy (row, p, replace_name),axis=1)"
   ]
  },
  {
   "cell_type": "code",
   "execution_count": null,
   "metadata": {
    "collapsed": false
   },
   "outputs": [],
   "source": [
    "company_regex = r'Sunrun'\n",
    "replace_name = 'Sunrun Installation Services, Inc'\n",
    "p = re.compile(company_regex, re.IGNORECASE)\n",
    "df['Installer_Name_clear'] = df.apply (lambda row: company_dummy (row, p, replace_name),axis=1)"
   ]
  },
  {
   "cell_type": "code",
   "execution_count": null,
   "metadata": {
    "collapsed": false
   },
   "outputs": [],
   "source": [
    "company_regex = r'Petersen\\s+Dean'\n",
    "replace_name = 'Petersen Dean Roofing & Solar Systems'\n",
    "p = re.compile(company_regex, re.IGNORECASE)\n",
    "df['Installer_Name_clear'] = df.apply (lambda row: company_dummy (row, p, replace_name),axis=1)"
   ]
  },
  {
   "cell_type": "code",
   "execution_count": null,
   "metadata": {
    "collapsed": false
   },
   "outputs": [],
   "source": [
    "company_regex = r'Semper Solaris'\n",
    "replace_name = 'Semper Solaris Construction Inc'\n",
    "p = re.compile(company_regex, re.IGNORECASE)\n",
    "df['Installer_Name_clear'] = df.apply (lambda row: company_dummy (row, p, replace_name),axis=1)"
   ]
  },
  {
   "cell_type": "code",
   "execution_count": null,
   "metadata": {
    "collapsed": false
   },
   "outputs": [],
   "source": [
    "df['Installer_Name_clear'] = df.apply (lambda row: company_dummy (row, p, replace_name),axis=1)"
   ]
  },
  {
   "cell_type": "code",
   "execution_count": null,
   "metadata": {
    "collapsed": false
   },
   "outputs": [],
   "source": [
    "df['Installer_Name_clear'].value_counts()"
   ]
  },
  {
   "cell_type": "code",
   "execution_count": null,
   "metadata": {
    "collapsed": true
   },
   "outputs": [],
   "source": [
    "df_short = df[['Total_System_Cost', 'System_Size_DC', 'System_Size_AC', 'Installer_Name_clear']]"
   ]
  },
  {
   "cell_type": "code",
   "execution_count": null,
   "metadata": {
    "collapsed": false
   },
   "outputs": [],
   "source": [
    "df_short = df_short[(df['Customer_Sector'] == 'Residential')]"
   ]
  },
  {
   "cell_type": "code",
   "execution_count": null,
   "metadata": {
    "collapsed": false
   },
   "outputs": [],
   "source": [
    "df_short['Count'] = 1"
   ]
  },
  {
   "cell_type": "code",
   "execution_count": 247,
   "metadata": {
    "collapsed": false
   },
   "outputs": [
    {
     "name": "stderr",
     "output_type": "stream",
     "text": [
      "/Users/wilfeli/anaconda/lib/python3.5/site-packages/pandas/core/frame.py:1942: UserWarning: Boolean Series key will be reindexed to match DataFrame index.\n",
      "  \"DataFrame index.\", UserWarning)\n"
     ]
    }
   ],
   "source": [
    "df_short['Price_Per_Watt'] = df_short['Total_System_Cost']/df_short['System_Size_AC']/1000\n",
    "df_short = df_short[df_short['Price_Per_Watt'] > 1.0]\n",
    "df_sub = df_short[(df_short['Installer_Name_clear'] == 'SunPower Corporation')]\n",
    "#exclude huge outlier to make graph nicer\n",
    "df_short = df_short[(df['Installer_Name_clear'] != 'Zero Energy Associates')]"
   ]
  },
  {
   "cell_type": "code",
   "execution_count": 167,
   "metadata": {
    "collapsed": false
   },
   "outputs": [],
   "source": [
    "df_short['key1'] = df_short.groupby('Installer_Name_clear')['Count'].transform('sum')"
   ]
  },
  {
   "cell_type": "code",
   "execution_count": 168,
   "metadata": {
    "collapsed": false
   },
   "outputs": [],
   "source": [
    "df_short = df_short.sort_values(['key1'], ascending=[False])"
   ]
  },
  {
   "cell_type": "code",
   "execution_count": 169,
   "metadata": {
    "collapsed": true
   },
   "outputs": [],
   "source": [
    "grouped = df_short.groupby('Installer_Name_clear', sort=False)"
   ]
  },
  {
   "cell_type": "code",
   "execution_count": 170,
   "metadata": {
    "collapsed": false
   },
   "outputs": [],
   "source": [
    "df_agg = grouped.agg({'Total_System_Cost' : np.median,\\\n",
    "             'System_Size_AC' : np.median, \\\n",
    "            'Count' : np.sum, \\\n",
    "            'Price_Per_Watt' : np.median})"
   ]
  },
  {
   "cell_type": "code",
   "execution_count": 307,
   "metadata": {
    "collapsed": false
   },
   "outputs": [],
   "source": [
    "df_agg_top = df_agg[0:100]"
   ]
  },
  {
   "cell_type": "code",
   "execution_count": 308,
   "metadata": {
    "collapsed": false
   },
   "outputs": [
    {
     "data": {
      "text/html": [
       "<div>\n",
       "<table border=\"1\" class=\"dataframe\">\n",
       "  <thead>\n",
       "    <tr style=\"text-align: right;\">\n",
       "      <th></th>\n",
       "      <th>Total_System_Cost</th>\n",
       "      <th>Price_Per_Watt</th>\n",
       "      <th>Count</th>\n",
       "      <th>System_Size_AC</th>\n",
       "    </tr>\n",
       "    <tr>\n",
       "      <th>Installer_Name_clear</th>\n",
       "      <th></th>\n",
       "      <th></th>\n",
       "      <th></th>\n",
       "      <th></th>\n",
       "    </tr>\n",
       "  </thead>\n",
       "  <tbody>\n",
       "    <tr>\n",
       "      <th>SolarCity Corporation</th>\n",
       "      <td>25779.00</td>\n",
       "      <td>5.924523</td>\n",
       "      <td>3868</td>\n",
       "      <td>4.408000</td>\n",
       "    </tr>\n",
       "    <tr>\n",
       "      <th>SunPower Corporation</th>\n",
       "      <td>7301.00</td>\n",
       "      <td>4.292210</td>\n",
       "      <td>1451</td>\n",
       "      <td>1.779000</td>\n",
       "    </tr>\n",
       "    <tr>\n",
       "      <th>Petersen Dean Roofing &amp; Solar Systems</th>\n",
       "      <td>27078.05</td>\n",
       "      <td>4.721451</td>\n",
       "      <td>1007</td>\n",
       "      <td>5.813000</td>\n",
       "    </tr>\n",
       "    <tr>\n",
       "      <th>Sunrun Installation Services, Inc</th>\n",
       "      <td>22869.00</td>\n",
       "      <td>4.259788</td>\n",
       "      <td>746</td>\n",
       "      <td>5.446000</td>\n",
       "    </tr>\n",
       "    <tr>\n",
       "      <th>Semper Solaris Construction Inc</th>\n",
       "      <td>26901.00</td>\n",
       "      <td>5.033030</td>\n",
       "      <td>621</td>\n",
       "      <td>5.262000</td>\n",
       "    </tr>\n",
       "    <tr>\n",
       "      <th>Sullivan Solar Power</th>\n",
       "      <td>30285.50</td>\n",
       "      <td>5.181970</td>\n",
       "      <td>498</td>\n",
       "      <td>5.874000</td>\n",
       "    </tr>\n",
       "    <tr>\n",
       "      <th>Verengo</th>\n",
       "      <td>24628.00</td>\n",
       "      <td>4.704745</td>\n",
       "      <td>473</td>\n",
       "      <td>5.225000</td>\n",
       "    </tr>\n",
       "    <tr>\n",
       "      <th>Grid Alternatives</th>\n",
       "      <td>15790.83</td>\n",
       "      <td>5.197207</td>\n",
       "      <td>410</td>\n",
       "      <td>3.056000</td>\n",
       "    </tr>\n",
       "    <tr>\n",
       "      <th>American Solar Direct Inc</th>\n",
       "      <td>25936.95</td>\n",
       "      <td>5.320786</td>\n",
       "      <td>369</td>\n",
       "      <td>4.739000</td>\n",
       "    </tr>\n",
       "    <tr>\n",
       "      <th>SolarMax Renewable Energy Provider, Inc</th>\n",
       "      <td>26890.00</td>\n",
       "      <td>4.453068</td>\n",
       "      <td>362</td>\n",
       "      <td>5.986500</td>\n",
       "    </tr>\n",
       "    <tr>\n",
       "      <th>Baker Electric, Inc.</th>\n",
       "      <td>29681.00</td>\n",
       "      <td>4.930741</td>\n",
       "      <td>289</td>\n",
       "      <td>6.165000</td>\n",
       "    </tr>\n",
       "    <tr>\n",
       "      <th>Enver Energy</th>\n",
       "      <td>31192.00</td>\n",
       "      <td>7.146896</td>\n",
       "      <td>268</td>\n",
       "      <td>4.337000</td>\n",
       "    </tr>\n",
       "    <tr>\n",
       "      <th>Sungevity Inc</th>\n",
       "      <td>19819.00</td>\n",
       "      <td>4.111897</td>\n",
       "      <td>249</td>\n",
       "      <td>4.749000</td>\n",
       "    </tr>\n",
       "    <tr>\n",
       "      <th>A1 Solar Power Inc</th>\n",
       "      <td>30210.00</td>\n",
       "      <td>7.696629</td>\n",
       "      <td>231</td>\n",
       "      <td>3.926000</td>\n",
       "    </tr>\n",
       "    <tr>\n",
       "      <th>LA Solar Group</th>\n",
       "      <td>26531.00</td>\n",
       "      <td>4.139051</td>\n",
       "      <td>200</td>\n",
       "      <td>6.342000</td>\n",
       "    </tr>\n",
       "    <tr>\n",
       "      <th>Future Energy Corporation</th>\n",
       "      <td>29357.00</td>\n",
       "      <td>6.517790</td>\n",
       "      <td>181</td>\n",
       "      <td>4.679000</td>\n",
       "    </tr>\n",
       "    <tr>\n",
       "      <th>Energy Remodeling</th>\n",
       "      <td>25000.00</td>\n",
       "      <td>7.456458</td>\n",
       "      <td>180</td>\n",
       "      <td>3.464000</td>\n",
       "    </tr>\n",
       "    <tr>\n",
       "      <th>REC Solar, Inc.</th>\n",
       "      <td>21021.00</td>\n",
       "      <td>4.103262</td>\n",
       "      <td>162</td>\n",
       "      <td>4.951000</td>\n",
       "    </tr>\n",
       "    <tr>\n",
       "      <th>Solcius</th>\n",
       "      <td>26582.00</td>\n",
       "      <td>5.630850</td>\n",
       "      <td>147</td>\n",
       "      <td>4.713000</td>\n",
       "    </tr>\n",
       "    <tr>\n",
       "      <th>Horizon Solar Power</th>\n",
       "      <td>26250.00</td>\n",
       "      <td>4.638759</td>\n",
       "      <td>141</td>\n",
       "      <td>5.861000</td>\n",
       "    </tr>\n",
       "    <tr>\n",
       "      <th>Stellar Solar</th>\n",
       "      <td>27143.00</td>\n",
       "      <td>4.953265</td>\n",
       "      <td>133</td>\n",
       "      <td>5.456000</td>\n",
       "    </tr>\n",
       "    <tr>\n",
       "      <th>ASI Hastings, Inc</th>\n",
       "      <td>22783.00</td>\n",
       "      <td>4.381438</td>\n",
       "      <td>130</td>\n",
       "      <td>5.288000</td>\n",
       "    </tr>\n",
       "    <tr>\n",
       "      <th>Solar Service Center</th>\n",
       "      <td>20820.00</td>\n",
       "      <td>4.612578</td>\n",
       "      <td>124</td>\n",
       "      <td>5.024000</td>\n",
       "    </tr>\n",
       "    <tr>\n",
       "      <th>Solar Universe</th>\n",
       "      <td>24836.65</td>\n",
       "      <td>4.281265</td>\n",
       "      <td>124</td>\n",
       "      <td>5.655727</td>\n",
       "    </tr>\n",
       "    <tr>\n",
       "      <th>Green Convergence</th>\n",
       "      <td>35702.50</td>\n",
       "      <td>6.411886</td>\n",
       "      <td>120</td>\n",
       "      <td>5.555000</td>\n",
       "    </tr>\n",
       "    <tr>\n",
       "      <th>Precis Solar</th>\n",
       "      <td>30208.00</td>\n",
       "      <td>5.567560</td>\n",
       "      <td>111</td>\n",
       "      <td>5.262000</td>\n",
       "    </tr>\n",
       "    <tr>\n",
       "      <th>Planet Solar Inc</th>\n",
       "      <td>29680.00</td>\n",
       "      <td>4.916249</td>\n",
       "      <td>111</td>\n",
       "      <td>6.001000</td>\n",
       "    </tr>\n",
       "    <tr>\n",
       "      <th>Galkos Construction</th>\n",
       "      <td>23511.50</td>\n",
       "      <td>4.610927</td>\n",
       "      <td>107</td>\n",
       "      <td>4.976000</td>\n",
       "    </tr>\n",
       "    <tr>\n",
       "      <th>Hot Purple Energy</th>\n",
       "      <td>44681.00</td>\n",
       "      <td>5.341530</td>\n",
       "      <td>106</td>\n",
       "      <td>8.059000</td>\n",
       "    </tr>\n",
       "    <tr>\n",
       "      <th>Renova Energy Corp</th>\n",
       "      <td>43538.00</td>\n",
       "      <td>4.947135</td>\n",
       "      <td>105</td>\n",
       "      <td>9.063000</td>\n",
       "    </tr>\n",
       "    <tr>\n",
       "      <th>...</th>\n",
       "      <td>...</td>\n",
       "      <td>...</td>\n",
       "      <td>...</td>\n",
       "      <td>...</td>\n",
       "    </tr>\n",
       "    <tr>\n",
       "      <th>Titan Solar Construction</th>\n",
       "      <td>25380.00</td>\n",
       "      <td>6.090426</td>\n",
       "      <td>47</td>\n",
       "      <td>4.501000</td>\n",
       "    </tr>\n",
       "    <tr>\n",
       "      <th>Revco Solar Engineering Inc</th>\n",
       "      <td>36160.00</td>\n",
       "      <td>5.745356</td>\n",
       "      <td>46</td>\n",
       "      <td>5.692500</td>\n",
       "    </tr>\n",
       "    <tr>\n",
       "      <th>American Solar Direct</th>\n",
       "      <td>24087.00</td>\n",
       "      <td>5.350289</td>\n",
       "      <td>45</td>\n",
       "      <td>4.502000</td>\n",
       "    </tr>\n",
       "    <tr>\n",
       "      <th>Sungevity</th>\n",
       "      <td>17813.00</td>\n",
       "      <td>3.876008</td>\n",
       "      <td>45</td>\n",
       "      <td>4.618656</td>\n",
       "    </tr>\n",
       "    <tr>\n",
       "      <th>Green NRG</th>\n",
       "      <td>29200.00</td>\n",
       "      <td>6.403574</td>\n",
       "      <td>45</td>\n",
       "      <td>4.498000</td>\n",
       "    </tr>\n",
       "    <tr>\n",
       "      <th>Solar West Electric, Inc.</th>\n",
       "      <td>22000.00</td>\n",
       "      <td>4.846154</td>\n",
       "      <td>45</td>\n",
       "      <td>4.251000</td>\n",
       "    </tr>\n",
       "    <tr>\n",
       "      <th>Quantum Solar Design Inc</th>\n",
       "      <td>31182.00</td>\n",
       "      <td>5.037767</td>\n",
       "      <td>44</td>\n",
       "      <td>5.986500</td>\n",
       "    </tr>\n",
       "    <tr>\n",
       "      <th>360 Solar Energy Inc</th>\n",
       "      <td>27850.00</td>\n",
       "      <td>5.167773</td>\n",
       "      <td>43</td>\n",
       "      <td>5.547000</td>\n",
       "    </tr>\n",
       "    <tr>\n",
       "      <th>Pacific Blue Solar</th>\n",
       "      <td>28080.00</td>\n",
       "      <td>4.997737</td>\n",
       "      <td>42</td>\n",
       "      <td>5.501000</td>\n",
       "    </tr>\n",
       "    <tr>\n",
       "      <th>American Green Home Builder</th>\n",
       "      <td>42000.00</td>\n",
       "      <td>9.851852</td>\n",
       "      <td>41</td>\n",
       "      <td>4.084000</td>\n",
       "    </tr>\n",
       "    <tr>\n",
       "      <th>Levi Builders Inc.</th>\n",
       "      <td>23500.00</td>\n",
       "      <td>6.575101</td>\n",
       "      <td>41</td>\n",
       "      <td>3.809000</td>\n",
       "    </tr>\n",
       "    <tr>\n",
       "      <th>V3 Electric</th>\n",
       "      <td>25041.25</td>\n",
       "      <td>4.555154</td>\n",
       "      <td>41</td>\n",
       "      <td>5.262000</td>\n",
       "    </tr>\n",
       "    <tr>\n",
       "      <th>California Solar Systems</th>\n",
       "      <td>27050.00</td>\n",
       "      <td>4.842067</td>\n",
       "      <td>39</td>\n",
       "      <td>5.477000</td>\n",
       "    </tr>\n",
       "    <tr>\n",
       "      <th>Sunlight Solar Inc</th>\n",
       "      <td>23100.00</td>\n",
       "      <td>6.399670</td>\n",
       "      <td>39</td>\n",
       "      <td>3.694000</td>\n",
       "    </tr>\n",
       "    <tr>\n",
       "      <th>SunFusion Solar</th>\n",
       "      <td>21000.00</td>\n",
       "      <td>4.398827</td>\n",
       "      <td>39</td>\n",
       "      <td>4.756000</td>\n",
       "    </tr>\n",
       "    <tr>\n",
       "      <th>PALOMAR SOLAR LTD</th>\n",
       "      <td>28000.00</td>\n",
       "      <td>4.627232</td>\n",
       "      <td>39</td>\n",
       "      <td>6.332000</td>\n",
       "    </tr>\n",
       "    <tr>\n",
       "      <th>Sea Bright Solar Inc.</th>\n",
       "      <td>34920.00</td>\n",
       "      <td>5.138127</td>\n",
       "      <td>38</td>\n",
       "      <td>6.202000</td>\n",
       "    </tr>\n",
       "    <tr>\n",
       "      <th>Natural Energy USA</th>\n",
       "      <td>22572.00</td>\n",
       "      <td>4.514621</td>\n",
       "      <td>37</td>\n",
       "      <td>4.578000</td>\n",
       "    </tr>\n",
       "    <tr>\n",
       "      <th>Sunpro Solar</th>\n",
       "      <td>36032.50</td>\n",
       "      <td>5.515573</td>\n",
       "      <td>37</td>\n",
       "      <td>6.366000</td>\n",
       "    </tr>\n",
       "    <tr>\n",
       "      <th>Electricare Inc.</th>\n",
       "      <td>25000.00</td>\n",
       "      <td>4.418805</td>\n",
       "      <td>36</td>\n",
       "      <td>5.721000</td>\n",
       "    </tr>\n",
       "    <tr>\n",
       "      <th>Barnes Solar, Inc.</th>\n",
       "      <td>32835.50</td>\n",
       "      <td>4.391748</td>\n",
       "      <td>36</td>\n",
       "      <td>7.626500</td>\n",
       "    </tr>\n",
       "    <tr>\n",
       "      <th>Allen Energy</th>\n",
       "      <td>19217.00</td>\n",
       "      <td>5.130559</td>\n",
       "      <td>35</td>\n",
       "      <td>3.936000</td>\n",
       "    </tr>\n",
       "    <tr>\n",
       "      <th>Sunnyside Solar Inc</th>\n",
       "      <td>20200.00</td>\n",
       "      <td>5.583393</td>\n",
       "      <td>34</td>\n",
       "      <td>3.623000</td>\n",
       "    </tr>\n",
       "    <tr>\n",
       "      <th>TLP Electric Integrations Inc. Infinity</th>\n",
       "      <td>27347.50</td>\n",
       "      <td>4.852214</td>\n",
       "      <td>32</td>\n",
       "      <td>5.442500</td>\n",
       "    </tr>\n",
       "    <tr>\n",
       "      <th>Progressive Energy Solutions, Inc.</th>\n",
       "      <td>31295.00</td>\n",
       "      <td>5.234469</td>\n",
       "      <td>32</td>\n",
       "      <td>6.176500</td>\n",
       "    </tr>\n",
       "    <tr>\n",
       "      <th>So Cal Custom Inc.</th>\n",
       "      <td>25854.00</td>\n",
       "      <td>5.415946</td>\n",
       "      <td>32</td>\n",
       "      <td>4.726500</td>\n",
       "    </tr>\n",
       "    <tr>\n",
       "      <th>Solar Source Inc</th>\n",
       "      <td>25193.50</td>\n",
       "      <td>4.219976</td>\n",
       "      <td>32</td>\n",
       "      <td>6.103500</td>\n",
       "    </tr>\n",
       "    <tr>\n",
       "      <th>Sun Solar Energy Solutions</th>\n",
       "      <td>37000.00</td>\n",
       "      <td>4.911886</td>\n",
       "      <td>31</td>\n",
       "      <td>7.665000</td>\n",
       "    </tr>\n",
       "    <tr>\n",
       "      <th>Ambassador Energy, Inc</th>\n",
       "      <td>24670.00</td>\n",
       "      <td>4.596574</td>\n",
       "      <td>31</td>\n",
       "      <td>5.721000</td>\n",
       "    </tr>\n",
       "    <tr>\n",
       "      <th>Jamar Power System</th>\n",
       "      <td>23000.00</td>\n",
       "      <td>4.236489</td>\n",
       "      <td>29</td>\n",
       "      <td>5.194000</td>\n",
       "    </tr>\n",
       "  </tbody>\n",
       "</table>\n",
       "<p>100 rows × 4 columns</p>\n",
       "</div>"
      ],
      "text/plain": [
       "                                         Total_System_Cost  Price_Per_Watt  \\\n",
       "Installer_Name_clear                                                         \n",
       "SolarCity Corporation                             25779.00        5.924523   \n",
       "SunPower Corporation                               7301.00        4.292210   \n",
       "Petersen Dean Roofing & Solar Systems             27078.05        4.721451   \n",
       "Sunrun Installation Services, Inc                 22869.00        4.259788   \n",
       "Semper Solaris Construction Inc                   26901.00        5.033030   \n",
       "Sullivan Solar Power                              30285.50        5.181970   \n",
       "Verengo                                           24628.00        4.704745   \n",
       "Grid Alternatives                                 15790.83        5.197207   \n",
       "American Solar Direct Inc                         25936.95        5.320786   \n",
       "SolarMax Renewable Energy Provider, Inc           26890.00        4.453068   \n",
       "Baker Electric, Inc.                              29681.00        4.930741   \n",
       "Enver Energy                                      31192.00        7.146896   \n",
       "Sungevity Inc                                     19819.00        4.111897   \n",
       "A1 Solar Power Inc                                30210.00        7.696629   \n",
       "LA Solar Group                                    26531.00        4.139051   \n",
       "Future Energy Corporation                         29357.00        6.517790   \n",
       "Energy Remodeling                                 25000.00        7.456458   \n",
       "REC Solar, Inc.                                   21021.00        4.103262   \n",
       "Solcius                                           26582.00        5.630850   \n",
       "Horizon Solar Power                               26250.00        4.638759   \n",
       "Stellar Solar                                     27143.00        4.953265   \n",
       "ASI Hastings, Inc                                 22783.00        4.381438   \n",
       "Solar Service Center                              20820.00        4.612578   \n",
       "Solar Universe                                    24836.65        4.281265   \n",
       "Green Convergence                                 35702.50        6.411886   \n",
       "Precis Solar                                      30208.00        5.567560   \n",
       "Planet Solar Inc                                  29680.00        4.916249   \n",
       "Galkos Construction                               23511.50        4.610927   \n",
       "Hot Purple Energy                                 44681.00        5.341530   \n",
       "Renova Energy Corp                                43538.00        4.947135   \n",
       "...                                                    ...             ...   \n",
       "Titan Solar Construction                          25380.00        6.090426   \n",
       "Revco Solar Engineering Inc                       36160.00        5.745356   \n",
       "American Solar Direct                             24087.00        5.350289   \n",
       "Sungevity                                         17813.00        3.876008   \n",
       "Green NRG                                         29200.00        6.403574   \n",
       "Solar West Electric, Inc.                         22000.00        4.846154   \n",
       "Quantum Solar Design Inc                          31182.00        5.037767   \n",
       "360 Solar Energy Inc                              27850.00        5.167773   \n",
       "Pacific Blue Solar                                28080.00        4.997737   \n",
       "American Green Home Builder                       42000.00        9.851852   \n",
       "Levi Builders Inc.                                23500.00        6.575101   \n",
       "V3 Electric                                       25041.25        4.555154   \n",
       "California Solar Systems                          27050.00        4.842067   \n",
       "Sunlight Solar Inc                                23100.00        6.399670   \n",
       "SunFusion Solar                                   21000.00        4.398827   \n",
       "PALOMAR SOLAR LTD                                 28000.00        4.627232   \n",
       "Sea Bright Solar Inc.                             34920.00        5.138127   \n",
       "Natural Energy USA                                22572.00        4.514621   \n",
       "Sunpro Solar                                      36032.50        5.515573   \n",
       "Electricare Inc.                                  25000.00        4.418805   \n",
       "Barnes Solar, Inc.                                32835.50        4.391748   \n",
       "Allen Energy                                      19217.00        5.130559   \n",
       "Sunnyside Solar Inc                               20200.00        5.583393   \n",
       "TLP Electric Integrations Inc. Infinity           27347.50        4.852214   \n",
       "Progressive Energy Solutions, Inc.                31295.00        5.234469   \n",
       "So Cal Custom Inc.                                25854.00        5.415946   \n",
       "Solar Source Inc                                  25193.50        4.219976   \n",
       "Sun Solar Energy Solutions                        37000.00        4.911886   \n",
       "Ambassador Energy, Inc                            24670.00        4.596574   \n",
       "Jamar Power System                                23000.00        4.236489   \n",
       "\n",
       "                                         Count  System_Size_AC  \n",
       "Installer_Name_clear                                            \n",
       "SolarCity Corporation                     3868        4.408000  \n",
       "SunPower Corporation                      1451        1.779000  \n",
       "Petersen Dean Roofing & Solar Systems     1007        5.813000  \n",
       "Sunrun Installation Services, Inc          746        5.446000  \n",
       "Semper Solaris Construction Inc            621        5.262000  \n",
       "Sullivan Solar Power                       498        5.874000  \n",
       "Verengo                                    473        5.225000  \n",
       "Grid Alternatives                          410        3.056000  \n",
       "American Solar Direct Inc                  369        4.739000  \n",
       "SolarMax Renewable Energy Provider, Inc    362        5.986500  \n",
       "Baker Electric, Inc.                       289        6.165000  \n",
       "Enver Energy                               268        4.337000  \n",
       "Sungevity Inc                              249        4.749000  \n",
       "A1 Solar Power Inc                         231        3.926000  \n",
       "LA Solar Group                             200        6.342000  \n",
       "Future Energy Corporation                  181        4.679000  \n",
       "Energy Remodeling                          180        3.464000  \n",
       "REC Solar, Inc.                            162        4.951000  \n",
       "Solcius                                    147        4.713000  \n",
       "Horizon Solar Power                        141        5.861000  \n",
       "Stellar Solar                              133        5.456000  \n",
       "ASI Hastings, Inc                          130        5.288000  \n",
       "Solar Service Center                       124        5.024000  \n",
       "Solar Universe                             124        5.655727  \n",
       "Green Convergence                          120        5.555000  \n",
       "Precis Solar                               111        5.262000  \n",
       "Planet Solar Inc                           111        6.001000  \n",
       "Galkos Construction                        107        4.976000  \n",
       "Hot Purple Energy                          106        8.059000  \n",
       "Renova Energy Corp                         105        9.063000  \n",
       "...                                        ...             ...  \n",
       "Titan Solar Construction                    47        4.501000  \n",
       "Revco Solar Engineering Inc                 46        5.692500  \n",
       "American Solar Direct                       45        4.502000  \n",
       "Sungevity                                   45        4.618656  \n",
       "Green NRG                                   45        4.498000  \n",
       "Solar West Electric, Inc.                   45        4.251000  \n",
       "Quantum Solar Design Inc                    44        5.986500  \n",
       "360 Solar Energy Inc                        43        5.547000  \n",
       "Pacific Blue Solar                          42        5.501000  \n",
       "American Green Home Builder                 41        4.084000  \n",
       "Levi Builders Inc.                          41        3.809000  \n",
       "V3 Electric                                 41        5.262000  \n",
       "California Solar Systems                    39        5.477000  \n",
       "Sunlight Solar Inc                          39        3.694000  \n",
       "SunFusion Solar                             39        4.756000  \n",
       "PALOMAR SOLAR LTD                           39        6.332000  \n",
       "Sea Bright Solar Inc.                       38        6.202000  \n",
       "Natural Energy USA                          37        4.578000  \n",
       "Sunpro Solar                                37        6.366000  \n",
       "Electricare Inc.                            36        5.721000  \n",
       "Barnes Solar, Inc.                          36        7.626500  \n",
       "Allen Energy                                35        3.936000  \n",
       "Sunnyside Solar Inc                         34        3.623000  \n",
       "TLP Electric Integrations Inc. Infinity     32        5.442500  \n",
       "Progressive Energy Solutions, Inc.          32        6.176500  \n",
       "So Cal Custom Inc.                          32        4.726500  \n",
       "Solar Source Inc                            32        6.103500  \n",
       "Sun Solar Energy Solutions                  31        7.665000  \n",
       "Ambassador Energy, Inc                      31        5.721000  \n",
       "Jamar Power System                          29        5.194000  \n",
       "\n",
       "[100 rows x 4 columns]"
      ]
     },
     "execution_count": 308,
     "metadata": {},
     "output_type": "execute_result"
    }
   ],
   "source": [
    "df_agg_top"
   ]
  },
  {
   "cell_type": "code",
   "execution_count": 211,
   "metadata": {
    "collapsed": true
   },
   "outputs": [],
   "source": [
    "import matplotlib.patches as mpatches"
   ]
  },
  {
   "cell_type": "code",
   "execution_count": 217,
   "metadata": {
    "collapsed": true
   },
   "outputs": [],
   "source": [
    "from matplotlib.legend_handler import HandlerPatch"
   ]
  },
  {
   "cell_type": "code",
   "execution_count": 306,
   "metadata": {
    "collapsed": false
   },
   "outputs": [
    {
     "name": "stderr",
     "output_type": "stream",
     "text": [
      "/Users/wilfeli/anaconda/lib/python3.5/site-packages/matplotlib/collections.py:590: FutureWarning: elementwise comparison failed; returning scalar instead, but in the future will perform elementwise comparison\n",
      "  if self._edgecolors == str('face'):\n"
     ]
    },
    {
     "data": {
      "image/png": "[encoded data removed]",
      "text/plain": [
       "<matplotlib.figure.Figure at 0x110feb400>"
      ]
     },
     "metadata": {},
     "output_type": "display_data"
    }
   ],
   "source": [
    "N = 100\n",
    "x = df_agg_top['Price_Per_Watt']\n",
    "y = df_agg_top['System_Size_AC']\n",
    "norm = matplotlib.colors.Normalize(vmin=df_agg_top['Count'][N-1], vmax=df_agg_top['Count'][0])\n",
    "cmap_custom = cm.get_cmap('winter')\n",
    "area = norm(df_agg_top['Count'])\n",
    "color = []\n",
    "\n",
    "for area_x in area:\n",
    "    color.append(cmap_custom(area_x/2))\n",
    "    \n",
    "color[1] = (0.0, 0.65, 0.75, 1.0)\n",
    "    \n",
    "fig = plt.figure()\n",
    "ax = fig.add_subplot(1,1,1)\n",
    "ax.set_xlabel('Price Per Watt')\n",
    "ax.set_ylabel('System Size AC')\n",
    "    \n",
    "#plt.xlabel('Price Per Watt')\n",
    "#plt.ylabel('System Size AC')\n",
    "#plt.title('Number of Installations Per Company')\n",
    "\n",
    "ax.scatter(x, y, s=df_agg_top['Count'],  c = color )\n",
    "handles, labels = ax.get_legend_handles_labels()\n",
    "\n",
    "\n",
    "#names are here\n",
    "#df_agg.index.values[0:3]\n",
    "\n",
    "#colors are here\n",
    "#color[0:3]\n",
    "\n",
    "artists = []\n",
    "labels = []\n",
    "\n",
    "#create custom artists\n",
    "for i in range(3):\n",
    "    artists.append(mpatches.Circle((0, 0), 1.0, facecolor=color[i]))\n",
    "    labels.append(df_agg.index.values[i])\n",
    "\n",
    "\n",
    "class HandlerEllipse(HandlerPatch):\n",
    "    def create_artists(self, legend, orig_handle,\n",
    "                       xdescent, ydescent, width, height, fontsize, trans):\n",
    "        center = 0.5 * width - 0.5 * xdescent, 0.5 * height - 0.5 * ydescent\n",
    "        p = mpatches.Circle(xy=center, radius=width/10)\n",
    "        self.update_prop(p, orig_handle, legend)\n",
    "        p.set_transform(trans)\n",
    "        return [p]\n",
    "    \n",
    "\n",
    "#Create legend from custom artist/label lists\n",
    "ax.legend(artists,\n",
    "          labels,\n",
    "         handler_map={mpatches.Circle: HandlerEllipse()}, bbox_to_anchor=(0.9, 0.9),\n",
    "           bbox_transform=plt.gcf().transFigure, fontsize=5\n",
    "         )\n",
    "\n",
    "\n",
    "\n",
    "#plt.scatter(x, y, s=df_agg_top['Count'],  c = color )\n",
    "plt.savefig('Installers_size.png', dpi=300)\n",
    "plt.show()\n"
   ]
  },
  {
   "cell_type": "code",
   "execution_count": 243,
   "metadata": {
    "collapsed": false
   },
   "outputs": [
    {
     "data": {
      "text/plain": [
       "count    1007.000000\n",
       "mean        5.005716\n",
       "std         2.838988\n",
       "min         1.655887\n",
       "25%         4.314610\n",
       "50%         4.721451\n",
       "75%         5.160272\n",
       "max        54.659443\n",
       "Name: Price_Per_Watt, dtype: float64"
      ]
     },
     "execution_count": 243,
     "metadata": {},
     "output_type": "execute_result"
    }
   ],
   "source": [
    "df_sub['Price_Per_Watt'].describe()"
   ]
  },
  {
   "cell_type": "code",
   "execution_count": 253,
   "metadata": {
    "collapsed": false
   },
   "outputs": [
    {
     "data": {
      "text/html": [
       "<div>\n",
       "<table border=\"1\" class=\"dataframe\">\n",
       "  <thead>\n",
       "    <tr style=\"text-align: right;\">\n",
       "      <th></th>\n",
       "      <th>Total_System_Cost</th>\n",
       "      <th>System_Size_DC</th>\n",
       "      <th>System_Size_AC</th>\n",
       "      <th>Installer_Name_clear</th>\n",
       "      <th>Count</th>\n",
       "      <th>Price_Per_Watt</th>\n",
       "      <th>key1</th>\n",
       "    </tr>\n",
       "  </thead>\n",
       "  <tbody>\n",
       "    <tr>\n",
       "      <th>366405</th>\n",
       "      <td>30733.89</td>\n",
       "      <td>2.79032</td>\n",
       "      <td>2.683</td>\n",
       "      <td>SunPower Corporation</td>\n",
       "      <td>1</td>\n",
       "      <td>11.455047</td>\n",
       "      <td>1451</td>\n",
       "    </tr>\n",
       "  </tbody>\n",
       "</table>\n",
       "</div>"
      ],
      "text/plain": [
       "        Total_System_Cost  System_Size_DC  System_Size_AC  \\\n",
       "366405           30733.89         2.79032           2.683   \n",
       "\n",
       "        Installer_Name_clear  Count  Price_Per_Watt  key1  \n",
       "366405  SunPower Corporation      1       11.455047  1451  "
      ]
     },
     "execution_count": 253,
     "metadata": {},
     "output_type": "execute_result"
    }
   ],
   "source": [
    "df_sub[df_sub['Price_Per_Watt'] > 10]"
   ]
  },
  {
   "cell_type": "code",
   "execution_count": null,
   "metadata": {
    "collapsed": true
   },
   "outputs": [],
   "source": [
    "#second part - add efficiency data"
   ]
  },
  {
   "cell_type": "code",
   "execution_count": 255,
   "metadata": {
    "collapsed": false
   },
   "outputs": [],
   "source": [
    "#create dataframe for top installers \n",
    "top_installer_names = df_agg.index.values[0:10]\n",
    "df_model = df.loc[df['Installer_Name_clear'].isin(top_installer_names)]"
   ]
  },
  {
   "cell_type": "code",
   "execution_count": 256,
   "metadata": {
    "collapsed": false
   },
   "outputs": [
    {
     "data": {
      "text/plain": [
       "(9953, 111)"
      ]
     },
     "execution_count": 256,
     "metadata": {},
     "output_type": "execute_result"
    }
   ],
   "source": [
    "df_model.shape"
   ]
  },
  {
   "cell_type": "code",
   "execution_count": 259,
   "metadata": {
    "collapsed": false
   },
   "outputs": [
    {
     "data": {
      "text/plain": [
       "KU265-6ZPA            2088\n",
       "KU260-6XPA            1093\n",
       "SPR-230NE-BLK-D        932\n",
       "SW 280 Mono Black      622\n",
       "SPR-X21-345            621\n",
       "REC275TP               438\n",
       "SW 275 Mono Black      349\n",
       "SPR-X20-250-BLK        336\n",
       "Q.PRO BFR - G3 260     259\n",
       "REC260PE               220\n",
       "Name: Module_Model_1, dtype: int64"
      ]
     },
     "execution_count": 259,
     "metadata": {},
     "output_type": "execute_result"
    }
   ],
   "source": [
    "df_model['Module_Model_1'].value_counts()[0:10]"
   ]
  },
  {
   "cell_type": "code",
   "execution_count": 293,
   "metadata": {
    "collapsed": false
   },
   "outputs": [
    {
     "data": {
      "text/plain": [
       "PVI-3.0-OUTD-S-US-Z-A (240V)          1077\n",
       "PVI-3.6-OUTD-S-US-Z-A (240V)           674\n",
       "PVI-3.0-OUTD-S-US-A (240V)             658\n",
       "M215-60-2LL-S2X-IG                     626\n",
       "M250-60-2LL-S2X (-ZC) (-NA) (240V)     599\n",
       "SB3000TL-US-22 (240V)                  555\n",
       "SE3800 (240V) w/ -ER-US or A-US        415\n",
       "PVI-4.2-OUTD-S-US-Z-A (240V)           400\n",
       "SE5000 (240V) w/ -ER-US or A-US        396\n",
       "PVI-6000-OUTD-US-Z-A (240V)            369\n",
       "Name: Inverter_Model_1, dtype: int64"
      ]
     },
     "execution_count": 293,
     "metadata": {},
     "output_type": "execute_result"
    }
   ],
   "source": [
    "df_model['Inverter_Model_1'].value_counts()[0:10]"
   ]
  },
  {
   "cell_type": "code",
   "execution_count": null,
   "metadata": {
    "collapsed": true
   },
   "outputs": [],
   "source": []
  },
  {
   "cell_type": "code",
   "execution_count": 266,
   "metadata": {
    "collapsed": false
   },
   "outputs": [],
   "source": [
    "df_strange_inverters = df_model[(df_model['Inverter_Quantity_1'] > 1) & (df_model['Inverter_Quantity_1'] < df_model['Module_Quantity_1'])]"
   ]
  },
  {
   "cell_type": "code",
   "execution_count": 270,
   "metadata": {
    "collapsed": false
   },
   "outputs": [
    {
     "data": {
      "text/plain": [
       "<matplotlib.axes._subplots.AxesSubplot at 0x10f1608d0>"
      ]
     },
     "execution_count": 270,
     "metadata": {},
     "output_type": "execute_result"
    },
    {
     "data": {
      "image/png": "[encoded data removed]",
      "text/plain": [
       "<matplotlib.figure.Figure at 0x110455b70>"
      ]
     },
     "metadata": {},
     "output_type": "display_data"
    }
   ],
   "source": [
    "df_strange_inverters.loc[(df_strange_inverters['Inverter_Model_1'] == 'M215-60-2LL-S2X-IG')]['Inverter_Quantity_1'].hist()"
   ]
  }
 ],
 "metadata": {
  "kernelspec": {
   "display_name": "Python [default]",
   "language": "python",
   "name": "python3"
  },
  "language_info": {
   "codemirror_mode": {
    "name": "ipython",
    "version": 3
   },
   "file_extension": ".py",
   "mimetype": "text/x-python",
   "name": "python",
   "nbconvert_exporter": "python",
   "pygments_lexer": "ipython3",
   "version": "3.5.2"
  }
 },
 "nbformat": 4,
 "nbformat_minor": 0
}
