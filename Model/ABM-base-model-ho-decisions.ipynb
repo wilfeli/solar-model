{
 "cells": [
  {
   "cell_type": "markdown",
   "metadata": {},
   "source": [
    "Number of classes, each class in a map, \n",
    "has number of names parameters - each parameter is vector\n"
   ]
  },
  {
   "cell_type": "code",
   "execution_count": 1,
   "metadata": {
    "collapsed": true
   },
   "outputs": [],
   "source": [
    "import json\n",
    "from pprint import pprint\n",
    "import pandas as pd\n",
    "import numpy as np\n",
    "%matplotlib inline\n",
    "import matplotlib.pyplot as plt\n",
    "from matplotlib import cm\n",
    "import matplotlib.patches as mpatches\n",
    "import matplotlib\n",
    "matplotlib.style.use('ggplot')\n",
    "#ols models\n",
    "import statsmodels.formula.api as sm\n",
    "from patsy import dmatrices\n",
    "import re\n",
    "import scipy as sp\n",
    "from tools import print_columns\n",
    "import csv"
   ]
  },
  {
   "cell_type": "markdown",
   "metadata": {
    "collapsed": true
   },
   "source": [
    "Estimating logit model\n",
    "http://stackoverflow.com/questions/27558067/why-are-the-logistic-regression-results-different-between-statsmodels-and-r\n",
    "https://community.jmp.com/thread/59720\n",
    "http://stats.stackexchange.com/questions/9715/how-to-set-up-and-estimate-a-multinomial-logit-model-in-r\n",
    "http://www.ats.ucla.edu/stat/r/dae/mlogit.htm\n",
    "http://stackoverflow.com/questions/13656699/update-r-using-rstudio\n",
    "https://cran.r-project.org/web/packages/mlogit/vignettes/mlogit.pdf\n",
    "https://cran.r-project.org/web/packages/mlogit/vignettes/Exercises.pdf\n",
    "http://wak2.web.rice.edu/bio/My%20Reprints/The%20no-choice%20alternative%20in%20conjoint%20experiments.pdf\n",
    "https://cran.r-project.org/web/packages/mlogit/mlogit.pdf\n",
    "    "
   ]
  },
  {
   "cell_type": "code",
   "execution_count": 11,
   "metadata": {
    "collapsed": true
   },
   "outputs": [],
   "source": [
    "ncdecisions = {'type1':{'scheme':{'EParamTypes::HONCDecisionSEIRating':[3.0]}, 'frequency':0.1},\n",
    "              'type2':{'scheme':{'EParamTypes::HONCDecisionSEIRating':[4.0]}, 'frequency':0.5},\n",
    "              'type3':{'scheme':{'EParamTypes::HONCDecisionSEIRating':[5.0]}, 'frequency':0.4}}"
   ]
  },
  {
   "cell_type": "code",
   "execution_count": 12,
   "metadata": {
    "collapsed": true
   },
   "outputs": [],
   "source": [
    "with open('ho-ncdecisions.json', 'w') as outfile:\n",
    "    json.dump(ncdecisions, outfile)"
   ]
  },
  {
   "cell_type": "code",
   "execution_count": null,
   "metadata": {
    "collapsed": true
   },
   "outputs": [],
   "source": [
    "installer_decisions = {'type1':{'scheme':{'EParamTypes::SEIRating':[0.3, 0.3, 0.3], \n",
    "                      'EParamTypes::SEIInteractionType':[0.2, 0.2, 0.2], \n",
    "                      'EParamTypes::SEIEquipmentType':[0.1, 0.1, 0.1], \n",
    "                      'EParamTypes::SEIDecisionProjectTotalTime':[0.5],\n",
    "                     'EParamTypes::SEIWarranty':[0.2, 0.2, 0.2],\n",
    "                     'EParamTypes::SEIDecisionEstimatedSavings':[0.7],\n",
    "                      'EParamTypes::HODecisionSEIUtilityNone':[1.0]}, 'frequency':1.0}}"
   ]
  },
  {
   "cell_type": "code",
   "execution_count": 10,
   "metadata": {
    "collapsed": false
   },
   "outputs": [],
   "source": [
    "with open('ho-installerdecisions.json', 'w') as outfile:\n",
    "    json.dump(installer_decisions, outfile)"
   ]
  },
  {
   "cell_type": "code",
   "execution_count": null,
   "metadata": {
    "collapsed": true
   },
   "outputs": [],
   "source": []
  }
 ],
 "metadata": {
  "kernelspec": {
   "display_name": "Python 3",
   "language": "python",
   "name": "python3"
  },
  "language_info": {
   "codemirror_mode": {
    "name": "ipython",
    "version": 3
   },
   "file_extension": ".py",
   "mimetype": "text/x-python",
   "name": "python",
   "nbconvert_exporter": "python",
   "pygments_lexer": "ipython3",
   "version": "3.5.0"
  }
 },
 "nbformat": 4,
 "nbformat_minor": 0
}
