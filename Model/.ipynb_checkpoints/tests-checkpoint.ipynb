{
 "cells": [
  {
   "cell_type": "code",
   "execution_count": null,
   "metadata": {
    "collapsed": true
   },
   "outputs": [],
   "source": [
    "    std::vector<long> N_BINS;\n",
    "    std::vector<int64_t> N_BINS_CUM;\n",
    "    \n",
    "    //total number of bins\n",
    "    N_BINS_CUM.push_back(1);\n",
    "    \n",
    "    for (const auto& node: pt)\n",
    "    {\n",
    "        N_BINS.push_back(node.second.get<long>(\"N_BINS\"));\n",
    "    };\n",
    "    \n",
    "    for (auto i = 0; i < N_BINS.size(); ++i)\n",
    "    {\n",
    "        N_BINS_CUM[i + 1] = N_BINS_CUM[i] * N_BINS[N_BINS.size() - 1 - i];\n",
    "    };\n",
    "    std::vector<std::vector<long>> bins(N_BINS_CUM.back(), std::vector<long>(N_BINS.size(), 0.0));\n",
    "    \n",
    "    \n",
    "    for (int64_t i = 0; i < bins.size(); ++i)\n",
    "    {\n",
    "        for(int64_t j = 0; j < N_BINS.size(); ++j)\n",
    "        {\n",
    "            //\n",
    "            auto N_TAILS = N_BINS_CUM[N_BINS_CUM.size() - 2 - j];\n",
    "            auto i_sub = i % (N_TAILS * N_BINS[j]);\n",
    "            long k = i_sub/N_TAILS;\n",
    "            bins[i][j] = k;\n",
    "        };\n",
    "    }\n"
   ]
  },
  {
   "cell_type": "code",
   "execution_count": 12,
   "metadata": {
    "collapsed": true
   },
   "outputs": [],
   "source": [
    "N_BINS = [3, 4, 5]\n",
    "N_BINS_CUM = [1]"
   ]
  },
  {
   "cell_type": "code",
   "execution_count": 13,
   "metadata": {
    "collapsed": false
   },
   "outputs": [],
   "source": [
    "for i in range(len(N_BINS)):\n",
    "        N_BINS_CUM.append(N_BINS_CUM[i] * N_BINS[- i - 1])\n",
    "        "
   ]
  },
  {
   "cell_type": "code",
   "execution_count": 14,
   "metadata": {
    "collapsed": false
   },
   "outputs": [
    {
     "data": {
      "text/plain": [
       "[1, 5, 20, 60]"
      ]
     },
     "execution_count": 14,
     "metadata": {},
     "output_type": "execute_result"
    }
   ],
   "source": [
    "N_BINS_CUM"
   ]
  },
  {
   "cell_type": "code",
   "execution_count": 15,
   "metadata": {
    "collapsed": true
   },
   "outputs": [],
   "source": [
    "import numpy as np"
   ]
  },
  {
   "cell_type": "code",
   "execution_count": 20,
   "metadata": {
    "collapsed": true
   },
   "outputs": [],
   "source": [
    "bins = np.zeros((N_BINS_CUM[-1], len(N_BINS)))"
   ]
  },
  {
   "cell_type": "code",
   "execution_count": 23,
   "metadata": {
    "collapsed": false
   },
   "outputs": [],
   "source": [
    "for i in range(N_BINS_CUM[-1]):\n",
    "    for j in range(len(N_BINS)):\n",
    "        N_TAILS = N_BINS_CUM[- 2 - j]\n",
    "        i_sub = i % (N_TAILS * N_BINS[j])\n",
    "        k = int(i_sub/N_TAILS)\n",
    "        bins[i][j] = k"
   ]
  },
  {
   "cell_type": "code",
   "execution_count": 24,
   "metadata": {
    "collapsed": false
   },
   "outputs": [
    {
     "data": {
      "text/plain": [
       "array([[ 0.,  0.,  0.],\n",
       "       [ 0.,  0.,  1.],\n",
       "       [ 0.,  0.,  2.],\n",
       "       [ 0.,  0.,  3.],\n",
       "       [ 0.,  0.,  4.],\n",
       "       [ 0.,  1.,  0.],\n",
       "       [ 0.,  1.,  1.],\n",
       "       [ 0.,  1.,  2.],\n",
       "       [ 0.,  1.,  3.],\n",
       "       [ 0.,  1.,  4.],\n",
       "       [ 0.,  2.,  0.],\n",
       "       [ 0.,  2.,  1.],\n",
       "       [ 0.,  2.,  2.],\n",
       "       [ 0.,  2.,  3.],\n",
       "       [ 0.,  2.,  4.],\n",
       "       [ 0.,  3.,  0.],\n",
       "       [ 0.,  3.,  1.],\n",
       "       [ 0.,  3.,  2.],\n",
       "       [ 0.,  3.,  3.],\n",
       "       [ 0.,  3.,  4.],\n",
       "       [ 1.,  0.,  0.],\n",
       "       [ 1.,  0.,  1.],\n",
       "       [ 1.,  0.,  2.],\n",
       "       [ 1.,  0.,  3.],\n",
       "       [ 1.,  0.,  4.],\n",
       "       [ 1.,  1.,  0.],\n",
       "       [ 1.,  1.,  1.],\n",
       "       [ 1.,  1.,  2.],\n",
       "       [ 1.,  1.,  3.],\n",
       "       [ 1.,  1.,  4.],\n",
       "       [ 1.,  2.,  0.],\n",
       "       [ 1.,  2.,  1.],\n",
       "       [ 1.,  2.,  2.],\n",
       "       [ 1.,  2.,  3.],\n",
       "       [ 1.,  2.,  4.],\n",
       "       [ 1.,  3.,  0.],\n",
       "       [ 1.,  3.,  1.],\n",
       "       [ 1.,  3.,  2.],\n",
       "       [ 1.,  3.,  3.],\n",
       "       [ 1.,  3.,  4.],\n",
       "       [ 2.,  0.,  0.],\n",
       "       [ 2.,  0.,  1.],\n",
       "       [ 2.,  0.,  2.],\n",
       "       [ 2.,  0.,  3.],\n",
       "       [ 2.,  0.,  4.],\n",
       "       [ 2.,  1.,  0.],\n",
       "       [ 2.,  1.,  1.],\n",
       "       [ 2.,  1.,  2.],\n",
       "       [ 2.,  1.,  3.],\n",
       "       [ 2.,  1.,  4.],\n",
       "       [ 2.,  2.,  0.],\n",
       "       [ 2.,  2.,  1.],\n",
       "       [ 2.,  2.,  2.],\n",
       "       [ 2.,  2.,  3.],\n",
       "       [ 2.,  2.,  4.],\n",
       "       [ 2.,  3.,  0.],\n",
       "       [ 2.,  3.,  1.],\n",
       "       [ 2.,  3.,  2.],\n",
       "       [ 2.,  3.,  3.],\n",
       "       [ 2.,  3.,  4.]])"
      ]
     },
     "execution_count": 24,
     "metadata": {},
     "output_type": "execute_result"
    }
   ],
   "source": [
    "bins"
   ]
  },
  {
   "cell_type": "code",
   "execution_count": null,
   "metadata": {
    "collapsed": true
   },
   "outputs": [],
   "source": []
  }
 ],
 "metadata": {
  "kernelspec": {
   "display_name": "Python 3",
   "language": "python",
   "name": "python3"
  },
  "language_info": {
   "codemirror_mode": {
    "name": "ipython",
    "version": 3
   },
   "file_extension": ".py",
   "mimetype": "text/x-python",
   "name": "python",
   "nbconvert_exporter": "python",
   "pygments_lexer": "ipython3",
   "version": "3.5.1"
  }
 },
 "nbformat": 4,
 "nbformat_minor": 0
}
