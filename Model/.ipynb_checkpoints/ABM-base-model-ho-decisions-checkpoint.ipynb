{
 "cells": [
  {
   "cell_type": "markdown",
   "metadata": {},
   "source": [
    "Number of classes, each class in a map, \n",
    "has number of names parameters - each parameter is vector\n"
   ]
  },
  {
   "cell_type": "code",
   "execution_count": 1,
   "metadata": {
    "collapsed": true
   },
   "outputs": [],
   "source": [
    "import json\n",
    "from pprint import pprint\n",
    "import pandas as pd\n",
    "import numpy as np\n",
    "%matplotlib inline\n",
    "import matplotlib.pyplot as plt\n",
    "from matplotlib import cm\n",
    "import matplotlib.patches as mpatches\n",
    "import matplotlib\n",
    "matplotlib.style.use('ggplot')\n",
    "#ols models\n",
    "import statsmodels.formula.api as sm\n",
    "from patsy import dmatrices\n",
    "import re\n",
    "import scipy as sp\n",
    "from tools import print_columns\n",
    "import csv"
   ]
  },
  {
   "cell_type": "markdown",
   "metadata": {
    "collapsed": true
   },
   "source": [
    "Estimating logit model\n",
    "http://stackoverflow.com/questions/27558067/why-are-the-logistic-regression-results-different-between-statsmodels-and-r\n",
    "https://community.jmp.com/thread/59720\n",
    "http://stats.stackexchange.com/questions/9715/how-to-set-up-and-estimate-a-multinomial-logit-model-in-r\n",
    "http://www.ats.ucla.edu/stat/r/dae/mlogit.htm\n",
    "http://stackoverflow.com/questions/13656699/update-r-using-rstudio\n",
    "https://cran.r-project.org/web/packages/mlogit/vignettes/mlogit.pdf\n",
    "https://cran.r-project.org/web/packages/mlogit/vignettes/Exercises.pdf\n",
    "http://wak2.web.rice.edu/bio/My%20Reprints/The%20no-choice%20alternative%20in%20conjoint%20experiments.pdf\n",
    "https://cran.r-project.org/web/packages/mlogit/mlogit.pdf\n",
    "    "
   ]
  },
  {
   "cell_type": "code",
   "execution_count": 8,
   "metadata": {
    "collapsed": true
   },
   "outputs": [],
   "source": [
    "ncdecisions = {'type1':{'scheme':{'EParamTypes::HONCDecisionSEIRating':[3.0]}, 'frequency':0.1},\n",
    "              'type2':{'scheme':{'EParamTypes::HONCDecisionSEIRating':[4.0]}, 'frequency':0.5},\n",
    "              'type3':{'scheme':{'EParamTypes::HONCDecisionSEIRating':[5.0]}, 'frequency':0.4}}\n",
    "\n",
    "#TODO add total price\n"
   ]
  },
  {
   "cell_type": "code",
   "execution_count": 9,
   "metadata": {
    "collapsed": true
   },
   "outputs": [],
   "source": [
    "with open('ho-ncdecisions.json', 'w') as outfile:\n",
    "    json.dump(ncdecisions, outfile)"
   ]
  },
  {
   "cell_type": "code",
   "execution_count": 4,
   "metadata": {
    "collapsed": true
   },
   "outputs": [],
   "source": [
    "installer_decisions = {'type1':{'scheme':{'EParamTypes::SEIRating':[0.3, 0.3, 0.3], \n",
    "                      'EParamTypes::SEIInteractionType':[0.2, 0.2, 0.2], \n",
    "                      'EParamTypes::SEIEquipmentType':[0.1, 0.1, 0.1], \n",
    "                      'EParamTypes::HOSEIDecisionProjectTotalTime':[0.5],\n",
    "                     'EParamTypes::SEIWarranty':[0.2, 0.2, 0.2],\n",
    "                     'EParamTypes::HOSEIDecisionEstimatedNetSavings':[0.7],\n",
    "                      'EParamTypes::HODecisionSEIUtilityNone':[1.0]}, 'frequency':1.0}}"
   ]
  },
  {
   "cell_type": "code",
   "execution_count": 5,
   "metadata": {
    "collapsed": false
   },
   "outputs": [],
   "source": [
    "with open('ho-installerdecisions.json', 'w') as outfile:\n",
    "    json.dump(installer_decisions, outfile)"
   ]
  },
  {
   "cell_type": "code",
   "execution_count": 6,
   "metadata": {
    "collapsed": true
   },
   "outputs": [],
   "source": [
    "design_decisions = {\n",
    "  \"type1\": {\n",
    "    \"scheme\": {\n",
    "      \"EParamTypes::HODesignDecisionPanelEfficiency\":[1.0],\n",
    "      \"EParamTypes::HODesignDecisionPanelVisibility\":[0.5, 0.5],\n",
    "      \"EParamTypes::HODesignDecisionInverterType\":[0.1,0.1,0.1],\n",
    "      \"EParamTypes::HODesignDecisionFailures\":[0.3],\n",
    "      \"EParamTypes::HODesignDecisionCO2\":[0.2],\n",
    "      \"EParamTypes::HODesignDecisionEstimatedNetSavings\":[0.5],\n",
    "      \"EParamTypes::HODesignDecisionUtilityNone\":[1.0]\n",
    "    },\n",
    "    \"frequency\":1.0\n",
    "  }\n",
    "}\n"
   ]
  },
  {
   "cell_type": "code",
   "execution_count": 7,
   "metadata": {
    "collapsed": true
   },
   "outputs": [],
   "source": [
    "with open('ho-designdecisions.json', 'w') as outfile:\n",
    "    json.dump(design_decisions, outfile)"
   ]
  },
  {
   "cell_type": "code",
   "execution_count": 26,
   "metadata": {
    "collapsed": true
   },
   "outputs": [],
   "source": [
    "def plot_xy(x_, y_, title_x, title_y):    \n",
    "    xmin = x.min()\n",
    "    xmax = x.max()\n",
    "    ymin = -1.0\n",
    "    ymax = 1.0\n",
    "\n",
    "    plt.subplots_adjust(hspace=0.5)\n",
    "    fig = plt.figure()\n",
    "    ax = fig.add_subplot(1,1,1)\n",
    "    plt.plot(x, y)\n",
    "    plt.axis([xmin, xmax, ymin, ymax])\n",
    "    ax.set_xlabel(title_x)\n",
    "    ax.set_ylabel(title_y)\n",
    "\n",
    "    plt_name = title_x + '-' + title_y + '.png'\n",
    "    \n",
    "    plt.savefig(plt_name, dpi=300)\n",
    "    plt.show()"
   ]
  },
  {
   "cell_type": "code",
   "execution_count": 12,
   "metadata": {
    "collapsed": false
   },
   "outputs": [],
   "source": [
    "with open('../../ABMIRISLab/Source/Examples/BaseModel/ho-installerdecisions.json') as infile:\n",
    "        data_raw = json.load(infile)"
   ]
  },
  {
   "cell_type": "code",
   "execution_count": 3,
   "metadata": {
    "collapsed": true
   },
   "outputs": [],
   "source": [
    "from os import listdir\n"
   ]
  },
  {
   "cell_type": "code",
   "execution_count": 9,
   "metadata": {
    "collapsed": false
   },
   "outputs": [
    {
     "data": {
      "text/plain": [
       "['.DS_Store',\n",
       " 'basemodel.model',\n",
       " 'df_installers.csv',\n",
       " 'distribution.json',\n",
       " 'g.json',\n",
       " 'geography.json',\n",
       " 'ho-designdecisions.json',\n",
       " 'ho-installerdecisions.json',\n",
       " 'ho-ncdecisions.json',\n",
       " 'ho.json',\n",
       " 'joint_distribution.csv',\n",
       " 'market.json',\n",
       " 'sei.json',\n",
       " 'sem.json',\n",
       " 'solar_equipment.json',\n",
       " 'solar_module.json',\n",
       " 'utility.json',\n",
       " 'w.json']"
      ]
     },
     "execution_count": 9,
     "metadata": {},
     "output_type": "execute_result"
    }
   ],
   "source": [
    "listdir('../../ABMIRISLab/Source/Examples/BaseModel')"
   ]
  },
  {
   "cell_type": "code",
   "execution_count": 13,
   "metadata": {
    "collapsed": false
   },
   "outputs": [
    {
     "name": "stdout",
     "output_type": "stream",
     "text": [
      "{'type1': {'scheme': {'EParamTypes::SEIWarranty': [0.074677, 0.074677, 0.074677], 'EParamTypes::SEIEquipmentType': [-0.2166887, -0.0079533, 0.224642], 'EParamTypes::SEIRating': [-1.0403794, 0.2408452, 0.7995342], 'EParamTypes::HOSEIDecisionUtilityNone': [0.5197628], 'EParamTypes::SEIInteractionType': [-0.0257858, -0.0189546, 0.0447404], 'EParamTypes::HOSEIDecisionTotalProjectTime': [-0.1481597], 'EParamTypes::HOSEIDecisionEstimatedNetSavings': [3.64675]}, 'frequency': 1}}\n"
     ]
    }
   ],
   "source": [
    "print(data_raw)"
   ]
  },
  {
   "cell_type": "code",
   "execution_count": null,
   "metadata": {
    "collapsed": true
   },
   "outputs": [],
   "source": [
    "#assume that it is 15 years warranty\n",
    "#equipment type middle \n",
    "#rating middle \n",
    "#interaction type middle \n",
    "#project time 1 month \n",
    "#savings 0.10 "
   ]
  },
  {
   "cell_type": "code",
   "execution_count": 14,
   "metadata": {
    "collapsed": true
   },
   "outputs": [],
   "source": [
    "data = data_raw['type1']['scheme']\n"
   ]
  },
  {
   "cell_type": "code",
   "execution_count": 20,
   "metadata": {
    "collapsed": false
   },
   "outputs": [
    {
     "name": "stdout",
     "output_type": "stream",
     "text": [
      "3.0093076\n"
     ]
    }
   ],
   "source": [
    "utility = data['EParamTypes::SEIWarranty'][1] * 15 + \\\n",
    "            data['EParamTypes::SEIEquipmentType'][1] + \\\n",
    "            data['EParamTypes::SEIRating'][1] + \\\n",
    "            data['EParamTypes::SEIInteractionType'][1] + \\\n",
    "            data['EParamTypes::HOSEIDecisionTotalProjectTime'][0] * 1 + \\\n",
    "            data['EParamTypes::HOSEIDecisionEstimatedNetSavings'][0] * 0.5\n",
    "            \n",
    "print(utility)"
   ]
  },
  {
   "cell_type": "code",
   "execution_count": 22,
   "metadata": {
    "collapsed": false
   },
   "outputs": [],
   "source": [
    "\n",
    "def calculate_utility(savings):\n",
    "    return data['EParamTypes::SEIWarranty'][1] * 15 + \\\n",
    "            data['EParamTypes::SEIEquipmentType'][1] + \\\n",
    "            data['EParamTypes::SEIRating'][1] + \\\n",
    "            data['EParamTypes::SEIInteractionType'][1] + \\\n",
    "            data['EParamTypes::HOSEIDecisionTotalProjectTime'][0] * 1 + \\\n",
    "            data['EParamTypes::HOSEIDecisionEstimatedNetSavings'][0] * savings "
   ]
  },
  {
   "cell_type": "code",
   "execution_count": 28,
   "metadata": {
    "collapsed": false
   },
   "outputs": [
    {
     "name": "stdout",
     "output_type": "stream",
     "text": [
      "[-2.4608174 -1.7314674 -1.0021174 -0.2727674  0.4565826  1.1859326\n",
      "  1.9152826  2.6446326  3.3739826  4.1033326  4.8326826]\n",
      "[-1.  -0.8 -0.6 -0.4 -0.2  0.   0.2  0.4  0.6  0.8  1. ]\n"
     ]
    },
    {
     "data": {
      "text/plain": [
       "<matplotlib.figure.Figure at 0x109c40048>"
      ]
     },
     "metadata": {},
     "output_type": "display_data"
    },
    {
     "data": {
      "image/png": "[encoded data removed]",
      "text/plain": [
       "<matplotlib.figure.Figure at 0x109c71b00>"
      ]
     },
     "metadata": {},
     "output_type": "display_data"
    }
   ],
   "source": [
    "y = np.zeros(11)\n",
    "x = np.zeros(11)\n",
    "i = 0\n",
    "#draw percent of a bill vs savings graph\n",
    "for step in np.linspace(-1.0, 1.0, num=11):\n",
    "    savings = step\n",
    "    #call function, get percent_savings\n",
    "    utility = calculate_utility(savings)\n",
    "    y[i] = utility\n",
    "    x[i] = savings\n",
    "    i = i + 1\n",
    "\n",
    "#print points\n",
    "print(y)\n",
    "print(x)\n",
    "    \n",
    "#draw graph\n",
    "plot_xy(x, y, 'Utility','Net savings (loan)')"
   ]
  },
  {
   "cell_type": "code",
   "execution_count": null,
   "metadata": {
    "collapsed": true
   },
   "outputs": [],
   "source": []
  }
 ],
 "metadata": {
  "anaconda-cloud": {},
  "kernelspec": {
   "display_name": "Python 3",
   "language": "python",
   "name": "python3"
  },
  "language_info": {
   "codemirror_mode": {
    "name": "ipython",
    "version": 3
   },
   "file_extension": ".py",
   "mimetype": "text/x-python",
   "name": "python",
   "nbconvert_exporter": "python",
   "pygments_lexer": "ipython3",
   "version": "3.5.0"
  }
 },
 "nbformat": 4,
 "nbformat_minor": 0
}
