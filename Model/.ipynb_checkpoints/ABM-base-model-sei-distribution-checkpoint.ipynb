{
 "cells": [
  {
   "cell_type": "markdown",
   "metadata": {},
   "source": [
    "## TODO\n",
    "\n",
    "Look at dataset, list by size and pick top 100 "
   ]
  },
  {
   "cell_type": "code",
   "execution_count": 4,
   "metadata": {
    "collapsed": true
   },
   "outputs": [],
   "source": [
    "import json\n",
    "from pprint import pprint\n",
    "import pandas as pd\n",
    "import numpy as np\n",
    "%matplotlib inline\n",
    "import matplotlib.pyplot as plt\n",
    "from matplotlib import cm\n",
    "import matplotlib.patches as mpatches\n",
    "import matplotlib\n",
    "matplotlib.style.use('ggplot')\n",
    "#ols models\n",
    "import statsmodels.formula.api as sm\n",
    "from patsy import dmatrices\n",
    "import re\n",
    "import scipy as sp\n",
    "from tools import print_columns\n",
    "import csv\n",
    "import math"
   ]
  },
  {
   "cell_type": "markdown",
   "metadata": {},
   "source": [
    "Possible screening rules \n",
    "- proximity to homeowner, need population per zip code in San Jose. Simple assume that just density per tile. One tile = one zip code. \n",
    "- offered savings, need to convert price per watt into savings \n",
    "- customer rating \n",
    "- "
   ]
  },
  {
   "cell_type": "markdown",
   "metadata": {},
   "source": [
    "For each in top 100 create customer rating  - scrape yelp  "
   ]
  },
  {
   "cell_type": "markdown",
   "metadata": {},
   "source": [
    "pick 1 installer from narrowed down via screening rules, this installer is offering 1 project - compare to none option and pick it. Depends on the "
   ]
  },
  {
   "cell_type": "markdown",
   "metadata": {},
   "source": [
    "interaction - depends on the number of installed projects - goes by size\n",
    "distribution of locations - from NEM\n"
   ]
  },
  {
   "cell_type": "markdown",
   "metadata": {},
   "source": [
    "warranty - could not get distribution, assume basically it from bla and maybe from survey"
   ]
  },
  {
   "cell_type": "markdown",
   "metadata": {},
   "source": [
    "total project time - ? need to think\n",
    "will have from dataset some version of a time \n"
   ]
  },
  {
   "cell_type": "markdown",
   "metadata": {},
   "source": [
    "equipment technology - will have from dataset, but need to actually transform data - will need a lot of help. \n",
    "Alternative is assign by size with some distribution."
   ]
  },
  {
   "cell_type": "markdown",
   "metadata": {},
   "source": [
    "from panels on the market that are used by installers - get type of installer - panel efficiency, panel visibility"
   ]
  },
  {
   "cell_type": "markdown",
   "metadata": {},
   "source": [
    "1 installer is offering 2? types of systems - look into actual data to see what types they are offering "
   ]
  },
  {
   "cell_type": "markdown",
   "metadata": {},
   "source": [
    "failures in first years - tie into inverter type. \n",
    "Assume basic failure rate. Check with actual data that might get from the survey. \n",
    "Question about amount of maintenance that need"
   ]
  },
  {
   "cell_type": "markdown",
   "metadata": {},
   "source": [
    "Top 100 for each have Rating, InteractionType, EquipmentType, TotalProjectTime, Warranty\n",
    "\n",
    "Generate 100 agents in Python with customization and import list of parameters into c++"
   ]
  },
  {
   "cell_type": "markdown",
   "metadata": {},
   "source": []
  },
  {
   "cell_type": "markdown",
   "metadata": {
    "collapsed": true
   },
   "source": [
    "Getting information from yelp \n",
    "https://github.com/codelucas/yelpcrawl/blob/master/crawler.py\n",
    "https://www.yelp.com/search?start=0&cflt=solarinstallation&find_loc=94536&ns=1\n"
   ]
  },
  {
   "cell_type": "markdown",
   "metadata": {},
   "source": [
    "Estimating costs for SEI\n",
    "http://citeseerx.ist.psu.edu/viewdoc/download?doi=10.1.1.718.3427&rep=rep1&type=pdf\n",
    "    "
   ]
  },
  {
   "cell_type": "code",
   "execution_count": 2,
   "metadata": {
    "collapsed": true
   },
   "outputs": [],
   "source": [
    "sei = {'EParamTypes::SEIRating':3.0, \n",
    "       'EParamTypes::SEIInteractionType':0.0,\n",
    "       'EParamTypes::SEIEquipmentType':1.0, \n",
    "       'EParamTypes::SEILeadInProjectTime':10.0, \n",
    "       'EParamTypes::SEIWarranty':5*52}"
   ]
  },
  {
   "cell_type": "code",
   "execution_count": 3,
   "metadata": {
    "collapsed": true
   },
   "outputs": [],
   "source": [
    "seis = []\n",
    "#create test sei \n",
    "for i in range(3):\n",
    "    sei['EParamTypes::SEIRating'] = 3.0 + i\n",
    "    seis.append(sei.copy())\n",
    "    "
   ]
  },
  {
   "cell_type": "code",
   "execution_count": 4,
   "metadata": {
    "collapsed": true
   },
   "outputs": [],
   "source": [
    "with open('sei-params.json', 'w') as outfile:\n",
    "    json.dump(seis, outfile)"
   ]
  },
  {
   "cell_type": "markdown",
   "metadata": {},
   "source": [
    "Power optimizer producers\n",
    "http://www.solaredge.com/us/products/power-optimizer#/\n",
    "http://www.solaredge.com/sites/default/files/solaredge-reliability-methodology.pdf\n",
    "https://www.energysage.com/solar/101/microinverter-power-optimizer-options\n",
    "\n",
    "   \n",
    "   "
   ]
  },
  {
   "cell_type": "code",
   "execution_count": null,
   "metadata": {
    "collapsed": true
   },
   "outputs": [],
   "source": [
    "#calculator for CO2\n",
    "#https://www.epa.gov/energy/greenhouse-gas-equivalencies-calculator\n",
    "    \n",
    "    \n",
    "1000 - 0.665"
   ]
  },
  {
   "cell_type": "markdown",
   "metadata": {},
   "source": [
    "Estimates for failures\n",
    "http://www1.eere.energy.gov/solar/pdfs/pvmrw2011_01_plen_degraaff.pdf  - number pessimistic of 4% failures at 15 years for one panel\n",
    "file:///Users/wilfeli/ABM/SolarPanels/Readings/IEA-PVPS_T13-01_2014_Review_of_Failures_of_Photovoltaic_Modules_Final.pdf - 2% failure at 10 years\n",
    "\n",
    "http://www.renewableenergyworld.com/articles/2009/09/mtbf-and-reliability-a-misunderstood-relationship-in-solar-pv.html - explanation of MTBF\n",
    "\n",
    "http://pveducation.com/marketing-hype/micro-inverter-mtbf-marketing-hype/ - lower estimate of failures\n",
    "http://www.appropedia.org/Lifespan_and_Reliability_of_Solar_Photovoltaics_-_Literature_Review#MTBF_-_PVm.2C_Mean_Time_Before_Failure_of_Photovoltaic_modules_.282003.29 - general lit review\n",
    "    \n",
    "  \n",
    " http://intigaia.free.fr/BDPV/Documents/rapporto%20finale%20-%20progetto%20eu%205fp%20-%20mean%20time%20before%20failure%20(mtbf)%202003.pdf\n",
    "@article{realini2003mean,\n",
    "title={Mean time before failure of photovoltaic modules},\n",
    "author={Realini, Antonella}\n",
    "} - general info\n",
    "\n",
    "\n",
    "\n",
    "\n",
    "\n",
    "https://matter2energy.wordpress.com/2012/04/09/the-great-microinverter-debate/ - microinverters \n",
    "\n",
    "\n",
    "https://enphase.com/sites/default/files/Enphase-Warranty-US-CA.pdf - warranty for microinverters\n",
    "\n",
    "\n",
    "https://us.sunpower.com/sites/sunpower/files/media-library/white-papers/wp-sunpower-module-degradation-rate.pdf - research into different failure rates\n"
   ]
  },
  {
   "cell_type": "markdown",
   "metadata": {},
   "source": [
    "15 years - 0.04 failed"
   ]
  },
  {
   "cell_type": "markdown",
   "metadata": {},
   "source": [
    "x = 15\n",
    "f = 0.04\n",
    "1-e(-lambda*x) = f\n",
    "-e(-lambda*x) = f - 1\n",
    "e(-lambda*x) = 1 - f\n",
    "-lambda*x = log(1-f)\n",
    "lambda = - log(1-f)/x\n"
   ]
  },
  {
   "cell_type": "code",
   "execution_count": 7,
   "metadata": {
    "collapsed": false
   },
   "outputs": [
    {
     "data": {
      "text/plain": [
       "0.0027214663013503445"
      ]
     },
     "execution_count": 7,
     "metadata": {},
     "output_type": "execute_result"
    }
   ],
   "source": [
    "#from SumPower marketing\n",
    "fail = 0.04\n",
    "x = 15\n",
    "theta_0 = -math.log(1-fail)/x\n",
    "theta_0"
   ]
  },
  {
   "cell_type": "code",
   "execution_count": 27,
   "metadata": {
    "collapsed": false
   },
   "outputs": [
    {
     "data": {
      "text/plain": [
       "0.0020202707317519466"
      ]
     },
     "execution_count": 27,
     "metadata": {},
     "output_type": "execute_result"
    }
   ],
   "source": [
    "#from longitudal study \n",
    "fail = 0.02\n",
    "x = 10\n",
    "theta_0 = -math.log(1-fail)/x\n",
    "theta_0"
   ]
  },
  {
   "cell_type": "code",
   "execution_count": 28,
   "metadata": {
    "collapsed": false
   },
   "outputs": [
    {
     "data": {
      "text/plain": [
       "494.9831645250911"
      ]
     },
     "execution_count": 28,
     "metadata": {},
     "output_type": "execute_result"
    }
   ],
   "source": [
    "1/theta_0"
   ]
  },
  {
   "cell_type": "code",
   "execution_count": null,
   "metadata": {
    "collapsed": true
   },
   "outputs": [],
   "source": [
    "Total system falure rate\n",
    "#responsible for pv panels\n",
    "\n",
    "#add inverters \n"
   ]
  },
  {
   "cell_type": "code",
   "execution_count": 29,
   "metadata": {
    "collapsed": true
   },
   "outputs": [],
   "source": [
    "MTBF_micro = 300"
   ]
  },
  {
   "cell_type": "code",
   "execution_count": 30,
   "metadata": {
    "collapsed": true
   },
   "outputs": [],
   "source": [
    "theta_micro = 1/MTBF_micro"
   ]
  },
  {
   "cell_type": "code",
   "execution_count": 31,
   "metadata": {
    "collapsed": false
   },
   "outputs": [
    {
     "data": {
      "text/plain": [
       "0.0033333333333333335"
      ]
     },
     "execution_count": 31,
     "metadata": {},
     "output_type": "execute_result"
    }
   ],
   "source": [
    "theta_micro"
   ]
  },
  {
   "cell_type": "code",
   "execution_count": 16,
   "metadata": {
    "collapsed": false
   },
   "outputs": [
    {
     "data": {
      "text/plain": [
       "8.25791157705455"
      ]
     },
     "execution_count": 16,
     "metadata": {},
     "output_type": "execute_result"
    }
   ],
   "source": [
    "theta_system = theta_0*20 + theta_micro*20\n",
    "1/theta_system"
   ]
  },
  {
   "cell_type": "code",
   "execution_count": 24,
   "metadata": {
    "collapsed": true
   },
   "outputs": [],
   "source": [
    "MTBF_string = 10"
   ]
  },
  {
   "cell_type": "code",
   "execution_count": 25,
   "metadata": {
    "collapsed": true
   },
   "outputs": [],
   "source": [
    "theta_string = 1/MTBF_string"
   ]
  },
  {
   "cell_type": "code",
   "execution_count": 26,
   "metadata": {
    "collapsed": false
   },
   "outputs": [
    {
     "data": {
      "text/plain": [
       "6.475454019822103"
      ]
     },
     "execution_count": 26,
     "metadata": {},
     "output_type": "execute_result"
    }
   ],
   "source": [
    "theta_system = theta_0*20 +  theta_string\n",
    "1/theta_system"
   ]
  },
  {
   "cell_type": "code",
   "execution_count": null,
   "metadata": {
    "collapsed": true
   },
   "outputs": [],
   "source": []
  },
  {
   "cell_type": "code",
   "execution_count": 32,
   "metadata": {
    "collapsed": true
   },
   "outputs": [],
   "source": [
    "#read data\n",
    "df_full = pd.read_csv(\"../../Data/NEM_CurrentlyInterconnectedDataset_2016-06-30.csv\", low_memory=False)\n",
    "df_full.columns = df_full.columns.str.replace(' ','_')"
   ]
  },
  {
   "cell_type": "code",
   "execution_count": 34,
   "metadata": {
    "collapsed": false
   },
   "outputs": [
    {
     "name": "stdout",
     "output_type": "stream",
     "text": [
      "(0, 'Application_Id')\n",
      "(1, 'Matched_CSI_Application_Number')\n",
      "(2, 'Utility')\n",
      "(3, 'Service_City')\n",
      "(4, 'Service_Zip')\n",
      "(5, 'Service_County')\n",
      "(6, 'Technology_Type')\n",
      "(7, 'System_Size_DC')\n",
      "(8, 'System_Size_AC')\n",
      "(9, 'Tilt')\n",
      "(10, 'Azimuth')\n",
      "(11, 'Mounting_Method')\n",
      "(12, 'Tracking')\n",
      "(13, 'Customer_Sector')\n",
      "(14, 'App_Received_Date')\n",
      "(15, 'App_Complete_Date')\n",
      "(16, 'App_Approved_Date')\n",
      "(17, 'Self_Installer')\n",
      "(18, 'Installer_Name')\n",
      "(19, 'Installer_Phone')\n",
      "(20, 'Installer_City')\n",
      "(21, 'Installer_State')\n",
      "(22, 'Installer_Zip')\n",
      "(23, 'Third_Party_Owned')\n",
      "(24, 'Third_Party_Owned_Type')\n",
      "(25, 'Third_Party_Name')\n",
      "(26, 'Pace_Financed')\n",
      "(27, 'Pace_Financier')\n",
      "(28, 'Electric_Vehicle')\n",
      "(29, 'Electric_Vehicle_Count')\n",
      "(30, 'System_Output_Monitoring')\n",
      "(31, 'System_Output_Reports_To_Vendor?')\n",
      "(32, 'System_Output_Monitoring_Provider')\n",
      "(33, 'Total_System_Cost')\n",
      "(34, 'Itc_Cost_Basis')\n",
      "(35, 'VNEM,_NEM-V,_NEM-Agg')\n",
      "(36, 'Previous_Application')\n",
      "(37, 'Previous_Application_Ids')\n",
      "(38, 'NEM_Tariff')\n",
      "(39, 'Application_Status')\n",
      "(40, 'Project_is_VNEM,_NEM-V,_NEM-Agg?')\n",
      "(41, 'Module_Model_1')\n",
      "(42, 'Module_Manufacturer_1')\n",
      "(43, 'Module_Quantity_1')\n",
      "(44, 'Module_Model_2')\n",
      "(45, 'Module_Manufacturer_2')\n",
      "(46, 'Module_Quantity_2')\n",
      "(47, 'Module_Model_3')\n",
      "(48, 'Module_Manufacturer_3')\n",
      "(49, 'Module_Quantity_3')\n",
      "(50, 'Module_Model_4')\n",
      "(51, 'Module_Manufacturer_4')\n",
      "(52, 'Module_Quantity_4')\n",
      "(53, 'Module_Model_5')\n",
      "(54, 'Module_Manufacturer_5')\n",
      "(55, 'Module_Quantity_5')\n",
      "(56, 'Module_Model_6')\n",
      "(57, 'Module_Manufacturer_6')\n",
      "(58, 'Module_Quantity_6')\n",
      "(59, 'Module_Model_7')\n",
      "(60, 'Module_Manufacturer_7')\n",
      "(61, 'Module_Quantity_7')\n",
      "(62, 'Module_Model_8')\n",
      "(63, 'Module_Manufacturer_8')\n",
      "(64, 'Module_Quantity_8')\n",
      "(65, 'Module_Model_9')\n",
      "(66, 'Module_Manufacturer_9')\n",
      "(67, 'Module_Quantity_9')\n",
      "(68, 'Module_Model_10')\n",
      "(69, 'Module_Manufacturer_10')\n",
      "(70, 'Module_Quantity_10')\n",
      "(71, 'Inverter_Model_1')\n",
      "(72, 'Inverter_Manufacturer_1')\n",
      "(73, 'Inverter_Quantity_1')\n",
      "(74, 'Inverter_Model_2')\n",
      "(75, 'Inverter_Manufacturer_2')\n",
      "(76, 'Inverter_Quantity_2')\n",
      "(77, 'Inverter_Model_3')\n",
      "(78, 'Inverter_Manufacturer_3')\n",
      "(79, 'Inverter_Quantity_3')\n",
      "(80, 'Inverter_Model_4')\n",
      "(81, 'Inverter_Manufacturer_4')\n",
      "(82, 'Inverter_Quantity_4')\n",
      "(83, 'Inverter_Model_5')\n",
      "(84, 'Inverter_Manufacturer_5')\n",
      "(85, 'Inverter_Quantity_5')\n",
      "(86, 'Inverter_Model_6')\n",
      "(87, 'Inverter_Manufacturer_6')\n",
      "(88, 'Inverter_Quantity_6')\n",
      "(89, 'Inverter_Model_7')\n",
      "(90, 'Inverter_Manufacturer_7')\n",
      "(91, 'Inverter_Quantity_7')\n",
      "(92, 'Inverter_Model_8')\n",
      "(93, 'Inverter_Manufacturer_8')\n",
      "(94, 'Inverter_Quantity_8')\n",
      "(95, 'Inverter_Model_9')\n",
      "(96, 'Inverter_Manufacturer_9')\n",
      "(97, 'Inverter_Quantity_9')\n",
      "(98, 'Inverter_Model_10')\n",
      "(99, 'Inverter_Manufacturer_10')\n",
      "(100, 'Inverter_Quantity_10')\n",
      "(101, 'Inverter_Model_11')\n",
      "(102, 'Inverter_Manufacturer_11')\n",
      "(103, 'Inverter_Quantity_11')\n",
      "(104, 'Inverter_Model_12')\n",
      "(105, 'Inverter_Manufacturer_12')\n",
      "(106, 'Inverter_Quantity_12')\n",
      "(107, 'Inverter_Model_13')\n",
      "(108, 'Inverter_Manufacturer_13')\n",
      "(109, 'Inverter_Quantity_13')\n",
      "(110, 'Inverter_Model_14')\n",
      "(111, 'Inverter_Manufacturer_14')\n",
      "(112, 'Inverter_Quantity_14')\n"
     ]
    }
   ],
   "source": [
    "#cheat sheet for column names\n",
    "print_columns(df_full)"
   ]
  },
  {
   "cell_type": "code",
   "execution_count": 39,
   "metadata": {
    "collapsed": false
   },
   "outputs": [],
   "source": [
    "#get year from date\n",
    "df_full.ix[:,'App_Complete_Date'] =  pd.to_datetime(df_full.ix[:,'App_Complete_Date'], infer_datetime_format=True)\n",
    "df_full.ix[:,'App_Received_Date'] =  pd.to_datetime(df_full.ix[:,'App_Received_Date'], infer_datetime_format=True)\n",
    "df_full.ix[:,'App_Approved_Date'] =  pd.to_datetime(df_full.ix[:,'App_Approved_Date'], infer_datetime_format=True)\n",
    "df_full['App_Complete_Date_Year'] = df_full.ix[:,'App_Complete_Date'].dt.year\n",
    "#clean a little bit\n",
    "df_full = df_full[(df_full.T != 0).all()]"
   ]
  },
  {
   "cell_type": "code",
   "execution_count": 50,
   "metadata": {
    "collapsed": false
   },
   "outputs": [
    {
     "name": "stderr",
     "output_type": "stream",
     "text": [
      "/Users/wilfeli/anaconda/envs/aimacro/lib/python3.5/site-packages/ipykernel/__main__.py:3: SettingWithCopyWarning: \n",
      "A value is trying to be set on a copy of a slice from a DataFrame.\n",
      "Try using .loc[row_indexer,col_indexer] = value instead\n",
      "\n",
      "See the caveats in the documentation: http://pandas.pydata.org/pandas-docs/stable/indexing.html#indexing-view-versus-copy\n",
      "  app.launch_new_instance()\n"
     ]
    }
   ],
   "source": [
    "#keep cleaning\n",
    "df = df_full[(df_full['App_Complete_Date_Year'] > 2014) & \\\n",
    "             ((df_full['Total_System_Cost'] > 0.0) | \\\n",
    "              (df_full['Itc_Cost_Basis'] > 0.0)) & \\\n",
    "            (df_full['Customer_Sector'] == 'Residential')]\n",
    "df['Installer_Name_clear'] = df['Installer_Name']"
   ]
  },
  {
   "cell_type": "code",
   "execution_count": 51,
   "metadata": {
    "collapsed": false
   },
   "outputs": [
    {
     "data": {
      "text/plain": [
       "Residential    62372\n",
       "Name: Customer_Sector, dtype: int64"
      ]
     },
     "execution_count": 51,
     "metadata": {},
     "output_type": "execute_result"
    }
   ],
   "source": [
    "df['Customer_Sector'].value_counts()"
   ]
  },
  {
   "cell_type": "code",
   "execution_count": null,
   "metadata": {
    "collapsed": false
   },
   "outputs": [],
   "source": [
    "df['Installer_Name_clear'].value_counts()"
   ]
  },
  {
   "cell_type": "code",
   "execution_count": 53,
   "metadata": {
    "collapsed": false
   },
   "outputs": [
    {
     "name": "stderr",
     "output_type": "stream",
     "text": [
      "/Users/wilfeli/anaconda/envs/aimacro/lib/python3.5/site-packages/ipykernel/__main__.py:2: SettingWithCopyWarning: \n",
      "A value is trying to be set on a copy of a slice from a DataFrame.\n",
      "Try using .loc[row_indexer,col_indexer] = value instead\n",
      "\n",
      "See the caveats in the documentation: http://pandas.pydata.org/pandas-docs/stable/indexing.html#indexing-view-versus-copy\n",
      "  from ipykernel import kernelapp as app\n"
     ]
    }
   ],
   "source": [
    "#calculate length between receive and approve\n",
    "df['Permit_Length'] = df['App_Received_Date'] - df['App_Approved_Date']"
   ]
  },
  {
   "cell_type": "code",
   "execution_count": 54,
   "metadata": {
    "collapsed": false
   },
   "outputs": [
    {
     "data": {
      "text/plain": [
       "<matplotlib.axes._subplots.AxesSubplot at 0x105181d68>"
      ]
     },
     "execution_count": 54,
     "metadata": {},
     "output_type": "execute_result"
    },
    {
     "data": {
      "image/png": "[encoded data removed]",
      "text/plain": [
       "<matplotlib.figure.Figure at 0x1267ba6a0>"
      ]
     },
     "metadata": {},
     "output_type": "display_data"
    }
   ],
   "source": [
    "df['Permit_Length'].astype('timedelta64[D]').astype(int).hist()"
   ]
  },
  {
   "cell_type": "code",
   "execution_count": 55,
   "metadata": {
    "collapsed": false
   },
   "outputs": [
    {
     "data": {
      "text/plain": [
       "<matplotlib.axes._subplots.AxesSubplot at 0x105a8ac50>"
      ]
     },
     "execution_count": 55,
     "metadata": {},
     "output_type": "execute_result"
    },
    {
     "data": {
      "image/png": "[encoded data removed]",
      "text/plain": [
       "<matplotlib.figure.Figure at 0x10c625898>"
      ]
     },
     "metadata": {},
     "output_type": "display_data"
    }
   ],
   "source": [
    "df['Permit_Length'].astype('timedelta64[D]').astype(int).hist(bins = 100)"
   ]
  },
  {
   "cell_type": "code",
   "execution_count": 56,
   "metadata": {
    "collapsed": false
   },
   "outputs": [
    {
     "data": {
      "text/plain": [
       "count    62372.000000\n",
       "mean       -25.224075\n",
       "std         37.503546\n",
       "min       -409.000000\n",
       "25%        -32.000000\n",
       "50%         -9.000000\n",
       "75%         -3.000000\n",
       "max          0.000000\n",
       "Name: Permit_Length, dtype: float64"
      ]
     },
     "execution_count": 56,
     "metadata": {},
     "output_type": "execute_result"
    }
   ],
   "source": [
    "df['Permit_Length'].astype('timedelta64[D]').astype(int).describe()"
   ]
  },
  {
   "cell_type": "code",
   "execution_count": null,
   "metadata": {
    "collapsed": true
   },
   "outputs": [],
   "source": []
  },
  {
   "cell_type": "markdown",
   "metadata": {},
   "source": [
    "Create fake sei distribution "
   ]
  },
  {
   "cell_type": "markdown",
   "metadata": {},
   "source": [
    "from yelp - rating + name \n",
    "from name - size = number of installations = collaboration type \n",
    "size = number of installations = number of employed people \n",
    "equipment technology - from data go thorugh each list and assign properties to the techonologies in use\n",
    "total project time - assign uniformly over the resulting distribution \n",
    "\n",
    "\n",
    "data from "
   ]
  },
  {
   "cell_type": "code",
   "execution_count": 96,
   "metadata": {
    "collapsed": true
   },
   "outputs": [],
   "source": [
    "#create dummies for companies\n",
    "def company_dummy(row, templ, name):\n",
    "    if not pd.isnull(row['Installer_Name_clear']):\n",
    "        if templ.search(row['Installer_Name_clear']):\n",
    "            val = name\n",
    "        else:\n",
    "            val = row['Installer_Name_clear']\n",
    "    else:\n",
    "        val = row['Installer_Name_clear']\n",
    "    return val"
   ]
  },
  {
   "cell_type": "code",
   "execution_count": 222,
   "metadata": {
    "collapsed": false
   },
   "outputs": [
    {
     "name": "stderr",
     "output_type": "stream",
     "text": [
      "/Users/wilfeli/anaconda/envs/aimacro/lib/python3.5/site-packages/ipykernel/__main__.py:7: SettingWithCopyWarning: \n",
      "A value is trying to be set on a copy of a slice from a DataFrame.\n",
      "Try using .loc[row_indexer,col_indexer] = value instead\n",
      "\n",
      "See the caveats in the documentation: http://pandas.pydata.org/pandas-docs/stable/indexing.html#indexing-view-versus-copy\n"
     ]
    }
   ],
   "source": [
    "regexes = [[r'SolarCity', 'SolarCity Corporation'], \\\n",
    "           [r'SunPower', 'SunPower Corporation'], \\\n",
    "          [r'Sunrun', 'Sunrun Installation Services, Inc'], \\\n",
    "           [r'Petersen\\s+Dean', 'Petersen Dean Roofing & Solar Systems'], \\\n",
    "          [r'Semper Solaris', 'Semper Solaris Construction Inc'], \\\n",
    "          [r'Vivint', 'Vivint Solar Developer, LLC']]\n",
    "\n",
    "for names in regexes:\n",
    "    company_regex = names[0]\n",
    "    replace_name = names[1]\n",
    "    p = re.compile(company_regex, re.IGNORECASE)\n",
    "    df['Installer_Name_clear'] = df.apply (lambda row: company_dummy (row, p, replace_name),axis=1)"
   ]
  },
  {
   "cell_type": "code",
   "execution_count": null,
   "metadata": {
    "collapsed": true
   },
   "outputs": [],
   "source": [
    "# create index with rows that contain SolarCity\n",
    "# just an example of indexing\n",
    "index = (pd.notnull(df['Installer_Name'].str.contains('SolarCity')) & df['Installer_Name'].str.contains('SolarCity'))\n",
    "df[index == True]['Installer_Name'].value_counts()"
   ]
  },
  {
   "cell_type": "code",
   "execution_count": 64,
   "metadata": {
    "collapsed": false
   },
   "outputs": [],
   "source": [
    "#see top 100 by number of installations\n",
    "#for each check what equipment they are using - check top 2 in terms of number of installations "
   ]
  },
  {
   "cell_type": "code",
   "execution_count": 224,
   "metadata": {
    "collapsed": false
   },
   "outputs": [],
   "source": [
    "top_names = df['Installer_Name_clear'].value_counts()[0:100]"
   ]
  },
  {
   "cell_type": "code",
   "execution_count": 109,
   "metadata": {
    "collapsed": false
   },
   "outputs": [
    {
     "data": {
      "text/plain": [
       "KU265-6ZPA    8596\n",
       "Name: Module_Model_1, dtype: int64"
      ]
     },
     "execution_count": 109,
     "metadata": {},
     "output_type": "execute_result"
    }
   ],
   "source": [
    "df[df['Installer_Name_clear'] == top_names.index.values[0]]['Module_Model_1'].value_counts()[0:1]"
   ]
  },
  {
   "cell_type": "code",
   "execution_count": 239,
   "metadata": {
    "collapsed": false
   },
   "outputs": [
    {
     "data": {
      "text/plain": [
       "PVI-3.0-OUTD-S-US-Z-A (240V)    4746\n",
       "PVI-3.6-OUTD-S-US-Z-A (240V)    2820\n",
       "Name: Inverter_Model_1, dtype: int64"
      ]
     },
     "execution_count": 239,
     "metadata": {},
     "output_type": "execute_result"
    }
   ],
   "source": [
    "df[df['Installer_Name_clear'] == top_names.index.values[0]]['Inverter_Model_1'].value_counts()[0:2]"
   ]
  },
  {
   "cell_type": "code",
   "execution_count": 116,
   "metadata": {
    "collapsed": false
   },
   "outputs": [],
   "source": [
    "inverter_qn = df[df['Installer_Name_clear'] == top_names.index.values[0]]['Inverter_Quantity_1'].value_counts()"
   ]
  },
  {
   "cell_type": "code",
   "execution_count": 119,
   "metadata": {
    "collapsed": false
   },
   "outputs": [
    {
     "data": {
      "text/plain": [
       "1.0"
      ]
     },
     "execution_count": 119,
     "metadata": {},
     "output_type": "execute_result"
    }
   ],
   "source": [
    "inverter_qn.index.values[0]"
   ]
  },
  {
   "cell_type": "markdown",
   "metadata": {},
   "source": [
    "for each installer look at top 1 solar panel and top 2 inverters add them to general pool of all models that are used and general pool of inverters "
   ]
  },
  {
   "cell_type": "code",
   "execution_count": null,
   "metadata": {
    "collapsed": false
   },
   "outputs": [],
   "source": [
    "pv_modules = set()\n",
    "pv_modules_by_installer = {}\n",
    "pv_manufacturers = set()\n",
    "for installer in top_names.index.values:\n",
    "    pv_modules.add(df[df['Installer_Name_clear'] == installer]['Module_Model_1'].value_counts()[0:1].index.values[0])\n",
    "    pv_modules_by_installer[installer] = \\\n",
    "                    {'Module_Model_1':df[df['Installer_Name_clear'] == installer]['Module_Model_1'].value_counts()[0:1].index.values[0],\n",
    "                    'Count':df[df['Installer_Name_clear'] == installer]['Module_Model_1'].value_counts()[0:1].values[0]}\n",
    "    pv_manufacturers.add(df[df['Installer_Name_clear'] == installer]['Module_Manufacturer_1'].value_counts()[0:1].index.values[0])\n",
    "\n",
    "    "
   ]
  },
  {
   "cell_type": "code",
   "execution_count": 128,
   "metadata": {
    "collapsed": false
   },
   "outputs": [
    {
     "name": "stdout",
     "output_type": "stream",
     "text": [
      "{'LG300N1C-B3', 'SE-F270KzD-3y', 'SE-F265KzD-3y', 'SW 285 Mono', 'CS6P-255P', 'SW 280 Mono Black', 'SW260 Mono', 'SPR-230NE-BLK-D', 'Q.PRO BFR - G3 260', 'HiS-S260RG(BK)', 'HiS-S280RG', 'SW 260 Poly', 'SNPM-GxB-300', 'REC275TP', 'HiS-S270RG', 'Q.PRO BFR - G3 265', 'KD265GX-LFB2', 'LLE-6M260', 'Q.PRO-G3 260', 'SW 280 Mono', 'HiS-M255RG', 'SPR-E20-327', 'JC250M-24/Bx', 'HSL60P6-PC-3-260W', 'SLA260P', 'STL-140', 'Q.PRO BFR G4 260', 'CS6P-260P', 'PM250M01_265', 'TSM-250PA05.05', 'TSM-250PD05.05', 'KU265-6ZPA', 'LG280S1C-B3', 'KU265-6MCA', 'LG305N1C-B3', 'CS6X-310P', 'HiS-M250MG', 'SE-F270KzC-2y', 'SW250 Poly', 'SPR-X21-345', 'SPR-327NE-WHT-D', 'TSM-260PA05A', 'UP-M265M-B', 'SNPM-GxB-360', 'LG275S1C-B3', 'HiS-S265RG', 'Q.PEAK BLK-G3 270', 'SE-F270KzD-4y', 'REC260PE', 'LG315N1C-G4', 'YL255P-29b', 'SE-F270CzC-4y'}\n"
     ]
    }
   ],
   "source": [
    "print(pv_modules)"
   ]
  },
  {
   "cell_type": "code",
   "execution_count": 129,
   "metadata": {
    "collapsed": false
   },
   "outputs": [
    {
     "name": "stdout",
     "output_type": "stream",
     "text": [
      "{'Renesola America', 'Hanwha SolarOne (Qidong)', 'Lifeline Energy International', 'YINGLI ENERGY', 'Yingli Energy (China)', 'Kyocera Solar', 'AU Optronics', 'Sun Edison', 'Hyundai Heavy Industries', 'Stion', 'Sunpreme', 'REC Solar', 'Trina Solar', 'LG Electronics Solar Cell Division', 'Canadian Solar', 'SolarWorld', 'Silfab', 'Hanwha Q-Cells', 'Upsolar', 'SunPower'}\n"
     ]
    }
   ],
   "source": [
    "print(pv_manufacturers)"
   ]
  },
  {
   "cell_type": "code",
   "execution_count": 228,
   "metadata": {
    "collapsed": false
   },
   "outputs": [
    {
     "data": {
      "text/plain": [
       "51"
      ]
     },
     "execution_count": 228,
     "metadata": {},
     "output_type": "execute_result"
    }
   ],
   "source": [
    "len(pv_modules)"
   ]
  },
  {
   "cell_type": "code",
   "execution_count": 131,
   "metadata": {
    "collapsed": true
   },
   "outputs": [],
   "source": [
    "#read file with solar equipment\n",
    "with open('../../Data/solar_equipment.json') as data_file:    \n",
    "    pv_modules_data = json.load(data_file)"
   ]
  },
  {
   "cell_type": "code",
   "execution_count": 155,
   "metadata": {
    "collapsed": false
   },
   "outputs": [],
   "source": [
    "i = 0 \n",
    "pv_modules_dataframe_raw = []\n",
    "index_pv_modules_dataframe_raw = []\n",
    "for pv_module in pv_modules_data['solar_modules']:\n",
    "    pv_module['Efficiency'] = \\\n",
    "            float(pv_module[\"STC Power Rating\"]) / float(pv_module[\"Length\"]) / float(pv_module[\"Width\"]) * 1000\n",
    "    pv_module['Count'] = 0.0\n",
    "    pv_modules_dataframe_raw.append([pv_module['Name'], \\\n",
    "                                     pv_module['Efficiency'], \\\n",
    "                                     pv_module['Count']\n",
    "                                   ])\n",
    "    index_pv_modules_dataframe_raw.append(i)\n",
    "    i = i + 1"
   ]
  },
  {
   "cell_type": "code",
   "execution_count": 194,
   "metadata": {
    "collapsed": true
   },
   "outputs": [],
   "source": [
    "df_pv_modules = pd.DataFrame(data=pv_modules_dataframe_raw, \\\n",
    "                             index=index_pv_modules_dataframe_raw, columns = ['Name', 'Efficiency', 'Count'])"
   ]
  },
  {
   "cell_type": "markdown",
   "metadata": {},
   "source": [
    "select records with installer name and top module for that installer, save records into separate database?"
   ]
  },
  {
   "cell_type": "markdown",
   "metadata": {},
   "source": [
    "for each module find final number of uses, it will be its weight"
   ]
  },
  {
   "cell_type": "code",
   "execution_count": 229,
   "metadata": {
    "collapsed": false
   },
   "outputs": [],
   "source": [
    "for installer in top_names.index.values:\n",
    "    name = pv_modules_by_installer[installer]['Module_Model_1']\n",
    "    df_pv_modules.loc[df_pv_modules['Name'] == name, 'Count'] += pv_modules_by_installer[installer]['Count']  "
   ]
  },
  {
   "cell_type": "code",
   "execution_count": 198,
   "metadata": {
    "collapsed": false
   },
   "outputs": [
    {
     "data": {
      "text/plain": [
       "0.16743328524161546"
      ]
     },
     "execution_count": 198,
     "metadata": {},
     "output_type": "execute_result"
    }
   ],
   "source": [
    "np.average(a = df_pv_modules['Efficiency'], weights = df_pv_modules['Count'])"
   ]
  },
  {
   "cell_type": "code",
   "execution_count": 199,
   "metadata": {
    "collapsed": true
   },
   "outputs": [],
   "source": [
    "def weighted_avg_and_std(values, weights):\n",
    "    \"\"\"\n",
    "    Return the weighted average and standard deviation.\n",
    "\n",
    "    values, weights -- Numpy ndarrays with the same shape.\n",
    "    \"\"\"\n",
    "    average = np.average(values, weights=weights)\n",
    "    V1 = np.sum(weights)\n",
    "    variance = np.average((values-average)**2, weights=weights) * V1 / (V1-1) # Fast and numerically precise\n",
    "    return (average, math.sqrt(variance))"
   ]
  },
  {
   "cell_type": "code",
   "execution_count": 267,
   "metadata": {
    "collapsed": false
   },
   "outputs": [],
   "source": [
    "efficiency_stats = weighted_avg_and_std(df_pv_modules['Efficiency'], df_pv_modules['Count'])"
   ]
  },
  {
   "cell_type": "code",
   "execution_count": 270,
   "metadata": {
    "collapsed": false
   },
   "outputs": [
    {
     "name": "stdout",
     "output_type": "stream",
     "text": [
      "0.167446568157\n"
     ]
    }
   ],
   "source": [
    "print(efficiency_stats)"
   ]
  },
  {
   "cell_type": "markdown",
   "metadata": {},
   "source": [
    "if it is +- one standard deviation - code as Standard\n",
    "if higher - Cutting_Edge\n",
    "if lower - Traditional"
   ]
  },
  {
   "cell_type": "markdown",
   "metadata": {},
   "source": [
    "Name, Module_Name_1, Efficiency, Inverter_Name_1, Inverter_Type_1, Inverter_Name_2, Inverter_Type_2, Size, Rating, Interaction, Technology, LeadInProjectTime, Warranty"
   ]
  },
  {
   "cell_type": "code",
   "execution_count": 240,
   "metadata": {
    "collapsed": false
   },
   "outputs": [],
   "source": [
    "inverters_by_installer = {}\n",
    "for installer in top_names.index.values:\n",
    "    inverters_by_installer[installer] = \\\n",
    "        {\n",
    "            'Inverter_Model_1':df[df['Installer_Name_clear'] == installer]['Inverter_Model_1'].value_counts()[0:2].index.values[0],\n",
    "            'Inverter_Model_2':''\n",
    "        }\n",
    "    if len(df[df['Installer_Name_clear'] == installer]['Inverter_Model_1'].value_counts()[0:2].index.values) > 1:\n",
    "        inverters_by_installer[installer]['Inverter_Model_2'] = df[df['Installer_Name_clear'] == installer]['Inverter_Model_1'].value_counts()[0:2].index.values[1]"
   ]
  },
  {
   "cell_type": "code",
   "execution_count": 247,
   "metadata": {
    "collapsed": false
   },
   "outputs": [],
   "source": [
    "inverters = set()\n",
    "for installer in top_names.index.values:\n",
    "    inverters.add(inverters_by_installer[installer]['Inverter_Model_1'])\n",
    "    if (inverters_by_installer[installer]['Inverter_Model_2'] != ''):\n",
    "        inverters.add(inverters_by_installer[installer]['Inverter_Model_2'])\n"
   ]
  },
  {
   "cell_type": "code",
   "execution_count": 254,
   "metadata": {
    "collapsed": false
   },
   "outputs": [
    {
     "name": "stdout",
     "output_type": "stream",
     "text": [
      "SE 10000A-US (240V)\n",
      "M215-60-2LL-S2X-IG\n",
      "YC500A (240V)\n"
     ]
    }
   ],
   "source": [
    "#look at inverter in big database, check that module count is > 1 and see what is count of inverters, if 1 - central\n",
    "# if >= number of modules - micro \n",
    "#in between - report type\n",
    "inverter_types = {}\n",
    "for inverter in inverters:\n",
    "    row = df[df['Inverter_Model_1'] == inverter].iloc[0,:]\n",
    "    if (row['Module_Quantity_1'] > 1.0):\n",
    "        #check if it is micro\n",
    "        if (row['Inverter_Quantity_1'] >= row['Module_Quantity_1']):\n",
    "            #it is micro \n",
    "            inverter_types[inverter] = 'TechnologyInverterMicro'\n",
    "        elif (row['Inverter_Quantity_1'] == 1):\n",
    "            #it is central\n",
    "            inverter_types[inverter] = 'TechnologyInverterCentral'\n",
    "        else:\n",
    "            print(inverter)"
   ]
  },
  {
   "cell_type": "code",
   "execution_count": 285,
   "metadata": {
    "collapsed": true
   },
   "outputs": [],
   "source": [
    "#add missing types\n",
    "inverter_types['SE 10000A-US (240V)'] = 'TechnologyInverterCentral'\n",
    "inverter_types['M215-60-2LL-S2X-IG'] = 'TechnologyInverterMicro'\n",
    "inverter_types['YC500A (240V)'] = 'TechnologyInverterMicro'\n",
    "inverter_types['M215-60-2LL-S2X'] = 'TechnologyInverterMicro'\n",
    "inverter_types[''] = ''"
   ]
  },
  {
   "cell_type": "code",
   "execution_count": 283,
   "metadata": {
    "collapsed": false
   },
   "outputs": [
    {
     "name": "stdout",
     "output_type": "stream",
     "text": [
      "TechnologyInverterMicro\n"
     ]
    }
   ],
   "source": [
    "print(inverter_types['M215-60-2LL-S2X'])"
   ]
  },
  {
   "cell_type": "code",
   "execution_count": 259,
   "metadata": {
    "collapsed": false
   },
   "outputs": [
    {
     "data": {
      "text/plain": [
       "16824"
      ]
     },
     "execution_count": 259,
     "metadata": {},
     "output_type": "execute_result"
    }
   ],
   "source": [
    "top_names[top_names.index == 'SolarCity Corporation'].values[0]"
   ]
  },
  {
   "cell_type": "code",
   "execution_count": 292,
   "metadata": {
    "collapsed": false
   },
   "outputs": [
    {
     "name": "stdout",
     "output_type": "stream",
     "text": [
      "['SunPower Corporation', 'SPR-230NE-BLK-D', 0.20837636758316028, 'PVI-3.0-OUTD-S-US-A (240V)', 'TechnologyInverterCentral', 'SB3000TL-US-22 (240V)', 'TechnologyInverterCentral', 1922, 4.0, 'Independent', 'CuttingEdge']\n",
      "['Renova Energy Corp', 'SPR-E20-327', 0.20052565931242389, 'SB6000TL-US-22 (240V) (240V)', 'TechnologyInverterCentral', 'SB7700TL-US-22-240V', 'TechnologyInverterCentral', 570, 4.0, 'Moderate', 'CuttingEdge']\n",
      "['Zero Energy Associates', 'SW250 Poly', 0.14910462671656699, 'M215-60-2LL-S2X-IG', 'TechnologyInverterMicro', 'M250-60-2LL-S2X (-ZC) (-NA) (240V)', 'TechnologyInverterMicro', 495, 4.0, 'Moderate', 'Traditional']\n",
      "['Semper Solaris Construction Inc', 'SPR-X21-345', 0.21156376899934631, 'SB3800TL-US-22 (240V)', 'TechnologyInverterCentral', 'SB5000TL-US-22 (240V)', 'TechnologyInverterCentral', 444, 4.0, 'Moderate', 'CuttingEdge']\n",
      "['Smart Energy USA', 'SPR-327NE-WHT-D', 0.20052565931242389, 'PVI-3.8-OUTD-S-US-A (240V)', 'TechnologyInverterCentral', 'PVI-5000-OUTD-US-A (240V)', 'TechnologyInverterCentral', 436, 4.0, 'Moderate', 'CuttingEdge']\n",
      "['LA Solar Group', 'LG305N1C-B3', 0.18597560975609756, 'M250-60-2LL-S2X (-ZC) (-NA) (240V)', 'TechnologyInverterMicro', 'SE 7600A-US (240V)', 'TechnologyInverterCentral', 323, 4.0, 'Moderate', 'CuttingEdge']\n",
      "['Precis Solar', 'SPR-E20-327', 0.20052565931242389, 'SB5000TL-US-22 (240V)', 'TechnologyInverterCentral', 'SB6000TL-US-22 (240V) (240V)', 'TechnologyInverterCentral', 321, 4.0, 'Moderate', 'CuttingEdge']\n",
      "['Sullivan Solar Power', 'SPR-327NE-WHT-D', 0.20052565931242389, 'SB6000TL-US-22 (240V) (240V)', 'TechnologyInverterCentral', 'SB7000TL-US-22-240V (240V)', 'TechnologyInverterCentral', 273, 4.0, 'Moderate', 'CuttingEdge']\n",
      "['SunTime Energy', 'SPR-327NE-WHT-D', 0.20052565931242389, 'SB3800TL-US-22 (240V)', 'TechnologyInverterCentral', 'SB5000TL-US-22 (240V)', 'TechnologyInverterCentral', 232, 4.0, 'Moderate', 'CuttingEdge']\n",
      "['Elite Electric Inc', 'SPR-E20-327', 0.20052565931242389, 'SB5000TL-US-22 (240V)', 'TechnologyInverterCentral', 'SB6000TL-US-22 (240V) (240V)', 'TechnologyInverterCentral', 207, 4.0, 'Moderate', 'CuttingEdge']\n",
      "['Green Convergence', 'SPR-E20-327', 0.20052565931242389, 'SB6000TL-US-22 (240V) (240V)', 'TechnologyInverterCentral', 'SB5000TL-US-22 (240V)', 'TechnologyInverterCentral', 180, 4.0, 'Moderate', 'CuttingEdge']\n",
      "['Hot Purple Energy', 'SPR-327NE-WHT-D', 0.20052565931242389, 'SB7700TL-US-22-240V', 'TechnologyInverterCentral', 'PVI-6000-OUTD-US (240V)', 'TechnologyInverterCentral', 172, 4.0, 'Moderate', 'CuttingEdge']\n",
      "['Sunpro Solar', 'SPR-327NE-WHT-D', 0.20052565931242389, 'PVI-6000-OUTD-US-A (240V)', 'TechnologyInverterCentral', 'PVI-5000-OUTD-US-A (240V)', 'TechnologyInverterCentral', 145, 4.0, 'Moderate', 'CuttingEdge']\n",
      "['SunTime Energy Builders', 'SPR-327NE-WHT-D', 0.20052565931242389, 'SB5000TL-US-22 (240V)', 'TechnologyInverterCentral', 'SB3800TL-US-22 (240V)', 'TechnologyInverterCentral', 121, 4.0, 'Moderate', 'CuttingEdge']\n",
      "['R E Pierro Construction', 'STL-140', 0.13053613053613053, 'SE3000 (240V) w/ -ER-US or A-US', 'TechnologyInverterCentral', 'SE3800 (240V) w/ -ER-US or A-US', 'TechnologyInverterCentral', 110, 4.0, 'Moderate', 'Traditional']\n",
      "['ADR Electric Inc', 'SPR-327NE-WHT-D', 0.20052565931242389, 'SB5000TL-US-22 (240V)', 'TechnologyInverterCentral', 'SB3800TL-US-22 (240V)', 'TechnologyInverterCentral', 109, 4.0, 'Moderate', 'CuttingEdge']\n",
      "['Advanced Improvements Inc', 'LG315N1C-G4', 0.19207317073170732, 'M250-60-2LL-S2X (-ZC) (-NA) (240V)', 'TechnologyInverterMicro', 'M215-60-2LL-S2X-IG', 'TechnologyInverterMicro', 108, 4.0, 'Moderate', 'CuttingEdge']\n",
      "['Pell Solar Inc', 'SPR-E20-327', 0.20052565931242389, 'M250-60-2LL-S2X (-ZC) (-NA) (240V)', 'TechnologyInverterMicro', 'SB7700TL-US-22-240V', 'TechnologyInverterCentral', 107, 4.0, 'Moderate', 'CuttingEdge']\n",
      "['360 Solar Energy Inc', 'SPR-327NE-WHT-D', 0.20052565931242389, 'M250-60-2LL-S2X (-ZC) (-NA) (240V)', 'TechnologyInverterMicro', 'SE3800 (240V) w/ -ER-US or A-US', 'TechnologyInverterCentral', 103, 4.0, 'Moderate', 'CuttingEdge']\n",
      "['Urban Energy Solar', 'SPR-E20-327', 0.20052565931242389, 'SB6000TL-US-22 (240V) (240V)', 'TechnologyInverterCentral', 'SB3800TL-US-22 (240V)', 'TechnologyInverterCentral', 101, 4.0, 'Moderate', 'CuttingEdge']\n",
      "['Restart Solar', 'SPR-E20-327', 0.20052565931242389, 'SB5000TL-US-22 (240V)', 'TechnologyInverterCentral', 'SB6000TL-US-22 (240V) (240V)', 'TechnologyInverterCentral', 98, 4.0, 'Collaborative', 'CuttingEdge']\n",
      "['Baker Electric Solar', 'LG315N1C-G4', 0.19207317073170732, 'SE 7600A-US (240V)', 'TechnologyInverterCentral', 'SE6000 (240V) w/ -ER-US or A-US', 'TechnologyInverterCentral', 97, 4.0, 'Collaborative', 'CuttingEdge']\n",
      "['Sun Solar Energy Solutions', 'SPR-327NE-WHT-D', 0.20052565931242389, 'SB5000TL-US-22 (240V)', 'TechnologyInverterCentral', 'SB6000TL-US-22 (240V) (240V)', 'TechnologyInverterCentral', 95, 4.0, 'Collaborative', 'CuttingEdge']\n",
      "['Sea Bright Solar Inc.', 'SPR-327NE-WHT-D', 0.20052565931242389, 'SB6000TL-US-22 (240V) (240V)', 'TechnologyInverterCentral', 'SB5000TL-US-22 (240V)', 'TechnologyInverterCentral', 80, 4.0, 'Collaborative', 'CuttingEdge']\n",
      "['Sun Bees Group Inc', 'SPR-327NE-WHT-D', 0.20052565931242389, 'SB3800TL-US-22 (240V)', 'TechnologyInverterCentral', 'SB5000TL-US-22 (240V)', 'TechnologyInverterCentral', 79, 4.0, 'Collaborative', 'CuttingEdge']\n",
      "['Solar Solutions 4 U, Inc.', 'SPR-327NE-WHT-D', 0.20052565931242389, 'PVI-6000-OUTD-US-A (240V)', 'TechnologyInverterCentral', 'SB7000TL-US-22-240V (240V)', 'TechnologyInverterCentral', 78, 4.0, 'Collaborative', 'CuttingEdge']\n",
      "['Solar Vast', 'SPR-327NE-WHT-D', 0.20052565931242389, 'PVI-5000-OUTD-US-A (240V)', 'TechnologyInverterCentral', 'SB7700TL-US-22-240V', 'TechnologyInverterCentral', 72, 4.0, 'Collaborative', 'CuttingEdge']\n",
      "['Uptown Solar', 'LLE-6M260', 0.13211382113821138, 'SB5000TL-US-22 (240V)', 'TechnologyInverterCentral', 'MICRO-0.25-I-OUTD-US-240', 'TechnologyInverterMicro', 71, 4.0, 'Collaborative', 'Traditional']\n",
      "['IES Residential Inc', 'SPR-E20-327', 0.20052565931242389, 'SB6000TL-US-22 (240V) (240V)', 'TechnologyInverterCentral', 'SB3800TL-US-22 (240V)', 'TechnologyInverterCentral', 70, 4.0, 'Collaborative', 'CuttingEdge']\n",
      "['Solaire Energy Systems', 'SPR-E20-327', 0.20052565931242389, 'SB5000TL-US-22 (240V)', 'TechnologyInverterCentral', 'SB7700TL-US-22-240V', 'TechnologyInverterCentral', 69, 4.0, 'Collaborative', 'CuttingEdge']\n",
      "['Option One Corporation', 'SNPM-GxB-360', 0.18562346280569866, 'SE 7600A-US (240V)', 'TechnologyInverterCentral', 'SE6000 (240V) w/ -ER-US or A-US', 'TechnologyInverterCentral', 67, 4.0, 'Collaborative', 'CuttingEdge']\n",
      "['Green Hill Remodeling', 'SW250 Poly', 0.14910462671656699, 'SE3000 (240V) w/ -ER-US or A-US', 'TechnologyInverterCentral', 'SE3800 (240V) w/ -ER-US or A-US', 'TechnologyInverterCentral', 63, 4.0, 'Collaborative', 'Traditional']\n",
      "['WeGen Solar Inc', 'SPR-327NE-WHT-D', 0.20052565931242389, 'SB3800TL-US-22 (240V)', 'TechnologyInverterCentral', 'SB5000TL-US-22 (240V)', 'TechnologyInverterCentral', 58, 4.0, 'Collaborative', 'CuttingEdge']\n",
      "['Electricare Inc.', 'SPR-327NE-WHT-D', 0.20052565931242389, 'SE6000 (240V) w/ -ER-US or A-US', 'TechnologyInverterCentral', 'SE 7600A-US (240V)', 'TechnologyInverterCentral', 55, 4.0, 'Collaborative', 'CuttingEdge']\n"
     ]
    }
   ],
   "source": [
    "df_installers_raw = []\n",
    "row = []\n",
    "\n",
    "for installer in top_names.index.values:\n",
    "    row = [installer, \\\n",
    "           pv_modules_by_installer[installer]['Module_Model_1'], \\\n",
    "          df_pv_modules[df_pv_modules['Name'] == pv_modules_by_installer[installer]['Module_Model_1']]['Efficiency'].values[0],\\\n",
    "          inverters_by_installer[installer]['Inverter_Model_1'], \\\n",
    "          inverter_types[inverters_by_installer[installer]['Inverter_Model_1']], \\\n",
    "          inverters_by_installer[installer]['Inverter_Model_2'], \\\n",
    "          inverter_types[inverters_by_installer[installer]['Inverter_Model_2']], \\\n",
    "          top_names[top_names.index == installer].values[0], \\\n",
    "          4.0]\n",
    "    \n",
    "    #calculate interaction \n",
    "    if row[7] < 100:\n",
    "        #assign as Collaborative\n",
    "        row.append('Collaborative')\n",
    "    elif row[7] < 1000:\n",
    "        row.append('Moderate')\n",
    "    else:\n",
    "        row.append('Independent')\n",
    "        \n",
    "        \n",
    "\n",
    "    #calculate equipment type\n",
    "    if row[2] < (efficiency_stats[0] - efficiency_stats[1]):\n",
    "        row.append('Traditional')\n",
    "    elif ((row[2] >= (efficiency_stats[0] - efficiency_stats[1])) and (row[2] < (efficiency_stats[0] + efficiency_stats[1]))):\n",
    "        row.append('Standard') \n",
    "    else:\n",
    "        row.append('CuttingEdge')\n",
    "    \n",
    "    \n",
    "\n",
    "    \n"
   ]
  },
  {
   "cell_type": "code",
   "execution_count": 213,
   "metadata": {
    "collapsed": false
   },
   "outputs": [
    {
     "data": {
      "text/plain": [
       "0.18292682926829268"
      ]
     },
     "execution_count": 213,
     "metadata": {},
     "output_type": "execute_result"
    }
   ],
   "source": [
    "df_pv_modules[df_pv_modules['Name'] == 'LG300N1C-B3']['Efficiency'].values[0]"
   ]
  },
  {
   "cell_type": "code",
   "execution_count": 266,
   "metadata": {
    "collapsed": false
   },
   "outputs": [
    {
     "data": {
      "text/plain": [
       "<matplotlib.axes._subplots.AxesSubplot at 0x10d7725f8>"
      ]
     },
     "execution_count": 266,
     "metadata": {},
     "output_type": "execute_result"
    },
    {
     "data": {
      "image/png": "[encoded data removed]",
      "text/plain": [
       "<matplotlib.figure.Figure at 0x10d784f60>"
      ]
     },
     "metadata": {},
     "output_type": "display_data"
    }
   ],
   "source": [
    "top_names[top_names < 1000].hist(bins=100)"
   ]
  },
  {
   "cell_type": "code",
   "execution_count": null,
   "metadata": {
    "collapsed": true
   },
   "outputs": [],
   "source": [
    "#edges 100 - 1000 "
   ]
  },
  {
   "cell_type": "code",
   "execution_count": null,
   "metadata": {
    "collapsed": true
   },
   "outputs": [],
   "source": []
  }
 ],
 "metadata": {
  "kernelspec": {
   "display_name": "Python 3",
   "language": "python",
   "name": "python3"
  },
  "language_info": {
   "codemirror_mode": {
    "name": "ipython",
    "version": 3
   },
   "file_extension": ".py",
   "mimetype": "text/x-python",
   "name": "python",
   "nbconvert_exporter": "python",
   "pygments_lexer": "ipython3",
   "version": "3.5.0"
  }
 },
 "nbformat": 4,
 "nbformat_minor": 0
}
