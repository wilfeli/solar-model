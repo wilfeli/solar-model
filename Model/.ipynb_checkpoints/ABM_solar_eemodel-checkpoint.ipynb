{
 "cells": [
  {
   "cell_type": "code",
   "execution_count": null,
   "metadata": {
    "collapsed": true
   },
   "outputs": [],
   "source": [
    "# sample.py\n",
    "import ctypes\n",
    "import os\n",
    "import threading\n",
    "import pandas as pd\n",
    "import numpy as np\n",
    "%matplotlib inline\n",
    "import matplotlib.pyplot as plt\n",
    "import matplotlib\n",
    "matplotlib.style.use('ggplot')\n",
    "import math\n",
    "import concurrent.futures"
   ]
  },
  {
   "cell_type": "markdown",
   "metadata": {},
   "source": [
    "# Running model as a subprocess"
   ]
  },
  {
   "cell_type": "code",
   "execution_count": null,
   "metadata": {
    "collapsed": false
   },
   "outputs": [],
   "source": [
    "# Try to locate the .so file in the same directory as this file\n",
    "_file = 'libeemodel.dylib'\n",
    "_path = os.path.join(*(os.path.split(_file)[:-1] + (_file,)))\n",
    "_mod = ctypes.cdll.LoadLibrary(_path)"
   ]
  },
  {
   "cell_type": "code",
   "execution_count": null,
   "metadata": {
    "collapsed": false
   },
   "outputs": [],
   "source": [
    "print(_mod)"
   ]
  },
  {
   "cell_type": "code",
   "execution_count": null,
   "metadata": {
    "collapsed": false
   },
   "outputs": [],
   "source": [
    "# parameters for the model\n",
    "args = [b'0', b'NEW', b'/Users/wilfeli/Dropbox/ABM/SolarPanels/ABMIRISLab/Source/Examples/EEModel/eemodel.model']\n",
    "args_C = (ctypes.c_char_p * len(args))()\n",
    "args_C[:] = args\n",
    "#alternative for setting args_C (not tested)\n",
    "#args_C = (ctypes.c_char_p * len(args))(*args)\n",
    "#and could use create_string_buffer(\"string\") to create array of strings"
   ]
  },
  {
   "cell_type": "code",
   "execution_count": null,
   "metadata": {
    "collapsed": false
   },
   "outputs": [],
   "source": [
    "_mod.init_model.restype = ctypes.c_void_p\n",
    "_mod.init_model.argtypes = [ctypes.c_int , ctypes.POINTER(ctypes.c_char_p)]\n",
    "_mod.run_model.restype = ctypes.c_int\n",
    "_mod.run_model.argtypes = [ctypes.c_void_p]\n",
    "\n",
    "class HUIBL(ctypes.Structure):\n",
    "    _fields_ = []\n",
    "    \n",
    "_mod.C_API_estimate_profit.restype = ctypes.c_double\n",
    "_mod.C_API_estimate_profit.argtypes = [ctypes.POINTER(HUIBL), ctypes.c_int , ctypes.c_double]\n",
    "_mod.C_API_estimate_irr.restype = ctypes.c_double\n",
    "_mod.C_API_estimate_irr.argtypes = [ctypes.POINTER(HUIBL), ctypes.c_int , ctypes.c_double]\n",
    "_mod.C_API_estimate_demand.restype = ctypes.c_double\n",
    "_mod.C_API_estimate_demand.argtypes = [ctypes.POINTER(HUIBL), ctypes.c_int, \\\n",
    "                                       ctypes.c_double, ctypes.c_int, ctypes.POINTER(ctypes.c_double)]\n",
    "\n"
   ]
  },
  {
   "cell_type": "code",
   "execution_count": null,
   "metadata": {
    "collapsed": true
   },
   "outputs": [],
   "source": [
    "#initializing model and getting ui pointer from initialization\n",
    "huibl_void = _mod.init_model(len(args_C), args_C)"
   ]
  },
  {
   "cell_type": "code",
   "execution_count": null,
   "metadata": {
    "collapsed": false
   },
   "outputs": [],
   "source": [
    "print(huibl_void)"
   ]
  },
  {
   "cell_type": "code",
   "execution_count": null,
   "metadata": {
    "collapsed": true
   },
   "outputs": [],
   "source": [
    "#running model after it is initialized\n",
    "res2 = _mod.run_model(huibl_void)"
   ]
  },
  {
   "cell_type": "code",
   "execution_count": null,
   "metadata": {
    "collapsed": true
   },
   "outputs": [],
   "source": [
    "#wrapper function to run model to be used in concurrent\n",
    "def run_model(huibl_void):\n",
    "#    res = _mod.run_model_test( len(args_C_), args_C_)\n",
    "    _mod.run_model(huibl_void)"
   ]
  },
  {
   "cell_type": "code",
   "execution_count": null,
   "metadata": {
    "collapsed": false
   },
   "outputs": [],
   "source": [
    "with concurrent.futures.ThreadPoolExecutor(max_workers=1) as executor:\n",
    "    future = executor.submit(run_model, huibl_void)\n",
    "#alternative that does not work is with threads\n",
    "#t1 = threading.Thread(target=_mod.run_model, args = [res])\n",
    "#t1.start()    \n",
    "#t1.join()"
   ]
  },
  {
   "cell_type": "code",
   "execution_count": null,
   "metadata": {
    "collapsed": false
   },
   "outputs": [],
   "source": [
    "huibl = ctypes.cast(huibl_void, ctypes.POINTER(HUIBL))"
   ]
  },
  {
   "cell_type": "code",
   "execution_count": null,
   "metadata": {
    "collapsed": false
   },
   "outputs": [],
   "source": [
    "def estimate_profit(huibl, p):\n",
    "    return _mod.C_API_estimate_profit(huibl, 0, p)"
   ]
  },
  {
   "cell_type": "code",
   "execution_count": null,
   "metadata": {
    "collapsed": false
   },
   "outputs": [],
   "source": [
    "def estimate_irr(huibl, p):\n",
    "    return _mod.C_API_estimate_irr(huibl, 0, p)"
   ]
  },
  {
   "cell_type": "code",
   "execution_count": null,
   "metadata": {
    "collapsed": false
   },
   "outputs": [],
   "source": [
    "#parameters for demand estimation\n",
    "theta = np.array([-1.75, 1.5, 1.0, -1.0, 1.0]) * scale_factor\n",
    "theta_C = (ctypes.c_double * len(theta))()\n",
    "theta_C[:] = theta"
   ]
  },
  {
   "cell_type": "code",
   "execution_count": null,
   "metadata": {
    "collapsed": true
   },
   "outputs": [],
   "source": [
    "def estimate_demand(huibl, p):\n",
    "    return _mod.C_API_estimate_demand(huibl, 0, p, len(theta_C), theta_C)"
   ]
  },
  {
   "cell_type": "code",
   "execution_count": null,
   "metadata": {
    "collapsed": true
   },
   "outputs": [],
   "source": []
  },
  {
   "cell_type": "code",
   "execution_count": null,
   "metadata": {
    "collapsed": true
   },
   "outputs": [],
   "source": []
  },
  {
   "cell_type": "markdown",
   "metadata": {
    "collapsed": true
   },
   "source": [
    "# Initialization parameters - visuals"
   ]
  },
  {
   "cell_type": "markdown",
   "metadata": {},
   "source": [
    "## graph for expected time before next maintenance"
   ]
  },
  {
   "cell_type": "code",
   "execution_count": null,
   "metadata": {
    "collapsed": false
   },
   "outputs": [],
   "source": [
    "lambda_ = 2500\n",
    "alpha = 100\n",
    "y = np.zeros(100)\n",
    "x = np.zeros(100)\n",
    "i = 0\n",
    "\n",
    "\n",
    "for step in np.linspace(0.01, 25, num=100):\n",
    "    x[i] = step\n",
    "#    y[i] = lambda_ * math.pow((1 - x[i]), -(1/alpha)) - 1\n",
    "    #cdf\n",
    "    y[i] = 1 - math.pow(1 + x[i]/lambda_, - alpha)\n",
    "    i = i + 1\n",
    "#draw graph\n",
    "plt.plot(x, y)"
   ]
  },
  {
   "cell_type": "markdown",
   "metadata": {
    "collapsed": true
   },
   "source": [
    "## Graph for expected share of sales"
   ]
  },
  {
   "cell_type": "markdown",
   "metadata": {},
   "source": [
    "## Estimate scale factor"
   ]
  },
  {
   "cell_type": "code",
   "execution_count": null,
   "metadata": {
    "collapsed": false
   },
   "outputs": [],
   "source": [
    "theta = np.array([-1.75, 1.5, 1.0, -1.0, 1.0])\n",
    "\n",
    "#assume equal reputation, equal high irr as priors \n",
    "irr_i = 0.5\n",
    "rep = 1\n",
    "rep_i = 1\n",
    "irr = irr_i\n",
    "X = np.array([1, irr, rep, irr_i, rep_i])\n",
    "\n",
    "\n",
    "#split market equally given number of agents\n",
    "N = 3\n",
    "\n",
    "sum = np.dot(X, theta)\n",
    "print(sum)\n",
    "\n",
    "scale_factor = 1/sum/N\n",
    "print (scale_factor)\n",
    "\n",
    "theta = theta * scale_factor"
   ]
  },
  {
   "cell_type": "markdown",
   "metadata": {},
   "source": [
    "## Draw demand share for the range of irrs"
   ]
  },
  {
   "cell_type": "code",
   "execution_count": null,
   "metadata": {
    "collapsed": true
   },
   "outputs": [],
   "source": [
    "y = np.zeros(100)\n",
    "x = np.zeros(100)\n",
    "i = 0\n",
    "for step in np.linspace(0.01, 1, num=100):\n",
    "    x[i] = step\n",
    "    X[1] = x[i]\n",
    "    y[i] = np.dot(X, theta)\n",
    "    i = i + 1\n",
    "#draw graph\n",
    "plt.plot(x, y)"
   ]
  },
  {
   "cell_type": "markdown",
   "metadata": {},
   "source": [
    "## Draw demand share as a function of reasonable price range (Python estimation)"
   ]
  },
  {
   "cell_type": "code",
   "execution_count": null,
   "metadata": {
    "collapsed": false
   },
   "outputs": [],
   "source": [
    "y = np.zeros(100)\n",
    "x = np.zeros(100)\n",
    "i = 0\n",
    "for step in np.linspace(2, 10.0, num=100):\n",
    "    x[i] = step\n",
    "    X[1] = estimate_irr(huibl, x[i])\n",
    "    y[i] = np.dot(X, theta)\n",
    "    i = i + 1\n",
    "#draw graph\n",
    "plt.plot(x, y)"
   ]
  },
  {
   "cell_type": "markdown",
   "metadata": {},
   "source": [
    "# Graph for expected profit given price"
   ]
  },
  {
   "cell_type": "code",
   "execution_count": null,
   "metadata": {
    "collapsed": false
   },
   "outputs": [],
   "source": [
    "y = np.zeros(100)\n",
    "x = np.zeros(100)\n",
    "i = 0\n",
    "for step in np.linspace(0.01, 10.0, num=100):\n",
    "    x[i] = step\n",
    "    y[i] = estimate_profit(huibl, x[i])\n",
    "    i = i + 1\n",
    "#draw graph\n",
    "plt.plot(x, y)\n"
   ]
  },
  {
   "cell_type": "markdown",
   "metadata": {},
   "source": [
    "# Graph for expected irr given price"
   ]
  },
  {
   "cell_type": "code",
   "execution_count": null,
   "metadata": {
    "collapsed": false
   },
   "outputs": [],
   "source": [
    "y = np.zeros(100)\n",
    "x = np.zeros(100)\n",
    "i = 0\n",
    "for step in np.linspace(2, 10.0, num=100):\n",
    "    x[i] = step\n",
    "    y[i] = estimate_irr(huibl, x[i])\n",
    "    i = i + 1\n",
    "#draw graph\n",
    "plt.plot(x, y)\n"
   ]
  },
  {
   "cell_type": "markdown",
   "metadata": {},
   "source": [
    "# Graph for expected demand given price, C++ code"
   ]
  },
  {
   "cell_type": "code",
   "execution_count": null,
   "metadata": {
    "collapsed": false
   },
   "outputs": [],
   "source": [
    "y = np.zeros(100)\n",
    "x = np.zeros(100)\n",
    "i = 0\n",
    "for step in np.linspace(2, 10.0, num=100):\n",
    "    x[i] = step\n",
    "##    print(estimate_irr(huibl, x[i]))\n",
    "    y[i] = estimate_demand(huibl, x[i])\n",
    "    i = i + 1\n",
    "#draw graph\n",
    "plt.plot(x, y)"
   ]
  },
  {
   "cell_type": "code",
   "execution_count": null,
   "metadata": {
    "collapsed": true
   },
   "outputs": [],
   "source": []
  },
  {
   "cell_type": "code",
   "execution_count": null,
   "metadata": {
    "collapsed": true
   },
   "outputs": [],
   "source": []
  },
  {
   "cell_type": "code",
   "execution_count": null,
   "metadata": {
    "collapsed": true
   },
   "outputs": [],
   "source": []
  }
 ],
 "metadata": {
  "kernelspec": {
   "display_name": "Python 3",
   "language": "python",
   "name": "python3"
  },
  "language_info": {
   "codemirror_mode": {
    "name": "ipython",
    "version": 3
   },
   "file_extension": ".py",
   "mimetype": "text/x-python",
   "name": "python",
   "nbconvert_exporter": "python",
   "pygments_lexer": "ipython3",
   "version": "3.5.0"
  }
 },
 "nbformat": 4,
 "nbformat_minor": 0
}
