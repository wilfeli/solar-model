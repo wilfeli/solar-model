{
 "cells": [
  {
   "cell_type": "code",
   "execution_count": 1,
   "metadata": {
    "collapsed": true
   },
   "outputs": [],
   "source": [
    "import re\n",
    "import pandas as pd\n",
    "import numpy as np\n",
    "import json\n",
    "import subprocess\n",
    "import glob\n",
    "import os\n",
    "\n",
    "%matplotlib inline\n",
    "import matplotlib.pyplot as plt\n",
    "import matplotlib\n",
    "from matplotlib import cm\n",
    "matplotlib.style.use('ggplot')\n",
    "import matplotlib.patches as mpatches\n",
    "from matplotlib.legend_handler import HandlerPatch"
   ]
  },
  {
   "cell_type": "code",
   "execution_count": null,
   "metadata": {
    "collapsed": true
   },
   "outputs": [],
   "source": []
  },
  {
   "cell_type": "code",
   "execution_count": null,
   "metadata": {
    "collapsed": true
   },
   "outputs": [],
   "source": []
  },
  {
   "cell_type": "code",
   "execution_count": 15,
   "metadata": {
    "collapsed": true
   },
   "outputs": [],
   "source": [
    "def set_config_path():\n",
    "    global test_mode\n",
    "    global data_mode\n",
    "    global mode\n",
    "    global model_file\n",
    "    global save_path\n",
    "    global w_file\n",
    "    global sem_file\n",
    "    global ho_file\n",
    "    global g_file\n",
    "    \n",
    "    test_mode = 'BaseVer02'\n",
    "    data_mode = 'CA'\n",
    "    mode = 'NEW'\n",
    "    model_file = '..\\\\..\\\\ABMIRISLab\\\\Examples\\\\BaseModel\\\\' + test_mode + '\\\\' + data_mode + '\\\\basemodel.model'\n",
    "    save_path = '..\\\\..\\\\ABMIRISLab\\\\Saves\\\\May-14-2018\\\\BaseModel\\\\' + test_mode + '\\\\' + data_mode + '\\\\basemodel.model'\n",
    "\n",
    "    w_file = '..\\\\..\\\\ABMIRISLab\\\\Examples\\\\BaseModel\\\\' + test_mode + '\\\\' + data_mode + '\\\\w.json'\n",
    "    sem_file = '..\\\\..\\\\ABMIRISLab\\\\Examples\\\\BaseModel\\\\' + test_mode + '\\\\' + data_mode + '\\\\sem.json'\n",
    "    ho_file = '..\\\\..\\\\ABMIRISLab\\\\Examples\\\\BaseModel\\\\' + test_mode + '\\\\' + data_mode + '\\\\ho.json'\n",
    "    g_file = '..\\\\..\\\\ABMIRISLab\\\\Examples\\\\BaseModel\\\\' + test_mode + '\\\\' + data_mode + '\\\\g.json'"
   ]
  },
  {
   "cell_type": "code",
   "execution_count": 23,
   "metadata": {
    "collapsed": true
   },
   "outputs": [],
   "source": [
    "def update_config_for_params(adjustment):\n",
    "    #update path to save file \n",
    "    #open file at path \n",
    "    #rewrite it \n",
    "    #'path_so_save=' + save_path\n",
    "    #'mode=NEW'\n",
    "\n",
    "    with open(model_file, 'w') as model_file_:\n",
    "        model_file_.write('path_to_save={}\\n'.format(save_path))\n",
    "        model_file_.write('mode={}\\n'.format('NEW'))\n",
    "\n",
    "    with open(w_file) as infile:\n",
    "        w_setup = json.load(infile)\n",
    "        for setting in w_setup['WorldSettings']['params_exog']:\n",
    "            if 'EParamTypes::ScenarioEfficiencyAdjustment' in setting:\n",
    "                setting['EParamTypes::ScenarioEfficiencyAdjustment'] = 1.0\n",
    "            if 'EParamTypes::ScenarioPolicyAdjustment' in setting:\n",
    "                setting['EParamTypes::ScenarioPolicyAdjustment'] = 0.35 * (1 + 0.6 + 0.15)\n",
    "            if 'EParamTypes::ElectricityPriceUCDemand' in setting:\n",
    "                setting['EParamTypes::ElectricityPriceUCDemand'] = el_price\n",
    "            if 'EParamTypes::ElectricityPriceUCSupply' in setting:\n",
    "                setting['EParamTypes::ElectricityPriceUCSupply'] = el_price\n",
    "            \n",
    "\n",
    "        with open(w_file, 'w') as outfile:\n",
    "            json.dump(w_setup, outfile)\n",
    "            \n",
    "    with open(g_file) as infile:\n",
    "        g_setup = json.load(infile)  \n",
    "        for setting in g_setup['params']:\n",
    "            if 'EParamTypes::GProcessingTimeRequiredForProcessingPermit' in setting:\n",
    "                setting['EParamTypes::GProcessingTimeRequiredForProcessingPermit'] = 2 * (1 + adjustment)\n",
    "                print(setting['EParamTypes::GProcessingTimeRequiredForProcessingPermit'])\n",
    "                \n",
    "        with open(g_file, 'w') as outfile:\n",
    "            json.dump(g_setup, outfile)\n",
    "                    \n",
    "\n",
    "    #adjustment goes to tariff on PV panels \n",
    "    with open(sem_file) as infile:\n",
    "        sem_setup = json.load(infile)\n",
    "        #sem_setup['costs_base'] = 0.35 * (1 * (1 + adjustment) + 0.6 + 0.15)\n",
    "        sem_setup['costs_base'] = 0.35 * (1 + 0.6 + 0.15)\n",
    "\n",
    "        for setting in sem_setup['params']:\n",
    "            if 'EParamTypes::SEMEfficiencyUpgradeResearch' in setting:\n",
    "                setting['EParamTypes::SEMEfficiencyUpgradeResearch'] = 0.0\n",
    "\n",
    "        with open(sem_file, 'w') as outfile:\n",
    "            json.dump(sem_setup, outfile)\n",
    "\n",
    "\n",
    "    with open(ho_file) as infile:\n",
    "        ho_setup = json.load(infile)\n",
    "        ho_setup['House']['roof_effective_size'] = 'FORMULA::0.25'\n",
    "\n",
    "        with open(ho_file, 'w') as outfile:\n",
    "            json.dump(ho_setup, outfile)\n",
    "    "
   ]
  },
  {
   "cell_type": "code",
   "execution_count": 4,
   "metadata": {
    "collapsed": true
   },
   "outputs": [],
   "source": [
    "el_price = 0.15"
   ]
  },
  {
   "cell_type": "code",
   "execution_count": 5,
   "metadata": {
    "collapsed": true
   },
   "outputs": [],
   "source": [
    "def simulation_run_for_params(adjustment):\n",
    "    for test_mode in ['BaseVer02']:\n",
    "        for data_mode in ['CA']:\n",
    "\n",
    "            file = '..\\\\..\\\\ABMIRISLab\\\\Examples\\\\BaseModel\\\\' + test_mode + '\\\\' + data_mode + '\\\\w.json'\n",
    "\n",
    "\n",
    "            mode=\"NEW\"\n",
    "            model_file='..\\\\..\\\\ABMIRISLab\\\\Examples\\\\BaseModel\\\\' + test_mode + '\\\\' + data_mode + '\\\\basemodel.model'\n",
    "\n",
    "\n",
    "            #update path to save file \n",
    "            save_path = '..\\\\..\\\\ABMIRISLab\\\\Saves\\\\May-14-2018\\\\BaseModel\\\\' + test_mode + \\\n",
    "                        '\\\\' + data_mode + '\\\\' + 'permit' + str(adjustment) + '\\\\basemodel.model'\n",
    "\n",
    "\n",
    "            #check that save path exists \n",
    "            directory = os.path.dirname(save_path)\n",
    "            if not os.path.exists(directory):\n",
    "                os.makedirs(directory)\n",
    "                \n",
    "                \n",
    "            #open file at path \n",
    "            #rewrite it \n",
    "            #'path_so_save=' + save_path\n",
    "            #'mode=NEW'\n",
    "\n",
    "            with open(model_file, 'w') as model_file_:\n",
    "                model_file_.write('path_to_save={}\\n'.format(save_path))\n",
    "                model_file_.write('mode={}\\n'.format('NEW'))\n",
    "\n",
    "\n",
    "            with open(file) as infile:\n",
    "                w_setup = json.load(infile)\n",
    "\n",
    "            for seed in [random.randint(200, 300) for x in range(10)]:\n",
    "                w_setup['SEED'] = seed\n",
    "                w_setup['ParametersCode'] = test_mode + '_' + data_mode + '_' + str(adjustment)\n",
    "\n",
    "                with open(w_file, 'w') as outfile:\n",
    "                    json.dump(w_setup, outfile)\n",
    "                \n",
    "                #run simulation \n",
    "                path = 'BaseModel.exe'\n",
    "                args = [path, mode, model_file]\n",
    "                res = -1\n",
    "\n",
    "                i = 0 \n",
    "                while ((res != 0) and (i < 2)):\n",
    "                    try:\n",
    "                        subprocess.call([path, mode, model_file])\n",
    "                        i = 0\n",
    "                        res = 0\n",
    "                    except subprocess.CalledProcessError as e:\n",
    "                        i = i + 1\n",
    "                        res = -1"
   ]
  },
  {
   "cell_type": "code",
   "execution_count": 16,
   "metadata": {
    "collapsed": true
   },
   "outputs": [],
   "source": [
    "set_config_path()"
   ]
  },
  {
   "cell_type": "code",
   "execution_count": 7,
   "metadata": {
    "collapsed": true
   },
   "outputs": [],
   "source": [
    "import random"
   ]
  },
  {
   "cell_type": "code",
   "execution_count": 15,
   "metadata": {
    "collapsed": false
   },
   "outputs": [
    {
     "name": "stdout",
     "output_type": "stream",
     "text": [
      "295\n",
      "202\n",
      "218\n",
      "262\n",
      "233\n",
      "283\n",
      "228\n",
      "263\n",
      "283\n",
      "207\n"
     ]
    }
   ],
   "source": [
    "for seed in [random.randint(200, 300) for x in range(10)]:\n",
    "    print(seed)\n",
    "    "
   ]
  },
  {
   "cell_type": "code",
   "execution_count": 18,
   "metadata": {
    "collapsed": false
   },
   "outputs": [],
   "source": [
    "for adjustment in np.linspace(0.5,1.5,3,endpoint=True):\n",
    "    update_config_for_params(adjustment)\n",
    "    \n",
    "    #run simulation for params\n",
    "    simulation_run_for_params(adjustment)\n",
    "    \n",
    "    #get aggregate data to show installs"
   ]
  },
  {
   "cell_type": "code",
   "execution_count": 24,
   "metadata": {
    "collapsed": false
   },
   "outputs": [
    {
     "name": "stdout",
     "output_type": "stream",
     "text": [
      "1.0\n"
     ]
    }
   ],
   "source": [
    "for adjustment in np.linspace(-0.5,-0.4, 1,endpoint=False):\n",
    "    update_config_for_params(adjustment)\n",
    "    \n",
    "    #run simulation for params\n",
    "    simulation_run_for_params(adjustment)\n",
    "    \n",
    "    #get aggregate data to show installs"
   ]
  },
  {
   "cell_type": "code",
   "execution_count": 17,
   "metadata": {
    "collapsed": false
   },
   "outputs": [
    {
     "name": "stdout",
     "output_type": "stream",
     "text": [
      "..\\..\\ABMIRISLab\\Examples\\BaseModel\\BaseVer02\\CA\\g.json\n"
     ]
    }
   ],
   "source": []
  },
  {
   "cell_type": "markdown",
   "metadata": {},
   "source": [
    "# Testing options"
   ]
  },
  {
   "cell_type": "markdown",
   "metadata": {
    "collapsed": true
   },
   "source": [
    "run for seeds, save into folder? with efficiency step? \n",
    "locate log files - where they save? \n",
    "\n",
    "\n",
    "seeds - efficiency step - \n",
    "\n",
    "costs try "
   ]
  },
  {
   "cell_type": "code",
   "execution_count": 13,
   "metadata": {
    "collapsed": false
   },
   "outputs": [
    {
     "name": "stdout",
     "output_type": "stream",
     "text": [
      "..\\..\\ABMIRISLab\\Saves\\Aug-29-2017\\BaseModel\\BaseVer01\\CA\\1.0\n"
     ]
    }
   ],
   "source": [
    "adjustment = 1.0\n",
    "for test_mode in ['BaseVer01']:\n",
    "    for data_mode in ['CA']:\n",
    "        save_path = '..\\\\..\\\\ABMIRISLab\\\\Saves\\\\Aug-29-2017\\\\BaseModel\\\\' + test_mode + \\\n",
    "                        '\\\\' + data_mode + '\\\\' + str(adjustment) + '\\\\basemodel.model'\n",
    "\n",
    "        print(os.path.dirname(save_path))\n",
    "        directory = os.path.dirname(save_path)\n",
    "        if not os.path.exists(directory):\n",
    "            os.makedirs(directory)\n"
   ]
  },
  {
   "cell_type": "code",
   "execution_count": null,
   "metadata": {
    "collapsed": true
   },
   "outputs": [],
   "source": [
    "update_config_for_params(1.0)"
   ]
  },
  {
   "cell_type": "code",
   "execution_count": null,
   "metadata": {
    "collapsed": true
   },
   "outputs": [],
   "source": [
    "path = 'BaseModel.exe'\n",
    "args = [path, mode, model_file]\n",
    "subprocess.call([path, mode, model_file])"
   ]
  }
 ],
 "metadata": {
  "anaconda-cloud": {},
  "kernelspec": {
   "display_name": "Python [default]",
   "language": "python",
   "name": "python3"
  },
  "language_info": {
   "codemirror_mode": {
    "name": "ipython",
    "version": 3
   },
   "file_extension": ".py",
   "mimetype": "text/x-python",
   "name": "python",
   "nbconvert_exporter": "python",
   "pygments_lexer": "ipython3",
   "version": "3.5.2"
  }
 },
 "nbformat": 4,
 "nbformat_minor": 1
}
