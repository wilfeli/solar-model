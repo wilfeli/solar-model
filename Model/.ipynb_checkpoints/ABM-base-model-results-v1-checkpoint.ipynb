{
 "cells": [
  {
   "cell_type": "code",
   "execution_count": 1,
   "metadata": {
    "collapsed": true
   },
   "outputs": [],
   "source": [
    "import re\n",
    "import pandas as pd\n",
    "import numpy as np\n",
    "import json\n",
    "import subprocess\n",
    "import glob\n",
    "import os\n",
    "\n",
    "%matplotlib inline\n",
    "import matplotlib.pyplot as plt\n",
    "import matplotlib\n",
    "from matplotlib import cm\n",
    "matplotlib.style.use('ggplot')\n",
    "import matplotlib.patches as mpatches\n",
    "from matplotlib.legend_handler import HandlerPatch"
   ]
  },
  {
   "cell_type": "markdown",
   "metadata": {
    "collapsed": true
   },
   "source": [
    "Number of installed projects\n",
    "Number of dropouts at each stage\n"
   ]
  },
  {
   "cell_type": "code",
   "execution_count": null,
   "metadata": {
    "collapsed": false
   },
   "outputs": [],
   "source": [
    "test_mode = 'BaseModel'\n",
    "data_mode = 'Logs'\n",
    "file = '/Users/wilfeli/Dropbox/ABM/SolarPanels/ABMIRISLab/Examples/' + test_mode + '/' + data_mode + '/world_log.log'\n",
    "\n",
    "    \n",
    "with open(file) as infile:\n",
    "    for line in infile:\n",
    "        print(line, end='')"
   ]
  },
  {
   "cell_type": "code",
   "execution_count": null,
   "metadata": {
    "collapsed": true
   },
   "outputs": [],
   "source": [
    "#find begin of an info string \n"
   ]
  },
  {
   "cell_type": "code",
   "execution_count": 25,
   "metadata": {
    "collapsed": false
   },
   "outputs": [],
   "source": [
    "test_str = 'time: Mon 2017-02-06 11:26:51  INFO: EParamTypes::None : 805'\n",
    "regex = re.compile('(INFO:\\s)')\n",
    "res = regex.findall(test_str)"
   ]
  },
  {
   "cell_type": "code",
   "execution_count": 26,
   "metadata": {
    "collapsed": false
   },
   "outputs": [
    {
     "name": "stdout",
     "output_type": "stream",
     "text": [
      "['INFO: ']\n"
     ]
    }
   ],
   "source": [
    "print(res)"
   ]
  },
  {
   "cell_type": "code",
   "execution_count": 42,
   "metadata": {
    "collapsed": false
   },
   "outputs": [
    {
     "name": "stdout",
     "output_type": "stream",
     "text": [
      "['time: Mon 2017-02-06 11:26:51  ', 'INFO: ', 'EParamTypes::None : 805']\n"
     ]
    }
   ],
   "source": [
    "res = re.split(regex, test_str)\n",
    "print(res)"
   ]
  },
  {
   "cell_type": "code",
   "execution_count": 43,
   "metadata": {
    "collapsed": false
   },
   "outputs": [
    {
     "name": "stdout",
     "output_type": "stream",
     "text": [
      "['::None : ']\n"
     ]
    }
   ],
   "source": [
    "regex2 = re.compile('(::[\\w]*\\s*:\\s*)')\n",
    "res2 = regex2.findall(res[2])\n",
    "print(res2)"
   ]
  },
  {
   "cell_type": "code",
   "execution_count": 47,
   "metadata": {
    "collapsed": false
   },
   "outputs": [],
   "source": [
    "res2 = re.split(regex2, res[2])"
   ]
  },
  {
   "cell_type": "code",
   "execution_count": 53,
   "metadata": {
    "collapsed": false
   },
   "outputs": [
    {
     "name": "stdout",
     "output_type": "stream",
     "text": [
      "['None']\n"
     ]
    }
   ],
   "source": [
    "regex3 = re.compile('[^:\\s]+')\n",
    "res3 = regex3.findall(res2[1])\n",
    "print(res3)"
   ]
  },
  {
   "cell_type": "code",
   "execution_count": 66,
   "metadata": {
    "collapsed": false
   },
   "outputs": [
    {
     "name": "stdout",
     "output_type": "stream",
     "text": [
      "['time: Mon 2017-02-06 19:15:14  INFO: ', 'N active agents at tick ', '5 : 453']\n"
     ]
    }
   ],
   "source": [
    "\n",
    "test4_str = 'time: Mon 2017-02-06 19:15:14  INFO: N active agents at tick 5 : 453'\n",
    "#check if it is 'N active agents at tick'\n",
    "regex4 = re.compile('(N\\s*active\\s*agents\\s*at\\s*tick\\s*)')\n",
    "res4 = regex4.search(test4_str)\n",
    "res4 = re.split(regex4, test4_str)\n",
    "print(res4)"
   ]
  },
  {
   "cell_type": "code",
   "execution_count": null,
   "metadata": {
    "collapsed": true
   },
   "outputs": [],
   "source": []
  },
  {
   "cell_type": "code",
   "execution_count": 68,
   "metadata": {
    "collapsed": false
   },
   "outputs": [
    {
     "name": "stdout",
     "output_type": "stream",
     "text": [
      "['5', ' : ', '453']\n"
     ]
    }
   ],
   "source": [
    "regex5 = re.compile('(\\s*:\\s*)')\n",
    "res5 = re.split(regex5, res4[2])\n",
    "print(res5)"
   ]
  },
  {
   "cell_type": "code",
   "execution_count": 75,
   "metadata": {
    "collapsed": false
   },
   "outputs": [
    {
     "name": "stdout",
     "output_type": "stream",
     "text": [
      "<_sre.SRE_Match object; span=(37, 67), match='Number of installed projects: '>\n",
      "['time: Mon 2017-02-06 19:15:14  INFO: ', 'Number of installed projects: ', '0']\n"
     ]
    }
   ],
   "source": [
    "test6_str = 'time: Mon 2017-02-06 19:15:14  INFO: Number of installed projects: 0'\n",
    "#check if it is 'Number of installed projects'\n",
    "regex6 = re.compile('(Number\\s*of\\s*installed\\s*projects\\s*:\\s*)')\n",
    "res6 = regex6.search(test6_str)\n",
    "print(res6)\n",
    "res6 = re.split(regex6, test6_str)\n",
    "print(res6)"
   ]
  },
  {
   "cell_type": "code",
   "execution_count": 9,
   "metadata": {
    "collapsed": false
   },
   "outputs": [],
   "source": [
    "def read_error_data_from_log(file, data_):\n",
    "    regex_error_savings = re.compile('(INFO:\\sNEGATIVE\\sSAVINGS\\s*)')\n",
    "    regex_error_small_system = re.compile('(INFO:\\sSMALL\\sSYSTEM\\s*)')\n",
    "    N_SMALL_SAVINGS = 0\n",
    "    N_SMALL_SYSTEMS = 0\n",
    "    \n",
    "    with open(file) as infile:\n",
    "        for line in infile:\n",
    "            if regex_error_savings.search(line):\n",
    "                res = re.split(regex_error_savings, line)\n",
    "                N_SMALL_SAVINGS = N_SMALL_SAVINGS + 1\n",
    "            elif regex_error_small_system.search(line):\n",
    "                res = re.split(regex_error_small_system, line)\n",
    "                N_SMALL_SYSTEMS = N_SMALL_SYSTEMS + 1\n",
    "            else:\n",
    "                pass\n",
    "            \n",
    "    \n",
    "    return (N_SMALL_SAVINGS, N_SMALL_SYSTEMS)\n",
    "                \n",
    "                \n",
    "                "
   ]
  },
  {
   "cell_type": "code",
   "execution_count": 10,
   "metadata": {
    "collapsed": false
   },
   "outputs": [],
   "source": [
    "#Reads data from the given file into the given list\n",
    "def read_data_from_log(file, data_):\n",
    "    regex_begin_tick = re.compile('(N\\s*active\\s*agents\\s*at\\s*tick\\s*)')\n",
    "    regex_end_tick = re.compile('(Number\\s*of\\s*installed\\s*projects\\s*:\\s*)')\n",
    "    regex_data =  re.compile('(INFO:\\s)')\n",
    "    regex_data_check = re.compile('EParamTypes')\n",
    "    regex_enum = re.compile('(::[\\w]*\\s*:\\s*)')\n",
    "    regex_enum_name = re.compile('([^:\\s]+)')\n",
    "    regex_1 = re.compile('(\\s*:\\s*)')\n",
    "    \n",
    "    \n",
    "    with open(file) as infile:\n",
    "        for line in infile:\n",
    "            if regex_begin_tick.search(line):\n",
    "                #parse tick number \n",
    "                #start new dictionary in the list\n",
    "                data_.append({})\n",
    "\n",
    "                #get tick \n",
    "                res = re.split(regex_1, re.split(regex_begin_tick, line)[-1])\n",
    "                data_[-1]['N_AGENTS'] = float(res[-1])\n",
    "                data_[-1]['tick'] = float(res[0])\n",
    "            elif regex_end_tick.search(line):\n",
    "                res = re.split(regex_end_tick, line)\n",
    "                data_[-1]['N_PROJECTS'] = float(res[-1])\n",
    "            else:\n",
    "                if (regex_data.search(line)) and (regex_data_check.search(line)):\n",
    "                    res = re.split(regex_data, line)\n",
    "                    #get last part and enum name \n",
    "                    #last part is number\n",
    "                    res2 = re.split(regex_enum, res[-1])\n",
    "                    #get enum name \n",
    "                    data_[-1]['EParamTypes::' + re.split(regex_enum_name, res2[-2])[-2]] = float(res2[-1])\n",
    "#    print(data_)\n",
    "            "
   ]
  },
  {
   "cell_type": "code",
   "execution_count": 11,
   "metadata": {
    "collapsed": false
   },
   "outputs": [],
   "source": [
    "def get_subset_data(data_):\n",
    "    #data_column_names\n",
    "    data_columns = {'EParamTypes::HOStateDroppedOutNCDecStage':[],\\\n",
    "                   'EParamTypes::HOStateDroppedOutSEIStage':[],\\\n",
    "                   'EParamTypes::HOStateDroppedOutDesignStage':[]}\n",
    "    tick = []\n",
    "    i = 0\n",
    "    #collect data for each tick \n",
    "    for row in data_:\n",
    "        for key, value in data_columns.items():\n",
    "            value.append(0.0)\n",
    "            if key in row:\n",
    "                value[-1] = row[key]\n",
    "        tick.append(i)\n",
    "        i = i + 1\n",
    "    \n",
    "    return data_columns\n",
    "\n",
    "#print(data_columns)"
   ]
  },
  {
   "cell_type": "code",
   "execution_count": 75,
   "metadata": {
    "collapsed": false
   },
   "outputs": [],
   "source": [
    "test_mode = 'BaseModel'\n",
    "data_mode = 'Logs'\n",
    "version = '_vlow'\n",
    "#file = '/Users/wilfeli/Dropbox/ABM/SolarPanels/ABMIRISLab/Examples/' + test_mode + '/' + data_mode + '/world_log' + \\\n",
    "#        version + '.log'\n",
    "    \n",
    "    \n",
    "#get latest file \n",
    "files = glob.glob('..\\\\..\\\\ABMIRISLab\\\\Examples\\\\' + test_mode + '\\\\' + data_mode +\\\n",
    "                 '\\\\*[_log].log')\n",
    "files.sort(key=os.path.getmtime, reverse=True)\n",
    "file = files[1]    \n",
    "\n",
    "#if find N active agents at tick\n",
    "# start data for the tick \n",
    "#parse data - name of the enum, value\n",
    "data_v1 = []\n",
    "read_data_from_log(file, data_v1)\n",
    "data_subset_v1 = get_subset_data(data_v1)"
   ]
  },
  {
   "cell_type": "code",
   "execution_count": 76,
   "metadata": {
    "collapsed": false
   },
   "outputs": [
    {
     "name": "stdout",
     "output_type": "stream",
     "text": [
      "(91, 0)\n"
     ]
    }
   ],
   "source": [
    "adjustments = read_error_data_from_log(file, [])\n",
    "\n",
    "print(adjustments)"
   ]
  },
  {
   "cell_type": "code",
   "execution_count": 77,
   "metadata": {
    "collapsed": false
   },
   "outputs": [],
   "source": [
    "test_mode = 'BaseModel'\n",
    "data_mode = 'Logs'\n",
    "version = '_vhigh'\n",
    "#file = '/Users/wilfeli/Dropbox/ABM/SolarPanels/ABMIRISLab/Examples/' + test_mode + '/' + data_mode + '/world_log' + \\\n",
    "#        version + '.log'\n",
    "    \n",
    "    \n",
    "#get latest file \n",
    "files = glob.glob('..\\\\..\\\\ABMIRISLab\\\\Examples\\\\' + test_mode + '\\\\' + data_mode +\\\n",
    "                 '\\\\*[_log].log')\n",
    "files.sort(key=os.path.getmtime, reverse=True)\n",
    "file = files[0]    \n",
    "\n",
    "#if find N active agents at tick\n",
    "# start data for the tick \n",
    "#parse data - name of the enum, value\n",
    "data_v2 = []\n",
    "read_data_from_log(file, data_v2)\n",
    "data_subset_v2 = get_subset_data(data_v2)"
   ]
  },
  {
   "cell_type": "code",
   "execution_count": 78,
   "metadata": {
    "collapsed": false
   },
   "outputs": [],
   "source": [
    "df_v1 = pd.DataFrame(\n",
    "data_subset_v1\n",
    ")\n",
    "df_v1.index.name = 'tick'"
   ]
  },
  {
   "cell_type": "code",
   "execution_count": 79,
   "metadata": {
    "collapsed": false
   },
   "outputs": [],
   "source": [
    "df_v2 = pd.DataFrame(\n",
    "data_subset_v2\n",
    ")\n",
    "df_v2.index.name = 'tick'"
   ]
  },
  {
   "cell_type": "code",
   "execution_count": 80,
   "metadata": {
    "collapsed": false
   },
   "outputs": [
    {
     "name": "stdout",
     "output_type": "stream",
     "text": [
      "[array([[  0.],\n",
      "       [  0.],\n",
      "       [  0.],\n",
      "       [  0.],\n",
      "       [  0.],\n",
      "       [  0.],\n",
      "       [  0.],\n",
      "       [  0.],\n",
      "       [  0.],\n",
      "       [  0.],\n",
      "       [  0.],\n",
      "       [  0.],\n",
      "       [  4.],\n",
      "       [  3.],\n",
      "       [  4.],\n",
      "       [  3.],\n",
      "       [  5.],\n",
      "       [  6.],\n",
      "       [  7.],\n",
      "       [  9.],\n",
      "       [ 10.],\n",
      "       [ 10.],\n",
      "       [ 10.],\n",
      "       [ 10.],\n",
      "       [ 11.],\n",
      "       [ 10.],\n",
      "       [ 13.],\n",
      "       [  9.],\n",
      "       [  8.],\n",
      "       [  6.],\n",
      "       [  7.],\n",
      "       [  5.],\n",
      "       [  5.],\n",
      "       [  5.],\n",
      "       [  6.],\n",
      "       [  5.],\n",
      "       [  5.],\n",
      "       [  5.],\n",
      "       [  6.],\n",
      "       [  6.],\n",
      "       [  7.],\n",
      "       [  6.],\n",
      "       [  5.],\n",
      "       [  5.],\n",
      "       [  5.],\n",
      "       [  5.],\n",
      "       [  7.],\n",
      "       [  6.],\n",
      "       [  6.],\n",
      "       [  5.],\n",
      "       [  5.],\n",
      "       [  4.],\n",
      "       [  7.],\n",
      "       [  6.],\n",
      "       [  8.],\n",
      "       [  7.],\n",
      "       [  7.],\n",
      "       [  6.],\n",
      "       [  6.],\n",
      "       [  4.],\n",
      "       [  5.],\n",
      "       [  5.],\n",
      "       [  9.],\n",
      "       [  7.],\n",
      "       [  8.],\n",
      "       [  6.],\n",
      "       [  9.],\n",
      "       [  8.],\n",
      "       [  6.],\n",
      "       [  4.],\n",
      "       [  4.],\n",
      "       [  3.],\n",
      "       [  3.],\n",
      "       [  5.],\n",
      "       [  5.],\n",
      "       [  4.],\n",
      "       [  4.],\n",
      "       [  4.],\n",
      "       [  4.],\n",
      "       [  9.],\n",
      "       [  8.],\n",
      "       [  9.],\n",
      "       [  9.],\n",
      "       [ 10.],\n",
      "       [ 10.],\n",
      "       [ 12.],\n",
      "       [ 11.],\n",
      "       [ 14.],\n",
      "       [ 12.],\n",
      "       [ 12.],\n",
      "       [ 12.],\n",
      "       [ 12.],\n",
      "       [ 11.],\n",
      "       [ 12.],\n",
      "       [ 12.],\n",
      "       [ 13.],\n",
      "       [ 12.],\n",
      "       [ 11.],\n",
      "       [ 10.],\n",
      "       [ 13.],\n",
      "       [ 12.],\n",
      "       [ 13.],\n",
      "       [ 11.],\n",
      "       [ 12.],\n",
      "       [ 11.],\n",
      "       [ 12.],\n",
      "       [ 11.],\n",
      "       [ 13.],\n",
      "       [ 10.],\n",
      "       [ 12.],\n",
      "       [ 10.],\n",
      "       [ 11.],\n",
      "       [ 10.],\n",
      "       [ 16.],\n",
      "       [ 14.],\n",
      "       [ 15.],\n",
      "       [ 12.],\n",
      "       [ 11.],\n",
      "       [ 10.],\n",
      "       [ 10.],\n",
      "       [ 10.],\n",
      "       [  9.],\n",
      "       [ 10.],\n",
      "       [  9.],\n",
      "       [  8.],\n",
      "       [  8.],\n",
      "       [  8.],\n",
      "       [  6.],\n",
      "       [  8.],\n",
      "       [  7.],\n",
      "       [  8.],\n",
      "       [  8.],\n",
      "       [  6.],\n",
      "       [  6.],\n",
      "       [  6.],\n",
      "       [ 11.],\n",
      "       [ 10.],\n",
      "       [ 10.],\n",
      "       [  9.],\n",
      "       [  9.],\n",
      "       [  9.],\n",
      "       [ 10.],\n",
      "       [  9.],\n",
      "       [  8.],\n",
      "       [  7.],\n",
      "       [  8.],\n",
      "       [  8.],\n",
      "       [ 11.],\n",
      "       [  9.],\n",
      "       [ 12.],\n",
      "       [ 13.],\n",
      "       [ 11.],\n",
      "       [ 13.],\n",
      "       [ 12.],\n",
      "       [ 11.],\n",
      "       [ 13.],\n",
      "       [ 13.],\n",
      "       [ 13.],\n",
      "       [ 12.],\n",
      "       [ 11.],\n",
      "       [ 11.],\n",
      "       [ 11.],\n",
      "       [ 11.],\n",
      "       [ 12.],\n",
      "       [ 11.],\n",
      "       [ 11.],\n",
      "       [  7.],\n",
      "       [  9.],\n",
      "       [  9.],\n",
      "       [  9.],\n",
      "       [  7.],\n",
      "       [  7.],\n",
      "       [  7.],\n",
      "       [  8.],\n",
      "       [  7.],\n",
      "       [  6.],\n",
      "       [  6.],\n",
      "       [  9.],\n",
      "       [  9.],\n",
      "       [  8.],\n",
      "       [  8.],\n",
      "       [  7.],\n",
      "       [  7.],\n",
      "       [  5.],\n",
      "       [  5.],\n",
      "       [  6.],\n",
      "       [  5.],\n",
      "       [  5.],\n",
      "       [  4.],\n",
      "       [  3.],\n",
      "       [  3.],\n",
      "       [  7.],\n",
      "       [  6.],\n",
      "       [  8.],\n",
      "       [  8.],\n",
      "       [  9.],\n",
      "       [  9.],\n",
      "       [  6.],\n",
      "       [  6.],\n",
      "       [  4.],\n",
      "       [  3.],\n",
      "       [  6.],\n",
      "       [  6.],\n",
      "       [  7.],\n",
      "       [  7.],\n",
      "       [  8.],\n",
      "       [  7.],\n",
      "       [  6.],\n",
      "       [  3.],\n",
      "       [  7.],\n",
      "       [  7.],\n",
      "       [  8.],\n",
      "       [  7.],\n",
      "       [  7.],\n",
      "       [  6.],\n",
      "       [  9.],\n",
      "       [  9.],\n",
      "       [  9.],\n",
      "       [  9.],\n",
      "       [ 10.],\n",
      "       [ 11.],\n",
      "       [ 10.],\n",
      "       [  7.],\n",
      "       [  8.],\n",
      "       [  6.],\n",
      "       [  6.],\n",
      "       [  6.],\n",
      "       [  4.],\n",
      "       [  4.],\n",
      "       [  5.],\n",
      "       [  4.],\n",
      "       [  4.],\n",
      "       [  4.],\n",
      "       [  8.],\n",
      "       [  8.],\n",
      "       [ 10.],\n",
      "       [ 10.],\n",
      "       [ 12.],\n",
      "       [ 11.],\n",
      "       [ 11.],\n",
      "       [ 10.],\n",
      "       [  9.],\n",
      "       [  8.],\n",
      "       [  5.],\n",
      "       [  5.],\n",
      "       [  5.],\n",
      "       [  4.],\n",
      "       [  4.],\n",
      "       [  2.],\n",
      "       [  5.],\n",
      "       [  5.],\n",
      "       [  5.],\n",
      "       [  5.],\n",
      "       [  6.],\n",
      "       [  5.],\n",
      "       [  7.],\n",
      "       [  7.],\n",
      "       [  9.],\n",
      "       [  9.],\n",
      "       [  8.],\n",
      "       [  5.]]), array([[  0.],\n",
      "       [  0.],\n",
      "       [  0.],\n",
      "       [  0.],\n",
      "       [  0.],\n",
      "       [  0.],\n",
      "       [  0.],\n",
      "       [  0.],\n",
      "       [  0.],\n",
      "       [  0.],\n",
      "       [  0.],\n",
      "       [  0.],\n",
      "       [  4.],\n",
      "       [  3.],\n",
      "       [  4.],\n",
      "       [  4.],\n",
      "       [  6.],\n",
      "       [  7.],\n",
      "       [  7.],\n",
      "       [  9.],\n",
      "       [  7.],\n",
      "       [ 10.],\n",
      "       [  9.],\n",
      "       [ 12.],\n",
      "       [ 10.],\n",
      "       [ 10.],\n",
      "       [  8.],\n",
      "       [  7.],\n",
      "       [  7.],\n",
      "       [  7.],\n",
      "       [  8.],\n",
      "       [  8.],\n",
      "       [  4.],\n",
      "       [  5.],\n",
      "       [  3.],\n",
      "       [  4.],\n",
      "       [  2.],\n",
      "       [  5.],\n",
      "       [  6.],\n",
      "       [ 10.],\n",
      "       [ 10.],\n",
      "       [ 14.],\n",
      "       [ 14.],\n",
      "       [ 12.],\n",
      "       [ 12.],\n",
      "       [  9.],\n",
      "       [  9.],\n",
      "       [  6.],\n",
      "       [  6.],\n",
      "       [  6.],\n",
      "       [  3.],\n",
      "       [  6.],\n",
      "       [  5.],\n",
      "       [  7.],\n",
      "       [  7.],\n",
      "       [  5.],\n",
      "       [  4.],\n",
      "       [  3.],\n",
      "       [  3.],\n",
      "       [  6.],\n",
      "       [  5.],\n",
      "       [  5.],\n",
      "       [  6.],\n",
      "       [  8.],\n",
      "       [  7.],\n",
      "       [ 10.],\n",
      "       [ 11.],\n",
      "       [ 13.],\n",
      "       [ 10.],\n",
      "       [ 12.],\n",
      "       [ 12.],\n",
      "       [ 16.],\n",
      "       [ 14.],\n",
      "       [ 13.],\n",
      "       [ 12.],\n",
      "       [ 12.],\n",
      "       [ 11.],\n",
      "       [ 11.],\n",
      "       [ 10.],\n",
      "       [ 11.],\n",
      "       [  9.],\n",
      "       [ 11.],\n",
      "       [ 11.],\n",
      "       [  8.],\n",
      "       [  8.],\n",
      "       [  9.],\n",
      "       [  8.],\n",
      "       [  7.],\n",
      "       [  6.],\n",
      "       [  6.],\n",
      "       [  6.],\n",
      "       [  6.],\n",
      "       [  6.],\n",
      "       [  8.],\n",
      "       [  8.],\n",
      "       [ 12.],\n",
      "       [ 11.],\n",
      "       [  9.],\n",
      "       [  9.],\n",
      "       [ 13.],\n",
      "       [ 12.],\n",
      "       [ 13.],\n",
      "       [ 12.],\n",
      "       [ 12.],\n",
      "       [ 12.],\n",
      "       [ 13.],\n",
      "       [ 12.],\n",
      "       [ 15.],\n",
      "       [ 10.],\n",
      "       [  8.],\n",
      "       [  7.],\n",
      "       [  7.],\n",
      "       [  6.],\n",
      "       [  7.],\n",
      "       [  5.],\n",
      "       [  5.],\n",
      "       [  5.],\n",
      "       [  4.],\n",
      "       [  3.],\n",
      "       [  5.],\n",
      "       [  5.],\n",
      "       [  7.],\n",
      "       [  7.],\n",
      "       [  7.],\n",
      "       [  7.],\n",
      "       [ 11.],\n",
      "       [ 11.],\n",
      "       [ 10.],\n",
      "       [ 10.],\n",
      "       [ 13.],\n",
      "       [ 11.],\n",
      "       [ 12.],\n",
      "       [ 10.],\n",
      "       [ 11.],\n",
      "       [ 10.],\n",
      "       [  8.],\n",
      "       [  6.],\n",
      "       [  6.],\n",
      "       [  6.],\n",
      "       [  7.],\n",
      "       [  6.],\n",
      "       [  5.],\n",
      "       [  5.],\n",
      "       [  6.],\n",
      "       [  6.],\n",
      "       [  8.],\n",
      "       [  9.],\n",
      "       [ 13.],\n",
      "       [ 13.],\n",
      "       [ 12.],\n",
      "       [ 12.],\n",
      "       [ 13.],\n",
      "       [ 11.],\n",
      "       [ 10.],\n",
      "       [ 10.],\n",
      "       [  9.],\n",
      "       [  9.],\n",
      "       [ 11.],\n",
      "       [ 10.],\n",
      "       [  9.],\n",
      "       [  9.],\n",
      "       [ 11.],\n",
      "       [ 10.],\n",
      "       [ 11.],\n",
      "       [ 11.],\n",
      "       [ 12.],\n",
      "       [ 12.],\n",
      "       [ 13.],\n",
      "       [ 13.],\n",
      "       [ 14.],\n",
      "       [ 11.],\n",
      "       [ 14.],\n",
      "       [ 12.],\n",
      "       [  9.],\n",
      "       [  8.],\n",
      "       [ 11.],\n",
      "       [  8.],\n",
      "       [ 11.],\n",
      "       [ 11.],\n",
      "       [ 11.],\n",
      "       [  8.],\n",
      "       [ 10.],\n",
      "       [ 10.],\n",
      "       [ 10.],\n",
      "       [ 10.],\n",
      "       [ 12.],\n",
      "       [ 12.],\n",
      "       [ 11.],\n",
      "       [ 11.],\n",
      "       [ 10.],\n",
      "       [  9.],\n",
      "       [  8.],\n",
      "       [  8.],\n",
      "       [  7.],\n",
      "       [  6.],\n",
      "       [  9.],\n",
      "       [  8.],\n",
      "       [  7.],\n",
      "       [  6.],\n",
      "       [  6.],\n",
      "       [  6.],\n",
      "       [  7.],\n",
      "       [  5.],\n",
      "       [  5.],\n",
      "       [  5.],\n",
      "       [  5.],\n",
      "       [  4.],\n",
      "       [  5.],\n",
      "       [  4.],\n",
      "       [  5.],\n",
      "       [  5.],\n",
      "       [  5.],\n",
      "       [  5.],\n",
      "       [  6.],\n",
      "       [  6.],\n",
      "       [  6.],\n",
      "       [  6.],\n",
      "       [  6.],\n",
      "       [  5.],\n",
      "       [  7.],\n",
      "       [  7.],\n",
      "       [  6.],\n",
      "       [  6.],\n",
      "       [  5.],\n",
      "       [  5.],\n",
      "       [  6.],\n",
      "       [  6.],\n",
      "       [  7.],\n",
      "       [  4.],\n",
      "       [  4.],\n",
      "       [  4.],\n",
      "       [  4.],\n",
      "       [  4.],\n",
      "       [  7.],\n",
      "       [  6.],\n",
      "       [  8.],\n",
      "       [  8.],\n",
      "       [  8.],\n",
      "       [  8.],\n",
      "       [  6.],\n",
      "       [  5.],\n",
      "       [  5.],\n",
      "       [  5.],\n",
      "       [  6.],\n",
      "       [  5.],\n",
      "       [  5.],\n",
      "       [  3.],\n",
      "       [  5.],\n",
      "       [  5.],\n",
      "       [  9.],\n",
      "       [  9.],\n",
      "       [  9.],\n",
      "       [  8.],\n",
      "       [  9.],\n",
      "       [  8.],\n",
      "       [  9.],\n",
      "       [  9.],\n",
      "       [ 11.],\n",
      "       [ 11.],\n",
      "       [ 16.],\n",
      "       [ 15.]])]\n"
     ]
    },
    {
     "data": {
      "text/plain": [
       "[<matplotlib.lines.Line2D at 0x15f52b2cb00>,\n",
       " <matplotlib.lines.Line2D at 0x15f52b2cf60>]"
      ]
     },
     "execution_count": 80,
     "metadata": {},
     "output_type": "execute_result"
    },
    {
     "data": {
      "image/png": "[encoded data removed]",
      "text/plain": [
       "<matplotlib.figure.Figure at 0x15f52ed8ba8>"
      ]
     },
     "metadata": {},
     "output_type": "display_data"
    }
   ],
   "source": [
    "columns = ['EParamTypes::HOStateDroppedOutNCDecStage']\n",
    "data_ = [df_v1[columns].values, df_v2[columns].values]\n",
    "index_ = df_v1[columns].index.values\n",
    "print(data_)\n",
    "plt.plot(df_v1[columns].index.values, df_v1[columns].values, df_v1[columns].index.values, df_v2[columns].values)\n"
   ]
  },
  {
   "cell_type": "code",
   "execution_count": null,
   "metadata": {
    "collapsed": false
   },
   "outputs": [],
   "source": [
    "df_v1[columns].index.values"
   ]
  },
  {
   "cell_type": "code",
   "execution_count": 54,
   "metadata": {
    "collapsed": false
   },
   "outputs": [
    {
     "data": {
      "text/plain": [
       "(261, 1)"
      ]
     },
     "execution_count": 54,
     "metadata": {},
     "output_type": "execute_result"
    }
   ],
   "source": [
    "df_v1[columns].values.shape"
   ]
  },
  {
   "cell_type": "code",
   "execution_count": null,
   "metadata": {
    "collapsed": false
   },
   "outputs": [],
   "source": [
    "df_v1.head(10)"
   ]
  },
  {
   "cell_type": "code",
   "execution_count": 90,
   "metadata": {
    "collapsed": false
   },
   "outputs": [],
   "source": [
    "test_mode = 'BaseModel'\n",
    "data_mode = 'Test1'\n",
    "\n",
    "#names of columns in a file\n",
    "names = ['N_installed', 'N_installed_sum', 'P_av_total', 'P_av']\n",
    "for i in range(3):\n",
    "    names.append('sei_markup_' + str(i))\n",
    "\n",
    "\n",
    "\n",
    "#read few files\n",
    "#save into database\n",
    "dfs_ = []\n",
    "#read last simulation result\n",
    "files = glob.glob('..\\\\..\\\\ABMIRISLab\\\\Saves\\\\'+ test_mode + '\\\\' + data_mode + \\\n",
    "                 '\\\\*[_w].csv')\n",
    "files.sort(key=os.path.getmtime, reverse=True)\n",
    "\n",
    "#take top 1 files \n",
    "for file in files[0:2]:\n",
    "    df_ = pd.read_csv(file, names=names, low_memory=False, na_values = ['-nan(ind)'])\n",
    "    dfs_.append(df_)"
   ]
  },
  {
   "cell_type": "code",
   "execution_count": 91,
   "metadata": {
    "collapsed": false
   },
   "outputs": [
    {
     "data": {
      "image/png": "[encoded data removed]",
      "text/plain": [
       "<matplotlib.figure.Figure at 0x15f530a1908>"
      ]
     },
     "metadata": {},
     "output_type": "display_data"
    }
   ],
   "source": [
    "data_mode = 'bm_'\n",
    "test_mode = 'markups'\n",
    "\n",
    "fig, axes_ = plt.subplots(nrows=1, ncols=1)\n",
    "fig.subplots_adjust(bottom=0.25)\n",
    "#if ncols = 1  - transform into list\n",
    "axes = [axes_]\n",
    "\n",
    "axes[0].plot(dfs_[0][['sei_markup_' + str(i) for i in range(3)]])\n",
    "axes[0].plot(dfs_[1][['sei_markup_' + str(i) for i in range(3)]])\n",
    "\n",
    "\n",
    "axes[0].set_xlabel(\"Time\")\n",
    "axes[0].set_ylabel(\"Markups\")\n",
    "\n",
    "axes[0].set_ylim([0.0,2.0])\n",
    "\n",
    "plt.tight_layout()\n",
    "plt.savefig('Simulation_results_' + data_mode + test_mode +  '.png', dpi=300)\n",
    "plt.show()    "
   ]
  },
  {
   "cell_type": "code",
   "execution_count": null,
   "metadata": {
    "collapsed": false
   },
   "outputs": [],
   "source": [
    "dfs_[0].head(10)"
   ]
  },
  {
   "cell_type": "code",
   "execution_count": null,
   "metadata": {
    "collapsed": true
   },
   "outputs": [],
   "source": []
  },
  {
   "cell_type": "code",
   "execution_count": null,
   "metadata": {
    "collapsed": true
   },
   "outputs": [],
   "source": []
  },
  {
   "cell_type": "code",
   "execution_count": 79,
   "metadata": {
    "collapsed": true
   },
   "outputs": [],
   "source": [
    "#x - tick \n",
    "#y - drop outs per tick "
   ]
  },
  {
   "cell_type": "code",
   "execution_count": 19,
   "metadata": {
    "collapsed": true
   },
   "outputs": [],
   "source": [
    "N_TICKS_DISPLAY = 260"
   ]
  },
  {
   "cell_type": "code",
   "execution_count": 20,
   "metadata": {
    "collapsed": true
   },
   "outputs": [],
   "source": [
    "N_TICKS = 260"
   ]
  },
  {
   "cell_type": "code",
   "execution_count": 84,
   "metadata": {
    "collapsed": true
   },
   "outputs": [],
   "source": [
    "columns = ['EParamTypes::HOStateDroppedOutNCDecStage', \\\n",
    "            'EParamTypes::HOStateDroppedOutSEIStage',\\\n",
    "            'EParamTypes::HOStateDroppedOutDesignStage']"
   ]
  },
  {
   "cell_type": "code",
   "execution_count": 85,
   "metadata": {
    "collapsed": true
   },
   "outputs": [],
   "source": [
    "data_mode = 'bm_'\n",
    "test_mode = 'drops'\n"
   ]
  },
  {
   "cell_type": "code",
   "execution_count": 84,
   "metadata": {
    "collapsed": false
   },
   "outputs": [
    {
     "data": {
      "text/plain": [
       "[<matplotlib.lines.Line2D at 0x1c6489c0780>]"
      ]
     },
     "execution_count": 84,
     "metadata": {},
     "output_type": "execute_result"
    },
    {
     "data": {
      "image/png": "[encoded data removed]",
      "text/plain": [
       "<matplotlib.figure.Figure at 0x1c64890df98>"
      ]
     },
     "metadata": {},
     "output_type": "display_data"
    }
   ],
   "source": [
    "plt.plot(df_v1[columns[-2]][0:N_TICKS_DISPLAY])"
   ]
  },
  {
   "cell_type": "code",
   "execution_count": 86,
   "metadata": {
    "collapsed": false
   },
   "outputs": [
    {
     "name": "stdout",
     "output_type": "stream",
     "text": [
      "[(1.0, 1.0, 0.89803922176361084, 1.0), (0.9990157632266774, 0.99963091121000403, 0.89262591951033643, 1.0), (0.9980315264533548, 0.99926182242000805, 0.88721261725706213, 1.0)]\n"
     ]
    }
   ],
   "source": [
    "norm = matplotlib.colors.Normalize(vmin=0, vmax=1)\n",
    "cmap_custom = cm.get_cmap('YlGn')\n",
    "incomes = norm(range(len(columns)))\n",
    "colors_ = []\n",
    "\n",
    "i = 0\n",
    "for column in columns:\n",
    "    colors_.append(cmap_custom(i))\n",
    "    i = i + 1\n",
    "    \n",
    "print(colors_)"
   ]
  },
  {
   "cell_type": "code",
   "execution_count": 87,
   "metadata": {
    "collapsed": false
   },
   "outputs": [
    {
     "data": {
      "image/png": "[encoded data removed]",
      "text/plain": [
       "<matplotlib.figure.Figure at 0x15f52a32a58>"
      ]
     },
     "metadata": {},
     "output_type": "display_data"
    }
   ],
   "source": [
    "data_mode = 'bm_'\n",
    "test_mode = 'drops'\n",
    "fig, axes_ = plt.subplots(nrows=1, ncols=1)\n",
    "fig.subplots_adjust(bottom=0.25)\n",
    "\n",
    "#if ncols = 1  - transform into list\n",
    "axes = [axes_]\n",
    "\n",
    "axes_0_tw = axes[0].twinx()\n",
    "\n",
    "ind = np.arange(N_TICKS)    # the x locations for the groups\n",
    "width = 0.35       # the width of the bars: can also be len(x) sequence\n",
    "\n",
    "ind = df_v1.index.values[0:N_TICKS_DISPLAY] + 1\n",
    "\n",
    "lines = []\n",
    "i = 0\n",
    "\n",
    "\n",
    "markers = [\"ro\", \"r^\", \"r*\"]\n",
    "markerfacecolors = colors_\n",
    "colors = ['r', 'r', 'r']\n",
    "labels_raw = [\"nc\", \"inst\", \"sys\"]\n",
    "labels = ['low ef ' + x for x in labels_raw]\n",
    "\n",
    "for column in columns[0:2]:\n",
    "    pi, = axes[0].plot(ind, df_v1[column][0:N_TICKS_DISPLAY], markers[i], label=labels[i])\n",
    "    pi.set_markerfacecolor(markerfacecolors[i])\n",
    "    lines.append(pi)\n",
    "    i = i + 1\n",
    "    \n",
    "#plot on a separate axis\n",
    "pi, = axes_0_tw.plot(ind, df_v1[columns[-1]][0:N_TICKS_DISPLAY], markers[i], label=labels[i])\n",
    "pi.set_markerfacecolor(markerfacecolors[i])\n",
    "lines.append(pi)\n",
    "i = i + 1\n",
    "\n",
    "    \n",
    "markers = [\"go\", \"g^\", \"g*\"]\n",
    "colors = ['g', 'g', 'g']\n",
    "labels = ['high ef ' + x for x in labels_raw]\n",
    "\n",
    "i = 0\n",
    "for column in columns[0:2]:\n",
    "    pi, = axes[0].plot(ind, df_v2[column][0:N_TICKS_DISPLAY], markers[i], label=labels[i])\n",
    "    lines.append(pi)\n",
    "    i = i + 1\n",
    "    \n",
    "#plot on a separate axis\n",
    "pi, = axes_0_tw.plot(ind, df_v2[columns[-1]][0:N_TICKS_DISPLAY], markers[i], label=labels[i])\n",
    "lines.append(pi)\n",
    "i = i + 1\n",
    "    \n",
    "\n",
    "axes[0].set_xlabel(\"Time\")\n",
    "axes[0].set_ylabel(\"Dropouts\")\n",
    "\n",
    "\n",
    "#axes[0].set_autoscaley_on(False)\n",
    "axes[0].set_xlim([1,N_TICKS_DISPLAY])\n",
    "#axes_0_tw.set_ylim([0.0, 5.0])\n",
    "start = 1\n",
    "end = N_TICKS_DISPLAY\n",
    "axes[0].xaxis.set_ticks(np.arange(start, end, 25))\n",
    "\n",
    "\n",
    "\n",
    "\n",
    "# Shrink current axis's height by 10% on the bottom\n",
    "box = axes[0].get_position()\n",
    "axes[0].set_position([box.x0, box.y0 + box.height * 0.2,\n",
    "                 box.width, box.height * 0.8])\n",
    "\n",
    "# Put a legend below current axis\n",
    "lgd = axes[0].legend(lines, [l.get_label() for l in lines], loc='upper center', bbox_to_anchor=(0.5, -0.15),\\\n",
    "          fancybox=True, shadow=True, fontsize='10', ncol = 2)\n",
    "\n",
    "\n",
    "\n",
    "\n",
    "plt.tight_layout()\n",
    "plt.savefig('Simulation_results_' + data_mode + test_mode +  '.png', dpi=300, bbox_extra_artists=(lgd,), bbox_inches='tight')\n",
    "plt.show()\n"
   ]
  },
  {
   "cell_type": "code",
   "execution_count": 114,
   "metadata": {
    "collapsed": true
   },
   "outputs": [],
   "source": [
    "#number of dropouts as stacked bars"
   ]
  },
  {
   "cell_type": "code",
   "execution_count": null,
   "metadata": {
    "collapsed": true
   },
   "outputs": [],
   "source": []
  },
  {
   "cell_type": "code",
   "execution_count": 115,
   "metadata": {
    "collapsed": true
   },
   "outputs": [],
   "source": [
    "#number of installations per tick"
   ]
  },
  {
   "cell_type": "code",
   "execution_count": 92,
   "metadata": {
    "collapsed": false
   },
   "outputs": [
    {
     "data": {
      "image/png": "[encoded data removed]",
      "text/plain": [
       "<matplotlib.figure.Figure at 0x15f530ed2b0>"
      ]
     },
     "metadata": {},
     "output_type": "display_data"
    }
   ],
   "source": [
    "data_mode = 'bm_'\n",
    "test_mode = 'inst'\n",
    "column = ['N_installed_sum']\n",
    "colors_ = ['orange', 'olive', 'khaki'] \n",
    "fig, axes_ = plt.subplots(nrows=1, ncols=1)\n",
    "fig.subplots_adjust(bottom=0.25)\n",
    "\n",
    "#if ncols = 1  - transform into list\n",
    "axes = [axes_]\n",
    "\n",
    "ind = np.arange(N_TICKS)    # the x locations for the groups\n",
    "width = 0.35       # the width of the bars: can also be len(x) sequence\n",
    "\n",
    "ind = dfs_[0].index.values[0:N_TICKS_DISPLAY] + 1\n",
    "\n",
    "lines = []\n",
    "\n",
    "markers = [\"o-\", \"^-\", \"*-\"]\n",
    "markerfacecolors = colors_\n",
    "colors = ['r', 'r', 'r']\n",
    "labels = ['high ef', 'low ef']\n",
    "\n",
    "for i in range(2) :\n",
    "    pi, = axes[0].plot(ind, dfs_[i][column][0:N_TICKS_DISPLAY], markers[i], label=labels[i])\n",
    "    pi.set_markerfacecolor(markerfacecolors[i])\n",
    "    lines.append(pi)\n",
    "    \n",
    "\n",
    "axes[0].set_xlabel(\"Time\")\n",
    "axes[0].set_ylabel(\"Installs\")\n",
    "    \n",
    "# Shrink current axis's height by 10% on the bottom\n",
    "box = axes[0].get_position()\n",
    "axes[0].set_position([box.x0, box.y0 + box.height * 0.2,\n",
    "                 box.width, box.height * 0.8])\n",
    "\n",
    "# Put a legend below current axis\n",
    "lgd = axes[0].legend(lines, [l.get_label() for l in lines], loc='lower center', bbox_to_anchor=(0.5, -0.25),\\\n",
    "          fancybox=True, shadow=True, fontsize='10', ncol = 2)\n",
    "\n",
    "\n",
    "\n",
    "\n",
    "plt.tight_layout()\n",
    "plt.savefig('Simulation_results_' + data_mode + test_mode +  '.png', dpi=300, bbox_extra_artists=(lgd,), bbox_inches='tight')\n",
    "plt.show()\n"
   ]
  },
  {
   "cell_type": "code",
   "execution_count": null,
   "metadata": {
    "collapsed": true
   },
   "outputs": [],
   "source": []
  },
  {
   "cell_type": "code",
   "execution_count": null,
   "metadata": {
    "collapsed": true
   },
   "outputs": [],
   "source": []
  },
  {
   "cell_type": "code",
   "execution_count": 117,
   "metadata": {
    "collapsed": false
   },
   "outputs": [
    {
     "ename": "NameError",
     "evalue": "name 'df' is not defined",
     "output_type": "error",
     "traceback": [
      "\u001b[0;31m---------------------------------------------------------------------------\u001b[0m",
      "\u001b[0;31mNameError\u001b[0m                                 Traceback (most recent call last)",
      "\u001b[0;32m<ipython-input-117-3aed43862450>\u001b[0m in \u001b[0;36m<module>\u001b[0;34m()\u001b[0m\n\u001b[1;32m      8\u001b[0m \u001b[0mwidth\u001b[0m \u001b[1;33m=\u001b[0m \u001b[1;36m0.35\u001b[0m       \u001b[1;31m# the width of the bars: can also be len(x) sequence\u001b[0m\u001b[1;33m\u001b[0m\u001b[0m\n\u001b[1;32m      9\u001b[0m \u001b[1;33m\u001b[0m\u001b[0m\n\u001b[0;32m---> 10\u001b[0;31m \u001b[0mind\u001b[0m \u001b[1;33m=\u001b[0m \u001b[0mdf\u001b[0m\u001b[1;33m.\u001b[0m\u001b[0mindex\u001b[0m\u001b[1;33m.\u001b[0m\u001b[0mvalues\u001b[0m\u001b[1;33m[\u001b[0m\u001b[1;36m0\u001b[0m\u001b[1;33m:\u001b[0m\u001b[0mN_TICKS_DISPLAY\u001b[0m\u001b[1;33m]\u001b[0m \u001b[1;33m+\u001b[0m \u001b[1;36m1\u001b[0m\u001b[1;33m\u001b[0m\u001b[0m\n\u001b[0m\u001b[1;32m     11\u001b[0m \u001b[1;33m\u001b[0m\u001b[0m\n\u001b[1;32m     12\u001b[0m \u001b[0mlines\u001b[0m \u001b[1;33m=\u001b[0m \u001b[1;33m[\u001b[0m\u001b[1;33m]\u001b[0m\u001b[1;33m\u001b[0m\u001b[0m\n",
      "\u001b[0;31mNameError\u001b[0m: name 'df' is not defined"
     ]
    },
    {
     "data": {
      "image/png": "[encoded data removed]",
      "text/plain": [
       "<matplotlib.figure.Figure at 0x1c646dd2ba8>"
      ]
     },
     "metadata": {},
     "output_type": "display_data"
    }
   ],
   "source": [
    "fig, axes = plt.subplots(nrows=1, ncols=2)\n",
    "fig.subplots_adjust(bottom=0.25)\n",
    "\n",
    "\n",
    "\n",
    "\n",
    "ind = np.arange(N_TICKS)    # the x locations for the groups\n",
    "width = 0.35       # the width of the bars: can also be len(x) sequence\n",
    "\n",
    "ind = df.index.values[0:N_TICKS_DISPLAY] + 1\n",
    "\n",
    "lines = []\n",
    "i = 0\n",
    "\n",
    "\n",
    "markers = [\"ro\", \"r^\", \"r*\"]\n",
    "colors = ['r', 'r', 'r']\n",
    "labels = [\"er\", \"el\", \"el\"]\n",
    "\n",
    "for column in columns:\n",
    "    pi, = axes[0].plot(ind, df_v1[column][0:N_TICKS_DISPLAY], markers[i], label=labels[i])\n",
    "    lines.append(pi)\n",
    "    i = i + 1\n",
    "    \n",
    "\n",
    "\n",
    "#p1, = axes[0].plot(ind, df['sem_max'][0:N_TICKS_DISPLAY], \"g-\", label=\"max\")    \n",
    "p2, = axes[0].plot(ind, df['sei_0'][0:N_TICKS_DISPLAY], \"ro\", label=\"er\")\n",
    "p3, = axes[0].plot(ind, df['sei_1'][0:N_TICKS_DISPLAY], \"r^\", label=\"el\")\n",
    "p4, = axes[0].plot(ind, df['sei_2'][0:N_TICKS_DISPLAY], \"r*\", label=\"el\")\n",
    "\n",
    "\n",
    "#axes[0].fill_between(ind, \n",
    "#                  df['sem_max'][0:N_TICKS_DISPLAY]-2*df_std['sem_max'][0:N_TICKS_DISPLAY], \n",
    "#                  df['sem_max'][0:N_TICKS_DISPLAY]+2*df_std['sem_max'][0:N_TICKS_DISPLAY], \n",
    "#                  color='g', \n",
    "#                  alpha=0.2)\n",
    "\n",
    "#axes[0].fill_between(ind, \n",
    "#                  df['sei_0'][0:N_TICKS_DISPLAY]-2*df_std['sei_0'][0:N_TICKS_DISPLAY], \n",
    "#                  df['sei_0'][0:N_TICKS_DISPLAY]+2*df_std['sei_0'][0:N_TICKS_DISPLAY], \n",
    "#                  color='r', \n",
    "#                  alpha=0.2)\n",
    "\n",
    "#axes[0].fill_between(ind, \n",
    "#                  df['sei_1'][0:N_TICKS_DISPLAY]-2*df_std['sei_1'][0:N_TICKS_DISPLAY], \n",
    "#                  df['sei_1'][0:N_TICKS_DISPLAY]+2*df_std['sei_1'][0:N_TICKS_DISPLAY], \n",
    "#                  color='r', \n",
    "#                  alpha=0.2)\n",
    "\n",
    "#axes[0].fill_between(ind, \n",
    "#                  df['sei_2'][0:N_TICKS_DISPLAY]-2*df_std['sei_2'][0:N_TICKS_DISPLAY], \n",
    "#                  df['sei_2'][0:N_TICKS_DISPLAY]+2*df_std['sei_2'][0:N_TICKS_DISPLAY], \n",
    "#                  color='r', \n",
    "#                  alpha=0.2)\n",
    "\n",
    "\n",
    "#lines = [p1, p2, p3, p4]\n",
    "lines = [p2, p3, p4]\n",
    "axes[0].legend(lines, [l.get_label() for l in lines], fontsize='10', loc=2)\n",
    "\n",
    "axes[0].set_xlabel(\"Time\")\n",
    "axes[0].set_ylabel(\"Efficiency\")\n",
    "#axes[0].set_title('Efficiency relative to the \\n maximum available', fontsize=10)\n",
    "axes[0].set_title('Efficiency', fontsize=10)\n",
    "\n",
    "axes[0].set_autoscaley_on(False)\n",
    "axes[0].set_xlim([1,15])\n",
    "axes[0].set_ylim([0.15, 0.40])\n",
    "start = 1\n",
    "end = 16\n",
    "axes[0].xaxis.set_ticks(np.arange(start, end, 2))\n",
    "\n",
    "\n",
    "#agents_to_show = ['sem_rel_min'] + ['sei_rel_' + str(i) for i in range(3)]\n",
    "#markers = [\"g-\", \"ro\", \"r^\", \"r*\"]\n",
    "#colors = ['g', 'r', 'r', 'r']\n",
    "#labels = [\"min\", \"er\", \"el\", \"el\"]\n",
    "\n",
    "\n",
    "agents_to_show = ['sei_rel_' + str(i) for i in range(3)]\n",
    "markers = [\"ro\", \"r^\", \"r*\"]\n",
    "colors = ['r', 'r', 'r']\n",
    "labels = [\"er\", \"el\", \"el\"]\n",
    "\n",
    "i = 0\n",
    "lines = []\n",
    "\n",
    "for agent in agents_to_show:\n",
    "    pi, = axes[1].plot(ind, df[agent][0:N_TICKS_DISPLAY], markers[i], label=labels[i])\n",
    "    lines.append(pi)\n",
    "    i = i + 1\n",
    "\n",
    "#i = 0\n",
    "#for agent in agents_to_show:\n",
    "#    axes[1].fill_between(ind, \n",
    "#                  df[agent][0:N_TICKS_DISPLAY]-2*df_std[agent][0:N_TICKS_DISPLAY], \n",
    "#                  df[agent][0:N_TICKS_DISPLAY]+2*df_std[agent][0:N_TICKS_DISPLAY], \n",
    "#                  color=colors[i], \n",
    "#                  alpha=0.2)\n",
    "#    i = i + 1\n",
    "    \n",
    "\n",
    "#axes[1].legend(lines, [l.get_label() for l in lines], fontsize='10', loc=2)\n",
    "axes[1].set_xlabel(\"Time\")\n",
    "axes[1].set_ylabel(\"Reliability\")\n",
    "#axes[1].set_title('Reliability relative to the \\n minimum available', fontsize=10)\n",
    "axes[1].set_title('Reliability', fontsize=10)\n",
    "    \n",
    "axes[1].set_autoscaley_on(False)\n",
    "axes[1].set_xlim([1,15])\n",
    "axes[1].set_ylim([0, 45])\n",
    "axes[1].xaxis.set_ticks(np.arange(start, end, 2))\n",
    "    \n",
    "    \n",
    "plt.tight_layout()\n",
    "plt.savefig('Simulation_results_relatives_' + data_mode + '.png', dpi=300)\n",
    "plt.show()"
   ]
  },
  {
   "cell_type": "code",
   "execution_count": null,
   "metadata": {
    "collapsed": true
   },
   "outputs": [],
   "source": []
  },
  {
   "cell_type": "code",
   "execution_count": null,
   "metadata": {
    "collapsed": true
   },
   "outputs": [],
   "source": []
  },
  {
   "cell_type": "code",
   "execution_count": null,
   "metadata": {
    "collapsed": true
   },
   "outputs": [],
   "source": []
  },
  {
   "cell_type": "code",
   "execution_count": null,
   "metadata": {
    "collapsed": true
   },
   "outputs": [],
   "source": []
  },
  {
   "cell_type": "code",
   "execution_count": null,
   "metadata": {
    "collapsed": true
   },
   "outputs": [],
   "source": []
  },
  {
   "cell_type": "code",
   "execution_count": null,
   "metadata": {
    "collapsed": true
   },
   "outputs": [],
   "source": []
  },
  {
   "cell_type": "code",
   "execution_count": null,
   "metadata": {
    "collapsed": true
   },
   "outputs": [],
   "source": []
  },
  {
   "cell_type": "code",
   "execution_count": null,
   "metadata": {
    "collapsed": false
   },
   "outputs": [],
   "source": [
    "df = pd.DataFrame(\n",
    "{\n",
    "        'HOStateDroppedOutNCDecStage':data_column1,\n",
    "        'HOStateDroppedOutSEIStage':data_column2\n",
    "    }\n",
    ")\n",
    "df.index.name = 'tick'\n",
    "df"
   ]
  },
  {
   "cell_type": "code",
   "execution_count": null,
   "metadata": {
    "collapsed": false
   },
   "outputs": [],
   "source": [
    "df = pd.DataFrame(\n",
    "data_columns\n",
    ")\n",
    "df.index.name = 'tick'\n",
    "df"
   ]
  },
  {
   "cell_type": "code",
   "execution_count": null,
   "metadata": {
    "collapsed": true
   },
   "outputs": [],
   "source": []
  },
  {
   "cell_type": "code",
   "execution_count": null,
   "metadata": {
    "collapsed": true
   },
   "outputs": [],
   "source": [
    "#TODO plot drop out rates per type, plot number of installations per efficiency assumption"
   ]
  },
  {
   "cell_type": "code",
   "execution_count": null,
   "metadata": {
    "collapsed": true
   },
   "outputs": [],
   "source": [
    "#shares amoung installers per type? - number of installations per installer"
   ]
  },
  {
   "cell_type": "code",
   "execution_count": null,
   "metadata": {
    "collapsed": true
   },
   "outputs": [],
   "source": [
    "#different efficiencies - number of installations - efficiency at the same price"
   ]
  },
  {
   "cell_type": "code",
   "execution_count": null,
   "metadata": {
    "collapsed": true
   },
   "outputs": [],
   "source": []
  },
  {
   "cell_type": "code",
   "execution_count": null,
   "metadata": {
    "collapsed": true
   },
   "outputs": [],
   "source": []
  },
  {
   "cell_type": "code",
   "execution_count": null,
   "metadata": {
    "collapsed": true
   },
   "outputs": [],
   "source": []
  },
  {
   "cell_type": "code",
   "execution_count": null,
   "metadata": {
    "collapsed": true
   },
   "outputs": [],
   "source": []
  },
  {
   "cell_type": "code",
   "execution_count": null,
   "metadata": {
    "collapsed": true
   },
   "outputs": [],
   "source": []
  },
  {
   "cell_type": "code",
   "execution_count": null,
   "metadata": {
    "collapsed": true
   },
   "outputs": [],
   "source": []
  },
  {
   "cell_type": "code",
   "execution_count": null,
   "metadata": {
    "collapsed": true
   },
   "outputs": [],
   "source": [
    "#read old file\n"
   ]
  },
  {
   "cell_type": "code",
   "execution_count": null,
   "metadata": {
    "collapsed": true
   },
   "outputs": [],
   "source": []
  },
  {
   "cell_type": "code",
   "execution_count": null,
   "metadata": {
    "collapsed": true
   },
   "outputs": [],
   "source": []
  },
  {
   "cell_type": "code",
   "execution_count": null,
   "metadata": {
    "collapsed": true
   },
   "outputs": [],
   "source": []
  },
  {
   "cell_type": "code",
   "execution_count": null,
   "metadata": {
    "collapsed": false
   },
   "outputs": [],
   "source": [
    "dir(df.index)"
   ]
  },
  {
   "cell_type": "code",
   "execution_count": null,
   "metadata": {
    "collapsed": true
   },
   "outputs": [],
   "source": []
  },
  {
   "cell_type": "code",
   "execution_count": 2,
   "metadata": {
    "collapsed": true
   },
   "outputs": [],
   "source": [
    "test_mode = 'BaseModel'\n",
    "data_mode = 'Test1'\n",
    "mode = 'NEW'\n",
    "model_file = '..\\\\..\\\\ABMIRISLab\\\\Examples\\\\' + test_mode + '\\\\basemodel.model'\n",
    "save_path = '..\\\\..\\\\ABMIRISLab\\\\Saves\\\\' + test_mode + '\\\\' + data_mode + '\\\\basemodel.model'\n",
    "\n",
    "w_file = '..\\\\..\\\\ABMIRISLab\\\\Examples\\\\' + test_mode + '\\\\w.json'\n",
    "sem_file = '..\\\\..\\\\ABMIRISLab\\\\Examples\\\\' + test_mode + '\\\\sem.json'\n",
    "ho_file = '..\\\\..\\\\ABMIRISLab\\\\Examples\\\\' + test_mode + '\\\\ho.json'"
   ]
  },
  {
   "cell_type": "code",
   "execution_count": 71,
   "metadata": {
    "collapsed": true
   },
   "outputs": [],
   "source": [
    "adjustment = 1.25\n",
    "el_price = 0.15"
   ]
  },
  {
   "cell_type": "code",
   "execution_count": 72,
   "metadata": {
    "collapsed": false
   },
   "outputs": [],
   "source": [
    "#update path to save file \n",
    "#open file at path \n",
    "#rewrite it \n",
    "#'path_so_save=' + save_path\n",
    "#'mode=NEW'\n",
    "\n",
    "with open(model_file, 'w') as model_file_:\n",
    "    model_file_.write('path_to_save={}\\n'.format(save_path))\n",
    "    model_file_.write('mode={}\\n'.format('NEW'))\n",
    "\n",
    "with open(w_file) as infile:\n",
    "    w_setup = json.load(infile)\n",
    "    for setting in w_setup['WorldSettings']['params_exog']:\n",
    "        if 'EParamTypes::ScenarioEfficiencyAdjustment' in setting:\n",
    "            setting['EParamTypes::ScenarioEfficiencyAdjustment'] = adjustment\n",
    "        if 'EParamTypes::ElectricityPriceUCDemand' in setting:\n",
    "            setting['EParamTypes::ElectricityPriceUCDemand'] = el_price\n",
    "        if 'EParamTypes::ElectricityPriceUCSupply' in setting:\n",
    "            setting['EParamTypes::ElectricityPriceUCSupply'] = el_price\n",
    "            \n",
    "    with open(w_file, 'w') as outfile:\n",
    "        json.dump(w_setup, outfile)\n",
    "            \n",
    "with open(sem_file) as infile:\n",
    "    sem_setup = json.load(infile)\n",
    "    if (adjustment > 1.0):\n",
    "        sem_setup['costs_base'] = 0.39 * (1 + (adjustment - 1) / 2)\n",
    "        sem_setup['costs_base'] = 0.39\n",
    "    else:\n",
    "        sem_setup['costs_base'] = 0.39\n",
    "            \n",
    "    for setting in sem_setup['params']:\n",
    "        if 'EParamTypes::SEMEfficiencyUpgradeResearch' in setting:\n",
    "            setting['EParamTypes::SEMEfficiencyUpgradeResearch'] = 0.0\n",
    "    \n",
    "    with open(sem_file, 'w') as outfile:\n",
    "        json.dump(sem_setup, outfile)\n",
    "        \n",
    "        \n",
    "with open(ho_file) as infile:\n",
    "    ho_setup = json.load(infile)\n",
    "    ho_setup['House']['roof_effective_size'] = 'FORMULA::0.25'\n",
    "    \n",
    "    with open(ho_file, 'w') as outfile:\n",
    "        json.dump(ho_setup, outfile)\n",
    "    \n"
   ]
  },
  {
   "cell_type": "code",
   "execution_count": 74,
   "metadata": {
    "collapsed": false
   },
   "outputs": [
    {
     "data": {
      "text/plain": [
       "0"
      ]
     },
     "execution_count": 74,
     "metadata": {},
     "output_type": "execute_result"
    }
   ],
   "source": [
    "path = 'BaseModel.exe'\n",
    "args = [path, mode, model_file]\n",
    "subprocess.call([path, mode, model_file])"
   ]
  },
  {
   "cell_type": "markdown",
   "metadata": {
    "collapsed": true
   },
   "source": [
    "http://stackoverflow.com/questions/10101700/moving-matplotlib-legend-outside-of-the-axis-makes-it-cutoff-by-the-figure-box\n",
    "    http://stackoverflow.com/questions/8971834/matplotlib-savefig-with-a-legend-outside-the-plot\n",
    "    http://stackoverflow.com/questions/10101700/moving-matplotlib-legend-outside-of-the-axis-makes-it-cutoff-by-the-figure-box?noredirect=1&lq=1"
   ]
  },
  {
   "cell_type": "code",
   "execution_count": null,
   "metadata": {
    "collapsed": true
   },
   "outputs": [],
   "source": []
  },
  {
   "cell_type": "code",
   "execution_count": null,
   "metadata": {
    "collapsed": true
   },
   "outputs": [],
   "source": [
    "#assume 8 per watt \n",
    "#small roof - only for 5 kw\n",
    "#bill 5*5*2"
   ]
  },
  {
   "cell_type": "code",
   "execution_count": 90,
   "metadata": {
    "collapsed": false
   },
   "outputs": [
    {
     "name": "stdout",
     "output_type": "stream",
     "text": [
      "225.0\n"
     ]
    }
   ],
   "source": [
    "#el bill\n",
    "el_bill = 5*5*2*30*0.15\n",
    "print(el_bill)"
   ]
  },
  {
   "cell_type": "code",
   "execution_count": 91,
   "metadata": {
    "collapsed": true
   },
   "outputs": [],
   "source": [
    "#savings\n",
    "#system price \n",
    "system_price = 8*5*1000"
   ]
  },
  {
   "cell_type": "code",
   "execution_count": 92,
   "metadata": {
    "collapsed": true
   },
   "outputs": [],
   "source": [
    "#interest rate 5%\n",
    "interest_rate = 0.05\n",
    "total_payments = system_price + system_price*interest_rate*25/2"
   ]
  },
  {
   "cell_type": "code",
   "execution_count": 93,
   "metadata": {
    "collapsed": true
   },
   "outputs": [],
   "source": [
    "savings = (0.15*25*5*5*365 - total_payments)/(el_bill*12*25)"
   ]
  },
  {
   "cell_type": "code",
   "execution_count": 94,
   "metadata": {
    "collapsed": false
   },
   "outputs": [
    {
     "name": "stdout",
     "output_type": "stream",
     "text": [
      "-0.45601851851851855\n"
     ]
    }
   ],
   "source": [
    "print(savings)"
   ]
  },
  {
   "cell_type": "code",
   "execution_count": 95,
   "metadata": {
    "collapsed": false
   },
   "outputs": [
    {
     "name": "stdout",
     "output_type": "stream",
     "text": [
      "65000.0\n"
     ]
    }
   ],
   "source": [
    "print(total_payments)"
   ]
  },
  {
   "cell_type": "code",
   "execution_count": 96,
   "metadata": {
    "collapsed": true
   },
   "outputs": [],
   "source": [
    "income = 0.15*25*5*5*365"
   ]
  },
  {
   "cell_type": "code",
   "execution_count": 97,
   "metadata": {
    "collapsed": false
   },
   "outputs": [
    {
     "name": "stdout",
     "output_type": "stream",
     "text": [
      "34218.75\n"
     ]
    }
   ],
   "source": [
    "print(income)"
   ]
  },
  {
   "cell_type": "code",
   "execution_count": 98,
   "metadata": {
    "collapsed": true
   },
   "outputs": [],
   "source": [
    "savings = ((el_bill*12*25 - (el_bill*12*25 - 0.15*25*5*5*365)) - total_payments)/(el_bill*12*25)"
   ]
  },
  {
   "cell_type": "code",
   "execution_count": 99,
   "metadata": {
    "collapsed": false
   },
   "outputs": [
    {
     "name": "stdout",
     "output_type": "stream",
     "text": [
      "-0.45601851851851855\n"
     ]
    }
   ],
   "source": [
    "print(savings)"
   ]
  },
  {
   "cell_type": "code",
   "execution_count": null,
   "metadata": {
    "collapsed": true
   },
   "outputs": [],
   "source": []
  },
  {
   "cell_type": "code",
   "execution_count": 3,
   "metadata": {
    "collapsed": false
   },
   "outputs": [],
   "source": [
    "#create fake data - matrix 10*10 with random number of installations \n",
    "\n",
    "fake_data = np.random.rand(10,10)\n",
    "\n",
    "fake_data = fake_data * 100\n",
    "        \n",
    "\n",
    "\n"
   ]
  },
  {
   "cell_type": "code",
   "execution_count": 4,
   "metadata": {
    "collapsed": false
   },
   "outputs": [
    {
     "name": "stdout",
     "output_type": "stream",
     "text": [
      "[[ 73.00464472  66.36029531  92.31578591  48.45415688   2.12335901\n",
      "   80.48322658  58.64117045  44.57834072  70.01176613  84.46462118]\n",
      " [  8.01371505  20.58032204  42.34754018  21.93961205  94.6360953\n",
      "   44.67449745  26.55711896  41.50899949  44.73496607  40.85806731]\n",
      " [ 64.15765933  57.18382623  56.33978229  37.73896397  17.40427217\n",
      "   27.22763068  42.93850311  50.39171393  59.49806417  43.7066184 ]\n",
      " [ 86.73796907  39.81839152  76.92963845  95.01576941  58.7988436\n",
      "   75.51126937  42.69690508  28.21851133  15.52278728  41.3376596 ]\n",
      " [ 91.49002919  81.28124529  26.61714341  77.58397399  45.50644703\n",
      "   24.7685508   98.21360604   0.81212472  55.74781144  95.86018622]\n",
      " [ 21.56206894  39.32591421  85.17501601  76.43221026  87.6580207\n",
      "   60.59735117  92.55498752  20.49874692  39.97783431  74.96292256]\n",
      " [ 12.33419492  87.98540041  48.04517758  47.60092111  21.10069743\n",
      "    8.39240932  82.49897299  66.99358848  32.07833191  28.99020718]\n",
      " [ 59.89514107  95.88071302  58.6728239    5.66412531  67.57393479\n",
      "   30.39543083  52.95183699  40.20504799  76.68960499  97.19778883]\n",
      " [ 66.16949432  48.88374974  92.53737124   0.09933946  21.63907492\n",
      "   64.90367923  69.7522708   40.77312887  60.38601882  19.43557609]\n",
      " [ 62.14275184  55.77247012  57.02962626  64.38139649  90.17122795\n",
      "   50.2840768   24.71693583  16.37653039  60.74684138  78.98545007]]\n"
     ]
    }
   ],
   "source": [
    "print(fake_data)"
   ]
  },
  {
   "cell_type": "code",
   "execution_count": 8,
   "metadata": {
    "collapsed": false
   },
   "outputs": [
    {
     "data": {
      "image/png": "[encoded data removed]",
      "text/plain": [
       "<matplotlib.figure.Figure at 0x1c5b6029860>"
      ]
     },
     "metadata": {},
     "output_type": "display_data"
    }
   ],
   "source": [
    "fig, ax = plt.subplots()\n",
    "\n",
    "cmap_custom = cm.get_cmap('YlGn')\n",
    "\n",
    "image = np.random.uniform(size=(10, 10))\n",
    "ax.imshow(image, cmap=cmap_custom, interpolation='nearest')\n",
    "ax.set_title('Number of installations \\n in a neighborhood')\n",
    "\n",
    "# Move left and bottom spines outward by 10 points\n",
    "ax.spines['left'].set_position(('outward', 10))\n",
    "ax.spines['bottom'].set_position(('outward', 10))\n",
    "# Hide the right and top spines\n",
    "ax.spines['right'].set_visible(False)\n",
    "ax.spines['top'].set_visible(False)\n",
    "# Only show ticks on the left and bottom spines\n",
    "ax.yaxis.set_ticks_position('left')\n",
    "ax.xaxis.set_ticks_position('bottom')\n",
    "\n",
    "\n",
    "plt.tight_layout()\n",
    "data_mode = 'test'\n",
    "plt.savefig('Simulation_results_spatial_' + data_mode + '.png', dpi=300)\n",
    "\n",
    "plt.show()\n",
    "\n"
   ]
  },
  {
   "cell_type": "code",
   "execution_count": null,
   "metadata": {
    "collapsed": true
   },
   "outputs": [],
   "source": []
  },
  {
   "cell_type": "code",
   "execution_count": 9,
   "metadata": {
    "collapsed": true
   },
   "outputs": [],
   "source": [
    "def create_fake_data():\n",
    "    #data_column_names\n",
    "    data_columns = {'Efficiency_of_panel':[],\\\n",
    "                   'Count':[],\\\n",
    "                   'Price_per_watt':[]}\n",
    "    \n",
    "    data_columns['Efficiency_of_panel'] = np.random.uniform(size=(100)) * 0.18\n",
    "    data_columns['Count'] = np.random.uniform(size=(100)) * 100\n",
    "    data_columns['Price_per_watt'] = np.random.uniform(size=(100)) * 4\n",
    "    \n",
    "    \n",
    "    \n",
    "    return data_columns\n"
   ]
  },
  {
   "cell_type": "code",
   "execution_count": 11,
   "metadata": {
    "collapsed": false
   },
   "outputs": [],
   "source": [
    "#fake data\n",
    "data_columns = create_fake_data()\n",
    "df_agg_top = pd.DataFrame(\n",
    "data_columns\n",
    ")\n",
    "df_agg_top.index.name = 'installer'\n"
   ]
  },
  {
   "cell_type": "code",
   "execution_count": 18,
   "metadata": {
    "collapsed": false
   },
   "outputs": [
    {
     "data": {
      "image/png": "[encoded data removed]",
      "text/plain": [
       "<matplotlib.figure.Figure at 0x1c5b6176c18>"
      ]
     },
     "metadata": {},
     "output_type": "display_data"
    }
   ],
   "source": [
    "N = 100\n",
    "\n",
    "\n",
    "\n",
    "\n",
    "\n",
    "x = df_agg_top['Efficiency_of_panel']\n",
    "y = df_agg_top['Price_per_watt']\n",
    "norm = matplotlib.colors.Normalize(vmin=df_agg_top['Count'][N-1], vmax=df_agg_top['Count'][0])\n",
    "cmap_custom = cm.get_cmap('YlGn')\n",
    "area = norm(df_agg_top['Count'])\n",
    "color = []\n",
    "\n",
    "for area_x in area:\n",
    "    color.append(cmap_custom(area_x/2))\n",
    "    \n",
    "#color[1] = (0.0, 0.65, 0.75, 1.0)\n",
    "    \n",
    "fig = plt.figure()\n",
    "ax = fig.add_subplot(1,1,1)\n",
    "ax.set_xlabel('Efficiency of PV panel')\n",
    "ax.set_ylabel('Price Per Watt')\n",
    "\n",
    "ax.set_autoscaley_on(False)\n",
    "ax.set_xlim([0,0.2])\n",
    "ax.set_ylim([0,5])\n",
    "    \n",
    "#plt.xlabel('Price Per Watt')\n",
    "#plt.ylabel('System Size AC')\n",
    "#plt.title('Number of Installations Per Company')\n",
    "\n",
    "ax.scatter(x, y, s=df_agg_top['Count'],  c = color )\n",
    "handles, labels = ax.get_legend_handles_labels()\n",
    "\n",
    "\n",
    "#names are here\n",
    "#df_agg.index.values[0:3]\n",
    "\n",
    "#colors are here\n",
    "#color[0:3]\n",
    "\n",
    "artists = []\n",
    "labels = []\n",
    "\n",
    "#create custom artists\n",
    "for i in range(3):\n",
    "    artists.append(mpatches.Circle((0, 0), 1.0, facecolor=color[i]))\n",
    "    labels.append(df_agg_top.index.values[i])\n",
    "\n",
    "\n",
    "class HandlerEllipse(HandlerPatch):\n",
    "    def create_artists(self, legend, orig_handle,\n",
    "                       xdescent, ydescent, width, height, fontsize, trans):\n",
    "        center = 0.5 * width - 0.5 * xdescent, 0.5 * height - 0.5 * ydescent\n",
    "        p = mpatches.Circle(xy=center, radius=width/10)\n",
    "        self.update_prop(p, orig_handle, legend)\n",
    "        p.set_transform(trans)\n",
    "        return [p]\n",
    "    \n",
    "\n",
    "#Create legend from custom artist/label lists\n",
    "ax.legend(artists,\n",
    "          labels,\n",
    "         handler_map={mpatches.Circle: HandlerEllipse()}, bbox_to_anchor=(0.9, 0.9),\n",
    "           bbox_transform=plt.gcf().transFigure, fontsize=5\n",
    "         )\n",
    "\n",
    "\n",
    "\n",
    "#plt.scatter(x, y, s=df_agg_top['Count'],  c = color )\n",
    "data_mode = 'test'\n",
    "plt.savefig('Simulation_results_installers_' + data_mode + '.png', dpi=300)\n",
    "plt.show()"
   ]
  },
  {
   "cell_type": "code",
   "execution_count": null,
   "metadata": {
    "collapsed": true
   },
   "outputs": [],
   "source": []
  },
  {
   "cell_type": "code",
   "execution_count": null,
   "metadata": {
    "collapsed": true
   },
   "outputs": [],
   "source": []
  },
  {
   "cell_type": "code",
   "execution_count": null,
   "metadata": {
    "collapsed": true
   },
   "outputs": [],
   "source": []
  },
  {
   "cell_type": "code",
   "execution_count": null,
   "metadata": {
    "collapsed": true
   },
   "outputs": [],
   "source": []
  },
  {
   "cell_type": "code",
   "execution_count": null,
   "metadata": {
    "collapsed": true
   },
   "outputs": [],
   "source": []
  },
  {
   "cell_type": "code",
   "execution_count": null,
   "metadata": {
    "collapsed": true
   },
   "outputs": [],
   "source": []
  },
  {
   "cell_type": "code",
   "execution_count": null,
   "metadata": {
    "collapsed": true
   },
   "outputs": [],
   "source": []
  },
  {
   "cell_type": "code",
   "execution_count": null,
   "metadata": {
    "collapsed": true
   },
   "outputs": [],
   "source": []
  },
  {
   "cell_type": "code",
   "execution_count": null,
   "metadata": {
    "collapsed": true
   },
   "outputs": [],
   "source": []
  },
  {
   "cell_type": "code",
   "execution_count": null,
   "metadata": {
    "collapsed": true
   },
   "outputs": [],
   "source": []
  }
 ],
 "metadata": {
  "anaconda-cloud": {},
  "kernelspec": {
   "display_name": "Python [conda env:aimacro]",
   "language": "python",
   "name": "conda-env-aimacro-py"
  },
  "language_info": {
   "codemirror_mode": {
    "name": "ipython",
    "version": 3
   },
   "file_extension": ".py",
   "mimetype": "text/x-python",
   "name": "python",
   "nbconvert_exporter": "python",
   "pygments_lexer": "ipython3",
   "version": "3.5.2"
  }
 },
 "nbformat": 4,
 "nbformat_minor": 1
}
