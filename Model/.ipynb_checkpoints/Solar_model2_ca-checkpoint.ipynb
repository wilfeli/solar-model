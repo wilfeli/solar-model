{
 "cells": [
  {
   "cell_type": "code",
   "execution_count": 1,
   "metadata": {
    "collapsed": true
   },
   "outputs": [],
   "source": [
    "import json\n",
    "from pprint import pprint\n",
    "import pandas as pd\n",
    "import numpy as np\n",
    "%matplotlib inline\n",
    "import matplotlib.pyplot as plt\n",
    "from matplotlib import cm\n",
    "import matplotlib.patches as mpatches\n",
    "import matplotlib\n",
    "matplotlib.style.use('ggplot')\n",
    "#ols models\n",
    "import statsmodels.formula.api as sm\n",
    "from patsy import dmatrices\n",
    "import re\n",
    "import scipy as sp\n",
    "from tools import print_columns"
   ]
  },
  {
   "cell_type": "code",
   "execution_count": 2,
   "metadata": {
    "collapsed": true
   },
   "outputs": [],
   "source": [
    "#regression model for prices in CA\n"
   ]
  },
  {
   "cell_type": "code",
   "execution_count": 3,
   "metadata": {
    "collapsed": true
   },
   "outputs": [],
   "source": [
    "#read data\n",
    "df_full = pd.read_csv(\"../../Data/NEM_CurrentlyInterconnectedDataset_2016-03-31.csv\", low_memory=False)"
   ]
  },
  {
   "cell_type": "code",
   "execution_count": 4,
   "metadata": {
    "collapsed": false
   },
   "outputs": [
    {
     "name": "stderr",
     "output_type": "stream",
     "text": [
      "/Users/wilfeli/anaconda/lib/python3.5/site-packages/ipykernel/__main__.py:9: SettingWithCopyWarning: \n",
      "A value is trying to be set on a copy of a slice from a DataFrame.\n",
      "Try using .loc[row_indexer,col_indexer] = value instead\n",
      "\n",
      "See the caveats in the documentation: http://pandas.pydata.org/pandas-docs/stable/indexing.html#indexing-view-versus-copy\n"
     ]
    }
   ],
   "source": [
    "#get year from date\n",
    "df_full.ix[:,15] =  pd.to_datetime(df_full.ix[:,15], infer_datetime_format=True)\n",
    "df_full['App_Complete_Date_Year'] = df_full.ix[:,15].dt.year\n",
    "df_full.columns = df_full.columns.str.replace(' ','_')\n",
    "#clean a little bit\n",
    "df_full = df_full[(df_full.T != 0).all()]\n",
    "#keep cleaning\n",
    "df = df_full[(df_full['App_Complete_Date_Year'] > 2014) & \\\n",
    "             (df_full['Total_System_Cost'] > 0.0) &\\\n",
    "            (df_full['Customer_Sector'] == 'Residential')]\n",
    "df['Installer_Name_clear'] = df['Installer_Name']"
   ]
  },
  {
   "cell_type": "code",
   "execution_count": 5,
   "metadata": {
    "collapsed": true
   },
   "outputs": [],
   "source": [
    "#create dummies for companies\n",
    "def company_dummy(row, templ, name):\n",
    "    if not pd.isnull(row['Installer_Name_clear']):\n",
    "        if templ.search(row['Installer_Name_clear']):\n",
    "            val = name\n",
    "        else:\n",
    "            val = row['Installer_Name_clear']\n",
    "    else:\n",
    "        val = row['Installer_Name_clear']\n",
    "    return val"
   ]
  },
  {
   "cell_type": "code",
   "execution_count": 6,
   "metadata": {
    "collapsed": false
   },
   "outputs": [
    {
     "name": "stderr",
     "output_type": "stream",
     "text": [
      "/Users/wilfeli/anaconda/lib/python3.5/site-packages/ipykernel/__main__.py:7: SettingWithCopyWarning: \n",
      "A value is trying to be set on a copy of a slice from a DataFrame.\n",
      "Try using .loc[row_indexer,col_indexer] = value instead\n",
      "\n",
      "See the caveats in the documentation: http://pandas.pydata.org/pandas-docs/stable/indexing.html#indexing-view-versus-copy\n"
     ]
    }
   ],
   "source": [
    "regexes = [[r'SolarCity', 'SolarCity Corporation'], \\\n",
    "           [r'SunPower', 'SunPower Corporation'], \\\n",
    "          [r'Sunrun', 'Sunrun Installation Services, Inc'], \\\n",
    "           [r'Petersen\\s+Dean', 'Petersen Dean Roofing & Solar Systems'], \\\n",
    "          [r'Semper Solaris', 'Semper Solaris Construction Inc']]\n",
    "\n",
    "for names in regexes:\n",
    "    company_regex = names[0]\n",
    "    replace_name = names[1]\n",
    "    p = re.compile(company_regex, re.IGNORECASE)\n",
    "    df['Installer_Name_clear'] = df.apply (lambda row: company_dummy (row, p, replace_name),axis=1)"
   ]
  },
  {
   "cell_type": "code",
   "execution_count": 7,
   "metadata": {
    "collapsed": true
   },
   "outputs": [],
   "source": [
    "#save cleaned dataset\n",
    "df.to_csv('NEM_CurrentlyInterconnectedDataset_2016-03-31_clear.csv')"
   ]
  },
  {
   "cell_type": "code",
   "execution_count": null,
   "metadata": {
    "collapsed": true
   },
   "outputs": [],
   "source": [
    "#read data\n",
    "df = pd.read_csv('NEM_CurrentlyInterconnectedDataset_2016-03-31_clear.csv', low_memory=False)"
   ]
  },
  {
   "cell_type": "code",
   "execution_count": null,
   "metadata": {
    "collapsed": false
   },
   "outputs": [],
   "source": [
    "print_columns(df)"
   ]
  },
  {
   "cell_type": "code",
   "execution_count": 8,
   "metadata": {
    "collapsed": true
   },
   "outputs": [],
   "source": [
    "#pick only top options\n",
    "#top installers\n",
    "top_installer_names = df['Installer_Name_clear'].value_counts().index.values[0:10]\n",
    "df_model = df.loc[df['Installer_Name_clear'].isin(top_installer_names)]\n",
    "\n",
    "#top modules\n",
    "top_modules = df_model['Module_Model_1'].value_counts().index.values[0:10]\n",
    "df_model = df_model.loc[df_model['Module_Model_1'].isin(top_modules)]\n",
    "\n",
    "#top inverters\n",
    "top_inverters = df_model['Inverter_Model_1'].value_counts().index.values[0:10]\n",
    "df_model = df_model.loc[df_model['Inverter_Model_1'].isin(top_inverters)]"
   ]
  },
  {
   "cell_type": "code",
   "execution_count": 9,
   "metadata": {
    "collapsed": true
   },
   "outputs": [],
   "source": [
    "#add efficiency and type of inverter\n",
    "with open('../Source/Examples/UnitTestModel/solar_equipment.json') as data_file:    \n",
    "    solar_equipment = json.load(data_file)"
   ]
  },
  {
   "cell_type": "code",
   "execution_count": 10,
   "metadata": {
    "collapsed": true
   },
   "outputs": [],
   "source": [
    "N = len(solar_equipment['inverters'])\n",
    "\n",
    "#create numpy array with dummy types\n",
    "data = np.ndarray(shape=(N,2), dtype=float)\n",
    "\n",
    "#create array with names \n",
    "index = []"
   ]
  },
  {
   "cell_type": "code",
   "execution_count": 11,
   "metadata": {
    "collapsed": false
   },
   "outputs": [],
   "source": [
    "microinverters = ['Microinverter']\n",
    "i = 0 \n",
    "for inverter in solar_equipment['inverters']:\n",
    "    for inverter_name in inverter:\n",
    "        if inverter[inverter_name]['Type'] in microinverters:\n",
    "            data[i,0] = 1\n",
    "            data[i,1] = 0\n",
    "        else:\n",
    "            data[i,0] = 0\n",
    "            data[i,1] = 1\n",
    "        index.append(inverter_name)\n",
    "        i = i + 1"
   ]
  },
  {
   "cell_type": "code",
   "execution_count": 12,
   "metadata": {
    "collapsed": true
   },
   "outputs": [],
   "source": [
    "df_inverters = pd.DataFrame(data=data, index=index, columns = ['Microinverter', 'String_Inverter'])"
   ]
  },
  {
   "cell_type": "code",
   "execution_count": 13,
   "metadata": {
    "collapsed": true
   },
   "outputs": [],
   "source": [
    "#create dummies for inverters\n",
    "def inverter_dummy(row):\n",
    "    if not pd.isnull(row['Inverter_Model_1']):\n",
    "        #find corresponding flag in small dataframe\n",
    "        val = df_inverters.ix[row['Inverter_Model_1']]['Microinverter']\n",
    "    else:\n",
    "        val = np.nan\n",
    "    return val"
   ]
  },
  {
   "cell_type": "code",
   "execution_count": 14,
   "metadata": {
    "collapsed": false
   },
   "outputs": [],
   "source": [
    "#dummies for microinverters\n",
    "df_model['Microinverter'] = df_model.apply (lambda row: inverter_dummy (row),axis=1)"
   ]
  },
  {
   "cell_type": "code",
   "execution_count": 28,
   "metadata": {
    "collapsed": true
   },
   "outputs": [],
   "source": [
    "N = len(solar_equipment['solar_modules'])\n",
    "\n",
    "#create numpy array with prices and efficiencies\n",
    "data_module = np.ndarray(shape=(N,1), dtype=float)\n",
    "\n",
    "#create array with names \n",
    "index_module = []"
   ]
  },
  {
   "cell_type": "code",
   "execution_count": 29,
   "metadata": {
    "collapsed": false
   },
   "outputs": [
    {
     "name": "stdout",
     "output_type": "stream",
     "text": [
      "1.650015 0.1575743250818932\n",
      "1.586253 0.16390827944848646\n",
      "1.586253 0.16706036174557276\n",
      "1.103772 0.20837636758316028\n",
      "1.676675 0.16699718192255505\n",
      "1.244082 0.20095138423351516\n",
      "1.67 0.15568862275449102\n",
      "1.630714 0.2115637689993463\n",
      "1.650015 0.1666651515289255\n",
      "1.676675 0.1640150893882237\n",
      "1.676675 0.14910462671656702\n"
     ]
    }
   ],
   "source": [
    "i = 0\n",
    "for module in solar_equipment['solar_modules']:\n",
    "    for module_name in module:\n",
    "        area = float(module[module_name]['Length']) * \\\n",
    "                float(module[module_name]['Width'])/1000000\n",
    "        efficiency = float(module[module_name]['STC Power Rating'])/area/1000\n",
    "        data_module[i,0] = efficiency\n",
    "        print(area, efficiency)\n",
    "        index_module.append(module_name)\n",
    "        i = i + 1"
   ]
  },
  {
   "cell_type": "code",
   "execution_count": 30,
   "metadata": {
    "collapsed": false
   },
   "outputs": [],
   "source": [
    "df_efficiency = pd.DataFrame(data=data_module, index=index_module, columns = ['Efficiency'])"
   ]
  },
  {
   "cell_type": "code",
   "execution_count": 32,
   "metadata": {
    "collapsed": true
   },
   "outputs": [],
   "source": [
    "#create dummies for modules\n",
    "def efficiency_dummy(row):\n",
    "    if not pd.isnull(row['Module_Model_1']):\n",
    "        #find corresponding flag in small dataframe\n",
    "        val = df_efficiency.ix[row['Module_Model_1']]['Efficiency']\n",
    "    else:\n",
    "        val = np.nan\n",
    "    return val"
   ]
  },
  {
   "cell_type": "code",
   "execution_count": 33,
   "metadata": {
    "collapsed": false
   },
   "outputs": [],
   "source": [
    "#dummies for microinverters\n",
    "df_model['Efficiency'] = df_model.apply (lambda row: efficiency_dummy (row),axis=1)"
   ]
  },
  {
   "cell_type": "code",
   "execution_count": 34,
   "metadata": {
    "collapsed": false
   },
   "outputs": [],
   "source": [
    "base_efficiency = 0.15\n",
    "theta_price_per_efficiency = 1.8135\n",
    "df_model['I_N_Efficiency'] = df_model['Module_Quantity_1'] * df_model['Efficiency']/base_efficiency\n",
    "df_model['I_N_Efficiency_Price'] = df_model['Module_Quantity_1'] * \\\n",
    "                                df_model['Efficiency']/base_efficiency * \\\n",
    "                                df_model['Efficiency']/base_efficiency * theta_price_per_efficiency"
   ]
  },
  {
   "cell_type": "code",
   "execution_count": 35,
   "metadata": {
    "collapsed": true
   },
   "outputs": [],
   "source": [
    "df_model = df_model.loc[(df_model['Total_System_Cost'] < 180000) & (df_model['Module_Quantity_1'] < 50)]"
   ]
  },
  {
   "cell_type": "code",
   "execution_count": 45,
   "metadata": {
    "collapsed": false
   },
   "outputs": [
    {
     "name": "stdout",
     "output_type": "stream",
     "text": [
      "                            OLS Regression Results                            \n",
      "==============================================================================\n",
      "Dep. Variable:      Total_System_Cost   R-squared:                       0.720\n",
      "Model:                            OLS   Adj. R-squared:                  0.720\n",
      "Method:                 Least Squares   F-statistic:                     1888.\n",
      "Date:                Wed, 01 Jun 2016   Prob (F-statistic):               0.00\n",
      "Time:                        16:24:33   Log-Likelihood:                -44879.\n",
      "No. Observations:                4413   AIC:                         8.977e+04\n",
      "Df Residuals:                    4406   BIC:                         8.982e+04\n",
      "Df Model:                           6                                         \n",
      "Covariance Type:            nonrobust                                         \n",
      "========================================================================================================\n",
      "                                           coef    std err          t      P>|t|      [95.0% Conf. Int.]\n",
      "--------------------------------------------------------------------------------------------------------\n",
      "Intercept                             4232.5450    263.423     16.067      0.000      3716.103  4748.987\n",
      "Module_Quantity_1                     6653.8733    895.707      7.429      0.000      4897.837  8409.909\n",
      "Microinverter                         7548.4857    442.036     17.077      0.000      6681.872  8415.099\n",
      "I(Microinverter * Module_Quantity_1)  -361.1784     20.727    -17.426      0.000      -401.814  -320.543\n",
      "I_N_Efficiency                       -9559.1229   1469.392     -6.505      0.000     -1.24e+04 -6678.376\n",
      "I_N_Efficiency_Price                  1845.5617    328.405      5.620      0.000      1201.723  2489.400\n",
      "System_Size_AC                        3762.5190     50.367     74.702      0.000      3663.774  3861.264\n",
      "==============================================================================\n",
      "Omnibus:                     3940.544   Durbin-Watson:                   1.767\n",
      "Prob(Omnibus):                  0.000   Jarque-Bera (JB):          1567123.776\n",
      "Skew:                           3.362   Prob(JB):                         0.00\n",
      "Kurtosis:                      95.074   Cond. No.                     1.10e+03\n",
      "==============================================================================\n",
      "\n",
      "Warnings:\n",
      "[1] Standard Errors assume that the covariance matrix of the errors is correctly specified.\n",
      "[2] The condition number is large, 1.1e+03. This might indicate that there are\n",
      "strong multicollinearity or other numerical problems.\n"
     ]
    }
   ],
   "source": [
    "res = sm.ols(formula=\"Total_System_Cost~\\\n",
    "Module_Quantity_1+Microinverter+I(Microinverter*Module_Quantity_1)+I_N_Efficiency+I_N_Efficiency_Price+\\\n",
    "System_Size_AC**1000\", \\\n",
    "             data=df_model).fit()\n",
    "print(res.summary())"
   ]
  },
  {
   "cell_type": "code",
   "execution_count": null,
   "metadata": {
    "collapsed": true
   },
   "outputs": [],
   "source": []
  }
 ],
 "metadata": {
  "kernelspec": {
   "display_name": "Python 3",
   "language": "python",
   "name": "python3"
  },
  "language_info": {
   "codemirror_mode": {
    "name": "ipython",
    "version": 3
   },
   "file_extension": ".py",
   "mimetype": "text/x-python",
   "name": "python",
   "nbconvert_exporter": "python",
   "pygments_lexer": "ipython3",
   "version": "3.5.0"
  }
 },
 "nbformat": 4,
 "nbformat_minor": 0
}
