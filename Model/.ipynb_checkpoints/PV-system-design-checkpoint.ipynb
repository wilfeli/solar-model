{
 "cells": [
  {
   "cell_type": "markdown",
   "metadata": {},
   "source": [
    "# Calculator for project's financials"
   ]
  },
  {
   "cell_type": "code",
   "execution_count": 1,
   "metadata": {
    "collapsed": true
   },
   "outputs": [],
   "source": [
    "import pandas as pd\n",
    "import numpy as np\n",
    "%matplotlib inline\n",
    "import matplotlib.pyplot as plt\n",
    "import matplotlib\n",
    "matplotlib.style.use('ggplot')\n",
    "import math"
   ]
  },
  {
   "cell_type": "code",
   "execution_count": null,
   "metadata": {
    "collapsed": true
   },
   "outputs": [],
   "source": [
    "electricity_consumption = 30 #kWh daily usage\n",
    "panel_efficiency = 0.15 #%\n",
    "solar_radiation = 6.0 #kWh/m2/day\n",
    "degradation = 0.9 #at 10 years?\n",
    "price_per_watt = 5 \n",
    "electricity_consumption_percentage = 0.8\n",
    "DCtoACLoss = 0.2\n",
    "STC_power_rating = 260 #W\n",
    "length = 1665\n",
    "width = 991\n",
    "warranty = 25\n",
    "ElectricityPriceUCDemand = 0.15"
   ]
  },
  {
   "cell_type": "code",
   "execution_count": 59,
   "metadata": {
    "collapsed": true
   },
   "outputs": [],
   "source": [
    "#test for Unit test of SEI\n",
    "electricity_consumption = 30 #kWh daily usage\n",
    "panel_efficiency = 0.156 #%\n",
    "solar_radiation = 5.0 #kWh/m2/day\n",
    "degradation = 0.9 #at 10 years?\n",
    "price_per_watt = 3 #after incentives  \n",
    "electricity_consumption_percentage = 1.0 # options are {0.8, 1.0}\n",
    "DCtoACLoss = 0.2\n",
    "STC_power_rating = 260 #W\n",
    "length = 1665\n",
    "width = 991\n",
    "warranty = 25\n",
    "ElectricityPriceUCDemand = 0.20\n",
    "tax_incentive = 0.3\n",
    "\n",
    "\n",
    "#tiered pricing \n",
    "\n",
    "#lease terms \n",
    "# 'transaction price' or 'capitalized cost'\n",
    "# 'residual value'\n",
    "# interest rate of the lease \n",
    "# length of the lease \n",
    "# monthly payment of the lease \n",
    "#lease terms\n",
    "interest_rate_lease = 0.04 \n",
    "lease_rate_escalation = 0.02 #specific for the lease terms\n",
    "lease_length = 25\n",
    "residual_value = 0.1 #percent of the initial value\n",
    "\n",
    "#loan terms\n",
    "interest_rate_loan = 0.06\n",
    "loan_length = 15\n",
    "\n",
    "\n",
    "#market terms\n",
    "market_interest_rate = 0.02\n",
    "inflation = 0.02 \n"
   ]
  },
  {
   "cell_type": "code",
   "execution_count": 21,
   "metadata": {
    "collapsed": true
   },
   "outputs": [],
   "source": [
    "#Globals\n",
    "global electricity_consumption #kWh daily usage\n",
    "global  panel_efficiency #%\n",
    "global solar_radiation #kWh/m2/day\n",
    "global degradation #at 10 years?\n",
    "global price_per_watt #after incentives  - medium range quality\n",
    "global electricity_consumption_percentage # \n",
    "global DCtoACLoss\n",
    "global STC_power_rating #W\n",
    "global length \n",
    "global width \n",
    "global warranty #change to 20 and propagate\n",
    "global ElectricityPriceUCDemand \n",
    "global tax_incentive \n",
    "\n",
    "\n",
    "#tiered pricing \n",
    "\n",
    "#lease terms \n",
    "# 'transaction price' or 'capitalized cost'\n",
    "# 'residual value'\n",
    "# interest rate of the lease \n",
    "# length of the lease \n",
    "# monthly payment of the lease \n",
    "#lease terms\n",
    "global interest_rate_lease \n",
    "global lease_rate_escalation  #specific for the lease terms\n",
    "global lease_length\n",
    "global residual_value  #percent of the initial value\n",
    "\n",
    "#loan terms\n",
    "global interest_rate_loan \n",
    "global loan_length\n",
    "\n",
    "\n",
    "#market terms\n",
    "global market_interest_rate \n",
    "global inflation "
   ]
  },
  {
   "cell_type": "code",
   "execution_count": 28,
   "metadata": {
    "collapsed": true
   },
   "outputs": [],
   "source": [
    "#Scenario 1 for explanations sheet \n",
    "def scenario_1():\n",
    "    \n",
    "    electricity_consumption = 20 #kWh daily usage\n",
    "    panel_efficiency = 0.156 #%\n",
    "    solar_radiation = 5.0 #kWh/m2/day\n",
    "    degradation = 0.9 #at 10 years?\n",
    "    price_per_watt = 3 #after incentives  - medium range quality\n",
    "    electricity_consumption_percentage = 1.0 # \n",
    "    DCtoACLoss = 0.2\n",
    "    STC_power_rating = 260 #W\n",
    "    length = 1665\n",
    "    width = 991\n",
    "    warranty = 25 #change to 20 and propagate\n",
    "    ElectricityPriceUCDemand = 0.20\n",
    "    tax_incentive = 0.3\n",
    "\n",
    "\n",
    "    #to do tiered pricing \n",
    "\n",
    "    #lease terms \n",
    "    # 'transaction price' or 'capitalized cost'\n",
    "    # 'residual value'\n",
    "    # interest rate of the lease \n",
    "    # length of the lease \n",
    "    # monthly payment of the lease \n",
    "    #lease terms\n",
    "    interest_rate_lease = 0.04 \n",
    "    lease_rate_escalation = 0.02 #specific for the lease terms\n",
    "    lease_length = 25\n",
    "    residual_value = 0.1 #percent of the initial value\n",
    "\n",
    "    #loan terms\n",
    "    interest_rate_loan = 0.06\n",
    "    loan_length = 15\n",
    "\n",
    "\n",
    "    #market terms\n",
    "    market_interest_rate = 0.02\n",
    "    inflation = 0.02 "
   ]
  },
  {
   "cell_type": "code",
   "execution_count": 78,
   "metadata": {
    "collapsed": false
   },
   "outputs": [],
   "source": [
    "#Scenario 2 for explanations sheet \n",
    "electricity_consumption = 30 #kWh daily usage\n",
    "panel_efficiency = 0.20 #%\n",
    "solar_radiation = 5.0 #kWh/m2/day\n",
    "degradation = 0.9 #at 10 years?\n",
    "price_per_watt = 4 #after incentives  \n",
    "electricity_consumption_percentage = 1.0 #  \n",
    "DCtoACLoss = 0.2\n",
    "length = 1665\n",
    "width = 991\n",
    "warranty = 25\n",
    "ElectricityPriceUCDemand = 0.20\n",
    "tax_incentive = 0.3\n",
    "\n",
    "\n",
    "#technical parameters - calculated(could be stated if double check is needed)\n",
    "STC_power_rating = panel_efficiency * length * width / 1000\n",
    "#print(STC_power_rating)\n",
    "\n",
    "#tiered pricing \n",
    "\n",
    "#lease terms \n",
    "# 'transaction price' or 'capitalized cost'\n",
    "# 'residual value'\n",
    "# interest rate of the lease \n",
    "# length of the lease \n",
    "# monthly payment of the lease \n",
    "#lease terms\n",
    "interest_rate_lease = 0.04 \n",
    "lease_rate_escalation = 0.02 #specific for the lease terms\n",
    "lease_length = 25\n",
    "residual_value = 0.1 #percent of the initial value\n",
    "\n",
    "#loan terms\n",
    "interest_rate_loan = 0.06\n",
    "loan_length = 15\n",
    "\n",
    "\n",
    "#market terms\n",
    "market_interest_rate = 0.02\n",
    "inflation = 0.02 "
   ]
  },
  {
   "cell_type": "code",
   "execution_count": 5,
   "metadata": {
    "collapsed": false
   },
   "outputs": [
    {
     "name": "stdout",
     "output_type": "stream",
     "text": [
      "121.75\n"
     ]
    }
   ],
   "source": [
    "#utility bill- double check for the current set of parameters\n",
    "utility_bill_monthly = electricity_consumption * ElectricityPriceUCDemand * 365.25/12\n",
    "print(utility_bill_monthly)"
   ]
  },
  {
   "cell_type": "code",
   "execution_count": 80,
   "metadata": {
    "collapsed": false
   },
   "outputs": [
    {
     "name": "stderr",
     "output_type": "stream",
     "text": [
      "UsageError: %%latex is a cell magic, but the cell body is empty."
     ]
    }
   ],
   "source": [
    "%%latex\n"
   ]
  },
  {
   "cell_type": "code",
   "execution_count": 6,
   "metadata": {
    "collapsed": false
   },
   "outputs": [],
   "source": [
    "def calculate_design():\n",
    "   \n",
    "    N_PANELS = math.ceil(electricity_consumption * electricity_consumption_percentage / \\\n",
    "                         ((solar_radiation) * panel_efficiency * (length * width/1000000) * ( 1 - DCtoACLoss)))\n",
    "    DC_size = N_PANELS * STC_power_rating / 1000\n",
    "    DC_size = min(10, DC_size)\n",
    "    N_PANELS = DC_size * 1000 / STC_power_rating\n",
    "    AC_size = DC_size * (1 - DCtoACLoss) \n",
    "    total_costs = price_per_watt * DC_size * 1000 #price per watt is after rebate\n",
    "    area = length * width / 1000000 * N_PANELS\n",
    "    \n",
    "    #savings over lifetime\n",
    "    #current efficiency\n",
    "    efficiency_t = panel_efficiency\n",
    "    total_savings = 0\n",
    "    AC_size_t = AC_size\n",
    "    degradation_t = math.exp(math.log(degradation)/10)\n",
    "    years_to_payoff = 0\n",
    "    flag_years_to_payoff = False\n",
    "    potential_costs = 0.0\n",
    "    \n",
    "    #purchase financials\n",
    "    NPV_purchase = - total_costs\n",
    "    \n",
    "    #loan payments\n",
    "    loan_amount = total_costs \n",
    "    #monthly payments\n",
    "    N_loan = loan_length * 12\n",
    "    loan_annuity = (interest_rate_loan/12)/(1 - math.pow((1 + interest_rate_loan/12), -N_loan))*loan_amount\n",
    "    \n",
    "    #loan financials\n",
    "    NPV_loan = 0.0\n",
    "    \n",
    "    #aggregate into yearly payments on the lease \n",
    "    #lease financials\n",
    "    total_lease_payments = 0.0\n",
    "    interest_rate_lease_t = interest_rate_lease\n",
    "    \n",
    "    #lease annuity payment in the beginning before escalation\n",
    "    lease_annuity = interest_rate_lease * \\\n",
    "                    (total_costs - total_costs * residual_value / \\\n",
    "                    math.pow(1 + interest_rate_lease_t, lease_length)) / \\\n",
    "                    (1 - math.pow(1 + interest_rate_lease_t, - lease_length))\n",
    "    #initial capitalized cost of the lease\n",
    "    residual_value_t = total_costs\n",
    "    NPV_lease = 0.0\n",
    "    lease_payment_t = lease_annuity\n",
    "    \n",
    "    #initial electricity price\n",
    "    ElectricityPriceUCDemand_t = ElectricityPriceUCDemand\n",
    "    \n",
    "    for i in range(warranty):\n",
    "        #yearly production\n",
    "        production_t = AC_size_t * solar_radiation * 365.25\n",
    "        total_savings = total_savings + production_t * ElectricityPriceUCDemand_t\n",
    "        AC_size_t = AC_size_t * degradation_t\n",
    "        \n",
    "        #NPV of a purchase\n",
    "        NPV_purchase = NPV_purchase + production_t * ElectricityPriceUCDemand_t / math.pow(1 + market_interest_rate, i)\n",
    "        \n",
    "        #NPV loan income part\n",
    "        NPV_loan = NPV_loan + (production_t * ElectricityPriceUCDemand_t) / math.pow(1 + market_interest_rate, i)\n",
    "        \n",
    "        #NPV lease income part\n",
    "        NPV_lease = NPV_lease + (production_t * ElectricityPriceUCDemand_t) / math.pow(1 + market_interest_rate, i)\n",
    "        \n",
    "        \n",
    "        if (i < loan_length):\n",
    "            NPV_loan = NPV_loan - (loan_annuity * 12) / math.pow(1 + market_interest_rate, i)\n",
    "        \n",
    "        \n",
    "        if (i < lease_length):\n",
    "            #calculate principal and interest payment for the lease\n",
    "            #interest payment for the lease at original interest rate\n",
    "            interest_payment_lease_t = residual_value_t * interest_rate_lease\n",
    "            \n",
    "            #principal payment for the lease\n",
    "            principal_payment_lease_t = (lease_annuity - interest_payment_lease_t)\n",
    "            \n",
    "            #new residual value\n",
    "            residual_value_t = residual_value_t - principal_payment_lease_t\n",
    "            \n",
    "            #actual interest rate for the lease\n",
    "            interest_rate_lease_t = (lease_payment_t - principal_payment_lease_t)/residual_value_t\n",
    "            #print(interest_rate_lease_t)\n",
    "            \n",
    "            #NPV of a lease with escalation\n",
    "            NPV_lease = NPV_lease - (lease_payment_t) / math.pow(1 + market_interest_rate, i)\n",
    "        \n",
    "            #total lease payments\n",
    "            total_lease_payments = total_lease_payments + lease_payment_t\n",
    "            \n",
    "            #actual escalate lease payment for the next cycle\n",
    "            lease_payment_t = lease_payment_t * (1 + lease_rate_escalation)\n",
    "#            print(lease_payment_t/12)\n",
    "            \n",
    "            \n",
    "        \n",
    "        if (total_savings >= total_costs) and (not (flag_years_to_payoff)):\n",
    "            flag_years_to_payoff = True\n",
    "            years_to_payoff = i\n",
    "         \n",
    "        #potential costs with electricity price escalation\n",
    "        potential_costs = potential_costs + electricity_consumption * 365.25 * ElectricityPriceUCDemand_t\n",
    "        \n",
    "        #escalation of electricity price\n",
    "        ElectricityPriceUCDemand_t = ElectricityPriceUCDemand_t * (1 + inflation)\n",
    "        \n",
    "    #purchase payments\n",
    "    percent_savings = total_savings / potential_costs\n",
    "    net_savings_purchase = (total_savings - total_costs)/potential_costs    \n",
    "#    print(\"{parameter} : {value_:8.2f}\".format(parameter = 'Potential costs', value_ = potential_costs))\n",
    "    \n",
    "    \n",
    "    #loan analysis\n",
    "    net_savings_loan = (total_savings - loan_annuity * N_loan)/potential_costs\n",
    "#    print(\"{parameter} : {value_:8.2f}\".format(parameter = 'total loan payments', value_ = loan_annuity * N_loan))\n",
    "#    print(\"{parameter} : {value_:8.2f}\".format(parameter = 'monthly loan payment', value_ = loan_annuity))\n",
    "#    print(\"{parameter} : {value_:8.2f}\".format(parameter = 'N loan payments', value_ = N_loan))\n",
    "    \n",
    "    \n",
    "    #lease analysis\n",
    "    net_savings_lease = (total_savings - total_lease_payments)/potential_costs\n",
    "#    print(\"{parameter} : {value_:8.2f}\".format(parameter = 'total lease payments', value_ = total_lease_payments))\n",
    "#    print(\"{parameter} : {value_:8.2f}\".format(parameter = 'N lease payments', value_ = lease_length * 12))\n",
    "    \n",
    "        \n",
    "    #IRR - maybe modified\n",
    "        \n",
    "    \n",
    "\n",
    "    \n",
    " \n",
    "    \n",
    "    \n",
    "    \n",
    "    return {'N_PANELS':N_PANELS, 'DC_size':DC_size, 'AC_size':AC_size, 'total_costs':total_costs, \\\n",
    "           'area':area, 'total_savings':total_savings, 'percent_savings':percent_savings, \\\n",
    "            'net_savings_purchase':net_savings_purchase, \\\n",
    "            'NPV_purchase':NPV_purchase/DC_size/1000, \\\n",
    "            'net_savings_loan':net_savings_loan, \\\n",
    "            'NPV_loan':NPV_loan/DC_size/1000, \\\n",
    "            'net_savings_lease':net_savings_lease, \\\n",
    "            'NPV_lease':NPV_lease/DC_size/1000, \\\n",
    "            'years_to_payoff': years_to_payoff}\n",
    "\n"
   ]
  },
  {
   "cell_type": "code",
   "execution_count": 7,
   "metadata": {
    "collapsed": false
   },
   "outputs": [
    {
     "name": "stdout",
     "output_type": "stream",
     "text": [
      "NPV_loan :     2.47\n",
      "area :    63.46\n",
      "net_savings_purchase :     1.11\n",
      "total_savings : 81824.33\n",
      "net_savings_lease :     0.48\n",
      "NPV_lease :     1.84\n",
      "N_PANELS :    38.46\n",
      "percent_savings :     1.75\n",
      "AC_size :     8.00\n",
      "net_savings_loan :     0.77\n",
      "NPV_purchase :     3.46\n",
      "total_costs : 30000.00\n",
      "years_to_payoff :     9.00\n",
      "DC_size :    10.00\n"
     ]
    }
   ],
   "source": [
    "design = calculate_design()\n",
    "for key, value in design.items():\n",
    "    print(\"{parameter} : {value_:8.2f}\".format(parameter = key, value_ = value))"
   ]
  },
  {
   "cell_type": "code",
   "execution_count": 17,
   "metadata": {
    "collapsed": true
   },
   "outputs": [],
   "source": [
    "def plot_xy(x_, y_, title_x, title_y):    \n",
    "    xmin = x.min()\n",
    "    xmax = x.max()\n",
    "    ymin = -1.0\n",
    "    ymax = 1.0\n",
    "\n",
    "    plt.subplots_adjust(hspace=0.5)\n",
    "    fig = plt.figure()\n",
    "    ax = fig.add_subplot(1,1,1)\n",
    "    plt.plot(x, y)\n",
    "    plt.axis([xmin, xmax, ymin, ymax])\n",
    "    ax.set_xlabel(title_x)\n",
    "    ax.set_ylabel(title_y)\n",
    "\n",
    "    plt_name = title_x + '-' + title_y + '.png'\n",
    "    \n",
    "    plt.savefig(plt_name, dpi=300)\n",
    "    plt.show()"
   ]
  },
  {
   "cell_type": "code",
   "execution_count": 29,
   "metadata": {
    "collapsed": false
   },
   "outputs": [
    {
     "data": {
      "text/plain": [
       "<matplotlib.figure.Figure at 0x1093d7128>"
      ]
     },
     "metadata": {},
     "output_type": "display_data"
    },
    {
     "data": {
      "image/png": "[encoded data removed]",
      "text/plain": [
       "<matplotlib.figure.Figure at 0x109638710>"
      ]
     },
     "metadata": {},
     "output_type": "display_data"
    }
   ],
   "source": [
    "y = np.zeros(11)\n",
    "x = np.zeros(11)\n",
    "i = 0\n",
    "scenario_1()\n",
    "#draw percent of a bill vs savings graph\n",
    "for step in np.linspace(0.1, 4.0, num=11):\n",
    "    electricity_consumption_percentage = step\n",
    "    #call function, get percent_savings\n",
    "    design = calculate_design()\n",
    "    y[i] = design['net_savings_loan']\n",
    "    x[i] = step\n",
    "    i = i + 1\n",
    "#draw graph\n",
    "plot_xy(x, y, 'Percentage of electricity consumption','Net savings (loan)')"
   ]
  },
  {
   "cell_type": "code",
   "execution_count": 30,
   "metadata": {
    "collapsed": false
   },
   "outputs": [
    {
     "data": {
      "text/plain": [
       "<matplotlib.figure.Figure at 0x107f63cf8>"
      ]
     },
     "metadata": {},
     "output_type": "display_data"
    },
    {
     "data": {
      "image/png": "[encoded data removed]",
      "text/plain": [
       "<matplotlib.figure.Figure at 0x109084320>"
      ]
     },
     "metadata": {},
     "output_type": "display_data"
    }
   ],
   "source": [
    "y = np.zeros(11)\n",
    "x = np.zeros(11)\n",
    "i = 0\n",
    "scenario_1()\n",
    "#draw percent of a bill vs savings graph\n",
    "for step in np.linspace(20, 30, num=11):\n",
    "    electricity_consumption = step\n",
    "    #call function, get percent_savings\n",
    "    design = calculate_design()\n",
    "    y[i] = design['net_savings_loan']\n",
    "    x[i] = step\n",
    "    i = i + 1\n",
    "#draw graph\n",
    "plot_xy(x, y, 'Electricity consumption','Net savings (loan)')"
   ]
  },
  {
   "cell_type": "code",
   "execution_count": 31,
   "metadata": {
    "collapsed": false
   },
   "outputs": [
    {
     "data": {
      "text/plain": [
       "<matplotlib.figure.Figure at 0x1080a7048>"
      ]
     },
     "metadata": {},
     "output_type": "display_data"
    },
    {
     "data": {
      "image/png": "[encoded data removed]",
      "text/plain": [
       "<matplotlib.figure.Figure at 0x109a7fd30>"
      ]
     },
     "metadata": {},
     "output_type": "display_data"
    }
   ],
   "source": [
    "y = np.zeros(11)\n",
    "x = np.zeros(11)\n",
    "i = 0\n",
    "scenario_1()\n",
    "#draw percent of a bill vs savings graph\n",
    "for step in np.linspace(2.0, 5.0, num=11):\n",
    "    price_per_watt = step\n",
    "    #call function, get percent_savings\n",
    "    design = calculate_design()\n",
    "    y[i] = design['net_savings_loan']\n",
    "    x[i] = step\n",
    "    i = i + 1\n",
    "#draw graph\n",
    "plot_xy(x, y, 'Price per watt','Net savings (loan)')"
   ]
  },
  {
   "cell_type": "code",
   "execution_count": 32,
   "metadata": {
    "collapsed": false
   },
   "outputs": [
    {
     "data": {
      "text/plain": [
       "<matplotlib.figure.Figure at 0x1098a0278>"
      ]
     },
     "metadata": {},
     "output_type": "display_data"
    },
    {
     "data": {
      "image/png": "[encoded data removed]",
      "text/plain": [
       "<matplotlib.figure.Figure at 0x108037588>"
      ]
     },
     "metadata": {},
     "output_type": "display_data"
    }
   ],
   "source": [
    "y = np.zeros(11)\n",
    "x = np.zeros(11)\n",
    "i = 0\n",
    "scenario_1()\n",
    "#draw percent of a bill vs savings graph\n",
    "for step in np.linspace(0.1, 0.3, num=11):\n",
    "    ElectricityPriceUCDemand = step\n",
    "    #call function, get percent_savings\n",
    "    design = calculate_design()\n",
    "    y[i] = design['net_savings_loan']\n",
    "    x[i] = step\n",
    "    i = i + 1\n",
    "#draw graph\n",
    "plot_xy(x, y, 'Electricity price','Net savings (loan)')\n"
   ]
  },
  {
   "cell_type": "code",
   "execution_count": 33,
   "metadata": {
    "collapsed": false
   },
   "outputs": [
    {
     "data": {
      "text/plain": [
       "<matplotlib.figure.Figure at 0x109a7f710>"
      ]
     },
     "metadata": {},
     "output_type": "display_data"
    },
    {
     "data": {
      "image/png": "[encoded data removed]",
      "text/plain": [
       "<matplotlib.figure.Figure at 0x1093b12e8>"
      ]
     },
     "metadata": {},
     "output_type": "display_data"
    }
   ],
   "source": [
    "base_efficiency = 0.15\n",
    "y = np.zeros(11)\n",
    "x = np.zeros(11)\n",
    "i = 0\n",
    "scenario_1()\n",
    "#draw percent of a bill vs savings graph\n",
    "for step in np.linspace(0.15, 0.3, num=11):\n",
    "    price_per_watt = (-1.3126 + step/base_efficiency * 1.8135)*3\n",
    "#    print(price_per_watt)\n",
    "    panel_efficiency = step\n",
    "    #call function, get percent_savings\n",
    "    design = calculate_design()\n",
    "    y[i] = design['net_savings_loan']\n",
    "    x[i] = step\n",
    "    i = i + 1\n",
    "#draw graph\n",
    "plot_xy(x, y, 'Efficiency','Net savings (loan)')"
   ]
  },
  {
   "cell_type": "code",
   "execution_count": null,
   "metadata": {
    "collapsed": true
   },
   "outputs": [],
   "source": [
    "#add labels here \n"
   ]
  },
  {
   "cell_type": "code",
   "execution_count": null,
   "metadata": {
    "collapsed": true
   },
   "outputs": [],
   "source": []
  },
  {
   "cell_type": "markdown",
   "metadata": {},
   "source": [
    "# Greenhouse gases emission\n",
    "http://www.nrel.gov/docs/fy13osti/56487.pdf - 46 g CO2/ kWh\n",
    "http://www.bigfrogmountain.com/SunHoursPerDay.html - solar radiation per day\n",
    "https://www.eia.gov/conference/2015/pdf/presentations/skone.pdf p.17, 2013 U.S. mix - 611 g CO2/kWh\n",
    "https://www.epa.gov/energy/greenhouse-gas-equivalencies-calculator - calculator , will give 703 g CO2/kWh\n"
   ]
  },
  {
   "cell_type": "code",
   "execution_count": 15,
   "metadata": {
    "collapsed": true
   },
   "outputs": [],
   "source": [
    "system_size_ca = 10 * 0.8\n",
    "solar_days_ca = 6 * 365\n",
    "solar_days_mt = 4 * 365\n",
    "\n",
    "#g Co2_eq / kWh\n",
    "ghg_pv = 46 \n",
    "ghg_el = 611\n",
    "    \n",
    "#equivalent \n",
    "forest = 0.947   "
   ]
  },
  {
   "cell_type": "code",
   "execution_count": 19,
   "metadata": {
    "collapsed": false
   },
   "outputs": [
    {
     "data": {
      "text/plain": [
       "9.3741636"
      ]
     },
     "execution_count": 19,
     "metadata": {},
     "output_type": "execute_result"
    }
   ],
   "source": [
    "em_ca = system_size_ca * solar_days_ca * (ghg_el - ghg_pv)/1000/1000\n",
    "em_ca*forest"
   ]
  },
  {
   "cell_type": "code",
   "execution_count": 7,
   "metadata": {
    "collapsed": true
   },
   "outputs": [],
   "source": [
    "system_size_mt = 6.5/0.8 * 0.8"
   ]
  },
  {
   "cell_type": "code",
   "execution_count": 11,
   "metadata": {
    "collapsed": false
   },
   "outputs": [],
   "source": [
    "em_mt = system_size_mt * solar_days_mt * (ghg_el - ghg_pv)/1000/1000"
   ]
  },
  {
   "cell_type": "code",
   "execution_count": 16,
   "metadata": {
    "collapsed": false
   },
   "outputs": [
    {
     "data": {
      "text/plain": [
       "5.07767195"
      ]
     },
     "execution_count": 16,
     "metadata": {},
     "output_type": "execute_result"
    }
   ],
   "source": [
    "em_mt * forest"
   ]
  },
  {
   "cell_type": "code",
   "execution_count": 17,
   "metadata": {
    "collapsed": false
   },
   "outputs": [
    {
     "data": {
      "text/plain": [
       "535.055"
      ]
     },
     "execution_count": 17,
     "metadata": {},
     "output_type": "execute_result"
    }
   ],
   "source": [
    "#equivalent \n",
    "(ghg_el - ghg_pv) * forest"
   ]
  },
  {
   "cell_type": "code",
   "execution_count": 21,
   "metadata": {
    "collapsed": false
   },
   "outputs": [
    {
     "data": {
      "text/plain": [
       "6556.318"
      ]
     },
     "execution_count": 21,
     "metadata": {},
     "output_type": "execute_result"
    }
   ],
   "source": [
    "306370/25*0.535"
   ]
  },
  {
   "cell_type": "code",
   "execution_count": null,
   "metadata": {
    "collapsed": true
   },
   "outputs": [],
   "source": []
  }
 ],
 "metadata": {
  "kernelspec": {
   "display_name": "Python 3",
   "language": "python",
   "name": "python3"
  },
  "language_info": {
   "codemirror_mode": {
    "name": "ipython",
    "version": 3
   },
   "file_extension": ".py",
   "mimetype": "text/x-python",
   "name": "python",
   "nbconvert_exporter": "python",
   "pygments_lexer": "ipython3",
   "version": "3.5.0"
  }
 },
 "nbformat": 4,
 "nbformat_minor": 0
}
