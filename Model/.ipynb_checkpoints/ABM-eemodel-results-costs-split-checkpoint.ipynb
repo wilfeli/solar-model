{
 "cells": [
  {
   "cell_type": "code",
   "execution_count": 1,
   "metadata": {
    "collapsed": true
   },
   "outputs": [],
   "source": [
    "import ctypes\n",
    "import os\n",
    "import threading\n",
    "import pandas as pd\n",
    "import numpy as np\n",
    "%matplotlib inline\n",
    "import matplotlib.pyplot as plt\n",
    "import matplotlib\n",
    "from matplotlib import cm\n",
    "matplotlib.style.use('ggplot')\n",
    "import math\n",
    "import concurrent.futures\n",
    "import glob\n",
    "import json\n",
    "import scipy as sp\n",
    "import scipy.special\n",
    "from matplotlib.ticker import FormatStrFormatter\n",
    "import subprocess"
   ]
  },
  {
   "cell_type": "code",
   "execution_count": null,
   "metadata": {
    "collapsed": true
   },
   "outputs": [],
   "source": []
  },
  {
   "cell_type": "code",
   "execution_count": 2,
   "metadata": {
    "collapsed": true
   },
   "outputs": [],
   "source": [
    "#read data - into database\n",
    "#aggregate by uid - average? share . Find how to aggregate?\n",
    "#will have multiple runs - transform twice? first - for each run, second accross runs?\n",
    "\n"
   ]
  },
  {
   "cell_type": "code",
   "execution_count": 10,
   "metadata": {
    "collapsed": true
   },
   "outputs": [],
   "source": [
    "data_mode = 'СA'"
   ]
  },
  {
   "cell_type": "code",
   "execution_count": 23,
   "metadata": {
    "collapsed": true
   },
   "outputs": [],
   "source": [
    "test_mode = 'Apr-25-2017/EEModel/RelBaseLearn08/'\n",
    "test_name = 'RelBaseLearn08'"
   ]
  },
  {
   "cell_type": "code",
   "execution_count": 24,
   "metadata": {
    "collapsed": true
   },
   "outputs": [],
   "source": [
    "N_SIMULATION_TICKS = 20"
   ]
  },
  {
   "cell_type": "code",
   "execution_count": 25,
   "metadata": {
    "collapsed": true
   },
   "outputs": [],
   "source": [
    "N_TICKS_DISPLAY = 15"
   ]
  },
  {
   "cell_type": "code",
   "execution_count": 26,
   "metadata": {
    "collapsed": true
   },
   "outputs": [],
   "source": [
    "#total, hard, soft, tick, uid\n",
    "\n",
    "#need for each uid - for each \n",
    "#for each tick - average share of hard costs for each of three sei \n",
    "\n",
    "\n",
    "#read into dataframe \n",
    "#get unique uids\n",
    "#sort them \n",
    "#for each uid \n",
    "#for each tick - create share and average it \n",
    "\n",
    "\n",
    "\n"
   ]
  },
  {
   "cell_type": "code",
   "execution_count": 28,
   "metadata": {
    "collapsed": false
   },
   "outputs": [
    {
     "name": "stdout",
     "output_type": "stream",
     "text": [
      "[]\n"
     ]
    }
   ],
   "source": [
    "#names of columns in a file\n",
    "names = ['P_total', 'P_hard', 'P_soft', 'tick', 'uid']\n",
    "\n",
    "#read few files\n",
    "#save into database\n",
    "dfs_ = []\n",
    "#read last simulation result\n",
    "files = glob.glob('/Users/wilfeli/Dropbox/ABM/SolarPanels/ABMIRISLab/Saves/' + test_mode + data_mode + '/*[_pv].csv')\n",
    "files.sort(key=os.path.getmtime, reverse=True)\n",
    "\n",
    "\n",
    "print(files)\n",
    "\n",
    "#take top x files \n",
    "for file in files[0:10]:\n",
    "    df_ = pd.read_csv(file, names=names, low_memory=False)\n",
    "    df_['share_hard_costs'] = df_['P_hard']/df_['P_total']\n",
    "    dfs_.append(df_)"
   ]
  },
  {
   "cell_type": "code",
   "execution_count": 29,
   "metadata": {
    "collapsed": false
   },
   "outputs": [
    {
     "ename": "ValueError",
     "evalue": "No objects to concatenate",
     "output_type": "error",
     "traceback": [
      "\u001b[0;31m---------------------------------------------------------------------------\u001b[0m",
      "\u001b[0;31mValueError\u001b[0m                                Traceback (most recent call last)",
      "\u001b[0;32m<ipython-input-29-f059871b614a>\u001b[0m in \u001b[0;36m<module>\u001b[0;34m()\u001b[0m\n\u001b[1;32m     32\u001b[0m \u001b[1;33m\u001b[0m\u001b[0m\n\u001b[1;32m     33\u001b[0m \u001b[1;33m\u001b[0m\u001b[0m\n\u001b[0;32m---> 34\u001b[0;31m \u001b[0mdf_concat\u001b[0m \u001b[1;33m=\u001b[0m \u001b[0mpd\u001b[0m\u001b[1;33m.\u001b[0m\u001b[0mconcat\u001b[0m\u001b[1;33m(\u001b[0m\u001b[0mdf_ress_\u001b[0m\u001b[1;33m)\u001b[0m\u001b[1;33m\u001b[0m\u001b[0m\n\u001b[0m\u001b[1;32m     35\u001b[0m \u001b[0mdf\u001b[0m \u001b[1;33m=\u001b[0m \u001b[0mdf_concat\u001b[0m\u001b[1;33m.\u001b[0m\u001b[0mgroupby\u001b[0m\u001b[1;33m(\u001b[0m\u001b[0mlevel\u001b[0m\u001b[1;33m=\u001b[0m\u001b[1;36m0\u001b[0m\u001b[1;33m)\u001b[0m\u001b[1;33m.\u001b[0m\u001b[0mmean\u001b[0m\u001b[1;33m(\u001b[0m\u001b[1;33m)\u001b[0m\u001b[1;33m\u001b[0m\u001b[0m\n\u001b[1;32m     36\u001b[0m \u001b[0mdf_std\u001b[0m \u001b[1;33m=\u001b[0m \u001b[0mdf_concat\u001b[0m\u001b[1;33m.\u001b[0m\u001b[0mgroupby\u001b[0m\u001b[1;33m(\u001b[0m\u001b[0mlevel\u001b[0m\u001b[1;33m=\u001b[0m\u001b[1;36m0\u001b[0m\u001b[1;33m)\u001b[0m\u001b[1;33m.\u001b[0m\u001b[0mstd\u001b[0m\u001b[1;33m(\u001b[0m\u001b[1;33m)\u001b[0m\u001b[1;33m\u001b[0m\u001b[0m\n",
      "\u001b[0;32mC:\\Users\\wilfeli\\Anaconda3\\envs\\aimacro\\lib\\site-packages\\pandas\\tools\\merge.py\u001b[0m in \u001b[0;36mconcat\u001b[0;34m(objs, axis, join, join_axes, ignore_index, keys, levels, names, verify_integrity, copy)\u001b[0m\n\u001b[1;32m    843\u001b[0m                        \u001b[0mkeys\u001b[0m\u001b[1;33m=\u001b[0m\u001b[0mkeys\u001b[0m\u001b[1;33m,\u001b[0m \u001b[0mlevels\u001b[0m\u001b[1;33m=\u001b[0m\u001b[0mlevels\u001b[0m\u001b[1;33m,\u001b[0m \u001b[0mnames\u001b[0m\u001b[1;33m=\u001b[0m\u001b[0mnames\u001b[0m\u001b[1;33m,\u001b[0m\u001b[1;33m\u001b[0m\u001b[0m\n\u001b[1;32m    844\u001b[0m                        \u001b[0mverify_integrity\u001b[0m\u001b[1;33m=\u001b[0m\u001b[0mverify_integrity\u001b[0m\u001b[1;33m,\u001b[0m\u001b[1;33m\u001b[0m\u001b[0m\n\u001b[0;32m--> 845\u001b[0;31m                        copy=copy)\n\u001b[0m\u001b[1;32m    846\u001b[0m     \u001b[1;32mreturn\u001b[0m \u001b[0mop\u001b[0m\u001b[1;33m.\u001b[0m\u001b[0mget_result\u001b[0m\u001b[1;33m(\u001b[0m\u001b[1;33m)\u001b[0m\u001b[1;33m\u001b[0m\u001b[0m\n\u001b[1;32m    847\u001b[0m \u001b[1;33m\u001b[0m\u001b[0m\n",
      "\u001b[0;32mC:\\Users\\wilfeli\\Anaconda3\\envs\\aimacro\\lib\\site-packages\\pandas\\tools\\merge.py\u001b[0m in \u001b[0;36m__init__\u001b[0;34m(self, objs, axis, join, join_axes, keys, levels, names, ignore_index, verify_integrity, copy)\u001b[0m\n\u001b[1;32m    876\u001b[0m \u001b[1;33m\u001b[0m\u001b[0m\n\u001b[1;32m    877\u001b[0m         \u001b[1;32mif\u001b[0m \u001b[0mlen\u001b[0m\u001b[1;33m(\u001b[0m\u001b[0mobjs\u001b[0m\u001b[1;33m)\u001b[0m \u001b[1;33m==\u001b[0m \u001b[1;36m0\u001b[0m\u001b[1;33m:\u001b[0m\u001b[1;33m\u001b[0m\u001b[0m\n\u001b[0;32m--> 878\u001b[0;31m             \u001b[1;32mraise\u001b[0m \u001b[0mValueError\u001b[0m\u001b[1;33m(\u001b[0m\u001b[1;34m'No objects to concatenate'\u001b[0m\u001b[1;33m)\u001b[0m\u001b[1;33m\u001b[0m\u001b[0m\n\u001b[0m\u001b[1;32m    879\u001b[0m \u001b[1;33m\u001b[0m\u001b[0m\n\u001b[1;32m    880\u001b[0m         \u001b[1;32mif\u001b[0m \u001b[0mkeys\u001b[0m \u001b[1;32mis\u001b[0m \u001b[1;32mNone\u001b[0m\u001b[1;33m:\u001b[0m\u001b[1;33m\u001b[0m\u001b[0m\n",
      "\u001b[0;31mValueError\u001b[0m: No objects to concatenate"
     ]
    }
   ],
   "source": [
    "df_ress_ = []\n",
    "index_res = range(N_SIMULATION_TICKS)\n",
    "names_res = ['tick']    \n",
    "for i in range(3):\n",
    "    names_res.append('sei_' + str(i) + '_share_hard_costs')\n",
    "        \n",
    "for df_ in dfs_:\n",
    "    \n",
    "    df_res_ = pd.DataFrame(columns=names_res, index=index_res)\n",
    "    df_res_['tick'] = range(N_SIMULATION_TICKS)\n",
    "    \n",
    "    i = 0 \n",
    "    for uid in df_['uid'].value_counts().index.sort_values():\n",
    "        index = df_['uid'] == uid\n",
    "\n",
    "        #for each tick - average for share = group by tick and use mean \n",
    "        #reindex that all ticks are there - see drawing graphs with bins \n",
    "        \n",
    "        df = df_[index == True].groupby(df_['tick']).mean()\n",
    "       \n",
    "        #add missing ticks \n",
    "        df = df.reindex(range(N_SIMULATION_TICKS), fill_value=np.NaN)\n",
    "        \n",
    "        #need uid -> column name \n",
    "        df_res_['sei_' + str(i) + '_share_hard_costs'] = df['share_hard_costs']\n",
    "        i = i + 1\n",
    "        \n",
    "        #have tick - share for uid\n",
    "        #need tick - share for uids in increasing order\n",
    "        \n",
    "        df_ress_.append(df_res_)\n",
    "        \n",
    "\n",
    "df_concat = pd.concat(df_ress_)\n",
    "df = df_concat.groupby(level=0).mean()\n",
    "df_std = df_concat.groupby(level=0).std()"
   ]
  },
  {
   "cell_type": "code",
   "execution_count": 114,
   "metadata": {
    "collapsed": false
   },
   "outputs": [
    {
     "name": "stdout",
     "output_type": "stream",
     "text": [
      "[]\n"
     ]
    }
   ],
   "source": [
    "print(files)"
   ]
  },
  {
   "cell_type": "code",
   "execution_count": 111,
   "metadata": {
    "collapsed": false
   },
   "outputs": [
    {
     "name": "stdout",
     "output_type": "stream",
     "text": [
      "   tick  sei_0_share_hard_costs  sei_1_share_hard_costs  \\\n",
      "0   0.0                0.066358                0.073813   \n",
      "1   0.0                0.045524                0.051005   \n",
      "2   0.0                0.036826                0.034321   \n",
      "3   0.0                0.037960                0.036661   \n",
      "4   0.0                0.032072                0.040453   \n",
      "\n",
      "   sei_2_share_hard_costs  \n",
      "0                0.071537  \n",
      "1                0.046672  \n",
      "2                0.036769  \n",
      "3                0.030123  \n",
      "4                0.031459  \n"
     ]
    }
   ],
   "source": [
    "print(df_std.head())"
   ]
  },
  {
   "cell_type": "code",
   "execution_count": 91,
   "metadata": {
    "collapsed": false
   },
   "outputs": [
    {
     "data": {
      "image/png": "[encoded data removed]",
      "text/plain": [
       "<matplotlib.figure.Figure at 0x1f22a03c0b8>"
      ]
     },
     "metadata": {},
     "output_type": "display_data"
    }
   ],
   "source": [
    "fig, axes = plt.subplots(nrows=1, ncols=1)\n",
    "fig.subplots_adjust(right=0.85)\n",
    "\n",
    "axes = [axes]\n",
    "\n",
    "#par1 = axes[0].twinx()\n",
    "\n",
    "ind = df.index.values[0:N_TICKS_DISPLAY] + 1\n",
    "\n",
    "\n",
    "\n",
    "agents_to_show = ['sei_' + str(i) + '_share_hard_costs' for i in range(3)]\n",
    "markers = [\"-ro\", \"-r^\", \"-r*\"]\n",
    "colors = ['r', 'r', 'r']\n",
    "labels = [\"er\", \"el\", \"el\"]\n",
    "\n",
    "i = 0\n",
    "lines = []\n",
    "\n",
    "for agent in agents_to_show:\n",
    "    pi, = axes[0].plot(ind, df[agent][0:N_TICKS_DISPLAY], markers[i], label=labels[i])\n",
    "    lines.append(pi)\n",
    "    i = i + 1\n",
    "\n",
    "    \n",
    "axes[0].legend(lines, [l.get_label() for l in lines], fontsize='10', loc=2)\n",
    "    \n",
    "axes[0].set_xlabel(\"Time\")\n",
    "axes[0].set_ylabel(\"Share\")\n",
    "#axes[0].set_title('...', fontsize=10)\n",
    "\n",
    "start = 1\n",
    "end = 16\n",
    "axes[0].set_autoscaley_on(False)\n",
    "axes[0].set_xlim([1,15])\n",
    "#axes[0].set_ylim([0, 45])\n",
    "axes[0].xaxis.set_ticks(np.arange(start, end, 2))\n",
    "\n",
    "plt.tight_layout()\n",
    "plt.savefig('Simulation_results_share_' + data_mode + '_' + test_name +'.png', dpi=300)\n",
    "plt.show()"
   ]
  },
  {
   "cell_type": "code",
   "execution_count": 93,
   "metadata": {
    "collapsed": false
   },
   "outputs": [
    {
     "data": {
      "text/plain": [
       "0.26870891349265674"
      ]
     },
     "execution_count": 93,
     "metadata": {},
     "output_type": "execute_result"
    }
   ],
   "source": [
    "0.58 * math.pow(0.95, 15)"
   ]
  },
  {
   "cell_type": "code",
   "execution_count": null,
   "metadata": {
    "collapsed": true
   },
   "outputs": [],
   "source": [
    "#futures for silicon - check predicted price\n"
   ]
  }
 ],
 "metadata": {
  "anaconda-cloud": {},
  "kernelspec": {
   "display_name": "Python [conda env:aimacro]",
   "language": "python",
   "name": "conda-env-aimacro-py"
  },
  "language_info": {
   "codemirror_mode": {
    "name": "ipython",
    "version": 3
   },
   "file_extension": ".py",
   "mimetype": "text/x-python",
   "name": "python",
   "nbconvert_exporter": "python",
   "pygments_lexer": "ipython3",
   "version": "3.5.2"
  }
 },
 "nbformat": 4,
 "nbformat_minor": 1
}
