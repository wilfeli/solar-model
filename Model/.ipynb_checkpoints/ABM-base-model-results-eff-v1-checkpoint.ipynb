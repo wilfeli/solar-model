{
 "cells": [
  {
   "cell_type": "code",
   "execution_count": 1,
   "metadata": {
    "collapsed": true
   },
   "outputs": [],
   "source": [
    "import re\n",
    "import pandas as pd\n",
    "import numpy as np\n",
    "import json\n",
    "import subprocess\n",
    "import glob\n",
    "import os\n",
    "\n",
    "%matplotlib inline\n",
    "import matplotlib.pyplot as plt\n",
    "import matplotlib\n",
    "import matplotlib.colors as colors\n",
    "from matplotlib import cm\n",
    "matplotlib.style.use('ggplot')\n",
    "import matplotlib.patches as mpatches\n",
    "from matplotlib.legend_handler import HandlerPatch"
   ]
  },
  {
   "cell_type": "code",
   "execution_count": null,
   "metadata": {
    "collapsed": true
   },
   "outputs": [],
   "source": []
  },
  {
   "cell_type": "code",
   "execution_count": null,
   "metadata": {
    "collapsed": true
   },
   "outputs": [],
   "source": []
  },
  {
   "cell_type": "code",
   "execution_count": 2,
   "metadata": {
    "collapsed": true
   },
   "outputs": [],
   "source": [
    "N_SEEDS = 8\n",
    "N_SEI = 20\n",
    "N_TESTS = 5\n",
    "N_TICKS = 260\n",
    "N_TICKS_DISPLAY = 260 - 52\n",
    "N_TICKS_BURN = N_TICKS - N_TICKS_DISPLAY"
   ]
  },
  {
   "cell_type": "code",
   "execution_count": 3,
   "metadata": {
    "collapsed": true
   },
   "outputs": [],
   "source": [
    "def read_error_data_from_log(file, data_):\n",
    "    regex_error_savings = re.compile('(INFO:\\sNEGATIVE\\sSAVINGS\\s*)')\n",
    "    regex_error_small_system = re.compile('(INFO:\\sSMALL\\sSYSTEM\\s*)')\n",
    "    N_SMALL_SAVINGS = 0\n",
    "    N_SMALL_SYSTEMS = 0\n",
    "    \n",
    "    with open(file) as infile:\n",
    "        for line in infile:\n",
    "            if regex_error_savings.search(line):\n",
    "                res = re.split(regex_error_savings, line)\n",
    "                N_SMALL_SAVINGS = N_SMALL_SAVINGS + 1\n",
    "            elif regex_error_small_system.search(line):\n",
    "                res = re.split(regex_error_small_system, line)\n",
    "                N_SMALL_SYSTEMS = N_SMALL_SYSTEMS + 1\n",
    "            else:\n",
    "                pass\n",
    "            \n",
    "    \n",
    "    return (N_SMALL_SAVINGS, N_SMALL_SYSTEMS)"
   ]
  },
  {
   "cell_type": "code",
   "execution_count": 4,
   "metadata": {
    "collapsed": true
   },
   "outputs": [],
   "source": [
    "#Reads data from the given file into the given list\n",
    "def read_data_from_log(file, data_):\n",
    "    regex_begin_tick = re.compile('(N\\s*active\\s*agents\\s*at\\s*tick\\s*)')\n",
    "    regex_end_tick = re.compile('(Number\\s*of\\s*installed\\s*projects\\s*:\\s*)')\n",
    "    regex_data =  re.compile('(INFO:\\s)')\n",
    "    regex_data_check = re.compile('EParamTypes')\n",
    "    regex_enum = re.compile('(::[\\w]*\\s*:\\s*)')\n",
    "    regex_enum_name = re.compile('([^:\\s]+)')\n",
    "    regex_1 = re.compile('(\\s*:\\s*)')\n",
    "    \n",
    "    \n",
    "    with open(file) as infile:\n",
    "        for line in infile:\n",
    "            if regex_begin_tick.search(line):\n",
    "                #parse tick number \n",
    "                #start new dictionary in the list\n",
    "                data_.append({})\n",
    "\n",
    "                #get tick \n",
    "                res = re.split(regex_1, re.split(regex_begin_tick, line)[-1])\n",
    "                data_[-1]['N_AGENTS'] = float(res[-1])\n",
    "                data_[-1]['tick'] = float(res[0])\n",
    "            elif regex_end_tick.search(line):\n",
    "                res = re.split(regex_end_tick, line)\n",
    "                data_[-1]['N_PROJECTS'] = float(res[-1])\n",
    "            else:\n",
    "                if (regex_data.search(line)) and (regex_data_check.search(line)):\n",
    "                    res = re.split(regex_data, line)\n",
    "                    #get last part and enum name \n",
    "                    #last part is number\n",
    "                    res2 = re.split(regex_enum, res[-1])\n",
    "                    #get enum name \n",
    "                    data_[-1]['EParamTypes::' + re.split(regex_enum_name, res2[-2])[-2]] = float(res2[-1])\n",
    "#    print(data_)"
   ]
  },
  {
   "cell_type": "code",
   "execution_count": 5,
   "metadata": {
    "collapsed": true
   },
   "outputs": [],
   "source": [
    "def get_subset_data(data_):\n",
    "    #data_column_names\n",
    "    data_columns = {'EParamTypes::HOStateDroppedOutNCDecStage':[],\\\n",
    "                   'EParamTypes::HOStateDroppedOutSEIStage':[],\\\n",
    "                   'EParamTypes::HOStateDroppedOutDesignStage':[],\\\n",
    "                   'EParamTypes::HONumberActiveAgents':[]}\n",
    "    tick = []\n",
    "    i = 0\n",
    "    #collect data for each tick \n",
    "    for row in data_:\n",
    "        for key, value in data_columns.items():\n",
    "            value.append(0.0)\n",
    "            if key in row:\n",
    "                value[-1] = row[key]\n",
    "        tick.append(i)\n",
    "        i = i + 1\n",
    "    \n",
    "    return data_columns\n",
    "\n",
    "#print(data_columns)"
   ]
  },
  {
   "cell_type": "code",
   "execution_count": 6,
   "metadata": {
    "collapsed": false
   },
   "outputs": [],
   "source": [
    "#N_tests - number of different tests that were run \n",
    "#dfs_logs - where to save them\n",
    "def collect_data_for_simulation_runs_from_logs(N_TESTS, dfs_logs):\n",
    "\n",
    "\n",
    "    test_mode = 'BaseModel'\n",
    "    test_version = 'BaseVer02'\n",
    "    test_loc = 'CA'\n",
    "    data_mode = 'Logs'\n",
    "    version = '_eff'\n",
    "    params_versions = [str(x) for x in np.linspace(1.0,1.2,N_TESTS,endpoint=True)]\n",
    "\n",
    "    for i_run in range(N_TESTS):  \n",
    "\n",
    "        #get latest file \n",
    "        files = glob.glob('..\\\\..\\\\ABMIRISLab\\\\Saves\\\\Jan-11-2018\\\\' + test_mode + '\\\\' + test_version + '\\\\'  +\\\n",
    "                          test_loc + '\\\\' + params_versions[i_run] + '\\\\' + data_mode +\\\n",
    "                         '\\\\*[_log].log')\n",
    "        files.sort(key=os.path.getmtime, reverse=True)\n",
    "        files_ = files[0 * N_SEEDS : 1 * N_SEEDS]    \n",
    "\n",
    "        dfs_ = []\n",
    "\n",
    "        for file in files_:\n",
    "\n",
    "            #if find N active agents at tick\n",
    "            # start data for the tick \n",
    "            #parse data - name of the enum, value\n",
    "            data_ = []\n",
    "            read_data_from_log(file, data_)\n",
    "            data_subset_ = get_subset_data(data_)\n",
    "            df_ = pd.DataFrame(\n",
    "                data_subset_\n",
    "                )\n",
    "            df_.index.name = 'tick'\n",
    "\n",
    "            dfs_.append(df_)\n",
    "\n",
    "\n",
    "\n",
    "\n",
    "\n",
    "        #get averages \n",
    "        #create df from them    \n",
    "        df_concat = pd.concat(dfs_)\n",
    "        df_logs = df_concat.groupby(level=0).mean()\n",
    "\n",
    "\n",
    "        dfs_logs.append(df_logs)"
   ]
  },
  {
   "cell_type": "code",
   "execution_count": 7,
   "metadata": {
    "collapsed": false
   },
   "outputs": [],
   "source": [
    "dfs_logs = []\n",
    "collect_data_for_simulation_runs_from_logs(N_TESTS, dfs_logs)\n",
    "df_logs = dfs_logs[0]"
   ]
  },
  {
   "cell_type": "code",
   "execution_count": 8,
   "metadata": {
    "collapsed": false
   },
   "outputs": [
    {
     "data": {
      "text/html": [
       "<div>\n",
       "<table border=\"1\" class=\"dataframe\">\n",
       "  <thead>\n",
       "    <tr style=\"text-align: right;\">\n",
       "      <th></th>\n",
       "      <th>EParamTypes::HONumberActiveAgents</th>\n",
       "      <th>EParamTypes::HOStateDroppedOutDesignStage</th>\n",
       "      <th>EParamTypes::HOStateDroppedOutNCDecStage</th>\n",
       "      <th>EParamTypes::HOStateDroppedOutSEIStage</th>\n",
       "    </tr>\n",
       "    <tr>\n",
       "      <th>tick</th>\n",
       "      <th></th>\n",
       "      <th></th>\n",
       "      <th></th>\n",
       "      <th></th>\n",
       "    </tr>\n",
       "  </thead>\n",
       "  <tbody>\n",
       "    <tr>\n",
       "      <th>0</th>\n",
       "      <td>59.142857</td>\n",
       "      <td>0.0</td>\n",
       "      <td>0.0</td>\n",
       "      <td>0.0</td>\n",
       "    </tr>\n",
       "    <tr>\n",
       "      <th>1</th>\n",
       "      <td>108.142857</td>\n",
       "      <td>0.0</td>\n",
       "      <td>0.0</td>\n",
       "      <td>0.0</td>\n",
       "    </tr>\n",
       "    <tr>\n",
       "      <th>2</th>\n",
       "      <td>157.000000</td>\n",
       "      <td>0.0</td>\n",
       "      <td>0.0</td>\n",
       "      <td>0.0</td>\n",
       "    </tr>\n",
       "    <tr>\n",
       "      <th>3</th>\n",
       "      <td>205.428571</td>\n",
       "      <td>0.0</td>\n",
       "      <td>0.0</td>\n",
       "      <td>0.0</td>\n",
       "    </tr>\n",
       "    <tr>\n",
       "      <th>4</th>\n",
       "      <td>254.142857</td>\n",
       "      <td>0.0</td>\n",
       "      <td>0.0</td>\n",
       "      <td>0.0</td>\n",
       "    </tr>\n",
       "  </tbody>\n",
       "</table>\n",
       "</div>"
      ],
      "text/plain": [
       "      EParamTypes::HONumberActiveAgents  \\\n",
       "tick                                      \n",
       "0                             59.142857   \n",
       "1                            108.142857   \n",
       "2                            157.000000   \n",
       "3                            205.428571   \n",
       "4                            254.142857   \n",
       "\n",
       "      EParamTypes::HOStateDroppedOutDesignStage  \\\n",
       "tick                                              \n",
       "0                                           0.0   \n",
       "1                                           0.0   \n",
       "2                                           0.0   \n",
       "3                                           0.0   \n",
       "4                                           0.0   \n",
       "\n",
       "      EParamTypes::HOStateDroppedOutNCDecStage  \\\n",
       "tick                                             \n",
       "0                                          0.0   \n",
       "1                                          0.0   \n",
       "2                                          0.0   \n",
       "3                                          0.0   \n",
       "4                                          0.0   \n",
       "\n",
       "      EParamTypes::HOStateDroppedOutSEIStage  \n",
       "tick                                          \n",
       "0                                        0.0  \n",
       "1                                        0.0  \n",
       "2                                        0.0  \n",
       "3                                        0.0  \n",
       "4                                        0.0  "
      ]
     },
     "execution_count": 8,
     "metadata": {},
     "output_type": "execute_result"
    }
   ],
   "source": [
    "dfs_logs[0].head()"
   ]
  },
  {
   "cell_type": "code",
   "execution_count": 9,
   "metadata": {
    "collapsed": true
   },
   "outputs": [],
   "source": [
    "def collect_data_for_simulation_runs_from_w(N_TESTS, dfs_w, dfs_w_std):\n",
    "\n",
    "    test_mode = 'BaseVer02'\n",
    "    data_mode = 'CA'\n",
    "    #here think how to change it\n",
    "    params_versions = [str(x) for x in np.linspace(1.0,1.2,N_TESTS,endpoint=True)]\n",
    "\n",
    "    #names of columns in a file\n",
    "    names = ['N_installed', 'N_installed_sum', 'P_av_total', 'P_av']\n",
    "    for i in range(N_SEI):\n",
    "        names.append('sei_markup_' + str(i))\n",
    "\n",
    "\n",
    "\n",
    "    for i_run in range(N_TESTS): \n",
    "        #read few files\n",
    "        #save into database\n",
    "        dfs_ = []\n",
    "        #read last simulation result\n",
    "        files = glob.glob('..\\\\..\\\\ABMIRISLab\\\\Saves\\\\Jan-11-2018\\\\BaseModel\\\\'+ test_mode + '\\\\' + data_mode + \\\n",
    "                         '\\\\' + params_versions[i_run] + '\\\\*[_w].csv')\n",
    "        files.sort(key=os.path.getmtime, reverse=True)\n",
    "\n",
    "        #take top x files \n",
    "        for file in files[0 * N_SEEDS : 1 * N_SEEDS]:\n",
    "            df_ = pd.read_csv(file, names=names, low_memory=False, na_values = ['-nan(ind)'])\n",
    "            dfs_.append(df_)\n",
    "\n",
    "\n",
    "        #create df from them    \n",
    "        df_concat = pd.concat(dfs_)\n",
    "        df_w_mean = df_concat.groupby(level=0).mean()\n",
    "        df_w_std = df_concat.groupby(level=0).std()\n",
    "        \n",
    "        dfs_w.append(df_w_mean)\n",
    "        dfs_w_std.append(df_w_std)"
   ]
  },
  {
   "cell_type": "code",
   "execution_count": 10,
   "metadata": {
    "collapsed": false
   },
   "outputs": [],
   "source": [
    "dfs_w = []\n",
    "dfs_w_std = []\n",
    "collect_data_for_simulation_runs_from_w(N_TESTS, dfs_w, dfs_w_std)"
   ]
  },
  {
   "cell_type": "code",
   "execution_count": 11,
   "metadata": {
    "collapsed": false
   },
   "outputs": [
    {
     "data": {
      "text/html": [
       "<div>\n",
       "<table border=\"1\" class=\"dataframe\">\n",
       "  <thead>\n",
       "    <tr style=\"text-align: right;\">\n",
       "      <th></th>\n",
       "      <th>N_installed</th>\n",
       "      <th>N_installed_sum</th>\n",
       "      <th>P_av_total</th>\n",
       "      <th>P_av</th>\n",
       "      <th>sei_markup_0</th>\n",
       "      <th>sei_markup_1</th>\n",
       "      <th>sei_markup_2</th>\n",
       "      <th>sei_markup_3</th>\n",
       "      <th>sei_markup_4</th>\n",
       "      <th>sei_markup_5</th>\n",
       "      <th>...</th>\n",
       "      <th>sei_markup_10</th>\n",
       "      <th>sei_markup_11</th>\n",
       "      <th>sei_markup_12</th>\n",
       "      <th>sei_markup_13</th>\n",
       "      <th>sei_markup_14</th>\n",
       "      <th>sei_markup_15</th>\n",
       "      <th>sei_markup_16</th>\n",
       "      <th>sei_markup_17</th>\n",
       "      <th>sei_markup_18</th>\n",
       "      <th>sei_markup_19</th>\n",
       "    </tr>\n",
       "  </thead>\n",
       "  <tbody>\n",
       "    <tr>\n",
       "      <th>0</th>\n",
       "      <td>0.0</td>\n",
       "      <td>0.0</td>\n",
       "      <td>0.0</td>\n",
       "      <td>0.0</td>\n",
       "      <td>0.491332</td>\n",
       "      <td>0.686154</td>\n",
       "      <td>0.394593</td>\n",
       "      <td>0.537956</td>\n",
       "      <td>0.544454</td>\n",
       "      <td>0.551717</td>\n",
       "      <td>...</td>\n",
       "      <td>0.447666</td>\n",
       "      <td>0.552777</td>\n",
       "      <td>0.392875</td>\n",
       "      <td>0.445332</td>\n",
       "      <td>0.453472</td>\n",
       "      <td>0.515118</td>\n",
       "      <td>0.527037</td>\n",
       "      <td>0.419609</td>\n",
       "      <td>0.507716</td>\n",
       "      <td>0.48574</td>\n",
       "    </tr>\n",
       "    <tr>\n",
       "      <th>1</th>\n",
       "      <td>0.0</td>\n",
       "      <td>0.0</td>\n",
       "      <td>NaN</td>\n",
       "      <td>0.0</td>\n",
       "      <td>0.491332</td>\n",
       "      <td>0.686154</td>\n",
       "      <td>0.394593</td>\n",
       "      <td>0.537956</td>\n",
       "      <td>0.544454</td>\n",
       "      <td>0.551717</td>\n",
       "      <td>...</td>\n",
       "      <td>0.447666</td>\n",
       "      <td>0.552777</td>\n",
       "      <td>0.392875</td>\n",
       "      <td>0.445332</td>\n",
       "      <td>0.453472</td>\n",
       "      <td>0.515118</td>\n",
       "      <td>0.527037</td>\n",
       "      <td>0.419609</td>\n",
       "      <td>0.507716</td>\n",
       "      <td>0.48574</td>\n",
       "    </tr>\n",
       "    <tr>\n",
       "      <th>2</th>\n",
       "      <td>0.0</td>\n",
       "      <td>0.0</td>\n",
       "      <td>NaN</td>\n",
       "      <td>0.0</td>\n",
       "      <td>0.491332</td>\n",
       "      <td>0.686154</td>\n",
       "      <td>0.394593</td>\n",
       "      <td>0.537956</td>\n",
       "      <td>0.544454</td>\n",
       "      <td>0.551717</td>\n",
       "      <td>...</td>\n",
       "      <td>0.447666</td>\n",
       "      <td>0.552777</td>\n",
       "      <td>0.392875</td>\n",
       "      <td>0.445332</td>\n",
       "      <td>0.453472</td>\n",
       "      <td>0.515118</td>\n",
       "      <td>0.527037</td>\n",
       "      <td>0.419609</td>\n",
       "      <td>0.507716</td>\n",
       "      <td>0.48574</td>\n",
       "    </tr>\n",
       "    <tr>\n",
       "      <th>3</th>\n",
       "      <td>0.0</td>\n",
       "      <td>0.0</td>\n",
       "      <td>NaN</td>\n",
       "      <td>0.0</td>\n",
       "      <td>0.491332</td>\n",
       "      <td>0.686154</td>\n",
       "      <td>0.394593</td>\n",
       "      <td>0.537956</td>\n",
       "      <td>0.544454</td>\n",
       "      <td>0.551717</td>\n",
       "      <td>...</td>\n",
       "      <td>0.447666</td>\n",
       "      <td>0.552777</td>\n",
       "      <td>0.392875</td>\n",
       "      <td>0.445332</td>\n",
       "      <td>0.453472</td>\n",
       "      <td>0.515118</td>\n",
       "      <td>0.527037</td>\n",
       "      <td>0.419609</td>\n",
       "      <td>0.507716</td>\n",
       "      <td>0.48574</td>\n",
       "    </tr>\n",
       "    <tr>\n",
       "      <th>4</th>\n",
       "      <td>0.0</td>\n",
       "      <td>0.0</td>\n",
       "      <td>NaN</td>\n",
       "      <td>0.0</td>\n",
       "      <td>0.491332</td>\n",
       "      <td>0.686154</td>\n",
       "      <td>0.394593</td>\n",
       "      <td>0.537956</td>\n",
       "      <td>0.544454</td>\n",
       "      <td>0.551717</td>\n",
       "      <td>...</td>\n",
       "      <td>0.447666</td>\n",
       "      <td>0.552777</td>\n",
       "      <td>0.392875</td>\n",
       "      <td>0.445332</td>\n",
       "      <td>0.453472</td>\n",
       "      <td>0.515118</td>\n",
       "      <td>0.527037</td>\n",
       "      <td>0.419609</td>\n",
       "      <td>0.507716</td>\n",
       "      <td>0.48574</td>\n",
       "    </tr>\n",
       "  </tbody>\n",
       "</table>\n",
       "<p>5 rows × 24 columns</p>\n",
       "</div>"
      ],
      "text/plain": [
       "   N_installed  N_installed_sum  P_av_total  P_av  sei_markup_0  sei_markup_1  \\\n",
       "0          0.0              0.0         0.0   0.0      0.491332      0.686154   \n",
       "1          0.0              0.0         NaN   0.0      0.491332      0.686154   \n",
       "2          0.0              0.0         NaN   0.0      0.491332      0.686154   \n",
       "3          0.0              0.0         NaN   0.0      0.491332      0.686154   \n",
       "4          0.0              0.0         NaN   0.0      0.491332      0.686154   \n",
       "\n",
       "   sei_markup_2  sei_markup_3  sei_markup_4  sei_markup_5      ...        \\\n",
       "0      0.394593      0.537956      0.544454      0.551717      ...         \n",
       "1      0.394593      0.537956      0.544454      0.551717      ...         \n",
       "2      0.394593      0.537956      0.544454      0.551717      ...         \n",
       "3      0.394593      0.537956      0.544454      0.551717      ...         \n",
       "4      0.394593      0.537956      0.544454      0.551717      ...         \n",
       "\n",
       "   sei_markup_10  sei_markup_11  sei_markup_12  sei_markup_13  sei_markup_14  \\\n",
       "0       0.447666       0.552777       0.392875       0.445332       0.453472   \n",
       "1       0.447666       0.552777       0.392875       0.445332       0.453472   \n",
       "2       0.447666       0.552777       0.392875       0.445332       0.453472   \n",
       "3       0.447666       0.552777       0.392875       0.445332       0.453472   \n",
       "4       0.447666       0.552777       0.392875       0.445332       0.453472   \n",
       "\n",
       "   sei_markup_15  sei_markup_16  sei_markup_17  sei_markup_18  sei_markup_19  \n",
       "0       0.515118       0.527037       0.419609       0.507716        0.48574  \n",
       "1       0.515118       0.527037       0.419609       0.507716        0.48574  \n",
       "2       0.515118       0.527037       0.419609       0.507716        0.48574  \n",
       "3       0.515118       0.527037       0.419609       0.507716        0.48574  \n",
       "4       0.515118       0.527037       0.419609       0.507716        0.48574  \n",
       "\n",
       "[5 rows x 24 columns]"
      ]
     },
     "execution_count": 11,
     "metadata": {},
     "output_type": "execute_result"
    }
   ],
   "source": [
    "dfs_w[0].head()"
   ]
  },
  {
   "cell_type": "code",
   "execution_count": 12,
   "metadata": {
    "collapsed": false
   },
   "outputs": [
    {
     "data": {
      "text/html": [
       "<div>\n",
       "<table border=\"1\" class=\"dataframe\">\n",
       "  <thead>\n",
       "    <tr style=\"text-align: right;\">\n",
       "      <th></th>\n",
       "      <th>N_installed</th>\n",
       "      <th>N_installed_sum</th>\n",
       "      <th>P_av_total</th>\n",
       "      <th>P_av</th>\n",
       "      <th>sei_markup_0</th>\n",
       "      <th>sei_markup_1</th>\n",
       "      <th>sei_markup_2</th>\n",
       "      <th>sei_markup_3</th>\n",
       "      <th>sei_markup_4</th>\n",
       "      <th>sei_markup_5</th>\n",
       "      <th>...</th>\n",
       "      <th>sei_markup_10</th>\n",
       "      <th>sei_markup_11</th>\n",
       "      <th>sei_markup_12</th>\n",
       "      <th>sei_markup_13</th>\n",
       "      <th>sei_markup_14</th>\n",
       "      <th>sei_markup_15</th>\n",
       "      <th>sei_markup_16</th>\n",
       "      <th>sei_markup_17</th>\n",
       "      <th>sei_markup_18</th>\n",
       "      <th>sei_markup_19</th>\n",
       "    </tr>\n",
       "  </thead>\n",
       "  <tbody>\n",
       "    <tr>\n",
       "      <th>0</th>\n",
       "      <td>0.0</td>\n",
       "      <td>0.0</td>\n",
       "      <td>0.0</td>\n",
       "      <td>0.0</td>\n",
       "      <td>0.1851</td>\n",
       "      <td>0.261796</td>\n",
       "      <td>0.17364</td>\n",
       "      <td>0.240288</td>\n",
       "      <td>0.294364</td>\n",
       "      <td>0.226905</td>\n",
       "      <td>...</td>\n",
       "      <td>0.246397</td>\n",
       "      <td>0.304951</td>\n",
       "      <td>0.188979</td>\n",
       "      <td>0.201515</td>\n",
       "      <td>0.214049</td>\n",
       "      <td>0.195579</td>\n",
       "      <td>0.194259</td>\n",
       "      <td>0.185985</td>\n",
       "      <td>0.226806</td>\n",
       "      <td>0.158702</td>\n",
       "    </tr>\n",
       "    <tr>\n",
       "      <th>1</th>\n",
       "      <td>0.0</td>\n",
       "      <td>0.0</td>\n",
       "      <td>NaN</td>\n",
       "      <td>0.0</td>\n",
       "      <td>0.1851</td>\n",
       "      <td>0.261796</td>\n",
       "      <td>0.17364</td>\n",
       "      <td>0.240288</td>\n",
       "      <td>0.294364</td>\n",
       "      <td>0.226905</td>\n",
       "      <td>...</td>\n",
       "      <td>0.246397</td>\n",
       "      <td>0.304951</td>\n",
       "      <td>0.188979</td>\n",
       "      <td>0.201515</td>\n",
       "      <td>0.214049</td>\n",
       "      <td>0.195579</td>\n",
       "      <td>0.194259</td>\n",
       "      <td>0.185985</td>\n",
       "      <td>0.226806</td>\n",
       "      <td>0.158702</td>\n",
       "    </tr>\n",
       "    <tr>\n",
       "      <th>2</th>\n",
       "      <td>0.0</td>\n",
       "      <td>0.0</td>\n",
       "      <td>NaN</td>\n",
       "      <td>0.0</td>\n",
       "      <td>0.1851</td>\n",
       "      <td>0.261796</td>\n",
       "      <td>0.17364</td>\n",
       "      <td>0.240288</td>\n",
       "      <td>0.294364</td>\n",
       "      <td>0.226905</td>\n",
       "      <td>...</td>\n",
       "      <td>0.246397</td>\n",
       "      <td>0.304951</td>\n",
       "      <td>0.188979</td>\n",
       "      <td>0.201515</td>\n",
       "      <td>0.214049</td>\n",
       "      <td>0.195579</td>\n",
       "      <td>0.194259</td>\n",
       "      <td>0.185985</td>\n",
       "      <td>0.226806</td>\n",
       "      <td>0.158702</td>\n",
       "    </tr>\n",
       "    <tr>\n",
       "      <th>3</th>\n",
       "      <td>0.0</td>\n",
       "      <td>0.0</td>\n",
       "      <td>NaN</td>\n",
       "      <td>0.0</td>\n",
       "      <td>0.1851</td>\n",
       "      <td>0.261796</td>\n",
       "      <td>0.17364</td>\n",
       "      <td>0.240288</td>\n",
       "      <td>0.294364</td>\n",
       "      <td>0.226905</td>\n",
       "      <td>...</td>\n",
       "      <td>0.246397</td>\n",
       "      <td>0.304951</td>\n",
       "      <td>0.188979</td>\n",
       "      <td>0.201515</td>\n",
       "      <td>0.214049</td>\n",
       "      <td>0.195579</td>\n",
       "      <td>0.194259</td>\n",
       "      <td>0.185985</td>\n",
       "      <td>0.226806</td>\n",
       "      <td>0.158702</td>\n",
       "    </tr>\n",
       "    <tr>\n",
       "      <th>4</th>\n",
       "      <td>0.0</td>\n",
       "      <td>0.0</td>\n",
       "      <td>NaN</td>\n",
       "      <td>0.0</td>\n",
       "      <td>0.1851</td>\n",
       "      <td>0.261796</td>\n",
       "      <td>0.17364</td>\n",
       "      <td>0.240288</td>\n",
       "      <td>0.294364</td>\n",
       "      <td>0.226905</td>\n",
       "      <td>...</td>\n",
       "      <td>0.246397</td>\n",
       "      <td>0.304951</td>\n",
       "      <td>0.188979</td>\n",
       "      <td>0.201515</td>\n",
       "      <td>0.214049</td>\n",
       "      <td>0.195579</td>\n",
       "      <td>0.194259</td>\n",
       "      <td>0.185985</td>\n",
       "      <td>0.226806</td>\n",
       "      <td>0.158702</td>\n",
       "    </tr>\n",
       "  </tbody>\n",
       "</table>\n",
       "<p>5 rows × 24 columns</p>\n",
       "</div>"
      ],
      "text/plain": [
       "   N_installed  N_installed_sum  P_av_total  P_av  sei_markup_0  sei_markup_1  \\\n",
       "0          0.0              0.0         0.0   0.0        0.1851      0.261796   \n",
       "1          0.0              0.0         NaN   0.0        0.1851      0.261796   \n",
       "2          0.0              0.0         NaN   0.0        0.1851      0.261796   \n",
       "3          0.0              0.0         NaN   0.0        0.1851      0.261796   \n",
       "4          0.0              0.0         NaN   0.0        0.1851      0.261796   \n",
       "\n",
       "   sei_markup_2  sei_markup_3  sei_markup_4  sei_markup_5      ...        \\\n",
       "0       0.17364      0.240288      0.294364      0.226905      ...         \n",
       "1       0.17364      0.240288      0.294364      0.226905      ...         \n",
       "2       0.17364      0.240288      0.294364      0.226905      ...         \n",
       "3       0.17364      0.240288      0.294364      0.226905      ...         \n",
       "4       0.17364      0.240288      0.294364      0.226905      ...         \n",
       "\n",
       "   sei_markup_10  sei_markup_11  sei_markup_12  sei_markup_13  sei_markup_14  \\\n",
       "0       0.246397       0.304951       0.188979       0.201515       0.214049   \n",
       "1       0.246397       0.304951       0.188979       0.201515       0.214049   \n",
       "2       0.246397       0.304951       0.188979       0.201515       0.214049   \n",
       "3       0.246397       0.304951       0.188979       0.201515       0.214049   \n",
       "4       0.246397       0.304951       0.188979       0.201515       0.214049   \n",
       "\n",
       "   sei_markup_15  sei_markup_16  sei_markup_17  sei_markup_18  sei_markup_19  \n",
       "0       0.195579       0.194259       0.185985       0.226806       0.158702  \n",
       "1       0.195579       0.194259       0.185985       0.226806       0.158702  \n",
       "2       0.195579       0.194259       0.185985       0.226806       0.158702  \n",
       "3       0.195579       0.194259       0.185985       0.226806       0.158702  \n",
       "4       0.195579       0.194259       0.185985       0.226806       0.158702  \n",
       "\n",
       "[5 rows x 24 columns]"
      ]
     },
     "execution_count": 12,
     "metadata": {},
     "output_type": "execute_result"
    }
   ],
   "source": [
    "dfs_w_std[0].head()"
   ]
  },
  {
   "cell_type": "code",
   "execution_count": 13,
   "metadata": {
    "collapsed": false
   },
   "outputs": [
    {
     "data": {
      "image/png": "[encoded data removed]",
      "text/plain": [
       "<matplotlib.figure.Figure at 0x1ed30d73dd8>"
      ]
     },
     "metadata": {},
     "output_type": "display_data"
    }
   ],
   "source": [
    "data_mode = 'bm_'\n",
    "test_mode = 'inst'\n",
    "column = ['N_installed_sum']\n",
    "colors_ = ['orange', 'olive', 'olive','olive', 'lightcyan'] \n",
    "colors_ = ['orange', 'red', 'yellow','green', 'lightcyan'] \n",
    "fig, axes_ = plt.subplots(nrows=1, ncols=1)\n",
    "fig.subplots_adjust(bottom=0.25)\n",
    "\n",
    "#if ncols = 1  - transform into list\n",
    "axes = [axes_]\n",
    "\n",
    "ind = np.arange(N_TICKS)    # the x locations for the groups\n",
    "width = 0.35       # the width of the bars: can also be len(x) sequence\n",
    "\n",
    "ind = dfs_w[0].index.values[N_TICKS_BURN:N_TICKS_BURN + N_TICKS_DISPLAY] + 1\n",
    "\n",
    "lines = []\n",
    "\n",
    "#markers = [\"o-\", \"^-\", \"^-\", \"^-\", \"*-\"]\n",
    "markers = [\"o-\", \"--\", \"--\", \"--\", \"*-\"]\n",
    "markerfacecolors = colors_\n",
    "colors_l = ['r', 'r', 'r']\n",
    "labels = ['eff ' + str(x) for x in np.linspace(1.0,1.2,N_TESTS,endpoint=True)]\n",
    "\n",
    "for i in range(N_TESTS) :\n",
    "    pi, = axes[0].plot(ind, dfs_w[i][column][N_TICKS_BURN:N_TICKS_BURN + N_TICKS_DISPLAY]/10000, markers[i], label=labels[i])\n",
    "    \n",
    "    axes[0].fill_between(ind, \n",
    "                  np.asarray((dfs_w[i][column][N_TICKS_BURN:N_TICKS_BURN + N_TICKS_DISPLAY]/10000\\\n",
    "                        -2*dfs_w_std[i][column][N_TICKS_BURN:N_TICKS_BURN + N_TICKS_DISPLAY]/10000).values).reshape(N_TICKS_DISPLAY,), \n",
    "                  np.asarray((dfs_w[i][column][N_TICKS_BURN:N_TICKS_BURN + N_TICKS_DISPLAY]/10000\\\n",
    "                        +2*dfs_w_std[i][column][N_TICKS_BURN:N_TICKS_BURN + N_TICKS_DISPLAY]/10000).values).reshape(N_TICKS_DISPLAY), \n",
    "                  color=markerfacecolors[i], \n",
    "                  alpha=0.2)\n",
    "    \n",
    "    pi.set_markerfacecolor(markerfacecolors[i])\n",
    "    pi.set_color(markerfacecolors[i])\n",
    "    pi.set_markeredgecolor(markerfacecolors[i])\n",
    "    pi.set_markersize(2)\n",
    "    lines.append(pi)\n",
    "    \n",
    "\n",
    "axes[0].set_xlabel(\"Time\")\n",
    "axes[0].xaxis.set_label_coords(0.05, -0.1)\n",
    "axes[0].set_ylabel(\"New installs as a % of population\")\n",
    "    \n",
    "# Shrink current axis's height by 10% on the bottom\n",
    "box = axes[0].get_position()\n",
    "axes[0].set_position([box.x0, box.y0 + box.height * 0.2,\n",
    "                 box.width, box.height * 0.8])\n",
    "\n",
    "# Put a legend below current axis\n",
    "lgd = axes[0].legend(lines, [l.get_label() for l in lines], loc='lower center', bbox_to_anchor=(0.5, -0.25),\\\n",
    "          fancybox=True, shadow=True, fontsize='10', ncol = 3)\n",
    "\n",
    "axes[0].set_xlim([N_TICKS_BURN + 1,N_TICKS_BURN + N_TICKS_DISPLAY])\n",
    "axes[0].set_ylim([0.00, 0.085])\n",
    "start = N_TICKS_BURN + 1\n",
    "end = N_TICKS_BURN + N_TICKS_DISPLAY\n",
    "axes[0].xaxis.set_ticks(np.arange(start, end, 25))\n",
    "\n",
    "\n",
    "plt.tight_layout()\n",
    "plt.savefig('Simulation_results_' + data_mode + test_mode + '_Mar14' + '.png', dpi=300, bbox_extra_artists=(lgd,), bbox_inches='tight')\n",
    "plt.show()"
   ]
  },
  {
   "cell_type": "code",
   "execution_count": 99,
   "metadata": {
    "collapsed": false
   },
   "outputs": [
    {
     "data": {
      "image/png": "[encoded data removed]",
      "text/plain": [
       "<matplotlib.figure.Figure at 0x25880477668>"
      ]
     },
     "metadata": {},
     "output_type": "display_data"
    }
   ],
   "source": [
    "fig, axes_ = plt.subplots(nrows=1, ncols=1)\n",
    "fig.subplots_adjust(bottom=0.25)\n",
    "\n",
    "axes = [axes_]\n",
    "\n",
    "#axes[0].fill_between(np.arange(0,10,1).reshape(10,), \n",
    "#                  np.asarray(dfs_w[0][column][N_TICKS_BURN:N_TICKS_BURN + N_TICKS_DISPLAY][0:10].values).reshape(10,),\n",
    "#                    np.asarray(dfs_w[0][column][N_TICKS_BURN:N_TICKS_BURN + N_TICKS_DISPLAY][0:10].values).reshape(10,))\n",
    "\n",
    "\n",
    "axes[0].fill_between(ind, \n",
    "                  np.asarray((dfs_w[i][column][N_TICKS_BURN:N_TICKS_BURN + N_TICKS_DISPLAY]/10000\\\n",
    "                        -2*dfs_w_std[i][column][N_TICKS_BURN:N_TICKS_BURN + N_TICKS_DISPLAY]/10000).values).reshape(208,), \n",
    "                  np.asarray((dfs_w[i][column][N_TICKS_BURN:N_TICKS_BURN + N_TICKS_DISPLAY]/10000\\\n",
    "                        +2*dfs_w_std[i][column][N_TICKS_BURN:N_TICKS_BURN + N_TICKS_DISPLAY]/10000).values).reshape(208,), \n",
    "                  color='r', \n",
    "                  alpha=0.2)\n",
    "\n",
    "plt.show()"
   ]
  },
  {
   "cell_type": "code",
   "execution_count": 26,
   "metadata": {
    "collapsed": false
   },
   "outputs": [
    {
     "data": {
      "image/png": "[encoded data removed]",
      "text/plain": [
       "<matplotlib.figure.Figure at 0x1ed34231b38>"
      ]
     },
     "metadata": {},
     "output_type": "display_data"
    }
   ],
   "source": [
    "#number of dropouts as stacked bars\n",
    "data_mode = 'bm_'\n",
    "test_mode = 'drops'\n",
    "fig, axes_ = plt.subplots(nrows=1, ncols=1)\n",
    "fig.subplots_adjust(bottom=0.25)\n",
    "\n",
    "#reverse order of simulations\n",
    "#df_logs = dfs_logs[-1]\n",
    "\n",
    "#if ncols = 1  - transform into list\n",
    "axes = [axes_]\n",
    "\n",
    "#baseline\n",
    "df_logs = dfs_logs[0]\n",
    "\n",
    "#axes_0_tw = axes[0].twinx()\n",
    "\n",
    "ind = np.arange(N_TICKS)    # the x locations for the groups\n",
    "width = 0.35       # the width of the bars: can also be len(x) sequence\n",
    "\n",
    "ind = df_logs.index.values[N_TICKS_BURN:N_TICKS_BURN + N_TICKS_DISPLAY] + 1\n",
    "\n",
    "lines = []\n",
    "i = 0\n",
    "\n",
    "markers = [\"ro\", \"r^\", \"r*\"]\n",
    "markerfacecolors = colors_\n",
    "colors_l = ['r', 'r', 'r']\n",
    "labels_raw = [\"nc\", \"inst\", \"sys\"]\n",
    "labels = ['baseline ' + x for x in labels_raw]\n",
    "data_ = []\n",
    "markers_ = []\n",
    "labels_ = []\n",
    "colors_graph_ = []\n",
    "data_columns = ['EParamTypes::HOStateDroppedOutNCDecStage',\\\n",
    "                   'EParamTypes::HOStateDroppedOutSEIStage',\\\n",
    "                   'EParamTypes::HOStateDroppedOutDesignStage',\\\n",
    "                   'EParamTypes::HONumberActiveAgents']\n",
    "\n",
    "for column in data_columns[0:3]:\n",
    "    data_.append(df_logs[column][N_TICKS_BURN:N_TICKS_BURN + N_TICKS_DISPLAY]/10000)\n",
    "    markers_.append(markers[i])\n",
    "    labels_.append(labels[i])\n",
    "    colors_graph_.append(colors_[i])\n",
    "\n",
    "    i = i + 1\n",
    "    \n",
    "pi = axes[0].stackplot(ind, data_, colors=tuple(['whitesmoke', 'yellowgreen', 'coral']), labels=tuple(labels_))\n",
    "    \n",
    "\n",
    "\n",
    "for pi_ in pi:\n",
    "    lines.append(pi_)\n",
    "\n",
    "    \n",
    "markers = [\"go\", \"g^\", \"g*\"]\n",
    "colors_l = ['g', 'g', 'g']\n",
    "labels = ['high ef ' + x for x in labels_raw]\n",
    "\n",
    "   \n",
    "\n",
    "axes[0].set_xlabel(\"Time\")\n",
    "axes[0].set_ylabel(\"Dropouts as a share of population\")\n",
    "\n",
    "\n",
    "#axes[0].set_autoscaley_on(False)\n",
    "axes[0].set_xlim([N_TICKS_BURN + 1, N_TICKS_BURN + N_TICKS_DISPLAY])\n",
    "#axes_0_tw.set_ylim([0.0, 5.0])\n",
    "start = N_TICKS_BURN + 1\n",
    "end = N_TICKS_BURN + N_TICKS_DISPLAY\n",
    "axes[0].xaxis.set_ticks(np.arange(start, end, 25))\n",
    "\n",
    "\n",
    "\n",
    "\n",
    "# Shrink current axis's height by 10% on the bottom\n",
    "box = axes[0].get_position()\n",
    "axes[0].set_position([box.x0, box.y0 + box.height * 0.2,\n",
    "                 box.width, box.height * 0.8])\n",
    "\n",
    "# Put a legend below current axis\n",
    "lgd = axes[0].legend(lines, [l.get_label() for l in lines], loc='upper center', bbox_to_anchor=(0.5, -0.15),\\\n",
    "          fancybox=True, shadow=True, fontsize='10', ncol = 2)\n",
    "\n",
    "\n",
    "\n",
    "\n",
    "plt.tight_layout()\n",
    "plt.savefig('Simulation_results_' + data_mode + test_mode + '_Mar14' + '.png', dpi=300, bbox_extra_artists=(lgd,), bbox_inches='tight')\n",
    "plt.show()"
   ]
  },
  {
   "cell_type": "code",
   "execution_count": 18,
   "metadata": {
    "collapsed": false
   },
   "outputs": [
    {
     "data": {
      "image/png": "[encoded data removed]",
      "text/plain": [
       "<matplotlib.figure.Figure at 0x258ffc3ce48>"
      ]
     },
     "metadata": {},
     "output_type": "display_data"
    }
   ],
   "source": [
    "data_mode = 'bm_'\n",
    "test_mode = 'active'\n",
    "\n",
    "#do active agents figure\n",
    "fig, axes_ = plt.subplots(nrows=1, ncols=1)\n",
    "fig.subplots_adjust(bottom=0.25)\n",
    "\n",
    "#reverse order of simulations\n",
    "#df_logs = dfs_logs[-1]\n",
    "\n",
    "#baseline\n",
    "df_logs = dfs_logs[0]\n",
    "\n",
    "\n",
    "#if ncols = 1  - transform into list\n",
    "axes = [axes_]\n",
    "\n",
    "#axes_0_tw = axes[0].twinx()\n",
    "\n",
    "ind = np.arange(N_TICKS)    # the x locations for the groups\n",
    "width = 0.35       # the width of the bars: can also be len(x) sequence\n",
    "\n",
    "ind = df_logs.index.values[0:N_TICKS_DISPLAY] + 1\n",
    "\n",
    "lines = []\n",
    "i = 0\n",
    "\n",
    "column = 'EParamTypes::HONumberActiveAgents'\n",
    "pi = axes[0].plot(ind, df_logs[column][0:N_TICKS_DISPLAY]/5000, color = 'olive')\n",
    "\n",
    "axes[0].set_xlabel(\"Time\")\n",
    "axes[0].set_ylabel(\"Active agents as a share of population\")\n",
    "\n",
    "\n",
    "#axes[0].set_autoscaley_on(False)\n",
    "axes[0].set_xlim([1,N_TICKS_DISPLAY])\n",
    "#axes_0_tw.set_ylim([0.0, 5.0])\n",
    "start = 1\n",
    "end = N_TICKS_DISPLAY\n",
    "axes[0].xaxis.set_ticks(np.arange(start, end, 25))\n",
    "\n",
    "\n",
    "\n",
    "plt.tight_layout()\n",
    "plt.savefig('Simulation_results_' + data_mode + test_mode + '_MAr14' + '.png', dpi=300, bbox_extra_artists=(lgd,), bbox_inches='tight')\n",
    "plt.show()"
   ]
  },
  {
   "cell_type": "code",
   "execution_count": null,
   "metadata": {
    "collapsed": true
   },
   "outputs": [],
   "source": [
    "#penetration by income group in time?\n",
    "#penetration by el bill in time? \n",
    "\n"
   ]
  },
  {
   "cell_type": "code",
   "execution_count": 15,
   "metadata": {
    "collapsed": false
   },
   "outputs": [
    {
     "name": "stdout",
     "output_type": "stream",
     "text": [
      "..\\..\\ABMIRISLab\\Saves\\Jan-11-2018\\BaseModel\\BaseVer02\\CA\\1.0\\1cf398ca-b66e-4329-a05a-4e89c685df5d_pr.csv\n",
      "..\\..\\ABMIRISLab\\Saves\\Jan-11-2018\\BaseModel\\BaseVer02\\CA\\1.0\\1cb8c983-c20f-4b71-90b6-b4bdbe40de00_pr.csv\n",
      "..\\..\\ABMIRISLab\\Saves\\Jan-11-2018\\BaseModel\\BaseVer02\\CA\\1.0\\079d47b3-55f9-47dc-8e81-ad7d70d77c14_pr.csv\n",
      "..\\..\\ABMIRISLab\\Saves\\Jan-11-2018\\BaseModel\\BaseVer02\\CA\\1.0\\60eec37d-b222-4eb1-8d64-e1bb5d1bb355_pr.csv\n",
      "..\\..\\ABMIRISLab\\Saves\\Jan-11-2018\\BaseModel\\BaseVer02\\CA\\1.0\\681a3dae-cc2e-4019-982f-2196e3ce769d_pr.csv\n",
      "..\\..\\ABMIRISLab\\Saves\\Jan-11-2018\\BaseModel\\BaseVer02\\CA\\1.0\\c15a8636-64ab-4e58-a772-0b582fefc0ce_pr.csv\n",
      "..\\..\\ABMIRISLab\\Saves\\Jan-11-2018\\BaseModel\\BaseVer02\\CA\\1.0\\89ef1568-dcbc-46e4-a1f0-3fb0b2b78ded_pr.csv\n",
      "..\\..\\ABMIRISLab\\Saves\\Jan-11-2018\\BaseModel\\BaseVer02\\CA\\1.0\\8f4df266-dfa7-4aff-b8d3-175e76cfbee0_pr.csv\n"
     ]
    }
   ],
   "source": [
    "#location x, location y \n",
    "\n",
    "\n",
    "# for each line - place into location\n",
    "# average over locations\n",
    "#\n",
    "#\n",
    "\n",
    "N_TILES = 10\n",
    "N_SEEDS = 8\n",
    "\n",
    "test_mode = 'BaseVer02'\n",
    "data_mode = 'CA'\n",
    "\n",
    "#names of columns in a file\n",
    "names = ['Tick', 'Location_x', 'Location_y', 'Uid', 'Price_per_watt', 'DC_size', 'Mart_type']\n",
    "\n",
    "raw_data_per_tick = []\n",
    "raw_data_dfs_per_tick = []\n",
    "tick_bins = []\n",
    "for i in range(4):\n",
    "    #to store final results\n",
    "    raw_data_per_tick.append(np.zeros((N_TILES, N_TILES)))\n",
    "    #to store intermediate results\n",
    "    raw_data_dfs_per_tick.append(np.zeros((N_SEEDS, N_TILES, N_TILES)))\n",
    "    #tick edges\n",
    "    tick_bins.append(N_TICKS/4 *(i))\n",
    "\n",
    "\n",
    "#here only baseline scenario is analyzed    \n",
    "params_versions = [str(x) for x in np.linspace(1.0,1.1,N_TESTS,endpoint=False)]\n",
    "    \n",
    "#read few files\n",
    "#save into database\n",
    "dfs_ = []\n",
    "#read last simulation result\n",
    "files = glob.glob('..\\\\..\\\\ABMIRISLab\\\\Saves\\\\Jan-11-2018\\\\BaseModel\\\\'+ test_mode + '\\\\' + data_mode + \\\n",
    "                 '\\\\' + params_versions[0] + '\\\\*[_pr].csv')\n",
    "files.sort(key=os.path.getmtime, reverse=True)\n",
    "\n",
    "#take top x files, assume only one type of a simulation run in a folder \n",
    "i_run = 0\n",
    "\n",
    "for file in files[i_run * N_SEEDS : (i_run + 1) * N_SEEDS]:\n",
    "    print(file)\n",
    "    df_ = pd.read_csv(file, names=names, low_memory=False, na_values = ['-nan(ind)'])\n",
    "    dfs_.append(df_)\n",
    "\n",
    "    \n",
    "raw_data_dfs = np.zeros((len(dfs_), N_TILES, N_TILES))\n",
    "\n",
    "indexes = [0.0, 0.0, 0.0, 0.0]\n",
    "\n",
    "k = 0\n",
    "for df_ in dfs_:\n",
    "    \n",
    "    \n",
    "    \n",
    "    for i in range(N_TILES):\n",
    "        for j in range(N_TILES):\n",
    "            index = df_[(df_['Location_x'] == i) & \\\n",
    "                        (df_['Location_y'] == j)].index \n",
    "                             \n",
    "            indexes[0] = df_[(df_['Location_x'] == i) & \\\n",
    "                        (df_['Location_y'] == j) & \\\n",
    "                         (df_['Tick'] < tick_bins[0])].index\n",
    "            \n",
    "            indexes[1] = df_[(df_['Location_x'] == i) & \\\n",
    "                        (df_['Location_y'] == j) & \\\n",
    "                         (df_['Tick'] < tick_bins[1])].index\n",
    "            \n",
    "            indexes[2] = df_[(df_['Location_x'] == i) & \\\n",
    "                        (df_['Location_y'] == j) & \\\n",
    "                         (df_['Tick'] < tick_bins[2])].index\n",
    "                             \n",
    "            raw_data_dfs_per_tick[0][k, i, j] = df_.iloc[indexes[0]].shape[0]\n",
    "            raw_data_dfs_per_tick[1][k, i, j] = df_.iloc[indexes[1]].shape[0]\n",
    "            raw_data_dfs_per_tick[2][k, i, j] = df_.iloc[indexes[2]].shape[0]\n",
    "            raw_data_dfs_per_tick[-1][k, i, j] = df_.iloc[index].shape[0]\n",
    "            \n",
    "    k = k + 1\n",
    "    \n",
    "    raw_data_per_tick[0] = np.mean(raw_data_dfs_per_tick[0], axis = 0)\n",
    "    raw_data_per_tick[1] = np.mean(raw_data_dfs_per_tick[1], axis = 0)\n",
    "    raw_data_per_tick[2] = np.mean(raw_data_dfs_per_tick[2], axis = 0)\n",
    "    raw_data_per_tick[-1] = np.mean(raw_data_dfs_per_tick[-1], axis = 0)\n",
    "    \n",
    "    \n",
    "#create df from them    \n",
    "dfs_inst = dfs_\n",
    "\n",
    "#blank first step\n",
    "raw_data_per_tick[0] = np.zeros((N_TILES, N_TILES)) + 0.01"
   ]
  },
  {
   "cell_type": "code",
   "execution_count": 16,
   "metadata": {
    "collapsed": false
   },
   "outputs": [
    {
     "data": {
      "text/html": [
       "<div>\n",
       "<table border=\"1\" class=\"dataframe\">\n",
       "  <thead>\n",
       "    <tr style=\"text-align: right;\">\n",
       "      <th></th>\n",
       "      <th>Tick</th>\n",
       "      <th>Location_x</th>\n",
       "      <th>Location_y</th>\n",
       "      <th>Uid</th>\n",
       "      <th>Price_per_watt</th>\n",
       "      <th>DC_size</th>\n",
       "      <th>Mart_type</th>\n",
       "    </tr>\n",
       "  </thead>\n",
       "  <tbody>\n",
       "    <tr>\n",
       "      <th>0</th>\n",
       "      <td>160</td>\n",
       "      <td>0</td>\n",
       "      <td>2</td>\n",
       "      <td>55</td>\n",
       "      <td>2.42056</td>\n",
       "      <td>6251.51</td>\n",
       "      <td>0</td>\n",
       "    </tr>\n",
       "    <tr>\n",
       "      <th>1</th>\n",
       "      <td>162</td>\n",
       "      <td>1</td>\n",
       "      <td>3</td>\n",
       "      <td>55</td>\n",
       "      <td>2.42056</td>\n",
       "      <td>5001.21</td>\n",
       "      <td>0</td>\n",
       "    </tr>\n",
       "    <tr>\n",
       "      <th>2</th>\n",
       "      <td>158</td>\n",
       "      <td>3</td>\n",
       "      <td>0</td>\n",
       "      <td>59</td>\n",
       "      <td>2.41449</td>\n",
       "      <td>3750.91</td>\n",
       "      <td>0</td>\n",
       "    </tr>\n",
       "    <tr>\n",
       "      <th>3</th>\n",
       "      <td>160</td>\n",
       "      <td>7</td>\n",
       "      <td>2</td>\n",
       "      <td>42</td>\n",
       "      <td>2.30881</td>\n",
       "      <td>6092.80</td>\n",
       "      <td>0</td>\n",
       "    </tr>\n",
       "    <tr>\n",
       "      <th>4</th>\n",
       "      <td>160</td>\n",
       "      <td>0</td>\n",
       "      <td>3</td>\n",
       "      <td>55</td>\n",
       "      <td>2.42056</td>\n",
       "      <td>6751.63</td>\n",
       "      <td>0</td>\n",
       "    </tr>\n",
       "  </tbody>\n",
       "</table>\n",
       "</div>"
      ],
      "text/plain": [
       "   Tick  Location_x  Location_y  Uid  Price_per_watt  DC_size  Mart_type\n",
       "0   160           0           2   55         2.42056  6251.51          0\n",
       "1   162           1           3   55         2.42056  5001.21          0\n",
       "2   158           3           0   59         2.41449  3750.91          0\n",
       "3   160           7           2   42         2.30881  6092.80          0\n",
       "4   160           0           3   55         2.42056  6751.63          0"
      ]
     },
     "execution_count": 16,
     "metadata": {},
     "output_type": "execute_result"
    }
   ],
   "source": [
    "dfs_inst[4].head(5)"
   ]
  },
  {
   "cell_type": "code",
   "execution_count": 17,
   "metadata": {
    "collapsed": false
   },
   "outputs": [],
   "source": [
    "#define min and max installs\n",
    "max_installs = np.amax(raw_data_per_tick[3])\n",
    "min_installs = 0 "
   ]
  },
  {
   "cell_type": "code",
   "execution_count": 18,
   "metadata": {
    "collapsed": true
   },
   "outputs": [],
   "source": [
    "def truncate_colormap(cmap, minval=0.0, maxval=1.0, n=100):\n",
    "    new_cmap = colors.LinearSegmentedColormap.from_list(\n",
    "        'trunc({n},{a:.2f},{b:.2f})'.format(n=cmap.name, a=minval, b=maxval),\n",
    "        cmap(np.linspace(minval, maxval, n)))\n",
    "    return new_cmap"
   ]
  },
  {
   "cell_type": "code",
   "execution_count": 19,
   "metadata": {
    "collapsed": false
   },
   "outputs": [],
   "source": [
    "cmap = cm.get_cmap('Greys')\n",
    "new_cmap = truncate_colormap(cmap, 0.2, 0.8)"
   ]
  },
  {
   "cell_type": "code",
   "execution_count": 20,
   "metadata": {
    "collapsed": false
   },
   "outputs": [],
   "source": [
    "raw_data_per_tick_norm = [0.0, 0.0, 0.0, 0.0]\n",
    "for i in range(4):\n",
    "    raw_data_per_tick_norm[i] = raw_data_per_tick[i] / max_installs"
   ]
  },
  {
   "cell_type": "code",
   "execution_count": 20,
   "metadata": {
    "collapsed": false
   },
   "outputs": [
    {
     "name": "stderr",
     "output_type": "stream",
     "text": [
      "C:\\Users\\wilfeli\\Anaconda3\\envs\\aimacro\\lib\\site-packages\\ipykernel\\__main__.py:13: VisibleDeprecationWarning: using a non-integer number instead of an integer will result in an error in the future\n",
      "C:\\Users\\wilfeli\\Anaconda3\\envs\\aimacro\\lib\\site-packages\\ipykernel\\__main__.py:18: VisibleDeprecationWarning: using a non-integer number instead of an integer will result in an error in the future\n",
      "C:\\Users\\wilfeli\\Anaconda3\\envs\\aimacro\\lib\\site-packages\\ipykernel\\__main__.py:19: VisibleDeprecationWarning: using a non-integer number instead of an integer will result in an error in the future\n",
      "C:\\Users\\wilfeli\\Anaconda3\\envs\\aimacro\\lib\\site-packages\\ipykernel\\__main__.py:21: VisibleDeprecationWarning: using a non-integer number instead of an integer will result in an error in the future\n",
      "C:\\Users\\wilfeli\\Anaconda3\\envs\\aimacro\\lib\\site-packages\\ipykernel\\__main__.py:22: VisibleDeprecationWarning: using a non-integer number instead of an integer will result in an error in the future\n",
      "C:\\Users\\wilfeli\\Anaconda3\\envs\\aimacro\\lib\\site-packages\\ipykernel\\__main__.py:24: VisibleDeprecationWarning: using a non-integer number instead of an integer will result in an error in the future\n",
      "C:\\Users\\wilfeli\\Anaconda3\\envs\\aimacro\\lib\\site-packages\\ipykernel\\__main__.py:25: VisibleDeprecationWarning: using a non-integer number instead of an integer will result in an error in the future\n",
      "C:\\Users\\wilfeli\\Anaconda3\\envs\\aimacro\\lib\\site-packages\\ipykernel\\__main__.py:27: VisibleDeprecationWarning: using a non-integer number instead of an integer will result in an error in the future\n",
      "C:\\Users\\wilfeli\\Anaconda3\\envs\\aimacro\\lib\\site-packages\\ipykernel\\__main__.py:31: VisibleDeprecationWarning: using a non-integer number instead of an integer will result in an error in the future\n",
      "C:\\Users\\wilfeli\\Anaconda3\\envs\\aimacro\\lib\\site-packages\\ipykernel\\__main__.py:45: VisibleDeprecationWarning: using a non-integer number instead of an integer will result in an error in the future\n",
      "C:\\Users\\wilfeli\\Anaconda3\\envs\\aimacro\\lib\\site-packages\\ipykernel\\__main__.py:46: VisibleDeprecationWarning: using a non-integer number instead of an integer will result in an error in the future\n",
      "C:\\Users\\wilfeli\\Anaconda3\\envs\\aimacro\\lib\\site-packages\\ipykernel\\__main__.py:48: VisibleDeprecationWarning: using a non-integer number instead of an integer will result in an error in the future\n"
     ]
    },
    {
     "data": {
      "image/png": "[encoded data removed]",
      "text/plain": [
       "<matplotlib.figure.Figure at 0x1d70abfe160>"
      ]
     },
     "metadata": {},
     "output_type": "display_data"
    }
   ],
   "source": [
    "fig, axes = plt.subplots(nrows=2, ncols=2)\n",
    "#fig.subplots_adjust(bottom=0.5)\n",
    "\n",
    "\n",
    "for i in range(4):\n",
    "    lines = []\n",
    "\n",
    "#    cmap_custom = cm.get_cmap('YlGn')\n",
    "    cmap_custom = cm.get_cmap('Greys')\n",
    "    #cmap_custom = new_cmap\n",
    "\n",
    "    #image = np.random.uniform(size=(10, 10))\n",
    "    axes[i/2, i%2].imshow(raw_data_per_tick[i], cmap=cmap_custom, interpolation='nearest', vmin=0, vmax=max_installs)\n",
    "\n",
    "    #ax.set_title('Number of installations \\n in a neighborhood')\n",
    "\n",
    "    # Move left and bottom spines outward by 10 points\n",
    "    axes[i/2, i%2].spines['left'].set_position(('outward', 10))\n",
    "    axes[i/2, i%2].spines['bottom'].set_position(('outward', 10))\n",
    "    # Hide the right and top spines\n",
    "    axes[i/2, i%2].spines['right'].set_visible(False)\n",
    "    axes[i/2, i%2].spines['top'].set_visible(False)\n",
    "    # Only show ticks on the left and bottom spines\n",
    "    axes[i/2, i%2].yaxis.set_ticks_position('left')\n",
    "    axes[i/2, i%2].xaxis.set_ticks_position('bottom')\n",
    "    \n",
    "    for tick in axes[i/2, i%2].get_xticklabels():\n",
    "        tick.set_rotation(90)\n",
    "        tick.set_fontsize('x-small')\n",
    "        \n",
    "    for tick in axes[i/2, i%2].get_yticklabels():\n",
    "        tick.set_fontsize('x-small')\n",
    "\n",
    "    labels_ = ['mi']\n",
    "    xs = range(10)\n",
    "\n",
    "    from matplotlib.ticker import FuncFormatter, MaxNLocator\n",
    "    def format_fn(tick_val, tick_pos):\n",
    "        if int(tick_val) in xs:\n",
    "            return str(tick_val * 1.5) + ' ' + labels_[0]\n",
    "        else:\n",
    "            return ''\n",
    "\n",
    "\n",
    "    axes[i/2, i%2].xaxis.set_major_formatter(FuncFormatter(format_fn))\n",
    "    axes[i/2, i%2].yaxis.set_major_formatter(FuncFormatter(format_fn))\n",
    "\n",
    "    axes[i/2, i%2].grid(False)\n",
    "\n",
    "\n",
    "\n",
    "\n",
    "#    handles, labels = ax.get_legend_handles_labels()\n",
    "\n",
    "    # Put a legend below current axis\n",
    "    #lgd = ax.legend(handles, ['test'], loc='lower center', bbox_to_anchor=(0.5, -0.25),\\\n",
    "    #          fancybox=True, shadow=True, fontsize='10', ncol = 2)\n",
    "\n",
    "    \n",
    "#add comment to the first plot\n",
    "font = {'family': 'serif',\n",
    "        'color':  'darkolivegreen',\n",
    "        'weight': 'normal',\n",
    "        'size': 10,\n",
    "        }\n",
    "axes[0,0].text(0.0, 5.0, 'uniform zero', fontdict=font)\n",
    "    \n",
    "\n",
    "plt.tight_layout()\n",
    "data_mode = 'test'\n",
    "plt.savefig('Simulation_results_spatial_' + data_mode + '_Mar14' + '.png', dpi=300)\n",
    "\n",
    "plt.show()"
   ]
  },
  {
   "cell_type": "code",
   "execution_count": 21,
   "metadata": {
    "collapsed": true
   },
   "outputs": [],
   "source": [
    "#redo bubbles figure"
   ]
  },
  {
   "cell_type": "code",
   "execution_count": 21,
   "metadata": {
    "collapsed": true
   },
   "outputs": [],
   "source": [
    "dfs_agg_inst = []\n",
    "for df_ in dfs_inst:\n",
    "\n",
    "    df_['Count'] = 1\n",
    "    grouped = df_.groupby('Uid', sort=False)\n",
    "    df_agg = grouped.agg({'Price_per_watt' : np.median,\\\n",
    "             'DC_size' : np.median, \\\n",
    "            'Count' : np.sum})\n",
    "    dfs_agg_inst.append(df_agg)\n",
    "    \n",
    "df_inst_all = pd.concat(dfs_agg_inst)\n",
    "df_inst_mean = df_agg.groupby(level=0).mean()"
   ]
  },
  {
   "cell_type": "code",
   "execution_count": 22,
   "metadata": {
    "collapsed": false
   },
   "outputs": [
    {
     "data": {
      "text/html": [
       "<div>\n",
       "<table border=\"1\" class=\"dataframe\">\n",
       "  <thead>\n",
       "    <tr style=\"text-align: right;\">\n",
       "      <th></th>\n",
       "      <th>Count</th>\n",
       "      <th>Price_per_watt</th>\n",
       "      <th>DC_size</th>\n",
       "    </tr>\n",
       "    <tr>\n",
       "      <th>Uid</th>\n",
       "      <th></th>\n",
       "      <th></th>\n",
       "      <th></th>\n",
       "    </tr>\n",
       "  </thead>\n",
       "  <tbody>\n",
       "    <tr>\n",
       "      <th>40</th>\n",
       "      <td>35</td>\n",
       "      <td>2.572890</td>\n",
       "      <td>3640.060</td>\n",
       "    </tr>\n",
       "    <tr>\n",
       "      <th>41</th>\n",
       "      <td>40</td>\n",
       "      <td>2.469470</td>\n",
       "      <td>4814.940</td>\n",
       "    </tr>\n",
       "    <tr>\n",
       "      <th>42</th>\n",
       "      <td>56</td>\n",
       "      <td>2.335480</td>\n",
       "      <td>4160.680</td>\n",
       "    </tr>\n",
       "    <tr>\n",
       "      <th>43</th>\n",
       "      <td>37</td>\n",
       "      <td>2.576590</td>\n",
       "      <td>3920.070</td>\n",
       "    </tr>\n",
       "    <tr>\n",
       "      <th>44</th>\n",
       "      <td>38</td>\n",
       "      <td>2.534380</td>\n",
       "      <td>4620.080</td>\n",
       "    </tr>\n",
       "    <tr>\n",
       "      <th>45</th>\n",
       "      <td>25</td>\n",
       "      <td>2.329320</td>\n",
       "      <td>4485.770</td>\n",
       "    </tr>\n",
       "    <tr>\n",
       "      <th>46</th>\n",
       "      <td>61</td>\n",
       "      <td>2.493710</td>\n",
       "      <td>5033.180</td>\n",
       "    </tr>\n",
       "    <tr>\n",
       "      <th>47</th>\n",
       "      <td>48</td>\n",
       "      <td>2.318990</td>\n",
       "      <td>5033.180</td>\n",
       "    </tr>\n",
       "    <tr>\n",
       "      <th>48</th>\n",
       "      <td>92</td>\n",
       "      <td>2.490420</td>\n",
       "      <td>4150.695</td>\n",
       "    </tr>\n",
       "    <tr>\n",
       "      <th>49</th>\n",
       "      <td>48</td>\n",
       "      <td>2.363930</td>\n",
       "      <td>4752.560</td>\n",
       "    </tr>\n",
       "    <tr>\n",
       "      <th>50</th>\n",
       "      <td>44</td>\n",
       "      <td>2.444550</td>\n",
       "      <td>5040.090</td>\n",
       "    </tr>\n",
       "    <tr>\n",
       "      <th>51</th>\n",
       "      <td>45</td>\n",
       "      <td>2.370970</td>\n",
       "      <td>3910.440</td>\n",
       "    </tr>\n",
       "    <tr>\n",
       "      <th>52</th>\n",
       "      <td>47</td>\n",
       "      <td>2.428820</td>\n",
       "      <td>4680.340</td>\n",
       "    </tr>\n",
       "    <tr>\n",
       "      <th>53</th>\n",
       "      <td>17</td>\n",
       "      <td>2.324690</td>\n",
       "      <td>4485.770</td>\n",
       "    </tr>\n",
       "    <tr>\n",
       "      <th>54</th>\n",
       "      <td>27</td>\n",
       "      <td>2.366560</td>\n",
       "      <td>5298.090</td>\n",
       "    </tr>\n",
       "    <tr>\n",
       "      <th>55</th>\n",
       "      <td>57</td>\n",
       "      <td>2.447010</td>\n",
       "      <td>3640.060</td>\n",
       "    </tr>\n",
       "    <tr>\n",
       "      <th>56</th>\n",
       "      <td>42</td>\n",
       "      <td>2.489490</td>\n",
       "      <td>5693.475</td>\n",
       "    </tr>\n",
       "    <tr>\n",
       "      <th>57</th>\n",
       "      <td>4</td>\n",
       "      <td>2.323945</td>\n",
       "      <td>5750.655</td>\n",
       "    </tr>\n",
       "    <tr>\n",
       "      <th>58</th>\n",
       "      <td>13</td>\n",
       "      <td>2.356930</td>\n",
       "      <td>4830.830</td>\n",
       "    </tr>\n",
       "    <tr>\n",
       "      <th>59</th>\n",
       "      <td>33</td>\n",
       "      <td>2.349910</td>\n",
       "      <td>4238.470</td>\n",
       "    </tr>\n",
       "  </tbody>\n",
       "</table>\n",
       "</div>"
      ],
      "text/plain": [
       "     Count  Price_per_watt   DC_size\n",
       "Uid                                 \n",
       "40      35        2.572890  3640.060\n",
       "41      40        2.469470  4814.940\n",
       "42      56        2.335480  4160.680\n",
       "43      37        2.576590  3920.070\n",
       "44      38        2.534380  4620.080\n",
       "45      25        2.329320  4485.770\n",
       "46      61        2.493710  5033.180\n",
       "47      48        2.318990  5033.180\n",
       "48      92        2.490420  4150.695\n",
       "49      48        2.363930  4752.560\n",
       "50      44        2.444550  5040.090\n",
       "51      45        2.370970  3910.440\n",
       "52      47        2.428820  4680.340\n",
       "53      17        2.324690  4485.770\n",
       "54      27        2.366560  5298.090\n",
       "55      57        2.447010  3640.060\n",
       "56      42        2.489490  5693.475\n",
       "57       4        2.323945  5750.655\n",
       "58      13        2.356930  4830.830\n",
       "59      33        2.349910  4238.470"
      ]
     },
     "execution_count": 22,
     "metadata": {},
     "output_type": "execute_result"
    }
   ],
   "source": [
    "df_inst_mean.head(20)"
   ]
  },
  {
   "cell_type": "code",
   "execution_count": 23,
   "metadata": {
    "collapsed": false
   },
   "outputs": [],
   "source": [
    "#sort by count?\n",
    "df_inst_mean = df_inst_mean.sort_values('Count', ascending=False)"
   ]
  },
  {
   "cell_type": "code",
   "execution_count": 24,
   "metadata": {
    "collapsed": false
   },
   "outputs": [
    {
     "data": {
      "image/png": "[encoded data removed]",
      "text/plain": [
       "<matplotlib.figure.Figure at 0x1ed338cfcf8>"
      ]
     },
     "metadata": {},
     "output_type": "display_data"
    }
   ],
   "source": [
    "N = 19\n",
    "\n",
    "\n",
    "\n",
    "\n",
    "\n",
    "x = df_inst_mean['DC_size']/1000\n",
    "y = df_inst_mean['Price_per_watt']\n",
    "norm = matplotlib.colors.Normalize(vmin=df_inst_mean['Count'].values[N-1], vmax=df_inst_mean['Count'].values[0])\n",
    "cmap_custom = cm.get_cmap('Spectral')\n",
    "area = norm(df_inst_mean['Count'])\n",
    "color = []\n",
    "\n",
    "for area_x in area:\n",
    "#    color.append(cmap_custom(area_x/2))\n",
    "    color.append('olive')\n",
    "    \n",
    "\n",
    "    \n",
    "#color[1] = (0.0, 0.65, 0.75, 1.0)\n",
    "    \n",
    "fig = plt.figure()\n",
    "ax = fig.add_subplot(1,1,1)\n",
    "ax.set_xlabel('DC size')\n",
    "ax.set_ylabel('Price Per Watt')\n",
    "\n",
    "#ax.set_autoscaley_on(False)\n",
    "#ax.set_xlim([0,0.2])\n",
    "#ax.set_ylim([0,5])\n",
    "    \n",
    "#plt.xlabel('Price Per Watt')\n",
    "#plt.ylabel('System Size AC')\n",
    "#plt.title('Number of Installations Per Company')\n",
    "\n",
    "ax.scatter(x, y, s=df_inst_mean['Count'] * 10,  c = color )\n",
    "handles, labels = ax.get_legend_handles_labels()\n",
    "\n",
    "\n",
    "#names are here\n",
    "#df_agg.index.values[0:3]\n",
    "\n",
    "#colors are here\n",
    "#color[0:3]\n",
    "\n",
    "artists = []\n",
    "labels = []\n",
    "\n",
    "#create custom artists\n",
    "#for i in range(3):\n",
    "#    artists.append(mpatches.Circle((0, 0), 1.0, facecolor=color[i]))\n",
    "#    labels.append(df_agg_dm1.index.values[i])\n",
    "\n",
    "artists.append(mpatches.Circle((0, 0), 1.0, facecolor=color[-1], label='min'))\n",
    "labels.append('min N installs')\n",
    "artists.append(mpatches.Circle((0, 0), 1.0, facecolor=color[0], label='max'))\n",
    "labels.append('max N installs')\n",
    "    \n",
    "\n",
    "class HandlerEllipse(HandlerPatch):\n",
    "    def create_artists(self, legend, orig_handle,\n",
    "                       xdescent, ydescent, width, height, fontsize, trans):\n",
    "        center = 0.5 * width - 0.5 * xdescent, 0.5 * height - 0.5 * ydescent\n",
    "#        print(orig_handle.__dict__)\n",
    "        radius_ = width/10\n",
    "        if ('max' in orig_handle._label):\n",
    "            radius_ = width/5\n",
    "    \n",
    "        p = mpatches.Circle(xy=center, radius=radius_)\n",
    "        self.update_prop(p, orig_handle, legend)\n",
    "        p.set_transform(trans)\n",
    "        return [p]\n",
    "    \n",
    "\n",
    "#Create legend from custom artist/label lists\n",
    "ax.legend(artists,\n",
    "          labels,\n",
    "         handler_map={mpatches.Circle: HandlerEllipse()}, bbox_to_anchor=(0.9, 0.9),\n",
    "           bbox_transform=plt.gcf().transFigure, fontsize=5\n",
    "         )\n",
    "\n",
    "\n",
    "\n",
    "#plt.scatter(x, y, s=df_agg_top['Count'],  c = color )\n",
    "data_mode = 'test'\n",
    "plt.savefig('Simulation_results_installers_' + data_mode + '_Mar14' + '.png', dpi=300)\n",
    "plt.show()"
   ]
  },
  {
   "cell_type": "markdown",
   "metadata": {},
   "source": [
    "# Testing random code"
   ]
  },
  {
   "cell_type": "code",
   "execution_count": null,
   "metadata": {
    "collapsed": true
   },
   "outputs": [],
   "source": []
  },
  {
   "cell_type": "code",
   "execution_count": null,
   "metadata": {
    "collapsed": false
   },
   "outputs": [],
   "source": [
    "#how to see what is inside an object\n",
    "print(mpatches.Circle((0, 0), 5.0, facecolor=color[0]).__dict__)"
   ]
  },
  {
   "cell_type": "code",
   "execution_count": 38,
   "metadata": {
    "collapsed": false
   },
   "outputs": [],
   "source": [
    "#sticky prices\n",
    "y_start = 0.2\n",
    "y_target = 0.5\n",
    "theta_learn = 0.99\n",
    "y_prog_ = [y_start]\n",
    "x_tick_ = []\n",
    "for i in range(200):\n",
    "    y_prog_.append(y_prog_[-1] * theta_learn + y_target * (1 - theta_learn))\n",
    "    x_tick_.append(i)"
   ]
  },
  {
   "cell_type": "code",
   "execution_count": 58,
   "metadata": {
    "collapsed": false
   },
   "outputs": [
    {
     "data": {
      "text/plain": [
       "[<matplotlib.lines.Line2D at 0x2e2bd809128>]"
      ]
     },
     "execution_count": 58,
     "metadata": {},
     "output_type": "execute_result"
    },
    {
     "data": {
      "image/png": "[encoded data removed]",
      "text/plain": [
       "<matplotlib.figure.Figure at 0x2e2b9ec7e48>"
      ]
     },
     "metadata": {},
     "output_type": "display_data"
    }
   ],
   "source": [
    "plt.plot(x_tick_, y_prog_[1:])"
   ]
  },
  {
   "cell_type": "code",
   "execution_count": 35,
   "metadata": {
    "collapsed": false
   },
   "outputs": [],
   "source": [
    "prices  = dfs_w[0]['P_av']"
   ]
  },
  {
   "cell_type": "code",
   "execution_count": 39,
   "metadata": {
    "collapsed": false
   },
   "outputs": [
    {
     "data": {
      "text/plain": [
       "[<matplotlib.lines.Line2D at 0x298266e59e8>]"
      ]
     },
     "execution_count": 39,
     "metadata": {},
     "output_type": "execute_result"
    },
    {
     "data": {
      "image/png": "[encoded data removed]",
      "text/plain": [
       "<matplotlib.figure.Figure at 0x2982ac37588>"
      ]
     },
     "metadata": {},
     "output_type": "display_data"
    }
   ],
   "source": [
    "plt.plot(x_tick_, prices[0:200])"
   ]
  },
  {
   "cell_type": "code",
   "execution_count": 45,
   "metadata": {
    "collapsed": false
   },
   "outputs": [
    {
     "data": {
      "text/html": [
       "<div>\n",
       "<table border=\"1\" class=\"dataframe\">\n",
       "  <thead>\n",
       "    <tr style=\"text-align: right;\">\n",
       "      <th></th>\n",
       "      <th>Tick</th>\n",
       "      <th>Location_x</th>\n",
       "      <th>Location_y</th>\n",
       "      <th>Uid</th>\n",
       "      <th>Price_per_watt</th>\n",
       "      <th>DC_size</th>\n",
       "    </tr>\n",
       "  </thead>\n",
       "  <tbody>\n",
       "    <tr>\n",
       "      <th>0</th>\n",
       "      <td>29</td>\n",
       "      <td>9</td>\n",
       "      <td>8</td>\n",
       "      <td>48</td>\n",
       "      <td>4.34654</td>\n",
       "      <td>5199.74</td>\n",
       "    </tr>\n",
       "    <tr>\n",
       "      <th>1</th>\n",
       "      <td>43</td>\n",
       "      <td>4</td>\n",
       "      <td>6</td>\n",
       "      <td>48</td>\n",
       "      <td>5.33618</td>\n",
       "      <td>4501.09</td>\n",
       "    </tr>\n",
       "    <tr>\n",
       "      <th>2</th>\n",
       "      <td>37</td>\n",
       "      <td>4</td>\n",
       "      <td>4</td>\n",
       "      <td>46</td>\n",
       "      <td>3.47883</td>\n",
       "      <td>9002.18</td>\n",
       "    </tr>\n",
       "    <tr>\n",
       "      <th>3</th>\n",
       "      <td>65</td>\n",
       "      <td>7</td>\n",
       "      <td>3</td>\n",
       "      <td>48</td>\n",
       "      <td>4.61828</td>\n",
       "      <td>5251.27</td>\n",
       "    </tr>\n",
       "    <tr>\n",
       "      <th>4</th>\n",
       "      <td>147</td>\n",
       "      <td>1</td>\n",
       "      <td>3</td>\n",
       "      <td>40</td>\n",
       "      <td>5.29697</td>\n",
       "      <td>4140.71</td>\n",
       "    </tr>\n",
       "  </tbody>\n",
       "</table>\n",
       "</div>"
      ],
      "text/plain": [
       "   Tick  Location_x  Location_y  Uid  Price_per_watt  DC_size\n",
       "0    29           9           8   48         4.34654  5199.74\n",
       "1    43           4           6   48         5.33618  4501.09\n",
       "2    37           4           4   46         3.47883  9002.18\n",
       "3    65           7           3   48         4.61828  5251.27\n",
       "4   147           1           3   40         5.29697  4140.71"
      ]
     },
     "execution_count": 45,
     "metadata": {},
     "output_type": "execute_result"
    }
   ],
   "source": [
    "dfs_inst[0].head()"
   ]
  },
  {
   "cell_type": "code",
   "execution_count": 66,
   "metadata": {
    "collapsed": false
   },
   "outputs": [
    {
     "data": {
      "text/plain": [
       "[<matplotlib.lines.Line2D at 0x1f73f08a710>]"
      ]
     },
     "execution_count": 66,
     "metadata": {},
     "output_type": "execute_result"
    },
    {
     "data": {
      "image/png": "[encoded data removed]",
      "text/plain": [
       "<matplotlib.figure.Figure at 0x1f73ee32550>"
      ]
     },
     "metadata": {},
     "output_type": "display_data"
    }
   ],
   "source": [
    "plt.plot(dfs_inst[0]['Tick'], dfs_inst[0]['Price_per_watt'])"
   ]
  },
  {
   "cell_type": "code",
   "execution_count": 20,
   "metadata": {
    "collapsed": true
   },
   "outputs": [],
   "source": [
    "test_mode = 'BaseModel'\n",
    "test_version = 'BaseVer01'\n",
    "test_loc = 'CA'\n",
    "data_mode = 'Logs'\n",
    "version = '_eff'\n",
    "params_versions = [str(x) for x in np.linspace(1.0,1.5,1,endpoint=False)]\n",
    "i_run = 0"
   ]
  },
  {
   "cell_type": "code",
   "execution_count": 33,
   "metadata": {
    "collapsed": false
   },
   "outputs": [],
   "source": [
    "files = glob.glob('..\\\\..\\\\ABMIRISLab\\\\Saves\\\\Oct-18-2017\\\\' + test_mode + '\\\\' + test_version + '\\\\'  +\\\n",
    "                          test_loc + '\\\\' + params_versions[i_run] + '\\\\' + data_mode +\\\n",
    "                         '\\\\*[_log].log')\n",
    "files.sort(key=os.path.getmtime, reverse=True)\n",
    "        #files_ = files[i_run * N_SEEDS : (i_run + 1) * N_SEEDS]    "
   ]
  },
  {
   "cell_type": "code",
   "execution_count": 34,
   "metadata": {
    "collapsed": false
   },
   "outputs": [
    {
     "data": {
      "text/plain": [
       "50"
      ]
     },
     "execution_count": 34,
     "metadata": {},
     "output_type": "execute_result"
    }
   ],
   "source": [
    "len(files)"
   ]
  },
  {
   "cell_type": "code",
   "execution_count": 6,
   "metadata": {
    "collapsed": false
   },
   "outputs": [],
   "source": [
    "df_test = pd.DataFrame([[0,1],[0.1, 0.15], [0.9, 0.85], [200, 205]]).T"
   ]
  },
  {
   "cell_type": "code",
   "execution_count": 7,
   "metadata": {
    "collapsed": false
   },
   "outputs": [
    {
     "data": {
      "text/html": [
       "<div>\n",
       "<table border=\"1\" class=\"dataframe\">\n",
       "  <thead>\n",
       "    <tr style=\"text-align: right;\">\n",
       "      <th></th>\n",
       "      <th>0</th>\n",
       "      <th>1</th>\n",
       "      <th>2</th>\n",
       "      <th>3</th>\n",
       "    </tr>\n",
       "  </thead>\n",
       "  <tbody>\n",
       "    <tr>\n",
       "      <th>0</th>\n",
       "      <td>0.0</td>\n",
       "      <td>0.10</td>\n",
       "      <td>0.90</td>\n",
       "      <td>200.0</td>\n",
       "    </tr>\n",
       "    <tr>\n",
       "      <th>1</th>\n",
       "      <td>1.0</td>\n",
       "      <td>0.15</td>\n",
       "      <td>0.85</td>\n",
       "      <td>205.0</td>\n",
       "    </tr>\n",
       "  </tbody>\n",
       "</table>\n",
       "</div>"
      ],
      "text/plain": [
       "     0     1     2      3\n",
       "0  0.0  0.10  0.90  200.0\n",
       "1  1.0  0.15  0.85  205.0"
      ]
     },
     "execution_count": 7,
     "metadata": {},
     "output_type": "execute_result"
    }
   ],
   "source": [
    "df_test.head()"
   ]
  },
  {
   "cell_type": "code",
   "execution_count": 16,
   "metadata": {
    "collapsed": false
   },
   "outputs": [
    {
     "name": "stdout",
     "output_type": "stream",
     "text": [
      "Text(0,0,'')\n",
      "Text(0,0,'')\n",
      "Text(0,0,'')\n",
      "Text(0,0,'')\n",
      "Text(0,0,'')\n",
      "Text(0,0,'')\n",
      "Text(0,0,'')\n",
      "Text(0,0,'')\n",
      "Text(0,0,'')\n"
     ]
    },
    {
     "data": {
      "image/png": "[encoded data removed]",
      "text/plain": [
       "<matplotlib.figure.Figure at 0x15c4df884e0>"
      ]
     },
     "metadata": {},
     "output_type": "display_data"
    }
   ],
   "source": [
    "fig = plt.figure()\n",
    "ax = fig.add_subplot(1,1,1)\n",
    "ax.set_xlabel('Reach')\n",
    "ax.set_ylabel('% installed')\n",
    "lines = []\n",
    "N = 2\n",
    "\n",
    "ind = np.arange(N)\n",
    "width = 0.35\n",
    "\n",
    "\n",
    "p1 = plt.bar(ind, df_test[1], width, color='#d62728', label='neighbour')\n",
    "p2 = plt.bar(ind, df_test[2], width,\n",
    "             bottom=df_test[1], label='installer')\n",
    "\n",
    "lines.append(p1)\n",
    "lines.append(p2)\n",
    "\n",
    "\n",
    "for tick in ax.get_xticklabels():\n",
    "    print(tick)\n",
    "    \n",
    "ax.xaxis.set_ticks(ind, tuple([str(x) for x in ind]))\n",
    "\n",
    "# Put a legend below current axis\n",
    "lgd = ax.legend(lines, [l.get_label() for l in lines], loc='upper center', bbox_to_anchor=(0.5, -0.15),\\\n",
    "          fancybox=True, shadow=True, fontsize='10', ncol = 2)\n",
    "\n",
    "\n",
    "plt.show()"
   ]
  },
  {
   "cell_type": "code",
   "execution_count": 15,
   "metadata": {
    "collapsed": false
   },
   "outputs": [
    {
     "name": "stdout",
     "output_type": "stream",
     "text": [
      "('0', '1')\n"
     ]
    }
   ],
   "source": [
    "print(tuple([str(x) for x in ind]))"
   ]
  },
  {
   "cell_type": "code",
   "execution_count": null,
   "metadata": {
    "collapsed": true
   },
   "outputs": [],
   "source": []
  }
 ],
 "metadata": {
  "anaconda-cloud": {},
  "kernelspec": {
   "display_name": "Python [conda env:aimacro]",
   "language": "python",
   "name": "conda-env-aimacro-py"
  },
  "language_info": {
   "codemirror_mode": {
    "name": "ipython",
    "version": 3
   },
   "file_extension": ".py",
   "mimetype": "text/x-python",
   "name": "python",
   "nbconvert_exporter": "python",
   "pygments_lexer": "ipython3",
   "version": "3.5.2"
  }
 },
 "nbformat": 4,
 "nbformat_minor": 1
}
