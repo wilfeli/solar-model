{
 "cells": [
  {
   "cell_type": "code",
   "execution_count": 1,
   "metadata": {
    "collapsed": true
   },
   "outputs": [],
   "source": [
    "import ctypes\n",
    "import os\n",
    "import threading\n",
    "import pandas as pd\n",
    "import numpy as np\n",
    "%matplotlib inline\n",
    "import matplotlib.pyplot as plt\n",
    "import matplotlib\n",
    "from matplotlib import cm\n",
    "matplotlib.style.use('ggplot')\n",
    "import math\n",
    "import concurrent.futures\n",
    "import glob\n",
    "import json\n",
    "import scipy as sp\n",
    "import scipy.special\n",
    "from matplotlib.ticker import FormatStrFormatter\n",
    "from itertools import chain"
   ]
  },
  {
   "cell_type": "markdown",
   "metadata": {
    "collapsed": true
   },
   "source": [
    "# Graphs for simulation results"
   ]
  },
  {
   "cell_type": "markdown",
   "metadata": {},
   "source": [
    "## Read results of multiple simulations."
   ]
  },
  {
   "cell_type": "code",
   "execution_count": 2,
   "metadata": {
    "collapsed": true
   },
   "outputs": [],
   "source": [
    "data_mode = 'CA'"
   ]
  },
  {
   "cell_type": "code",
   "execution_count": 3,
   "metadata": {
    "collapsed": true
   },
   "outputs": [],
   "source": [
    "test_mode = 'Apr-25-2017/EEModel/RelBaseLearn08/'\n",
    "test_name = 'RelBaseLearn08'"
   ]
  },
  {
   "cell_type": "code",
   "execution_count": 4,
   "metadata": {
    "collapsed": false
   },
   "outputs": [],
   "source": [
    "#names of columns in a file\n",
    "names = ['N_installed', 'N_installed_sum', 'P_av_total', 'P_av']\n",
    "for i in range(3):\n",
    "    names.append('sei_' + str(i))\n",
    "for i in range(3):\n",
    "    names.append('sei_rel_' + str(i))\n",
    "for i in range(7):\n",
    "    names.append('sem_' + str(i))\n",
    "for i in range(7):\n",
    "    names.append('sem_rel_' + str(i))\n",
    "for i in range(3):\n",
    "    names.append('sei_N_' + str(i))\n",
    "\n",
    "\n",
    "#read few files\n",
    "#save into database\n",
    "dfs_ = []\n",
    "#read last simulation result\n",
    "files = glob.glob('/Users/wilfeli/Dropbox/ABM/SolarPanels/ABMIRISLab/Saves/' + test_mode + data_mode + '/*[_w].csv')\n",
    "files.sort(key=os.path.getmtime, reverse=True)\n",
    "\n",
    "\n",
    "\n",
    "indexing_range = range(0,100)\n",
    "\n",
    "#take top x files \n",
    "for file in [files[i] for i in indexing_range]:\n",
    "    df_ = pd.read_csv(file, names=names, low_memory=False)\n",
    "    \n",
    "     #create new column with max and min\n",
    "    df_['sem_max'] = df_[['sem_' + str(i) for i in range(7)]].max(axis=1)\n",
    "    df_['sem_rel_min'] = df_[['sem_rel_' + str(i) for i in range(7)]].min(axis=1)\n",
    "    df_['sei_max'] = df_[['sei_' + str(i) for i in range(3)]].min(axis=1)\n",
    "    df_['sei_rel_min'] = df_[['sei_rel_' + str(i) for i in range(3)]].min(axis=1)\n",
    "    \n",
    "    dfs_.append(df_)\n",
    "\n",
    "#create df from them    \n",
    "df_concat = pd.concat(dfs_)\n",
    "df = df_concat.groupby(level=0).mean()\n",
    "df_std = df_concat.groupby(level=0).std()\n",
    "\n"
   ]
  },
  {
   "cell_type": "code",
   "execution_count": 5,
   "metadata": {
    "collapsed": true
   },
   "outputs": [],
   "source": [
    "data_mode = 'MA'"
   ]
  },
  {
   "cell_type": "code",
   "execution_count": 6,
   "metadata": {
    "collapsed": true
   },
   "outputs": [],
   "source": [
    "test_mode = 'Apr-25-2017/EEModel/RelBaseLearn08/'\n",
    "test_name = 'RelBaseLearn08'"
   ]
  },
  {
   "cell_type": "code",
   "execution_count": 7,
   "metadata": {
    "collapsed": false
   },
   "outputs": [],
   "source": [
    "#names of columns in a file\n",
    "names = ['N_installed', 'N_installed_sum', 'P_av_total', 'P_av']\n",
    "for i in range(3):\n",
    "    names.append('sei_' + str(i))\n",
    "for i in range(3):\n",
    "    names.append('sei_rel_' + str(i))\n",
    "for i in range(7):\n",
    "    names.append('sem_' + str(i))\n",
    "for i in range(7):\n",
    "    names.append('sem_rel_' + str(i))\n",
    "for i in range(3):\n",
    "    names.append('sei_N_' + str(i))\n",
    "\n",
    "\n",
    "#read few files\n",
    "#save into database\n",
    "dfs_ma_ = []\n",
    "#read last simulation result\n",
    "files = glob.glob('/Users/wilfeli/Dropbox/ABM/SolarPanels/ABMIRISLab/Saves/' + test_mode + data_mode + '/*[_w].csv')\n",
    "files.sort(key=os.path.getmtime, reverse=True)\n",
    "\n",
    "\n",
    "indexing_range = range(0,100)\n",
    "\n",
    "#take top x files \n",
    "for file in [files[i] for i in indexing_range]:\n",
    "    df_ = pd.read_csv(file, names=names, low_memory=False)\n",
    "    \n",
    "     #create new column with max and min\n",
    "    df_['sem_max'] = df_[['sem_' + str(i) for i in range(7)]].max(axis=1)\n",
    "    df_['sem_rel_min'] = df_[['sem_rel_' + str(i) for i in range(7)]].min(axis=1)\n",
    "    df_['sei_max'] = df_[['sei_' + str(i) for i in range(3)]].min(axis=1)\n",
    "    df_['sei_rel_min'] = df_[['sei_rel_' + str(i) for i in range(3)]].min(axis=1)\n",
    "    \n",
    "    dfs_ma_.append(df_)\n",
    "\n",
    "#create df from them    \n",
    "df_ma_concat = pd.concat(dfs_ma_)\n",
    "df_ma = df_ma_concat.groupby(level=0).mean()\n",
    "df_ma_std = df_ma_concat.groupby(level=0).std()\n",
    "\n"
   ]
  },
  {
   "cell_type": "markdown",
   "metadata": {},
   "source": [
    "### Preparing raw data"
   ]
  },
  {
   "cell_type": "code",
   "execution_count": 8,
   "metadata": {
    "collapsed": true
   },
   "outputs": [],
   "source": [
    "N_SIMULATION_TICKS = 20"
   ]
  },
  {
   "cell_type": "code",
   "execution_count": 9,
   "metadata": {
    "collapsed": true
   },
   "outputs": [],
   "source": [
    "N_TICKS_DISPLAY = 15"
   ]
  },
  {
   "cell_type": "code",
   "execution_count": 10,
   "metadata": {
    "collapsed": true
   },
   "outputs": [],
   "source": [
    "N_AGENTS_TOTAL = 1000"
   ]
  },
  {
   "cell_type": "code",
   "execution_count": 11,
   "metadata": {
    "collapsed": true
   },
   "outputs": [],
   "source": [
    "#total count of installs\n",
    "#hit rate"
   ]
  },
  {
   "cell_type": "code",
   "execution_count": null,
   "metadata": {
    "collapsed": true
   },
   "outputs": [],
   "source": []
  },
  {
   "cell_type": "code",
   "execution_count": 15,
   "metadata": {
    "collapsed": false
   },
   "outputs": [
    {
     "data": {
      "image/png": "[encoded data removed]",
      "text/plain": [
       "<matplotlib.figure.Figure at 0x19980159748>"
      ]
     },
     "metadata": {},
     "output_type": "display_data"
    }
   ],
   "source": [
    "fig, axes = plt.subplots(nrows=1, ncols=1)\n",
    "fig.subplots_adjust(right=0.85)\n",
    "\n",
    "par1 = axes.twinx()\n",
    "\n",
    "ind = df.index.values[0:N_TICKS_DISPLAY] + 1\n",
    "\n",
    "p1, = axes.plot(ind, df['N_installed'][0:N_TICKS_DISPLAY]/1000*100, \"g-\", \\\n",
    "#                label=r'$\\%\\ installations\\: CA\\pm 2\\sigma$')\n",
    "                label=r'$\\%\\ installations\\: CA\\:(each\\:year)$')\n",
    "p2, = par1.plot(ind, df['N_installed_sum'][0:N_TICKS_DISPLAY], \"--ro\", \\\n",
    "                label=r'$total\\:installations\\: CA \\pm 2\\sigma$')\n",
    "\n",
    "\n",
    "p3, = axes.plot(ind, df_ma['N_installed'][0:N_TICKS_DISPLAY]/1000*100, \"c-\", \\\n",
    "#                label=r'$\\%\\ installations\\: MA\\pm 2\\sigma$')\n",
    "                label=r'$\\%\\ installations\\: MA\\:(each\\:year)$')\n",
    "p4, = par1.plot(ind, df_ma['N_installed_sum'][0:N_TICKS_DISPLAY], \"--mo\", \\\n",
    "                label=r'$total\\:installations\\: MA\\pm 2\\sigma$')\n",
    "\n",
    "\n",
    "#add +- 2 std\n",
    "#axes.fill_between(ind, \n",
    "#                  df['N_installed'][0:N_TICKS_DISPLAY]/1000*100-2*df_std['N_installed'][0:N_TICKS_DISPLAY]/1000*100, \n",
    "#                  df['N_installed'][0:N_TICKS_DISPLAY]/1000*100+2*df_std['N_installed'][0:N_TICKS_DISPLAY]/1000*100, \n",
    "#                  color='g', \n",
    "#                  alpha=0.2)\n",
    "#axes.fill_between(ind, \n",
    "#                  df_ma['N_installed'][0:N_TICKS_DISPLAY]/1000*100-2*df_ma_std['N_installed'][0:N_TICKS_DISPLAY]/1000*100, \n",
    "#                  df_ma['N_installed'][0:N_TICKS_DISPLAY]/1000*100+2*df_ma_std['N_installed'][0:N_TICKS_DISPLAY]/1000*100, \n",
    "#                  color='c', \n",
    "#                  alpha=0.2)\n",
    "\n",
    "par1.fill_between(ind, \n",
    "                 df['N_installed_sum'][0:N_TICKS_DISPLAY]-2*df_std['N_installed_sum'][0:N_TICKS_DISPLAY],\n",
    "                 df['N_installed_sum'][0:N_TICKS_DISPLAY]+2*df_std['N_installed_sum'][0:N_TICKS_DISPLAY],\n",
    "                  color='r', \n",
    "                  alpha=0.2)\n",
    "\n",
    "par1.fill_between(ind, \n",
    "                 df_ma['N_installed_sum'][0:N_TICKS_DISPLAY]-2*df_ma_std['N_installed_sum'][0:N_TICKS_DISPLAY],\n",
    "                 df_ma['N_installed_sum'][0:N_TICKS_DISPLAY]+2*df_ma_std['N_installed_sum'][0:N_TICKS_DISPLAY],\n",
    "                  color='m', \n",
    "                  alpha=0.2)\n",
    "\n",
    "axes.set_xlabel(\"Time\")\n",
    "axes.set_ylabel(\"Hit % installations (each year)\")\n",
    "par1.set_ylabel(\"Total number of installations\")\n",
    "\n",
    "axes.set_autoscaley_on(False)\n",
    "axes.set_xlim([1,15])\n",
    "start = 1\n",
    "end = 16\n",
    "axes.xaxis.set_ticks(np.arange(start, end, 1))\n",
    "\n",
    "axes.yaxis.label.set_color(p1.get_color())\n",
    "par1.yaxis.label.set_color(p2.get_color())\n",
    "\n",
    "\n",
    "tkw = dict(size=4, width=1.5)\n",
    "axes.tick_params(axis='y', colors=p1.get_color(), **tkw)\n",
    "par1.tick_params(axis='y', colors=p2.get_color(), **tkw)\n",
    "axes.tick_params(axis='x', **tkw)\n",
    "\n",
    "lines = [p1, p3, p2, p4]\n",
    "\n",
    "axes.legend(lines, [l.get_label() for l in lines], fontsize='10')\n",
    "plt.savefig('Simulation_results_install_CA_MA_' + '_' + test_name + '_Feb14' + '.png', dpi=300)\n",
    "plt.show()"
   ]
  },
  {
   "cell_type": "code",
   "execution_count": null,
   "metadata": {
    "collapsed": true
   },
   "outputs": [],
   "source": []
  },
  {
   "cell_type": "code",
   "execution_count": null,
   "metadata": {
    "collapsed": true
   },
   "outputs": [],
   "source": []
  },
  {
   "cell_type": "code",
   "execution_count": null,
   "metadata": {
    "collapsed": true
   },
   "outputs": [],
   "source": []
  }
 ],
 "metadata": {
  "anaconda-cloud": {},
  "kernelspec": {
   "display_name": "Python [default]",
   "language": "python",
   "name": "python3"
  },
  "language_info": {
   "codemirror_mode": {
    "name": "ipython",
    "version": 3
   },
   "file_extension": ".py",
   "mimetype": "text/x-python",
   "name": "python",
   "nbconvert_exporter": "python",
   "pygments_lexer": "ipython3",
   "version": "3.5.2"
  }
 },
 "nbformat": 4,
 "nbformat_minor": 0
}
