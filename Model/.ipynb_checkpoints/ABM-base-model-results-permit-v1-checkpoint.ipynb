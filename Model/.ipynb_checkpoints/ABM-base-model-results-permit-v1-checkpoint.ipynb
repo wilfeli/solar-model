{
 "cells": [
  {
   "cell_type": "code",
   "execution_count": 1,
   "metadata": {
    "collapsed": true
   },
   "outputs": [],
   "source": [
    "import re\n",
    "import pandas as pd\n",
    "import numpy as np\n",
    "import json\n",
    "import subprocess\n",
    "import glob\n",
    "import os\n",
    "\n",
    "%matplotlib inline\n",
    "import matplotlib.pyplot as plt\n",
    "import matplotlib\n",
    "import matplotlib.colors as colors\n",
    "from matplotlib import cm\n",
    "matplotlib.style.use('ggplot')\n",
    "import matplotlib.patches as mpatches\n",
    "from matplotlib.legend_handler import HandlerPatch"
   ]
  },
  {
   "cell_type": "code",
   "execution_count": null,
   "metadata": {
    "collapsed": true
   },
   "outputs": [],
   "source": []
  },
  {
   "cell_type": "code",
   "execution_count": null,
   "metadata": {
    "collapsed": true
   },
   "outputs": [],
   "source": []
  },
  {
   "cell_type": "code",
   "execution_count": 2,
   "metadata": {
    "collapsed": true
   },
   "outputs": [],
   "source": [
    "N_SEEDS = 8\n",
    "N_SEI = 20\n",
    "N_TESTS = 5\n",
    "N_TICKS = 260\n",
    "N_TICKS_DISPLAY = 260 - 52\n",
    "N_TICKS_BURN = N_TICKS - N_TICKS_DISPLAY"
   ]
  },
  {
   "cell_type": "code",
   "execution_count": 3,
   "metadata": {
    "collapsed": true
   },
   "outputs": [],
   "source": [
    "def read_error_data_from_log(file, data_):\n",
    "    regex_error_savings = re.compile('(INFO:\\sNEGATIVE\\sSAVINGS\\s*)')\n",
    "    regex_error_small_system = re.compile('(INFO:\\sSMALL\\sSYSTEM\\s*)')\n",
    "    N_SMALL_SAVINGS = 0\n",
    "    N_SMALL_SYSTEMS = 0\n",
    "    \n",
    "    with open(file) as infile:\n",
    "        for line in infile:\n",
    "            if regex_error_savings.search(line):\n",
    "                res = re.split(regex_error_savings, line)\n",
    "                N_SMALL_SAVINGS = N_SMALL_SAVINGS + 1\n",
    "            elif regex_error_small_system.search(line):\n",
    "                res = re.split(regex_error_small_system, line)\n",
    "                N_SMALL_SYSTEMS = N_SMALL_SYSTEMS + 1\n",
    "            else:\n",
    "                pass\n",
    "            \n",
    "    \n",
    "    return (N_SMALL_SAVINGS, N_SMALL_SYSTEMS)"
   ]
  },
  {
   "cell_type": "code",
   "execution_count": 10,
   "metadata": {
    "collapsed": true
   },
   "outputs": [],
   "source": [
    "#Reads data from the given file into the given list\n",
    "def read_data_from_log(file, data_):\n",
    "    regex_begin_tick = re.compile('(N\\s*active\\s*agents\\s*at\\s*tick\\s*)')\n",
    "    regex_end_tick = re.compile('(Number\\s*of\\s*installed\\s*projects\\s*:\\s*)')\n",
    "    regex_data =  re.compile('(INFO:\\s)')\n",
    "    regex_data_check = re.compile('EParamTypes')\n",
    "    regex_enum = re.compile('(::[\\w]*\\s*:\\s*)')\n",
    "    regex_enum_name = re.compile('([^:\\s]+)')\n",
    "    regex_1 = re.compile('(\\s*:\\s*)')\n",
    "    \n",
    "    \n",
    "    with open(file) as infile:\n",
    "        for line in infile:\n",
    "            if regex_begin_tick.search(line):\n",
    "                #parse tick number \n",
    "                #start new dictionary in the list\n",
    "                data_.append({})\n",
    "\n",
    "                #get tick \n",
    "                res = re.split(regex_1, re.split(regex_begin_tick, line)[-1])\n",
    "                data_[-1]['N_AGENTS'] = float(res[-1])\n",
    "                data_[-1]['tick'] = float(res[0])\n",
    "            elif regex_end_tick.search(line):\n",
    "                res = re.split(regex_end_tick, line)\n",
    "                data_[-1]['N_PROJECTS'] = float(res[-1])\n",
    "            else:\n",
    "                if (regex_data.search(line)) and (regex_data_check.search(line)):\n",
    "                    res = re.split(regex_data, line)\n",
    "                    #get last part and enum name \n",
    "                    #last part is number\n",
    "                    res2 = re.split(regex_enum, res[-1])\n",
    "                    #get enum name \n",
    "                    data_[-1]['EParamTypes::' + re.split(regex_enum_name, res2[-2])[-2]] = float(res2[-1])\n",
    "#    print(data_)"
   ]
  },
  {
   "cell_type": "code",
   "execution_count": 11,
   "metadata": {
    "collapsed": true
   },
   "outputs": [],
   "source": [
    "def get_subset_data(data_):\n",
    "    #data_column_names\n",
    "    data_columns = {'EParamTypes::HOStateDroppedOutNCDecStage':[],\\\n",
    "                   'EParamTypes::HOStateDroppedOutSEIStage':[],\\\n",
    "                   'EParamTypes::HOStateDroppedOutDesignStage':[],\\\n",
    "                    'EParamTypes::HOStateDroppedOutTickNCDecStage':[],\\\n",
    "                    'EParamTypes::HOStateDroppedOutTickSEIStage':[],\\\n",
    "                    'EParamTypes::HOStateDroppedOutTickDesignStage':[],\\\n",
    "                   'EParamTypes::HONumberActiveAgents':[]}\n",
    "    tick = []\n",
    "    i = 0\n",
    "    #collect data for each tick \n",
    "    for row in data_:\n",
    "        for key, value in data_columns.items():\n",
    "            value.append(0.0)\n",
    "            if key in row:\n",
    "                value[-1] = row[key]\n",
    "        tick.append(i)\n",
    "        i = i + 1\n",
    "    \n",
    "    return data_columns\n",
    "\n",
    "#print(data_columns)"
   ]
  },
  {
   "cell_type": "code",
   "execution_count": 12,
   "metadata": {
    "collapsed": false
   },
   "outputs": [],
   "source": [
    "#N_tests - number of different tests that were run \n",
    "#dfs_logs - where to save them\n",
    "def collect_data_for_simulation_runs_from_logs(N_TESTS, dfs_logs):\n",
    "\n",
    "\n",
    "    test_mode = 'BaseModel'\n",
    "    test_version = 'BaseVer02'\n",
    "    test_loc = 'CA'\n",
    "    data_mode = 'Logs'\n",
    "    version = '_eff'\n",
    "    params_versions = [str(x) for x in np.linspace(-0.5,1.5,N_TESTS,endpoint=True)]\n",
    "    \n",
    "\n",
    "    for i_run in range(N_TESTS):  \n",
    "\n",
    "        #get latest file \n",
    "        files = glob.glob('..\\\\..\\\\ABMIRISLab\\\\Saves\\\\May-14-2018\\\\' + test_mode + '\\\\' + test_version + '\\\\'  +\\\n",
    "                          test_loc + '\\\\permit' + params_versions[i_run] + '\\\\' + data_mode +\\\n",
    "                         '\\\\*[_log].log')\n",
    "        files.sort(key=os.path.getmtime, reverse=True)\n",
    "        files_ = files[0 * N_SEEDS : 1 * N_SEEDS]    \n",
    "\n",
    "        dfs_ = []\n",
    "\n",
    "        for file in files_:\n",
    "\n",
    "            #if find N active agents at tick\n",
    "            # start data for the tick \n",
    "            #parse data - name of the enum, value\n",
    "            data_ = []\n",
    "            read_data_from_log(file, data_)\n",
    "            data_subset_ = get_subset_data(data_)\n",
    "            df_ = pd.DataFrame(\n",
    "                data_subset_\n",
    "                )\n",
    "            df_.index.name = 'tick'\n",
    "\n",
    "            dfs_.append(df_)\n",
    "\n",
    "\n",
    "\n",
    "\n",
    "\n",
    "        #get averages \n",
    "        #create df from them    \n",
    "        df_concat = pd.concat(dfs_)\n",
    "        df_logs = df_concat.groupby(level=0).mean()\n",
    "\n",
    "\n",
    "        dfs_logs.append(df_logs)"
   ]
  },
  {
   "cell_type": "code",
   "execution_count": 13,
   "metadata": {
    "collapsed": false
   },
   "outputs": [],
   "source": [
    "dfs_logs = []\n",
    "collect_data_for_simulation_runs_from_logs(N_TESTS, dfs_logs)\n",
    "df_logs = dfs_logs[0]"
   ]
  },
  {
   "cell_type": "code",
   "execution_count": 14,
   "metadata": {
    "collapsed": false
   },
   "outputs": [
    {
     "data": {
      "text/html": [
       "<div>\n",
       "<table border=\"1\" class=\"dataframe\">\n",
       "  <thead>\n",
       "    <tr style=\"text-align: right;\">\n",
       "      <th></th>\n",
       "      <th>EParamTypes::HONumberActiveAgents</th>\n",
       "      <th>EParamTypes::HOStateDroppedOutDesignStage</th>\n",
       "      <th>EParamTypes::HOStateDroppedOutNCDecStage</th>\n",
       "      <th>EParamTypes::HOStateDroppedOutSEIStage</th>\n",
       "      <th>EParamTypes::HOStateDroppedOutTickDesignStage</th>\n",
       "      <th>EParamTypes::HOStateDroppedOutTickNCDecStage</th>\n",
       "      <th>EParamTypes::HOStateDroppedOutTickSEIStage</th>\n",
       "    </tr>\n",
       "    <tr>\n",
       "      <th>tick</th>\n",
       "      <th></th>\n",
       "      <th></th>\n",
       "      <th></th>\n",
       "      <th></th>\n",
       "      <th></th>\n",
       "      <th></th>\n",
       "      <th></th>\n",
       "    </tr>\n",
       "  </thead>\n",
       "  <tbody>\n",
       "    <tr>\n",
       "      <th>0</th>\n",
       "      <td>59.142857</td>\n",
       "      <td>0.0</td>\n",
       "      <td>0.0</td>\n",
       "      <td>0.0</td>\n",
       "      <td>0.0</td>\n",
       "      <td>0.0</td>\n",
       "      <td>0.0</td>\n",
       "    </tr>\n",
       "    <tr>\n",
       "      <th>1</th>\n",
       "      <td>108.142857</td>\n",
       "      <td>0.0</td>\n",
       "      <td>0.0</td>\n",
       "      <td>0.0</td>\n",
       "      <td>0.0</td>\n",
       "      <td>0.0</td>\n",
       "      <td>0.0</td>\n",
       "    </tr>\n",
       "    <tr>\n",
       "      <th>2</th>\n",
       "      <td>157.000000</td>\n",
       "      <td>0.0</td>\n",
       "      <td>0.0</td>\n",
       "      <td>0.0</td>\n",
       "      <td>0.0</td>\n",
       "      <td>0.0</td>\n",
       "      <td>0.0</td>\n",
       "    </tr>\n",
       "    <tr>\n",
       "      <th>3</th>\n",
       "      <td>205.428571</td>\n",
       "      <td>0.0</td>\n",
       "      <td>0.0</td>\n",
       "      <td>0.0</td>\n",
       "      <td>0.0</td>\n",
       "      <td>0.0</td>\n",
       "      <td>0.0</td>\n",
       "    </tr>\n",
       "    <tr>\n",
       "      <th>4</th>\n",
       "      <td>254.142857</td>\n",
       "      <td>0.0</td>\n",
       "      <td>0.0</td>\n",
       "      <td>0.0</td>\n",
       "      <td>0.0</td>\n",
       "      <td>0.0</td>\n",
       "      <td>0.0</td>\n",
       "    </tr>\n",
       "  </tbody>\n",
       "</table>\n",
       "</div>"
      ],
      "text/plain": [
       "      EParamTypes::HONumberActiveAgents  \\\n",
       "tick                                      \n",
       "0                             59.142857   \n",
       "1                            108.142857   \n",
       "2                            157.000000   \n",
       "3                            205.428571   \n",
       "4                            254.142857   \n",
       "\n",
       "      EParamTypes::HOStateDroppedOutDesignStage  \\\n",
       "tick                                              \n",
       "0                                           0.0   \n",
       "1                                           0.0   \n",
       "2                                           0.0   \n",
       "3                                           0.0   \n",
       "4                                           0.0   \n",
       "\n",
       "      EParamTypes::HOStateDroppedOutNCDecStage  \\\n",
       "tick                                             \n",
       "0                                          0.0   \n",
       "1                                          0.0   \n",
       "2                                          0.0   \n",
       "3                                          0.0   \n",
       "4                                          0.0   \n",
       "\n",
       "      EParamTypes::HOStateDroppedOutSEIStage  \\\n",
       "tick                                           \n",
       "0                                        0.0   \n",
       "1                                        0.0   \n",
       "2                                        0.0   \n",
       "3                                        0.0   \n",
       "4                                        0.0   \n",
       "\n",
       "      EParamTypes::HOStateDroppedOutTickDesignStage  \\\n",
       "tick                                                  \n",
       "0                                               0.0   \n",
       "1                                               0.0   \n",
       "2                                               0.0   \n",
       "3                                               0.0   \n",
       "4                                               0.0   \n",
       "\n",
       "      EParamTypes::HOStateDroppedOutTickNCDecStage  \\\n",
       "tick                                                 \n",
       "0                                              0.0   \n",
       "1                                              0.0   \n",
       "2                                              0.0   \n",
       "3                                              0.0   \n",
       "4                                              0.0   \n",
       "\n",
       "      EParamTypes::HOStateDroppedOutTickSEIStage  \n",
       "tick                                              \n",
       "0                                            0.0  \n",
       "1                                            0.0  \n",
       "2                                            0.0  \n",
       "3                                            0.0  \n",
       "4                                            0.0  "
      ]
     },
     "execution_count": 14,
     "metadata": {},
     "output_type": "execute_result"
    }
   ],
   "source": [
    "dfs_logs[0].head()"
   ]
  },
  {
   "cell_type": "code",
   "execution_count": null,
   "metadata": {
    "collapsed": true
   },
   "outputs": [],
   "source": []
  },
  {
   "cell_type": "code",
   "execution_count": 15,
   "metadata": {
    "collapsed": true
   },
   "outputs": [],
   "source": [
    "def collect_data_for_simulation_runs_from_w(N_TESTS, dfs_w, dfs_w_std):\n",
    "\n",
    "    test_mode = 'BaseVer02'\n",
    "    data_mode = 'CA'\n",
    "    #here think how to change it\n",
    "    params_versions = [str(x) for x in np.linspace(-0.5,1.5,N_TESTS,endpoint=True)]\n",
    "\n",
    "    #names of columns in a file\n",
    "    names = ['N_installed', 'N_installed_sum', 'P_av_total', 'P_av']\n",
    "    for i in range(N_SEI):\n",
    "        names.append('sei_markup_' + str(i))\n",
    "\n",
    "\n",
    "\n",
    "    for i_run in range(N_TESTS): \n",
    "        #read few files\n",
    "        #save into database\n",
    "        dfs_ = []\n",
    "        #read last simulation result\n",
    "        files = glob.glob('..\\\\..\\\\ABMIRISLab\\\\Saves\\\\May-14-2018\\\\BaseModel\\\\'+ test_mode + '\\\\' + data_mode + \\\n",
    "                         '\\\\permit' + params_versions[i_run] + '\\\\*[_w].csv')\n",
    "        files.sort(key=os.path.getmtime, reverse=True)\n",
    "\n",
    "        #take top x files \n",
    "        for file in files[0 * N_SEEDS : 1 * N_SEEDS]:\n",
    "            df_ = pd.read_csv(file, names=names, low_memory=False, na_values = ['-nan(ind)'])\n",
    "            dfs_.append(df_)\n",
    "\n",
    "\n",
    "        #create df from them    \n",
    "        df_concat = pd.concat(dfs_)\n",
    "        df_w_mean = df_concat.groupby(level=0).mean()\n",
    "        df_w_std = df_concat.groupby(level=0).std()\n",
    "        \n",
    "        dfs_w.append(df_w_mean)\n",
    "        dfs_w_std.append(df_w_std)"
   ]
  },
  {
   "cell_type": "code",
   "execution_count": 16,
   "metadata": {
    "collapsed": false
   },
   "outputs": [],
   "source": [
    "dfs_w = []\n",
    "dfs_w_std = []\n",
    "collect_data_for_simulation_runs_from_w(N_TESTS, dfs_w, dfs_w_std)"
   ]
  },
  {
   "cell_type": "code",
   "execution_count": 17,
   "metadata": {
    "collapsed": false
   },
   "outputs": [
    {
     "data": {
      "text/html": [
       "<div>\n",
       "<table border=\"1\" class=\"dataframe\">\n",
       "  <thead>\n",
       "    <tr style=\"text-align: right;\">\n",
       "      <th></th>\n",
       "      <th>N_installed</th>\n",
       "      <th>N_installed_sum</th>\n",
       "      <th>P_av_total</th>\n",
       "      <th>P_av</th>\n",
       "      <th>sei_markup_0</th>\n",
       "      <th>sei_markup_1</th>\n",
       "      <th>sei_markup_2</th>\n",
       "      <th>sei_markup_3</th>\n",
       "      <th>sei_markup_4</th>\n",
       "      <th>sei_markup_5</th>\n",
       "      <th>...</th>\n",
       "      <th>sei_markup_10</th>\n",
       "      <th>sei_markup_11</th>\n",
       "      <th>sei_markup_12</th>\n",
       "      <th>sei_markup_13</th>\n",
       "      <th>sei_markup_14</th>\n",
       "      <th>sei_markup_15</th>\n",
       "      <th>sei_markup_16</th>\n",
       "      <th>sei_markup_17</th>\n",
       "      <th>sei_markup_18</th>\n",
       "      <th>sei_markup_19</th>\n",
       "    </tr>\n",
       "  </thead>\n",
       "  <tbody>\n",
       "    <tr>\n",
       "      <th>0</th>\n",
       "      <td>0.0</td>\n",
       "      <td>0.0</td>\n",
       "      <td>0.0</td>\n",
       "      <td>0.0</td>\n",
       "      <td>0.491332</td>\n",
       "      <td>0.686154</td>\n",
       "      <td>0.394593</td>\n",
       "      <td>0.537956</td>\n",
       "      <td>0.544454</td>\n",
       "      <td>0.551717</td>\n",
       "      <td>...</td>\n",
       "      <td>0.447666</td>\n",
       "      <td>0.552777</td>\n",
       "      <td>0.392875</td>\n",
       "      <td>0.445332</td>\n",
       "      <td>0.453472</td>\n",
       "      <td>0.515118</td>\n",
       "      <td>0.527037</td>\n",
       "      <td>0.419609</td>\n",
       "      <td>0.507716</td>\n",
       "      <td>0.48574</td>\n",
       "    </tr>\n",
       "    <tr>\n",
       "      <th>1</th>\n",
       "      <td>0.0</td>\n",
       "      <td>0.0</td>\n",
       "      <td>NaN</td>\n",
       "      <td>NaN</td>\n",
       "      <td>0.491332</td>\n",
       "      <td>0.686154</td>\n",
       "      <td>0.394593</td>\n",
       "      <td>0.537956</td>\n",
       "      <td>0.544454</td>\n",
       "      <td>0.551717</td>\n",
       "      <td>...</td>\n",
       "      <td>0.447666</td>\n",
       "      <td>0.552777</td>\n",
       "      <td>0.392875</td>\n",
       "      <td>0.445332</td>\n",
       "      <td>0.453472</td>\n",
       "      <td>0.515118</td>\n",
       "      <td>0.527037</td>\n",
       "      <td>0.419609</td>\n",
       "      <td>0.507716</td>\n",
       "      <td>0.48574</td>\n",
       "    </tr>\n",
       "    <tr>\n",
       "      <th>2</th>\n",
       "      <td>0.0</td>\n",
       "      <td>0.0</td>\n",
       "      <td>NaN</td>\n",
       "      <td>NaN</td>\n",
       "      <td>0.491332</td>\n",
       "      <td>0.686154</td>\n",
       "      <td>0.394593</td>\n",
       "      <td>0.537956</td>\n",
       "      <td>0.544454</td>\n",
       "      <td>0.551717</td>\n",
       "      <td>...</td>\n",
       "      <td>0.447666</td>\n",
       "      <td>0.552777</td>\n",
       "      <td>0.392875</td>\n",
       "      <td>0.445332</td>\n",
       "      <td>0.453472</td>\n",
       "      <td>0.515118</td>\n",
       "      <td>0.527037</td>\n",
       "      <td>0.419609</td>\n",
       "      <td>0.507716</td>\n",
       "      <td>0.48574</td>\n",
       "    </tr>\n",
       "    <tr>\n",
       "      <th>3</th>\n",
       "      <td>0.0</td>\n",
       "      <td>0.0</td>\n",
       "      <td>NaN</td>\n",
       "      <td>NaN</td>\n",
       "      <td>0.491332</td>\n",
       "      <td>0.686154</td>\n",
       "      <td>0.394593</td>\n",
       "      <td>0.537956</td>\n",
       "      <td>0.544454</td>\n",
       "      <td>0.551717</td>\n",
       "      <td>...</td>\n",
       "      <td>0.447666</td>\n",
       "      <td>0.552777</td>\n",
       "      <td>0.392875</td>\n",
       "      <td>0.445332</td>\n",
       "      <td>0.453472</td>\n",
       "      <td>0.515118</td>\n",
       "      <td>0.527037</td>\n",
       "      <td>0.419609</td>\n",
       "      <td>0.507716</td>\n",
       "      <td>0.48574</td>\n",
       "    </tr>\n",
       "    <tr>\n",
       "      <th>4</th>\n",
       "      <td>0.0</td>\n",
       "      <td>0.0</td>\n",
       "      <td>NaN</td>\n",
       "      <td>NaN</td>\n",
       "      <td>0.491332</td>\n",
       "      <td>0.686154</td>\n",
       "      <td>0.394593</td>\n",
       "      <td>0.537956</td>\n",
       "      <td>0.544454</td>\n",
       "      <td>0.551717</td>\n",
       "      <td>...</td>\n",
       "      <td>0.447666</td>\n",
       "      <td>0.552777</td>\n",
       "      <td>0.392875</td>\n",
       "      <td>0.445332</td>\n",
       "      <td>0.453472</td>\n",
       "      <td>0.515118</td>\n",
       "      <td>0.527037</td>\n",
       "      <td>0.419609</td>\n",
       "      <td>0.507716</td>\n",
       "      <td>0.48574</td>\n",
       "    </tr>\n",
       "  </tbody>\n",
       "</table>\n",
       "<p>5 rows × 24 columns</p>\n",
       "</div>"
      ],
      "text/plain": [
       "   N_installed  N_installed_sum  P_av_total  P_av  sei_markup_0  sei_markup_1  \\\n",
       "0          0.0              0.0         0.0   0.0      0.491332      0.686154   \n",
       "1          0.0              0.0         NaN   NaN      0.491332      0.686154   \n",
       "2          0.0              0.0         NaN   NaN      0.491332      0.686154   \n",
       "3          0.0              0.0         NaN   NaN      0.491332      0.686154   \n",
       "4          0.0              0.0         NaN   NaN      0.491332      0.686154   \n",
       "\n",
       "   sei_markup_2  sei_markup_3  sei_markup_4  sei_markup_5      ...        \\\n",
       "0      0.394593      0.537956      0.544454      0.551717      ...         \n",
       "1      0.394593      0.537956      0.544454      0.551717      ...         \n",
       "2      0.394593      0.537956      0.544454      0.551717      ...         \n",
       "3      0.394593      0.537956      0.544454      0.551717      ...         \n",
       "4      0.394593      0.537956      0.544454      0.551717      ...         \n",
       "\n",
       "   sei_markup_10  sei_markup_11  sei_markup_12  sei_markup_13  sei_markup_14  \\\n",
       "0       0.447666       0.552777       0.392875       0.445332       0.453472   \n",
       "1       0.447666       0.552777       0.392875       0.445332       0.453472   \n",
       "2       0.447666       0.552777       0.392875       0.445332       0.453472   \n",
       "3       0.447666       0.552777       0.392875       0.445332       0.453472   \n",
       "4       0.447666       0.552777       0.392875       0.445332       0.453472   \n",
       "\n",
       "   sei_markup_15  sei_markup_16  sei_markup_17  sei_markup_18  sei_markup_19  \n",
       "0       0.515118       0.527037       0.419609       0.507716        0.48574  \n",
       "1       0.515118       0.527037       0.419609       0.507716        0.48574  \n",
       "2       0.515118       0.527037       0.419609       0.507716        0.48574  \n",
       "3       0.515118       0.527037       0.419609       0.507716        0.48574  \n",
       "4       0.515118       0.527037       0.419609       0.507716        0.48574  \n",
       "\n",
       "[5 rows x 24 columns]"
      ]
     },
     "execution_count": 17,
     "metadata": {},
     "output_type": "execute_result"
    }
   ],
   "source": [
    "dfs_w[0].head()"
   ]
  },
  {
   "cell_type": "code",
   "execution_count": 18,
   "metadata": {
    "collapsed": false
   },
   "outputs": [
    {
     "data": {
      "text/html": [
       "<div>\n",
       "<table border=\"1\" class=\"dataframe\">\n",
       "  <thead>\n",
       "    <tr style=\"text-align: right;\">\n",
       "      <th></th>\n",
       "      <th>N_installed</th>\n",
       "      <th>N_installed_sum</th>\n",
       "      <th>P_av_total</th>\n",
       "      <th>P_av</th>\n",
       "      <th>sei_markup_0</th>\n",
       "      <th>sei_markup_1</th>\n",
       "      <th>sei_markup_2</th>\n",
       "      <th>sei_markup_3</th>\n",
       "      <th>sei_markup_4</th>\n",
       "      <th>sei_markup_5</th>\n",
       "      <th>...</th>\n",
       "      <th>sei_markup_10</th>\n",
       "      <th>sei_markup_11</th>\n",
       "      <th>sei_markup_12</th>\n",
       "      <th>sei_markup_13</th>\n",
       "      <th>sei_markup_14</th>\n",
       "      <th>sei_markup_15</th>\n",
       "      <th>sei_markup_16</th>\n",
       "      <th>sei_markup_17</th>\n",
       "      <th>sei_markup_18</th>\n",
       "      <th>sei_markup_19</th>\n",
       "    </tr>\n",
       "  </thead>\n",
       "  <tbody>\n",
       "    <tr>\n",
       "      <th>0</th>\n",
       "      <td>0.0</td>\n",
       "      <td>0.0</td>\n",
       "      <td>0.0</td>\n",
       "      <td>0.0</td>\n",
       "      <td>0.1851</td>\n",
       "      <td>0.261796</td>\n",
       "      <td>0.17364</td>\n",
       "      <td>0.240288</td>\n",
       "      <td>0.294364</td>\n",
       "      <td>0.226905</td>\n",
       "      <td>...</td>\n",
       "      <td>0.246397</td>\n",
       "      <td>0.304951</td>\n",
       "      <td>0.188979</td>\n",
       "      <td>0.201515</td>\n",
       "      <td>0.214049</td>\n",
       "      <td>0.195579</td>\n",
       "      <td>0.194259</td>\n",
       "      <td>0.185985</td>\n",
       "      <td>0.226806</td>\n",
       "      <td>0.158702</td>\n",
       "    </tr>\n",
       "    <tr>\n",
       "      <th>1</th>\n",
       "      <td>0.0</td>\n",
       "      <td>0.0</td>\n",
       "      <td>NaN</td>\n",
       "      <td>NaN</td>\n",
       "      <td>0.1851</td>\n",
       "      <td>0.261796</td>\n",
       "      <td>0.17364</td>\n",
       "      <td>0.240288</td>\n",
       "      <td>0.294364</td>\n",
       "      <td>0.226905</td>\n",
       "      <td>...</td>\n",
       "      <td>0.246397</td>\n",
       "      <td>0.304951</td>\n",
       "      <td>0.188979</td>\n",
       "      <td>0.201515</td>\n",
       "      <td>0.214049</td>\n",
       "      <td>0.195579</td>\n",
       "      <td>0.194259</td>\n",
       "      <td>0.185985</td>\n",
       "      <td>0.226806</td>\n",
       "      <td>0.158702</td>\n",
       "    </tr>\n",
       "    <tr>\n",
       "      <th>2</th>\n",
       "      <td>0.0</td>\n",
       "      <td>0.0</td>\n",
       "      <td>NaN</td>\n",
       "      <td>NaN</td>\n",
       "      <td>0.1851</td>\n",
       "      <td>0.261796</td>\n",
       "      <td>0.17364</td>\n",
       "      <td>0.240288</td>\n",
       "      <td>0.294364</td>\n",
       "      <td>0.226905</td>\n",
       "      <td>...</td>\n",
       "      <td>0.246397</td>\n",
       "      <td>0.304951</td>\n",
       "      <td>0.188979</td>\n",
       "      <td>0.201515</td>\n",
       "      <td>0.214049</td>\n",
       "      <td>0.195579</td>\n",
       "      <td>0.194259</td>\n",
       "      <td>0.185985</td>\n",
       "      <td>0.226806</td>\n",
       "      <td>0.158702</td>\n",
       "    </tr>\n",
       "    <tr>\n",
       "      <th>3</th>\n",
       "      <td>0.0</td>\n",
       "      <td>0.0</td>\n",
       "      <td>NaN</td>\n",
       "      <td>NaN</td>\n",
       "      <td>0.1851</td>\n",
       "      <td>0.261796</td>\n",
       "      <td>0.17364</td>\n",
       "      <td>0.240288</td>\n",
       "      <td>0.294364</td>\n",
       "      <td>0.226905</td>\n",
       "      <td>...</td>\n",
       "      <td>0.246397</td>\n",
       "      <td>0.304951</td>\n",
       "      <td>0.188979</td>\n",
       "      <td>0.201515</td>\n",
       "      <td>0.214049</td>\n",
       "      <td>0.195579</td>\n",
       "      <td>0.194259</td>\n",
       "      <td>0.185985</td>\n",
       "      <td>0.226806</td>\n",
       "      <td>0.158702</td>\n",
       "    </tr>\n",
       "    <tr>\n",
       "      <th>4</th>\n",
       "      <td>0.0</td>\n",
       "      <td>0.0</td>\n",
       "      <td>NaN</td>\n",
       "      <td>NaN</td>\n",
       "      <td>0.1851</td>\n",
       "      <td>0.261796</td>\n",
       "      <td>0.17364</td>\n",
       "      <td>0.240288</td>\n",
       "      <td>0.294364</td>\n",
       "      <td>0.226905</td>\n",
       "      <td>...</td>\n",
       "      <td>0.246397</td>\n",
       "      <td>0.304951</td>\n",
       "      <td>0.188979</td>\n",
       "      <td>0.201515</td>\n",
       "      <td>0.214049</td>\n",
       "      <td>0.195579</td>\n",
       "      <td>0.194259</td>\n",
       "      <td>0.185985</td>\n",
       "      <td>0.226806</td>\n",
       "      <td>0.158702</td>\n",
       "    </tr>\n",
       "  </tbody>\n",
       "</table>\n",
       "<p>5 rows × 24 columns</p>\n",
       "</div>"
      ],
      "text/plain": [
       "   N_installed  N_installed_sum  P_av_total  P_av  sei_markup_0  sei_markup_1  \\\n",
       "0          0.0              0.0         0.0   0.0        0.1851      0.261796   \n",
       "1          0.0              0.0         NaN   NaN        0.1851      0.261796   \n",
       "2          0.0              0.0         NaN   NaN        0.1851      0.261796   \n",
       "3          0.0              0.0         NaN   NaN        0.1851      0.261796   \n",
       "4          0.0              0.0         NaN   NaN        0.1851      0.261796   \n",
       "\n",
       "   sei_markup_2  sei_markup_3  sei_markup_4  sei_markup_5      ...        \\\n",
       "0       0.17364      0.240288      0.294364      0.226905      ...         \n",
       "1       0.17364      0.240288      0.294364      0.226905      ...         \n",
       "2       0.17364      0.240288      0.294364      0.226905      ...         \n",
       "3       0.17364      0.240288      0.294364      0.226905      ...         \n",
       "4       0.17364      0.240288      0.294364      0.226905      ...         \n",
       "\n",
       "   sei_markup_10  sei_markup_11  sei_markup_12  sei_markup_13  sei_markup_14  \\\n",
       "0       0.246397       0.304951       0.188979       0.201515       0.214049   \n",
       "1       0.246397       0.304951       0.188979       0.201515       0.214049   \n",
       "2       0.246397       0.304951       0.188979       0.201515       0.214049   \n",
       "3       0.246397       0.304951       0.188979       0.201515       0.214049   \n",
       "4       0.246397       0.304951       0.188979       0.201515       0.214049   \n",
       "\n",
       "   sei_markup_15  sei_markup_16  sei_markup_17  sei_markup_18  sei_markup_19  \n",
       "0       0.195579       0.194259       0.185985       0.226806       0.158702  \n",
       "1       0.195579       0.194259       0.185985       0.226806       0.158702  \n",
       "2       0.195579       0.194259       0.185985       0.226806       0.158702  \n",
       "3       0.195579       0.194259       0.185985       0.226806       0.158702  \n",
       "4       0.195579       0.194259       0.185985       0.226806       0.158702  \n",
       "\n",
       "[5 rows x 24 columns]"
      ]
     },
     "execution_count": 18,
     "metadata": {},
     "output_type": "execute_result"
    }
   ],
   "source": [
    "dfs_w_std[0].head()"
   ]
  },
  {
   "cell_type": "code",
   "execution_count": 19,
   "metadata": {
    "collapsed": true
   },
   "outputs": [],
   "source": [
    "colors_ = ['orange', 'olive', 'olive','olive', 'lightcyan'] \n",
    "colors_ = ['orange', 'red', 'yellow','green', 'lightcyan'] "
   ]
  },
  {
   "cell_type": "code",
   "execution_count": 20,
   "metadata": {
    "collapsed": false
   },
   "outputs": [],
   "source": [
    "dfs_logs[-1]['SumEParamTypes::HOStateDroppedOutTickNCDecStage'] = dfs_logs[-1]['EParamTypes::HOStateDroppedOutTickNCDecStage'].cumsum()\n",
    "dfs_logs[-1]['SumEParamTypes::HOStateDroppedOutTickSEIStage'] = dfs_logs[-1]['EParamTypes::HOStateDroppedOutTickSEIStage'].cumsum()\n",
    "dfs_logs[-1]['SumEParamTypes::HOStateDroppedOutTickDesignStage'] = dfs_logs[-1]['EParamTypes::HOStateDroppedOutTickDesignStage'].cumsum()"
   ]
  },
  {
   "cell_type": "code",
   "execution_count": 21,
   "metadata": {
    "collapsed": false
   },
   "outputs": [
    {
     "data": {
      "image/png": "[encoded data removed]",
      "text/plain": [
       "<matplotlib.figure.Figure at 0x279bbb7db70>"
      ]
     },
     "metadata": {},
     "output_type": "display_data"
    }
   ],
   "source": [
    "#number of dropouts as stacked bars\n",
    "data_mode = 'permit_bm_'\n",
    "test_mode = 'drops'\n",
    "fig, axes_ = plt.subplots(nrows=1, ncols=1)\n",
    "fig.subplots_adjust(bottom=0.25)\n",
    "\n",
    "#reverse order of simulations\n",
    "#df_logs = dfs_logs[-1]\n",
    "\n",
    "#if ncols = 1  - transform into list\n",
    "par1 = axes_.twinx()\n",
    "axes = [axes_, par1]\n",
    "\n",
    "#baseline\n",
    "df_logs = dfs_logs[-1]\n",
    "\n",
    "#axes_0_tw = axes[0].twinx()\n",
    "\n",
    "ind = np.arange(N_TICKS)    # the x locations for the groups\n",
    "width = 0.35       # the width of the bars: can also be len(x) sequence\n",
    "\n",
    "ind = df_logs.index.values[N_TICKS_BURN:N_TICKS_BURN + N_TICKS_DISPLAY] + 1\n",
    "\n",
    "lines = []\n",
    "i = 0\n",
    "\n",
    "markers = [\"ro\", \"r^\", \"r*\"]\n",
    "markerfacecolors = colors_\n",
    "colors_l = ['r', 'r', 'r']\n",
    "labels_raw = [\"nc\", \"inst\", \"sys\"]\n",
    "labels = ['baseline ' + x for x in labels_raw]\n",
    "data_ = []\n",
    "markers_ = []\n",
    "labels_ = []\n",
    "colors_graph_ = []\n",
    "data_columns = ['SumEParamTypes::HOStateDroppedOutTickNCDecStage',\\\n",
    "                   'SumEParamTypes::HOStateDroppedOutTickSEIStage',\\\n",
    "                   'SumEParamTypes::HOStateDroppedOutTickDesignStage',\\\n",
    "                   'EParamTypes::HONumberActiveAgents']\n",
    "\n",
    "for column in data_columns[0:3]:\n",
    "    data_.append(df_logs[column][N_TICKS_BURN:N_TICKS_BURN + N_TICKS_DISPLAY]/10000)\n",
    "    markers_.append(markers[i])\n",
    "    labels_.append(labels[i])\n",
    "    colors_graph_.append(colors_[i])\n",
    "\n",
    "    i = i + 1\n",
    "    \n",
    "pi = axes[0].stackplot(ind, data_, colors=tuple(['lemonchiffon', 'yellowgreen', 'coral']), labels=tuple(labels_))\n",
    "    \n",
    "\n",
    "\n",
    "for pi_ in pi:\n",
    "    lines.append(pi_)\n",
    "\n",
    "    \n",
    "markers = [\"go\", \"g^\", \"g*\"]\n",
    "colors_l = ['g', 'g', 'g']\n",
    "labels = ['high ef ' + x for x in labels_raw]\n",
    "\n",
    "   \n",
    "\n",
    "axes[0].set_xlabel(\"Time\")\n",
    "axes[0].set_ylabel(\"Dropouts as a share of population\")\n",
    "\n",
    "\n",
    "#axes[0].set_autoscaley_on(False)\n",
    "axes[0].set_xlim([N_TICKS_BURN +1,N_TICKS_BURN +N_TICKS_DISPLAY])\n",
    "#axes_0_tw.set_ylim([0.0, 5.0])\n",
    "start = N_TICKS_BURN +1\n",
    "end = N_TICKS_BURN +N_TICKS_DISPLAY\n",
    "axes[0].xaxis.set_ticks(np.arange(start, end, 25))\n",
    "\n",
    "\n",
    "\n",
    "\n",
    "# Shrink current axis's height by 10% on the bottom\n",
    "box = axes[0].get_position()\n",
    "axes[0].set_position([box.x0, box.y0 + box.height * 0.2,\n",
    "                 box.width, box.height * 0.8])\n",
    "\n",
    "# Put a legend below current axis\n",
    "lgd = axes[0].legend(lines, [l.get_label() for l in lines], loc='upper center', bbox_to_anchor=(0.5, -0.15),\\\n",
    "          fancybox=True, shadow=True, fontsize='10', ncol = 2)\n",
    "\n",
    "\n",
    "markers = [\"o-\", \"--\", \"--\", \"--\", \"*-\"]\n",
    "markerfacecolors = colors_\n",
    "colors_l = ['r', 'r', 'r']\n",
    "labels = ['tariff ' + str(x) for x in np.linspace(0.0,0.3,N_TESTS,endpoint=True)]\n",
    "\n",
    "#number of installs\n",
    "pi, = axes[1].plot(ind, dfs_w[-1]['N_installed_sum'][N_TICKS_BURN:N_TICKS_BURN + N_TICKS_DISPLAY]/10000, markers[1], linewidth=5)\n",
    "\n",
    "axes[1].set_ylabel(\"Total installs as a share of population\")\n",
    "\n",
    "\n",
    "plt.tight_layout()\n",
    "plt.savefig('Simulation_results_' + data_mode + test_mode + '_May22' + '.png', dpi=300, bbox_extra_artists=(lgd,), bbox_inches='tight')\n",
    "plt.show()"
   ]
  },
  {
   "cell_type": "code",
   "execution_count": 22,
   "metadata": {
    "collapsed": false
   },
   "outputs": [
    {
     "name": "stdout",
     "output_type": "stream",
     "text": [
      "5\n",
      "5\n"
     ]
    }
   ],
   "source": [
    "print(len(dfs_logs))\n",
    "print(N_TESTS)"
   ]
  },
  {
   "cell_type": "code",
   "execution_count": 23,
   "metadata": {
    "collapsed": false
   },
   "outputs": [
    {
     "data": {
      "text/plain": [
       "715.25"
      ]
     },
     "execution_count": 23,
     "metadata": {},
     "output_type": "execute_result"
    }
   ],
   "source": [
    "dfs_w[0]['N_installed_sum'].values[N_TICKS_BURN +N_TICKS_DISPLAY]"
   ]
  },
  {
   "cell_type": "code",
   "execution_count": 24,
   "metadata": {
    "collapsed": false
   },
   "outputs": [],
   "source": [
    "data_columns = ['EParamTypes::HOStateDroppedOutNCDecStage',\\\n",
    "                   'EParamTypes::HOStateDroppedOutSEIStage',\\\n",
    "                   'EParamTypes::HOStateDroppedOutDesignStage']\n",
    "\n",
    "data_drops = []\n",
    "column_i = 0\n",
    "for column in data_columns[0:3]:\n",
    "    data_drops.append([])\n",
    "\n",
    "    for i in range(N_TESTS):\n",
    "        #print(dfs_logs[i][column][N_TICKS_BURN+N_TICKS_DISPLAY-1:N_TICKS_BURN +N_TICKS_DISPLAY].values[-1])\n",
    "        data_drops[column_i].append(dfs_logs[i][column][N_TICKS_BURN+N_TICKS_DISPLAY-1:N_TICKS_BURN +N_TICKS_DISPLAY].values[-1]\\\n",
    "                                    /dfs_w[i]['N_installed_sum'].values[N_TICKS_BURN +N_TICKS_DISPLAY])\n",
    "    column_i = column_i + 1     \n"
   ]
  },
  {
   "cell_type": "code",
   "execution_count": 25,
   "metadata": {
    "collapsed": false
   },
   "outputs": [
    {
     "name": "stdout",
     "output_type": "stream",
     "text": [
      "[[5.6459779297947765, 5.4438664205403589, 5.6723146823304971, 5.541782661782662, 5.3194942441970179], [1.3054376591601338, 1.2556277419509505, 1.3378517458643973, 1.2721855921855922, 1.2464615965276467], [0.74299695411194888, 0.70232301680531239, 0.74182292843336595, 0.71931623931623934, 0.70673712021136059]]\n"
     ]
    }
   ],
   "source": [
    "print(data_drops)"
   ]
  },
  {
   "cell_type": "code",
   "execution_count": 26,
   "metadata": {
    "collapsed": false
   },
   "outputs": [
    {
     "name": "stdout",
     "output_type": "stream",
     "text": [
      "[[5.6459779297947765, 5.4438664205403589, 5.6723146823304971, 5.541782661782662, 5.3194942441970179]]\n"
     ]
    }
   ],
   "source": [
    "data_drops_acc = [[data_drops[0][i] for i in range(N_TESTS)]]\n",
    "print(data_drops_acc)\n",
    "        "
   ]
  },
  {
   "cell_type": "code",
   "execution_count": 27,
   "metadata": {
    "collapsed": false
   },
   "outputs": [
    {
     "name": "stdout",
     "output_type": "stream",
     "text": [
      "[[5.6459779297947765, 5.4438664205403589, 5.6723146823304971, 5.541782661782662, 5.3194942441970179], [6.9514155889549105, 6.6994941624913089, 7.0101664281948946, 6.8139682539682545, 6.5659558407246648], [7.6944125430668597, 7.4018171792966214, 7.7519893566282603, 7.5332844932844942, 7.2726929609360251]]\n"
     ]
    }
   ],
   "source": [
    "for i in range(1, len(data_drops), 1):\n",
    "    data_drops_acc.append([])\n",
    "    #print(data_drops_acc)\n",
    "    for j in range(0, N_TESTS, 1):\n",
    "        data_drops_acc[i].append(data_drops_acc[i-1][j] + data_drops[i][j])\n",
    "        \n",
    "print(data_drops_acc)"
   ]
  },
  {
   "cell_type": "code",
   "execution_count": 28,
   "metadata": {
    "collapsed": false
   },
   "outputs": [
    {
     "name": "stdout",
     "output_type": "stream",
     "text": [
      "0.231215508702\n",
      "0.230649991193\n",
      "0.235856404447\n",
      "0.229562519829\n",
      "0.234319568611\n"
     ]
    }
   ],
   "source": [
    "for i in range(len(data_drops[0])):\n",
    "    print(data_drops[1][i]/data_drops[0][i])"
   ]
  },
  {
   "cell_type": "code",
   "execution_count": 29,
   "metadata": {
    "collapsed": false
   },
   "outputs": [
    {
     "name": "stdout",
     "output_type": "stream",
     "text": [
      "0.131597566153\n",
      "0.129011802008\n",
      "0.130779579409\n",
      "0.129798709768\n",
      "0.132857953739\n"
     ]
    }
   ],
   "source": [
    "for i in range(len(data_drops[0])):\n",
    "    print(data_drops[2][i]/data_drops[0][i])"
   ]
  },
  {
   "cell_type": "code",
   "execution_count": 30,
   "metadata": {
    "collapsed": false
   },
   "outputs": [
    {
     "data": {
      "text/plain": [
       "3"
      ]
     },
     "execution_count": 30,
     "metadata": {},
     "output_type": "execute_result"
    }
   ],
   "source": [
    "len(data_columns)"
   ]
  },
  {
   "cell_type": "code",
   "execution_count": 31,
   "metadata": {
    "collapsed": false
   },
   "outputs": [
    {
     "name": "stdout",
     "output_type": "stream",
     "text": [
      "[6.9514155889549105, 6.6994941624913089, 7.0101664281948946, 6.8139682539682545, 6.5659558407246648]\n",
      "[5.6459779297947765, 5.4438664205403589, 5.6723146823304971, 5.541782661782662, 5.3194942441970179]\n",
      "[7.6944125430668597, 7.4018171792966214, 7.7519893566282603, 7.5332844932844942, 7.2726929609360251]\n",
      "[6.9514155889549105, 6.6994941624913089, 7.0101664281948946, 6.8139682539682545, 6.5659558407246648]\n"
     ]
    },
    {
     "data": {
      "image/png": "[encoded data removed]",
      "text/plain": [
       "<matplotlib.figure.Figure at 0x279bbbd66a0>"
      ]
     },
     "metadata": {},
     "output_type": "display_data"
    }
   ],
   "source": [
    "#number of dropouts as stacked bars\n",
    "data_mode = 'permit_bm_'\n",
    "test_mode = 'drops_all_tariff'\n",
    "fig, axes_ = plt.subplots(nrows=1, ncols=1)\n",
    "fig.subplots_adjust(bottom=0.25)\n",
    "\n",
    "#if ncols = 1  - transform into list\n",
    "axes = [axes_]\n",
    "\n",
    "ind = np.arange(len(dfs_logs))    # the x locations for the groups\n",
    "width = 0.35       # the width of the bars: can also be len(x) sequence\n",
    "\n",
    "\n",
    "colors_drops = tuple(['whitesmoke', 'yellowgreen', 'coral'])\n",
    "\n",
    "#N_TESTS = len(dfs_logs)\n",
    "labels_raw = [\"nc\", \"inst\", \"sys\"]\n",
    "labels_hist = ['drop at ' + x for x in labels_raw]\n",
    "\n",
    "p1 = axes[0].bar(ind[0:N_TESTS], data_drops_acc[0][0:N_TESTS],\\\n",
    "                 width, color=colors_drops[0], label = labels_hist[0])\n",
    "lines = [p1]\n",
    "\n",
    "\n",
    "\n",
    "for bin_ in range(1, len(data_columns), 1):\n",
    "    print(data_drops_acc[bin_][0:N_TESTS])\n",
    "    print(data_drops_acc[bin_ - 1][0:N_TESTS])\n",
    "    p2 = axes[0].bar(ind[0:N_TESTS], \\\n",
    "                     data_drops[bin_][0:N_TESTS], \\\n",
    "                     width, color=colors_drops[bin_], \\\n",
    "                  bottom=data_drops_acc[bin_ - 1][0:N_TESTS], label = labels_hist[bin_])\n",
    "    lines.append(p2)\n",
    "    \n",
    "axes[0].set_xlabel(\"Test case\")\n",
    "axes[0].set_ylabel(\"Dropouts as a share of installed population\")\n",
    "#axes[0].set_title('Accumulated % installations \\n by the level \\n of income', fontsize=10)\n",
    "\n",
    "\n",
    "axes[0].set_xticks(ind[0:N_TESTS] + width / 2)\n",
    "axes[0].set_xticklabels(ind[0:N_TESTS])\n",
    "labels = ['tariff ' + str(x) for x in np.linspace(-0.5,1.5,N_TESTS,endpoint=True)]\n",
    "x_labels = labels\n",
    "axes[0].set_xticklabels(x_labels)\n",
    "\n",
    "# Put a legend below current axis\n",
    "lgd = axes[0].legend(lines, [l.get_label() for l in lines], loc='upper center', bbox_to_anchor=(0.5, -0.15),\\\n",
    "          fancybox=False, shadow=False, fontsize='10', ncol = 2)\n",
    "\n",
    "\n",
    "\n",
    "plt.tight_layout()\n",
    "plt.savefig('Simulation_results_' + data_mode + test_mode + '_May22' + '.png', dpi=300, bbox_extra_artists=(lgd,), bbox_inches='tight')\n",
    "plt.show()"
   ]
  },
  {
   "cell_type": "code",
   "execution_count": null,
   "metadata": {
    "collapsed": true
   },
   "outputs": [],
   "source": []
  },
  {
   "cell_type": "code",
   "execution_count": null,
   "metadata": {
    "collapsed": true
   },
   "outputs": [],
   "source": []
  },
  {
   "cell_type": "code",
   "execution_count": 52,
   "metadata": {
    "collapsed": false
   },
   "outputs": [
    {
     "name": "stdout",
     "output_type": "stream",
     "text": [
      "[0 1 2 3]\n"
     ]
    }
   ],
   "source": [
    "print(ind)"
   ]
  },
  {
   "cell_type": "code",
   "execution_count": null,
   "metadata": {
    "collapsed": true
   },
   "outputs": [],
   "source": [
    "#penetration by income group in time?\n",
    "#penetration by el bill in time? \n",
    "\n"
   ]
  },
  {
   "cell_type": "code",
   "execution_count": 121,
   "metadata": {
    "collapsed": false
   },
   "outputs": [
    {
     "name": "stdout",
     "output_type": "stream",
     "text": [
      "..\\..\\ABMIRISLab\\Saves\\Jan-11-2018\\BaseModel\\BaseVer02\\CA\\tariff0.3\\37ed7bcf-e806-4fe2-b2bd-2b652ec7bcfd_pr.csv\n",
      "..\\..\\ABMIRISLab\\Saves\\Jan-11-2018\\BaseModel\\BaseVer02\\CA\\tariff0.3\\29656eab-e4f9-4d65-92c2-d4bad48df315_pr.csv\n",
      "..\\..\\ABMIRISLab\\Saves\\Jan-11-2018\\BaseModel\\BaseVer02\\CA\\tariff0.3\\5ca7a082-1cb0-448c-8278-36425f94ad49_pr.csv\n",
      "..\\..\\ABMIRISLab\\Saves\\Jan-11-2018\\BaseModel\\BaseVer02\\CA\\tariff0.3\\c7b012ba-3ad5-40cc-81b1-2d92ba81cae8_pr.csv\n",
      "..\\..\\ABMIRISLab\\Saves\\Jan-11-2018\\BaseModel\\BaseVer02\\CA\\tariff0.3\\20cf97d0-c313-4815-b0e7-8a952ec0ca19_pr.csv\n",
      "..\\..\\ABMIRISLab\\Saves\\Jan-11-2018\\BaseModel\\BaseVer02\\CA\\tariff0.3\\1c784f8d-59fd-42ee-8b26-6c2e8c0d8558_pr.csv\n",
      "..\\..\\ABMIRISLab\\Saves\\Jan-11-2018\\BaseModel\\BaseVer02\\CA\\tariff0.3\\3aab8956-253b-4ccb-8a0d-9ba92eee7158_pr.csv\n",
      "..\\..\\ABMIRISLab\\Saves\\Jan-11-2018\\BaseModel\\BaseVer02\\CA\\tariff0.3\\f3cbc1de-38ce-4ac5-b4f0-7f193f542927_pr.csv\n"
     ]
    }
   ],
   "source": [
    "#location x, location y \n",
    "\n",
    "\n",
    "# for each line - place into location\n",
    "# average over locations\n",
    "#\n",
    "#\n",
    "\n",
    "N_TILES = 10\n",
    "N_SEEDS = 8\n",
    "\n",
    "test_mode = 'BaseVer02'\n",
    "data_mode = 'CA'\n",
    "\n",
    "#names of columns in a file\n",
    "names = ['Tick', 'Location_x', 'Location_y', 'Uid', 'Price_per_watt', 'DC_size', 'Origin', 'Mart_type']\n",
    "\n",
    "raw_data_per_tick = []\n",
    "raw_data_dfs_per_tick = []\n",
    "tick_bins = []\n",
    "for i in range(4):\n",
    "    #to store final results\n",
    "    raw_data_per_tick.append(np.zeros((N_TILES, N_TILES)))\n",
    "    #to store intermediate results\n",
    "    raw_data_dfs_per_tick.append(np.zeros((N_SEEDS, N_TILES, N_TILES)))\n",
    "    #tick edges\n",
    "    tick_bins.append(N_TICKS/4 *(i))\n",
    "\n",
    "\n",
    "#here only baseline scenario is analyzed    \n",
    "params_versions = [str(x) for x in np.linspace(0.0,0.3,N_TESTS,endpoint=False)]\n",
    "    \n",
    "#read few files\n",
    "#save into database\n",
    "dfs_ = []\n",
    "#read last simulation result\n",
    "files = glob.glob('..\\\\..\\\\ABMIRISLab\\\\Saves\\\\Jan-11-2018\\\\BaseModel\\\\'+ test_mode + '\\\\' + data_mode + \\\n",
    "                 '\\\\tariff' + str(0.3) + '\\\\*[_pr].csv')\n",
    "files.sort(key=os.path.getmtime, reverse=True)\n",
    "\n",
    "#take top x files, assume only one type of a simulation run in a folder \n",
    "i_run = 0\n",
    "\n",
    "for file in files[i_run * N_SEEDS : (i_run + 1) * N_SEEDS]:\n",
    "    print(file)\n",
    "    df_ = pd.read_csv(file, names=names, low_memory=False, na_values = ['-nan(ind)'])\n",
    "    dfs_.append(df_)\n",
    "\n",
    "    \n",
    "raw_data_dfs = np.zeros((len(dfs_), N_TILES, N_TILES))\n",
    "\n",
    "indexes = [0.0, 0.0, 0.0, 0.0]\n",
    "\n",
    "k = 0\n",
    "for df_ in dfs_:\n",
    "    \n",
    "    \n",
    "    \n",
    "    for i in range(N_TILES):\n",
    "        for j in range(N_TILES):\n",
    "            index = df_[(df_['Location_x'] == i) & \\\n",
    "                        (df_['Location_y'] == j)].index \n",
    "                             \n",
    "            indexes[0] = df_[(df_['Location_x'] == i) & \\\n",
    "                        (df_['Location_y'] == j) & \\\n",
    "                         (df_['Tick'] < tick_bins[0])].index\n",
    "            \n",
    "            indexes[1] = df_[(df_['Location_x'] == i) & \\\n",
    "                        (df_['Location_y'] == j) & \\\n",
    "                         (df_['Tick'] < tick_bins[1])].index\n",
    "            \n",
    "            indexes[2] = df_[(df_['Location_x'] == i) & \\\n",
    "                        (df_['Location_y'] == j) & \\\n",
    "                         (df_['Tick'] < tick_bins[2])].index\n",
    "                             \n",
    "            raw_data_dfs_per_tick[0][k, i, j] = df_.iloc[indexes[0]].shape[0]\n",
    "            raw_data_dfs_per_tick[1][k, i, j] = df_.iloc[indexes[1]].shape[0]\n",
    "            raw_data_dfs_per_tick[2][k, i, j] = df_.iloc[indexes[2]].shape[0]\n",
    "            raw_data_dfs_per_tick[-1][k, i, j] = df_.iloc[index].shape[0]\n",
    "            \n",
    "    k = k + 1\n",
    "    \n",
    "    raw_data_per_tick[0] = np.mean(raw_data_dfs_per_tick[0], axis = 0)\n",
    "    raw_data_per_tick[1] = np.mean(raw_data_dfs_per_tick[1], axis = 0)\n",
    "    raw_data_per_tick[2] = np.mean(raw_data_dfs_per_tick[2], axis = 0)\n",
    "    raw_data_per_tick[-1] = np.mean(raw_data_dfs_per_tick[-1], axis = 0)\n",
    "    \n",
    "    \n",
    "#create df from them    \n",
    "dfs_inst = dfs_\n",
    "\n",
    "#blank first step\n",
    "raw_data_per_tick[0] = np.zeros((N_TILES, N_TILES)) + 0.01"
   ]
  },
  {
   "cell_type": "code",
   "execution_count": 122,
   "metadata": {
    "collapsed": false
   },
   "outputs": [
    {
     "data": {
      "text/html": [
       "<div>\n",
       "<table border=\"1\" class=\"dataframe\">\n",
       "  <thead>\n",
       "    <tr style=\"text-align: right;\">\n",
       "      <th></th>\n",
       "      <th>Tick</th>\n",
       "      <th>Location_x</th>\n",
       "      <th>Location_y</th>\n",
       "      <th>Uid</th>\n",
       "      <th>Price_per_watt</th>\n",
       "      <th>DC_size</th>\n",
       "      <th>Mart_type</th>\n",
       "    </tr>\n",
       "  </thead>\n",
       "  <tbody>\n",
       "    <tr>\n",
       "      <th>0</th>\n",
       "      <td>37</td>\n",
       "      <td>9</td>\n",
       "      <td>2</td>\n",
       "      <td>43</td>\n",
       "      <td>2.8</td>\n",
       "      <td>2749.75</td>\n",
       "      <td>0</td>\n",
       "    </tr>\n",
       "    <tr>\n",
       "      <th>1</th>\n",
       "      <td>55</td>\n",
       "      <td>8</td>\n",
       "      <td>1</td>\n",
       "      <td>51</td>\n",
       "      <td>2.8</td>\n",
       "      <td>1820.13</td>\n",
       "      <td>0</td>\n",
       "    </tr>\n",
       "    <tr>\n",
       "      <th>2</th>\n",
       "      <td>45</td>\n",
       "      <td>4</td>\n",
       "      <td>5</td>\n",
       "      <td>55</td>\n",
       "      <td>2.8</td>\n",
       "      <td>3920.07</td>\n",
       "      <td>0</td>\n",
       "    </tr>\n",
       "    <tr>\n",
       "      <th>3</th>\n",
       "      <td>54</td>\n",
       "      <td>6</td>\n",
       "      <td>7</td>\n",
       "      <td>44</td>\n",
       "      <td>2.8</td>\n",
       "      <td>7000.12</td>\n",
       "      <td>0</td>\n",
       "    </tr>\n",
       "    <tr>\n",
       "      <th>4</th>\n",
       "      <td>55</td>\n",
       "      <td>8</td>\n",
       "      <td>2</td>\n",
       "      <td>40</td>\n",
       "      <td>2.8</td>\n",
       "      <td>4674.57</td>\n",
       "      <td>0</td>\n",
       "    </tr>\n",
       "  </tbody>\n",
       "</table>\n",
       "</div>"
      ],
      "text/plain": [
       "   Tick  Location_x  Location_y  Uid  Price_per_watt  DC_size  Mart_type\n",
       "0    37           9           2   43             2.8  2749.75          0\n",
       "1    55           8           1   51             2.8  1820.13          0\n",
       "2    45           4           5   55             2.8  3920.07          0\n",
       "3    54           6           7   44             2.8  7000.12          0\n",
       "4    55           8           2   40             2.8  4674.57          0"
      ]
     },
     "execution_count": 122,
     "metadata": {},
     "output_type": "execute_result"
    }
   ],
   "source": [
    "dfs_inst[-1].head(5)"
   ]
  },
  {
   "cell_type": "code",
   "execution_count": 102,
   "metadata": {
    "collapsed": false
   },
   "outputs": [],
   "source": [
    "#define min and max installs\n",
    "max_installs = np.amax(raw_data_per_tick[3])\n",
    "min_installs = 0 "
   ]
  },
  {
   "cell_type": "code",
   "execution_count": 103,
   "metadata": {
    "collapsed": true
   },
   "outputs": [],
   "source": [
    "def truncate_colormap(cmap, minval=0.0, maxval=1.0, n=100):\n",
    "    new_cmap = colors.LinearSegmentedColormap.from_list(\n",
    "        'trunc({n},{a:.2f},{b:.2f})'.format(n=cmap.name, a=minval, b=maxval),\n",
    "        cmap(np.linspace(minval, maxval, n)))\n",
    "    return new_cmap"
   ]
  },
  {
   "cell_type": "code",
   "execution_count": 104,
   "metadata": {
    "collapsed": false
   },
   "outputs": [],
   "source": [
    "cmap = cm.get_cmap('Greys')\n",
    "new_cmap = truncate_colormap(cmap, 0.2, 0.8)"
   ]
  },
  {
   "cell_type": "code",
   "execution_count": 105,
   "metadata": {
    "collapsed": false
   },
   "outputs": [],
   "source": [
    "raw_data_per_tick_norm = [0.0, 0.0, 0.0, 0.0]\n",
    "for i in range(4):\n",
    "    raw_data_per_tick_norm[i] = raw_data_per_tick[i] / max_installs"
   ]
  },
  {
   "cell_type": "code",
   "execution_count": 20,
   "metadata": {
    "collapsed": false
   },
   "outputs": [
    {
     "name": "stderr",
     "output_type": "stream",
     "text": [
      "C:\\Users\\wilfeli\\Anaconda3\\envs\\aimacro\\lib\\site-packages\\ipykernel\\__main__.py:13: VisibleDeprecationWarning: using a non-integer number instead of an integer will result in an error in the future\n",
      "C:\\Users\\wilfeli\\Anaconda3\\envs\\aimacro\\lib\\site-packages\\ipykernel\\__main__.py:18: VisibleDeprecationWarning: using a non-integer number instead of an integer will result in an error in the future\n",
      "C:\\Users\\wilfeli\\Anaconda3\\envs\\aimacro\\lib\\site-packages\\ipykernel\\__main__.py:19: VisibleDeprecationWarning: using a non-integer number instead of an integer will result in an error in the future\n",
      "C:\\Users\\wilfeli\\Anaconda3\\envs\\aimacro\\lib\\site-packages\\ipykernel\\__main__.py:21: VisibleDeprecationWarning: using a non-integer number instead of an integer will result in an error in the future\n",
      "C:\\Users\\wilfeli\\Anaconda3\\envs\\aimacro\\lib\\site-packages\\ipykernel\\__main__.py:22: VisibleDeprecationWarning: using a non-integer number instead of an integer will result in an error in the future\n",
      "C:\\Users\\wilfeli\\Anaconda3\\envs\\aimacro\\lib\\site-packages\\ipykernel\\__main__.py:24: VisibleDeprecationWarning: using a non-integer number instead of an integer will result in an error in the future\n",
      "C:\\Users\\wilfeli\\Anaconda3\\envs\\aimacro\\lib\\site-packages\\ipykernel\\__main__.py:25: VisibleDeprecationWarning: using a non-integer number instead of an integer will result in an error in the future\n",
      "C:\\Users\\wilfeli\\Anaconda3\\envs\\aimacro\\lib\\site-packages\\ipykernel\\__main__.py:27: VisibleDeprecationWarning: using a non-integer number instead of an integer will result in an error in the future\n",
      "C:\\Users\\wilfeli\\Anaconda3\\envs\\aimacro\\lib\\site-packages\\ipykernel\\__main__.py:31: VisibleDeprecationWarning: using a non-integer number instead of an integer will result in an error in the future\n",
      "C:\\Users\\wilfeli\\Anaconda3\\envs\\aimacro\\lib\\site-packages\\ipykernel\\__main__.py:45: VisibleDeprecationWarning: using a non-integer number instead of an integer will result in an error in the future\n",
      "C:\\Users\\wilfeli\\Anaconda3\\envs\\aimacro\\lib\\site-packages\\ipykernel\\__main__.py:46: VisibleDeprecationWarning: using a non-integer number instead of an integer will result in an error in the future\n",
      "C:\\Users\\wilfeli\\Anaconda3\\envs\\aimacro\\lib\\site-packages\\ipykernel\\__main__.py:48: VisibleDeprecationWarning: using a non-integer number instead of an integer will result in an error in the future\n"
     ]
    },
    {
     "data": {
      "image/png": "[encoded data removed]",
      "text/plain": [
       "<matplotlib.figure.Figure at 0x1d70abfe160>"
      ]
     },
     "metadata": {},
     "output_type": "display_data"
    }
   ],
   "source": [
    "fig, axes = plt.subplots(nrows=2, ncols=2)\n",
    "#fig.subplots_adjust(bottom=0.5)\n",
    "\n",
    "\n",
    "for i in range(4):\n",
    "    lines = []\n",
    "\n",
    "#    cmap_custom = cm.get_cmap('YlGn')\n",
    "    cmap_custom = cm.get_cmap('Greys')\n",
    "    #cmap_custom = new_cmap\n",
    "\n",
    "    #image = np.random.uniform(size=(10, 10))\n",
    "    axes[i/2, i%2].imshow(raw_data_per_tick[i], cmap=cmap_custom, interpolation='nearest', vmin=0, vmax=max_installs)\n",
    "\n",
    "    #ax.set_title('Number of installations \\n in a neighborhood')\n",
    "\n",
    "    # Move left and bottom spines outward by 10 points\n",
    "    axes[i/2, i%2].spines['left'].set_position(('outward', 10))\n",
    "    axes[i/2, i%2].spines['bottom'].set_position(('outward', 10))\n",
    "    # Hide the right and top spines\n",
    "    axes[i/2, i%2].spines['right'].set_visible(False)\n",
    "    axes[i/2, i%2].spines['top'].set_visible(False)\n",
    "    # Only show ticks on the left and bottom spines\n",
    "    axes[i/2, i%2].yaxis.set_ticks_position('left')\n",
    "    axes[i/2, i%2].xaxis.set_ticks_position('bottom')\n",
    "    \n",
    "    for tick in axes[i/2, i%2].get_xticklabels():\n",
    "        tick.set_rotation(90)\n",
    "        tick.set_fontsize('x-small')\n",
    "        \n",
    "    for tick in axes[i/2, i%2].get_yticklabels():\n",
    "        tick.set_fontsize('x-small')\n",
    "\n",
    "    labels_ = ['mi']\n",
    "    xs = range(10)\n",
    "\n",
    "    from matplotlib.ticker import FuncFormatter, MaxNLocator\n",
    "    def format_fn(tick_val, tick_pos):\n",
    "        if int(tick_val) in xs:\n",
    "            return str(tick_val * 1.5) + ' ' + labels_[0]\n",
    "        else:\n",
    "            return ''\n",
    "\n",
    "\n",
    "    axes[i/2, i%2].xaxis.set_major_formatter(FuncFormatter(format_fn))\n",
    "    axes[i/2, i%2].yaxis.set_major_formatter(FuncFormatter(format_fn))\n",
    "\n",
    "    axes[i/2, i%2].grid(False)\n",
    "\n",
    "\n",
    "\n",
    "\n",
    "#    handles, labels = ax.get_legend_handles_labels()\n",
    "\n",
    "    # Put a legend below current axis\n",
    "    #lgd = ax.legend(handles, ['test'], loc='lower center', bbox_to_anchor=(0.5, -0.25),\\\n",
    "    #          fancybox=True, shadow=True, fontsize='10', ncol = 2)\n",
    "\n",
    "    \n",
    "#add comment to the first plot\n",
    "font = {'family': 'serif',\n",
    "        'color':  'darkolivegreen',\n",
    "        'weight': 'normal',\n",
    "        'size': 10,\n",
    "        }\n",
    "axes[0,0].text(0.0, 5.0, 'uniform zero', fontdict=font)\n",
    "    \n",
    "\n",
    "plt.tight_layout()\n",
    "data_mode = 'test'\n",
    "plt.savefig('Simulation_results_spatial_' + data_mode + '_Mar14' + '.png', dpi=300)\n",
    "\n",
    "plt.show()"
   ]
  },
  {
   "cell_type": "code",
   "execution_count": 21,
   "metadata": {
    "collapsed": true
   },
   "outputs": [],
   "source": [
    "#redo bubbles figure"
   ]
  },
  {
   "cell_type": "code",
   "execution_count": 123,
   "metadata": {
    "collapsed": true
   },
   "outputs": [],
   "source": [
    "dfs_agg_inst = []\n",
    "for df_ in dfs_inst:\n",
    "\n",
    "    df_['Count'] = 1\n",
    "    grouped = df_.groupby('Uid', sort=False)\n",
    "    df_agg = grouped.agg({'Price_per_watt' : np.median,\\\n",
    "             'DC_size' : np.median, \\\n",
    "            'Count' : np.sum})\n",
    "    dfs_agg_inst.append(df_agg)\n",
    "    \n",
    "df_inst_all = pd.concat(dfs_agg_inst)\n",
    "df_inst_mean = df_agg.groupby(level=0).mean()"
   ]
  },
  {
   "cell_type": "code",
   "execution_count": 124,
   "metadata": {
    "collapsed": false
   },
   "outputs": [
    {
     "data": {
      "text/html": [
       "<div>\n",
       "<table border=\"1\" class=\"dataframe\">\n",
       "  <thead>\n",
       "    <tr style=\"text-align: right;\">\n",
       "      <th></th>\n",
       "      <th>Count</th>\n",
       "      <th>DC_size</th>\n",
       "      <th>Price_per_watt</th>\n",
       "    </tr>\n",
       "    <tr>\n",
       "      <th>Uid</th>\n",
       "      <th></th>\n",
       "      <th></th>\n",
       "      <th></th>\n",
       "    </tr>\n",
       "  </thead>\n",
       "  <tbody>\n",
       "    <tr>\n",
       "      <th>54</th>\n",
       "      <td>28</td>\n",
       "      <td>4533.330</td>\n",
       "      <td>2.51430</td>\n",
       "    </tr>\n",
       "    <tr>\n",
       "      <th>57</th>\n",
       "      <td>24</td>\n",
       "      <td>5175.890</td>\n",
       "      <td>2.61782</td>\n",
       "    </tr>\n",
       "    <tr>\n",
       "      <th>55</th>\n",
       "      <td>77</td>\n",
       "      <td>4768.280</td>\n",
       "      <td>2.48746</td>\n",
       "    </tr>\n",
       "    <tr>\n",
       "      <th>40</th>\n",
       "      <td>55</td>\n",
       "      <td>4399.600</td>\n",
       "      <td>2.59964</td>\n",
       "    </tr>\n",
       "    <tr>\n",
       "      <th>52</th>\n",
       "      <td>26</td>\n",
       "      <td>5362.005</td>\n",
       "      <td>2.63676</td>\n",
       "    </tr>\n",
       "    <tr>\n",
       "      <th>42</th>\n",
       "      <td>33</td>\n",
       "      <td>5499.490</td>\n",
       "      <td>2.60233</td>\n",
       "    </tr>\n",
       "    <tr>\n",
       "      <th>56</th>\n",
       "      <td>16</td>\n",
       "      <td>5226.090</td>\n",
       "      <td>2.51463</td>\n",
       "    </tr>\n",
       "    <tr>\n",
       "      <th>48</th>\n",
       "      <td>43</td>\n",
       "      <td>4160.680</td>\n",
       "      <td>2.60184</td>\n",
       "    </tr>\n",
       "    <tr>\n",
       "      <th>53</th>\n",
       "      <td>16</td>\n",
       "      <td>4140.710</td>\n",
       "      <td>2.52148</td>\n",
       "    </tr>\n",
       "    <tr>\n",
       "      <th>58</th>\n",
       "      <td>24</td>\n",
       "      <td>5520.950</td>\n",
       "      <td>2.52418</td>\n",
       "    </tr>\n",
       "    <tr>\n",
       "      <th>47</th>\n",
       "      <td>23</td>\n",
       "      <td>5060.570</td>\n",
       "      <td>2.58871</td>\n",
       "    </tr>\n",
       "    <tr>\n",
       "      <th>51</th>\n",
       "      <td>11</td>\n",
       "      <td>5459.720</td>\n",
       "      <td>2.53913</td>\n",
       "    </tr>\n",
       "    <tr>\n",
       "      <th>50</th>\n",
       "      <td>64</td>\n",
       "      <td>4501.090</td>\n",
       "      <td>2.48054</td>\n",
       "    </tr>\n",
       "    <tr>\n",
       "      <th>46</th>\n",
       "      <td>14</td>\n",
       "      <td>3576.210</td>\n",
       "      <td>2.50294</td>\n",
       "    </tr>\n",
       "    <tr>\n",
       "      <th>43</th>\n",
       "      <td>25</td>\n",
       "      <td>5033.180</td>\n",
       "      <td>2.45701</td>\n",
       "    </tr>\n",
       "    <tr>\n",
       "      <th>41</th>\n",
       "      <td>10</td>\n",
       "      <td>6051.265</td>\n",
       "      <td>2.59831</td>\n",
       "    </tr>\n",
       "    <tr>\n",
       "      <th>44</th>\n",
       "      <td>19</td>\n",
       "      <td>4125.860</td>\n",
       "      <td>2.48115</td>\n",
       "    </tr>\n",
       "    <tr>\n",
       "      <th>45</th>\n",
       "      <td>10</td>\n",
       "      <td>5405.615</td>\n",
       "      <td>2.48745</td>\n",
       "    </tr>\n",
       "    <tr>\n",
       "      <th>40</th>\n",
       "      <td>59</td>\n",
       "      <td>5290.600</td>\n",
       "      <td>2.47445</td>\n",
       "    </tr>\n",
       "    <tr>\n",
       "      <th>57</th>\n",
       "      <td>40</td>\n",
       "      <td>5693.475</td>\n",
       "      <td>2.60044</td>\n",
       "    </tr>\n",
       "  </tbody>\n",
       "</table>\n",
       "</div>"
      ],
      "text/plain": [
       "     Count   DC_size  Price_per_watt\n",
       "Uid                                 \n",
       "54      28  4533.330         2.51430\n",
       "57      24  5175.890         2.61782\n",
       "55      77  4768.280         2.48746\n",
       "40      55  4399.600         2.59964\n",
       "52      26  5362.005         2.63676\n",
       "42      33  5499.490         2.60233\n",
       "56      16  5226.090         2.51463\n",
       "48      43  4160.680         2.60184\n",
       "53      16  4140.710         2.52148\n",
       "58      24  5520.950         2.52418\n",
       "47      23  5060.570         2.58871\n",
       "51      11  5459.720         2.53913\n",
       "50      64  4501.090         2.48054\n",
       "46      14  3576.210         2.50294\n",
       "43      25  5033.180         2.45701\n",
       "41      10  6051.265         2.59831\n",
       "44      19  4125.860         2.48115\n",
       "45      10  5405.615         2.48745\n",
       "40      59  5290.600         2.47445\n",
       "57      40  5693.475         2.60044"
      ]
     },
     "execution_count": 124,
     "metadata": {},
     "output_type": "execute_result"
    }
   ],
   "source": [
    "df_inst_all.head(20)"
   ]
  },
  {
   "cell_type": "code",
   "execution_count": 107,
   "metadata": {
    "collapsed": false
   },
   "outputs": [
    {
     "data": {
      "text/html": [
       "<div>\n",
       "<table border=\"1\" class=\"dataframe\">\n",
       "  <thead>\n",
       "    <tr style=\"text-align: right;\">\n",
       "      <th></th>\n",
       "      <th>Count</th>\n",
       "      <th>DC_size</th>\n",
       "      <th>Price_per_watt</th>\n",
       "    </tr>\n",
       "    <tr>\n",
       "      <th>Uid</th>\n",
       "      <th></th>\n",
       "      <th></th>\n",
       "      <th></th>\n",
       "    </tr>\n",
       "  </thead>\n",
       "  <tbody>\n",
       "    <tr>\n",
       "      <th>40</th>\n",
       "      <td>41</td>\n",
       "      <td>4399.600</td>\n",
       "      <td>2.595290</td>\n",
       "    </tr>\n",
       "    <tr>\n",
       "      <th>41</th>\n",
       "      <td>50</td>\n",
       "      <td>5200.380</td>\n",
       "      <td>2.593990</td>\n",
       "    </tr>\n",
       "    <tr>\n",
       "      <th>42</th>\n",
       "      <td>64</td>\n",
       "      <td>5520.950</td>\n",
       "      <td>2.502640</td>\n",
       "    </tr>\n",
       "    <tr>\n",
       "      <th>43</th>\n",
       "      <td>36</td>\n",
       "      <td>4760.080</td>\n",
       "      <td>2.593150</td>\n",
       "    </tr>\n",
       "    <tr>\n",
       "      <th>44</th>\n",
       "      <td>50</td>\n",
       "      <td>5040.090</td>\n",
       "      <td>2.601570</td>\n",
       "    </tr>\n",
       "    <tr>\n",
       "      <th>45</th>\n",
       "      <td>22</td>\n",
       "      <td>5348.420</td>\n",
       "      <td>2.461145</td>\n",
       "    </tr>\n",
       "    <tr>\n",
       "      <th>46</th>\n",
       "      <td>55</td>\n",
       "      <td>4501.090</td>\n",
       "      <td>2.600780</td>\n",
       "    </tr>\n",
       "    <tr>\n",
       "      <th>47</th>\n",
       "      <td>37</td>\n",
       "      <td>4238.470</td>\n",
       "      <td>2.479600</td>\n",
       "    </tr>\n",
       "    <tr>\n",
       "      <th>48</th>\n",
       "      <td>65</td>\n",
       "      <td>4680.760</td>\n",
       "      <td>2.592880</td>\n",
       "    </tr>\n",
       "    <tr>\n",
       "      <th>49</th>\n",
       "      <td>28</td>\n",
       "      <td>4439.840</td>\n",
       "      <td>2.507620</td>\n",
       "    </tr>\n",
       "    <tr>\n",
       "      <th>50</th>\n",
       "      <td>53</td>\n",
       "      <td>4830.550</td>\n",
       "      <td>2.473760</td>\n",
       "    </tr>\n",
       "    <tr>\n",
       "      <th>51</th>\n",
       "      <td>31</td>\n",
       "      <td>4760.080</td>\n",
       "      <td>2.524070</td>\n",
       "    </tr>\n",
       "    <tr>\n",
       "      <th>52</th>\n",
       "      <td>26</td>\n",
       "      <td>4680.540</td>\n",
       "      <td>2.552660</td>\n",
       "    </tr>\n",
       "    <tr>\n",
       "      <th>53</th>\n",
       "      <td>2</td>\n",
       "      <td>6501.575</td>\n",
       "      <td>2.532085</td>\n",
       "    </tr>\n",
       "    <tr>\n",
       "      <th>54</th>\n",
       "      <td>31</td>\n",
       "      <td>5290.600</td>\n",
       "      <td>2.503670</td>\n",
       "    </tr>\n",
       "    <tr>\n",
       "      <th>55</th>\n",
       "      <td>49</td>\n",
       "      <td>3920.070</td>\n",
       "      <td>2.482930</td>\n",
       "    </tr>\n",
       "    <tr>\n",
       "      <th>56</th>\n",
       "      <td>29</td>\n",
       "      <td>5520.950</td>\n",
       "      <td>2.607580</td>\n",
       "    </tr>\n",
       "    <tr>\n",
       "      <th>57</th>\n",
       "      <td>5</td>\n",
       "      <td>5520.630</td>\n",
       "      <td>2.461280</td>\n",
       "    </tr>\n",
       "    <tr>\n",
       "      <th>58</th>\n",
       "      <td>16</td>\n",
       "      <td>5866.005</td>\n",
       "      <td>2.517540</td>\n",
       "    </tr>\n",
       "    <tr>\n",
       "      <th>59</th>\n",
       "      <td>19</td>\n",
       "      <td>4238.470</td>\n",
       "      <td>2.510510</td>\n",
       "    </tr>\n",
       "  </tbody>\n",
       "</table>\n",
       "</div>"
      ],
      "text/plain": [
       "     Count   DC_size  Price_per_watt\n",
       "Uid                                 \n",
       "40      41  4399.600        2.595290\n",
       "41      50  5200.380        2.593990\n",
       "42      64  5520.950        2.502640\n",
       "43      36  4760.080        2.593150\n",
       "44      50  5040.090        2.601570\n",
       "45      22  5348.420        2.461145\n",
       "46      55  4501.090        2.600780\n",
       "47      37  4238.470        2.479600\n",
       "48      65  4680.760        2.592880\n",
       "49      28  4439.840        2.507620\n",
       "50      53  4830.550        2.473760\n",
       "51      31  4760.080        2.524070\n",
       "52      26  4680.540        2.552660\n",
       "53       2  6501.575        2.532085\n",
       "54      31  5290.600        2.503670\n",
       "55      49  3920.070        2.482930\n",
       "56      29  5520.950        2.607580\n",
       "57       5  5520.630        2.461280\n",
       "58      16  5866.005        2.517540\n",
       "59      19  4238.470        2.510510"
      ]
     },
     "execution_count": 107,
     "metadata": {},
     "output_type": "execute_result"
    }
   ],
   "source": [
    "df_inst_mean.head(20)"
   ]
  },
  {
   "cell_type": "code",
   "execution_count": 108,
   "metadata": {
    "collapsed": false
   },
   "outputs": [],
   "source": [
    "#sort by count?\n",
    "df_inst_mean = df_inst_mean.sort_values('Count', ascending=False)"
   ]
  },
  {
   "cell_type": "code",
   "execution_count": 29,
   "metadata": {
    "collapsed": false
   },
   "outputs": [
    {
     "data": {
      "image/png": "[encoded data removed]",
      "text/plain": [
       "<matplotlib.figure.Figure at 0x2354b6a2c88>"
      ]
     },
     "metadata": {},
     "output_type": "display_data"
    }
   ],
   "source": [
    "N = 19\n",
    "\n",
    "\n",
    "\n",
    "\n",
    "\n",
    "x = df_inst_mean['DC_size']/1000\n",
    "y = df_inst_mean['Price_per_watt']\n",
    "norm = matplotlib.colors.Normalize(vmin=df_inst_mean['Count'].values[N-1], vmax=df_inst_mean['Count'].values[0])\n",
    "cmap_custom = cm.get_cmap('Spectral')\n",
    "area = norm(df_inst_mean['Count'])\n",
    "color = []\n",
    "\n",
    "for area_x in area:\n",
    "#    color.append(cmap_custom(area_x/2))\n",
    "    color.append('olive')\n",
    "    \n",
    "\n",
    "    \n",
    "#color[1] = (0.0, 0.65, 0.75, 1.0)\n",
    "    \n",
    "fig = plt.figure()\n",
    "ax = fig.add_subplot(1,1,1)\n",
    "ax.set_xlabel('DC size')\n",
    "ax.set_ylabel('Price Per Watt')\n",
    "\n",
    "#ax.set_autoscaley_on(False)\n",
    "#ax.set_xlim([0,0.2])\n",
    "#ax.set_ylim([0,5])\n",
    "    \n",
    "#plt.xlabel('Price Per Watt')\n",
    "#plt.ylabel('System Size AC')\n",
    "#plt.title('Number of Installations Per Company')\n",
    "\n",
    "ax.scatter(x, y, s=df_inst_mean['Count'] * 10,  c = color )\n",
    "handles, labels = ax.get_legend_handles_labels()\n",
    "\n",
    "\n",
    "#names are here\n",
    "#df_agg.index.values[0:3]\n",
    "\n",
    "#colors are here\n",
    "#color[0:3]\n",
    "\n",
    "artists = []\n",
    "labels = []\n",
    "\n",
    "#create custom artists\n",
    "#for i in range(3):\n",
    "#    artists.append(mpatches.Circle((0, 0), 1.0, facecolor=color[i]))\n",
    "#    labels.append(df_agg_dm1.index.values[i])\n",
    "\n",
    "artists.append(mpatches.Circle((0, 0), 1.0, facecolor=color[-1], label='min'))\n",
    "labels.append('min N installs')\n",
    "artists.append(mpatches.Circle((0, 0), 1.0, facecolor=color[0], label='max'))\n",
    "labels.append('max N installs')\n",
    "    \n",
    "\n",
    "class HandlerEllipse(HandlerPatch):\n",
    "    def create_artists(self, legend, orig_handle,\n",
    "                       xdescent, ydescent, width, height, fontsize, trans):\n",
    "        center = 0.5 * width - 0.5 * xdescent, 0.5 * height - 0.5 * ydescent\n",
    "#        print(orig_handle.__dict__)\n",
    "        radius_ = width/10\n",
    "        if ('max' in orig_handle._label):\n",
    "            radius_ = width/5\n",
    "    \n",
    "        p = mpatches.Circle(xy=center, radius=radius_)\n",
    "        self.update_prop(p, orig_handle, legend)\n",
    "        p.set_transform(trans)\n",
    "        return [p]\n",
    "    \n",
    "\n",
    "#Create legend from custom artist/label lists\n",
    "ax.legend(artists,\n",
    "          labels,\n",
    "         handler_map={mpatches.Circle: HandlerEllipse()}, bbox_to_anchor=(0.9, 0.9),\n",
    "           bbox_transform=plt.gcf().transFigure, fontsize=5\n",
    "         )\n",
    "\n",
    "\n",
    "\n",
    "#plt.scatter(x, y, s=df_agg_top['Count'],  c = color )\n",
    "data_mode = 'test'\n",
    "plt.savefig('Simulation_results_installers_' + data_mode + '_Mar18' + '.png', dpi=300)\n",
    "plt.show()"
   ]
  },
  {
   "cell_type": "code",
   "execution_count": 125,
   "metadata": {
    "collapsed": true
   },
   "outputs": [],
   "source": [
    "#sort by count?\n",
    "df_inst_all = df_inst_all.sort_values('Count', ascending=False)"
   ]
  },
  {
   "cell_type": "code",
   "execution_count": 126,
   "metadata": {
    "collapsed": false
   },
   "outputs": [
    {
     "data": {
      "image/png": "[encoded data removed]",
      "text/plain": [
       "<matplotlib.figure.Figure at 0x2354899bb38>"
      ]
     },
     "metadata": {},
     "output_type": "display_data"
    }
   ],
   "source": [
    "N = 19\n",
    "\n",
    "\n",
    "\n",
    "\n",
    "\n",
    "x = df_inst_all['DC_size']/1000\n",
    "y = df_inst_all['Price_per_watt']\n",
    "norm = matplotlib.colors.Normalize(vmin=df_inst_all['Count'].values[N-1], vmax=df_inst_all['Count'].values[0])\n",
    "cmap_custom = cm.get_cmap('Spectral')\n",
    "area = norm(df_inst_all['Count'])\n",
    "color = []\n",
    "\n",
    "for area_x in area:\n",
    "#    color.append(cmap_custom(area_x/2))\n",
    "    color.append('olive')\n",
    "    \n",
    "\n",
    "    \n",
    "#color[1] = (0.0, 0.65, 0.75, 1.0)\n",
    "    \n",
    "fig = plt.figure()\n",
    "ax = fig.add_subplot(1,1,1)\n",
    "ax.set_xlabel('DC size')\n",
    "ax.set_ylabel('Price Per Watt')\n",
    "\n",
    "#ax.set_autoscaley_on(False)\n",
    "ax.set_xlim([2.5,7.0])\n",
    "ax.set_ylim([2.0,3.0])\n",
    "    \n",
    "#plt.xlabel('Price Per Watt')\n",
    "#plt.ylabel('System Size AC')\n",
    "#plt.title('Number of Installations Per Company')\n",
    "\n",
    "ax.scatter(x, y, s=df_inst_all['Count'] * 10,  c = color )\n",
    "handles, labels = ax.get_legend_handles_labels()\n",
    "\n",
    "\n",
    "#names are here\n",
    "#df_agg.index.values[0:3]\n",
    "\n",
    "#colors are here\n",
    "#color[0:3]\n",
    "\n",
    "artists = []\n",
    "labels = []\n",
    "\n",
    "#create custom artists\n",
    "#for i in range(3):\n",
    "#    artists.append(mpatches.Circle((0, 0), 1.0, facecolor=color[i]))\n",
    "#    labels.append(df_agg_dm1.index.values[i])\n",
    "\n",
    "artists.append(mpatches.Circle((0, 0), 1.0, facecolor=color[-1], label='min'))\n",
    "labels.append('min N installs')\n",
    "artists.append(mpatches.Circle((0, 0), 1.0, facecolor=color[0], label='max'))\n",
    "labels.append('max N installs')\n",
    "    \n",
    "\n",
    "class HandlerEllipse(HandlerPatch):\n",
    "    def create_artists(self, legend, orig_handle,\n",
    "                       xdescent, ydescent, width, height, fontsize, trans):\n",
    "        center = 0.5 * width - 0.5 * xdescent, 0.5 * height - 0.5 * ydescent\n",
    "#        print(orig_handle.__dict__)\n",
    "        radius_ = width/10\n",
    "        if ('max' in orig_handle._label):\n",
    "            radius_ = width/5\n",
    "    \n",
    "        p = mpatches.Circle(xy=center, radius=radius_)\n",
    "        self.update_prop(p, orig_handle, legend)\n",
    "        p.set_transform(trans)\n",
    "        return [p]\n",
    "    \n",
    "\n",
    "#Create legend from custom artist/label lists\n",
    "ax.legend(artists,\n",
    "          labels,\n",
    "         handler_map={mpatches.Circle: HandlerEllipse()}, bbox_to_anchor=(0.9, 0.9),\n",
    "           bbox_transform=plt.gcf().transFigure, fontsize=5\n",
    "         )\n",
    "\n",
    "\n",
    "\n",
    "#plt.scatter(x, y, s=df_agg_top['Count'],  c = color )\n",
    "data_mode = 'test'\n",
    "plt.savefig('Simulation_results_installers_' + data_mode + '_Apr18_2' + '.png', dpi=300)\n",
    "plt.show()"
   ]
  },
  {
   "cell_type": "markdown",
   "metadata": {},
   "source": [
    "# Testing random code"
   ]
  },
  {
   "cell_type": "code",
   "execution_count": null,
   "metadata": {
    "collapsed": true
   },
   "outputs": [],
   "source": []
  },
  {
   "cell_type": "code",
   "execution_count": null,
   "metadata": {
    "collapsed": false
   },
   "outputs": [],
   "source": [
    "#how to see what is inside an object\n",
    "print(mpatches.Circle((0, 0), 5.0, facecolor=color[0]).__dict__)"
   ]
  },
  {
   "cell_type": "code",
   "execution_count": 38,
   "metadata": {
    "collapsed": false
   },
   "outputs": [],
   "source": [
    "#sticky prices\n",
    "y_start = 0.2\n",
    "y_target = 0.5\n",
    "theta_learn = 0.99\n",
    "y_prog_ = [y_start]\n",
    "x_tick_ = []\n",
    "for i in range(200):\n",
    "    y_prog_.append(y_prog_[-1] * theta_learn + y_target * (1 - theta_learn))\n",
    "    x_tick_.append(i)"
   ]
  },
  {
   "cell_type": "code",
   "execution_count": 58,
   "metadata": {
    "collapsed": false
   },
   "outputs": [
    {
     "data": {
      "text/plain": [
       "[<matplotlib.lines.Line2D at 0x2e2bd809128>]"
      ]
     },
     "execution_count": 58,
     "metadata": {},
     "output_type": "execute_result"
    },
    {
     "data": {
      "image/png": "[encoded data removed]",
      "text/plain": [
       "<matplotlib.figure.Figure at 0x2e2b9ec7e48>"
      ]
     },
     "metadata": {},
     "output_type": "display_data"
    }
   ],
   "source": [
    "plt.plot(x_tick_, y_prog_[1:])"
   ]
  },
  {
   "cell_type": "code",
   "execution_count": 35,
   "metadata": {
    "collapsed": false
   },
   "outputs": [],
   "source": [
    "prices  = dfs_w[0]['P_av']"
   ]
  },
  {
   "cell_type": "code",
   "execution_count": 39,
   "metadata": {
    "collapsed": false
   },
   "outputs": [
    {
     "data": {
      "text/plain": [
       "[<matplotlib.lines.Line2D at 0x298266e59e8>]"
      ]
     },
     "execution_count": 39,
     "metadata": {},
     "output_type": "execute_result"
    },
    {
     "data": {
      "image/png": "[encoded data removed]",
      "text/plain": [
       "<matplotlib.figure.Figure at 0x2982ac37588>"
      ]
     },
     "metadata": {},
     "output_type": "display_data"
    }
   ],
   "source": [
    "plt.plot(x_tick_, prices[0:200])"
   ]
  },
  {
   "cell_type": "code",
   "execution_count": 45,
   "metadata": {
    "collapsed": false
   },
   "outputs": [
    {
     "data": {
      "text/html": [
       "<div>\n",
       "<table border=\"1\" class=\"dataframe\">\n",
       "  <thead>\n",
       "    <tr style=\"text-align: right;\">\n",
       "      <th></th>\n",
       "      <th>Tick</th>\n",
       "      <th>Location_x</th>\n",
       "      <th>Location_y</th>\n",
       "      <th>Uid</th>\n",
       "      <th>Price_per_watt</th>\n",
       "      <th>DC_size</th>\n",
       "    </tr>\n",
       "  </thead>\n",
       "  <tbody>\n",
       "    <tr>\n",
       "      <th>0</th>\n",
       "      <td>29</td>\n",
       "      <td>9</td>\n",
       "      <td>8</td>\n",
       "      <td>48</td>\n",
       "      <td>4.34654</td>\n",
       "      <td>5199.74</td>\n",
       "    </tr>\n",
       "    <tr>\n",
       "      <th>1</th>\n",
       "      <td>43</td>\n",
       "      <td>4</td>\n",
       "      <td>6</td>\n",
       "      <td>48</td>\n",
       "      <td>5.33618</td>\n",
       "      <td>4501.09</td>\n",
       "    </tr>\n",
       "    <tr>\n",
       "      <th>2</th>\n",
       "      <td>37</td>\n",
       "      <td>4</td>\n",
       "      <td>4</td>\n",
       "      <td>46</td>\n",
       "      <td>3.47883</td>\n",
       "      <td>9002.18</td>\n",
       "    </tr>\n",
       "    <tr>\n",
       "      <th>3</th>\n",
       "      <td>65</td>\n",
       "      <td>7</td>\n",
       "      <td>3</td>\n",
       "      <td>48</td>\n",
       "      <td>4.61828</td>\n",
       "      <td>5251.27</td>\n",
       "    </tr>\n",
       "    <tr>\n",
       "      <th>4</th>\n",
       "      <td>147</td>\n",
       "      <td>1</td>\n",
       "      <td>3</td>\n",
       "      <td>40</td>\n",
       "      <td>5.29697</td>\n",
       "      <td>4140.71</td>\n",
       "    </tr>\n",
       "  </tbody>\n",
       "</table>\n",
       "</div>"
      ],
      "text/plain": [
       "   Tick  Location_x  Location_y  Uid  Price_per_watt  DC_size\n",
       "0    29           9           8   48         4.34654  5199.74\n",
       "1    43           4           6   48         5.33618  4501.09\n",
       "2    37           4           4   46         3.47883  9002.18\n",
       "3    65           7           3   48         4.61828  5251.27\n",
       "4   147           1           3   40         5.29697  4140.71"
      ]
     },
     "execution_count": 45,
     "metadata": {},
     "output_type": "execute_result"
    }
   ],
   "source": [
    "dfs_inst[0].head()"
   ]
  },
  {
   "cell_type": "code",
   "execution_count": 66,
   "metadata": {
    "collapsed": false
   },
   "outputs": [
    {
     "data": {
      "text/plain": [
       "[<matplotlib.lines.Line2D at 0x1f73f08a710>]"
      ]
     },
     "execution_count": 66,
     "metadata": {},
     "output_type": "execute_result"
    },
    {
     "data": {
      "image/png": "[encoded data removed]",
      "text/plain": [
       "<matplotlib.figure.Figure at 0x1f73ee32550>"
      ]
     },
     "metadata": {},
     "output_type": "display_data"
    }
   ],
   "source": [
    "plt.plot(dfs_inst[0]['Tick'], dfs_inst[0]['Price_per_watt'])"
   ]
  },
  {
   "cell_type": "code",
   "execution_count": 20,
   "metadata": {
    "collapsed": true
   },
   "outputs": [],
   "source": [
    "test_mode = 'BaseModel'\n",
    "test_version = 'BaseVer01'\n",
    "test_loc = 'CA'\n",
    "data_mode = 'Logs'\n",
    "version = '_eff'\n",
    "params_versions = [str(x) for x in np.linspace(1.0,1.5,1,endpoint=False)]\n",
    "i_run = 0"
   ]
  },
  {
   "cell_type": "code",
   "execution_count": 33,
   "metadata": {
    "collapsed": false
   },
   "outputs": [],
   "source": [
    "files = glob.glob('..\\\\..\\\\ABMIRISLab\\\\Saves\\\\Oct-18-2017\\\\' + test_mode + '\\\\' + test_version + '\\\\'  +\\\n",
    "                          test_loc + '\\\\' + params_versions[i_run] + '\\\\' + data_mode +\\\n",
    "                         '\\\\*[_log].log')\n",
    "files.sort(key=os.path.getmtime, reverse=True)\n",
    "        #files_ = files[i_run * N_SEEDS : (i_run + 1) * N_SEEDS]    "
   ]
  },
  {
   "cell_type": "code",
   "execution_count": 34,
   "metadata": {
    "collapsed": false
   },
   "outputs": [
    {
     "data": {
      "text/plain": [
       "50"
      ]
     },
     "execution_count": 34,
     "metadata": {},
     "output_type": "execute_result"
    }
   ],
   "source": [
    "len(files)"
   ]
  },
  {
   "cell_type": "code",
   "execution_count": 6,
   "metadata": {
    "collapsed": false
   },
   "outputs": [],
   "source": [
    "df_test = pd.DataFrame([[0,1],[0.1, 0.15], [0.9, 0.85], [200, 205]]).T"
   ]
  },
  {
   "cell_type": "code",
   "execution_count": 7,
   "metadata": {
    "collapsed": false
   },
   "outputs": [
    {
     "data": {
      "text/html": [
       "<div>\n",
       "<table border=\"1\" class=\"dataframe\">\n",
       "  <thead>\n",
       "    <tr style=\"text-align: right;\">\n",
       "      <th></th>\n",
       "      <th>0</th>\n",
       "      <th>1</th>\n",
       "      <th>2</th>\n",
       "      <th>3</th>\n",
       "    </tr>\n",
       "  </thead>\n",
       "  <tbody>\n",
       "    <tr>\n",
       "      <th>0</th>\n",
       "      <td>0.0</td>\n",
       "      <td>0.10</td>\n",
       "      <td>0.90</td>\n",
       "      <td>200.0</td>\n",
       "    </tr>\n",
       "    <tr>\n",
       "      <th>1</th>\n",
       "      <td>1.0</td>\n",
       "      <td>0.15</td>\n",
       "      <td>0.85</td>\n",
       "      <td>205.0</td>\n",
       "    </tr>\n",
       "  </tbody>\n",
       "</table>\n",
       "</div>"
      ],
      "text/plain": [
       "     0     1     2      3\n",
       "0  0.0  0.10  0.90  200.0\n",
       "1  1.0  0.15  0.85  205.0"
      ]
     },
     "execution_count": 7,
     "metadata": {},
     "output_type": "execute_result"
    }
   ],
   "source": [
    "df_test.head()"
   ]
  },
  {
   "cell_type": "code",
   "execution_count": 16,
   "metadata": {
    "collapsed": false
   },
   "outputs": [
    {
     "name": "stdout",
     "output_type": "stream",
     "text": [
      "Text(0,0,'')\n",
      "Text(0,0,'')\n",
      "Text(0,0,'')\n",
      "Text(0,0,'')\n",
      "Text(0,0,'')\n",
      "Text(0,0,'')\n",
      "Text(0,0,'')\n",
      "Text(0,0,'')\n",
      "Text(0,0,'')\n"
     ]
    },
    {
     "data": {
      "image/png": "[encoded data removed]",
      "text/plain": [
       "<matplotlib.figure.Figure at 0x15c4df884e0>"
      ]
     },
     "metadata": {},
     "output_type": "display_data"
    }
   ],
   "source": [
    "fig = plt.figure()\n",
    "ax = fig.add_subplot(1,1,1)\n",
    "ax.set_xlabel('Reach')\n",
    "ax.set_ylabel('% installed')\n",
    "lines = []\n",
    "N = 2\n",
    "\n",
    "ind = np.arange(N)\n",
    "width = 0.35\n",
    "\n",
    "\n",
    "p1 = plt.bar(ind, df_test[1], width, color='#d62728', label='neighbour')\n",
    "p2 = plt.bar(ind, df_test[2], width,\n",
    "             bottom=df_test[1], label='installer')\n",
    "\n",
    "lines.append(p1)\n",
    "lines.append(p2)\n",
    "\n",
    "\n",
    "for tick in ax.get_xticklabels():\n",
    "    print(tick)\n",
    "    \n",
    "ax.xaxis.set_ticks(ind, tuple([str(x) for x in ind]))\n",
    "\n",
    "# Put a legend below current axis\n",
    "lgd = ax.legend(lines, [l.get_label() for l in lines], loc='upper center', bbox_to_anchor=(0.5, -0.15),\\\n",
    "          fancybox=True, shadow=True, fontsize='10', ncol = 2)\n",
    "\n",
    "\n",
    "plt.show()"
   ]
  },
  {
   "cell_type": "code",
   "execution_count": 15,
   "metadata": {
    "collapsed": false
   },
   "outputs": [
    {
     "name": "stdout",
     "output_type": "stream",
     "text": [
      "('0', '1')\n"
     ]
    }
   ],
   "source": [
    "print(tuple([str(x) for x in ind]))"
   ]
  },
  {
   "cell_type": "code",
   "execution_count": 83,
   "metadata": {
    "collapsed": false
   },
   "outputs": [
    {
     "data": {
      "text/plain": [
       "634.625"
      ]
     },
     "execution_count": 83,
     "metadata": {},
     "output_type": "execute_result"
    }
   ],
   "source": [
    "dfs_w[i]['N_installed_sum'].ix[260]"
   ]
  },
  {
   "cell_type": "code",
   "execution_count": 84,
   "metadata": {
    "collapsed": false
   },
   "outputs": [
    {
     "data": {
      "text/plain": [
       "0.84923180820530142"
      ]
     },
     "execution_count": 84,
     "metadata": {},
     "output_type": "execute_result"
    }
   ],
   "source": [
    "dfs_w[3]['N_installed_sum'].ix[260]/dfs_w[0]['N_installed_sum'].ix[260]"
   ]
  },
  {
   "cell_type": "code",
   "execution_count": 144,
   "metadata": {
    "collapsed": false
   },
   "outputs": [
    {
     "name": "stdout",
     "output_type": "stream",
     "text": [
      "..\\..\\ABMIRISLab\\Saves\\Jan-11-2018\\BaseModel\\BaseVer02\\CA\\tariff0.3\\e134031c-60bc-4586-8cd0-9abab6219a65_pr.csv\n",
      "..\\..\\ABMIRISLab\\Saves\\Jan-11-2018\\BaseModel\\BaseVer02\\CA\\tariff0.3\\9a8d1051-c20f-426c-9654-8ac12fc86263_pr.csv\n",
      "..\\..\\ABMIRISLab\\Saves\\Jan-11-2018\\BaseModel\\BaseVer02\\CA\\tariff0.3\\827986a4-67ca-4b04-8ea3-adff0b784dc0_pr.csv\n",
      "..\\..\\ABMIRISLab\\Saves\\Jan-11-2018\\BaseModel\\BaseVer02\\CA\\tariff0.3\\442f886c-20c5-479e-8ecd-9956e011e9fd_pr.csv\n",
      "..\\..\\ABMIRISLab\\Saves\\Jan-11-2018\\BaseModel\\BaseVer02\\CA\\tariff0.3\\d711f29d-3bd5-486b-acb1-e9422e8286f0_pr.csv\n",
      "..\\..\\ABMIRISLab\\Saves\\Jan-11-2018\\BaseModel\\BaseVer02\\CA\\tariff0.3\\42561ea7-2046-407c-81f3-06b70777e17a_pr.csv\n",
      "..\\..\\ABMIRISLab\\Saves\\Jan-11-2018\\BaseModel\\BaseVer02\\CA\\tariff0.3\\e7f3e9ee-edc2-4891-b0ad-8b81e8e933e6_pr.csv\n",
      "..\\..\\ABMIRISLab\\Saves\\Jan-11-2018\\BaseModel\\BaseVer02\\CA\\tariff0.3\\dfc53c5d-88f6-4a89-bdac-39da9c390e58_pr.csv\n"
     ]
    }
   ],
   "source": [
    "#location x, location y \n",
    "\n",
    "\n",
    "# for each line - place into location\n",
    "# average over locations\n",
    "#\n",
    "#\n",
    "\n",
    "N_TILES = 10\n",
    "N_SEEDS = 8\n",
    "\n",
    "test_mode = 'BaseVer02'\n",
    "data_mode = 'CA'\n",
    "\n",
    "#names of columns in a file\n",
    "names = ['Tick', 'Location_x', 'Location_y', 'Uid', 'Price_per_watt', 'DC_size', 'Origin', 'Mart_type']\n",
    "\n",
    "raw_data_per_tick = []\n",
    "raw_data_dfs_per_tick = []\n",
    "tick_bins = []\n",
    "for i in range(4):\n",
    "    #to store final results\n",
    "    raw_data_per_tick.append(np.zeros((N_TILES, N_TILES)))\n",
    "    #to store intermediate results\n",
    "    raw_data_dfs_per_tick.append(np.zeros((N_SEEDS, N_TILES, N_TILES)))\n",
    "    #tick edges\n",
    "    tick_bins.append(N_TICKS/4 *(i))\n",
    "\n",
    "\n",
    "#here only baseline scenario is analyzed    \n",
    "params_versions = [str(x) for x in np.linspace(0.0,0.3,N_TESTS,endpoint=False)]\n",
    "    \n",
    "#read few files\n",
    "#save into database\n",
    "dfs_ = []\n",
    "#read last simulation result\n",
    "files = glob.glob('..\\\\..\\\\ABMIRISLab\\\\Saves\\\\Jan-11-2018\\\\BaseModel\\\\'+ test_mode + '\\\\' + data_mode + \\\n",
    "                 '\\\\tariff' + str(0.3) + '\\\\*[_pr].csv')\n",
    "files.sort(key=os.path.getmtime, reverse=True)\n",
    "\n",
    "#take top x files, assume only one type of a simulation run in a folder \n",
    "i_run = 0\n",
    "\n",
    "for file in files[i_run * N_SEEDS : (i_run + 1) * N_SEEDS]:\n",
    "    print(file)\n",
    "    df_ = pd.read_csv(file, names=names, low_memory=False, na_values = ['-nan(ind)'])\n",
    "    dfs_.append(df_)\n",
    "\n",
    "    \n",
    "raw_data_dfs = np.zeros((len(dfs_), N_TILES, N_TILES))\n",
    "\n",
    "indexes = [0.0, 0.0, 0.0, 0.0]\n",
    "\n",
    "k = 0\n",
    "for df_ in dfs_:\n",
    "    \n",
    "    \n",
    "    \n",
    "    for i in range(N_TILES):\n",
    "        for j in range(N_TILES):\n",
    "            index = df_[(df_['Location_x'] == i) & \\\n",
    "                        (df_['Location_y'] == j)].index \n",
    "                             \n",
    "            indexes[0] = df_[(df_['Location_x'] == i) & \\\n",
    "                        (df_['Location_y'] == j) & \\\n",
    "                         (df_['Tick'] < tick_bins[0])].index\n",
    "            \n",
    "            indexes[1] = df_[(df_['Location_x'] == i) & \\\n",
    "                        (df_['Location_y'] == j) & \\\n",
    "                         (df_['Tick'] < tick_bins[1])].index\n",
    "            \n",
    "            indexes[2] = df_[(df_['Location_x'] == i) & \\\n",
    "                        (df_['Location_y'] == j) & \\\n",
    "                         (df_['Tick'] < tick_bins[2])].index\n",
    "                             \n",
    "            raw_data_dfs_per_tick[0][k, i, j] = df_.iloc[indexes[0]].shape[0]\n",
    "            raw_data_dfs_per_tick[1][k, i, j] = df_.iloc[indexes[1]].shape[0]\n",
    "            raw_data_dfs_per_tick[2][k, i, j] = df_.iloc[indexes[2]].shape[0]\n",
    "            raw_data_dfs_per_tick[-1][k, i, j] = df_.iloc[index].shape[0]\n",
    "            \n",
    "    k = k + 1\n",
    "    \n",
    "    raw_data_per_tick[0] = np.mean(raw_data_dfs_per_tick[0], axis = 0)\n",
    "    raw_data_per_tick[1] = np.mean(raw_data_dfs_per_tick[1], axis = 0)\n",
    "    raw_data_per_tick[2] = np.mean(raw_data_dfs_per_tick[2], axis = 0)\n",
    "    raw_data_per_tick[-1] = np.mean(raw_data_dfs_per_tick[-1], axis = 0)\n",
    "    \n",
    "    \n",
    "#create df from them    \n",
    "dfs_inst = dfs_\n",
    "\n",
    "#blank first step\n",
    "raw_data_per_tick[0] = np.zeros((N_TILES, N_TILES)) + 0.01"
   ]
  },
  {
   "cell_type": "code",
   "execution_count": 145,
   "metadata": {
    "collapsed": false
   },
   "outputs": [
    {
     "data": {
      "text/html": [
       "<div>\n",
       "<table border=\"1\" class=\"dataframe\">\n",
       "  <thead>\n",
       "    <tr style=\"text-align: right;\">\n",
       "      <th></th>\n",
       "      <th>Tick</th>\n",
       "      <th>Location_x</th>\n",
       "      <th>Location_y</th>\n",
       "      <th>Uid</th>\n",
       "      <th>Price_per_watt</th>\n",
       "      <th>DC_size</th>\n",
       "      <th>Origin</th>\n",
       "      <th>Mart_type</th>\n",
       "    </tr>\n",
       "  </thead>\n",
       "  <tbody>\n",
       "    <tr>\n",
       "      <th>0</th>\n",
       "      <td>36</td>\n",
       "      <td>7</td>\n",
       "      <td>2</td>\n",
       "      <td>45</td>\n",
       "      <td>2.80000</td>\n",
       "      <td>7426.55</td>\n",
       "      <td>Import</td>\n",
       "      <td>0</td>\n",
       "    </tr>\n",
       "    <tr>\n",
       "      <th>1</th>\n",
       "      <td>80</td>\n",
       "      <td>0</td>\n",
       "      <td>8</td>\n",
       "      <td>44</td>\n",
       "      <td>2.59459</td>\n",
       "      <td>3000.73</td>\n",
       "      <td>Domestic</td>\n",
       "      <td>0</td>\n",
       "    </tr>\n",
       "    <tr>\n",
       "      <th>2</th>\n",
       "      <td>34</td>\n",
       "      <td>9</td>\n",
       "      <td>8</td>\n",
       "      <td>57</td>\n",
       "      <td>2.80000</td>\n",
       "      <td>6440.73</td>\n",
       "      <td>Domestic</td>\n",
       "      <td>0</td>\n",
       "    </tr>\n",
       "    <tr>\n",
       "      <th>3</th>\n",
       "      <td>80</td>\n",
       "      <td>5</td>\n",
       "      <td>7</td>\n",
       "      <td>59</td>\n",
       "      <td>2.59194</td>\n",
       "      <td>7682.22</td>\n",
       "      <td>Import</td>\n",
       "      <td>0</td>\n",
       "    </tr>\n",
       "    <tr>\n",
       "      <th>4</th>\n",
       "      <td>32</td>\n",
       "      <td>3</td>\n",
       "      <td>7</td>\n",
       "      <td>58</td>\n",
       "      <td>2.80000</td>\n",
       "      <td>9076.90</td>\n",
       "      <td>Import</td>\n",
       "      <td>0</td>\n",
       "    </tr>\n",
       "  </tbody>\n",
       "</table>\n",
       "</div>"
      ],
      "text/plain": [
       "   Tick  Location_x  Location_y  Uid  Price_per_watt  DC_size    Origin  \\\n",
       "0    36           7           2   45         2.80000  7426.55    Import   \n",
       "1    80           0           8   44         2.59459  3000.73  Domestic   \n",
       "2    34           9           8   57         2.80000  6440.73  Domestic   \n",
       "3    80           5           7   59         2.59194  7682.22    Import   \n",
       "4    32           3           7   58         2.80000  9076.90    Import   \n",
       "\n",
       "   Mart_type  \n",
       "0          0  \n",
       "1          0  \n",
       "2          0  \n",
       "3          0  \n",
       "4          0  "
      ]
     },
     "execution_count": 145,
     "metadata": {},
     "output_type": "execute_result"
    }
   ],
   "source": [
    "dfs_inst[0].head() "
   ]
  },
  {
   "cell_type": "code",
   "execution_count": null,
   "metadata": {
    "collapsed": true
   },
   "outputs": [],
   "source": [
    "dfs_agg_inst = []\n",
    "for df_ in dfs_inst:\n",
    "\n",
    "    df_['Count'] = 1\n",
    "    grouped = df_.groupby('Uid', sort=False)\n",
    "    df_agg = grouped.agg({'Price_per_watt' : np.median,\\\n",
    "             'DC_size' : np.median, \\\n",
    "            'Count' : np.sum})\n",
    "    dfs_agg_inst.append(df_agg)\n",
    "    \n",
    "df_inst_all = pd.concat(dfs_agg_inst)\n",
    "df_inst_mean = df_agg.groupby(level=0).mean()"
   ]
  },
  {
   "cell_type": "code",
   "execution_count": 92,
   "metadata": {
    "collapsed": true
   },
   "outputs": [],
   "source": [
    "N_SEEDS = 8"
   ]
  },
  {
   "cell_type": "code",
   "execution_count": 93,
   "metadata": {
    "collapsed": true
   },
   "outputs": [],
   "source": [
    "def collect_data_for_simulation_runs_from_inst(N_TESTS, dfs_inst, dfs_inst_std):\n",
    "\n",
    "    test_mode = 'BaseVer02'\n",
    "    data_mode = 'CA'\n",
    "    #here think how to change it\n",
    "    params_versions = [str(x) for x in np.linspace(0,100,N_TESTS,endpoint=True)]\n",
    "\n",
    "    #names of columns in a file\n",
    "    names = ['Tick', 'Location_x', 'Location_y', 'Uid', 'Price_per_watt', 'DC_size', 'Origin', 'Efficency','EquipmentType', 'InteractionType','Mart_type']\n",
    "    #names = ['Tick', 'Location_x', 'Location_y', 'Uid', 'Price_per_watt', 'DC_size', 'Origin', 'Mart_type']\n",
    "\n",
    "\n",
    "    for i_run in range(N_TESTS): \n",
    "        #read few files\n",
    "        #save into database\n",
    "        dfs_ = []\n",
    "        #read last simulation result\n",
    "        files = glob.glob('..\\\\..\\\\ABMIRISLab\\\\Saves\\\\May-14-2018\\\\BaseModel\\\\'+ test_mode + '\\\\' + data_mode + \\\n",
    "                 '\\\\permit' + params_versions[i_run] + '\\\\*[_pr].csv')\n",
    "        files.sort(key=os.path.getmtime, reverse=True)\n",
    "\n",
    "        #take top x files \n",
    "        for file in files[0 * N_SEEDS : 1 * N_SEEDS]:\n",
    "            print(file)\n",
    "            df_ = pd.read_csv(file, names=names, low_memory=False, na_values = ['-nan(ind)'])\n",
    "            df_['Total_price'] = df_['Price_per_watt'] * df_['DC_size']\n",
    "            dfs_.append(df_)\n",
    "\n",
    "\n",
    "        #create df from them    \n",
    "        df_concat = pd.concat(dfs_)\n",
    "        \n",
    "        \n",
    "        df_inst_mean = df_concat.groupby(level=0).mean()\n",
    "        df_inst_std = df_concat.groupby(level=0).std()\n",
    "        \n",
    "        dfs_inst.append(dfs_)\n"
   ]
  },
  {
   "cell_type": "code",
   "execution_count": 94,
   "metadata": {
    "collapsed": false
   },
   "outputs": [
    {
     "name": "stdout",
     "output_type": "stream",
     "text": [
      "..\\..\\ABMIRISLab\\Saves\\May-14-2018\\BaseModel\\BaseVer02\\CA\\permit0.0\\3015c04e-154f-4efa-8439-df60b8648656_pr.csv\n",
      "..\\..\\ABMIRISLab\\Saves\\May-14-2018\\BaseModel\\BaseVer02\\CA\\permit0.0\\c346843b-a317-400f-951a-ca7047dfc09d_pr.csv\n",
      "..\\..\\ABMIRISLab\\Saves\\May-14-2018\\BaseModel\\BaseVer02\\CA\\permit0.0\\8bec746e-9c28-410d-b471-fff6e06b92ac_pr.csv\n",
      "..\\..\\ABMIRISLab\\Saves\\May-14-2018\\BaseModel\\BaseVer02\\CA\\permit0.0\\2f7ce004-5db8-49ac-b692-30d2e491a0d0_pr.csv\n",
      "..\\..\\ABMIRISLab\\Saves\\May-14-2018\\BaseModel\\BaseVer02\\CA\\permit0.0\\45997203-3e86-486b-bda7-42c14411abae_pr.csv\n",
      "..\\..\\ABMIRISLab\\Saves\\May-14-2018\\BaseModel\\BaseVer02\\CA\\permit0.0\\faea0d21-570a-410a-bd66-bb0bd0ecf16c_pr.csv\n",
      "..\\..\\ABMIRISLab\\Saves\\May-14-2018\\BaseModel\\BaseVer02\\CA\\permit0.0\\0c63b365-fdb7-46b1-88fd-00da0d81d3f9_pr.csv\n",
      "..\\..\\ABMIRISLab\\Saves\\May-14-2018\\BaseModel\\BaseVer02\\CA\\permit0.0\\2305873b-5348-43d0-b7e7-b73ce557bec0_pr.csv\n",
      "..\\..\\ABMIRISLab\\Saves\\May-14-2018\\BaseModel\\BaseVer02\\CA\\permit25.0\\e34f5bd5-44f6-49a0-b355-f78cf86ffacb_pr.csv\n",
      "..\\..\\ABMIRISLab\\Saves\\May-14-2018\\BaseModel\\BaseVer02\\CA\\permit25.0\\6c51023f-98a9-4e86-8313-974b0b36df43_pr.csv\n",
      "..\\..\\ABMIRISLab\\Saves\\May-14-2018\\BaseModel\\BaseVer02\\CA\\permit25.0\\8858eb1d-cd87-46c9-941a-cbdf5c80ec92_pr.csv\n",
      "..\\..\\ABMIRISLab\\Saves\\May-14-2018\\BaseModel\\BaseVer02\\CA\\permit25.0\\7ef1c6db-478b-4db4-b3ac-1bbb27167f47_pr.csv\n",
      "..\\..\\ABMIRISLab\\Saves\\May-14-2018\\BaseModel\\BaseVer02\\CA\\permit25.0\\c2c066d3-ce35-40e1-95fa-58cbdfb2c5e5_pr.csv\n",
      "..\\..\\ABMIRISLab\\Saves\\May-14-2018\\BaseModel\\BaseVer02\\CA\\permit25.0\\74d1bb4d-daf1-433b-8145-66db7cf03c89_pr.csv\n",
      "..\\..\\ABMIRISLab\\Saves\\May-14-2018\\BaseModel\\BaseVer02\\CA\\permit25.0\\ff5228e1-c835-45b6-9ee1-d310ae8246ce_pr.csv\n",
      "..\\..\\ABMIRISLab\\Saves\\May-14-2018\\BaseModel\\BaseVer02\\CA\\permit25.0\\c28d1216-f983-433a-b63b-388e7c2bd944_pr.csv\n",
      "..\\..\\ABMIRISLab\\Saves\\May-14-2018\\BaseModel\\BaseVer02\\CA\\permit50.0\\0bac71f8-9758-4968-8bf7-e30d684b1d3a_pr.csv\n",
      "..\\..\\ABMIRISLab\\Saves\\May-14-2018\\BaseModel\\BaseVer02\\CA\\permit50.0\\b6229a62-10b0-495f-8eb0-181330455072_pr.csv\n",
      "..\\..\\ABMIRISLab\\Saves\\May-14-2018\\BaseModel\\BaseVer02\\CA\\permit50.0\\6a458926-2daa-4d37-9106-9530a23776f2_pr.csv\n",
      "..\\..\\ABMIRISLab\\Saves\\May-14-2018\\BaseModel\\BaseVer02\\CA\\permit50.0\\091530a6-0ee3-424f-a76b-a82c055bf88d_pr.csv\n",
      "..\\..\\ABMIRISLab\\Saves\\May-14-2018\\BaseModel\\BaseVer02\\CA\\permit50.0\\ebc2e0c2-2c6f-4b25-8732-89dbc5df38ac_pr.csv\n",
      "..\\..\\ABMIRISLab\\Saves\\May-14-2018\\BaseModel\\BaseVer02\\CA\\permit50.0\\4bb2bd04-4296-455f-b7fa-02590a8e9b37_pr.csv\n",
      "..\\..\\ABMIRISLab\\Saves\\May-14-2018\\BaseModel\\BaseVer02\\CA\\permit50.0\\b7442c5e-0c72-412f-b74d-3ead6fec3432_pr.csv\n",
      "..\\..\\ABMIRISLab\\Saves\\May-14-2018\\BaseModel\\BaseVer02\\CA\\permit50.0\\417ee26a-0578-4cfd-8715-4614132d5529_pr.csv\n",
      "..\\..\\ABMIRISLab\\Saves\\May-14-2018\\BaseModel\\BaseVer02\\CA\\permit75.0\\8582f235-23ae-4ac2-a2aa-0818f2467cec_pr.csv\n",
      "..\\..\\ABMIRISLab\\Saves\\May-14-2018\\BaseModel\\BaseVer02\\CA\\permit75.0\\e3f4fb43-c080-47fe-873d-1bc067d5fd08_pr.csv\n",
      "..\\..\\ABMIRISLab\\Saves\\May-14-2018\\BaseModel\\BaseVer02\\CA\\permit75.0\\64165fce-fc54-436d-8e07-6a51cde1d518_pr.csv\n",
      "..\\..\\ABMIRISLab\\Saves\\May-14-2018\\BaseModel\\BaseVer02\\CA\\permit75.0\\66624c3a-5a5f-49f6-87cd-d4e369670a45_pr.csv\n",
      "..\\..\\ABMIRISLab\\Saves\\May-14-2018\\BaseModel\\BaseVer02\\CA\\permit75.0\\624fae5e-a17d-4948-b1b4-df28ea61488a_pr.csv\n",
      "..\\..\\ABMIRISLab\\Saves\\May-14-2018\\BaseModel\\BaseVer02\\CA\\permit75.0\\120ec02f-2d02-4839-aaad-913910e5f0df_pr.csv\n",
      "..\\..\\ABMIRISLab\\Saves\\May-14-2018\\BaseModel\\BaseVer02\\CA\\permit75.0\\52f012be-dcdb-4373-83af-22c9c5ff158c_pr.csv\n",
      "..\\..\\ABMIRISLab\\Saves\\May-14-2018\\BaseModel\\BaseVer02\\CA\\permit100.0\\8afc8bfe-8fb1-4bbf-b74d-c5ebb3ddb4c8_pr.csv\n",
      "..\\..\\ABMIRISLab\\Saves\\May-14-2018\\BaseModel\\BaseVer02\\CA\\permit100.0\\5f5f6e3b-7e4f-458b-9153-5b5a2133d3eb_pr.csv\n",
      "..\\..\\ABMIRISLab\\Saves\\May-14-2018\\BaseModel\\BaseVer02\\CA\\permit100.0\\4779decb-79a4-4de6-8bd0-3dd0656318bf_pr.csv\n",
      "..\\..\\ABMIRISLab\\Saves\\May-14-2018\\BaseModel\\BaseVer02\\CA\\permit100.0\\81fd9750-14a1-4ed0-b3d3-1713a1f77e65_pr.csv\n",
      "..\\..\\ABMIRISLab\\Saves\\May-14-2018\\BaseModel\\BaseVer02\\CA\\permit100.0\\6330e960-f0e1-48e5-b0b3-59cd1ba95114_pr.csv\n",
      "..\\..\\ABMIRISLab\\Saves\\May-14-2018\\BaseModel\\BaseVer02\\CA\\permit100.0\\05cac13a-1f0d-4ff8-9551-947fc670ffc3_pr.csv\n",
      "..\\..\\ABMIRISLab\\Saves\\May-14-2018\\BaseModel\\BaseVer02\\CA\\permit100.0\\27c58744-12f4-4e07-b478-57ac5e772566_pr.csv\n",
      "..\\..\\ABMIRISLab\\Saves\\May-14-2018\\BaseModel\\BaseVer02\\CA\\permit100.0\\6979f9d9-9150-4330-b4f0-ad63c4bd3e98_pr.csv\n"
     ]
    }
   ],
   "source": [
    "dfs_inst = []\n",
    "dfs_inst_std = []\n",
    "collect_data_for_simulation_runs_from_inst(N_TESTS, dfs_inst, dfs_inst_std)"
   ]
  },
  {
   "cell_type": "code",
   "execution_count": 95,
   "metadata": {
    "collapsed": false
   },
   "outputs": [
    {
     "name": "stdout",
     "output_type": "stream",
     "text": [
      "5\n"
     ]
    }
   ],
   "source": [
    "print(len(dfs_inst))"
   ]
  },
  {
   "cell_type": "code",
   "execution_count": 96,
   "metadata": {
    "collapsed": false
   },
   "outputs": [],
   "source": [
    "dfs_agg_inst = []\n",
    "df_inst_all = []\n",
    "df_inst_mean = []\n",
    "\n",
    "for i in range(len(dfs_inst)):\n",
    "    for df_ in dfs_inst[i]:\n",
    "#        print(df_)\n",
    "        df_['Count'] = 1\n",
    "        grouped = df_.groupby('Origin', sort=False)\n",
    "        df_agg = grouped.agg({'Total_price' : np.sum,\\\n",
    "                 'DC_size' : np.sum, \\\n",
    "                'Count' : np.sum,\n",
    "                             'Price_per_watt': np.average})\n",
    "        dfs_agg_inst.append(df_agg)\n",
    "\n",
    "    df_inst_all.append(pd.concat(dfs_agg_inst))\n",
    "    df_inst_mean.append(df_agg.groupby(level=0).mean())"
   ]
  },
  {
   "cell_type": "code",
   "execution_count": 97,
   "metadata": {
    "collapsed": false
   },
   "outputs": [
    {
     "name": "stdout",
     "output_type": "stream",
     "text": [
      "[          Price_per_watt   Total_price  Count      DC_size\n",
      "Origin                                                    \n",
      "Domestic        2.409741  4.164252e+06    323  1728319.010\n",
      "Import          2.526180  4.350602e+06    353  1722089.703,           Price_per_watt   Total_price  Count      DC_size\n",
      "Origin                                                    \n",
      "Domestic        2.453304  4.187991e+06    322  1708824.721\n",
      "Import          2.465470  3.969088e+06    334  1607714.959,           Price_per_watt   Total_price  Count      DC_size\n",
      "Origin                                                    \n",
      "Domestic        2.513081  5.021955e+06    393  2005383.875\n",
      "Import          2.490031  3.479552e+06    285  1395462.057,           Price_per_watt   Total_price  Count      DC_size\n",
      "Origin                                                    \n",
      "Domestic        2.462265  3.410649e+06    289  1385002.226\n",
      "Import          2.446907  4.982953e+06    432  2035465.663,           Price_per_watt   Total_price  Count      DC_size\n",
      "Origin                                                    \n",
      "Domestic        2.458832  4.791519e+06    382  1950699.022\n",
      "Import          2.524333  3.794786e+06    309  1507949.843]\n"
     ]
    }
   ],
   "source": [
    "print(df_inst_mean)"
   ]
  },
  {
   "cell_type": "code",
   "execution_count": 102,
   "metadata": {
    "collapsed": false
   },
   "outputs": [
    {
     "name": "stdout",
     "output_type": "stream",
     "text": [
      "          Price_per_watt   Total_price  Count      DC_size\n",
      "Origin                                                    \n",
      "Domestic        2.470964  6.222143e+06    466  2515395.511\n",
      "Import          2.540913  3.926556e+06    306  1541103.003\n",
      "Domestic        2.462569  5.621567e+06    453  2283386.905\n",
      "Import          2.505407  3.678130e+06    304  1471981.359\n",
      "Import          2.452380  4.585835e+06    390  1871867.518\n",
      "Domestic        2.456961  3.189030e+06    250  1301577.746\n",
      "Import          2.481973  2.349135e+06    194   946625.397\n",
      "Domestic        2.512619  5.350074e+06    405  2133430.125\n",
      "Domestic        2.475445  4.183945e+06    316  1689488.646\n",
      "Import          2.484942  3.707353e+06    311  1487816.164\n",
      "Import          2.508095  4.245818e+06    360  1690223.583\n",
      "Domestic        2.479208  4.665917e+06    367  1883480.445\n",
      "Import          2.516749  4.233081e+06    338  1681721.086\n",
      "Domestic        2.482310  3.927345e+06    304  1581880.994\n",
      "Import          2.526180  4.350602e+06    353  1722089.703\n",
      "Domestic        2.409741  4.164252e+06    323  1728319.010\n",
      "Import          2.523978  4.202853e+06    346  1663756.071\n",
      "Domestic        2.434344  4.465119e+06    359  1835412.644\n",
      "Import          2.486586  4.065211e+06    331  1635171.111\n",
      "Domestic        2.432179  4.272675e+06    323  1756803.472\n",
      "Import          2.478995  5.830092e+06    497  2345518.816\n",
      "Domestic        2.395410  2.563912e+06    186  1069650.240\n",
      "Import          2.559182  4.154864e+06    325  1624451.180\n",
      "Domestic        2.494793  4.918829e+06    357  1971956.170\n",
      "Import          2.506349  3.134134e+06    257  1250341.370\n",
      "Domestic        2.439843  4.735004e+06    367  1945396.710\n",
      "Import          2.502691  6.609584e+06    553  2639684.508\n",
      "Domestic        2.416656  2.506544e+06    201  1035074.018\n",
      "Import          2.464061  4.245219e+06    362  1722258.752\n",
      "Domestic        2.465592  3.801748e+06    311  1539986.647\n",
      "...                  ...           ...    ...          ...\n",
      "Domestic        2.504679  5.104650e+06    406  2034228.048\n",
      "Import          2.538727  2.128154e+06    180   838809.548\n",
      "Import          2.495163  6.248087e+06    505  2502803.159\n",
      "Domestic        2.408421  2.622861e+06    196  1089878.190\n",
      "Domestic        2.507822  3.537639e+06    253  1413496.599\n",
      "Import          2.512997  4.859597e+06    395  1935209.263\n",
      "Domestic        2.489772  7.268930e+06    573  2917040.309\n",
      "Import          2.525810  1.910979e+06    150   757917.743\n",
      "Import          2.593430  1.740061e+06    137   670382.308\n",
      "Domestic        2.509038  5.596704e+06    438  2230209.513\n",
      "Import          2.434473  2.748953e+06    238  1127931.158\n",
      "Domestic        2.483873  5.104547e+06    414  2059252.131\n",
      "Import          2.446907  4.982953e+06    432  2035465.663\n",
      "Domestic        2.462265  3.410649e+06    289  1385002.226\n",
      "Domestic        2.510550  4.374093e+06    355  1744602.056\n",
      "Import          2.489607  3.903455e+06    333  1565047.403\n",
      "Domestic        2.469293  2.998018e+06    231  1214391.905\n",
      "Import          2.465209  4.220544e+06    359  1704943.392\n",
      "Import          2.511329  3.593985e+06    300  1426531.789\n",
      "Domestic        2.473231  3.639119e+06    282  1472179.766\n",
      "Import          2.486367  4.296611e+06    357  1728430.010\n",
      "Domestic        2.447250  4.177041e+06    319  1705771.088\n",
      "Domestic        2.529287  4.540250e+06    372  1792007.854\n",
      "Import          2.496115  3.959940e+06    320  1582922.081\n",
      "Import          2.449100  5.370296e+06    450  2196571.042\n",
      "Domestic        2.532361  1.845812e+06    148   728532.607\n",
      "Import          2.498259  3.890364e+06    331  1553928.438\n",
      "Domestic        2.455141  5.488663e+06    442  2242816.947\n",
      "Domestic        2.458832  4.791519e+06    382  1950699.022\n",
      "Import          2.524333  3.794786e+06    309  1507949.843\n",
      "\n",
      "[78 rows x 4 columns]\n"
     ]
    }
   ],
   "source": [
    "print(df_inst_all[-1])"
   ]
  },
  {
   "cell_type": "code",
   "execution_count": 88,
   "metadata": {
    "collapsed": false
   },
   "outputs": [
    {
     "name": "stdout",
     "output_type": "stream",
     "text": [
      "[232 300 370 302 365 471 402 273 402 253 282 367 505 299 229 150 395 236]\n"
     ]
    }
   ],
   "source": [
    "print(df_inst_all[0].at['Domestic', 'Count'])"
   ]
  },
  {
   "cell_type": "code",
   "execution_count": 99,
   "metadata": {
    "collapsed": false
   },
   "outputs": [],
   "source": [
    "a = df_inst_all[0].at['Domestic', 'Count'] + df_inst_all[0].at['Import', 'Count']"
   ]
  },
  {
   "cell_type": "code",
   "execution_count": 109,
   "metadata": {
    "collapsed": true
   },
   "outputs": [],
   "source": [
    "a = df_inst_all[0].at['Import', 'Price_per_watt']"
   ]
  },
  {
   "cell_type": "code",
   "execution_count": 100,
   "metadata": {
    "collapsed": true
   },
   "outputs": [],
   "source": [
    "b = df_inst_all[-1].at['Domestic', 'Count'] + df_inst_all[-1].at['Import', 'Count']"
   ]
  },
  {
   "cell_type": "code",
   "execution_count": 110,
   "metadata": {
    "collapsed": true
   },
   "outputs": [],
   "source": [
    "b = df_inst_all[-1].at['Import', 'Price_per_watt']"
   ]
  },
  {
   "cell_type": "code",
   "execution_count": 62,
   "metadata": {
    "collapsed": false
   },
   "outputs": [],
   "source": [
    "import scipy as sp\n",
    "import scipy.stats"
   ]
  },
  {
   "cell_type": "code",
   "execution_count": 111,
   "metadata": {
    "collapsed": false
   },
   "outputs": [
    {
     "data": {
      "text/plain": [
       "Ks_2sampResult(statistic=0.18910256410256404, pvalue=0.95126197268159907)"
      ]
     },
     "execution_count": 111,
     "metadata": {},
     "output_type": "execute_result"
    }
   ],
   "source": [
    "sp.stats.ks_2samp(a, b)"
   ]
  },
  {
   "cell_type": "code",
   "execution_count": 37,
   "metadata": {
    "collapsed": false
   },
   "outputs": [
    {
     "name": "stdout",
     "output_type": "stream",
     "text": [
      "3454539.813\n",
      "3570106.433\n",
      "3670514.41\n",
      "3617376.618\n",
      "3729870.291\n"
     ]
    }
   ],
   "source": [
    "for i in range(len(df_inst_mean)):\n",
    "    print(np.sum(df_inst_mean[i]['DC_size']))"
   ]
  },
  {
   "cell_type": "code",
   "execution_count": 38,
   "metadata": {
    "collapsed": false
   },
   "outputs": [
    {
     "name": "stdout",
     "output_type": "stream",
     "text": [
      "8562676.44322\n",
      "8858786.94856\n",
      "9157321.14351\n",
      "8925637.80832\n",
      "9283747.78357\n"
     ]
    }
   ],
   "source": [
    "for i in range(len(df_inst_mean)):\n",
    "    print(np.sum(df_inst_mean[i]['Total_price']))"
   ]
  },
  {
   "cell_type": "code",
   "execution_count": 39,
   "metadata": {
    "collapsed": false
   },
   "outputs": [
    {
     "name": "stdout",
     "output_type": "stream",
     "text": [
      "720\n",
      "725\n",
      "761\n",
      "723\n",
      "768\n"
     ]
    }
   ],
   "source": [
    "for i in range(len(df_inst_mean)):\n",
    "    print(np.sum(df_inst_mean[i]['Count']))"
   ]
  },
  {
   "cell_type": "code",
   "execution_count": 40,
   "metadata": {
    "collapsed": false
   },
   "outputs": [
    {
     "data": {
      "text/plain": [
       "405"
      ]
     },
     "execution_count": 40,
     "metadata": {},
     "output_type": "execute_result"
    }
   ],
   "source": [
    "df_inst_mean[i].at['Domestic', 'Count']"
   ]
  },
  {
   "cell_type": "code",
   "execution_count": 41,
   "metadata": {
    "collapsed": true
   },
   "outputs": [],
   "source": [
    "data_columns = ['Domestic',\\\n",
    "                   'Foreign']\n",
    "data_installs_origin = []\n",
    "for i in range(N_TESTS):\n",
    "    data_installs_origin.append([df_inst_mean[i].at['Domestic', 'Count'], \\\n",
    "                      df_inst_mean[i].at['Import', 'Count'],\\\n",
    "                                df_inst_mean[i].at['Domestic', 'Total_price'],\\\n",
    "                                df_inst_mean[i].at['Import', 'Total_price']])"
   ]
  },
  {
   "cell_type": "code",
   "execution_count": 42,
   "metadata": {
    "collapsed": false
   },
   "outputs": [
    {
     "name": "stdout",
     "output_type": "stream",
     "text": [
      "[[395, 325, 4680559.6738339327, 3882116.7693883488], [431, 294, 5297953.8044127962, 3560833.1441468392], [505, 256, 6130633.7133115949, 3026687.4301980417], [357, 366, 4475053.3926090728, 4450584.4157118713], [405, 363, 4947695.6967205359, 4336052.0868490888]]\n"
     ]
    }
   ],
   "source": [
    "print(data_installs_origin)"
   ]
  },
  {
   "cell_type": "code",
   "execution_count": 43,
   "metadata": {
    "collapsed": true
   },
   "outputs": [],
   "source": [
    "data_installs_plot = np.array(data_installs_origin)\n"
   ]
  },
  {
   "cell_type": "code",
   "execution_count": 44,
   "metadata": {
    "collapsed": false
   },
   "outputs": [
    {
     "name": "stdout",
     "output_type": "stream",
     "text": [
      "[[  3.95000000e+02   4.31000000e+02   5.05000000e+02   3.57000000e+02\n",
      "    4.05000000e+02]\n",
      " [  3.25000000e+02   2.94000000e+02   2.56000000e+02   3.66000000e+02\n",
      "    3.63000000e+02]\n",
      " [  4.68055967e+06   5.29795380e+06   6.13063371e+06   4.47505339e+06\n",
      "    4.94769570e+06]\n",
      " [  3.88211677e+06   3.56083314e+06   3.02668743e+06   4.45058442e+06\n",
      "    4.33605209e+06]]\n"
     ]
    }
   ],
   "source": [
    "print(data_installs_plot.T)"
   ]
  },
  {
   "cell_type": "code",
   "execution_count": 45,
   "metadata": {
    "collapsed": false
   },
   "outputs": [
    {
     "data": {
      "text/plain": [
       "array([ 395.,  431.,  505.,  357.,  405.])"
      ]
     },
     "execution_count": 45,
     "metadata": {},
     "output_type": "execute_result"
    }
   ],
   "source": [
    "data_installs_plot.T[0][0:N_TESTS]"
   ]
  },
  {
   "cell_type": "code",
   "execution_count": 46,
   "metadata": {
    "collapsed": false
   },
   "outputs": [
    {
     "data": {
      "text/plain": [
       "array([ 325.,  294.,  256.,  366.,  363.])"
      ]
     },
     "execution_count": 46,
     "metadata": {},
     "output_type": "execute_result"
    }
   ],
   "source": [
    "data_installs_plot.T[1][0:N_TESTS]"
   ]
  },
  {
   "cell_type": "code",
   "execution_count": 48,
   "metadata": {
    "collapsed": false
   },
   "outputs": [
    {
     "name": "stdout",
     "output_type": "stream",
     "text": [
      "[ 325.  294.  256.  366.  363.]\n",
      "[ 395.  431.  505.  357.  405.]\n"
     ]
    },
    {
     "data": {
      "image/png": "[encoded data removed]",
      "text/plain": [
       "<matplotlib.figure.Figure at 0x279bc6e9c18>"
      ]
     },
     "metadata": {},
     "output_type": "display_data"
    }
   ],
   "source": [
    "#number of dropouts as stacked bars\n",
    "data_mode = 'permit_bm_'\n",
    "test_mode = 'installs_origin'\n",
    "fig, axes_ = plt.subplots(nrows=1, ncols=1)\n",
    "fig.subplots_adjust(bottom=0.25)\n",
    "\n",
    "#if ncols = 1  - transform into list\n",
    "par1 = axes_.twinx()\n",
    "axes = [axes_, par1]\n",
    "\n",
    "ind = np.arange(len(dfs_logs))    # the x locations for the groups\n",
    "width = 0.35       # the width of the bars: can also be len(x) sequence\n",
    "\n",
    "\n",
    "colors_drops = tuple(['whitesmoke', 'yellowgreen', 'coral'])\n",
    "\n",
    "#N_TESTS = len(dfs_logs)\n",
    "labels_raw = ['domestic', 'foreign']\n",
    "labels_hist = ['' + x for x in labels_raw]\n",
    "\n",
    "p1 = axes[0].bar(ind[0:N_TESTS], data_installs_plot.T[0][0:N_TESTS]/10000,\\\n",
    "                 width, color=colors_drops[0], label = labels_hist[0])\n",
    "lines = [p1]\n",
    "\n",
    "\n",
    "\n",
    "for bin_ in range(1, 2, 1):\n",
    "    print(data_installs_plot.T[bin_][0:N_TESTS])\n",
    "    print(data_installs_plot.T[bin_ - 1][0:N_TESTS])\n",
    "    p2 = axes[0].bar(ind[0:N_TESTS], \\\n",
    "                     data_installs_plot.T[bin_][0:N_TESTS]/10000, \\\n",
    "                     width, color=colors_drops[bin_], \\\n",
    "                  bottom=data_installs_plot.T[bin_ - 1][0:N_TESTS]/10000, label = labels_hist[bin_])\n",
    "    lines.append(p2)\n",
    "    \n",
    "axes[0].set_xlabel(\"Test case\")\n",
    "axes[0].set_ylabel(\"Installs as a share of installed population\")\n",
    "#axes[0].set_title('Accumulated % installations \\n by the level \\n of income', fontsize=10)\n",
    "\n",
    "\n",
    "axes[0].set_xticks(ind[0:N_TESTS] + width / 2)\n",
    "axes[0].set_xticklabels(ind[0:N_TESTS])\n",
    "labels = ['permit ' + str(x) for x in np.linspace(-0.5,1.5,N_TESTS,endpoint=True)]\n",
    "x_labels = labels\n",
    "axes[0].set_xticklabels(x_labels)\n",
    "\n",
    "# Put a legend below current axis\n",
    "lgd = axes[0].legend(lines, [l.get_label() for l in lines], loc='upper center', bbox_to_anchor=(0.5, -0.15),\\\n",
    "          fancybox=False, shadow=False, fontsize='10', ncol = 2)\n",
    "\n",
    "\n",
    "markers = [\"o-\", \"--\", \"--\", \"--\", \"*-\"]\n",
    "markerfacecolors = colors_drops\n",
    "colors_l = ['r', 'r', 'r']\n",
    "\n",
    "\n",
    "#number of installs\n",
    "pi, = axes[1].plot(ind, data_installs_plot.T[2][0:N_TESTS]/1000000, markers[1], linewidth=5,color = markerfacecolors[0])\n",
    "pi, = axes[1].plot(ind, data_installs_plot.T[3][0:N_TESTS]/1000000, markers[1], linewidth=5,color = markerfacecolors[1])\n",
    "\n",
    "axes[1].set_ylabel(\"Total revenue mln.\")\n",
    "\n",
    "\n",
    "plt.tight_layout()\n",
    "plt.savefig('Simulation_results_' + data_mode + test_mode + '_May22' + '.png', dpi=300, bbox_extra_artists=(lgd,), bbox_inches='tight')\n",
    "plt.show()"
   ]
  },
  {
   "cell_type": "code",
   "execution_count": null,
   "metadata": {
    "collapsed": true
   },
   "outputs": [],
   "source": [
    "a = "
   ]
  },
  {
   "cell_type": "code",
   "execution_count": 4,
   "metadata": {
    "collapsed": true
   },
   "outputs": [],
   "source": [
    "N_SEEDS = 8 \n",
    "N_TESTS = 5"
   ]
  },
  {
   "cell_type": "code",
   "execution_count": 50,
   "metadata": {
    "collapsed": true
   },
   "outputs": [],
   "source": [
    "def collect_data_for_simulation_runs_from_inst(N_TESTS, dfs_inst, dfs_inst_std):\n",
    "\n",
    "    test_mode = 'BaseVer02'\n",
    "    data_mode = 'CA'\n",
    "    #here think how to change it\n",
    "    params_versions = [str(x) for x in np.linspace(-0.5,1.5,N_TESTS,endpoint=True)]\n",
    "    params_versions.append(str(5.0))\n",
    "\n",
    "    #names of columns in a file\n",
    "    names = ['Tick', 'Location_x', 'Location_y', 'Uid', 'Price_per_watt', 'DC_size', 'Origin', 'Efficency','EquipmentType', 'InteractionType','Mart_type']\n",
    "    #names = ['Tick', 'Location_x', 'Location_y', 'Uid', 'Price_per_watt', 'DC_size', 'Origin', 'Mart_type']\n",
    "\n",
    "\n",
    "    for i_run in range(N_TESTS + 1): \n",
    "        #read few files\n",
    "        #save into database\n",
    "        dfs_ = []\n",
    "        #read last simulation result\n",
    "        files = glob.glob('..\\\\..\\\\ABMIRISLab\\\\Saves\\\\May-14-2018\\\\BaseModel\\\\'+ test_mode + '\\\\' + data_mode + \\\n",
    "                 '\\\\permit' + params_versions[i_run] + '\\\\*[_pr].csv')\n",
    "        files.sort(key=os.path.getmtime, reverse=True)\n",
    "\n",
    "        #take top x files \n",
    "        for file in files[0 * N_SEEDS : 1 * N_SEEDS]:\n",
    "            print(file)\n",
    "            df_ = pd.read_csv(file, names=names, low_memory=False, na_values = ['-nan(ind)'])\n",
    "            df_['Total_price'] = df_['Price_per_watt'] * df_['DC_size']\n",
    "            dfs_.append(df_)\n",
    "\n",
    "\n",
    "        #create df from them    \n",
    "        df_concat = pd.concat(dfs_)\n",
    "        \n",
    "        \n",
    "        df_inst_mean = df_concat.groupby(level=0).mean()\n",
    "        df_inst_std = df_concat.groupby(level=0).std()\n",
    "        \n",
    "        dfs_inst.append(dfs_)"
   ]
  },
  {
   "cell_type": "code",
   "execution_count": 51,
   "metadata": {
    "collapsed": false
   },
   "outputs": [
    {
     "name": "stdout",
     "output_type": "stream",
     "text": [
      "..\\..\\ABMIRISLab\\Saves\\May-14-2018\\BaseModel\\BaseVer02\\CA\\permit-0.5\\f4fd1762-f088-4828-9914-955c7c971541_pr.csv\n",
      "..\\..\\ABMIRISLab\\Saves\\May-14-2018\\BaseModel\\BaseVer02\\CA\\permit-0.5\\ee9accb6-a6ea-48a1-9211-22186174e37c_pr.csv\n",
      "..\\..\\ABMIRISLab\\Saves\\May-14-2018\\BaseModel\\BaseVer02\\CA\\permit-0.5\\2064a9bc-4295-48f9-b1c7-e882b949239c_pr.csv\n",
      "..\\..\\ABMIRISLab\\Saves\\May-14-2018\\BaseModel\\BaseVer02\\CA\\permit-0.5\\db4c1f16-d9f9-4759-969d-16e1c95803a2_pr.csv\n",
      "..\\..\\ABMIRISLab\\Saves\\May-14-2018\\BaseModel\\BaseVer02\\CA\\permit-0.5\\00cb64c2-3a17-4ada-958b-d366e45b50dc_pr.csv\n",
      "..\\..\\ABMIRISLab\\Saves\\May-14-2018\\BaseModel\\BaseVer02\\CA\\permit-0.5\\aac7628f-cf19-46c1-a3f8-2ccd77a15ebc_pr.csv\n",
      "..\\..\\ABMIRISLab\\Saves\\May-14-2018\\BaseModel\\BaseVer02\\CA\\permit-0.5\\89fc31a8-6b4a-484c-b4da-07c170c81609_pr.csv\n",
      "..\\..\\ABMIRISLab\\Saves\\May-14-2018\\BaseModel\\BaseVer02\\CA\\permit-0.5\\71519c82-3716-43ae-b372-8319e9b2b5f5_pr.csv\n",
      "..\\..\\ABMIRISLab\\Saves\\May-14-2018\\BaseModel\\BaseVer02\\CA\\permit0.0\\cc6d5c3c-668d-46cc-a23c-0cb6664765cb_pr.csv\n",
      "..\\..\\ABMIRISLab\\Saves\\May-14-2018\\BaseModel\\BaseVer02\\CA\\permit0.0\\23163200-b562-4ef4-8779-72c929ace178_pr.csv\n",
      "..\\..\\ABMIRISLab\\Saves\\May-14-2018\\BaseModel\\BaseVer02\\CA\\permit0.0\\a6a6de9c-559e-4919-9ac5-90d539735b56_pr.csv\n",
      "..\\..\\ABMIRISLab\\Saves\\May-14-2018\\BaseModel\\BaseVer02\\CA\\permit0.0\\b0b4483f-5253-4854-9b14-c187339c0668_pr.csv\n",
      "..\\..\\ABMIRISLab\\Saves\\May-14-2018\\BaseModel\\BaseVer02\\CA\\permit0.0\\300ec3c7-987a-4d89-8f85-32fa5b917c89_pr.csv\n",
      "..\\..\\ABMIRISLab\\Saves\\May-14-2018\\BaseModel\\BaseVer02\\CA\\permit0.0\\9b4ba4e3-de0a-4357-9d43-6e6054464e21_pr.csv\n",
      "..\\..\\ABMIRISLab\\Saves\\May-14-2018\\BaseModel\\BaseVer02\\CA\\permit0.0\\f280f6b3-a23c-4509-a6e9-ab1e8cb740a0_pr.csv\n",
      "..\\..\\ABMIRISLab\\Saves\\May-14-2018\\BaseModel\\BaseVer02\\CA\\permit0.0\\bfbb737b-c9ef-429e-9168-5effc6db31c2_pr.csv\n",
      "..\\..\\ABMIRISLab\\Saves\\May-14-2018\\BaseModel\\BaseVer02\\CA\\permit0.5\\46358320-648b-40d6-b704-35cb18578f69_pr.csv\n",
      "..\\..\\ABMIRISLab\\Saves\\May-14-2018\\BaseModel\\BaseVer02\\CA\\permit0.5\\855bf07a-cf46-4c21-8dfc-eb98108e7354_pr.csv\n",
      "..\\..\\ABMIRISLab\\Saves\\May-14-2018\\BaseModel\\BaseVer02\\CA\\permit0.5\\7e646be3-2f85-40a3-b6d3-2dd6eb57f912_pr.csv\n",
      "..\\..\\ABMIRISLab\\Saves\\May-14-2018\\BaseModel\\BaseVer02\\CA\\permit0.5\\84770df2-dc25-4cdf-9752-9a583571c484_pr.csv\n",
      "..\\..\\ABMIRISLab\\Saves\\May-14-2018\\BaseModel\\BaseVer02\\CA\\permit0.5\\4b6be492-e613-4f3a-bc61-41b2497a908c_pr.csv\n",
      "..\\..\\ABMIRISLab\\Saves\\May-14-2018\\BaseModel\\BaseVer02\\CA\\permit0.5\\6deb85d8-7466-43cd-b7fa-9759fbe9f77a_pr.csv\n",
      "..\\..\\ABMIRISLab\\Saves\\May-14-2018\\BaseModel\\BaseVer02\\CA\\permit0.5\\76a46d2b-65f0-4add-b316-635685844f78_pr.csv\n",
      "..\\..\\ABMIRISLab\\Saves\\May-14-2018\\BaseModel\\BaseVer02\\CA\\permit0.5\\cfc51b00-713f-4153-85db-d58d42f23018_pr.csv\n",
      "..\\..\\ABMIRISLab\\Saves\\May-14-2018\\BaseModel\\BaseVer02\\CA\\permit1.0\\34313f2f-5278-46d9-af01-dc009f6b718c_pr.csv\n",
      "..\\..\\ABMIRISLab\\Saves\\May-14-2018\\BaseModel\\BaseVer02\\CA\\permit1.0\\4b755a16-6e81-4d64-a388-3a6dd7675361_pr.csv\n",
      "..\\..\\ABMIRISLab\\Saves\\May-14-2018\\BaseModel\\BaseVer02\\CA\\permit1.0\\0f3b5256-1133-4b41-8ead-0da027e4efee_pr.csv\n",
      "..\\..\\ABMIRISLab\\Saves\\May-14-2018\\BaseModel\\BaseVer02\\CA\\permit1.0\\f4fe1063-12b3-4deb-86f7-46340933046c_pr.csv\n",
      "..\\..\\ABMIRISLab\\Saves\\May-14-2018\\BaseModel\\BaseVer02\\CA\\permit1.0\\5d628c16-5c43-4ed7-894d-3e21ad802edd_pr.csv\n",
      "..\\..\\ABMIRISLab\\Saves\\May-14-2018\\BaseModel\\BaseVer02\\CA\\permit1.0\\f7288ca3-c192-42fc-b024-d302b2fa3054_pr.csv\n",
      "..\\..\\ABMIRISLab\\Saves\\May-14-2018\\BaseModel\\BaseVer02\\CA\\permit1.0\\eae76c13-134a-4d27-bef4-84505d7f80a2_pr.csv\n",
      "..\\..\\ABMIRISLab\\Saves\\May-14-2018\\BaseModel\\BaseVer02\\CA\\permit1.0\\9c9d1560-6a1c-47cf-867a-5aa67ab7eb89_pr.csv\n",
      "..\\..\\ABMIRISLab\\Saves\\May-14-2018\\BaseModel\\BaseVer02\\CA\\permit1.5\\00666a2c-7995-4db2-8917-5c8cb6d34cc3_pr.csv\n",
      "..\\..\\ABMIRISLab\\Saves\\May-14-2018\\BaseModel\\BaseVer02\\CA\\permit1.5\\0ec33c2d-4f0f-4d33-be8e-8021a08453b6_pr.csv\n",
      "..\\..\\ABMIRISLab\\Saves\\May-14-2018\\BaseModel\\BaseVer02\\CA\\permit1.5\\a719cc20-8c1b-4d5f-afea-125fda879a4f_pr.csv\n",
      "..\\..\\ABMIRISLab\\Saves\\May-14-2018\\BaseModel\\BaseVer02\\CA\\permit1.5\\5093b46f-39d3-437a-978c-8cc48d7fe9a0_pr.csv\n",
      "..\\..\\ABMIRISLab\\Saves\\May-14-2018\\BaseModel\\BaseVer02\\CA\\permit1.5\\5b6e8f8b-1179-4e07-bb32-68a52cf358e2_pr.csv\n",
      "..\\..\\ABMIRISLab\\Saves\\May-14-2018\\BaseModel\\BaseVer02\\CA\\permit1.5\\9b0a167d-5b44-485c-bb74-3e2d175868b0_pr.csv\n",
      "..\\..\\ABMIRISLab\\Saves\\May-14-2018\\BaseModel\\BaseVer02\\CA\\permit1.5\\ffbf88b1-0a08-4cad-9cca-dc8d459e1a3f_pr.csv\n",
      "..\\..\\ABMIRISLab\\Saves\\May-14-2018\\BaseModel\\BaseVer02\\CA\\permit1.5\\7232e2c0-c8b5-4f07-beae-d59808c1a8d1_pr.csv\n",
      "..\\..\\ABMIRISLab\\Saves\\May-14-2018\\BaseModel\\BaseVer02\\CA\\permit5.0\\a001cbc8-74a6-4f95-9332-c33332dffc08_pr.csv\n",
      "..\\..\\ABMIRISLab\\Saves\\May-14-2018\\BaseModel\\BaseVer02\\CA\\permit5.0\\0b78604e-0397-48c3-aeda-d09d936167c8_pr.csv\n",
      "..\\..\\ABMIRISLab\\Saves\\May-14-2018\\BaseModel\\BaseVer02\\CA\\permit5.0\\db9e3e0a-d96c-4196-89df-b113cbe293a0_pr.csv\n",
      "..\\..\\ABMIRISLab\\Saves\\May-14-2018\\BaseModel\\BaseVer02\\CA\\permit5.0\\8505ca1b-f684-4076-bcaa-8665170559c4_pr.csv\n",
      "..\\..\\ABMIRISLab\\Saves\\May-14-2018\\BaseModel\\BaseVer02\\CA\\permit5.0\\801396ff-0d68-403c-9383-d269b4200b77_pr.csv\n",
      "..\\..\\ABMIRISLab\\Saves\\May-14-2018\\BaseModel\\BaseVer02\\CA\\permit5.0\\6619a3a1-409c-47bc-87be-74f43b284686_pr.csv\n",
      "..\\..\\ABMIRISLab\\Saves\\May-14-2018\\BaseModel\\BaseVer02\\CA\\permit5.0\\096ce4e9-bcee-494f-8136-841e996cafc2_pr.csv\n",
      "..\\..\\ABMIRISLab\\Saves\\May-14-2018\\BaseModel\\BaseVer02\\CA\\permit5.0\\7644605b-3ed3-47e8-9d33-c9122126e136_pr.csv\n"
     ]
    }
   ],
   "source": [
    "dfs_inst = []\n",
    "dfs_inst_std = []\n",
    "collect_data_for_simulation_runs_from_inst(N_TESTS, dfs_inst, dfs_inst_std)"
   ]
  },
  {
   "cell_type": "code",
   "execution_count": 9,
   "metadata": {
    "collapsed": false
   },
   "outputs": [],
   "source": [
    "a = df_inst_all[0].at['Domestic', 'Count'] + df_inst_all[0].at['Import', 'Count']"
   ]
  },
  {
   "cell_type": "code",
   "execution_count": 52,
   "metadata": {
    "collapsed": true
   },
   "outputs": [],
   "source": [
    "dfs_agg_inst = []\n",
    "df_inst_all = []\n",
    "df_inst_mean = []\n",
    "\n",
    "for i in range(len(dfs_inst)):\n",
    "    for df_ in dfs_inst[i]:\n",
    "#        print(df_)\n",
    "        df_['Count'] = 1\n",
    "        grouped = df_.groupby('Origin', sort=False)\n",
    "        df_agg = grouped.agg({'Total_price' : np.sum,\\\n",
    "                 'DC_size' : np.sum, \\\n",
    "                'Count' : np.sum,\n",
    "                             'Price_per_watt': np.average})\n",
    "        dfs_agg_inst.append(df_agg)\n",
    "\n",
    "    df_inst_all.append(pd.concat(dfs_agg_inst))\n",
    "    df_inst_mean.append(df_agg.groupby(level=0).mean())"
   ]
  },
  {
   "cell_type": "code",
   "execution_count": 53,
   "metadata": {
    "collapsed": false
   },
   "outputs": [
    {
     "name": "stdout",
     "output_type": "stream",
     "text": [
      "6\n"
     ]
    }
   ],
   "source": [
    "print(len(dfs_inst))"
   ]
  },
  {
   "cell_type": "code",
   "execution_count": 54,
   "metadata": {
    "collapsed": false
   },
   "outputs": [
    {
     "name": "stdout",
     "output_type": "stream",
     "text": [
      "[2005 1684 1801 1832 1855 1888 1865 1621]\n",
      "[2005 1684 1801 1832 1855 1888 1865 1621 1763 1657 2011 1909 2074 2076 1883\n",
      " 1755]\n",
      "[2005 1684 1801 1832 1855 1888 1865 1621 1763 1657 2011 1909 2074 2076 1883\n",
      " 1755 1879 1762 1712 1807 1735 1900 1907 1691]\n",
      "[2005 1684 1801 1832 1855 1888 1865 1621 1763 1657 2011 1909 2074 2076 1883\n",
      " 1755 1879 1762 1712 1807 1735 1900 1907 1691 1672 1655 1955 1817 1698 1552\n",
      " 2059 1856]\n",
      "[2005 1684 1801 1832 1855 1888 1865 1621 1763 1657 2011 1909 2074 2076 1883\n",
      " 1755 1879 1762 1712 1807 1735 1900 1907 1691 1672 1655 1955 1817 1698 1552\n",
      " 2059 1856 1793 1872 1886 1936 1651 1798 1652 1898]\n",
      "[2005 1684 1801 1832 1855 1888 1865 1621 1763 1657 2011 1909 2074 2076 1883\n",
      " 1755 1879 1762 1712 1807 1735 1900 1907 1691 1672 1655 1955 1817 1698 1552\n",
      " 2059 1856 1793 1872 1886 1936 1651 1798 1652 1898 1605 1446 1906 1573 1362\n",
      " 1170 1289 1476]\n"
     ]
    }
   ],
   "source": [
    "for df_ in df_inst_all:\n",
    "    print(df_.at['Domestic', 'Count'] + df_.at['Import', 'Count'])"
   ]
  },
  {
   "cell_type": "code",
   "execution_count": 55,
   "metadata": {
    "collapsed": false
   },
   "outputs": [],
   "source": [
    "data = np.zeros((8,6))\n",
    "for i in range(N_TESTS +1):\n",
    "    data[:,i]=df_inst_all[-1].at['Domestic', 'Count'][i*N_SEEDS:(i+1)*N_SEEDS] + df_inst_all[-1].at['Import', 'Count'][i*N_SEEDS:(i+1)*N_SEEDS]"
   ]
  },
  {
   "cell_type": "code",
   "execution_count": 56,
   "metadata": {
    "collapsed": false
   },
   "outputs": [
    {
     "ename": "NameError",
     "evalue": "name 'lgd' is not defined",
     "output_type": "error",
     "traceback": [
      "\u001b[0;31m---------------------------------------------------------------------------\u001b[0m",
      "\u001b[0;31mNameError\u001b[0m                                 Traceback (most recent call last)",
      "\u001b[0;32m<ipython-input-56-8fc772129e32>\u001b[0m in \u001b[0;36m<module>\u001b[0;34m()\u001b[0m\n\u001b[1;32m     14\u001b[0m \u001b[1;33m\u001b[0m\u001b[0m\n\u001b[1;32m     15\u001b[0m \u001b[0mplt\u001b[0m\u001b[1;33m.\u001b[0m\u001b[0mtight_layout\u001b[0m\u001b[1;33m(\u001b[0m\u001b[1;33m)\u001b[0m\u001b[1;33m\u001b[0m\u001b[0m\n\u001b[0;32m---> 16\u001b[0;31m \u001b[0mplt\u001b[0m\u001b[1;33m.\u001b[0m\u001b[0msavefig\u001b[0m\u001b[1;33m(\u001b[0m\u001b[1;34m'Simulation_results_'\u001b[0m \u001b[1;33m+\u001b[0m \u001b[0mdata_mode\u001b[0m \u001b[1;33m+\u001b[0m \u001b[0mtest_mode\u001b[0m \u001b[1;33m+\u001b[0m \u001b[1;34m'_Jul29'\u001b[0m \u001b[1;33m+\u001b[0m \u001b[1;34m'.png'\u001b[0m\u001b[1;33m,\u001b[0m \u001b[0mdpi\u001b[0m\u001b[1;33m=\u001b[0m\u001b[1;36m300\u001b[0m\u001b[1;33m,\u001b[0m \u001b[0mbbox_extra_artists\u001b[0m\u001b[1;33m=\u001b[0m\u001b[1;33m(\u001b[0m\u001b[0mlgd\u001b[0m\u001b[1;33m,\u001b[0m\u001b[1;33m)\u001b[0m\u001b[1;33m,\u001b[0m \u001b[0mbbox_inches\u001b[0m\u001b[1;33m=\u001b[0m\u001b[1;34m'tight'\u001b[0m\u001b[1;33m)\u001b[0m\u001b[1;33m\u001b[0m\u001b[0m\n\u001b[0m\u001b[1;32m     17\u001b[0m \u001b[0mplt\u001b[0m\u001b[1;33m.\u001b[0m\u001b[0mshow\u001b[0m\u001b[1;33m(\u001b[0m\u001b[1;33m)\u001b[0m\u001b[1;33m\u001b[0m\u001b[0m\n",
      "\u001b[0;31mNameError\u001b[0m: name 'lgd' is not defined"
     ]
    },
    {
     "data": {
      "image/png": "[encoded data removed]",
      "text/plain": [
       "<matplotlib.figure.Figure at 0x1634d2e2320>"
      ]
     },
     "metadata": {},
     "output_type": "display_data"
    }
   ],
   "source": [
    "#number of dropouts as stacked bars\n",
    "data_mode = 'permit_bm_'\n",
    "test_mode = 'installs_origin'\n",
    "fig, axes_ = plt.subplots(nrows=1, ncols=1)\n",
    "fig.subplots_adjust(bottom=0.25)\n",
    "\n",
    "#if ncols = 1  - transform into list\n",
    "par1 = axes_.twinx()\n",
    "axes = [axes_, par1]\n",
    "\n",
    "\n",
    "axes[0].boxplot(data, list('ABCDE'), showmeans=True, showbox=True)\n",
    "\n",
    "\n",
    "plt.tight_layout()\n",
    "plt.savefig('Simulation_results_' + data_mode + test_mode + '_Jul29' + '.png', dpi=300, bbox_extra_artists=(lgd,), bbox_inches='tight')\n",
    "plt.show()"
   ]
  },
  {
   "cell_type": "code",
   "execution_count": 49,
   "metadata": {
    "collapsed": false
   },
   "outputs": [
    {
     "name": "stdout",
     "output_type": "stream",
     "text": [
      "[[ 2005.  1763.  1879.  1672.  1793.     0.]\n",
      " [ 1684.  1657.  1762.  1655.  1872.     0.]\n",
      " [ 1801.  2011.  1712.  1955.  1886.     0.]\n",
      " [ 1832.  1909.  1807.  1817.  1936.     0.]\n",
      " [ 1855.  2074.  1735.  1698.  1651.     0.]\n",
      " [ 1888.  2076.  1900.  1552.  1798.     0.]\n",
      " [ 1865.  1883.  1907.  2059.  1652.     0.]\n",
      " [ 1621.  1755.  1691.  1856.  1898.     0.]]\n"
     ]
    }
   ],
   "source": [
    "print(data)"
   ]
  },
  {
   "cell_type": "code",
   "execution_count": null,
   "metadata": {
    "collapsed": true
   },
   "outputs": [],
   "source": []
  }
 ],
 "metadata": {
  "anaconda-cloud": {},
  "kernelspec": {
   "display_name": "Python [conda env:aimacro]",
   "language": "python",
   "name": "conda-env-aimacro-py"
  },
  "language_info": {
   "codemirror_mode": {
    "name": "ipython",
    "version": 3
   },
   "file_extension": ".py",
   "mimetype": "text/x-python",
   "name": "python",
   "nbconvert_exporter": "python",
   "pygments_lexer": "ipython3",
   "version": "3.5.2"
  }
 },
 "nbformat": 4,
 "nbformat_minor": 1
}
