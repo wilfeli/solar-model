{
 "cells": [
  {
   "cell_type": "code",
   "execution_count": 1,
   "metadata": {
    "collapsed": true
   },
   "outputs": [],
   "source": [
    "import ctypes\n",
    "import os\n",
    "import threading\n",
    "import pandas as pd\n",
    "import numpy as np\n",
    "%matplotlib inline\n",
    "import matplotlib.pyplot as plt\n",
    "import matplotlib\n",
    "matplotlib.style.use('ggplot')\n",
    "import math\n",
    "import concurrent.futures\n",
    "import glob"
   ]
  },
  {
   "cell_type": "code",
   "execution_count": 2,
   "metadata": {
    "collapsed": true
   },
   "outputs": [],
   "source": [
    "#data for efficiency of PV modules\n",
    "#max confirmed \n",
    "#January 2002\n",
    "#http://onlinelibrary.wiley.com.ezproxy.stanford.edu/doi/10.1002/pip.428/epdf\n",
    "eff_t = [19.8]\n",
    "\n",
    "#January 2015\n",
    "#http://onlinelibrary.wiley.com/doi/10.1002/pip.2728/full Si (multicrystalline) \n",
    "eff_t.append(21.25)"
   ]
  },
  {
   "cell_type": "code",
   "execution_count": 3,
   "metadata": {
    "collapsed": true
   },
   "outputs": [],
   "source": [
    "#calculate annual increase year 2002 to year 2015 \n",
    "eff_df = math.log(eff_t[1]/eff_t[0])/(15-2+1)"
   ]
  },
  {
   "cell_type": "code",
   "execution_count": 4,
   "metadata": {
    "collapsed": false
   },
   "outputs": [
    {
     "name": "stdout",
     "output_type": "stream",
     "text": [
      "0.005048211262138297\n"
     ]
    }
   ],
   "source": [
    "print(eff_df)"
   ]
  },
  {
   "cell_type": "code",
   "execution_count": null,
   "metadata": {
    "collapsed": true
   },
   "outputs": [],
   "source": [
    "#learning curve of 73% - so price decrease of 27% per year \n",
    "#see https://www-cdn.law.stanford.edu/wp-content/uploads/2015/06/Reichelstein-Sahoo-CostandPriceRevision-Nov2015.pdf p.32"
   ]
  },
  {
   "cell_type": "code",
   "execution_count": null,
   "metadata": {
    "collapsed": true
   },
   "outputs": [],
   "source": [
    "#data for electricty consumption growth \n",
    "#Retail_sales_of_electricity_annual_(Indexed_to_2009_as_percent).csv"
   ]
  }
 ],
 "metadata": {
  "kernelspec": {
   "display_name": "Python 3",
   "language": "python",
   "name": "python3"
  },
  "language_info": {
   "codemirror_mode": {
    "name": "ipython",
    "version": 3
   },
   "file_extension": ".py",
   "mimetype": "text/x-python",
   "name": "python",
   "nbconvert_exporter": "python",
   "pygments_lexer": "ipython3",
   "version": "3.5.0"
  }
 },
 "nbformat": 4,
 "nbformat_minor": 0
}
