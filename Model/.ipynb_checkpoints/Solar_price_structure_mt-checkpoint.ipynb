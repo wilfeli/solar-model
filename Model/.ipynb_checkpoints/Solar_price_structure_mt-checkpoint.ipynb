{
 "cells": [
  {
   "cell_type": "code",
   "execution_count": 1,
   "metadata": {
    "collapsed": false
   },
   "outputs": [],
   "source": [
    "import pandas as pd\n",
    "import numpy as np\n",
    "%matplotlib inline\n",
    "import matplotlib.pyplot as plt\n",
    "from matplotlib import cm\n",
    "import matplotlib\n",
    "matplotlib.style.use('ggplot')\n",
    "#ols models\n",
    "import statsmodels.formula.api as sm\n",
    "from patsy import dmatrices\n",
    "import re\n",
    "import scipy as sp\n",
    "from tools import print_columns"
   ]
  },
  {
   "cell_type": "code",
   "execution_count": 2,
   "metadata": {
    "collapsed": true
   },
   "outputs": [],
   "source": [
    "#read data\n",
    "df_full = pd.read_csv(\"../../Data/MA_InstallersCostsReport 10-08-15.csv\", low_memory=False)"
   ]
  },
  {
   "cell_type": "code",
   "execution_count": 3,
   "metadata": {
    "collapsed": true
   },
   "outputs": [],
   "source": [
    "df_full.columns = df_full.columns.str.replace(' ','_')\n",
    "#df_full = df_full[(df_full.T != 0).all()]"
   ]
  },
  {
   "cell_type": "code",
   "execution_count": null,
   "metadata": {
    "collapsed": false
   },
   "outputs": [],
   "source": [
    "print_columns(df_full)"
   ]
  },
  {
   "cell_type": "code",
   "execution_count": 5,
   "metadata": {
    "collapsed": true
   },
   "outputs": [],
   "source": [
    "#get year from date\n",
    "df_full.ix[:,3] =  pd.to_datetime(df_full.ix[:,3], infer_datetime_format=True)\n",
    "df_full['Date_in_Service_(Available_for_Projects_April_2010_and_Later)_Year'] = df_full.ix[:,3].dt.year"
   ]
  },
  {
   "cell_type": "code",
   "execution_count": 6,
   "metadata": {
    "collapsed": true
   },
   "outputs": [],
   "source": [
    "#keep cleaning\n",
    "df_full['Total_Installation_Costs'] = df_full['Total_Installation_Costs'].str.replace(r'[$,]', '').astype('float')\n"
   ]
  },
  {
   "cell_type": "code",
   "execution_count": 7,
   "metadata": {
    "collapsed": false
   },
   "outputs": [],
   "source": [
    "df_full['Installation_Cost_per_Watt'] = df_full['Installation_Cost_per_Watt'].str.replace(r'[$,]', '').astype('float')"
   ]
  },
  {
   "cell_type": "code",
   "execution_count": 8,
   "metadata": {
    "collapsed": false
   },
   "outputs": [
    {
     "name": "stderr",
     "output_type": "stream",
     "text": [
      "/Users/wilfeli/anaconda/lib/python3.5/site-packages/ipykernel/__main__.py:4: SettingWithCopyWarning: \n",
      "A value is trying to be set on a copy of a slice from a DataFrame.\n",
      "Try using .loc[row_indexer,col_indexer] = value instead\n",
      "\n",
      "See the caveats in the documentation: http://pandas.pydata.org/pandas-docs/stable/indexing.html#indexing-view-versus-copy\n"
     ]
    }
   ],
   "source": [
    "#keep cleaning\n",
    "df = df_full[(df_full['Date_in_Service_(Available_for_Projects_April_2010_and_Later)_Year'] > 2014) &\\\n",
    "             (df_full['Total_Installation_Costs'] > 0.0) &\\\n",
    "            (df_full['Project_Sector'] == 'Residential')]\n",
    "\n",
    "df['Primary_Installer_(a.k.a_Applicant_in_PowerClerk)_clear'] = df['Primary_Installer_(a.k.a_Applicant_in_PowerClerk)']"
   ]
  },
  {
   "cell_type": "code",
   "execution_count": 9,
   "metadata": {
    "collapsed": false
   },
   "outputs": [
    {
     "name": "stderr",
     "output_type": "stream",
     "text": [
      "/Users/wilfeli/anaconda/lib/python3.5/site-packages/ipykernel/__main__.py:2: SettingWithCopyWarning: \n",
      "A value is trying to be set on a copy of a slice from a DataFrame.\n",
      "Try using .loc[row_indexer,col_indexer] = value instead\n",
      "\n",
      "See the caveats in the documentation: http://pandas.pydata.org/pandas-docs/stable/indexing.html#indexing-view-versus-copy\n",
      "  from ipykernel import kernelapp as app\n"
     ]
    }
   ],
   "source": [
    "df_short = df[['Total_Installation_Costs', 'System_Size_(kW)', \\\n",
    "               'Installation_Cost_per_Watt', 'Primary_Installer_(a.k.a_Applicant_in_PowerClerk)_clear']]\n",
    "df_short['Count'] = 1"
   ]
  },
  {
   "cell_type": "code",
   "execution_count": 20,
   "metadata": {
    "collapsed": false
   },
   "outputs": [],
   "source": [
    "df_short['System_Size_AC'] = df_short['Total_Installation_Costs']/df_short['Installation_Cost_per_Watt']/1000"
   ]
  },
  {
   "cell_type": "code",
   "execution_count": 21,
   "metadata": {
    "collapsed": false
   },
   "outputs": [],
   "source": [
    "df_short['key1'] = df_short.groupby('Primary_Installer_(a.k.a_Applicant_in_PowerClerk)_clear')['Count'].transform('sum')"
   ]
  },
  {
   "cell_type": "code",
   "execution_count": 22,
   "metadata": {
    "collapsed": true
   },
   "outputs": [],
   "source": [
    "df_short = df_short.sort_values(['key1'], ascending=[False])"
   ]
  },
  {
   "cell_type": "code",
   "execution_count": 23,
   "metadata": {
    "collapsed": true
   },
   "outputs": [],
   "source": [
    "grouped = df_short.groupby('Primary_Installer_(a.k.a_Applicant_in_PowerClerk)_clear', sort=False)"
   ]
  },
  {
   "cell_type": "code",
   "execution_count": 26,
   "metadata": {
    "collapsed": false
   },
   "outputs": [],
   "source": [
    "df_agg = grouped.agg({'Total_Installation_Costs' : np.median,\\\n",
    "             'System_Size_AC' : np.median, \\\n",
    "            'Count' : np.sum, \\\n",
    "            'Installation_Cost_per_Watt' : np.median})"
   ]
  },
  {
   "cell_type": "code",
   "execution_count": 28,
   "metadata": {
    "collapsed": false
   },
   "outputs": [
    {
     "data": {
      "text/plain": [
       "(82, 4)"
      ]
     },
     "execution_count": 28,
     "metadata": {},
     "output_type": "execute_result"
    }
   ],
   "source": [
    "df_agg.shape"
   ]
  },
  {
   "cell_type": "code",
   "execution_count": 33,
   "metadata": {
    "collapsed": false
   },
   "outputs": [
    {
     "name": "stderr",
     "output_type": "stream",
     "text": [
      "/Users/wilfeli/anaconda/lib/python3.5/site-packages/matplotlib/collections.py:590: FutureWarning: elementwise comparison failed; returning scalar instead, but in the future will perform elementwise comparison\n",
      "  if self._edgecolors == str('face'):\n"
     ]
    },
    {
     "data": {
      "image/png": "[encoded data removed]",
      "text/plain": [
       "<matplotlib.figure.Figure at 0x109d01cf8>"
      ]
     },
     "metadata": {},
     "output_type": "display_data"
    }
   ],
   "source": [
    "N = df_agg.shape[0]\n",
    "x = df_agg['Installation_Cost_per_Watt']\n",
    "y = df_agg['System_Size_AC']\n",
    "norm = matplotlib.colors.Normalize(vmin=df_agg['Count'][-1], vmax=df_agg['Count'][0])\n",
    "cmap_custom = cm.get_cmap('autumn')\n",
    "area = norm(df_agg['Count'])\n",
    "color = []\n",
    "\n",
    "for area_x in area:\n",
    "    color.append(cmap_custom(area_x))\n",
    "plt.xlabel('Price Per Watt')\n",
    "plt.ylabel('System Size AC')\n",
    "plt.title('Number of installations per company')\n",
    "plt.scatter(x, y, s=df_agg['Count'],  c = color )\n",
    "plt.savefig('Installers_size.png', dpi=300)\n",
    "plt.show()"
   ]
  },
  {
   "cell_type": "code",
   "execution_count": null,
   "metadata": {
    "collapsed": true
   },
   "outputs": [],
   "source": []
  }
 ],
 "metadata": {
  "kernelspec": {
   "display_name": "Python 3",
   "language": "python",
   "name": "python3"
  },
  "language_info": {
   "codemirror_mode": {
    "name": "ipython",
    "version": 3
   },
   "file_extension": ".py",
   "mimetype": "text/x-python",
   "name": "python",
   "nbconvert_exporter": "python",
   "pygments_lexer": "ipython3",
   "version": "3.5.0"
  }
 },
 "nbformat": 4,
 "nbformat_minor": 0
}
