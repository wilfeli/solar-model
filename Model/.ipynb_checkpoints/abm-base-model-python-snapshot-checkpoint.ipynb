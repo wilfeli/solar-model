{
 "cells": [
  {
   "cell_type": "code",
   "execution_count": 1,
   "metadata": {
    "collapsed": false
   },
   "outputs": [],
   "source": [
    "#Python snapshot\n",
    "\n",
    "\n",
    "\n",
    "\n",
    "#installer with capacity \n",
    "\n",
    "\n",
    "\n",
    "import simple_model as sm \n",
    "\n",
    "\n",
    "\n",
    "\n",
    "\n",
    "\n"
   ]
  },
  {
   "cell_type": "code",
   "execution_count": 2,
   "metadata": {
    "collapsed": true
   },
   "outputs": [],
   "source": [
    "res = sm.Test.run_test(7)"
   ]
  },
  {
   "cell_type": "code",
   "execution_count": 3,
   "metadata": {
    "collapsed": false
   },
   "outputs": [
    {
     "name": "stdout",
     "output_type": "stream",
     "text": [
      "12\n"
     ]
    }
   ],
   "source": [
    "print(res)"
   ]
  },
  {
   "cell_type": "code",
   "execution_count": 4,
   "metadata": {
    "collapsed": false
   },
   "outputs": [],
   "source": [
    "res = sm.Test.run_dynamic_test(7)"
   ]
  },
  {
   "cell_type": "code",
   "execution_count": 5,
   "metadata": {
    "collapsed": false
   },
   "outputs": [
    {
     "name": "stdout",
     "output_type": "stream",
     "text": [
      "13\n"
     ]
    }
   ],
   "source": [
    "print(res)"
   ]
  },
  {
   "cell_type": "code",
   "execution_count": 6,
   "metadata": {
    "collapsed": true
   },
   "outputs": [],
   "source": [
    "def dynamic_test(value):\n",
    "    return value + 8"
   ]
  },
  {
   "cell_type": "code",
   "execution_count": 7,
   "metadata": {
    "collapsed": false
   },
   "outputs": [],
   "source": [
    "test = sm.Test()\n",
    "test.dynamic_method = dynamic_test"
   ]
  },
  {
   "cell_type": "code",
   "execution_count": 8,
   "metadata": {
    "collapsed": false
   },
   "outputs": [
    {
     "data": {
      "text/plain": [
       "15"
      ]
     },
     "execution_count": 8,
     "metadata": {},
     "output_type": "execute_result"
    }
   ],
   "source": [
    "test.dynamic_method(7)"
   ]
  },
  {
   "cell_type": "code",
   "execution_count": null,
   "metadata": {
    "collapsed": true
   },
   "outputs": [],
   "source": []
  },
  {
   "cell_type": "code",
   "execution_count": 2,
   "metadata": {
    "collapsed": false
   },
   "outputs": [],
   "source": [
    "#initialize model \n",
    "model = sm.Model()\n",
    "\n",
    "model.tearup_model()\n",
    "\n"
   ]
  },
  {
   "cell_type": "code",
   "execution_count": null,
   "metadata": {
    "collapsed": true
   },
   "outputs": [],
   "source": [
    "sm."
   ]
  },
  {
   "cell_type": "code",
   "execution_count": 3,
   "metadata": {
    "collapsed": false
   },
   "outputs": [
    {
     "name": "stdout",
     "output_type": "stream",
     "text": [
      "3.5\n",
      "12\n",
      "3.3\n",
      "14\n",
      "3.1\n",
      "16\n",
      "2.9\n",
      "17\n",
      "2.7\n",
      "23\n"
     ]
    }
   ],
   "source": [
    "for i in range(5):\n",
    "    model = sm.Model()\n",
    "    model.tearup_model()\n",
    "    model.seis[0].price_per_watt = 3.5 - i * 0.2\n",
    "    model.run_model()\n",
    "    print(model.seis[0].price_per_watt)\n",
    "    print(len(model.systems))"
   ]
  },
  {
   "cell_type": "code",
   "execution_count": 12,
   "metadata": {
    "collapsed": false
   },
   "outputs": [
    {
     "name": "stdout",
     "output_type": "stream",
     "text": [
      "4.0\n",
      "3\n",
      "3.8\n",
      "8\n",
      "3.6\n",
      "8\n",
      "3.4\n",
      "12\n",
      "3.2\n",
      "17\n",
      "3.0\n",
      "11\n",
      "2.8\n",
      "19\n",
      "2.5999999999999996\n",
      "21\n",
      "2.4\n",
      "21\n",
      "2.2\n",
      "22\n"
     ]
    }
   ],
   "source": [
    "test_y = []\n",
    "test_x = []\n",
    "for i in range(10):\n",
    "    model = sm.Model()\n",
    "    model.tearup_model()\n",
    "    model.seis[0].price_per_watt = 4.0 - i * 0.2\n",
    "    model.run_model()\n",
    "    print(model.seis[0].price_per_watt)\n",
    "    print(len(model.systems))\n",
    "    test_y.append(len(model.systems))\n",
    "    test_x.append(model.seis[0].price_per_watt)"
   ]
  },
  {
   "cell_type": "code",
   "execution_count": 15,
   "metadata": {
    "collapsed": true
   },
   "outputs": [],
   "source": [
    "import pandas as pd\n",
    "import numpy as np\n",
    "\n",
    "\n",
    "%matplotlib inline\n",
    "import matplotlib.pyplot as plt\n",
    "import matplotlib\n",
    "from matplotlib import cm\n",
    "matplotlib.style.use('ggplot')\n",
    "import matplotlib.patches as mpatches\n",
    "from matplotlib.legend_handler import HandlerPatch"
   ]
  },
  {
   "cell_type": "code",
   "execution_count": 16,
   "metadata": {
    "collapsed": true
   },
   "outputs": [],
   "source": [
    "colors_ = ['orange', 'olive', 'khaki'] "
   ]
  },
  {
   "cell_type": "code",
   "execution_count": 17,
   "metadata": {
    "collapsed": false
   },
   "outputs": [
    {
     "data": {
      "image/png": "[encoded data removed]",
      "text/plain": [
       "<matplotlib.figure.Figure at 0x27a77e840f0>"
      ]
     },
     "metadata": {},
     "output_type": "display_data"
    }
   ],
   "source": [
    "data_mode = 'pm_'\n",
    "test_mode = 'inst'\n",
    "fig, axes_ = plt.subplots(nrows=1, ncols=1)\n",
    "fig.subplots_adjust(bottom=0.25)\n",
    "\n",
    "#if ncols = 1  - transform into list\n",
    "axes = [axes_]\n",
    "\n",
    "ind = test_x    # the x locations for the groups\n",
    "width = 0.35       # the width of the bars: can also be len(x) sequence\n",
    "\n",
    "\n",
    "\n",
    "lines = []\n",
    "\n",
    "markers = [\"o-\", \"^-\", \"*-\"]\n",
    "markerfacecolors = colors_\n",
    "colors = ['r', 'r', 'r']\n",
    "labels = ['generic', 'none']\n",
    "\n",
    "for i in range(1) :\n",
    "    pi, = axes[0].plot(ind, test_y, markers[i], label=labels[i])\n",
    "    pi.set_markerfacecolor(markerfacecolors[i])\n",
    "    lines.append(pi)\n",
    "    \n",
    "\n",
    "axes[0].set_xlabel(\"Price per watt\")\n",
    "axes[0].set_ylabel(\"Installs\")\n",
    "    \n",
    "# Shrink current axis's height by 10% on the bottom\n",
    "box = axes[0].get_position()\n",
    "axes[0].set_position([box.x0, box.y0 + box.height * 0.2,\n",
    "                 box.width, box.height * 0.8])\n",
    "\n",
    "# Put a legend below current axis\n",
    "lgd = axes[0].legend(lines, [l.get_label() for l in lines], loc='lower center', bbox_to_anchor=(0.5, -0.25),\\\n",
    "          fancybox=True, shadow=True, fontsize='10', ncol = 2)\n",
    "\n",
    "\n",
    "\n",
    "\n",
    "plt.tight_layout()\n",
    "plt.savefig('Simulation_results_' + data_mode + test_mode +  '.png', dpi=300, bbox_extra_artists=(lgd,), bbox_inches='tight')\n",
    "plt.show()\n"
   ]
  },
  {
   "cell_type": "code",
   "execution_count": null,
   "metadata": {
    "collapsed": true
   },
   "outputs": [],
   "source": []
  },
  {
   "cell_type": "code",
   "execution_count": null,
   "metadata": {
    "collapsed": true
   },
   "outputs": [],
   "source": []
  },
  {
   "cell_type": "code",
   "execution_count": null,
   "metadata": {
    "collapsed": true
   },
   "outputs": [],
   "source": []
  },
  {
   "cell_type": "code",
   "execution_count": null,
   "metadata": {
    "collapsed": true
   },
   "outputs": [],
   "source": []
  },
  {
   "cell_type": "code",
   "execution_count": 3,
   "metadata": {
    "collapsed": false
   },
   "outputs": [
    {
     "data": {
      "text/plain": [
       "100"
      ]
     },
     "execution_count": 3,
     "metadata": {},
     "output_type": "execute_result"
    }
   ],
   "source": [
    "len(model.hs)"
   ]
  },
  {
   "cell_type": "code",
   "execution_count": 4,
   "metadata": {
    "collapsed": false
   },
   "outputs": [
    {
     "data": {
      "text/plain": [
       "260.09249999999997"
      ]
     },
     "execution_count": 4,
     "metadata": {},
     "output_type": "execute_result"
    }
   ],
   "source": [
    "model.hs[0].roof_size"
   ]
  },
  {
   "cell_type": "code",
   "execution_count": 5,
   "metadata": {
    "collapsed": false
   },
   "outputs": [],
   "source": [
    "res, system = model.seis[0].offer_system(model.hs[40])"
   ]
  },
  {
   "cell_type": "code",
   "execution_count": 6,
   "metadata": {
    "collapsed": false
   },
   "outputs": [
    {
     "name": "stdout",
     "output_type": "stream",
     "text": [
      "<simple_model.PVSystem object at 0x000002BDE9C7A978>\n"
     ]
    }
   ],
   "source": [
    "print(system)"
   ]
  },
  {
   "cell_type": "code",
   "execution_count": 15,
   "metadata": {
    "collapsed": false
   },
   "outputs": [
    {
     "data": {
      "text/plain": [
       "<simple_model.PVSystem at 0x14730f10be0>"
      ]
     },
     "execution_count": 15,
     "metadata": {},
     "output_type": "execute_result"
    }
   ],
   "source": [
    "system"
   ]
  },
  {
   "cell_type": "code",
   "execution_count": 7,
   "metadata": {
    "collapsed": false
   },
   "outputs": [
    {
     "data": {
      "text/plain": [
       "0.1929780905602079"
      ]
     },
     "execution_count": 7,
     "metadata": {},
     "output_type": "execute_result"
    }
   ],
   "source": [
    "system.failure_rate"
   ]
  },
  {
   "cell_type": "code",
   "execution_count": 8,
   "metadata": {
    "collapsed": false
   },
   "outputs": [
    {
     "data": {
      "text/plain": [
       "57484.385694729637"
      ]
     },
     "execution_count": 8,
     "metadata": {},
     "output_type": "execute_result"
    }
   ],
   "source": [
    "system.total_costs"
   ]
  },
  {
   "cell_type": "code",
   "execution_count": 9,
   "metadata": {
    "collapsed": false
   },
   "outputs": [
    {
     "data": {
      "text/plain": [
       "52.557152635181382"
      ]
     },
     "execution_count": 9,
     "metadata": {},
     "output_type": "execute_result"
    }
   ],
   "source": [
    "system.demand"
   ]
  },
  {
   "cell_type": "code",
   "execution_count": 10,
   "metadata": {
    "collapsed": false
   },
   "outputs": [
    {
     "data": {
      "text/plain": [
       "0.030957703859370696"
      ]
     },
     "execution_count": 10,
     "metadata": {},
     "output_type": "execute_result"
    }
   ],
   "source": [
    "system.total_net_savings"
   ]
  },
  {
   "cell_type": "code",
   "execution_count": null,
   "metadata": {
    "collapsed": true
   },
   "outputs": [],
   "source": []
  },
  {
   "cell_type": "code",
   "execution_count": null,
   "metadata": {
    "collapsed": true
   },
   "outputs": [],
   "source": [
    "    def savings_system(self, system):\n",
    "        inflation = sm.settings.inflation\n",
    "        CPI = 1.0\n",
    "        AC_size_t = system.dc_size * sm.settings.dc_to_ac/1000\n",
    "            \n",
    "        degradation_t = system.pvpanel.degradation\n",
    "        production_t = 0.0\n",
    "    \n",
    "        consumption_t = system.demand * NUMBER_DAYS_IN_YEAR\n",
    "\n",
    "        loan_amount = system.total_costs * (1 - settings.tax_incentive)\n",
    "        interest_rate_loan = sm.settings.interest_rate\n",
    "        warranty_length = 25\n",
    "        \n",
    "        loan_length = warranty_length\n",
    "    \n",
    "        NUMBER_MONTHS_IN_YEAR = 12\n",
    "        N_loan = loan_length * NUMBER_MONTHS_IN_YEAR\n",
    "        loan_annuity = (interest_rate_loan/NUMBER_MONTHS_IN_YEAR)/(1 - math.pow((1 + interest_rate_loan/NUMBER_MONTHS_IN_YEAR), - N_loan))*loan_amount\n",
    "        total_production = 0.0\n",
    "        potential_energy_costs = 0.0\n",
    "        realized_energy_income = 0.0\n",
    "\n",
    "        for i in range(warranty_length):\n",
    "            production_t = AC_size_t * settings.solar_irradiation * NUMBER_DAYS_IN_YEAR\n",
    "            total_production += production_t\n",
    "            potential_energy_costs += consumption_t * CPI * settings.p_electricity_d\n",
    "#            print(potential_energy_costs)\n",
    "            realized_energy_income += production_t * CPI * settings.p_electricity_s\n",
    "#            print(realized_energy_income)\n",
    "            AC_size_t = AC_size_t * degradation_t\n",
    "#           print(AC_size_t)\n",
    "            CPI = CPI * (1 + inflation)\n",
    "\n",
    "        system.total_net_savings = (realized_energy_income - loan_annuity * N_loan)/potential_energy_costs\n",
    "    \n",
    "\n",
    "        system.co2_equivalent = total_production/warranty_length * settings.EnergyToCO2/1000"
   ]
  },
  {
   "cell_type": "code",
   "execution_count": null,
   "metadata": {
    "collapsed": true
   },
   "outputs": [],
   "source": []
  },
  {
   "cell_type": "code",
   "execution_count": null,
   "metadata": {
    "collapsed": true
   },
   "outputs": [],
   "source": []
  },
  {
   "cell_type": "code",
   "execution_count": 11,
   "metadata": {
    "collapsed": false
   },
   "outputs": [],
   "source": [
    "\n",
    "#run model\n",
    "model.run_model()"
   ]
  },
  {
   "cell_type": "code",
   "execution_count": 13,
   "metadata": {
    "collapsed": false
   },
   "outputs": [
    {
     "name": "stdout",
     "output_type": "stream",
     "text": [
      "[[-1.7616, -0.4596, 0.2628, 0.4545], [9.360166666666668, 7.3196666666666665, 1.8491666666666648, 3.56566666666667], [0.0, -13.603333333333333, -22.866666666666667, 34.31000000000004], [-30.229629629629635, -20.585185185185182, 127.05925925925932, -76.24444444444457]]\n",
      "[0.1, 0.25, 0.4, 0.55, 0.7]\n"
     ]
    }
   ],
   "source": [
    "param_ = 'EParamTypes::HOSEIDecisionEstimatedNetSavings'\n",
    "print(sm.tools.HO_coefs['type1'][param_])\n",
    "print(sm.tools.HO_x_i['type1'][param_])"
   ]
  },
  {
   "cell_type": "code",
   "execution_count": 14,
   "metadata": {
    "collapsed": false
   },
   "outputs": [
    {
     "name": "stdout",
     "output_type": "stream",
     "text": [
      "{'EParamTypes::HOSEIDecisionUtilityNone': [0.0284], 'EParamTypes::HOSEIDecisionTotalProjectTime': [0.1916, 0.1948, -0.0666, -0.3198], 'EParamTypes::SEIWarranty': [-0.9026, 0.1318, 0.7708], 'EParamTypes::SEIEquipmentType': [0.1425, -0.0217, -0.1208], 'EParamTypes::HOSEIDecisionEstimatedNetSavings': [-1.7616, -0.4596, 0.2628, 0.4545, 1.504], 'EParamTypes::SEIRating': [-0.8471, 0.1073, 0.7398], 'EParamTypes::SEIInteractionType': [-0.1313, 0.0571, 0.0742]}\n"
     ]
    }
   ],
   "source": [
    "print(sm.settings.THETA_SEI)"
   ]
  },
  {
   "cell_type": "code",
   "execution_count": 13,
   "metadata": {
    "collapsed": false
   },
   "outputs": [],
   "source": [
    "param_ = 'EParamTypes::HOSEIDecisionTotalProjectTime'\n",
    "label_i = 'type1'\n",
    "x_i = 2\n",
    "x_i_min = [n for n in sm.tools.HO_x_i[label_i][param_] if n < x_i]"
   ]
  },
  {
   "cell_type": "code",
   "execution_count": 14,
   "metadata": {
    "collapsed": true
   },
   "outputs": [],
   "source": [
    "import bisect"
   ]
  },
  {
   "cell_type": "code",
   "execution_count": 15,
   "metadata": {
    "collapsed": true
   },
   "outputs": [],
   "source": [
    "x_i_min = bisect.bisect_left(sm.tools.HO_x_i[label_i][param_], x_i)"
   ]
  },
  {
   "cell_type": "code",
   "execution_count": 20,
   "metadata": {
    "collapsed": true
   },
   "outputs": [],
   "source": [
    "idx = max(x_i_min - 1, 0)"
   ]
  },
  {
   "cell_type": "code",
   "execution_count": 21,
   "metadata": {
    "collapsed": false
   },
   "outputs": [
    {
     "name": "stdout",
     "output_type": "stream",
     "text": [
      "2\n"
     ]
    }
   ],
   "source": [
    "print(x_i_min)"
   ]
  },
  {
   "cell_type": "code",
   "execution_count": 22,
   "metadata": {
    "collapsed": false
   },
   "outputs": [
    {
     "name": "stdout",
     "output_type": "stream",
     "text": [
      "1\n"
     ]
    }
   ],
   "source": [
    "print(idx)"
   ]
  },
  {
   "cell_type": "code",
   "execution_count": 24,
   "metadata": {
    "collapsed": false
   },
   "outputs": [
    {
     "name": "stdout",
     "output_type": "stream",
     "text": [
      "1\n"
     ]
    }
   ],
   "source": [
    "h = x_i - sm.tools.HO_x_i[label_i][param_][idx]\n",
    "print(h)"
   ]
  },
  {
   "cell_type": "code",
   "execution_count": 13,
   "metadata": {
    "collapsed": false
   },
   "outputs": [
    {
     "name": "stdout",
     "output_type": "stream",
     "text": [
      "{'type1': {'EParamTypes::HOSEIDecisionEstimatedNetSavings': [0.1, 0.25, 0.4, 0.55, 0.7], 'EParamTypes::HODesignDecisionEstimatedNetSavings': [0.1, 0.25, 0.4, 0.55, 0.7], 'EParamTypes::HODesignDecisionCO2': [3, 6, 9], 'EParamTypes::HOSEIDecisionTotalProjectTime': [0.5, 1, 2, 4], 'EParamTypes::HODesignDecisionPanelEfficiency': [0.155, 0.18, 0.205, 0.23, 0.25], 'EParamTypes::HODesignDecisionFailures': [0, 1, 2, 3]}}\n"
     ]
    }
   ],
   "source": [
    "print(sm.tools.HO_x_i)"
   ]
  },
  {
   "cell_type": "code",
   "execution_count": 12,
   "metadata": {
    "collapsed": false
   },
   "outputs": [
    {
     "data": {
      "text/plain": [
       "12"
      ]
     },
     "execution_count": 12,
     "metadata": {},
     "output_type": "execute_result"
    }
   ],
   "source": [
    "len(model.systems)"
   ]
  },
  {
   "cell_type": "code",
   "execution_count": 16,
   "metadata": {
    "collapsed": true
   },
   "outputs": [],
   "source": [
    "warranty_map = {5.0: 0.0, 15.0:1.0, 25.0:2.0};"
   ]
  },
  {
   "cell_type": "code",
   "execution_count": 17,
   "metadata": {
    "collapsed": false
   },
   "outputs": [
    {
     "name": "stdout",
     "output_type": "stream",
     "text": [
      "{25.0: 2.0, 5.0: 0.0, 15.0: 1.0}\n"
     ]
    }
   ],
   "source": [
    "print(warranty_map)"
   ]
  },
  {
   "cell_type": "code",
   "execution_count": 14,
   "metadata": {
    "collapsed": false
   },
   "outputs": [
    {
     "name": "stdout",
     "output_type": "stream",
     "text": [
      "{'type1': {'EParamTypes::HOSEIDecisionTotalProjectTime': [[0.1916, 0.1948, -0.0666], [0.05762352941176473, -0.0960470588235294, -0.2847647058823529], [0.0, -0.3073411764705883, 0.11862352941176472], [-0.20489411764705887, 0.14198823529411767, -0.01977058823529412]], 'EParamTypes::HODesignDecisionEstimatedNetSavings': [[-1.8082, -0.4341, 0.2591, 0.5651], [10.127059523809525, 7.227880952380953, 2.307416666666666, 3.5264523809523833], [0.0, -19.327857142857145, -13.475238095238094, 21.602142857142873], [-42.950793650793656, 13.00582010582011, 77.94973544973546, -48.00476190476197]], 'EParamTypes::HODesignDecisionCO2': [[-0.3055, 0.116], [0.16949999999999998, 0.08249999999999999], [0.0, -0.028999999999999998], [-0.003222222222222222, 0.003222222222222222]], 'EParamTypes::HODesignDecisionPanelEfficiency': [[-0.4468, -0.2272, 0.0215, 0.2763], [8.593456, 9.165088000000003, 10.942191999999993, 7.486143999999994], [0.0, 22.865280000000226, 48.218879999999444, -186.46079999999935], [304.8704000000031, 338.04799999998966, -3129.062399999981, 3107.6799999999907]], 'EParamTypes::HOSEIDecisionEstimatedNetSavings': [[-1.7616, -0.4596, 0.2628, 0.4545], [9.360166666666668, 7.3196666666666665, 1.8491666666666648, 3.56566666666667], [0.0, -13.603333333333333, -22.866666666666667, 34.31000000000004], [-30.229629629629635, -20.585185185185182, 127.05925925925932, -76.24444444444457]], 'EParamTypes::HODesignDecisionFailures': [[0.7706, 0.3286, -0.355], [-0.35794666666666664, -0.6101066666666667, -0.5784266666666666], [0.0, -0.25215999999999994, 0.2838399999999999], [-0.08405333333333331, 0.1786666666666666, -0.09461333333333331]]}}\n"
     ]
    }
   ],
   "source": [
    "print(sm.tools.HO_coefs)"
   ]
  },
  {
   "cell_type": "code",
   "execution_count": 15,
   "metadata": {
    "collapsed": false
   },
   "outputs": [
    {
     "name": "stdout",
     "output_type": "stream",
     "text": [
      "<simple_model.Settings object at 0x000001F1ADBAA4E0>\n"
     ]
    }
   ],
   "source": [
    "print(sm.settings)"
   ]
  },
  {
   "cell_type": "code",
   "execution_count": 16,
   "metadata": {
    "collapsed": false
   },
   "outputs": [
    {
     "name": "stdout",
     "output_type": "stream",
     "text": [
      "{'EParamTypes::HOSEIDecisionEstimatedNetSavings': [-1.7616, -0.4596, 0.2628, 0.4545, 1.504], 'EParamTypes::SEIInteractionType': [-0.1313, 0.0571, 0.0742], 'EParamTypes::HOSEIDecisionTotalProjectTime': [0.1916, 0.1948, -0.0666, -0.3198], 'EParamTypes::HOSEIDecisionUtilityNone': [0.0284], 'EParamTypes::SEIWarranty': [-0.9026, 0.1318, 0.7708], 'EParamTypes::SEIEquipmentType': [0.1425, -0.0217, -0.1208], 'EParamTypes::SEIRating': [-0.8471, 0.1073, 0.7398]}\n"
     ]
    }
   ],
   "source": [
    "print(sm.settings.THETA_SEI)"
   ]
  },
  {
   "cell_type": "code",
   "execution_count": 17,
   "metadata": {
    "collapsed": true
   },
   "outputs": [],
   "source": [
    "import json"
   ]
  },
  {
   "cell_type": "code",
   "execution_count": 18,
   "metadata": {
    "collapsed": false
   },
   "outputs": [
    {
     "ename": "IndexError",
     "evalue": "list assignment index out of range",
     "output_type": "error",
     "traceback": [
      "\u001b[0;31m---------------------------------------------------------------------------\u001b[0m",
      "\u001b[0;31mIndexError\u001b[0m                                Traceback (most recent call last)",
      "\u001b[0;32m<ipython-input-18-836632c9ebb5>\u001b[0m in \u001b[0;36m<module>\u001b[0;34m()\u001b[0m\n\u001b[1;32m      6\u001b[0m     \u001b[0mHOD_distribution_scheme\u001b[0m \u001b[1;33m=\u001b[0m \u001b[0mdata_raw\u001b[0m\u001b[1;33m[\u001b[0m\u001b[0mlabel_i\u001b[0m\u001b[1;33m]\u001b[0m\u001b[1;33m[\u001b[0m\u001b[1;34m'scheme'\u001b[0m\u001b[1;33m]\u001b[0m\u001b[1;33m\u001b[0m\u001b[0m\n\u001b[1;32m      7\u001b[0m \u001b[1;33m\u001b[0m\u001b[0m\n\u001b[0;32m----> 8\u001b[0;31m     \u001b[0msm\u001b[0m\u001b[1;33m.\u001b[0m\u001b[0mtools\u001b[0m\u001b[1;33m.\u001b[0m\u001b[0mcalculate_splines\u001b[0m\u001b[1;33m(\u001b[0m\u001b[0mHO_x_i\u001b[0m\u001b[1;33m,\u001b[0m \u001b[0mHOD_distribution_scheme\u001b[0m\u001b[1;33m)\u001b[0m\u001b[1;33m\u001b[0m\u001b[0m\n\u001b[0m\u001b[1;32m      9\u001b[0m     \u001b[0msm\u001b[0m\u001b[1;33m.\u001b[0m\u001b[0mtools\u001b[0m\u001b[1;33m.\u001b[0m\u001b[0mHO_x_i\u001b[0m \u001b[1;33m=\u001b[0m \u001b[0mHO_x_i\u001b[0m\u001b[1;33m\u001b[0m\u001b[0m\n",
      "\u001b[0;32mC:\\Users\\wilfeli\\Dropbox\\ABM\\SolarPanels\\solar-model\\Model\\simple_model.py\u001b[0m in \u001b[0;36mcalculate_splines\u001b[0;34m(self, HO_x_i, HOD_distribution_scheme)\u001b[0m\n\u001b[1;32m    612\u001b[0m             \u001b[0mself\u001b[0m\u001b[1;33m.\u001b[0m\u001b[0mHO_coefs\u001b[0m\u001b[1;33m[\u001b[0m\u001b[0mlabel_i\u001b[0m\u001b[1;33m]\u001b[0m\u001b[1;33m[\u001b[0m\u001b[0mkey\u001b[0m\u001b[1;33m]\u001b[0m\u001b[1;33m[\u001b[0m\u001b[1;36m0\u001b[0m\u001b[1;33m]\u001b[0m \u001b[1;33m=\u001b[0m \u001b[0ma_i\u001b[0m\u001b[1;33m[\u001b[0m\u001b[1;36m0\u001b[0m\u001b[1;33m:\u001b[0m\u001b[0mn\u001b[0m\u001b[1;33m-\u001b[0m\u001b[1;36m1\u001b[0m\u001b[1;33m]\u001b[0m\u001b[1;33m\u001b[0m\u001b[0m\n\u001b[1;32m    613\u001b[0m             \u001b[1;31m#b\u001b[0m\u001b[1;33m\u001b[0m\u001b[1;33m\u001b[0m\u001b[0m\n\u001b[0;32m--> 614\u001b[0;31m             \u001b[0mself\u001b[0m\u001b[1;33m.\u001b[0m\u001b[0mHO_coefs\u001b[0m\u001b[1;33m[\u001b[0m\u001b[0mlabel_i\u001b[0m\u001b[1;33m]\u001b[0m\u001b[1;33m[\u001b[0m\u001b[0mkey\u001b[0m\u001b[1;33m]\u001b[0m\u001b[1;33m[\u001b[0m\u001b[1;36m1\u001b[0m\u001b[1;33m]\u001b[0m \u001b[1;33m=\u001b[0m \u001b[0mb_i\u001b[0m\u001b[1;33m\u001b[0m\u001b[0m\n\u001b[0m\u001b[1;32m    615\u001b[0m             \u001b[1;31m#c\u001b[0m\u001b[1;33m\u001b[0m\u001b[1;33m\u001b[0m\u001b[0m\n\u001b[1;32m    616\u001b[0m             \u001b[0mself\u001b[0m\u001b[1;33m.\u001b[0m\u001b[0mHO_coefs\u001b[0m\u001b[1;33m[\u001b[0m\u001b[0mlabel_i\u001b[0m\u001b[1;33m]\u001b[0m\u001b[1;33m[\u001b[0m\u001b[0mkey\u001b[0m\u001b[1;33m]\u001b[0m\u001b[1;33m[\u001b[0m\u001b[1;36m2\u001b[0m\u001b[1;33m]\u001b[0m \u001b[1;33m=\u001b[0m \u001b[0mc_i\u001b[0m\u001b[1;33m[\u001b[0m\u001b[1;36m0\u001b[0m\u001b[1;33m:\u001b[0m\u001b[0mn\u001b[0m\u001b[1;33m-\u001b[0m\u001b[1;36m1\u001b[0m\u001b[1;33m]\u001b[0m\u001b[1;33m\u001b[0m\u001b[0m\n",
      "\u001b[0;31mIndexError\u001b[0m: list assignment index out of range"
     ]
    }
   ],
   "source": [
    "label_i = sm.tools.label_i\n",
    "with open('../../ABMIRISLab/Examples/BaseModel/ho-installerdecisions.json') as infile:\n",
    "    data_raw = json.load(infile)\n",
    "\n",
    "    HO_x_i = data_raw[label_i]['spline_points']\n",
    "    HOD_distribution_scheme = data_raw[label_i]['scheme']\n",
    "\n",
    "    sm.tools.calculate_splines(HO_x_i, HOD_distribution_scheme)\n",
    "    sm.tools.HO_x_i = HO_x_i"
   ]
  },
  {
   "cell_type": "code",
   "execution_count": 26,
   "metadata": {
    "collapsed": false
   },
   "outputs": [],
   "source": [
    "sm.tools.HO_coefs[label_i] = [[] for i in range(4)]"
   ]
  },
  {
   "cell_type": "code",
   "execution_count": 27,
   "metadata": {
    "collapsed": false
   },
   "outputs": [
    {
     "data": {
      "text/plain": [
       "[[], [], [], []]"
      ]
     },
     "execution_count": 27,
     "metadata": {},
     "output_type": "execute_result"
    }
   ],
   "source": [
    "sm.tools.HO_coefs[label_i]"
   ]
  },
  {
   "cell_type": "code",
   "execution_count": 19,
   "metadata": {
    "collapsed": false
   },
   "outputs": [
    {
     "name": "stdout",
     "output_type": "stream",
     "text": [
      "{'EParamTypes::HOSEIDecisionTotalProjectTime': [0.5, 1, 2, 4], 'EParamTypes::HOSEIDecisionEstimatedNetSavings': [0.1, 0.25, 0.4, 0.55, 0.7]}\n"
     ]
    }
   ],
   "source": [
    "print(HO_x_i)"
   ]
  },
  {
   "cell_type": "code",
   "execution_count": 20,
   "metadata": {
    "collapsed": false
   },
   "outputs": [
    {
     "name": "stdout",
     "output_type": "stream",
     "text": [
      "[0.5, 1, 2, 4]\n",
      "[0.1, 0.25, 0.4, 0.55, 0.7]\n"
     ]
    }
   ],
   "source": [
    "for key, value in HO_x_i.items():\n",
    "    print(value)"
   ]
  },
  {
   "cell_type": "code",
   "execution_count": 21,
   "metadata": {
    "collapsed": false
   },
   "outputs": [
    {
     "data": {
      "text/plain": [
       "[0.1, 0.25, 0.4, 0.55, 0.7]"
      ]
     },
     "execution_count": 21,
     "metadata": {},
     "output_type": "execute_result"
    }
   ],
   "source": [
    "HO_x_i['EParamTypes::HOSEIDecisionEstimatedNetSavings']"
   ]
  },
  {
   "cell_type": "code",
   "execution_count": 19,
   "metadata": {
    "collapsed": false
   },
   "outputs": [
    {
     "name": "stdout",
     "output_type": "stream",
     "text": [
      "{'EParamTypes::SEIEquipmentType': [0.1425, -0.0217, -0.1208], 'EParamTypes::HOSEIDecisionEstimatedNetSavings': [-1.7616, -0.4596, 0.2628, 0.4545, 1.504], 'EParamTypes::HOSEIDecisionUtilityNone': [0.0284], 'EParamTypes::SEIRating': [-0.8471, 0.1073, 0.7398], 'EParamTypes::SEIWarranty': [-0.9026, 0.1318, 0.7708], 'EParamTypes::SEIInteractionType': [-0.1313, 0.0571, 0.0742], 'EParamTypes::HOSEIDecisionTotalProjectTime': [0.1916, 0.1948, -0.0666, -0.3198]}\n"
     ]
    }
   ],
   "source": [
    "print(HOD_distribution_scheme)"
   ]
  },
  {
   "cell_type": "code",
   "execution_count": null,
   "metadata": {
    "collapsed": true
   },
   "outputs": [],
   "source": []
  }
 ],
 "metadata": {
  "anaconda-cloud": {},
  "kernelspec": {
   "display_name": "Python [conda env:aimacro]",
   "language": "python",
   "name": "conda-env-aimacro-py"
  },
  "language_info": {
   "codemirror_mode": {
    "name": "ipython",
    "version": 3
   },
   "file_extension": ".py",
   "mimetype": "text/x-python",
   "name": "python",
   "nbconvert_exporter": "python",
   "pygments_lexer": "ipython3",
   "version": "3.5.2"
  }
 },
 "nbformat": 4,
 "nbformat_minor": 1
}
