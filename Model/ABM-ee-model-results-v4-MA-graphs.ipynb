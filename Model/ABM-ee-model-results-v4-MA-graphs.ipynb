{
 "cells": [
  {
   "cell_type": "code",
   "execution_count": 1,
   "metadata": {
    "collapsed": true
   },
   "outputs": [],
   "source": [
    "# sample.py\n",
    "import ctypes\n",
    "import os\n",
    "import threading\n",
    "import pandas as pd\n",
    "import numpy as np\n",
    "%matplotlib inline\n",
    "import matplotlib.pyplot as plt\n",
    "import matplotlib\n",
    "from matplotlib import cm\n",
    "matplotlib.style.use('ggplot')\n",
    "import math\n",
    "import concurrent.futures\n",
    "import glob\n",
    "import json\n",
    "import scipy as sp\n",
    "import scipy.special\n",
    "from matplotlib.ticker import FormatStrFormatter"
   ]
  },
  {
   "cell_type": "markdown",
   "metadata": {
    "collapsed": true
   },
   "source": [
    "# Graphs for simulation results"
   ]
  },
  {
   "cell_type": "markdown",
   "metadata": {},
   "source": [
    "## Read results of multiple simulations."
   ]
  },
  {
   "cell_type": "code",
   "execution_count": 2,
   "metadata": {
    "collapsed": true
   },
   "outputs": [],
   "source": [
    "data_mode = 'MA'"
   ]
  },
  {
   "cell_type": "code",
   "execution_count": 3,
   "metadata": {
    "collapsed": true
   },
   "outputs": [],
   "source": [
    "test_mode = 'Jan-26-2017/EEModel/Standard/'"
   ]
  },
  {
   "cell_type": "code",
   "execution_count": 4,
   "metadata": {
    "collapsed": false
   },
   "outputs": [
    {
     "data": {
      "text/html": [
       "<div>\n",
       "<table border=\"1\" class=\"dataframe\">\n",
       "  <thead>\n",
       "    <tr style=\"text-align: right;\">\n",
       "      <th></th>\n",
       "      <th>N_installed</th>\n",
       "      <th>N_installed_sum</th>\n",
       "      <th>P_av_total</th>\n",
       "      <th>P_av</th>\n",
       "      <th>sei_0</th>\n",
       "      <th>sei_1</th>\n",
       "      <th>sei_2</th>\n",
       "      <th>sei_rel_0</th>\n",
       "      <th>sei_rel_1</th>\n",
       "      <th>sei_rel_2</th>\n",
       "      <th>...</th>\n",
       "      <th>sem_rel_4</th>\n",
       "      <th>sem_rel_5</th>\n",
       "      <th>sem_rel_6</th>\n",
       "      <th>sei_N_0</th>\n",
       "      <th>sei_N_1</th>\n",
       "      <th>sei_N_2</th>\n",
       "      <th>sem_max</th>\n",
       "      <th>sem_rel_min</th>\n",
       "      <th>sei_max</th>\n",
       "      <th>sei_rel_min</th>\n",
       "    </tr>\n",
       "  </thead>\n",
       "  <tbody>\n",
       "    <tr>\n",
       "      <th>0</th>\n",
       "      <td>7.25</td>\n",
       "      <td>7.25</td>\n",
       "      <td>3.505335</td>\n",
       "      <td>3.507450</td>\n",
       "      <td>0.163817</td>\n",
       "      <td>0.163400</td>\n",
       "      <td>0.158250</td>\n",
       "      <td>0.117857</td>\n",
       "      <td>0.200000</td>\n",
       "      <td>0.200000</td>\n",
       "      <td>...</td>\n",
       "      <td>0.157124</td>\n",
       "      <td>0.174009</td>\n",
       "      <td>0.351865</td>\n",
       "      <td>1.75</td>\n",
       "      <td>2.25</td>\n",
       "      <td>3.25</td>\n",
       "      <td>0.222589</td>\n",
       "      <td>0.063085</td>\n",
       "      <td>0.158225</td>\n",
       "      <td>0.106894</td>\n",
       "    </tr>\n",
       "    <tr>\n",
       "      <th>1</th>\n",
       "      <td>9.00</td>\n",
       "      <td>16.25</td>\n",
       "      <td>3.115622</td>\n",
       "      <td>3.235482</td>\n",
       "      <td>0.162589</td>\n",
       "      <td>0.166603</td>\n",
       "      <td>0.164944</td>\n",
       "      <td>0.121013</td>\n",
       "      <td>0.161779</td>\n",
       "      <td>0.126028</td>\n",
       "      <td>...</td>\n",
       "      <td>0.447753</td>\n",
       "      <td>0.101946</td>\n",
       "      <td>1.043326</td>\n",
       "      <td>7.50</td>\n",
       "      <td>4.25</td>\n",
       "      <td>4.50</td>\n",
       "      <td>0.231184</td>\n",
       "      <td>0.038086</td>\n",
       "      <td>0.159732</td>\n",
       "      <td>0.053330</td>\n",
       "    </tr>\n",
       "    <tr>\n",
       "      <th>2</th>\n",
       "      <td>8.00</td>\n",
       "      <td>24.25</td>\n",
       "      <td>3.003260</td>\n",
       "      <td>3.053027</td>\n",
       "      <td>0.187184</td>\n",
       "      <td>0.183497</td>\n",
       "      <td>0.163266</td>\n",
       "      <td>1.176684</td>\n",
       "      <td>0.089685</td>\n",
       "      <td>0.249313</td>\n",
       "      <td>...</td>\n",
       "      <td>0.593221</td>\n",
       "      <td>0.196519</td>\n",
       "      <td>2.177824</td>\n",
       "      <td>11.00</td>\n",
       "      <td>6.25</td>\n",
       "      <td>7.00</td>\n",
       "      <td>0.240630</td>\n",
       "      <td>0.036788</td>\n",
       "      <td>0.160423</td>\n",
       "      <td>0.086734</td>\n",
       "    </tr>\n",
       "    <tr>\n",
       "      <th>3</th>\n",
       "      <td>8.25</td>\n",
       "      <td>32.50</td>\n",
       "      <td>2.836587</td>\n",
       "      <td>2.862495</td>\n",
       "      <td>0.201028</td>\n",
       "      <td>0.195955</td>\n",
       "      <td>0.163266</td>\n",
       "      <td>1.132350</td>\n",
       "      <td>0.917504</td>\n",
       "      <td>0.249313</td>\n",
       "      <td>...</td>\n",
       "      <td>1.212859</td>\n",
       "      <td>0.102933</td>\n",
       "      <td>1.763332</td>\n",
       "      <td>13.50</td>\n",
       "      <td>9.75</td>\n",
       "      <td>9.25</td>\n",
       "      <td>0.250445</td>\n",
       "      <td>0.023587</td>\n",
       "      <td>0.160423</td>\n",
       "      <td>0.049369</td>\n",
       "    </tr>\n",
       "    <tr>\n",
       "      <th>4</th>\n",
       "      <td>8.00</td>\n",
       "      <td>40.50</td>\n",
       "      <td>2.634785</td>\n",
       "      <td>2.645563</td>\n",
       "      <td>0.202840</td>\n",
       "      <td>0.198002</td>\n",
       "      <td>0.179972</td>\n",
       "      <td>0.168079</td>\n",
       "      <td>1.002981</td>\n",
       "      <td>0.189312</td>\n",
       "      <td>...</td>\n",
       "      <td>0.850860</td>\n",
       "      <td>0.240797</td>\n",
       "      <td>2.477782</td>\n",
       "      <td>17.00</td>\n",
       "      <td>13.00</td>\n",
       "      <td>10.50</td>\n",
       "      <td>0.270112</td>\n",
       "      <td>0.010330</td>\n",
       "      <td>0.169427</td>\n",
       "      <td>0.041677</td>\n",
       "    </tr>\n",
       "  </tbody>\n",
       "</table>\n",
       "<p>5 rows × 31 columns</p>\n",
       "</div>"
      ],
      "text/plain": [
       "   N_installed  N_installed_sum  P_av_total      P_av     sei_0     sei_1  \\\n",
       "0         7.25             7.25    3.505335  3.507450  0.163817  0.163400   \n",
       "1         9.00            16.25    3.115622  3.235482  0.162589  0.166603   \n",
       "2         8.00            24.25    3.003260  3.053027  0.187184  0.183497   \n",
       "3         8.25            32.50    2.836587  2.862495  0.201028  0.195955   \n",
       "4         8.00            40.50    2.634785  2.645563  0.202840  0.198002   \n",
       "\n",
       "      sei_2  sei_rel_0  sei_rel_1  sei_rel_2     ...       sem_rel_4  \\\n",
       "0  0.158250   0.117857   0.200000   0.200000     ...        0.157124   \n",
       "1  0.164944   0.121013   0.161779   0.126028     ...        0.447753   \n",
       "2  0.163266   1.176684   0.089685   0.249313     ...        0.593221   \n",
       "3  0.163266   1.132350   0.917504   0.249313     ...        1.212859   \n",
       "4  0.179972   0.168079   1.002981   0.189312     ...        0.850860   \n",
       "\n",
       "   sem_rel_5  sem_rel_6  sei_N_0  sei_N_1  sei_N_2   sem_max  sem_rel_min  \\\n",
       "0   0.174009   0.351865     1.75     2.25     3.25  0.222589     0.063085   \n",
       "1   0.101946   1.043326     7.50     4.25     4.50  0.231184     0.038086   \n",
       "2   0.196519   2.177824    11.00     6.25     7.00  0.240630     0.036788   \n",
       "3   0.102933   1.763332    13.50     9.75     9.25  0.250445     0.023587   \n",
       "4   0.240797   2.477782    17.00    13.00    10.50  0.270112     0.010330   \n",
       "\n",
       "    sei_max  sei_rel_min  \n",
       "0  0.158225     0.106894  \n",
       "1  0.159732     0.053330  \n",
       "2  0.160423     0.086734  \n",
       "3  0.160423     0.049369  \n",
       "4  0.169427     0.041677  \n",
       "\n",
       "[5 rows x 31 columns]"
      ]
     },
     "execution_count": 4,
     "metadata": {},
     "output_type": "execute_result"
    }
   ],
   "source": [
    "#names of columns in a file\n",
    "names = ['N_installed', 'N_installed_sum', 'P_av_total', 'P_av']\n",
    "for i in range(3):\n",
    "    names.append('sei_' + str(i))\n",
    "for i in range(3):\n",
    "    names.append('sei_rel_' + str(i))\n",
    "for i in range(7):\n",
    "    names.append('sem_' + str(i))\n",
    "for i in range(7):\n",
    "    names.append('sem_rel_' + str(i))\n",
    "for i in range(3):\n",
    "    names.append('sei_N_' + str(i))\n",
    "\n",
    "\n",
    "#read few files\n",
    "#save into database\n",
    "dfs_ = []\n",
    "#read last simulation result\n",
    "files = glob.glob('/Users/wilfeli/Dropbox/ABM/SolarPanels/ABMIRISLab/Saves/' + test_mode + data_mode + '/*[_w].csv')\n",
    "files.sort(key=os.path.getmtime, reverse=True)\n",
    "\n",
    "#take top 4 files \n",
    "for file in files[0:4]:\n",
    "    df_ = pd.read_csv(file, names=names, low_memory=False)\n",
    "    \n",
    "     #create new column with max and min\n",
    "    df_['sem_max'] = df_[['sem_' + str(i) for i in range(7)]].max(axis=1)\n",
    "    df_['sem_rel_min'] = df_[['sem_rel_' + str(i) for i in range(7)]].min(axis=1)\n",
    "    df_['sei_max'] = df_[['sei_' + str(i) for i in range(3)]].min(axis=1)\n",
    "    df_['sei_rel_min'] = df_[['sei_rel_' + str(i) for i in range(3)]].min(axis=1)\n",
    "    \n",
    "    dfs_.append(df_)\n",
    "\n",
    "#create df from them    \n",
    "df_concat = pd.concat(dfs_)\n",
    "df = df_concat.groupby(level=0).mean()\n",
    "df_std = df_concat.groupby(level=0).std()\n",
    "\n",
    "#alternative way to calculate means\n",
    "by_row_index = df_concat.groupby(df_concat.index)\n",
    "df_means = by_row_index.mean()\n",
    "df_means.head()"
   ]
  },
  {
   "cell_type": "code",
   "execution_count": 5,
   "metadata": {
    "collapsed": false
   },
   "outputs": [
    {
     "data": {
      "text/html": [
       "<div>\n",
       "<table border=\"1\" class=\"dataframe\">\n",
       "  <thead>\n",
       "    <tr style=\"text-align: right;\">\n",
       "      <th></th>\n",
       "      <th>Income</th>\n",
       "      <th>ElectricityBill</th>\n",
       "      <th>House_size</th>\n",
       "      <th>TimeInstalled</th>\n",
       "      <th>bInstalled</th>\n",
       "    </tr>\n",
       "  </thead>\n",
       "  <tbody>\n",
       "    <tr>\n",
       "      <th>count</th>\n",
       "      <td>4.000000e+03</td>\n",
       "      <td>4000.000000</td>\n",
       "      <td>4000.000000</td>\n",
       "      <td>4.000000e+03</td>\n",
       "      <td>4000.00000</td>\n",
       "    </tr>\n",
       "    <tr>\n",
       "      <th>mean</th>\n",
       "      <td>1.691699e+05</td>\n",
       "      <td>161.020814</td>\n",
       "      <td>2686.441815</td>\n",
       "      <td>9.566294e+16</td>\n",
       "      <td>0.17175</td>\n",
       "    </tr>\n",
       "    <tr>\n",
       "      <th>std</th>\n",
       "      <td>1.730800e+05</td>\n",
       "      <td>100.070414</td>\n",
       "      <td>1896.939530</td>\n",
       "      <td>8.314127e+17</td>\n",
       "      <td>0.37721</td>\n",
       "    </tr>\n",
       "    <tr>\n",
       "      <th>min</th>\n",
       "      <td>1.308000e+02</td>\n",
       "      <td>0.563949</td>\n",
       "      <td>114.778000</td>\n",
       "      <td>-1.000000e+00</td>\n",
       "      <td>0.00000</td>\n",
       "    </tr>\n",
       "    <tr>\n",
       "      <th>25%</th>\n",
       "      <td>7.035768e+04</td>\n",
       "      <td>89.859900</td>\n",
       "      <td>1626.235000</td>\n",
       "      <td>0.000000e+00</td>\n",
       "      <td>0.00000</td>\n",
       "    </tr>\n",
       "    <tr>\n",
       "      <th>50%</th>\n",
       "      <td>1.203645e+05</td>\n",
       "      <td>138.459500</td>\n",
       "      <td>2317.390000</td>\n",
       "      <td>0.000000e+00</td>\n",
       "      <td>0.00000</td>\n",
       "    </tr>\n",
       "    <tr>\n",
       "      <th>75%</th>\n",
       "      <td>2.046028e+05</td>\n",
       "      <td>210.845000</td>\n",
       "      <td>3258.782500</td>\n",
       "      <td>0.000000e+00</td>\n",
       "      <td>0.00000</td>\n",
       "    </tr>\n",
       "    <tr>\n",
       "      <th>max</th>\n",
       "      <td>2.008850e+06</td>\n",
       "      <td>929.188000</td>\n",
       "      <td>26202.700000</td>\n",
       "      <td>8.070451e+18</td>\n",
       "      <td>1.00000</td>\n",
       "    </tr>\n",
       "  </tbody>\n",
       "</table>\n",
       "</div>"
      ],
      "text/plain": [
       "             Income  ElectricityBill    House_size  TimeInstalled  bInstalled\n",
       "count  4.000000e+03      4000.000000   4000.000000   4.000000e+03  4000.00000\n",
       "mean   1.691699e+05       161.020814   2686.441815   9.566294e+16     0.17175\n",
       "std    1.730800e+05       100.070414   1896.939530   8.314127e+17     0.37721\n",
       "min    1.308000e+02         0.563949    114.778000  -1.000000e+00     0.00000\n",
       "25%    7.035768e+04        89.859900   1626.235000   0.000000e+00     0.00000\n",
       "50%    1.203645e+05       138.459500   2317.390000   0.000000e+00     0.00000\n",
       "75%    2.046028e+05       210.845000   3258.782500   0.000000e+00     0.00000\n",
       "max    2.008850e+06       929.188000  26202.700000   8.070451e+18     1.00000"
      ]
     },
     "execution_count": 5,
     "metadata": {},
     "output_type": "execute_result"
    }
   ],
   "source": [
    "#names of columns in a file\n",
    "names = ['Income', 'ElectricityBill', 'House_size', 'TimeInstalled', 'bInstalled']\n",
    "\n",
    "\n",
    "#read few files\n",
    "#save into database\n",
    "dfs_hos_ = []\n",
    "#read last simulation result\n",
    "#files = glob.glob('../../ABMIRISLab/Saves/EEModel/*.csv')\n",
    "files = glob.glob('/Users/wilfeli/Dropbox/ABM/SolarPanels/ABMIRISLab/Saves/' + test_mode + data_mode + '/*[_hos].csv')\n",
    "files.sort(key=os.path.getmtime, reverse=True)\n",
    "\n",
    "#take top 4 files \n",
    "for file in files[0:4]:\n",
    "    df_ = pd.read_csv(file, names=names, low_memory=False)\n",
    "    dfs_hos_.append(df_.reset_index(drop=True))\n",
    "\n",
    "#create df from them    \n",
    "df_hos_concat = pd.concat(dfs_hos_, axis=0, ignore_index=True)\n",
    "\n",
    "df_hos_concat.describe()"
   ]
  },
  {
   "cell_type": "code",
   "execution_count": 6,
   "metadata": {
    "collapsed": true
   },
   "outputs": [],
   "source": [
    "bins_income = [0, 2499, 4999, 7499, 9999, \\\n",
    "    14999, 19999, 24999, 29999, 34999, 39999, \\\n",
    "    44999, 49999, 54999, 59999, 64999, \\\n",
    "        69999, 74999, 79999, 84999, 89999, \\\n",
    "        94999, 99999, 119999, np.inf]"
   ]
  },
  {
   "cell_type": "code",
   "execution_count": 7,
   "metadata": {
    "collapsed": false
   },
   "outputs": [],
   "source": [
    "#recreates bins for income for raw data\n",
    "df_hos_concat['Income_C'] = pd.cut(df_hos_concat['Income'], \\\n",
    "                                   bins = bins_income, labels = False, retbins=True)[0]\n",
    "\n",
    "\n",
    "y_1 = df_hos_concat.groupby('Income_C')['bInstalled'].mean()\n",
    "y_1_std = df_hos_concat.groupby('Income_C')['bInstalled'].std()\n"
   ]
  },
  {
   "cell_type": "code",
   "execution_count": 8,
   "metadata": {
    "collapsed": false
   },
   "outputs": [],
   "source": [
    "bins_elect = np.array([0.0, 2500.0, 5000.0, 7500.0, 10000.0, 12500.0, \\\n",
    "                       15000.0, 17500.0, 20000.0, 22500.0, 25000.0, \\\n",
    "                       30000.0, 35000.0, 40000.0, 50000.0, 75000.0, np.inf], dtype = np.float32)\n",
    "ELECTRICITY_PRICE_US_DEMAND = 0.15\n",
    "bins_elect_adj = bins_elect*ELECTRICITY_PRICE_US_DEMAND/365.25*30"
   ]
  },
  {
   "cell_type": "code",
   "execution_count": 9,
   "metadata": {
    "collapsed": false
   },
   "outputs": [],
   "source": [
    "df_hos_concat['ElectricityBill_C'] = pd.cut(df_hos_concat['ElectricityBill'], \\\n",
    "                                   bins = bins_elect_adj, labels = False, retbins=True)[0]\n",
    "y_2 = df_hos_concat.groupby('ElectricityBill_C')['bInstalled'].mean()\n",
    "y_2_std = df_hos_concat.groupby('ElectricityBill_C')['bInstalled'].std()\n",
    "\n",
    "for i in range(len(bins_elect_adj)):\n",
    "    if not (i in y_2.index.values):\n",
    "        y_2.loc[i] = 0.0\n",
    "        \n",
    "y_2 = y_2.sort_index()"
   ]
  },
  {
   "cell_type": "code",
   "execution_count": null,
   "metadata": {
    "collapsed": true
   },
   "outputs": [],
   "source": []
  },
  {
   "cell_type": "markdown",
   "metadata": {},
   "source": [
    "## Draw penetration in time"
   ]
  },
  {
   "cell_type": "markdown",
   "metadata": {},
   "source": [
    "### New Version."
   ]
  },
  {
   "cell_type": "markdown",
   "metadata": {},
   "source": [
    "### Preparing raw data"
   ]
  },
  {
   "cell_type": "code",
   "execution_count": 10,
   "metadata": {
    "collapsed": true
   },
   "outputs": [],
   "source": [
    "N_SIMULATION_TICKS = 20"
   ]
  },
  {
   "cell_type": "code",
   "execution_count": 11,
   "metadata": {
    "collapsed": true
   },
   "outputs": [],
   "source": [
    "N_TICKS_DISPLAY = 15"
   ]
  },
  {
   "cell_type": "code",
   "execution_count": 12,
   "metadata": {
    "collapsed": true
   },
   "outputs": [],
   "source": [
    "N_AGENTS_TOTAL = 1000"
   ]
  },
  {
   "cell_type": "code",
   "execution_count": 13,
   "metadata": {
    "collapsed": true
   },
   "outputs": [],
   "source": [
    "N_BINS_INCOME = len(bins_income) - 1"
   ]
  },
  {
   "cell_type": "code",
   "execution_count": 14,
   "metadata": {
    "collapsed": false
   },
   "outputs": [],
   "source": [
    "#number of agents in bins per simulation run \n",
    "n_agents_bins = []\n",
    "for df_ in dfs_hos_:\n",
    "    df_['Income_C'] = pd.cut(df_['Income'], \\\n",
    "                                   bins = bins_income, labels = False, retbins=True)[0]\n",
    "    n_agents_bins.append(pd.value_counts(df_['Income_C'])\\\n",
    "                               .reindex(range(N_BINS_INCOME), fill_value=0).sort_index().values)"
   ]
  },
  {
   "cell_type": "code",
   "execution_count": 15,
   "metadata": {
    "collapsed": true
   },
   "outputs": [],
   "source": [
    "N_BINS_ELECT = len(bins_elect_adj) - 1"
   ]
  },
  {
   "cell_type": "code",
   "execution_count": 16,
   "metadata": {
    "collapsed": false
   },
   "outputs": [],
   "source": [
    "n_agents_bins_elect = []\n",
    "for df_ in dfs_hos_:\n",
    "    df_['ElectricityBill_C'] = pd.cut(df_['ElectricityBill'], \\\n",
    "                                   bins = bins_elect_adj, labels = False, retbins=True)[0]\n",
    "    n_agents_bins_elect.append(pd.value_counts(df_['ElectricityBill_C'])\\\n",
    "                               .reindex(range(N_BINS_ELECT), fill_value=0).sort_index().values)"
   ]
  },
  {
   "cell_type": "code",
   "execution_count": 17,
   "metadata": {
    "collapsed": false
   },
   "outputs": [],
   "source": [
    "penetration_t_0 = np.zeros((len(dfs_hos_), N_BINS_INCOME))\n",
    "#get distribution of preinstalled \n",
    "i = 0\n",
    "for df_ in dfs_hos_:\n",
    "    for bin_ in range(N_BINS_INCOME):\n",
    "        index = df_[(df_['bInstalled'] == 1) & \\\n",
    "                    (df_['Income_C'] == bin_) & \\\n",
    "                    ((df_['TimeInstalled'] < 0) | (df_['TimeInstalled'] > (N_SIMULATION_TICKS - 1)))].index \n",
    "        penetration_t_0[i, bin_] = df_.iloc[index].shape[0]\n",
    "    i = i + 1"
   ]
  },
  {
   "cell_type": "code",
   "execution_count": 18,
   "metadata": {
    "collapsed": false
   },
   "outputs": [],
   "source": [
    "penetration_elect_t_0 = np.zeros((len(dfs_hos_), N_BINS_ELECT))\n",
    "#get distribution of preinstalled \n",
    "i = 0\n",
    "for df_ in dfs_hos_:\n",
    "    for bin_ in range(N_BINS_ELECT):\n",
    "        index = df_[(df_['bInstalled'] == 1) & \\\n",
    "                    (df_['ElectricityBill_C'] == bin_) & \\\n",
    "                    ((df_['TimeInstalled'] < 0) | (df_['TimeInstalled'] > (N_SIMULATION_TICKS - 1)))].index \n",
    "        penetration_elect_t_0[i, bin_] = df_.iloc[index].shape[0]\n",
    "    i = i + 1"
   ]
  },
  {
   "cell_type": "markdown",
   "metadata": {},
   "source": [
    "### Data for the number of installations given income level"
   ]
  },
  {
   "cell_type": "code",
   "execution_count": 19,
   "metadata": {
    "collapsed": false
   },
   "outputs": [],
   "source": [
    "N_TICKS = N_SIMULATION_TICKS\n",
    "#number of installations as a percentage of a population for a given tick, average over simulation runs\n",
    "ticks_income_penetration = np.zeros((N_TICKS, N_BINS_INCOME))\n",
    "#total number of installations as a percentage of a population for a given tick, average over simulation runs\n",
    "ticks_income_penetration_acc = np.zeros((N_TICKS, N_BINS_INCOME))\n",
    "#number of installations as a percentage of a total population for a given tick, average over simulation runs\n",
    "ticks_income_penetration_acc_total = np.zeros((N_TICKS, N_BINS_INCOME))\n",
    "#number of installations for each simulation run for the current tick\n",
    "raw_data_dfs = np.zeros((len(dfs_hos_), N_BINS_INCOME))\n",
    "#accumulated number of installations for each tick each data frame and income bin\n",
    "raw_data_raw_acc = np.zeros((N_TICKS + 1, len(dfs_hos_), N_BINS_INCOME))\n",
    "#number of installations as a percentage of the defined population\n",
    "raw_data_acc = np.zeros((N_TICKS, len(dfs_hos_), N_BINS_INCOME))\n",
    "#number of installations as a percentage of a total population for the simulation run\n",
    "raw_data_acc_total = np.zeros((N_TICKS, len(dfs_hos_), N_BINS_INCOME))\n",
    "\n",
    "#initial level of penetration\n",
    "raw_data_raw_acc[0, :, :] = penetration_t_0.copy()\n",
    "\n",
    "\n",
    "for tick in range(N_TICKS):\n",
    "    #reset dataframe index\n",
    "    i = 0\n",
    "    for df_ in dfs_hos_:\n",
    "        for bin_ in range(N_BINS_INCOME):\n",
    "            index = df_[(df_['bInstalled'] == 1) & \\\n",
    "                        (df_['Income_C'] == bin_) & \\\n",
    "                        (df_['TimeInstalled'] == tick)].index \n",
    "            #get simulation run share of installations in a tick\n",
    "            raw_data_dfs[i, bin_] = df_.iloc[index].shape[0] / n_agents_bins[i][bin_]\n",
    "            #total number of installs in a group \n",
    "            raw_data_raw_acc[tick + 1, i, bin_] = raw_data_raw_acc[tick, i, bin_] + df_.iloc[index].shape[0]\n",
    "            raw_data_acc[tick, i, bin_] = raw_data_raw_acc[tick + 1, i, bin_] / n_agents_bins[i][bin_]\n",
    "            raw_data_acc_total[tick, i, bin_] = raw_data_raw_acc[tick + 1, i, bin_] / N_AGENTS_TOTAL\n",
    "        #index dataframes\n",
    "        i = i + 1\n",
    "    #average over bins and simulation runs\n",
    "    ticks_income_penetration[tick] = raw_data_dfs.mean(axis=0).copy()\n",
    "    ticks_income_penetration_acc[tick] = raw_data_acc[tick, :, :].mean(axis=0).copy()\n",
    "    ticks_income_penetration_acc_total[tick] = raw_data_acc_total[tick, :, :].mean(axis=0).copy()\n",
    "\n",
    "            "
   ]
  },
  {
   "cell_type": "markdown",
   "metadata": {
    "collapsed": true
   },
   "source": [
    "### Data for the number of installations given electricity consumption level"
   ]
  },
  {
   "cell_type": "code",
   "execution_count": 20,
   "metadata": {
    "collapsed": false
   },
   "outputs": [],
   "source": [
    "N_TICKS = 20\n",
    "#number of installations as a percentage of a population for a given tick, average over simulation runs\n",
    "ticks_elect_penetration = np.zeros((N_TICKS, N_BINS_ELECT))\n",
    "#total number of installations as a percentage of a population for a given tick, average over simulation runs\n",
    "ticks_elect_penetration_acc = np.zeros((N_TICKS, N_BINS_ELECT))\n",
    "#number of installations as a percentage of a total population for a given tick, average over simulation runs\n",
    "ticks_elect_penetration_acc_total = np.zeros((N_TICKS, N_BINS_ELECT))\n",
    "#number of installations for each simulation run for the current tick\n",
    "raw_data_dfs = np.zeros((len(dfs_hos_), N_BINS_ELECT))\n",
    "#accumulated number of installations for each tick each data frame and income bin\n",
    "raw_data_raw_acc = np.zeros((N_TICKS + 1, len(dfs_hos_), N_BINS_ELECT))\n",
    "#number of installations as a percentage of the defined population\n",
    "raw_data_acc = np.zeros((N_TICKS, len(dfs_hos_), N_BINS_ELECT))\n",
    "#number of installations as a percentage of a total population for the simulation run\n",
    "raw_data_acc_total = np.zeros((N_TICKS, len(dfs_hos_), N_BINS_ELECT))\n",
    "\n",
    "#initial level of penetration\n",
    "raw_data_raw_acc[0, :, :] = penetration_elect_t_0.copy()\n",
    "\n",
    "\n",
    "for tick in range(N_TICKS):\n",
    "    #reset dataframe index\n",
    "    i = 0\n",
    "    for df_ in dfs_hos_:\n",
    "        for bin_ in range(N_BINS_ELECT):\n",
    "            index = df_[(df_['bInstalled'] == 1) & \\\n",
    "                        (df_['ElectricityBill_C'] == bin_) & \\\n",
    "                        (df_['TimeInstalled'] == tick)].index \n",
    "            #get simulation run share of installations in a tick\n",
    "            raw_data_dfs[i, bin_] = df_.iloc[index].shape[0] / n_agents_bins[i][bin_]\n",
    "            #total number of installs in a group \n",
    "            raw_data_raw_acc[tick + 1, i, bin_] = raw_data_raw_acc[tick, i, bin_] + df_.iloc[index].shape[0]\n",
    "            raw_data_acc[tick, i, bin_] = raw_data_raw_acc[tick + 1, i, bin_] / n_agents_bins_elect[i][bin_]\n",
    "            raw_data_acc_total[tick, i, bin_] = raw_data_raw_acc[tick + 1, i, bin_] / N_AGENTS_TOTAL\n",
    "        #index dataframes\n",
    "        i = i + 1\n",
    "    #average over bins and simulation runs\n",
    "    ticks_elect_penetration[tick] = raw_data_dfs.mean(axis=0).copy()\n",
    "    ticks_elect_penetration_acc[tick] = raw_data_acc[tick, :, :].mean(axis=0).copy()\n",
    "    ticks_elect_penetration_acc_total[tick] = raw_data_acc_total[tick, :, :].mean(axis=0).copy()"
   ]
  },
  {
   "cell_type": "markdown",
   "metadata": {},
   "source": [
    "## Graph for distribution of installations in time "
   ]
  },
  {
   "cell_type": "code",
   "execution_count": 21,
   "metadata": {
    "collapsed": false
   },
   "outputs": [
    {
     "data": {
      "image/png": "[encoded data removed]",
      "text/plain": [
       "<matplotlib.figure.Figure at 0x239260716d8>"
      ]
     },
     "metadata": {},
     "output_type": "display_data"
    }
   ],
   "source": [
    "fig, axes = plt.subplots(nrows=1, ncols=2)\n",
    "fig.subplots_adjust(bottom=0.25)\n",
    "\n",
    "\n",
    "\n",
    "\n",
    "ind = np.arange(N_TICKS)    # the x locations for the groups\n",
    "width = 0.35       # the width of the bars: can also be len(x) sequence\n",
    "\n",
    "norm = matplotlib.colors.Normalize(vmin=0, vmax=N_BINS_INCOME - 1)\n",
    "cmap_custom = cm.get_cmap('YlGn')\n",
    "incomes = norm(range(N_BINS_INCOME))\n",
    "colors_income = []\n",
    "\n",
    "for income_ in incomes:\n",
    "    colors_income.append(cmap_custom(income_))\n",
    "\n",
    "\n",
    "p1 = axes[0].bar(ind[0:N_TICKS_DISPLAY - 1], ticks_income_penetration_acc[:, 0][0:N_TICKS_DISPLAY - 1] * 100, \\\n",
    "                 width, color=colors_income[0])\n",
    "\n",
    "for bin_ in range(1, N_BINS_INCOME, 1):\n",
    "    p2 = axes[0].bar(ind[0:N_TICKS_DISPLAY - 1], \\\n",
    "                     ticks_income_penetration_acc[:, bin_][0:N_TICKS_DISPLAY - 1] * 100, \\\n",
    "                     width, color=colors_income[bin_], \\\n",
    "                  bottom=ticks_income_penetration_acc[:, bin_ - 1][0:N_TICKS_DISPLAY - 1] * 100)\n",
    "\n",
    "\n",
    "axes[0].set_xlabel(\"Time\")\n",
    "axes[0].set_ylabel(\"Accumulated % installations\")\n",
    "axes[0].set_title('Accumulated % installations \\n by the level \\n of income', fontsize=10)\n",
    "\n",
    "\n",
    "elects = norm(range(N_BINS_ELECT))\n",
    "colors_elect = []\n",
    "\n",
    "\n",
    "\n",
    "for elect_ in elects:\n",
    "    colors_elect.append(cmap_custom(elect_))\n",
    "\n",
    "\n",
    "p1 = axes[1].bar(ind[0:N_TICKS_DISPLAY - 1], ticks_elect_penetration_acc[:, 0][0:N_TICKS_DISPLAY - 1] * 100, \\\n",
    "                 width, color=colors_elect[0])\n",
    "\n",
    "for bin_ in range(1, N_BINS_ELECT, 1):\n",
    "    p2 = axes[1].bar(ind[0:N_TICKS_DISPLAY - 1], ticks_elect_penetration_acc[:, bin_][0:N_TICKS_DISPLAY - 1] * 100, \\\n",
    "                     width, color=colors_income[bin_], \\\n",
    "                  bottom=ticks_elect_penetration_acc[:, bin_ - 1][0:N_TICKS_DISPLAY - 1] * 100)\n",
    "\n",
    "\n",
    "    \n",
    "axes[1].set_xlabel(\"Time\")\n",
    "axes[1].set_ylabel(\"Accumulated % installations\")\n",
    "axes[1].set_title('Accumulated % installations \\n by the level \\n of electricity consumption', fontsize=10)\n",
    "    \n",
    "\n",
    "plt.tight_layout()\n",
    "plt.savefig('Simulation_results_dist_' + data_mode + '.png', dpi=300)\n",
    "plt.show()\n"
   ]
  },
  {
   "cell_type": "code",
   "execution_count": null,
   "metadata": {
    "collapsed": true
   },
   "outputs": [],
   "source": []
  },
  {
   "cell_type": "code",
   "execution_count": null,
   "metadata": {
    "collapsed": true
   },
   "outputs": [],
   "source": []
  },
  {
   "cell_type": "code",
   "execution_count": null,
   "metadata": {
    "collapsed": true
   },
   "outputs": [],
   "source": []
  },
  {
   "cell_type": "code",
   "execution_count": null,
   "metadata": {
    "collapsed": true
   },
   "outputs": [],
   "source": []
  },
  {
   "cell_type": "code",
   "execution_count": null,
   "metadata": {
    "collapsed": true
   },
   "outputs": [],
   "source": []
  },
  {
   "cell_type": "code",
   "execution_count": null,
   "metadata": {
    "collapsed": true
   },
   "outputs": [],
   "source": []
  },
  {
   "cell_type": "code",
   "execution_count": null,
   "metadata": {
    "collapsed": true
   },
   "outputs": [],
   "source": []
  },
  {
   "cell_type": "code",
   "execution_count": null,
   "metadata": {
    "collapsed": true
   },
   "outputs": [],
   "source": []
  },
  {
   "cell_type": "code",
   "execution_count": null,
   "metadata": {
    "collapsed": true
   },
   "outputs": [],
   "source": []
  },
  {
   "cell_type": "code",
   "execution_count": null,
   "metadata": {
    "collapsed": true
   },
   "outputs": [],
   "source": []
  },
  {
   "cell_type": "markdown",
   "metadata": {},
   "source": [
    "## How to draw graphs below\n",
    "[1](http://matplotlib.org/1.4.1/examples/ticks_and_spines/spines_demo_bounds.html)\n",
    "[2](http://matplotlib.org/1.4.1/examples/pylab_examples/multiple_yaxis_with_spines.html)\n",
    "[3](http://matplotlib.org/api/markers_api.html#module-matplotlib.markers)\n",
    "[4](http://matplotlib.org/api/axes_api.html#matplotlib.axes.Axes.plot)"
   ]
  },
  {
   "cell_type": "markdown",
   "metadata": {},
   "source": [
    "## Dynamics of installations"
   ]
  },
  {
   "cell_type": "code",
   "execution_count": 25,
   "metadata": {
    "collapsed": false
   },
   "outputs": [
    {
     "data": {
      "image/png": "[encoded data removed]",
      "text/plain": [
       "<matplotlib.figure.Figure at 0x239286ca940>"
      ]
     },
     "metadata": {},
     "output_type": "display_data"
    }
   ],
   "source": [
    "\n",
    "\n",
    "fig, host = plt.subplots()\n",
    "fig.subplots_adjust(right=0.85)\n",
    "\n",
    "par1 = host.twinx()\n",
    "\n",
    "\n",
    "p1, = host.plot(df.index.values[0:N_TICKS_DISPLAY], df['N_installed'][0:N_TICKS_DISPLAY]/1000*100, \"g-\", label=\"% installations\")\n",
    "p2, = par1.plot(df.index.values[0:N_TICKS_DISPLAY], df['sei_0'][0:N_TICKS_DISPLAY], \"ro\", label=r'$er\\pm 2\\sigma$')\n",
    "p3, = par1.plot(df.index.values[0:N_TICKS_DISPLAY], df['sei_1'][0:N_TICKS_DISPLAY], \"r.\", label=r'$el\\pm 2\\sigma$')\n",
    "p4, = par1.plot(df.index.values[0:N_TICKS_DISPLAY], df['sei_2'][0:N_TICKS_DISPLAY], \"r*\", label=r'$el\\pm 2\\sigma$')\n",
    "\n",
    "par1.fill_between(df.index.values[0:N_TICKS_DISPLAY], \n",
    "                  df['sei_0'][0:N_TICKS_DISPLAY]-2*df_std['sei_0'][0:N_TICKS_DISPLAY], \n",
    "                  df['sei_0'][0:N_TICKS_DISPLAY]+2*df_std['sei_0'][0:N_TICKS_DISPLAY], \n",
    "                  color='r', \n",
    "                  alpha=0.2)\n",
    "\n",
    "par1.fill_between(df.index.values[0:N_TICKS_DISPLAY], \n",
    "                  df['sei_1'][0:N_TICKS_DISPLAY]-2*df_std['sei_1'][0:N_TICKS_DISPLAY], \n",
    "                  df['sei_1'][0:N_TICKS_DISPLAY]+2*df_std['sei_1'][0:N_TICKS_DISPLAY], \n",
    "                  color='r', \n",
    "                  alpha=0.2)\n",
    "\n",
    "par1.fill_between(df.index.values[0:N_TICKS_DISPLAY], \n",
    "                  df['sei_2'][0:N_TICKS_DISPLAY]-2*df_std['sei_2'][0:N_TICKS_DISPLAY], \n",
    "                  df['sei_2'][0:N_TICKS_DISPLAY]+2*df_std['sei_2'][0:N_TICKS_DISPLAY], \n",
    "                  color='r', \n",
    "                  alpha=0.2)\n",
    "\n",
    "\n",
    "host.set_xlabel(\"Time\")\n",
    "host.set_ylabel(\"hit % installations\")\n",
    "par1.set_ylabel(\"Efficiency\")\n",
    "\n",
    "\n",
    "host.yaxis.label.set_color(p1.get_color())\n",
    "par1.yaxis.label.set_color(p2.get_color())\n",
    "\n",
    "\n",
    "tkw = dict(size=4, width=1.5)\n",
    "host.tick_params(axis='y', colors=p1.get_color(), **tkw)\n",
    "par1.tick_params(axis='y', colors=p2.get_color(), **tkw)\n",
    "host.tick_params(axis='x', **tkw)\n",
    "\n",
    "lines = [p1, p2, p3, p4]\n",
    "\n",
    "host.legend(lines, [l.get_label() for l in lines], fontsize='10', loc=2)\n",
    "plt.savefig('Simulation_results1_' + data_mode + '.png', dpi=300)\n",
    "plt.show()\n",
    "\n"
   ]
  },
  {
   "cell_type": "code",
   "execution_count": 26,
   "metadata": {
    "collapsed": false
   },
   "outputs": [
    {
     "data": {
      "image/png": "[encoded data removed]",
      "text/plain": [
       "<matplotlib.figure.Figure at 0x239285eeb70>"
      ]
     },
     "metadata": {},
     "output_type": "display_data"
    }
   ],
   "source": [
    "fig, host = plt.subplots()\n",
    "fig.subplots_adjust(right=0.85)\n",
    "\n",
    "par1 = host.twinx()\n",
    "\n",
    "\n",
    "p1, = host.plot(df.index.values[0:N_TICKS_DISPLAY], df['N_installed'][0:N_TICKS_DISPLAY]/1000*100, \"g-\", \\\n",
    "                label=r'$\\%\\ installations\\pm 2\\sigma$')\n",
    "p2, = par1.plot(df.index.values[0:N_TICKS_DISPLAY], df['P_av'][0:N_TICKS_DISPLAY], \"--bo\", label=r'$Price\\pm 2\\sigma$')\n",
    "\n",
    "#add +- 2 std\n",
    "host.fill_between(df.index.values[0:N_TICKS_DISPLAY], \n",
    "                  df['N_installed'][0:N_TICKS_DISPLAY]/1000*100-2*df_std['N_installed'][0:N_TICKS_DISPLAY]/1000*100, \n",
    "                  df['N_installed'][0:N_TICKS_DISPLAY]/1000*100+2*df_std['N_installed'][0:N_TICKS_DISPLAY]/1000*100, \n",
    "                  color='g', \n",
    "                  alpha=0.2)\n",
    "\n",
    "par1.fill_between(df.index.values[0:N_TICKS_DISPLAY], \n",
    "                 df['P_av'][0:N_TICKS_DISPLAY]-2*df_std['P_av'][0:N_TICKS_DISPLAY],\n",
    "                 df['P_av'][0:N_TICKS_DISPLAY]+2*df_std['P_av'][0:N_TICKS_DISPLAY],\n",
    "                  color='b', \n",
    "                  alpha=0.2)\n",
    "\n",
    "host.set_xlabel(\"Time\")\n",
    "host.set_ylabel(\"Hit % installations\")\n",
    "par1.set_ylabel(\"Price per watt\")\n",
    "\n",
    "\n",
    "host.yaxis.label.set_color(p1.get_color())\n",
    "par1.yaxis.label.set_color(p2.get_color())\n",
    "\n",
    "\n",
    "tkw = dict(size=4, width=1.5)\n",
    "host.tick_params(axis='y', colors=p1.get_color(), **tkw)\n",
    "par1.tick_params(axis='y', colors=p2.get_color(), **tkw)\n",
    "host.tick_params(axis='x', **tkw)\n",
    "\n",
    "lines = [p1, p2]\n",
    "\n",
    "host.legend(lines, [l.get_label() for l in lines], fontsize='8')\n",
    "plt.savefig('Simulation_results2_' + data_mode + '.png', dpi=300)\n",
    "plt.show()"
   ]
  },
  {
   "cell_type": "markdown",
   "metadata": {},
   "source": [
    "## SEI relative to an aggregate"
   ]
  },
  {
   "cell_type": "code",
   "execution_count": 27,
   "metadata": {
    "collapsed": false
   },
   "outputs": [
    {
     "data": {
      "image/png": "[encoded data removed]",
      "text/plain": [
       "<matplotlib.figure.Figure at 0x2392853cc88>"
      ]
     },
     "metadata": {},
     "output_type": "display_data"
    }
   ],
   "source": [
    "fig, axes = plt.subplots(nrows=1, ncols=2)\n",
    "fig.subplots_adjust(bottom=0.25)\n",
    "\n",
    "\n",
    "\n",
    "\n",
    "ind = np.arange(N_TICKS)    # the x locations for the groups\n",
    "width = 0.35       # the width of the bars: can also be len(x) sequence\n",
    "\n",
    "\n",
    "\n",
    "p1, = axes[0].plot(df.index.values[0:N_TICKS_DISPLAY], df['sem_max'][0:N_TICKS_DISPLAY], \"g-\", label=\"max\")    \n",
    "p2, = axes[0].plot(df.index.values[0:N_TICKS_DISPLAY], df['sei_0'][0:N_TICKS_DISPLAY], \"ro\", label=\"er\")\n",
    "p3, = axes[0].plot(df.index.values[0:N_TICKS_DISPLAY], df['sei_1'][0:N_TICKS_DISPLAY], \"r.\", label=\"el\")\n",
    "p4, = axes[0].plot(df.index.values[0:N_TICKS_DISPLAY], df['sei_2'][0:N_TICKS_DISPLAY], \"r*\", label=\"el\")\n",
    "\n",
    "\n",
    "axes[0].fill_between(df.index.values[0:N_TICKS_DISPLAY], \n",
    "                  df['sem_max'][0:N_TICKS_DISPLAY]-2*df_std['sem_max'][0:N_TICKS_DISPLAY], \n",
    "                  df['sem_max'][0:N_TICKS_DISPLAY]+2*df_std['sem_max'][0:N_TICKS_DISPLAY], \n",
    "                  color='g', \n",
    "                  alpha=0.2)\n",
    "\n",
    "axes[0].fill_between(df.index.values[0:N_TICKS_DISPLAY], \n",
    "                  df['sei_0'][0:N_TICKS_DISPLAY]-2*df_std['sei_0'][0:N_TICKS_DISPLAY], \n",
    "                  df['sei_0'][0:N_TICKS_DISPLAY]+2*df_std['sei_0'][0:N_TICKS_DISPLAY], \n",
    "                  color='r', \n",
    "                  alpha=0.2)\n",
    "\n",
    "axes[0].fill_between(df.index.values[0:N_TICKS_DISPLAY], \n",
    "                  df['sei_1'][0:N_TICKS_DISPLAY]-2*df_std['sei_1'][0:N_TICKS_DISPLAY], \n",
    "                  df['sei_1'][0:N_TICKS_DISPLAY]+2*df_std['sei_1'][0:N_TICKS_DISPLAY], \n",
    "                  color='r', \n",
    "                  alpha=0.2)\n",
    "\n",
    "axes[0].fill_between(df.index.values[0:N_TICKS_DISPLAY], \n",
    "                  df['sei_2'][0:N_TICKS_DISPLAY]-2*df_std['sei_2'][0:N_TICKS_DISPLAY], \n",
    "                  df['sei_2'][0:N_TICKS_DISPLAY]+2*df_std['sei_2'][0:N_TICKS_DISPLAY], \n",
    "                  color='r', \n",
    "                  alpha=0.2)\n",
    "\n",
    "\n",
    "lines = [p1, p2, p3, p4]\n",
    "axes[0].legend(lines, [l.get_label() for l in lines], fontsize='8', loc=2)\n",
    "\n",
    "axes[0].set_xlabel(\"Time\")\n",
    "axes[0].set_ylabel(\"Efficiency\")\n",
    "axes[0].set_title('Efficiency relative to the \\n maximum available', fontsize=10)\n",
    "\n",
    "\n",
    "agents_to_show = ['sem_rel_min'] + ['sei_rel_' + str(i) for i in range(3)]\n",
    "markers = [\"g-\", \"ro\", \"r.\", \"r*\"]\n",
    "colors = ['g', 'r', 'r', 'r']\n",
    "labels = [\"min\", \"er\", \"el\", \"el\"]\n",
    "i = 0\n",
    "lines = []\n",
    "\n",
    "for agent in agents_to_show:\n",
    "    pi, = axes[1].plot(df.index.values[0:N_TICKS_DISPLAY], df[agent][0:N_TICKS_DISPLAY], markers[i], label=labels[i])\n",
    "    lines.append(pi)\n",
    "    i = i + 1\n",
    "\n",
    "i = 0\n",
    "for agent in agents_to_show:\n",
    "    axes[1].fill_between(df.index.values[0:N_TICKS_DISPLAY], \n",
    "                  df[agent][0:N_TICKS_DISPLAY]-2*df_std[agent][0:N_TICKS_DISPLAY], \n",
    "                  df[agent][0:N_TICKS_DISPLAY]+2*df_std[agent][0:N_TICKS_DISPLAY], \n",
    "                  color=colors[i], \n",
    "                  alpha=0.2)\n",
    "    i = i + 1\n",
    " \n",
    "axes[1].legend(lines, [l.get_label() for l in lines], fontsize='8', loc=2)\n",
    "axes[1].set_xlabel(\"Time\")\n",
    "axes[1].set_ylabel(\"Reliability\")\n",
    "axes[1].set_title('Reliability relative to the \\n minimum available', fontsize=10)\n",
    "    \n",
    "\n",
    "plt.tight_layout()\n",
    "plt.savefig('Simulation_results_relatives_' + data_mode + '.png', dpi=300)\n",
    "plt.show()\n"
   ]
  },
  {
   "cell_type": "code",
   "execution_count": null,
   "metadata": {
    "collapsed": true
   },
   "outputs": [],
   "source": []
  },
  {
   "cell_type": "code",
   "execution_count": null,
   "metadata": {
    "collapsed": true
   },
   "outputs": [],
   "source": []
  },
  {
   "cell_type": "code",
   "execution_count": null,
   "metadata": {
    "collapsed": true
   },
   "outputs": [],
   "source": []
  },
  {
   "cell_type": "code",
   "execution_count": null,
   "metadata": {
    "collapsed": true
   },
   "outputs": [],
   "source": []
  },
  {
   "cell_type": "code",
   "execution_count": null,
   "metadata": {
    "collapsed": true
   },
   "outputs": [],
   "source": []
  },
  {
   "cell_type": "code",
   "execution_count": null,
   "metadata": {
    "collapsed": true
   },
   "outputs": [],
   "source": []
  }
 ],
 "metadata": {
  "anaconda-cloud": {},
  "kernelspec": {
   "display_name": "Python [default]",
   "language": "python",
   "name": "python3"
  },
  "language_info": {
   "codemirror_mode": {
    "name": "ipython",
    "version": 3
   },
   "file_extension": ".py",
   "mimetype": "text/x-python",
   "name": "python",
   "nbconvert_exporter": "python",
   "pygments_lexer": "ipython3",
   "version": "3.5.2"
  }
 },
 "nbformat": 4,
 "nbformat_minor": 0
}
